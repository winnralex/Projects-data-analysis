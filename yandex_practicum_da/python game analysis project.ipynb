{
 "cells": [
  {
   "cell_type": "markdown",
   "id": "00eba6ed",
   "metadata": {},
   "source": [
    "<font face='Liberation serif' size=3>\n",
    "    \n",
    "#### **Привет!** 👋\n",
    "\n",
    "Меня зовут Артем Пиляй. Я буду проверять проект «Секреты Темнолесья» 🧙‍♂️. Комментарии к проекту размещены в отдельных ячейках Markdown.\n",
    " \n",
    "<div class=\"alert alert-danger\">\n",
    "\n",
    "**Артём:** ⛔️ Такой комментарий **нужно исправить** обязательно, так как он критически влияет на успешное выполнение проекта.\n",
    "\n",
    "</div>\n",
    "\n",
    "<div class=\"alert alert-success\">\n",
    "\n",
    "**Артём:** ✅ Это главный комментарий, значит всё сделано хорошо. 😉 В таких комментариях также могут быть подсказки, как сделать проект ещё лучше.\n",
    "\n",
    "</div>\n",
    "\n",
    "<div class=\"alert alert-warning\">\n",
    "\n",
    "**Рекомендации** ⚠️ \n",
    "\n",
    "- Важно не перемещать и не удалять мои комментарии. Лучше отвечать на них по порядку, как в переписке, чтобы ускорить процесс проверки.\n",
    "- Если в процессе исследования возникнут вопросы, их всегда можно задать. Лучше оставлять их в ячейках Markdown. Шаблон оставил ниже. Подробнее о синтаксисе Markdown можно узнать в статье [Краткое руководство по Маркдауну](https://paulradzkov.com/2014/markdown_cheatsheet/?).\n",
    "</div>\n",
    "\n",
    "<div class=\"alert alert-info\">\n",
    "\n",
    "🏁 [Перейти к итогам ревью](#results)\n",
    "</div>\n",
    "\n",
    "\n",
    "**Поехали!** 🚀 👨‍🚀\n",
    "<a id=\"start\"></a>"
   ]
  },
  {
   "cell_type": "markdown",
   "id": "2ab57505",
   "metadata": {},
   "source": [
    "<div style=\"background-color:lavender; color:#black; text-align:left; padding:2%\">\n",
    "    \n",
    "#### **Александр:** 💬 Комментарий или вопрос в такой ячейке я точнно увижу."
   ]
  },
  {
   "cell_type": "markdown",
   "id": "e06910dd",
   "metadata": {
    "id": "e06910dd"
   },
   "source": [
    "# Проект спринта 7\n",
    "\n",
    "- Автор: Шуплецов Александр\n",
    "- Дата: 15.02.2025"
   ]
  },
  {
   "cell_type": "markdown",
   "id": "4149134c",
   "metadata": {
    "id": "4149134c"
   },
   "source": [
    "### Цели и задачи проекта\n",
    "\n",
    "Наша задача — познакомиться с данными, проверить их корректность и провести предобработку, получив необходимый срез данных."
   ]
  },
  {
   "cell_type": "markdown",
   "id": "728986ea",
   "metadata": {
    "id": "728986ea"
   },
   "source": [
    "### Описание данных\n",
    "\n",
    "Данные `/datasets/new_games.csv` содержат информацию о продажах игр разных жанров и платформ, а также пользовательские и экспертные оценки игр:\n",
    "- `Name` — название игры;\n",
    "- `Platform` — название платформы;\n",
    "- `Year of Release` — год выпуска игры;\n",
    "- `Genre` — жанр игры;\n",
    "- `NA sales` — продажи в Северной Америке (в миллионах проданных копий);\n",
    "- `EU sales` — продажи в Европе (в миллионах проданных копий);\n",
    "- `JP sales` — продажи в Японии (в миллионах проданных копий);\n",
    "- `Other sales` — продажи в других странах (в миллионах проданных копий);\n",
    "- `Critic Score` — оценка критиков (от 0 до 100);\n",
    "- `User Score` — оценка пользователей (от 0 до 10);\n",
    "- `Rating` — рейтинг организации ESRB (англ. Entertainment Software Rating Board). Эта ассоциация определяет рейтинг компьютерных игр и присваивает им подходящую возрастную категорию."
   ]
  },
  {
   "cell_type": "markdown",
   "id": "4fecaf95",
   "metadata": {
    "id": "4fecaf95"
   },
   "source": [
    "### Содержимое проекта\n",
    "\n",
    "<font color='#777778'>Перечислите основные шаги проекта или напишите оглавление. Используйте описание проекта, чтобы зафиксировать основные шаги.</font>\n",
    "\n",
    "1. Загрузка и знакомство с данными\n",
    "2. Проверка ошибок в данных и их предобработка\n",
    "3. Фильтрация данных\n",
    "4. Категоризация данных"
   ]
  },
  {
   "cell_type": "markdown",
   "id": "c37a048f",
   "metadata": {},
   "source": [
    "<div class=\"alert alert-success\">\n",
    "\n",
    "**Артём:** ✅ Хорошо. Видно, что  проработаны цели и задачи проекта, а также описание данных. Это важно для построения логичной структуры работы.\n",
    "\n",
    "Также здорово, что выделены этапы работы — это помогает легче следовать плану. Уверен, что с таким подходом проект получится качественным и информативным.\n",
    "</div>"
   ]
  },
  {
   "cell_type": "markdown",
   "id": "6f7d21d6",
   "metadata": {
    "id": "6f7d21d6"
   },
   "source": [
    "## 1. Загрузка данных и знакомство с ними\n",
    "\n",
    "- Загрузите необходимые библиотеки Python и данные датасета `/datasets/new_games.csv`.\n"
   ]
  },
  {
   "cell_type": "code",
   "execution_count": 1,
   "id": "962936ef",
   "metadata": {},
   "outputs": [],
   "source": [
    "# Импортируем библиотеки pandas и numpy\n",
    "import pandas as pd\n",
    "import numpy as np"
   ]
  },
  {
   "cell_type": "markdown",
   "id": "1307f63d",
   "metadata": {},
   "source": [
    "<div class=\"alert alert-success\">\n",
    "\n",
    "#### **Артём:** ✅ Правильно, что импортируешь библиотеки в начале проекта. Это помогает избежать повторного импорта и экономит время.\n",
    "    \n",
    "\n",
    "</div>"
   ]
  },
  {
   "cell_type": "code",
   "execution_count": 2,
   "id": "480878c5",
   "metadata": {},
   "outputs": [],
   "source": [
    "# Выгружаем данные из датасета new_games.csv в датафрейм games\n",
    "games = pd.read_csv('https://code.s3.yandex.net/datasets/new_games.csv')"
   ]
  },
  {
   "cell_type": "code",
   "execution_count": 3,
   "id": "e6d236e3",
   "metadata": {},
   "outputs": [],
   "source": [
    "# Сохраним изначальный датасет для сравнения с тем, который получился после предобработки\n",
    "original_games = games"
   ]
  },
  {
   "cell_type": "markdown",
   "id": "72f00329",
   "metadata": {},
   "source": [
    "<div class=\"alert alert-success\">\n",
    "\n",
    "#### **Артём:** ✅ Копию датафрейма лучше сделать так, чтобы не изменить первоначальный датафрейм. Для этого в конце пишем `.copy()`:\n",
    "\n",
    "```py\n",
    "новый_датафрейм = исходный_датафрейм.copy()\n",
    "```\n",
    "\n",
    "Метод `.copy()` в `pandas` создаёт полную копию датафрейма или его части. Без `.copy()`, строка создаст “представление”, а не отдельный объект. Это означает, что изменения в **новом** датафрейме могут непредсказуемо повлиять на **исходный** датафрейм, так как **новый** датафрейм будет ссылаться на ту же область памяти.\n",
    "\n",
    "Использование `.copy()` гарантирует, что **новый** датафрейм станет независимой копией и любые изменения в нём не затронут **исходный** датафрейм. Это особенно важно, если ты планируешь модифицировать **новый** датафрейм (например, менять значения, удалять строки и т. д.).\n",
    "\n",
    "</div>"
   ]
  },
  {
   "cell_type": "markdown",
   "id": "e0a8705f",
   "metadata": {
    "id": "e0a8705f"
   },
   "source": [
    "- Познакомьтесь с данными: выведите первые строки и результат метода `info()`.\n"
   ]
  },
  {
   "cell_type": "code",
   "execution_count": 4,
   "id": "d7c8eb4b",
   "metadata": {
    "id": "d7c8eb4b"
   },
   "outputs": [
    {
     "data": {
      "text/html": [
       "<div>\n",
       "<style scoped>\n",
       "    .dataframe tbody tr th:only-of-type {\n",
       "        vertical-align: middle;\n",
       "    }\n",
       "\n",
       "    .dataframe tbody tr th {\n",
       "        vertical-align: top;\n",
       "    }\n",
       "\n",
       "    .dataframe thead th {\n",
       "        text-align: right;\n",
       "    }\n",
       "</style>\n",
       "<table border=\"1\" class=\"dataframe\">\n",
       "  <thead>\n",
       "    <tr style=\"text-align: right;\">\n",
       "      <th></th>\n",
       "      <th>Name</th>\n",
       "      <th>Platform</th>\n",
       "      <th>Year of Release</th>\n",
       "      <th>Genre</th>\n",
       "      <th>NA sales</th>\n",
       "      <th>EU sales</th>\n",
       "      <th>JP sales</th>\n",
       "      <th>Other sales</th>\n",
       "      <th>Critic Score</th>\n",
       "      <th>User Score</th>\n",
       "      <th>Rating</th>\n",
       "    </tr>\n",
       "  </thead>\n",
       "  <tbody>\n",
       "    <tr>\n",
       "      <th>0</th>\n",
       "      <td>Wii Sports</td>\n",
       "      <td>Wii</td>\n",
       "      <td>2006.0</td>\n",
       "      <td>Sports</td>\n",
       "      <td>41.36</td>\n",
       "      <td>28.96</td>\n",
       "      <td>3.77</td>\n",
       "      <td>8.45</td>\n",
       "      <td>76.0</td>\n",
       "      <td>8</td>\n",
       "      <td>E</td>\n",
       "    </tr>\n",
       "    <tr>\n",
       "      <th>1</th>\n",
       "      <td>Super Mario Bros.</td>\n",
       "      <td>NES</td>\n",
       "      <td>1985.0</td>\n",
       "      <td>Platform</td>\n",
       "      <td>29.08</td>\n",
       "      <td>3.58</td>\n",
       "      <td>6.81</td>\n",
       "      <td>0.77</td>\n",
       "      <td>NaN</td>\n",
       "      <td>NaN</td>\n",
       "      <td>NaN</td>\n",
       "    </tr>\n",
       "    <tr>\n",
       "      <th>2</th>\n",
       "      <td>Mario Kart Wii</td>\n",
       "      <td>Wii</td>\n",
       "      <td>2008.0</td>\n",
       "      <td>Racing</td>\n",
       "      <td>15.68</td>\n",
       "      <td>12.76</td>\n",
       "      <td>3.79</td>\n",
       "      <td>3.29</td>\n",
       "      <td>82.0</td>\n",
       "      <td>8.3</td>\n",
       "      <td>E</td>\n",
       "    </tr>\n",
       "    <tr>\n",
       "      <th>3</th>\n",
       "      <td>Wii Sports Resort</td>\n",
       "      <td>Wii</td>\n",
       "      <td>2009.0</td>\n",
       "      <td>Sports</td>\n",
       "      <td>15.61</td>\n",
       "      <td>10.93</td>\n",
       "      <td>3.28</td>\n",
       "      <td>2.95</td>\n",
       "      <td>80.0</td>\n",
       "      <td>8</td>\n",
       "      <td>E</td>\n",
       "    </tr>\n",
       "    <tr>\n",
       "      <th>4</th>\n",
       "      <td>Pokemon Red/Pokemon Blue</td>\n",
       "      <td>GB</td>\n",
       "      <td>1996.0</td>\n",
       "      <td>Role-Playing</td>\n",
       "      <td>11.27</td>\n",
       "      <td>8.89</td>\n",
       "      <td>10.22</td>\n",
       "      <td>1.00</td>\n",
       "      <td>NaN</td>\n",
       "      <td>NaN</td>\n",
       "      <td>NaN</td>\n",
       "    </tr>\n",
       "  </tbody>\n",
       "</table>\n",
       "</div>"
      ],
      "text/plain": [
       "                       Name Platform  Year of Release         Genre  NA sales  \\\n",
       "0                Wii Sports      Wii           2006.0        Sports     41.36   \n",
       "1         Super Mario Bros.      NES           1985.0      Platform     29.08   \n",
       "2            Mario Kart Wii      Wii           2008.0        Racing     15.68   \n",
       "3         Wii Sports Resort      Wii           2009.0        Sports     15.61   \n",
       "4  Pokemon Red/Pokemon Blue       GB           1996.0  Role-Playing     11.27   \n",
       "\n",
       "  EU sales JP sales  Other sales  Critic Score User Score Rating  \n",
       "0    28.96     3.77         8.45          76.0          8      E  \n",
       "1     3.58     6.81         0.77           NaN        NaN    NaN  \n",
       "2    12.76     3.79         3.29          82.0        8.3      E  \n",
       "3    10.93     3.28         2.95          80.0          8      E  \n",
       "4     8.89    10.22         1.00           NaN        NaN    NaN  "
      ]
     },
     "execution_count": 4,
     "metadata": {},
     "output_type": "execute_result"
    }
   ],
   "source": [
    "# Выводим первые строки датафрейма на экран\n",
    "games.head()"
   ]
  },
  {
   "cell_type": "code",
   "execution_count": 5,
   "id": "3937acf7",
   "metadata": {
    "id": "3937acf7"
   },
   "outputs": [
    {
     "name": "stdout",
     "output_type": "stream",
     "text": [
      "<class 'pandas.core.frame.DataFrame'>\n",
      "RangeIndex: 16956 entries, 0 to 16955\n",
      "Data columns (total 11 columns):\n",
      " #   Column           Non-Null Count  Dtype  \n",
      "---  ------           --------------  -----  \n",
      " 0   Name             16954 non-null  object \n",
      " 1   Platform         16956 non-null  object \n",
      " 2   Year of Release  16681 non-null  float64\n",
      " 3   Genre            16954 non-null  object \n",
      " 4   NA sales         16956 non-null  float64\n",
      " 5   EU sales         16956 non-null  object \n",
      " 6   JP sales         16956 non-null  object \n",
      " 7   Other sales      16956 non-null  float64\n",
      " 8   Critic Score     8242 non-null   float64\n",
      " 9   User Score       10152 non-null  object \n",
      " 10  Rating           10085 non-null  object \n",
      "dtypes: float64(4), object(7)\n",
      "memory usage: 1.4+ MB\n"
     ]
    }
   ],
   "source": [
    "# Выводим информацию о датафрейме\n",
    "games.info()"
   ]
  },
  {
   "cell_type": "markdown",
   "id": "26267bc0",
   "metadata": {
    "id": "26267bc0"
   },
   "source": [
    "- Сделайте вывод о полученных данных: данные какого объёма вам предоставили, соответствуют ли они описанию, встречаются ли в них пропуски, используются ли верные типы данных.\n",
    "- Отметьте другие особенности данных, которые вы обнаружили и на которые стоит обратить внимание при предобработке. Например, вы можете проверить названия столбцов: все ли названия отражают содержимое данных и прописаны в удобном для работы виде."
   ]
  },
  {
   "cell_type": "markdown",
   "id": "2781afb7",
   "metadata": {},
   "source": [
    "Датасет `new_games.csv` содержит 11 стобцов и 16956 строк, в которых представлена информация о видеоиграх.\n",
    "\n",
    "Изучим типы данных и их корректность:\n",
    "    \n",
    "- **Булевые значения (bool).** Булевыми значениями столбцы в рассматриваемом датасете не представлены.\n",
    "- **Целочисленные значения (int64).** Целочисленными значениями столбцы в рассматриваемом датасете не представлены.\n",
    "- **Числовые значения с плавающей запятой (float64).** 4 столбца имеют тип `float64`: `Year of Release`, `NA sales`, `Other sales`, `Critic Score`.\n",
    "При этом стобцы `NA sales`, `Other sales`, `Critic Score` обоснованно имеют тип данных `float64`, так как содержат числовые значения с плавающей запятой, а вот столбец `Year of Release` нужно привести к типу `datetime64`, так как это год.\n",
    "- **Строковые данные (object).** 7 столбцов имеют тип данных `object`:\n",
    "    - `Platform`, `Genre`, `Name`  хранят текстовую информацию - название платформы, жанр и название игры, тип `object` подобран верно.\n",
    "    - `Rating` хранит информацию, которую можно представить типом `category`, так как рейтинг ESRB ограничен конкретным диапозоном значений. \n",
    "    - `EU sales`, `JP sales`, `User Score` хранят числа с плавающей запятой, нужно привести эти столбцы к типу `float64`.\n",
    "\n"
   ]
  },
  {
   "cell_type": "markdown",
   "id": "cd57a79a",
   "metadata": {},
   "source": [
    "<div class=\"alert alert-success\">\n",
    "\n",
    "**Артём:** ✅ Молодец. Качественное знакомство с данными помогает понять, какие дальнейшие шаги предпринять, а также формирует общее представление о предстоящей работе.\n",
    "    \n",
    "</div>"
   ]
  },
  {
   "cell_type": "markdown",
   "id": "774bf76e",
   "metadata": {
    "id": "774bf76e"
   },
   "source": [
    "---\n",
    "\n",
    "## 2.  Проверка ошибок в данных и их предобработка\n",
    "\n",
    "\n",
    "### 2.1. Названия, или метки, столбцов датафрейма\n",
    "\n",
    "- Выведите на экран названия всех столбцов датафрейма и проверьте их стиль написания.\n",
    "- Приведите все столбцы к стилю snake case. Названия должны быть в нижнем регистре, а вместо пробелов — подчёркивания."
   ]
  },
  {
   "cell_type": "code",
   "execution_count": 6,
   "id": "b9276a2b",
   "metadata": {
    "id": "b9276a2b"
   },
   "outputs": [
    {
     "data": {
      "text/plain": [
       "Index(['Name', 'Platform', 'Year of Release', 'Genre', 'NA sales', 'EU sales',\n",
       "       'JP sales', 'Other sales', 'Critic Score', 'User Score', 'Rating'],\n",
       "      dtype='object')"
      ]
     },
     "execution_count": 6,
     "metadata": {},
     "output_type": "execute_result"
    }
   ],
   "source": [
    "# Выведем все названия столбцов датафрейма\n",
    "games.columns"
   ]
  },
  {
   "cell_type": "code",
   "execution_count": 7,
   "id": "d554563c",
   "metadata": {
    "id": "d554563c"
   },
   "outputs": [
    {
     "data": {
      "text/plain": [
       "Index(['name', 'platform', 'year_of_release', 'genre', 'na_sales', 'eu_sales',\n",
       "       'jp_sales', 'other_sales', 'critic_score', 'user_score', 'rating'],\n",
       "      dtype='object')"
      ]
     },
     "execution_count": 7,
     "metadata": {},
     "output_type": "execute_result"
    }
   ],
   "source": [
    "# Приведем все столбцы к стилю snake case\n",
    "games.columns = games.columns.str.replace(' ', '_').str.lower()\n",
    "games.columns"
   ]
  },
  {
   "cell_type": "markdown",
   "id": "7f0e2d1a",
   "metadata": {},
   "source": [
    "<div class=\"alert alert-success\">\n",
    "\n",
    "#### **Артём:** ✅ Все верно. Но если нужно исправить названия столбцов и избежать ошибоку очередности столбцов, всегда можно воспользоваться методом `rename`.\n",
    "    \n",
    "    \n",
    "    \n",
    "</div>"
   ]
  },
  {
   "cell_type": "markdown",
   "id": "41bc6bf8",
   "metadata": {
    "id": "41bc6bf8"
   },
   "source": [
    "### 2.2. Типы данных\n",
    "\n",
    "- Если встречаются некорректные типы данных, предположите их причины.\n",
    "- При необходимости проведите преобразование типов данных. Помните, что столбцы с числовыми данными и пропусками нельзя преобразовать к типу `int64`. Сначала вам понадобится обработать пропуски, а затем преобразовать типы данных."
   ]
  },
  {
   "cell_type": "markdown",
   "id": "73c8d7da",
   "metadata": {
    "id": "63378edf"
   },
   "source": [
    "- В числовых столбцах могут встретиться строковые значения, например `unknown` или другие. Приводите такие столбцы к числовому типу данных, заменив строковые значения на пропуски."
   ]
  },
  {
   "cell_type": "markdown",
   "id": "f7ff0991",
   "metadata": {},
   "source": [
    "Проверим уникальные значения в стобцах с целью поиска значений, которые не могут быть переведены в тип `float64`."
   ]
  },
  {
   "cell_type": "code",
   "execution_count": 8,
   "id": "8adaac81",
   "metadata": {
    "id": "8adaac81"
   },
   "outputs": [
    {
     "data": {
      "text/plain": [
       "array(['28.96', '3.58', '12.76', '10.93', '8.89', '2.26', '9.14', '9.18',\n",
       "       '6.94', '0.63', '10.95', '7.47', '6.18', '8.03', '4.89', '8.49',\n",
       "       '9.09', '0.4', '3.75', '9.2', '4.46', '2.71', '3.44', '5.14',\n",
       "       '5.49', '3.9', '5.35', '3.17', '5.09', '4.24', '5.04', '5.86',\n",
       "       '3.68', '4.19', '5.73', '3.59', '4.51', '2.55', '4.02', '4.37',\n",
       "       '6.31', '3.45', '2.81', '2.85', '3.49', '0.01', '3.35', '2.04',\n",
       "       '3.07', '3.87', '3.0', '4.82', '3.64', '2.15', '3.69', '2.65',\n",
       "       '2.56', '3.11', '3.14', '1.94', '1.95', '2.47', '2.28', '3.42',\n",
       "       '3.63', '2.36', '1.71', '1.85', '2.79', '1.24', '6.12', '1.53',\n",
       "       '3.47', '2.24', '5.01', '2.01', '1.72', '2.07', '6.42', '3.86',\n",
       "       '0.45', '3.48', '1.89', '5.75', '2.17', '1.37', '2.35', '1.18',\n",
       "       '2.11', '1.88', '2.83', '2.99', '2.89', '3.27', '2.22', '2.14',\n",
       "       '1.45', '1.75', '1.04', '1.77', '3.02', '2.75', '2.16', '1.9',\n",
       "       '2.59', '2.2', '4.3', '0.93', '2.53', '2.52', '1.79', '1.3', '2.6',\n",
       "       '1.58', '1.2', '1.56', '1.34', '1.26', '0.83', '6.21', '2.8',\n",
       "       '1.59', '1.73', '4.33', '1.83', '0.0', '2.18', '1.98', '1.47',\n",
       "       '0.67', '1.55', '1.91', '0.69', '0.6', '1.93', '1.64', '0.55',\n",
       "       '2.19', '1.11', '2.29', '2.5', '0.96', '1.21', '1.12', '0.77',\n",
       "       '1.69', '1.08', '0.79', '2.37', '2.46', '0.26', '0.75', '1.25',\n",
       "       '2.43', '0.98', '0.74', '2.23', '0.61', '2.45', '1.41', '1.8',\n",
       "       '3.28', '1.16', '1.99', '1.38', '1.36', '1.17', '1.19', '0.99',\n",
       "       '1.68', '2.0', '1.33', '1.57', '1.48', '2.1', '1.27', '1.97',\n",
       "       '0.91', '1.39', '1.96', '0.24', '1.51', '0.14', '1.29', '2.39',\n",
       "       '1.03', '0.5', '0.58', '1.31', '2.02', '1.32', '1.01', '2.27',\n",
       "       '2.3', '1.82', '2.78', '0.44', '0.48', '0.27', '0.21', '2.48',\n",
       "       '0.51', '1.52', '0.04', '0.28', '1.35', '0.87', '2.13', '1.13',\n",
       "       '1.76', '0.76', '2.12', '0.66', '1.6', '1.44', '1.43', '1.7',\n",
       "       '0.47', '1.87', '0.86', '0.73', '1.28', '0.81', '1.09', '0.68',\n",
       "       '1.22', '1.4', '1.02', '1.49', '1.14', '0.49', '0.9', '0.38',\n",
       "       '1.42', '0.95', '1.62', '0.71', '1.05', '0.92', '0.33', '0.3',\n",
       "       '1.67', '1.0', '0.89', '0.1', '0.72', '0.59', '0.56', '0.16',\n",
       "       '0.97', '0.62', 'unknown', '0.85', '0.94', '0.88', '0.84', '1.06',\n",
       "       '0.2', '1.15', '0.8', '1.1', '0.7', '1.92', '0.32', '0.15', '0.53',\n",
       "       '0.09', '1.46', '0.29', '0.22', '1.23', '0.07', '0.17', '0.54',\n",
       "       '0.36', '0.31', '1.84', '0.52', '0.11', '0.64', '0.12', '2.05',\n",
       "       '1.63', '0.82', '0.08', '0.57', '1.65', '0.19', '0.02', '0.43',\n",
       "       '0.25', '1.5', '0.18', '0.39', '0.13', '1.07', '0.46', '0.41',\n",
       "       '0.06', '0.03', '0.37', '0.05', '0.23', '0.65', '0.42', '0.34',\n",
       "       '0.35', '0.78'], dtype=object)"
      ]
     },
     "execution_count": 8,
     "metadata": {},
     "output_type": "execute_result"
    }
   ],
   "source": [
    "games['eu_sales'].unique()"
   ]
  },
  {
   "cell_type": "code",
   "execution_count": 9,
   "id": "637792d1",
   "metadata": {
    "scrolled": true
   },
   "outputs": [
    {
     "data": {
      "text/plain": [
       "array(['3.77', '6.81', '3.79', '3.28', '10.22', '4.22', '6.5', '2.93',\n",
       "       '4.7', '0.28', '1.93', '4.13', '7.2', '3.6', '0.24', '2.53',\n",
       "       '0.98', '0.41', '3.54', '4.16', '6.04', '4.18', '3.84', '0.06',\n",
       "       '0.47', '5.38', '5.32', '5.65', '1.87', '0.13', '3.12', '0.36',\n",
       "       '0.11', '4.35', '0.65', '0.07', '0.08', '0.49', '0.3', '2.66',\n",
       "       '2.69', '0.48', '0.38', '5.33', '1.91', '3.96', '3.1', '1.1',\n",
       "       '1.2', '0.14', '2.54', '2.14', '0.81', '2.12', '0.44', '3.15',\n",
       "       '1.25', '0.04', '0.0', '2.47', '2.23', '1.69', '0.01', '3.0',\n",
       "       '0.02', '4.39', '1.98', '0.1', '3.81', '0.05', '2.49', '1.58',\n",
       "       '3.14', '2.73', '0.66', '0.22', '3.63', '1.45', '1.31', '2.43',\n",
       "       '0.7', '0.35', '1.4', '0.6', '2.26', '1.42', '1.28', '1.39',\n",
       "       '0.87', '0.17', '0.94', '0.19', '0.21', '1.6', '0.16', '1.03',\n",
       "       '0.25', '2.06', '1.49', '1.29', '0.09', '2.87', '0.03', '0.78',\n",
       "       '0.83', '2.33', '2.02', '1.36', '1.81', '1.97', '0.91', '0.99',\n",
       "       '0.95', '2.0', '1.01', '2.78', '2.11', '1.09', '0.2', '1.9',\n",
       "       '1.27', '3.61', '1.57', '2.2', '1.7', '1.08', '0.15', '1.11',\n",
       "       '0.29', '1.54', '0.12', '0.89', '4.87', '1.52', '1.32', '1.15',\n",
       "       '4.1', '1.46', '0.46', '1.05', '1.61', '0.26', '1.38', '0.62',\n",
       "       '0.73', '0.57', '0.31', '0.58', '1.76', '2.1', '0.9', '0.51',\n",
       "       '0.64', '2.46', '0.23', '0.37', '0.92', '1.07', '2.62', '1.12',\n",
       "       '0.54', '0.27', '0.59', '3.67', '0.55', '1.75', '3.44', '0.33',\n",
       "       '2.55', '2.32', '2.79', '0.74', '3.18', '0.82', '0.77', '0.4',\n",
       "       '2.35', '3.19', '0.8', '0.76', '3.03', '0.88', 'unknown', '0.45',\n",
       "       '1.16', '0.34', '1.19', '1.13', '2.13', '1.96', '0.71', '1.04',\n",
       "       '2.68', '0.68', '2.65', '0.96', '2.41', '0.52', '0.18', '1.34',\n",
       "       '1.48', '2.34', '1.06', '1.21', '2.29', '1.63', '2.05', '2.17',\n",
       "       '1.56', '1.35', '1.33', '0.63', '0.79', '0.75', '0.53', '1.53',\n",
       "       '1.3', '0.39', '0.69', '0.42', '0.93', '0.56', '0.84', '0.72',\n",
       "       '0.32', '1.71', '1.65', '0.61', '1.51', '1.5', '1.44', '1.24',\n",
       "       '1.18', '1.37', '1.0', '1.26', '0.85', '0.43', '0.67', '1.14',\n",
       "       '0.86', '1.17', '0.5', '1.02', '0.97'], dtype=object)"
      ]
     },
     "execution_count": 9,
     "metadata": {},
     "output_type": "execute_result"
    }
   ],
   "source": [
    "games['jp_sales'].unique()"
   ]
  },
  {
   "cell_type": "code",
   "execution_count": 10,
   "id": "d5f09890",
   "metadata": {},
   "outputs": [
    {
     "data": {
      "text/plain": [
       "array(['8', nan, '8.3', '8.5', '6.6', '8.4', '8.6', '7.7', '6.3', '7.4',\n",
       "       '8.2', '9', '7.9', '8.1', '8.7', '7.1', '3.4', '5.3', '4.8', '3.2',\n",
       "       '8.9', '6.4', '7.8', '7.5', '2.6', '7.2', '9.2', '7', '7.3', '4.3',\n",
       "       '7.6', '5.7', '5', '9.1', '6.5', 'tbd', '8.8', '6.9', '9.4', '6.8',\n",
       "       '6.1', '6.7', '5.4', '4', '4.9', '4.5', '9.3', '6.2', '4.2', '6',\n",
       "       '3.7', '4.1', '5.8', '5.6', '5.5', '4.4', '4.6', '5.9', '3.9',\n",
       "       '3.1', '2.9', '5.2', '3.3', '4.7', '5.1', '3.5', '2.5', '1.9', '3',\n",
       "       '2.7', '2.2', '2', '9.5', '2.1', '3.6', '2.8', '1.8', '3.8', '0',\n",
       "       '1.6', '9.6', '2.4', '1.7', '1.1', '0.3', '1.5', '0.7', '1.2',\n",
       "       '2.3', '0.5', '1.3', '0.2', '0.6', '1.4', '0.9', '1', '9.7'],\n",
       "      dtype=object)"
      ]
     },
     "execution_count": 10,
     "metadata": {},
     "output_type": "execute_result"
    }
   ],
   "source": [
    "games['user_score'].unique()"
   ]
  },
  {
   "cell_type": "code",
   "execution_count": 11,
   "id": "8af0b758",
   "metadata": {},
   "outputs": [],
   "source": [
    "# Заменим значения, которые мешают нам преобразовать данные в формат float64 на пропуски\n",
    "games['eu_sales'] = games['eu_sales'].replace('unknown', np.nan)\n",
    "games['jp_sales'] = games['jp_sales'].replace('unknown', np.nan)\n",
    "games['user_score'] = games['user_score'].replace('tbd', np.nan)"
   ]
  },
  {
   "cell_type": "code",
   "execution_count": 12,
   "id": "87c0498e",
   "metadata": {},
   "outputs": [],
   "source": [
    "# Преобразовываем тип данных столбца year_of_release к типу datetime64 и выделим год\n",
    "games['year_of_release'] = pd.to_datetime(games['year_of_release'], format='%Y', errors='coerce')"
   ]
  },
  {
   "cell_type": "markdown",
   "id": "ced03497",
   "metadata": {},
   "source": [
    "<div class=\"alert alert-success\">\n",
    "\n",
    "#### **Артём:** ✅ Здесь только год, так что больше подходит целочисленный тип.\n",
    "    \n",
    "</div>"
   ]
  },
  {
   "cell_type": "code",
   "execution_count": 13,
   "id": "f60044c4",
   "metadata": {},
   "outputs": [],
   "source": [
    "# Преобразовываем тип данных стобцов eu_sales, jp_sales, user_score к типу float64\n",
    "games[['eu_sales', 'jp_sales', 'user_score']] = games[['eu_sales', 'jp_sales', 'user_score']].astype('float64')"
   ]
  },
  {
   "cell_type": "code",
   "execution_count": 14,
   "id": "4f3ed559",
   "metadata": {
    "scrolled": true
   },
   "outputs": [
    {
     "data": {
      "text/plain": [
       "array(['E', nan, 'M', 'T', 'E10+', 'K-A', 'AO', 'EC', 'RP'], dtype=object)"
      ]
     },
     "execution_count": 14,
     "metadata": {},
     "output_type": "execute_result"
    }
   ],
   "source": [
    "# Убедимся, что значения рейтинга действительно ограничены\n",
    "games['rating'].unique()"
   ]
  },
  {
   "cell_type": "code",
   "execution_count": 15,
   "id": "75d862e9",
   "metadata": {},
   "outputs": [],
   "source": [
    "# Преобразуем столбец rating в тип категория\n",
    "games['rating'] = games['rating'].astype('category')"
   ]
  },
  {
   "cell_type": "code",
   "execution_count": 16,
   "id": "037536bb",
   "metadata": {},
   "outputs": [
    {
     "name": "stdout",
     "output_type": "stream",
     "text": [
      "<class 'pandas.core.frame.DataFrame'>\n",
      "RangeIndex: 16956 entries, 0 to 16955\n",
      "Data columns (total 11 columns):\n",
      " #   Column           Non-Null Count  Dtype         \n",
      "---  ------           --------------  -----         \n",
      " 0   name             16954 non-null  object        \n",
      " 1   platform         16956 non-null  object        \n",
      " 2   year_of_release  16681 non-null  datetime64[ns]\n",
      " 3   genre            16954 non-null  object        \n",
      " 4   na_sales         16956 non-null  float64       \n",
      " 5   eu_sales         16950 non-null  float64       \n",
      " 6   jp_sales         16952 non-null  float64       \n",
      " 7   other_sales      16956 non-null  float64       \n",
      " 8   critic_score     8242 non-null   float64       \n",
      " 9   user_score       7688 non-null   float64       \n",
      " 10  rating           10085 non-null  category      \n",
      "dtypes: category(1), datetime64[ns](1), float64(6), object(3)\n",
      "memory usage: 1.3+ MB\n"
     ]
    }
   ],
   "source": [
    "# Проверим преобразования\n",
    "games.info()"
   ]
  },
  {
   "cell_type": "markdown",
   "id": "98dba3b4",
   "metadata": {},
   "source": [
    "<div class=\"alert alert-success\">\n",
    "\n",
    "**Артём:** ✅ Хорошо.\n",
    "    \n",
    "</div>"
   ]
  },
  {
   "cell_type": "markdown",
   "id": "b39893cb",
   "metadata": {
    "id": "b39893cb"
   },
   "source": [
    "### 2.3. Наличие пропусков в данных\n",
    "\n",
    "- Посчитайте количество пропусков в каждом столбце в абсолютных и относительных значениях.\n"
   ]
  },
  {
   "cell_type": "code",
   "execution_count": 17,
   "id": "12704833",
   "metadata": {
    "scrolled": false
   },
   "outputs": [
    {
     "data": {
      "text/plain": [
       "name                  2\n",
       "platform              0\n",
       "year_of_release     275\n",
       "genre                 2\n",
       "na_sales              0\n",
       "eu_sales              6\n",
       "jp_sales              4\n",
       "other_sales           0\n",
       "critic_score       8714\n",
       "user_score         9268\n",
       "rating             6871\n",
       "dtype: int64"
      ]
     },
     "execution_count": 17,
     "metadata": {},
     "output_type": "execute_result"
    }
   ],
   "source": [
    "# Выводим количество пропущенных строк в датафрейме в абсолютных значениях\n",
    "games.isna().sum()"
   ]
  },
  {
   "cell_type": "code",
   "execution_count": 18,
   "id": "0afb4521",
   "metadata": {
    "scrolled": false
   },
   "outputs": [
    {
     "data": {
      "text/plain": [
       "name                0.011795\n",
       "platform            0.000000\n",
       "year_of_release     1.621845\n",
       "genre               0.011795\n",
       "na_sales            0.000000\n",
       "eu_sales            0.035386\n",
       "jp_sales            0.023590\n",
       "other_sales         0.000000\n",
       "critic_score       51.391838\n",
       "user_score         54.659118\n",
       "rating             40.522529\n",
       "dtype: float64"
      ]
     },
     "execution_count": 18,
     "metadata": {},
     "output_type": "execute_result"
    }
   ],
   "source": [
    "# Подсчитываем процент строк с пропусками (количество пропусков в относительных значениях)\n",
    "games.isna().sum() / len(games) * 100"
   ]
  },
  {
   "cell_type": "markdown",
   "id": "24a90100",
   "metadata": {},
   "source": [
    "<div class=\"alert alert-success\">\n",
    "\n",
    "#### **Артём:** ✅  Лучше отсортировать значения - это упрощает восприятие этих данных и ускоряет знакомство с ними.\n",
    "    \n",
    "Я в целом за сортироку, где это уместно (например в графиках со временем - нет). Так мы видим то, что нас интересует первым. И уменьшаем шансы ошибиться, когда значения близки друг к другу.\n",
    "\n",
    "Такие мелочи экономят время и нервы.\n",
    "    \n",
    "Этот комментарий относится ко всему проекту.    "
   ]
  },
  {
   "cell_type": "markdown",
   "id": "cf796f51",
   "metadata": {
    "id": "cf796f51"
   },
   "source": [
    "- Изучите данные с пропущенными значениями. Напишите промежуточный вывод: для каких столбцов характерны пропуски и сколько их. Предположите, почему пропуски могли возникнуть. Укажите, какие действия с этими данными можно сделать и почему.\n"
   ]
  },
  {
   "cell_type": "markdown",
   "id": "b1d0e121",
   "metadata": {
    "id": "bd69e642"
   },
   "source": [
    "Два пропуска в колонке `name` - можно просто удалить эти две строки, так как эти данные нам никак не восстановить, а их влияние минимально.\n",
    "Пропуски в колонках `genre`, `year_of_release`, `eu_sales`, `jp_sales`, `critic_score`, `user_score`, `rating` можно оставить, методы pandas умеют игнорировать пропуски, поэтому они не повлияют на анализ."
   ]
  },
  {
   "cell_type": "markdown",
   "id": "bbbe3bda",
   "metadata": {
    "id": "bbbe3bda"
   },
   "source": [
    "- Обработайте пропущенные значения. Для каждого случая вы можете выбрать оптимальный, на ваш взгляд, вариант: заменить на определённое значение, оставить как есть или удалить.\n",
    "- Если вы решите заменить пропуски на значение-индикатор, то убедитесь, что предложенное значение не может быть использовано в данных.\n",
    "- Если вы нашли пропуски в данных с количеством проданных копий игры в том или ином регионе, их можно заменить на среднее значение в зависимости от названия платформы и года выхода игры."
   ]
  },
  {
   "cell_type": "code",
   "execution_count": 19,
   "id": "154be65d",
   "metadata": {
    "id": "154be65d"
   },
   "outputs": [],
   "source": [
    "games = games.dropna(subset=['name'])"
   ]
  },
  {
   "cell_type": "code",
   "execution_count": 20,
   "id": "e3b2cb9b",
   "metadata": {
    "scrolled": true
   },
   "outputs": [
    {
     "data": {
      "text/plain": [
       "name                  0\n",
       "platform              0\n",
       "year_of_release     275\n",
       "genre                 0\n",
       "na_sales              0\n",
       "eu_sales              6\n",
       "jp_sales              4\n",
       "other_sales           0\n",
       "critic_score       8712\n",
       "user_score         9266\n",
       "rating             6869\n",
       "dtype: int64"
      ]
     },
     "execution_count": 20,
     "metadata": {},
     "output_type": "execute_result"
    }
   ],
   "source": [
    "# Выводим количество пропущенных строк в датафрейме в абсолютных значениях\n",
    "games.isna().sum()"
   ]
  },
  {
   "cell_type": "markdown",
   "id": "029e88e4",
   "metadata": {},
   "source": [
    "Как можно заметить, из-за того, что мы убрали пропуски в `name`, были также удалены пропуски в `genre`."
   ]
  },
  {
   "cell_type": "markdown",
   "id": "3740c5af",
   "metadata": {},
   "source": [
    "<div class=\"alert alert-success\">\n",
    "\n",
    "**Артём:** ✅ Хорошо.\n",
    "    \n",
    "</div>"
   ]
  },
  {
   "cell_type": "markdown",
   "id": "a63363fd",
   "metadata": {
    "id": "a63363fd"
   },
   "source": [
    "### 2.4. Явные и неявные дубликаты в данных\n",
    "\n",
    "- Изучите уникальные значения в категориальных данных, например с названиями жанра игры, платформы, рейтинга и года выпуска. Проверьте, встречаются ли среди данных неявные дубликаты, связанные с опечатками или разным способом написания.\n",
    "- При необходимости проведите нормализацию данных с текстовыми значениями. Названия или жанры игр можно привести к нижнему регистру, а названия рейтинга — к верхнему."
   ]
  },
  {
   "cell_type": "code",
   "execution_count": 21,
   "id": "491c9c39",
   "metadata": {
    "id": "491c9c39"
   },
   "outputs": [
    {
     "data": {
      "text/plain": [
       "array(['Sports', 'Platform', 'Racing', 'Role-Playing', 'Puzzle', 'Misc',\n",
       "       'Shooter', 'Simulation', 'Action', 'Fighting', 'Adventure',\n",
       "       'Strategy', 'MISC', 'ROLE-PLAYING', 'RACING', 'ACTION', 'SHOOTER',\n",
       "       'FIGHTING', 'SPORTS', 'PLATFORM', 'ADVENTURE', 'SIMULATION',\n",
       "       'PUZZLE', 'STRATEGY'], dtype=object)"
      ]
     },
     "execution_count": 21,
     "metadata": {},
     "output_type": "execute_result"
    }
   ],
   "source": [
    "# Проверим уникальные значения в стоблце genre\n",
    "games['genre'].unique()"
   ]
  },
  {
   "cell_type": "code",
   "execution_count": 22,
   "id": "f1627198",
   "metadata": {
    "id": "f1627198"
   },
   "outputs": [
    {
     "data": {
      "text/plain": [
       "['E', NaN, 'M', 'T', 'E10+', 'K-A', 'AO', 'EC', 'RP']\n",
       "Categories (8, object): ['E', 'M', 'T', 'E10+', 'K-A', 'AO', 'EC', 'RP']"
      ]
     },
     "execution_count": 22,
     "metadata": {},
     "output_type": "execute_result"
    }
   ],
   "source": [
    "# Проверим уникальные значения в стоблце rating\n",
    "games['rating'].unique()"
   ]
  },
  {
   "cell_type": "markdown",
   "id": "df0cf42e",
   "metadata": {
    "id": "a0cac80c"
   },
   "source": [
    "В столбце `genre` можно заметить, что некоторые жанры игр повторяются в верхнем регистре, жанры игр приведем к нижнему регистру.\n",
    "В столбце `rating` присутствует значение `K-A`, которое эквивалентно значению `E` и обозначает игры, которые подходят для всех возрастов."
   ]
  },
  {
   "cell_type": "code",
   "execution_count": 23,
   "id": "370ee04c",
   "metadata": {
    "scrolled": true
   },
   "outputs": [
    {
     "name": "stderr",
     "output_type": "stream",
     "text": [
      "/tmp/ipykernel_677/1086032094.py:2: SettingWithCopyWarning: \n",
      "A value is trying to be set on a copy of a slice from a DataFrame.\n",
      "Try using .loc[row_indexer,col_indexer] = value instead\n",
      "\n",
      "See the caveats in the documentation: https://pandas.pydata.org/pandas-docs/stable/user_guide/indexing.html#returning-a-view-versus-a-copy\n",
      "  games['genre'] = games['genre'].str.lower()\n"
     ]
    },
    {
     "data": {
      "text/plain": [
       "array(['sports', 'platform', 'racing', 'role-playing', 'puzzle', 'misc',\n",
       "       'shooter', 'simulation', 'action', 'fighting', 'adventure',\n",
       "       'strategy'], dtype=object)"
      ]
     },
     "execution_count": 23,
     "metadata": {},
     "output_type": "execute_result"
    }
   ],
   "source": [
    "# Преобразуем данные genre к нижнему регистру\n",
    "games['genre'] = games['genre'].str.lower()\n",
    "games['genre'].unique()"
   ]
  },
  {
   "cell_type": "markdown",
   "id": "0861f024",
   "metadata": {},
   "source": [
    "<div class=\"alert alert-success\">\n",
    "\n",
    "#### **Артём:** ✅  Предупреждение возникает из-за отсутствия `copy` выше.\n",
    "</div>"
   ]
  },
  {
   "cell_type": "code",
   "execution_count": 24,
   "id": "2c91a0b7",
   "metadata": {
    "scrolled": false
   },
   "outputs": [
    {
     "name": "stderr",
     "output_type": "stream",
     "text": [
      "/tmp/ipykernel_677/3025372605.py:2: SettingWithCopyWarning: \n",
      "A value is trying to be set on a copy of a slice from a DataFrame.\n",
      "Try using .loc[row_indexer,col_indexer] = value instead\n",
      "\n",
      "See the caveats in the documentation: https://pandas.pydata.org/pandas-docs/stable/user_guide/indexing.html#returning-a-view-versus-a-copy\n",
      "  games['rating'] = games['rating'].str.replace('K-A', 'E')\n"
     ]
    },
    {
     "data": {
      "text/plain": [
       "array(['E', nan, 'M', 'T', 'E10+', 'AO', 'EC', 'RP'], dtype=object)"
      ]
     },
     "execution_count": 24,
     "metadata": {},
     "output_type": "execute_result"
    }
   ],
   "source": [
    "# Объединим значения K-A и E в столбце rating\n",
    "games['rating'] = games['rating'].str.replace('K-A', 'E')\n",
    "games['rating'].unique()"
   ]
  },
  {
   "cell_type": "markdown",
   "id": "0e238363",
   "metadata": {},
   "source": [
    "<div class=\"alert alert-success\">\n",
    "\n",
    "**Артём:** ✅ Здорово, знание предметной области всегда повышает ценность исследования (твою ценнсть) для бизнеса.\n",
    "\n",
    "</div>"
   ]
  },
  {
   "cell_type": "code",
   "execution_count": 25,
   "id": "e3f553b9",
   "metadata": {
    "scrolled": true
   },
   "outputs": [
    {
     "name": "stderr",
     "output_type": "stream",
     "text": [
      "/tmp/ipykernel_677/1993429959.py:2: SettingWithCopyWarning: \n",
      "A value is trying to be set on a copy of a slice from a DataFrame.\n",
      "Try using .loc[row_indexer,col_indexer] = value instead\n",
      "\n",
      "See the caveats in the documentation: https://pandas.pydata.org/pandas-docs/stable/user_guide/indexing.html#returning-a-view-versus-a-copy\n",
      "  games['rating'] = games['rating'].astype('category')\n"
     ]
    },
    {
     "data": {
      "text/plain": [
       "['E', NaN, 'M', 'T', 'E10+', 'AO', 'EC', 'RP']\n",
       "Categories (7, object): ['E', 'M', 'T', 'E10+', 'AO', 'EC', 'RP']"
      ]
     },
     "execution_count": 25,
     "metadata": {},
     "output_type": "execute_result"
    }
   ],
   "source": [
    "# Вернем столбцу rating тип категория\n",
    "games['rating'] = games['rating'].astype('category')\n",
    "games['rating'].unique()"
   ]
  },
  {
   "cell_type": "markdown",
   "id": "fc3d3db4",
   "metadata": {
    "id": "fc3d3db4"
   },
   "source": [
    "- После того как нормализуете данные и устраните неявные дубликаты, проверьте наличие явных дубликатов в данных."
   ]
  },
  {
   "cell_type": "code",
   "execution_count": 26,
   "id": "fc5c91b5",
   "metadata": {
    "id": "fc5c91b5"
   },
   "outputs": [
    {
     "data": {
      "text/plain": [
       "241"
      ]
     },
     "execution_count": 26,
     "metadata": {},
     "output_type": "execute_result"
    }
   ],
   "source": [
    "# Выведем число дубликатов\n",
    "games.duplicated().sum()"
   ]
  },
  {
   "cell_type": "markdown",
   "id": "70bc5b7e",
   "metadata": {},
   "source": [
    "<div class=\"alert alert-success\">\n",
    "\n",
    "**Артём:** ✅ Верно.\n",
    "\n",
    "</div>"
   ]
  },
  {
   "cell_type": "code",
   "execution_count": 27,
   "id": "2f61e076",
   "metadata": {
    "id": "2f61e076"
   },
   "outputs": [],
   "source": [
    "# Удалим все явные дубликаты\n",
    "games = games.drop_duplicates()"
   ]
  },
  {
   "cell_type": "code",
   "execution_count": 28,
   "id": "29e57705",
   "metadata": {
    "id": "29e57705"
   },
   "outputs": [
    {
     "data": {
      "text/plain": [
       "0"
      ]
     },
     "execution_count": 28,
     "metadata": {},
     "output_type": "execute_result"
    }
   ],
   "source": [
    "# Проверим, что все явные дубликаты были удалены\n",
    "games.duplicated().sum()"
   ]
  },
  {
   "cell_type": "markdown",
   "id": "54616bae",
   "metadata": {
    "id": "54616bae"
   },
   "source": [
    "- Напишите промежуточный вывод: укажите количество найденных дубликатов и действия по их обработке."
   ]
  },
  {
   "cell_type": "markdown",
   "id": "07d00ea2",
   "metadata": {
    "id": "0814c721"
   },
   "source": [
    "Были выявлены и обработаны неявные дубликаты в столбцах `genre` и `rating`.\n",
    "Были удалены явные дубликаты во всем датасете, их было 241."
   ]
  },
  {
   "cell_type": "markdown",
   "id": "72645ae9",
   "metadata": {
    "id": "72645ae9"
   },
   "source": [
    "- В процессе подготовки данных вы могли что-либо удалять, например строки с пропусками или ошибками, дубликаты и прочее. В этом случае посчитайте количество удалённых строк в абсолютном и относительном значениях."
   ]
  },
  {
   "cell_type": "code",
   "execution_count": 29,
   "id": "f9d8ee19",
   "metadata": {
    "id": "f9d8ee19"
   },
   "outputs": [
    {
     "data": {
      "text/plain": [
       "243"
      ]
     },
     "execution_count": 29,
     "metadata": {},
     "output_type": "execute_result"
    }
   ],
   "source": [
    "# Посчитаем абсолютное количество удаленных строк\n",
    "deleted_rows = original_games.shape[0] - games.shape[0]\n",
    "deleted_rows"
   ]
  },
  {
   "cell_type": "code",
   "execution_count": 30,
   "id": "3d7a9d8e",
   "metadata": {
    "id": "3d7a9d8e"
   },
   "outputs": [
    {
     "data": {
      "text/plain": [
       "0.014331210191082803"
      ]
     },
     "execution_count": 30,
     "metadata": {},
     "output_type": "execute_result"
    }
   ],
   "source": [
    "# Посчитаем долю удаленных строк\n",
    "deleted_rows / original_games.shape[0]"
   ]
  },
  {
   "cell_type": "code",
   "execution_count": 31,
   "id": "41ec372d",
   "metadata": {},
   "outputs": [
    {
     "name": "stdout",
     "output_type": "stream",
     "text": [
      "<class 'pandas.core.frame.DataFrame'>\n",
      "Int64Index: 16713 entries, 0 to 16955\n",
      "Data columns (total 11 columns):\n",
      " #   Column           Non-Null Count  Dtype         \n",
      "---  ------           --------------  -----         \n",
      " 0   name             16713 non-null  object        \n",
      " 1   platform         16713 non-null  object        \n",
      " 2   year_of_release  16444 non-null  datetime64[ns]\n",
      " 3   genre            16713 non-null  object        \n",
      " 4   na_sales         16713 non-null  float64       \n",
      " 5   eu_sales         16707 non-null  float64       \n",
      " 6   jp_sales         16709 non-null  float64       \n",
      " 7   other_sales      16713 non-null  float64       \n",
      " 8   critic_score     8137 non-null   float64       \n",
      " 9   user_score       7590 non-null   float64       \n",
      " 10  rating           9949 non-null   category      \n",
      "dtypes: category(1), datetime64[ns](1), float64(6), object(3)\n",
      "memory usage: 1.4+ MB\n"
     ]
    }
   ],
   "source": [
    "games.info()"
   ]
  },
  {
   "cell_type": "markdown",
   "id": "47613d75",
   "metadata": {
    "id": "47613d75"
   },
   "source": [
    "- После проведения предобработки данных напишите общий промежуточный вывод."
   ]
  },
  {
   "cell_type": "markdown",
   "id": "b422d0b7",
   "metadata": {
    "id": "5166fdf8"
   },
   "source": [
    "Была сделана предобработка данных. Очистили данные от всех явных дубликатов, от некоторых неявных дубликатов. Поменяли некоторые типы данных на более подходящие. Поработали с пропусками."
   ]
  },
  {
   "attachments": {
    "image.png": {
     "image/png": "[encoded data removed]"
    }
   },
   "cell_type": "markdown",
   "id": "92e803b3",
   "metadata": {},
   "source": [
    "<div class=\"alert alert-success\">\n",
    "\n",
    "#### **Артём:** ✅ Формально вывод написан, но его стоит сделать более детализированным. Качественное знакомство с данными помогает глубже понять их структуру и особенности, определить необходимые шаги для предобработки, а также сформировать общее представление о предстоящем анализе.\n",
    "\n",
    "Не забывай, что выводы (промежуточные, к графикам, к коду) являются важной частью проекта. Тимлид, проджект-оунер или любой, кто будет знакомиться с портфолио, оценивают не только технические навыки, но и умение четко и логично описывать результаты своей работы. Это один из ключевых навыков аналитика, и качество выводов может стать решающим фактором при принятии решения о найме или продолжении сотрудничества.\n",
    "    \n",
    "![image.png](attachment:image.png)    \n",
    "\n",
    "</div>"
   ]
  },
  {
   "cell_type": "markdown",
   "id": "613f0eb0",
   "metadata": {
    "id": "613f0eb0"
   },
   "source": [
    "---\n",
    "\n",
    "## 3. Фильтрация данных\n",
    "\n",
    "Коллеги хотят изучить историю продаж игр в начале XXI века, и их интересует период с 2000 по 2013 год включительно. Отберите данные по этому показателю. Сохраните новый срез данных в отдельном датафрейме, например `df_actual`."
   ]
  },
  {
   "cell_type": "code",
   "execution_count": 32,
   "id": "2344916d",
   "metadata": {
    "id": "2344916d"
   },
   "outputs": [
    {
     "data": {
      "text/html": [
       "<div>\n",
       "<style scoped>\n",
       "    .dataframe tbody tr th:only-of-type {\n",
       "        vertical-align: middle;\n",
       "    }\n",
       "\n",
       "    .dataframe tbody tr th {\n",
       "        vertical-align: top;\n",
       "    }\n",
       "\n",
       "    .dataframe thead th {\n",
       "        text-align: right;\n",
       "    }\n",
       "</style>\n",
       "<table border=\"1\" class=\"dataframe\">\n",
       "  <thead>\n",
       "    <tr style=\"text-align: right;\">\n",
       "      <th></th>\n",
       "      <th>name</th>\n",
       "      <th>platform</th>\n",
       "      <th>year_of_release</th>\n",
       "      <th>genre</th>\n",
       "      <th>na_sales</th>\n",
       "      <th>eu_sales</th>\n",
       "      <th>jp_sales</th>\n",
       "      <th>other_sales</th>\n",
       "      <th>critic_score</th>\n",
       "      <th>user_score</th>\n",
       "      <th>rating</th>\n",
       "    </tr>\n",
       "  </thead>\n",
       "  <tbody>\n",
       "    <tr>\n",
       "      <th>0</th>\n",
       "      <td>Wii Sports</td>\n",
       "      <td>Wii</td>\n",
       "      <td>2006-01-01</td>\n",
       "      <td>sports</td>\n",
       "      <td>41.36</td>\n",
       "      <td>28.96</td>\n",
       "      <td>3.77</td>\n",
       "      <td>8.45</td>\n",
       "      <td>76.0</td>\n",
       "      <td>8.0</td>\n",
       "      <td>E</td>\n",
       "    </tr>\n",
       "    <tr>\n",
       "      <th>2</th>\n",
       "      <td>Mario Kart Wii</td>\n",
       "      <td>Wii</td>\n",
       "      <td>2008-01-01</td>\n",
       "      <td>racing</td>\n",
       "      <td>15.68</td>\n",
       "      <td>12.76</td>\n",
       "      <td>3.79</td>\n",
       "      <td>3.29</td>\n",
       "      <td>82.0</td>\n",
       "      <td>8.3</td>\n",
       "      <td>E</td>\n",
       "    </tr>\n",
       "    <tr>\n",
       "      <th>3</th>\n",
       "      <td>Wii Sports Resort</td>\n",
       "      <td>Wii</td>\n",
       "      <td>2009-01-01</td>\n",
       "      <td>sports</td>\n",
       "      <td>15.61</td>\n",
       "      <td>10.93</td>\n",
       "      <td>3.28</td>\n",
       "      <td>2.95</td>\n",
       "      <td>80.0</td>\n",
       "      <td>8.0</td>\n",
       "      <td>E</td>\n",
       "    </tr>\n",
       "    <tr>\n",
       "      <th>6</th>\n",
       "      <td>New Super Mario Bros.</td>\n",
       "      <td>DS</td>\n",
       "      <td>2006-01-01</td>\n",
       "      <td>platform</td>\n",
       "      <td>11.28</td>\n",
       "      <td>9.14</td>\n",
       "      <td>6.50</td>\n",
       "      <td>2.88</td>\n",
       "      <td>89.0</td>\n",
       "      <td>8.5</td>\n",
       "      <td>E</td>\n",
       "    </tr>\n",
       "    <tr>\n",
       "      <th>7</th>\n",
       "      <td>Wii Play</td>\n",
       "      <td>Wii</td>\n",
       "      <td>2006-01-01</td>\n",
       "      <td>misc</td>\n",
       "      <td>13.96</td>\n",
       "      <td>9.18</td>\n",
       "      <td>2.93</td>\n",
       "      <td>2.84</td>\n",
       "      <td>58.0</td>\n",
       "      <td>6.6</td>\n",
       "      <td>E</td>\n",
       "    </tr>\n",
       "  </tbody>\n",
       "</table>\n",
       "</div>"
      ],
      "text/plain": [
       "                    name platform year_of_release     genre  na_sales  \\\n",
       "0             Wii Sports      Wii      2006-01-01    sports     41.36   \n",
       "2         Mario Kart Wii      Wii      2008-01-01    racing     15.68   \n",
       "3      Wii Sports Resort      Wii      2009-01-01    sports     15.61   \n",
       "6  New Super Mario Bros.       DS      2006-01-01  platform     11.28   \n",
       "7               Wii Play      Wii      2006-01-01      misc     13.96   \n",
       "\n",
       "   eu_sales  jp_sales  other_sales  critic_score  user_score rating  \n",
       "0     28.96      3.77         8.45          76.0         8.0      E  \n",
       "2     12.76      3.79         3.29          82.0         8.3      E  \n",
       "3     10.93      3.28         2.95          80.0         8.0      E  \n",
       "6      9.14      6.50         2.88          89.0         8.5      E  \n",
       "7      9.18      2.93         2.84          58.0         6.6      E  "
      ]
     },
     "execution_count": 32,
     "metadata": {},
     "output_type": "execute_result"
    }
   ],
   "source": [
    "# Отберем данные с 2000 по 2013 год, используя фильтрацию с логическими выражениями\n",
    "df_actual = games[(games['year_of_release'].dt.year >= 2000) & (games['year_of_release'].dt.year <= 2013)]\n",
    "df_actual.head()"
   ]
  },
  {
   "cell_type": "markdown",
   "id": "c65e9daa",
   "metadata": {},
   "source": [
    "<div class=\"alert alert-success\">\n",
    "\n",
    "#### **Артём:** ✅ Не хватает `copy` в остальном правильно.\n",
    "\n",
    "</div>"
   ]
  },
  {
   "cell_type": "markdown",
   "id": "a6f10b01",
   "metadata": {
    "id": "a6f10b01"
   },
   "source": [
    "---\n",
    "\n",
    "## 4. Категоризация данных\n",
    "    \n",
    "Проведите категоризацию данных:\n",
    "- Разделите все игры по оценкам пользователей и выделите такие категории: высокая оценка (от 8 до 10 включительно), средняя оценка (от 3 до 8, не включая правую границу интервала) и низкая оценка (от 0 до 3, не включая правую границу интервала)."
   ]
  },
  {
   "cell_type": "code",
   "execution_count": 33,
   "id": "3db87229",
   "metadata": {
    "id": "3db87229"
   },
   "outputs": [
    {
     "name": "stderr",
     "output_type": "stream",
     "text": [
      "/tmp/ipykernel_677/3660272059.py:2: SettingWithCopyWarning: \n",
      "A value is trying to be set on a copy of a slice from a DataFrame.\n",
      "Try using .loc[row_indexer,col_indexer] = value instead\n",
      "\n",
      "See the caveats in the documentation: https://pandas.pydata.org/pandas-docs/stable/user_guide/indexing.html#returning-a-view-versus-a-copy\n",
      "  df_actual['users_category'] = pd.cut(df_actual['user_score'], bins=[0, 3, 8, 11], labels=['Низкая оценка', 'Средняя оценка', 'Высокая оценка'], right=False)\n"
     ]
    },
    {
     "data": {
      "text/html": [
       "<div>\n",
       "<style scoped>\n",
       "    .dataframe tbody tr th:only-of-type {\n",
       "        vertical-align: middle;\n",
       "    }\n",
       "\n",
       "    .dataframe tbody tr th {\n",
       "        vertical-align: top;\n",
       "    }\n",
       "\n",
       "    .dataframe thead th {\n",
       "        text-align: right;\n",
       "    }\n",
       "</style>\n",
       "<table border=\"1\" class=\"dataframe\">\n",
       "  <thead>\n",
       "    <tr style=\"text-align: right;\">\n",
       "      <th></th>\n",
       "      <th>name</th>\n",
       "      <th>platform</th>\n",
       "      <th>year_of_release</th>\n",
       "      <th>genre</th>\n",
       "      <th>na_sales</th>\n",
       "      <th>eu_sales</th>\n",
       "      <th>jp_sales</th>\n",
       "      <th>other_sales</th>\n",
       "      <th>critic_score</th>\n",
       "      <th>user_score</th>\n",
       "      <th>rating</th>\n",
       "      <th>users_category</th>\n",
       "    </tr>\n",
       "  </thead>\n",
       "  <tbody>\n",
       "    <tr>\n",
       "      <th>0</th>\n",
       "      <td>Wii Sports</td>\n",
       "      <td>Wii</td>\n",
       "      <td>2006-01-01</td>\n",
       "      <td>sports</td>\n",
       "      <td>41.36</td>\n",
       "      <td>28.96</td>\n",
       "      <td>3.77</td>\n",
       "      <td>8.45</td>\n",
       "      <td>76.0</td>\n",
       "      <td>8.0</td>\n",
       "      <td>E</td>\n",
       "      <td>Высокая оценка</td>\n",
       "    </tr>\n",
       "    <tr>\n",
       "      <th>2</th>\n",
       "      <td>Mario Kart Wii</td>\n",
       "      <td>Wii</td>\n",
       "      <td>2008-01-01</td>\n",
       "      <td>racing</td>\n",
       "      <td>15.68</td>\n",
       "      <td>12.76</td>\n",
       "      <td>3.79</td>\n",
       "      <td>3.29</td>\n",
       "      <td>82.0</td>\n",
       "      <td>8.3</td>\n",
       "      <td>E</td>\n",
       "      <td>Высокая оценка</td>\n",
       "    </tr>\n",
       "    <tr>\n",
       "      <th>3</th>\n",
       "      <td>Wii Sports Resort</td>\n",
       "      <td>Wii</td>\n",
       "      <td>2009-01-01</td>\n",
       "      <td>sports</td>\n",
       "      <td>15.61</td>\n",
       "      <td>10.93</td>\n",
       "      <td>3.28</td>\n",
       "      <td>2.95</td>\n",
       "      <td>80.0</td>\n",
       "      <td>8.0</td>\n",
       "      <td>E</td>\n",
       "      <td>Высокая оценка</td>\n",
       "    </tr>\n",
       "    <tr>\n",
       "      <th>6</th>\n",
       "      <td>New Super Mario Bros.</td>\n",
       "      <td>DS</td>\n",
       "      <td>2006-01-01</td>\n",
       "      <td>platform</td>\n",
       "      <td>11.28</td>\n",
       "      <td>9.14</td>\n",
       "      <td>6.50</td>\n",
       "      <td>2.88</td>\n",
       "      <td>89.0</td>\n",
       "      <td>8.5</td>\n",
       "      <td>E</td>\n",
       "      <td>Высокая оценка</td>\n",
       "    </tr>\n",
       "    <tr>\n",
       "      <th>7</th>\n",
       "      <td>Wii Play</td>\n",
       "      <td>Wii</td>\n",
       "      <td>2006-01-01</td>\n",
       "      <td>misc</td>\n",
       "      <td>13.96</td>\n",
       "      <td>9.18</td>\n",
       "      <td>2.93</td>\n",
       "      <td>2.84</td>\n",
       "      <td>58.0</td>\n",
       "      <td>6.6</td>\n",
       "      <td>E</td>\n",
       "      <td>Средняя оценка</td>\n",
       "    </tr>\n",
       "  </tbody>\n",
       "</table>\n",
       "</div>"
      ],
      "text/plain": [
       "                    name platform year_of_release     genre  na_sales  \\\n",
       "0             Wii Sports      Wii      2006-01-01    sports     41.36   \n",
       "2         Mario Kart Wii      Wii      2008-01-01    racing     15.68   \n",
       "3      Wii Sports Resort      Wii      2009-01-01    sports     15.61   \n",
       "6  New Super Mario Bros.       DS      2006-01-01  platform     11.28   \n",
       "7               Wii Play      Wii      2006-01-01      misc     13.96   \n",
       "\n",
       "   eu_sales  jp_sales  other_sales  critic_score  user_score rating  \\\n",
       "0     28.96      3.77         8.45          76.0         8.0      E   \n",
       "2     12.76      3.79         3.29          82.0         8.3      E   \n",
       "3     10.93      3.28         2.95          80.0         8.0      E   \n",
       "6      9.14      6.50         2.88          89.0         8.5      E   \n",
       "7      9.18      2.93         2.84          58.0         6.6      E   \n",
       "\n",
       "   users_category  \n",
       "0  Высокая оценка  \n",
       "2  Высокая оценка  \n",
       "3  Высокая оценка  \n",
       "6  Высокая оценка  \n",
       "7  Средняя оценка  "
      ]
     },
     "execution_count": 33,
     "metadata": {},
     "output_type": "execute_result"
    }
   ],
   "source": [
    "# категоризируем значения с помощью метода pandas.cut, не включаем правые границы, поэтому разбиваем до 11\n",
    "df_actual['users_category'] = pd.cut(df_actual['user_score'], bins=[0, 3, 8, 11], labels=['Низкая оценка', 'Средняя оценка', 'Высокая оценка'], right=False)\n",
    "df_actual.head()"
   ]
  },
  {
   "cell_type": "markdown",
   "id": "f8f34b40",
   "metadata": {
    "id": "f8f34b40"
   },
   "source": [
    "- Разделите все игры по оценкам критиков и выделите такие категории: высокая оценка (от 80 до 100 включительно), средняя оценка (от 30 до 80, не включая правую границу интервала) и низкая оценка (от 0 до 30, не включая правую границу интервала)."
   ]
  },
  {
   "cell_type": "code",
   "execution_count": 34,
   "id": "e3f7acb0",
   "metadata": {
    "id": "e3f7acb0"
   },
   "outputs": [
    {
     "name": "stderr",
     "output_type": "stream",
     "text": [
      "/tmp/ipykernel_677/3222603861.py:2: SettingWithCopyWarning: \n",
      "A value is trying to be set on a copy of a slice from a DataFrame.\n",
      "Try using .loc[row_indexer,col_indexer] = value instead\n",
      "\n",
      "See the caveats in the documentation: https://pandas.pydata.org/pandas-docs/stable/user_guide/indexing.html#returning-a-view-versus-a-copy\n",
      "  df_actual['critics_category'] = pd.cut(df_actual['critic_score'], bins=[0, 30, 80, 101], labels=['Низкая оценка', 'Средняя оценка', 'Высокая оценка'], right=False)\n"
     ]
    },
    {
     "data": {
      "text/html": [
       "<div>\n",
       "<style scoped>\n",
       "    .dataframe tbody tr th:only-of-type {\n",
       "        vertical-align: middle;\n",
       "    }\n",
       "\n",
       "    .dataframe tbody tr th {\n",
       "        vertical-align: top;\n",
       "    }\n",
       "\n",
       "    .dataframe thead th {\n",
       "        text-align: right;\n",
       "    }\n",
       "</style>\n",
       "<table border=\"1\" class=\"dataframe\">\n",
       "  <thead>\n",
       "    <tr style=\"text-align: right;\">\n",
       "      <th></th>\n",
       "      <th>name</th>\n",
       "      <th>platform</th>\n",
       "      <th>year_of_release</th>\n",
       "      <th>genre</th>\n",
       "      <th>na_sales</th>\n",
       "      <th>eu_sales</th>\n",
       "      <th>jp_sales</th>\n",
       "      <th>other_sales</th>\n",
       "      <th>critic_score</th>\n",
       "      <th>user_score</th>\n",
       "      <th>rating</th>\n",
       "      <th>users_category</th>\n",
       "      <th>critics_category</th>\n",
       "    </tr>\n",
       "  </thead>\n",
       "  <tbody>\n",
       "    <tr>\n",
       "      <th>0</th>\n",
       "      <td>Wii Sports</td>\n",
       "      <td>Wii</td>\n",
       "      <td>2006-01-01</td>\n",
       "      <td>sports</td>\n",
       "      <td>41.36</td>\n",
       "      <td>28.96</td>\n",
       "      <td>3.77</td>\n",
       "      <td>8.45</td>\n",
       "      <td>76.0</td>\n",
       "      <td>8.0</td>\n",
       "      <td>E</td>\n",
       "      <td>Высокая оценка</td>\n",
       "      <td>Средняя оценка</td>\n",
       "    </tr>\n",
       "    <tr>\n",
       "      <th>2</th>\n",
       "      <td>Mario Kart Wii</td>\n",
       "      <td>Wii</td>\n",
       "      <td>2008-01-01</td>\n",
       "      <td>racing</td>\n",
       "      <td>15.68</td>\n",
       "      <td>12.76</td>\n",
       "      <td>3.79</td>\n",
       "      <td>3.29</td>\n",
       "      <td>82.0</td>\n",
       "      <td>8.3</td>\n",
       "      <td>E</td>\n",
       "      <td>Высокая оценка</td>\n",
       "      <td>Высокая оценка</td>\n",
       "    </tr>\n",
       "    <tr>\n",
       "      <th>3</th>\n",
       "      <td>Wii Sports Resort</td>\n",
       "      <td>Wii</td>\n",
       "      <td>2009-01-01</td>\n",
       "      <td>sports</td>\n",
       "      <td>15.61</td>\n",
       "      <td>10.93</td>\n",
       "      <td>3.28</td>\n",
       "      <td>2.95</td>\n",
       "      <td>80.0</td>\n",
       "      <td>8.0</td>\n",
       "      <td>E</td>\n",
       "      <td>Высокая оценка</td>\n",
       "      <td>Высокая оценка</td>\n",
       "    </tr>\n",
       "    <tr>\n",
       "      <th>6</th>\n",
       "      <td>New Super Mario Bros.</td>\n",
       "      <td>DS</td>\n",
       "      <td>2006-01-01</td>\n",
       "      <td>platform</td>\n",
       "      <td>11.28</td>\n",
       "      <td>9.14</td>\n",
       "      <td>6.50</td>\n",
       "      <td>2.88</td>\n",
       "      <td>89.0</td>\n",
       "      <td>8.5</td>\n",
       "      <td>E</td>\n",
       "      <td>Высокая оценка</td>\n",
       "      <td>Высокая оценка</td>\n",
       "    </tr>\n",
       "    <tr>\n",
       "      <th>7</th>\n",
       "      <td>Wii Play</td>\n",
       "      <td>Wii</td>\n",
       "      <td>2006-01-01</td>\n",
       "      <td>misc</td>\n",
       "      <td>13.96</td>\n",
       "      <td>9.18</td>\n",
       "      <td>2.93</td>\n",
       "      <td>2.84</td>\n",
       "      <td>58.0</td>\n",
       "      <td>6.6</td>\n",
       "      <td>E</td>\n",
       "      <td>Средняя оценка</td>\n",
       "      <td>Средняя оценка</td>\n",
       "    </tr>\n",
       "  </tbody>\n",
       "</table>\n",
       "</div>"
      ],
      "text/plain": [
       "                    name platform year_of_release     genre  na_sales  \\\n",
       "0             Wii Sports      Wii      2006-01-01    sports     41.36   \n",
       "2         Mario Kart Wii      Wii      2008-01-01    racing     15.68   \n",
       "3      Wii Sports Resort      Wii      2009-01-01    sports     15.61   \n",
       "6  New Super Mario Bros.       DS      2006-01-01  platform     11.28   \n",
       "7               Wii Play      Wii      2006-01-01      misc     13.96   \n",
       "\n",
       "   eu_sales  jp_sales  other_sales  critic_score  user_score rating  \\\n",
       "0     28.96      3.77         8.45          76.0         8.0      E   \n",
       "2     12.76      3.79         3.29          82.0         8.3      E   \n",
       "3     10.93      3.28         2.95          80.0         8.0      E   \n",
       "6      9.14      6.50         2.88          89.0         8.5      E   \n",
       "7      9.18      2.93         2.84          58.0         6.6      E   \n",
       "\n",
       "   users_category critics_category  \n",
       "0  Высокая оценка   Средняя оценка  \n",
       "2  Высокая оценка   Высокая оценка  \n",
       "3  Высокая оценка   Высокая оценка  \n",
       "6  Высокая оценка   Высокая оценка  \n",
       "7  Средняя оценка   Средняя оценка  "
      ]
     },
     "execution_count": 34,
     "metadata": {},
     "output_type": "execute_result"
    }
   ],
   "source": [
    "# категоризируем значения с помощью метода pandas.cut, не включаем правые границы, поэтому разбиваем до 101\n",
    "df_actual['critics_category'] = pd.cut(df_actual['critic_score'], bins=[0, 30, 80, 101], labels=['Низкая оценка', 'Средняя оценка', 'Высокая оценка'], right=False)\n",
    "df_actual.head()"
   ]
  },
  {
   "cell_type": "markdown",
   "id": "olkTlTlAUDR9",
   "metadata": {
    "id": "olkTlTlAUDR9"
   },
   "source": [
    "- После категоризации данных проверьте результат: сгруппируйте данные по выделенным категориям и посчитайте количество игр в каждой категории."
   ]
  },
  {
   "cell_type": "code",
   "execution_count": 35,
   "id": "HW0Nsp-4UMSL",
   "metadata": {
    "id": "HW0Nsp-4UMSL"
   },
   "outputs": [
    {
     "data": {
      "text/plain": [
       "users_category\n",
       "Низкая оценка      116\n",
       "Средняя оценка    4081\n",
       "Высокая оценка    2286\n",
       "Name: name, dtype: int64"
      ]
     },
     "execution_count": 35,
     "metadata": {},
     "output_type": "execute_result"
    }
   ],
   "source": [
    "df_actual.groupby('users_category')['name'].count()"
   ]
  },
  {
   "cell_type": "code",
   "execution_count": 36,
   "id": "x2ne0HIpUMMD",
   "metadata": {
    "id": "x2ne0HIpUMMD"
   },
   "outputs": [
    {
     "data": {
      "text/plain": [
       "critics_category\n",
       "Низкая оценка       55\n",
       "Средняя оценка    5422\n",
       "Высокая оценка    1692\n",
       "Name: name, dtype: int64"
      ]
     },
     "execution_count": 36,
     "metadata": {},
     "output_type": "execute_result"
    }
   ],
   "source": [
    "df_actual.groupby('critics_category')['name'].count()"
   ]
  },
  {
   "cell_type": "markdown",
   "id": "3614b338",
   "metadata": {},
   "source": [
    "<div class=\"alert alert-success\">\n",
    "\n",
    "**Артём:** ✅ Категоризация прошла успешно.\n",
    "\n",
    "</div>"
   ]
  },
  {
   "cell_type": "markdown",
   "id": "6a98444c",
   "metadata": {
    "id": "6a98444c"
   },
   "source": [
    "- Выделите топ-7 платформ по количеству игр, выпущенных за весь актуальный период."
   ]
  },
  {
   "cell_type": "code",
   "execution_count": 37,
   "id": "f240904a",
   "metadata": {
    "id": "f240904a"
   },
   "outputs": [
    {
     "data": {
      "text/plain": [
       "platform\n",
       "PS2     2127\n",
       "DS      2120\n",
       "Wii     1275\n",
       "PSP     1180\n",
       "X360    1121\n",
       "PS3     1087\n",
       "GBA      811\n",
       "Name: name, dtype: int64"
      ]
     },
     "execution_count": 37,
     "metadata": {},
     "output_type": "execute_result"
    }
   ],
   "source": [
    "# выведем топ платформ, используя группировку и nlargest(7)\n",
    "df_actual.groupby('platform')['name'].count().nlargest(7)"
   ]
  },
  {
   "cell_type": "markdown",
   "id": "44a8af6b",
   "metadata": {},
   "source": [
    "<div class=\"alert alert-success\">\n",
    "\n",
    "**Артём:** ✅ И здесь все правильно.\n",
    "\n",
    "</div>"
   ]
  },
  {
   "cell_type": "markdown",
   "id": "c0158881",
   "metadata": {
    "id": "c0158881"
   },
   "source": [
    "---\n",
    "\n",
    "## 5. Итоговый вывод\n",
    "\n",
    "В конце напишите основной вывод и отразите, какую работу проделали. Не забудьте указать описание среза данных и новых полей, которые добавили в исходный датасет."
   ]
  },
  {
   "cell_type": "markdown",
   "id": "f93940e9",
   "metadata": {
    "id": "9fe570b3"
   },
   "source": [
    "Я познакомился с данными, проверил их корректность и провел предобработку, получив необходимый срез данных. Были изучены данные с 2000 по 2013 год включительно. Я добавил поле `users_category`, которое отражает категорию пользовательской оценки. Низких оценок (от 0 до 2) меньше всего, высоких оценок (от 8 до 10) среднее количество, больше всего средних оценок (от 3 до 7). Также я добавил поле `critics_category`, которое отражает категорию оценки критиков. Низких оценок (от 0 до 29) меньше всего, высоких оценок (от 80 до 100) среднее количество, больше всего средних оценок (от 30 до 79). Также я выделил ТОП-7 платформ по количеству игр, заметно выделяются платформы PS2 и DS, они входят в ТОП-2 с достаточно большим отрывом от остальных платформ."
   ]
  },
  {
   "cell_type": "markdown",
   "id": "3f1b93c0",
   "metadata": {},
   "source": [
    "<div class=\"alert alert-success\">\n",
    "\n",
    "#### **Артём:** ✅  Вывод можно улучшить, сделав его более чётким и структурированным.\n",
    "    \n",
    "Так как может сложиться впечатление, что аналитик не уделил достаточного внимания оформлению результатов своей работы, что потенциально снижает их ценность для бизнеса.\n",
    "    \n",
    "\n",
    "\n",
    "💡 Перенос строки можено делать так:\n",
    "    \n",
    "Чтобы перенести текст на новую строку достаточно перенести текст и поставить два пробела в конце, с одним пробелом не сработает 👉  \n",
    "и текст на новой строке.\n",
    "\n",
    "Или пробел между строчками 👆.\n",
    "* Разбить на пункты\n",
    "* можно так.\n",
    "1. Или\n",
    "2. так.\n",
    "\n",
    "</div>"
   ]
  },
  {
   "cell_type": "markdown",
   "id": "ca700d4d",
   "metadata": {},
   "source": [
    "<img src=\"https://s19536.pcdn.co/wp-content/uploads/2020/06/Web-Great-Job.jpg\"> \n",
    "<div class=\"alert alert-success\">   \n",
    "\n",
    "#### **Артём:** ✌️ Александр, спасибо за хорошую работу! Критических замечаний нет.\n",
    "\n",
    "\n",
    "\n",
    "Если у тебя есть вопросы, их можно задать через куратора.\n",
    "    \n",
    "\n",
    "Поздравляю, **проект принят!** 🥳 🎉 Ты молодец!\n",
    "\n",
    "Желаю тебе успехов в дальнейшем обучении. 😉\n",
    "    \n",
    "---\n",
    "    \n",
    "#### 📖 **Полезные ссылки**\n",
    "\n",
    "* [Работа в Яндексе](https://yandex.ru/jobs/pages/analytics_interview?ysclid=l84s63fs1g790141490)\n",
    "* [Настройте свой Jupyter Notebook правильно](https://medium.com/nuances-of-programming/настройте-свой-jupyter-notebook-правильно-faef14c89434)    \n",
    "* [Краткое руководство по Маркдауну](https://paulradzkov.com/2014/markdown_cheatsheet/?)\n",
    "* [PEP 8 – Style Guide for Python Code](https://www.python.org/dev/peps/pep-0008/)    \n",
    "* [Обработка пропусков в данных](https://loginom.ru/blog/missing)  \n",
    "* [Разделение данных с помощью qcut и cut в Pandas](https://dfedorov.spb.ru/pandas/Разделение%20данных%20в%20Pandas%20с%20помощью%20qcut%20и%20cut.html?)  \n",
    "* [Официальная документаци метода qcut](https://pandas.pydata.org/pandas-docs/stable/reference/api/pandas.qcut.html)  \n",
    "* [Подробное руководство по группировке и агрегированию с помощью pandas](https://dfedorov.spb.ru/pandas/Подробное%20руководство%20по%20группировке%20и%20агрегированию%20с%20помощью%20pandas.html?ysclid=lcmm6rtg2w602526506)\n",
    "* [Проверка статистических гипотез. (21 мая 2020 г.)](https://allatambov.github.io/psms/pdf/hypo-test.pdf)    \n",
    "* [Шпаргалка по визуализации данных в Python с помощью Plotly](https://habr.com/ru/articles/502958/) \n",
    "* [Тест гигиены визуализации данных](https://bar-or-pie.dianov.org)    \n",
    "* [Задачки SQL](https://habr.com/ru/company/dcmiran/blog/500360/)    \n",
    "* [7 cайтов для оттачивания навыка написания SQL запросов на 2020 год](https://techrocks.ru/2019/11/22/7-sites-to-perfect-sql-query-writing-skills/)\n",
    "* [Главред помогает очистить текст от словесного мусора, проверяет на соответствие информационному стилю.](https://glvrd.ru)\n",
    "\n",
    "</div>    "
   ]
  },
  {
   "cell_type": "code",
   "execution_count": null,
   "id": "ed9ee282",
   "metadata": {},
   "outputs": [],
   "source": []
  }
 ],
 "metadata": {
  "ExecuteTimeLog": [
   {
    "duration": 437,
    "start_time": "2025-02-08T11:52:33.995Z"
   },
   {
    "duration": 112,
    "start_time": "2025-02-08T11:53:21.063Z"
   },
   {
    "duration": 100,
    "start_time": "2025-02-08T11:53:33.451Z"
   },
   {
    "duration": 16,
    "start_time": "2025-02-08T11:54:15.328Z"
   },
   {
    "duration": 21,
    "start_time": "2025-02-08T11:56:02.277Z"
   },
   {
    "duration": 106,
    "start_time": "2025-02-08T12:09:02.004Z"
   },
   {
    "duration": 12,
    "start_time": "2025-02-08T12:49:44.496Z"
   },
   {
    "duration": 8,
    "start_time": "2025-02-08T12:50:44.894Z"
   },
   {
    "duration": 15,
    "start_time": "2025-02-08T12:50:50.594Z"
   },
   {
    "duration": 14,
    "start_time": "2025-02-08T12:50:57.305Z"
   },
   {
    "duration": 14,
    "start_time": "2025-02-08T12:52:43.106Z"
   },
   {
    "duration": 13,
    "start_time": "2025-02-08T12:59:54.770Z"
   },
   {
    "duration": 426,
    "start_time": "2025-02-11T15:33:40.852Z"
   },
   {
    "duration": 107,
    "start_time": "2025-02-11T15:33:41.280Z"
   },
   {
    "duration": 21,
    "start_time": "2025-02-11T15:33:41.389Z"
   },
   {
    "duration": 32,
    "start_time": "2025-02-11T15:33:41.412Z"
   },
   {
    "duration": 29,
    "start_time": "2025-02-11T15:33:41.446Z"
   },
   {
    "duration": 30,
    "start_time": "2025-02-11T15:33:41.477Z"
   },
   {
    "duration": 6,
    "start_time": "2025-02-11T15:38:15.280Z"
   },
   {
    "duration": 2,
    "start_time": "2025-02-11T15:39:32.456Z"
   },
   {
    "duration": 91,
    "start_time": "2025-02-11T15:42:20.215Z"
   },
   {
    "duration": 10,
    "start_time": "2025-02-11T15:43:01.476Z"
   },
   {
    "duration": 9,
    "start_time": "2025-02-11T15:43:16.867Z"
   },
   {
    "duration": 1274,
    "start_time": "2025-02-11T15:43:31.558Z"
   },
   {
    "duration": 15,
    "start_time": "2025-02-11T15:51:32.650Z"
   },
   {
    "duration": 8,
    "start_time": "2025-02-11T15:56:33.523Z"
   },
   {
    "duration": 6,
    "start_time": "2025-02-11T15:57:37.997Z"
   },
   {
    "duration": 9,
    "start_time": "2025-02-11T15:59:05.615Z"
   },
   {
    "duration": 6,
    "start_time": "2025-02-11T15:59:25.817Z"
   },
   {
    "duration": 9,
    "start_time": "2025-02-11T15:59:48.499Z"
   },
   {
    "duration": 5,
    "start_time": "2025-02-11T16:00:17.217Z"
   },
   {
    "duration": 2,
    "start_time": "2025-02-11T16:02:54.199Z"
   },
   {
    "duration": 13,
    "start_time": "2025-02-11T16:03:34.728Z"
   },
   {
    "duration": 15,
    "start_time": "2025-02-11T16:03:50.590Z"
   },
   {
    "duration": 6,
    "start_time": "2025-02-11T16:04:12.591Z"
   },
   {
    "duration": 12,
    "start_time": "2025-02-11T16:05:14.283Z"
   },
   {
    "duration": 6,
    "start_time": "2025-02-11T16:08:54.144Z"
   },
   {
    "duration": 6,
    "start_time": "2025-02-11T16:08:59.709Z"
   },
   {
    "duration": 7,
    "start_time": "2025-02-11T16:10:11.105Z"
   },
   {
    "duration": 7,
    "start_time": "2025-02-11T16:10:13.537Z"
   },
   {
    "duration": 21,
    "start_time": "2025-02-11T16:10:20.532Z"
   },
   {
    "duration": 12,
    "start_time": "2025-02-11T16:13:39.636Z"
   },
   {
    "duration": 5,
    "start_time": "2025-02-11T16:13:44.185Z"
   },
   {
    "duration": 5,
    "start_time": "2025-02-11T16:13:59.625Z"
   },
   {
    "duration": 6,
    "start_time": "2025-02-11T16:14:21.663Z"
   },
   {
    "duration": 8,
    "start_time": "2025-02-11T16:19:07.361Z"
   },
   {
    "duration": 6,
    "start_time": "2025-02-11T16:19:23.055Z"
   },
   {
    "duration": 4,
    "start_time": "2025-02-11T16:19:58.122Z"
   },
   {
    "duration": 10,
    "start_time": "2025-02-11T16:21:22.851Z"
   },
   {
    "duration": 38,
    "start_time": "2025-02-11T16:21:29.162Z"
   },
   {
    "duration": 4,
    "start_time": "2025-02-11T16:23:30.096Z"
   },
   {
    "duration": 6,
    "start_time": "2025-02-11T16:23:35.978Z"
   },
   {
    "duration": 8,
    "start_time": "2025-02-11T16:26:15.469Z"
   },
   {
    "duration": 1302,
    "start_time": "2025-02-11T16:27:36.980Z"
   },
   {
    "duration": 8,
    "start_time": "2025-02-11T16:27:44.056Z"
   },
   {
    "duration": 1343,
    "start_time": "2025-02-11T16:28:13.097Z"
   },
   {
    "duration": 5,
    "start_time": "2025-02-11T16:28:19.692Z"
   },
   {
    "duration": 1484,
    "start_time": "2025-02-11T16:28:44.766Z"
   },
   {
    "duration": 5,
    "start_time": "2025-02-11T16:29:15.583Z"
   },
   {
    "duration": 6,
    "start_time": "2025-02-11T16:30:07.879Z"
   },
   {
    "duration": 57,
    "start_time": "2025-02-11T16:33:12.534Z"
   },
   {
    "duration": 6,
    "start_time": "2025-02-11T16:34:11.282Z"
   },
   {
    "duration": 5,
    "start_time": "2025-02-11T16:34:36.525Z"
   },
   {
    "duration": 5,
    "start_time": "2025-02-11T16:34:57.514Z"
   },
   {
    "duration": 1319,
    "start_time": "2025-02-11T16:35:31.410Z"
   },
   {
    "duration": 6,
    "start_time": "2025-02-11T16:35:36.791Z"
   },
   {
    "duration": 9,
    "start_time": "2025-02-11T16:37:08.365Z"
   },
   {
    "duration": 6,
    "start_time": "2025-02-11T16:37:13.047Z"
   },
   {
    "duration": 5,
    "start_time": "2025-02-11T16:37:36.586Z"
   },
   {
    "duration": 23,
    "start_time": "2025-02-11T16:37:46.732Z"
   },
   {
    "duration": 15,
    "start_time": "2025-02-11T16:37:49.201Z"
   },
   {
    "duration": 16,
    "start_time": "2025-02-11T16:38:37.633Z"
   },
   {
    "duration": 10,
    "start_time": "2025-02-11T16:38:46.108Z"
   },
   {
    "duration": 10,
    "start_time": "2025-02-11T16:39:16.415Z"
   },
   {
    "duration": 9,
    "start_time": "2025-02-11T16:56:35.071Z"
   },
   {
    "duration": 9,
    "start_time": "2025-02-11T16:56:50.799Z"
   },
   {
    "duration": 9,
    "start_time": "2025-02-11T16:59:35.785Z"
   },
   {
    "duration": 7,
    "start_time": "2025-02-11T16:59:41.439Z"
   },
   {
    "duration": 7,
    "start_time": "2025-02-11T17:00:40.440Z"
   },
   {
    "duration": 5,
    "start_time": "2025-02-11T17:01:06.384Z"
   },
   {
    "duration": 6,
    "start_time": "2025-02-11T17:01:22.406Z"
   },
   {
    "duration": 5,
    "start_time": "2025-02-11T17:11:22.082Z"
   },
   {
    "duration": 9,
    "start_time": "2025-02-11T17:18:43.934Z"
   },
   {
    "duration": 12,
    "start_time": "2025-02-11T17:19:02.202Z"
   },
   {
    "duration": 6,
    "start_time": "2025-02-11T17:24:59.011Z"
   },
   {
    "duration": 16,
    "start_time": "2025-02-11T17:25:21.122Z"
   },
   {
    "duration": 21,
    "start_time": "2025-02-11T17:25:55.703Z"
   },
   {
    "duration": 6,
    "start_time": "2025-02-11T17:26:23.806Z"
   },
   {
    "duration": 8,
    "start_time": "2025-02-11T17:26:33.071Z"
   },
   {
    "duration": 10,
    "start_time": "2025-02-11T17:27:06.229Z"
   },
   {
    "duration": 18,
    "start_time": "2025-02-11T17:30:12.880Z"
   },
   {
    "duration": 24,
    "start_time": "2025-02-11T17:31:40.823Z"
   },
   {
    "duration": 18,
    "start_time": "2025-02-11T17:31:45.805Z"
   },
   {
    "duration": 482,
    "start_time": "2025-02-11T17:38:51.807Z"
   },
   {
    "duration": 111,
    "start_time": "2025-02-11T17:38:53.875Z"
   },
   {
    "duration": 2,
    "start_time": "2025-02-11T17:39:41.406Z"
   },
   {
    "duration": 3,
    "start_time": "2025-02-11T17:39:46.641Z"
   },
   {
    "duration": 28,
    "start_time": "2025-02-11T17:39:46.658Z"
   },
   {
    "duration": 31,
    "start_time": "2025-02-11T17:39:46.688Z"
   },
   {
    "duration": 15,
    "start_time": "2025-02-11T17:39:46.721Z"
   },
   {
    "duration": 6,
    "start_time": "2025-02-11T17:39:46.738Z"
   },
   {
    "duration": 10,
    "start_time": "2025-02-11T17:39:46.746Z"
   },
   {
    "duration": 7,
    "start_time": "2025-02-11T17:39:46.758Z"
   },
   {
    "duration": 12,
    "start_time": "2025-02-11T17:39:46.768Z"
   },
   {
    "duration": 53,
    "start_time": "2025-02-11T17:39:46.782Z"
   },
   {
    "duration": 23,
    "start_time": "2025-02-11T17:39:46.837Z"
   },
   {
    "duration": 12,
    "start_time": "2025-02-11T17:39:46.862Z"
   },
   {
    "duration": 5,
    "start_time": "2025-02-11T17:39:46.876Z"
   },
   {
    "duration": 18,
    "start_time": "2025-02-11T17:39:46.883Z"
   },
   {
    "duration": 34,
    "start_time": "2025-02-11T17:39:46.903Z"
   },
   {
    "duration": 16,
    "start_time": "2025-02-11T17:39:46.942Z"
   },
   {
    "duration": 17,
    "start_time": "2025-02-11T17:39:46.960Z"
   },
   {
    "duration": 13,
    "start_time": "2025-02-11T17:39:46.979Z"
   },
   {
    "duration": 45,
    "start_time": "2025-02-11T17:39:46.994Z"
   },
   {
    "duration": 33,
    "start_time": "2025-02-11T17:39:47.041Z"
   },
   {
    "duration": 26,
    "start_time": "2025-02-11T17:39:47.077Z"
   },
   {
    "duration": 14,
    "start_time": "2025-02-11T17:39:47.105Z"
   },
   {
    "duration": 26,
    "start_time": "2025-02-11T17:39:47.120Z"
   },
   {
    "duration": 14,
    "start_time": "2025-02-11T17:39:47.148Z"
   },
   {
    "duration": 24,
    "start_time": "2025-02-11T17:39:47.165Z"
   },
   {
    "duration": 47,
    "start_time": "2025-02-11T17:39:47.190Z"
   },
   {
    "duration": 22,
    "start_time": "2025-02-11T17:39:47.239Z"
   },
   {
    "duration": 79,
    "start_time": "2025-02-11T17:40:50.721Z"
   },
   {
    "duration": 5,
    "start_time": "2025-02-11T17:41:13.499Z"
   },
   {
    "duration": 4,
    "start_time": "2025-02-11T17:41:56.706Z"
   },
   {
    "duration": 4,
    "start_time": "2025-02-11T17:42:33.480Z"
   },
   {
    "duration": 23,
    "start_time": "2025-02-11T17:51:56.544Z"
   },
   {
    "duration": 15,
    "start_time": "2025-02-11T17:52:13.897Z"
   },
   {
    "duration": 17,
    "start_time": "2025-02-11T17:52:29.425Z"
   },
   {
    "duration": 25,
    "start_time": "2025-02-11T17:53:08.193Z"
   },
   {
    "duration": 8,
    "start_time": "2025-02-11T17:54:07.611Z"
   },
   {
    "duration": 15,
    "start_time": "2025-02-11T17:54:17.006Z"
   },
   {
    "duration": 10,
    "start_time": "2025-02-11T17:54:23.256Z"
   },
   {
    "duration": 15,
    "start_time": "2025-02-11T17:54:25.957Z"
   },
   {
    "duration": 15,
    "start_time": "2025-02-11T17:54:34.932Z"
   },
   {
    "duration": 13,
    "start_time": "2025-02-11T17:54:38.396Z"
   },
   {
    "duration": 13,
    "start_time": "2025-02-11T17:54:46.717Z"
   },
   {
    "duration": 7,
    "start_time": "2025-02-11T17:55:22.926Z"
   },
   {
    "duration": 65,
    "start_time": "2025-02-11T17:58:25.696Z"
   },
   {
    "duration": 18,
    "start_time": "2025-02-11T17:58:47.572Z"
   },
   {
    "duration": 12,
    "start_time": "2025-02-11T18:00:35.491Z"
   },
   {
    "duration": 5,
    "start_time": "2025-02-11T18:00:43.289Z"
   },
   {
    "duration": 15,
    "start_time": "2025-02-11T18:01:13.900Z"
   },
   {
    "duration": 14,
    "start_time": "2025-02-11T18:01:43.671Z"
   },
   {
    "duration": 389,
    "start_time": "2025-02-11T18:02:11.878Z"
   },
   {
    "duration": 115,
    "start_time": "2025-02-11T18:02:12.269Z"
   },
   {
    "duration": 3,
    "start_time": "2025-02-11T18:02:12.386Z"
   },
   {
    "duration": 24,
    "start_time": "2025-02-11T18:02:12.391Z"
   },
   {
    "duration": 28,
    "start_time": "2025-02-11T18:02:12.418Z"
   },
   {
    "duration": 5,
    "start_time": "2025-02-11T18:02:12.448Z"
   },
   {
    "duration": 6,
    "start_time": "2025-02-11T18:02:12.454Z"
   },
   {
    "duration": 7,
    "start_time": "2025-02-11T18:02:12.461Z"
   },
   {
    "duration": 8,
    "start_time": "2025-02-11T18:02:12.470Z"
   },
   {
    "duration": 5,
    "start_time": "2025-02-11T18:02:12.480Z"
   },
   {
    "duration": 50,
    "start_time": "2025-02-11T18:02:12.486Z"
   },
   {
    "duration": 78,
    "start_time": "2025-02-11T18:02:12.538Z"
   },
   {
    "duration": 0,
    "start_time": "2025-02-11T18:02:12.633Z"
   },
   {
    "duration": 0,
    "start_time": "2025-02-11T18:02:12.634Z"
   },
   {
    "duration": 0,
    "start_time": "2025-02-11T18:02:12.635Z"
   },
   {
    "duration": 0,
    "start_time": "2025-02-11T18:02:12.636Z"
   },
   {
    "duration": 1,
    "start_time": "2025-02-11T18:02:12.637Z"
   },
   {
    "duration": 0,
    "start_time": "2025-02-11T18:02:12.639Z"
   },
   {
    "duration": 0,
    "start_time": "2025-02-11T18:02:12.639Z"
   },
   {
    "duration": 0,
    "start_time": "2025-02-11T18:02:12.640Z"
   },
   {
    "duration": 0,
    "start_time": "2025-02-11T18:02:12.641Z"
   },
   {
    "duration": 0,
    "start_time": "2025-02-11T18:02:12.643Z"
   },
   {
    "duration": 0,
    "start_time": "2025-02-11T18:02:12.644Z"
   },
   {
    "duration": 0,
    "start_time": "2025-02-11T18:02:12.645Z"
   },
   {
    "duration": 0,
    "start_time": "2025-02-11T18:02:12.646Z"
   },
   {
    "duration": 0,
    "start_time": "2025-02-11T18:02:12.647Z"
   },
   {
    "duration": 0,
    "start_time": "2025-02-11T18:02:12.648Z"
   },
   {
    "duration": 0,
    "start_time": "2025-02-11T18:02:12.649Z"
   },
   {
    "duration": 0,
    "start_time": "2025-02-11T18:02:12.650Z"
   },
   {
    "duration": 0,
    "start_time": "2025-02-11T18:02:12.651Z"
   },
   {
    "duration": 0,
    "start_time": "2025-02-11T18:02:12.652Z"
   },
   {
    "duration": 0,
    "start_time": "2025-02-11T18:02:12.653Z"
   },
   {
    "duration": 0,
    "start_time": "2025-02-11T18:02:12.655Z"
   },
   {
    "duration": 7,
    "start_time": "2025-02-11T18:04:54.554Z"
   },
   {
    "duration": 56,
    "start_time": "2025-02-11T18:04:59.052Z"
   },
   {
    "duration": 47,
    "start_time": "2025-02-11T18:04:59.110Z"
   },
   {
    "duration": 62,
    "start_time": "2025-02-11T18:04:59.158Z"
   },
   {
    "duration": 30,
    "start_time": "2025-02-11T18:04:59.222Z"
   },
   {
    "duration": 28,
    "start_time": "2025-02-11T18:04:59.255Z"
   },
   {
    "duration": 25,
    "start_time": "2025-02-11T18:04:59.285Z"
   },
   {
    "duration": 19,
    "start_time": "2025-02-11T18:04:59.312Z"
   },
   {
    "duration": 28,
    "start_time": "2025-02-11T18:04:59.335Z"
   },
   {
    "duration": 37,
    "start_time": "2025-02-11T18:04:59.364Z"
   },
   {
    "duration": 43,
    "start_time": "2025-02-11T18:04:59.402Z"
   },
   {
    "duration": 25,
    "start_time": "2025-02-11T18:04:59.448Z"
   },
   {
    "duration": 22,
    "start_time": "2025-02-11T18:04:59.475Z"
   },
   {
    "duration": 93,
    "start_time": "2025-02-11T18:04:59.500Z"
   },
   {
    "duration": 32,
    "start_time": "2025-02-11T18:04:59.595Z"
   },
   {
    "duration": 55,
    "start_time": "2025-02-11T18:04:59.628Z"
   },
   {
    "duration": 18,
    "start_time": "2025-02-11T18:04:59.684Z"
   },
   {
    "duration": 19,
    "start_time": "2025-02-11T18:04:59.703Z"
   },
   {
    "duration": 31,
    "start_time": "2025-02-11T18:04:59.724Z"
   },
   {
    "duration": 38,
    "start_time": "2025-02-11T18:04:59.756Z"
   },
   {
    "duration": 26,
    "start_time": "2025-02-11T18:04:59.795Z"
   },
   {
    "duration": 49,
    "start_time": "2025-02-11T18:04:59.823Z"
   },
   {
    "duration": 79,
    "start_time": "2025-02-11T18:04:59.873Z"
   },
   {
    "duration": 23,
    "start_time": "2025-02-11T18:05:32.675Z"
   },
   {
    "duration": 19,
    "start_time": "2025-02-11T18:06:12.408Z"
   },
   {
    "duration": 450,
    "start_time": "2025-02-12T10:27:10.340Z"
   },
   {
    "duration": 129,
    "start_time": "2025-02-12T10:27:10.792Z"
   },
   {
    "duration": 2,
    "start_time": "2025-02-12T10:27:10.923Z"
   },
   {
    "duration": 34,
    "start_time": "2025-02-12T10:27:10.927Z"
   },
   {
    "duration": 24,
    "start_time": "2025-02-12T10:27:10.963Z"
   },
   {
    "duration": 4,
    "start_time": "2025-02-12T10:27:10.989Z"
   },
   {
    "duration": 9,
    "start_time": "2025-02-12T10:27:10.995Z"
   },
   {
    "duration": 82,
    "start_time": "2025-02-12T10:27:11.006Z"
   },
   {
    "duration": 68,
    "start_time": "2025-02-12T10:27:11.090Z"
   },
   {
    "duration": 10,
    "start_time": "2025-02-12T10:27:11.160Z"
   },
   {
    "duration": 17,
    "start_time": "2025-02-12T10:27:11.172Z"
   },
   {
    "duration": 6,
    "start_time": "2025-02-12T10:27:11.191Z"
   },
   {
    "duration": 14,
    "start_time": "2025-02-12T10:27:11.199Z"
   },
   {
    "duration": 17,
    "start_time": "2025-02-12T10:27:11.216Z"
   },
   {
    "duration": 6,
    "start_time": "2025-02-12T10:27:11.235Z"
   },
   {
    "duration": 26,
    "start_time": "2025-02-12T10:27:11.243Z"
   },
   {
    "duration": 11,
    "start_time": "2025-02-12T10:27:11.271Z"
   },
   {
    "duration": 13,
    "start_time": "2025-02-12T10:27:11.284Z"
   },
   {
    "duration": 18,
    "start_time": "2025-02-12T10:27:11.298Z"
   },
   {
    "duration": 26,
    "start_time": "2025-02-12T10:27:11.318Z"
   },
   {
    "duration": 19,
    "start_time": "2025-02-12T10:27:11.345Z"
   },
   {
    "duration": 6,
    "start_time": "2025-02-12T10:27:11.366Z"
   },
   {
    "duration": 17,
    "start_time": "2025-02-12T10:27:11.374Z"
   },
   {
    "duration": 9,
    "start_time": "2025-02-12T10:27:11.392Z"
   },
   {
    "duration": 9,
    "start_time": "2025-02-12T10:27:11.404Z"
   },
   {
    "duration": 41,
    "start_time": "2025-02-12T10:27:11.415Z"
   },
   {
    "duration": 16,
    "start_time": "2025-02-12T10:27:11.458Z"
   },
   {
    "duration": 16,
    "start_time": "2025-02-12T10:27:11.476Z"
   },
   {
    "duration": 4,
    "start_time": "2025-02-12T10:27:11.494Z"
   },
   {
    "duration": 8,
    "start_time": "2025-02-12T10:27:11.499Z"
   },
   {
    "duration": 49,
    "start_time": "2025-02-12T10:27:11.508Z"
   },
   {
    "duration": 66,
    "start_time": "2025-02-12T10:27:11.559Z"
   },
   {
    "duration": 121,
    "start_time": "2025-02-12T10:35:19.694Z"
   },
   {
    "duration": 16,
    "start_time": "2025-02-12T10:35:38.329Z"
   },
   {
    "duration": 14,
    "start_time": "2025-02-12T10:35:53.633Z"
   },
   {
    "duration": 20,
    "start_time": "2025-02-12T10:36:02.659Z"
   },
   {
    "duration": 18,
    "start_time": "2025-02-12T10:36:10.158Z"
   },
   {
    "duration": 6,
    "start_time": "2025-02-12T10:36:54.932Z"
   },
   {
    "duration": 20,
    "start_time": "2025-02-12T10:37:07.046Z"
   },
   {
    "duration": 15,
    "start_time": "2025-02-12T10:37:13.083Z"
   },
   {
    "duration": 24,
    "start_time": "2025-02-12T10:39:02.703Z"
   },
   {
    "duration": 22,
    "start_time": "2025-02-12T10:40:31.893Z"
   },
   {
    "duration": 51,
    "start_time": "2025-02-14T11:55:15.779Z"
   },
   {
    "duration": 445,
    "start_time": "2025-02-14T11:55:26.155Z"
   },
   {
    "duration": 149,
    "start_time": "2025-02-14T11:55:26.602Z"
   },
   {
    "duration": 3,
    "start_time": "2025-02-14T11:55:26.753Z"
   },
   {
    "duration": 29,
    "start_time": "2025-02-14T11:55:26.758Z"
   },
   {
    "duration": 20,
    "start_time": "2025-02-14T11:55:26.789Z"
   },
   {
    "duration": 4,
    "start_time": "2025-02-14T11:55:26.811Z"
   },
   {
    "duration": 19,
    "start_time": "2025-02-14T11:55:26.817Z"
   },
   {
    "duration": 38,
    "start_time": "2025-02-14T11:55:26.838Z"
   },
   {
    "duration": 18,
    "start_time": "2025-02-14T11:55:26.878Z"
   },
   {
    "duration": 35,
    "start_time": "2025-02-14T11:55:26.898Z"
   },
   {
    "duration": 24,
    "start_time": "2025-02-14T11:55:26.935Z"
   },
   {
    "duration": 5,
    "start_time": "2025-02-14T11:55:26.961Z"
   },
   {
    "duration": 33,
    "start_time": "2025-02-14T11:55:26.967Z"
   },
   {
    "duration": 14,
    "start_time": "2025-02-14T11:55:27.003Z"
   },
   {
    "duration": 15,
    "start_time": "2025-02-14T11:55:27.019Z"
   },
   {
    "duration": 43,
    "start_time": "2025-02-14T11:55:27.036Z"
   },
   {
    "duration": 36,
    "start_time": "2025-02-14T11:55:27.081Z"
   },
   {
    "duration": 13,
    "start_time": "2025-02-14T11:55:27.119Z"
   },
   {
    "duration": 8,
    "start_time": "2025-02-14T11:55:27.133Z"
   },
   {
    "duration": 10,
    "start_time": "2025-02-14T11:55:27.143Z"
   },
   {
    "duration": 30,
    "start_time": "2025-02-14T11:55:27.154Z"
   },
   {
    "duration": 10,
    "start_time": "2025-02-14T11:55:27.186Z"
   },
   {
    "duration": 19,
    "start_time": "2025-02-14T11:55:27.198Z"
   },
   {
    "duration": 9,
    "start_time": "2025-02-14T11:55:27.219Z"
   },
   {
    "duration": 17,
    "start_time": "2025-02-14T11:55:27.230Z"
   },
   {
    "duration": 22,
    "start_time": "2025-02-14T11:55:27.249Z"
   },
   {
    "duration": 20,
    "start_time": "2025-02-14T11:55:27.273Z"
   },
   {
    "duration": 18,
    "start_time": "2025-02-14T11:55:27.295Z"
   },
   {
    "duration": 4,
    "start_time": "2025-02-14T11:55:27.314Z"
   },
   {
    "duration": 5,
    "start_time": "2025-02-14T11:55:27.319Z"
   },
   {
    "duration": 39,
    "start_time": "2025-02-14T11:55:27.326Z"
   },
   {
    "duration": 20,
    "start_time": "2025-02-14T11:55:27.366Z"
   },
   {
    "duration": 14,
    "start_time": "2025-02-14T11:55:27.388Z"
   },
   {
    "duration": 29,
    "start_time": "2025-02-14T12:01:16.216Z"
   },
   {
    "duration": 21,
    "start_time": "2025-02-14T12:01:24.215Z"
   },
   {
    "duration": 20,
    "start_time": "2025-02-14T12:04:55.862Z"
   },
   {
    "duration": 18,
    "start_time": "2025-02-14T12:05:09.905Z"
   },
   {
    "duration": 20,
    "start_time": "2025-02-14T12:05:19.444Z"
   },
   {
    "duration": 11,
    "start_time": "2025-02-14T12:05:52.962Z"
   },
   {
    "duration": 1645,
    "start_time": "2025-02-14T12:05:59.155Z"
   },
   {
    "duration": 69,
    "start_time": "2025-02-14T12:06:07.747Z"
   },
   {
    "duration": 21,
    "start_time": "2025-02-14T12:07:12.270Z"
   },
   {
    "duration": 20,
    "start_time": "2025-02-14T12:07:28.857Z"
   },
   {
    "duration": 13,
    "start_time": "2025-02-14T12:31:22.953Z"
   },
   {
    "duration": 12,
    "start_time": "2025-02-14T12:31:30.590Z"
   },
   {
    "duration": 68,
    "start_time": "2025-02-14T12:31:35.030Z"
   },
   {
    "duration": 13,
    "start_time": "2025-02-14T12:31:39.490Z"
   },
   {
    "duration": 25,
    "start_time": "2025-02-14T12:31:44.874Z"
   },
   {
    "duration": 6,
    "start_time": "2025-02-14T12:32:20.315Z"
   },
   {
    "duration": 21,
    "start_time": "2025-02-14T12:32:58.855Z"
   },
   {
    "duration": 18,
    "start_time": "2025-02-14T12:49:56.407Z"
   },
   {
    "duration": 20,
    "start_time": "2025-02-14T12:51:32.655Z"
   },
   {
    "duration": 4,
    "start_time": "2025-02-14T12:51:39.715Z"
   },
   {
    "duration": 5,
    "start_time": "2025-02-14T12:51:53.312Z"
   },
   {
    "duration": 16,
    "start_time": "2025-02-14T12:51:59.403Z"
   },
   {
    "duration": 19,
    "start_time": "2025-02-14T12:52:41.795Z"
   },
   {
    "duration": 16,
    "start_time": "2025-02-14T13:01:22.473Z"
   },
   {
    "duration": 17,
    "start_time": "2025-02-14T13:01:45.103Z"
   },
   {
    "duration": 15,
    "start_time": "2025-02-14T13:02:06.087Z"
   },
   {
    "duration": 6,
    "start_time": "2025-02-14T13:02:42.142Z"
   },
   {
    "duration": 7,
    "start_time": "2025-02-14T13:02:48.938Z"
   },
   {
    "duration": 8,
    "start_time": "2025-02-14T13:27:39.885Z"
   },
   {
    "duration": 7,
    "start_time": "2025-02-14T13:28:17.369Z"
   },
   {
    "duration": 22,
    "start_time": "2025-02-14T13:28:28.035Z"
   },
   {
    "duration": 8,
    "start_time": "2025-02-14T13:29:11.563Z"
   },
   {
    "duration": 5,
    "start_time": "2025-02-14T13:29:15.760Z"
   },
   {
    "duration": 7,
    "start_time": "2025-02-14T13:30:54.278Z"
   },
   {
    "duration": 8,
    "start_time": "2025-02-14T13:31:56.781Z"
   },
   {
    "duration": 436,
    "start_time": "2025-02-14T22:09:23.188Z"
   },
   {
    "duration": 105,
    "start_time": "2025-02-14T22:09:23.626Z"
   },
   {
    "duration": 3,
    "start_time": "2025-02-14T22:09:23.733Z"
   },
   {
    "duration": 26,
    "start_time": "2025-02-14T22:09:23.738Z"
   },
   {
    "duration": 20,
    "start_time": "2025-02-14T22:09:23.767Z"
   },
   {
    "duration": 4,
    "start_time": "2025-02-14T22:09:23.789Z"
   },
   {
    "duration": 9,
    "start_time": "2025-02-14T22:09:23.795Z"
   },
   {
    "duration": 10,
    "start_time": "2025-02-14T22:09:23.805Z"
   },
   {
    "duration": 9,
    "start_time": "2025-02-14T22:09:23.817Z"
   },
   {
    "duration": 6,
    "start_time": "2025-02-14T22:09:23.828Z"
   },
   {
    "duration": 41,
    "start_time": "2025-02-14T22:09:23.836Z"
   },
   {
    "duration": 20,
    "start_time": "2025-02-14T22:09:23.879Z"
   },
   {
    "duration": 15,
    "start_time": "2025-02-14T22:09:23.901Z"
   },
   {
    "duration": 6,
    "start_time": "2025-02-14T22:09:23.918Z"
   },
   {
    "duration": 9,
    "start_time": "2025-02-14T22:09:23.925Z"
   },
   {
    "duration": 40,
    "start_time": "2025-02-14T22:09:23.936Z"
   },
   {
    "duration": 10,
    "start_time": "2025-02-14T22:09:23.978Z"
   },
   {
    "duration": 13,
    "start_time": "2025-02-14T22:09:23.990Z"
   },
   {
    "duration": 12,
    "start_time": "2025-02-14T22:09:24.005Z"
   },
   {
    "duration": 10,
    "start_time": "2025-02-14T22:09:24.019Z"
   },
   {
    "duration": 42,
    "start_time": "2025-02-14T22:09:24.031Z"
   },
   {
    "duration": 6,
    "start_time": "2025-02-14T22:09:24.075Z"
   },
   {
    "duration": 25,
    "start_time": "2025-02-14T22:09:24.082Z"
   },
   {
    "duration": 9,
    "start_time": "2025-02-14T22:09:24.109Z"
   },
   {
    "duration": 68,
    "start_time": "2025-02-14T22:09:24.119Z"
   },
   {
    "duration": 19,
    "start_time": "2025-02-14T22:09:24.188Z"
   },
   {
    "duration": 19,
    "start_time": "2025-02-14T22:09:24.208Z"
   },
   {
    "duration": 17,
    "start_time": "2025-02-14T22:09:24.230Z"
   },
   {
    "duration": 25,
    "start_time": "2025-02-14T22:09:24.248Z"
   },
   {
    "duration": 4,
    "start_time": "2025-02-14T22:09:24.275Z"
   },
   {
    "duration": 17,
    "start_time": "2025-02-14T22:09:24.281Z"
   },
   {
    "duration": 22,
    "start_time": "2025-02-14T22:09:24.300Z"
   },
   {
    "duration": 21,
    "start_time": "2025-02-14T22:09:24.323Z"
   },
   {
    "duration": 45,
    "start_time": "2025-02-14T22:09:24.346Z"
   },
   {
    "duration": 7,
    "start_time": "2025-02-14T22:09:24.393Z"
   },
   {
    "duration": 8,
    "start_time": "2025-02-14T22:09:24.401Z"
   },
   {
    "duration": 8,
    "start_time": "2025-02-14T22:09:24.411Z"
   },
   {
    "duration": 26,
    "start_time": "2025-02-14T22:24:55.882Z"
   },
   {
    "duration": 7,
    "start_time": "2025-02-14T22:25:54.832Z"
   },
   {
    "duration": 20,
    "start_time": "2025-02-14T22:26:50.236Z"
   },
   {
    "duration": 413,
    "start_time": "2025-02-15T11:42:01.376Z"
   },
   {
    "duration": 104,
    "start_time": "2025-02-15T11:42:01.791Z"
   },
   {
    "duration": 3,
    "start_time": "2025-02-15T11:42:01.896Z"
   },
   {
    "duration": 47,
    "start_time": "2025-02-15T11:42:01.900Z"
   },
   {
    "duration": 20,
    "start_time": "2025-02-15T11:42:01.950Z"
   },
   {
    "duration": 4,
    "start_time": "2025-02-15T11:42:01.971Z"
   },
   {
    "duration": 6,
    "start_time": "2025-02-15T11:42:01.977Z"
   },
   {
    "duration": 49,
    "start_time": "2025-02-15T11:42:01.984Z"
   },
   {
    "duration": 18,
    "start_time": "2025-02-15T11:42:02.034Z"
   },
   {
    "duration": 10,
    "start_time": "2025-02-15T11:42:02.054Z"
   },
   {
    "duration": 11,
    "start_time": "2025-02-15T11:42:02.065Z"
   },
   {
    "duration": 6,
    "start_time": "2025-02-15T11:42:02.077Z"
   },
   {
    "duration": 11,
    "start_time": "2025-02-15T11:42:02.085Z"
   },
   {
    "duration": 34,
    "start_time": "2025-02-15T11:42:02.099Z"
   },
   {
    "duration": 35,
    "start_time": "2025-02-15T11:42:02.134Z"
   },
   {
    "duration": 21,
    "start_time": "2025-02-15T11:42:02.171Z"
   },
   {
    "duration": 24,
    "start_time": "2025-02-15T11:42:02.194Z"
   },
   {
    "duration": 43,
    "start_time": "2025-02-15T11:42:02.220Z"
   },
   {
    "duration": 10,
    "start_time": "2025-02-15T11:42:02.265Z"
   },
   {
    "duration": 51,
    "start_time": "2025-02-15T11:42:02.277Z"
   },
   {
    "duration": 32,
    "start_time": "2025-02-15T11:42:02.330Z"
   },
   {
    "duration": 13,
    "start_time": "2025-02-15T11:42:02.363Z"
   },
   {
    "duration": 42,
    "start_time": "2025-02-15T11:42:02.377Z"
   },
   {
    "duration": 61,
    "start_time": "2025-02-15T11:42:02.421Z"
   },
   {
    "duration": 79,
    "start_time": "2025-02-15T11:42:02.484Z"
   },
   {
    "duration": 17,
    "start_time": "2025-02-15T11:42:02.565Z"
   },
   {
    "duration": 15,
    "start_time": "2025-02-15T11:42:02.583Z"
   },
   {
    "duration": 31,
    "start_time": "2025-02-15T11:42:02.600Z"
   },
   {
    "duration": 5,
    "start_time": "2025-02-15T11:42:02.632Z"
   },
   {
    "duration": 24,
    "start_time": "2025-02-15T11:42:02.639Z"
   },
   {
    "duration": 17,
    "start_time": "2025-02-15T11:42:02.664Z"
   },
   {
    "duration": 19,
    "start_time": "2025-02-15T11:42:02.682Z"
   },
   {
    "duration": 32,
    "start_time": "2025-02-15T11:42:02.702Z"
   },
   {
    "duration": 33,
    "start_time": "2025-02-15T11:42:02.736Z"
   },
   {
    "duration": 30,
    "start_time": "2025-02-15T11:42:02.771Z"
   },
   {
    "duration": 33,
    "start_time": "2025-02-15T11:42:02.802Z"
   },
   {
    "duration": 10,
    "start_time": "2025-02-15T11:42:02.837Z"
   }
  ],
  "colab": {
   "provenance": []
  },
  "kernelspec": {
   "display_name": "Python 3 (ipykernel)",
   "language": "python",
   "name": "python3"
  },
  "language_info": {
   "codemirror_mode": {
    "name": "ipython",
    "version": 3
   },
   "file_extension": ".py",
   "mimetype": "text/x-python",
   "name": "python",
   "nbconvert_exporter": "python",
   "pygments_lexer": "ipython3",
   "version": "3.9.5"
  },
  "toc": {
   "base_numbering": 1,
   "nav_menu": {},
   "number_sections": true,
   "sideBar": true,
   "skip_h1_title": true,
   "title_cell": "Table of Contents",
   "title_sidebar": "Contents",
   "toc_cell": false,
   "toc_position": {},
   "toc_section_display": true,
   "toc_window_display": true
  }
 },
 "nbformat": 4,
 "nbformat_minor": 5
}
