{
 "cells": [
  {
   "cell_type": "markdown",
   "metadata": {},
   "source": [
    "<div style=\"border:solid Chocolate 2px; padding: 40px\">\n",
    "\n",
    "<b>Привет!</b>\n",
    "\n",
    "Меня зовут Дмитрий Михаленко, я буду ревьюером твоего проекта. Если ты не против, то предлагаю построить наше общение на \"ты\" ;) Если удобнее на \"вы\", то нет проблем, только скажи об этом. \n",
    "\n",
    "Ниже в работе ты найдешь мои комментарии - **пожалуйста, не перемещай, не изменяй и не удаляй их**.\n",
    "    \n",
    "Для наглядности я буду использовать цветовую разметку:\n",
    "<font color='green'>зеленого</font>, <font color='gold'>желтого</font> и <font color='red'>красного</font> цветов. Сейчас объясню, что они значат:\n",
    "\n",
    "<br/>\n",
    "\n",
    "<div class=\"alert alert-success\">\n",
    "<h2> Комментарий ревьюера <a class=\"tocSkip\"> </h2>\n",
    "\n",
    "<b>Все супер!👍:</b> Решение на этом шаге является полностью правильным.\n",
    "</div>\n",
    "\n",
    "<br/>\n",
    "\n",
    "<div class=\"alert alert-warning\">\n",
    "    <h2> Комментарий ревьюера <a class=\"tocSkip\"> </h2>\n",
    "    \n",
    "<b>Небольшие замечания и рекомендации💡:</b> Решение на этом шаге может стать еще лучше, если внести небольшие коррективы.\n",
    "Но настаивать я не буду.\n",
    "</div>\n",
    "\n",
    "\n",
    "<br/>\n",
    "<div class=\"alert alert-block alert-danger\">\n",
    "<h2> Комментарий ревьюера <a class=\"tocSkip\"></h2>\n",
    "\n",
    "    \n",
    "<b>На доработку🤔:</b>\n",
    "Для правильного решения задачи на этом шаге необходимо внести правки. Напоминаю, что проект не может быть принят, без их отработки.\n",
    "</div>\n",
    "\n",
    "Для продуктивной работы прошу: **если ты что-то меняешь в проекте или отвечаешь на мои комментарии — пиши об этом**\n",
    "Мне будет легче отследить изменения, если ты тоже выделишь свои комментарии:\n",
    "    \n",
    "<div class=\"alert alert-info\"> <b>Комментарий студента:</b> Например, вот так.</div>\n",
    "\n",
    "Всё это поможет выполнить повторную проверку твоего проекта оперативнее. \n",
    "        \n",
    "Увидев у тебя ошибку, в первый раз я лишь укажу на ее наличие и дам тебе возможность самому найти и исправить ее. На реальной работе твой начальник будет поступать так же, а я пытаюсь подготовить тебя именно к работе аналитиком. Но если ты пока не справишься с такой задачей - при следующей проверке я дам более точную подсказку."
   ]
  },
  {
   "cell_type": "markdown",
   "metadata": {
    "id": "4mJbK1knrJgz"
   },
   "source": [
    "# Проект: Исследование стартапов"
   ]
  },
  {
   "cell_type": "markdown",
   "metadata": {
    "id": "P6j0r3worJg0"
   },
   "source": [
    "## Введение"
   ]
  },
  {
   "cell_type": "markdown",
   "metadata": {
    "id": "8lQtbsIUyFG6"
   },
   "source": [
    "Поле для вашего введения: описания контекста и цели проекта целом. Чтобы изменить содержимое ячейки, дважды нажмите на неё (или нажмите «Ввод»).\n",
    "\n",
    "Чтобы ваше исследование шло оптимальным путём, рекомендуем чётко следовать предложенным дальше шагам. Углублённая предобработка и исследование неприоритетных для проекта вопросов может потребовать много дополнительного времени.\n",
    "\n",
    "В процессе работы старайтесь записывать свои рассуждения — это полезная привычка во время обучения. Пользуйтесь общими правилами:\n",
    "\n",
    "- начните с введения, в котором опишите контекст и цели проекта в целом;\n",
    "- записывайте в комментариях к коду всё, что относится к нему или алгоритму;\n",
    "- основания совершаемых в проекте действий и выводы, которые касаются предмета исследования, — записывайте в ячейках типа Markdown;\n",
    "- после каждого крупного раздела — шага проекта — обязательно формулируйте промежуточные выводы."
   ]
  },
  {
   "cell_type": "markdown",
   "metadata": {},
   "source": [
    "### Цели и задачи проекта\n",
    "\n",
    "**Цель:** Провести исследовательский анализ данных стартапов.\n",
    "\n",
    "**Задачи:**\n",
    "1. Знакомство с данными: загрузка и первичная предобработка.\n",
    "2. Предобработка данных, предварительное исследование.\n",
    "3. Исследовательский анализ объединённых таблиц.\n",
    "4. Итоговый вывод и рекомендации."
   ]
  },
  {
   "cell_type": "markdown",
   "metadata": {},
   "source": [
    "<div class=\"alert alert-warning\">\n",
    "    <h2> Комментарий ревьюера v1 <a class=\"tocSkip\"> </h2>\n",
    "    \n",
    "<b>Небольшие замечания и рекомендации💡:</b> Хорошая база для введения. Можно добавить еще информацию об авторе и небольшое описание полей таблиц с исходными данными, тогда оно будет идеальным. Важно начать так, чтобы твой будущий работодатель знал все ключевые моменты проекта и мог объективно оценить принимаемые тобой решения."
   ]
  },
  {
   "cell_type": "markdown",
   "metadata": {
    "id": "xqr6uttCrJg0"
   },
   "source": [
    "\n",
    "## Шаг 1. Знакомство с данными: загрузка и первичная предобработка\n",
    "\n",
    "Названия файлов:\n",
    "* acquisition.csv\n",
    "* company_and_rounds.csv\n",
    "* people.csv\n",
    "* education.csv\n",
    "* degrees.csv\n",
    "\n",
    "Опциональные датасеты:\n",
    "* fund.csv\n",
    "* investment.csv\n",
    "\n",
    "\n",
    "Они находятся в папке datasets, если вы выполняете работу на платформе. В случае, если вы делаете работу локально, доступ к файлам в папке можно получить по адресу `https://code.s3.yandex.net/datasets/` + имя файла.\n",
    "\n",
    "### 1.1. Вывод общей информации, исправление названия столбцов\n",
    "\n",
    "- Загрузите все данные по проекту.\n",
    "- Проверьте названия столбцов.\n",
    "- Выведите информацию, которая необходима вам для принятия решений о предобработке, для каждого из датасетов."
   ]
  },
  {
   "cell_type": "code",
   "execution_count": 1,
   "metadata": {},
   "outputs": [],
   "source": [
    "# Импортируем библиотеки\n",
    "import pandas as pd\n",
    "import numpy as np\n",
    "\n",
    "# Загружаем библиотеки для визуализации данных\n",
    "import matplotlib.pyplot as plt\n",
    "import seaborn as sns"
   ]
  },
  {
   "cell_type": "code",
   "execution_count": 2,
   "metadata": {
    "id": "2Tm4Pk__Felf"
   },
   "outputs": [],
   "source": [
    "# Загружаем датасет с информацией о покупках одними компаниями других компаний\n",
    "acquisition = pd.read_csv('https://code.s3.yandex.net/datasets/acquisition.csv')"
   ]
  },
  {
   "cell_type": "code",
   "execution_count": 3,
   "metadata": {
    "id": "oNqJ2qpRFebv",
    "scrolled": true
   },
   "outputs": [
    {
     "data": {
      "text/html": [
       "<div>\n",
       "<style scoped>\n",
       "    .dataframe tbody tr th:only-of-type {\n",
       "        vertical-align: middle;\n",
       "    }\n",
       "\n",
       "    .dataframe tbody tr th {\n",
       "        vertical-align: top;\n",
       "    }\n",
       "\n",
       "    .dataframe thead th {\n",
       "        text-align: right;\n",
       "    }\n",
       "</style>\n",
       "<table border=\"1\" class=\"dataframe\">\n",
       "  <thead>\n",
       "    <tr style=\"text-align: right;\">\n",
       "      <th></th>\n",
       "      <th>id</th>\n",
       "      <th>acquiring_company_id</th>\n",
       "      <th>acquired_company_id</th>\n",
       "      <th>term_code</th>\n",
       "      <th>price_amount</th>\n",
       "      <th>acquired_at</th>\n",
       "    </tr>\n",
       "  </thead>\n",
       "  <tbody>\n",
       "    <tr>\n",
       "      <th>0</th>\n",
       "      <td>1</td>\n",
       "      <td>11</td>\n",
       "      <td>10</td>\n",
       "      <td>NaN</td>\n",
       "      <td>20000000</td>\n",
       "      <td>2007-05-30</td>\n",
       "    </tr>\n",
       "    <tr>\n",
       "      <th>1</th>\n",
       "      <td>7</td>\n",
       "      <td>59</td>\n",
       "      <td>72</td>\n",
       "      <td>cash</td>\n",
       "      <td>60000000</td>\n",
       "      <td>2007-07-01</td>\n",
       "    </tr>\n",
       "    <tr>\n",
       "      <th>2</th>\n",
       "      <td>8</td>\n",
       "      <td>24</td>\n",
       "      <td>132</td>\n",
       "      <td>cash</td>\n",
       "      <td>280000000</td>\n",
       "      <td>2007-05-01</td>\n",
       "    </tr>\n",
       "    <tr>\n",
       "      <th>3</th>\n",
       "      <td>9</td>\n",
       "      <td>59</td>\n",
       "      <td>155</td>\n",
       "      <td>cash</td>\n",
       "      <td>100000000</td>\n",
       "      <td>2007-06-01</td>\n",
       "    </tr>\n",
       "    <tr>\n",
       "      <th>4</th>\n",
       "      <td>10</td>\n",
       "      <td>212</td>\n",
       "      <td>215</td>\n",
       "      <td>cash</td>\n",
       "      <td>25000000</td>\n",
       "      <td>2007-07-01</td>\n",
       "    </tr>\n",
       "  </tbody>\n",
       "</table>\n",
       "</div>"
      ],
      "text/plain": [
       "   id  acquiring_company_id  acquired_company_id term_code  price_amount  \\\n",
       "0   1                    11                   10       NaN      20000000   \n",
       "1   7                    59                   72      cash      60000000   \n",
       "2   8                    24                  132      cash     280000000   \n",
       "3   9                    59                  155      cash     100000000   \n",
       "4  10                   212                  215      cash      25000000   \n",
       "\n",
       "  acquired_at  \n",
       "0  2007-05-30  \n",
       "1  2007-07-01  \n",
       "2  2007-05-01  \n",
       "3  2007-06-01  \n",
       "4  2007-07-01  "
      ]
     },
     "execution_count": 3,
     "metadata": {},
     "output_type": "execute_result"
    }
   ],
   "source": [
    "# Выводим первые несколько строк датасета\n",
    "acquisition.head()"
   ]
  },
  {
   "cell_type": "code",
   "execution_count": 4,
   "metadata": {
    "scrolled": true
   },
   "outputs": [
    {
     "name": "stdout",
     "output_type": "stream",
     "text": [
      "<class 'pandas.core.frame.DataFrame'>\n",
      "RangeIndex: 9407 entries, 0 to 9406\n",
      "Data columns (total 6 columns):\n",
      " #   Column                Non-Null Count  Dtype \n",
      "---  ------                --------------  ----- \n",
      " 0   id                    9407 non-null   int64 \n",
      " 1   acquiring_company_id  9407 non-null   int64 \n",
      " 2   acquired_company_id   9407 non-null   int64 \n",
      " 3   term_code             1831 non-null   object\n",
      " 4   price_amount          9407 non-null   int64 \n",
      " 5   acquired_at           9378 non-null   object\n",
      "dtypes: int64(4), object(2)\n",
      "memory usage: 441.1+ KB\n"
     ]
    }
   ],
   "source": [
    "# Выводим основную информацию о датасете\n",
    "acquisition.info()"
   ]
  },
  {
   "cell_type": "code",
   "execution_count": 5,
   "metadata": {},
   "outputs": [],
   "source": [
    "# Загружаем датасет с ифнормацией о компаниях и раундах финансирования\n",
    "crounds = pd.read_csv('https://code.s3.yandex.net/datasets/company_and_rounds.csv')"
   ]
  },
  {
   "cell_type": "code",
   "execution_count": 6,
   "metadata": {},
   "outputs": [
    {
     "data": {
      "text/html": [
       "<div>\n",
       "<style scoped>\n",
       "    .dataframe tbody tr th:only-of-type {\n",
       "        vertical-align: middle;\n",
       "    }\n",
       "\n",
       "    .dataframe tbody tr th {\n",
       "        vertical-align: top;\n",
       "    }\n",
       "\n",
       "    .dataframe thead th {\n",
       "        text-align: right;\n",
       "    }\n",
       "</style>\n",
       "<table border=\"1\" class=\"dataframe\">\n",
       "  <thead>\n",
       "    <tr style=\"text-align: right;\">\n",
       "      <th></th>\n",
       "      <th>company  ID</th>\n",
       "      <th>name</th>\n",
       "      <th>category  code</th>\n",
       "      <th>status</th>\n",
       "      <th>founded  at</th>\n",
       "      <th>closed  at</th>\n",
       "      <th>domain</th>\n",
       "      <th>network  username</th>\n",
       "      <th>country  code</th>\n",
       "      <th>investment  rounds</th>\n",
       "      <th>...</th>\n",
       "      <th>milestones</th>\n",
       "      <th>funding  round  id</th>\n",
       "      <th>company  id</th>\n",
       "      <th>funded  at</th>\n",
       "      <th>funding  round  type</th>\n",
       "      <th>raised  amount</th>\n",
       "      <th>pre  money  valuation</th>\n",
       "      <th>participants</th>\n",
       "      <th>is  first  round</th>\n",
       "      <th>is  last  round</th>\n",
       "    </tr>\n",
       "  </thead>\n",
       "  <tbody>\n",
       "    <tr>\n",
       "      <th>0</th>\n",
       "      <td>1.0</td>\n",
       "      <td>Wetpaint</td>\n",
       "      <td>web</td>\n",
       "      <td>operating</td>\n",
       "      <td>2005-10-17</td>\n",
       "      <td>NaN</td>\n",
       "      <td>wetpaint-inc.com</td>\n",
       "      <td>BachelrWetpaint</td>\n",
       "      <td>USA</td>\n",
       "      <td>0.0</td>\n",
       "      <td>...</td>\n",
       "      <td>5.0</td>\n",
       "      <td>888.0</td>\n",
       "      <td>1.0</td>\n",
       "      <td>2005-10-01</td>\n",
       "      <td>series-a</td>\n",
       "      <td>5250000.0</td>\n",
       "      <td>0.0</td>\n",
       "      <td>2.0</td>\n",
       "      <td>0.0</td>\n",
       "      <td>1.0</td>\n",
       "    </tr>\n",
       "    <tr>\n",
       "      <th>1</th>\n",
       "      <td>1.0</td>\n",
       "      <td>Wetpaint</td>\n",
       "      <td>web</td>\n",
       "      <td>operating</td>\n",
       "      <td>2005-10-17</td>\n",
       "      <td>NaN</td>\n",
       "      <td>wetpaint-inc.com</td>\n",
       "      <td>BachelrWetpaint</td>\n",
       "      <td>USA</td>\n",
       "      <td>0.0</td>\n",
       "      <td>...</td>\n",
       "      <td>5.0</td>\n",
       "      <td>889.0</td>\n",
       "      <td>1.0</td>\n",
       "      <td>2007-01-01</td>\n",
       "      <td>series-b</td>\n",
       "      <td>9500000.0</td>\n",
       "      <td>0.0</td>\n",
       "      <td>3.0</td>\n",
       "      <td>0.0</td>\n",
       "      <td>0.0</td>\n",
       "    </tr>\n",
       "    <tr>\n",
       "      <th>2</th>\n",
       "      <td>1.0</td>\n",
       "      <td>Wetpaint</td>\n",
       "      <td>web</td>\n",
       "      <td>operating</td>\n",
       "      <td>2005-10-17</td>\n",
       "      <td>NaN</td>\n",
       "      <td>wetpaint-inc.com</td>\n",
       "      <td>BachelrWetpaint</td>\n",
       "      <td>USA</td>\n",
       "      <td>0.0</td>\n",
       "      <td>...</td>\n",
       "      <td>5.0</td>\n",
       "      <td>2312.0</td>\n",
       "      <td>1.0</td>\n",
       "      <td>2008-05-19</td>\n",
       "      <td>series-c+</td>\n",
       "      <td>25000000.0</td>\n",
       "      <td>0.0</td>\n",
       "      <td>4.0</td>\n",
       "      <td>1.0</td>\n",
       "      <td>0.0</td>\n",
       "    </tr>\n",
       "    <tr>\n",
       "      <th>3</th>\n",
       "      <td>10.0</td>\n",
       "      <td>Flektor</td>\n",
       "      <td>games_video</td>\n",
       "      <td>acquired</td>\n",
       "      <td>NaN</td>\n",
       "      <td>NaN</td>\n",
       "      <td>flektor.com</td>\n",
       "      <td>NaN</td>\n",
       "      <td>USA</td>\n",
       "      <td>0.0</td>\n",
       "      <td>...</td>\n",
       "      <td>0.0</td>\n",
       "      <td>NaN</td>\n",
       "      <td>NaN</td>\n",
       "      <td>NaN</td>\n",
       "      <td>NaN</td>\n",
       "      <td>NaN</td>\n",
       "      <td>NaN</td>\n",
       "      <td>NaN</td>\n",
       "      <td>NaN</td>\n",
       "      <td>NaN</td>\n",
       "    </tr>\n",
       "    <tr>\n",
       "      <th>4</th>\n",
       "      <td>100.0</td>\n",
       "      <td>There</td>\n",
       "      <td>games_video</td>\n",
       "      <td>acquired</td>\n",
       "      <td>NaN</td>\n",
       "      <td>NaN</td>\n",
       "      <td>there.com</td>\n",
       "      <td>NaN</td>\n",
       "      <td>USA</td>\n",
       "      <td>0.0</td>\n",
       "      <td>...</td>\n",
       "      <td>4.0</td>\n",
       "      <td>NaN</td>\n",
       "      <td>NaN</td>\n",
       "      <td>NaN</td>\n",
       "      <td>NaN</td>\n",
       "      <td>NaN</td>\n",
       "      <td>NaN</td>\n",
       "      <td>NaN</td>\n",
       "      <td>NaN</td>\n",
       "      <td>NaN</td>\n",
       "    </tr>\n",
       "  </tbody>\n",
       "</table>\n",
       "<p>5 rows × 22 columns</p>\n",
       "</div>"
      ],
      "text/plain": [
       "   company  ID      name category  code     status founded  at closed  at  \\\n",
       "0          1.0  Wetpaint            web  operating  2005-10-17        NaN   \n",
       "1          1.0  Wetpaint            web  operating  2005-10-17        NaN   \n",
       "2          1.0  Wetpaint            web  operating  2005-10-17        NaN   \n",
       "3         10.0   Flektor    games_video   acquired         NaN        NaN   \n",
       "4        100.0     There    games_video   acquired         NaN        NaN   \n",
       "\n",
       "             domain network  username country  code  investment  rounds  ...  \\\n",
       "0  wetpaint-inc.com   BachelrWetpaint           USA                 0.0  ...   \n",
       "1  wetpaint-inc.com   BachelrWetpaint           USA                 0.0  ...   \n",
       "2  wetpaint-inc.com   BachelrWetpaint           USA                 0.0  ...   \n",
       "3       flektor.com               NaN           USA                 0.0  ...   \n",
       "4         there.com               NaN           USA                 0.0  ...   \n",
       "\n",
       "   milestones  funding  round  id  company  id  funded  at  \\\n",
       "0         5.0               888.0          1.0  2005-10-01   \n",
       "1         5.0               889.0          1.0  2007-01-01   \n",
       "2         5.0              2312.0          1.0  2008-05-19   \n",
       "3         0.0                 NaN          NaN         NaN   \n",
       "4         4.0                 NaN          NaN         NaN   \n",
       "\n",
       "   funding  round  type raised  amount pre  money  valuation  participants  \\\n",
       "0              series-a      5250000.0                   0.0           2.0   \n",
       "1              series-b      9500000.0                   0.0           3.0   \n",
       "2             series-c+     25000000.0                   0.0           4.0   \n",
       "3                   NaN            NaN                   NaN           NaN   \n",
       "4                   NaN            NaN                   NaN           NaN   \n",
       "\n",
       "   is  first  round  is  last  round  \n",
       "0               0.0              1.0  \n",
       "1               0.0              0.0  \n",
       "2               1.0              0.0  \n",
       "3               NaN              NaN  \n",
       "4               NaN              NaN  \n",
       "\n",
       "[5 rows x 22 columns]"
      ]
     },
     "execution_count": 6,
     "metadata": {},
     "output_type": "execute_result"
    }
   ],
   "source": [
    "# Выводим первые несколько строк датасета\n",
    "crounds.head()"
   ]
  },
  {
   "cell_type": "code",
   "execution_count": 7,
   "metadata": {},
   "outputs": [
    {
     "name": "stdout",
     "output_type": "stream",
     "text": [
      "<class 'pandas.core.frame.DataFrame'>\n",
      "RangeIndex: 217774 entries, 0 to 217773\n",
      "Data columns (total 22 columns):\n",
      " #   Column                 Non-Null Count   Dtype  \n",
      "---  ------                 --------------   -----  \n",
      " 0   company  ID            217472 non-null  float64\n",
      " 1   name                   217472 non-null  object \n",
      " 2   category  code         143886 non-null  object \n",
      " 3   status                 217472 non-null  object \n",
      " 4   founded  at            109956 non-null  object \n",
      " 5   closed  at             3449 non-null    object \n",
      " 6   domain                 147159 non-null  object \n",
      " 7   network  username      95534 non-null   object \n",
      " 8   country  code          108607 non-null  object \n",
      " 9   investment  rounds     217472 non-null  float64\n",
      " 10  funding  rounds        217472 non-null  float64\n",
      " 11  funding  total         217472 non-null  float64\n",
      " 12  milestones             217472 non-null  float64\n",
      " 13  funding  round  id     52928 non-null   float64\n",
      " 14  company  id            52928 non-null   float64\n",
      " 15  funded  at             52680 non-null   object \n",
      " 16  funding  round  type   52928 non-null   object \n",
      " 17  raised  amount         52928 non-null   float64\n",
      " 18  pre  money  valuation  52928 non-null   float64\n",
      " 19  participants           52928 non-null   float64\n",
      " 20  is  first  round       52928 non-null   float64\n",
      " 21  is  last  round        52928 non-null   float64\n",
      "dtypes: float64(12), object(10)\n",
      "memory usage: 36.6+ MB\n"
     ]
    }
   ],
   "source": [
    "# Выводим информацию о датасете\n",
    "crounds.info()"
   ]
  },
  {
   "cell_type": "code",
   "execution_count": 8,
   "metadata": {},
   "outputs": [],
   "source": [
    "# Загружаем датасет с информацией о сотрудниках\n",
    "people = pd.read_csv('https://code.s3.yandex.net/datasets/people.csv')"
   ]
  },
  {
   "cell_type": "code",
   "execution_count": 9,
   "metadata": {},
   "outputs": [
    {
     "data": {
      "text/html": [
       "<div>\n",
       "<style scoped>\n",
       "    .dataframe tbody tr th:only-of-type {\n",
       "        vertical-align: middle;\n",
       "    }\n",
       "\n",
       "    .dataframe tbody tr th {\n",
       "        vertical-align: top;\n",
       "    }\n",
       "\n",
       "    .dataframe thead th {\n",
       "        text-align: right;\n",
       "    }\n",
       "</style>\n",
       "<table border=\"1\" class=\"dataframe\">\n",
       "  <thead>\n",
       "    <tr style=\"text-align: right;\">\n",
       "      <th></th>\n",
       "      <th>id</th>\n",
       "      <th>first_name</th>\n",
       "      <th>last_name</th>\n",
       "      <th>company_id</th>\n",
       "      <th>network_username</th>\n",
       "    </tr>\n",
       "  </thead>\n",
       "  <tbody>\n",
       "    <tr>\n",
       "      <th>0</th>\n",
       "      <td>10</td>\n",
       "      <td>Mark</td>\n",
       "      <td>Zuckerberg</td>\n",
       "      <td>5.0</td>\n",
       "      <td>NaN</td>\n",
       "    </tr>\n",
       "    <tr>\n",
       "      <th>1</th>\n",
       "      <td>100</td>\n",
       "      <td>Peter</td>\n",
       "      <td>Lester</td>\n",
       "      <td>27.0</td>\n",
       "      <td>NaN</td>\n",
       "    </tr>\n",
       "    <tr>\n",
       "      <th>2</th>\n",
       "      <td>1000</td>\n",
       "      <td>Dr. Steven</td>\n",
       "      <td>E. Saunders</td>\n",
       "      <td>292.0</td>\n",
       "      <td>NaN</td>\n",
       "    </tr>\n",
       "    <tr>\n",
       "      <th>3</th>\n",
       "      <td>10000</td>\n",
       "      <td>Neil</td>\n",
       "      <td>Capel</td>\n",
       "      <td>2526.0</td>\n",
       "      <td>NaN</td>\n",
       "    </tr>\n",
       "    <tr>\n",
       "      <th>4</th>\n",
       "      <td>100000</td>\n",
       "      <td>Sue</td>\n",
       "      <td>Pilsch</td>\n",
       "      <td>NaN</td>\n",
       "      <td>NaN</td>\n",
       "    </tr>\n",
       "  </tbody>\n",
       "</table>\n",
       "</div>"
      ],
      "text/plain": [
       "       id  first_name    last_name  company_id network_username\n",
       "0      10        Mark   Zuckerberg         5.0              NaN\n",
       "1     100       Peter       Lester        27.0              NaN\n",
       "2    1000  Dr. Steven  E. Saunders       292.0              NaN\n",
       "3   10000        Neil        Capel      2526.0              NaN\n",
       "4  100000         Sue       Pilsch         NaN              NaN"
      ]
     },
     "execution_count": 9,
     "metadata": {},
     "output_type": "execute_result"
    }
   ],
   "source": [
    "# Выводим несколько первых строк датасета\n",
    "people.head()"
   ]
  },
  {
   "cell_type": "code",
   "execution_count": 10,
   "metadata": {
    "scrolled": true
   },
   "outputs": [
    {
     "name": "stdout",
     "output_type": "stream",
     "text": [
      "<class 'pandas.core.frame.DataFrame'>\n",
      "RangeIndex: 226709 entries, 0 to 226708\n",
      "Data columns (total 5 columns):\n",
      " #   Column            Non-Null Count   Dtype  \n",
      "---  ------            --------------   -----  \n",
      " 0   id                226709 non-null  int64  \n",
      " 1   first_name        226704 non-null  object \n",
      " 2   last_name         226708 non-null  object \n",
      " 3   company_id        34615 non-null   float64\n",
      " 4   network_username  38867 non-null   object \n",
      "dtypes: float64(1), int64(1), object(3)\n",
      "memory usage: 8.6+ MB\n"
     ]
    }
   ],
   "source": [
    "# Выводим основную информацию о датасете\n",
    "people.info()"
   ]
  },
  {
   "cell_type": "code",
   "execution_count": 11,
   "metadata": {},
   "outputs": [],
   "source": [
    "# Загрузим датасет с информацией об образовании сотрудников\n",
    "education = pd.read_csv('https://code.s3.yandex.net/datasets/education.csv')"
   ]
  },
  {
   "cell_type": "code",
   "execution_count": 12,
   "metadata": {},
   "outputs": [
    {
     "data": {
      "text/html": [
       "<div>\n",
       "<style scoped>\n",
       "    .dataframe tbody tr th:only-of-type {\n",
       "        vertical-align: middle;\n",
       "    }\n",
       "\n",
       "    .dataframe tbody tr th {\n",
       "        vertical-align: top;\n",
       "    }\n",
       "\n",
       "    .dataframe thead th {\n",
       "        text-align: right;\n",
       "    }\n",
       "</style>\n",
       "<table border=\"1\" class=\"dataframe\">\n",
       "  <thead>\n",
       "    <tr style=\"text-align: right;\">\n",
       "      <th></th>\n",
       "      <th>id</th>\n",
       "      <th>person_id</th>\n",
       "      <th>instituition</th>\n",
       "      <th>graduated_at</th>\n",
       "    </tr>\n",
       "  </thead>\n",
       "  <tbody>\n",
       "    <tr>\n",
       "      <th>0</th>\n",
       "      <td>1</td>\n",
       "      <td>6117</td>\n",
       "      <td>NaN</td>\n",
       "      <td>NaN</td>\n",
       "    </tr>\n",
       "    <tr>\n",
       "      <th>1</th>\n",
       "      <td>2</td>\n",
       "      <td>6136</td>\n",
       "      <td>Washington University, St. Louis</td>\n",
       "      <td>1990-01-01</td>\n",
       "    </tr>\n",
       "    <tr>\n",
       "      <th>2</th>\n",
       "      <td>3</td>\n",
       "      <td>6136</td>\n",
       "      <td>Boston University</td>\n",
       "      <td>1992-01-01</td>\n",
       "    </tr>\n",
       "    <tr>\n",
       "      <th>3</th>\n",
       "      <td>4</td>\n",
       "      <td>6005</td>\n",
       "      <td>University of Greenwich</td>\n",
       "      <td>2006-01-01</td>\n",
       "    </tr>\n",
       "    <tr>\n",
       "      <th>4</th>\n",
       "      <td>5</td>\n",
       "      <td>5832</td>\n",
       "      <td>Rice University</td>\n",
       "      <td>NaN</td>\n",
       "    </tr>\n",
       "  </tbody>\n",
       "</table>\n",
       "</div>"
      ],
      "text/plain": [
       "   id  person_id                      instituition graduated_at\n",
       "0   1       6117                               NaN          NaN\n",
       "1   2       6136  Washington University, St. Louis   1990-01-01\n",
       "2   3       6136                 Boston University   1992-01-01\n",
       "3   4       6005           University of Greenwich   2006-01-01\n",
       "4   5       5832                   Rice University          NaN"
      ]
     },
     "execution_count": 12,
     "metadata": {},
     "output_type": "execute_result"
    }
   ],
   "source": [
    "# Выводим несколько первых строк датасета\n",
    "education.head()"
   ]
  },
  {
   "cell_type": "code",
   "execution_count": 13,
   "metadata": {},
   "outputs": [
    {
     "name": "stdout",
     "output_type": "stream",
     "text": [
      "<class 'pandas.core.frame.DataFrame'>\n",
      "RangeIndex: 109610 entries, 0 to 109609\n",
      "Data columns (total 4 columns):\n",
      " #   Column        Non-Null Count   Dtype \n",
      "---  ------        --------------   ----- \n",
      " 0   id            109610 non-null  int64 \n",
      " 1   person_id     109610 non-null  int64 \n",
      " 2   instituition  109555 non-null  object\n",
      " 3   graduated_at  58054 non-null   object\n",
      "dtypes: int64(2), object(2)\n",
      "memory usage: 3.3+ MB\n"
     ]
    }
   ],
   "source": [
    "# Выводим основную информацию о датасете\n",
    "education.info()"
   ]
  },
  {
   "cell_type": "code",
   "execution_count": 14,
   "metadata": {},
   "outputs": [],
   "source": [
    "# Загрузим датасет с информацией о типе образования сотрудника\n",
    "degrees = pd.read_csv('https://code.s3.yandex.net/datasets/degrees.csv')"
   ]
  },
  {
   "cell_type": "code",
   "execution_count": 15,
   "metadata": {},
   "outputs": [
    {
     "data": {
      "text/html": [
       "<div>\n",
       "<style scoped>\n",
       "    .dataframe tbody tr th:only-of-type {\n",
       "        vertical-align: middle;\n",
       "    }\n",
       "\n",
       "    .dataframe tbody tr th {\n",
       "        vertical-align: top;\n",
       "    }\n",
       "\n",
       "    .dataframe thead th {\n",
       "        text-align: right;\n",
       "    }\n",
       "</style>\n",
       "<table border=\"1\" class=\"dataframe\">\n",
       "  <thead>\n",
       "    <tr style=\"text-align: right;\">\n",
       "      <th></th>\n",
       "      <th>id</th>\n",
       "      <th>object_id</th>\n",
       "      <th>degree_type</th>\n",
       "      <th>subject</th>\n",
       "    </tr>\n",
       "  </thead>\n",
       "  <tbody>\n",
       "    <tr>\n",
       "      <th>0</th>\n",
       "      <td>1</td>\n",
       "      <td>p:6117</td>\n",
       "      <td>MBA</td>\n",
       "      <td>NaN</td>\n",
       "    </tr>\n",
       "    <tr>\n",
       "      <th>1</th>\n",
       "      <td>2</td>\n",
       "      <td>p:6136</td>\n",
       "      <td>BA</td>\n",
       "      <td>English, French</td>\n",
       "    </tr>\n",
       "    <tr>\n",
       "      <th>2</th>\n",
       "      <td>3</td>\n",
       "      <td>p:6136</td>\n",
       "      <td>MS</td>\n",
       "      <td>Mass Communication</td>\n",
       "    </tr>\n",
       "    <tr>\n",
       "      <th>3</th>\n",
       "      <td>4</td>\n",
       "      <td>p:6005</td>\n",
       "      <td>MS</td>\n",
       "      <td>Internet Technology</td>\n",
       "    </tr>\n",
       "    <tr>\n",
       "      <th>4</th>\n",
       "      <td>5</td>\n",
       "      <td>p:5832</td>\n",
       "      <td>BCS</td>\n",
       "      <td>Computer Science, Psychology</td>\n",
       "    </tr>\n",
       "  </tbody>\n",
       "</table>\n",
       "</div>"
      ],
      "text/plain": [
       "   id object_id degree_type                       subject\n",
       "0   1    p:6117         MBA                           NaN\n",
       "1   2    p:6136          BA               English, French\n",
       "2   3    p:6136          MS            Mass Communication\n",
       "3   4    p:6005          MS           Internet Technology\n",
       "4   5    p:5832         BCS  Computer Science, Psychology"
      ]
     },
     "execution_count": 15,
     "metadata": {},
     "output_type": "execute_result"
    }
   ],
   "source": [
    "# Выводим несколько первых строк датасета\n",
    "degrees.head()"
   ]
  },
  {
   "cell_type": "code",
   "execution_count": 16,
   "metadata": {
    "scrolled": true
   },
   "outputs": [
    {
     "name": "stdout",
     "output_type": "stream",
     "text": [
      "<class 'pandas.core.frame.DataFrame'>\n",
      "RangeIndex: 109610 entries, 0 to 109609\n",
      "Data columns (total 4 columns):\n",
      " #   Column       Non-Null Count   Dtype \n",
      "---  ------       --------------   ----- \n",
      " 0   id           109610 non-null  int64 \n",
      " 1   object_id    109610 non-null  object\n",
      " 2   degree_type  98392 non-null   object\n",
      " 3   subject      81298 non-null   object\n",
      "dtypes: int64(1), object(3)\n",
      "memory usage: 3.3+ MB\n"
     ]
    }
   ],
   "source": [
    "# Выводим основную информацию о датасете\n",
    "degrees.info()"
   ]
  },
  {
   "cell_type": "markdown",
   "metadata": {},
   "source": [
    "Загрузили все датасеты, нужные для работы. Во всех есть из них есть пропуски, во многих из них они занимают существенную часть данных. Названия столбцов во всех датасетах кроме `company_and_rounds` соответствуют типу snake_case."
   ]
  },
  {
   "cell_type": "markdown",
   "metadata": {},
   "source": [
    "<div class=\"alert alert-success\">\n",
    "<h2> Комментарий ревьюера v1 <a class=\"tocSkip\"> </h2>\n",
    "\n",
    "<b>Все супер!👍:</b>  хороший выбор методов для первичной оценки данных "
   ]
  },
  {
   "cell_type": "code",
   "execution_count": 17,
   "metadata": {
    "scrolled": true
   },
   "outputs": [
    {
     "name": "stdout",
     "output_type": "stream",
     "text": [
      "<class 'pandas.core.frame.DataFrame'>\n",
      "RangeIndex: 217774 entries, 0 to 217773\n",
      "Data columns (total 22 columns):\n",
      " #   Column               Non-Null Count   Dtype  \n",
      "---  ------               --------------   -----  \n",
      " 0   company_id           217472 non-null  float64\n",
      " 1   name                 217472 non-null  object \n",
      " 2   category_code        143886 non-null  object \n",
      " 3   status               217472 non-null  object \n",
      " 4   founded_at           109956 non-null  object \n",
      " 5   closed_at            3449 non-null    object \n",
      " 6   domain               147159 non-null  object \n",
      " 7   network_username     95534 non-null   object \n",
      " 8   country_code         108607 non-null  object \n",
      " 9   investment_rounds    217472 non-null  float64\n",
      " 10  funding_rounds       217472 non-null  float64\n",
      " 11  funding_total        217472 non-null  float64\n",
      " 12  milestones           217472 non-null  float64\n",
      " 13  funding_round_id     52928 non-null   float64\n",
      " 14  company_id           52928 non-null   float64\n",
      " 15  funded_at            52680 non-null   object \n",
      " 16  funding_round_type   52928 non-null   object \n",
      " 17  raised_amount        52928 non-null   float64\n",
      " 18  pre_money_valuation  52928 non-null   float64\n",
      " 19  participants         52928 non-null   float64\n",
      " 20  is_first_round       52928 non-null   float64\n",
      " 21  is_last_round        52928 non-null   float64\n",
      "dtypes: float64(12), object(10)\n",
      "memory usage: 36.6+ MB\n"
     ]
    }
   ],
   "source": [
    "# Приведем столбцы company_and_rounds к типу snake_case\n",
    "crounds.columns = crounds.columns.str.replace('  ', '_').str.lower()\n",
    "crounds.info()"
   ]
  },
  {
   "cell_type": "markdown",
   "metadata": {},
   "source": [
    "В датасете `company_and_rounds` содержится два столбца с названием company_id, возможно это связано с тем, что этот датасет вероятно получился из двух датасетов: датасетом с информацией о компаниях и датасетом с информацией о раундах финансирования."
   ]
  },
  {
   "cell_type": "markdown",
   "metadata": {},
   "source": [
    "<div class=\"alert alert-block alert-danger\">\n",
    "<h2> Комментарий ревьюера v1<a class=\"tocSkip\"></h2>\n",
    "\n",
    "<b>На доработку🤔:</b> Полезная привычка следовать \"змеиному стилю\", но корректно ли получить два столбца с одинаковым неймингом? Предлагаю сразу порассуждать почему могло оказаться в таблице два столбца с id компании"
   ]
  },
  {
   "cell_type": "markdown",
   "metadata": {},
   "source": [
    "<div class=\"alert alert-info\"> <b>Комментарий студента:</b> добавил небольшое рассуждение о причинах присутствия двух столбцов company_id."
   ]
  },
  {
   "cell_type": "markdown",
   "metadata": {},
   "source": [
    "<div class=\"alert alert-warning\">\n",
    "    <h2> Комментарий ревьюера v2<a class=\"tocSkip\"> </h2>\n",
    "    \n",
    "<b>Небольшие замечания и рекомендации💡:</b>Одинаковых неймингов все же рекомендую избегать"
   ]
  },
  {
   "cell_type": "markdown",
   "metadata": {
    "id": "mg2gEwh0rJg0"
   },
   "source": [
    "### 1.2. Смена типов и анализ пропусков\n",
    "\n",
    "- Обработайте типы данных в столбцах, которые хранят значения даты и времени, если это необходимо.\n",
    "- Оцените полноту данных — сделайте предварительный вывод, достаточно ли данных для решения задач проекта."
   ]
  },
  {
   "cell_type": "markdown",
   "metadata": {
    "id": "46VskrGyFeJ-"
   },
   "source": [
    "По результатам предыдущего пункта проекта заметим, что в датасете `acquisition` есть столбец с датой `acquired_at`, в `company_and_rounds` - `founded  at`, `funded  at`, `closed_at` в `education` - `graduated_at`. Все эти столбцы можно преобразовать с типу даты и времены."
   ]
  },
  {
   "cell_type": "markdown",
   "metadata": {
    "id": "DEg1tl8DFeBn"
   },
   "source": [
    "Помяняем на временной тип данных значения в датасете `acquisition`."
   ]
  },
  {
   "cell_type": "code",
   "execution_count": 18,
   "metadata": {},
   "outputs": [
    {
     "name": "stdout",
     "output_type": "stream",
     "text": [
      "<class 'pandas.core.frame.DataFrame'>\n",
      "RangeIndex: 9407 entries, 0 to 9406\n",
      "Data columns (total 6 columns):\n",
      " #   Column                Non-Null Count  Dtype \n",
      "---  ------                --------------  ----- \n",
      " 0   id                    9407 non-null   int64 \n",
      " 1   acquiring_company_id  9407 non-null   int64 \n",
      " 2   acquired_company_id   9407 non-null   int64 \n",
      " 3   term_code             1831 non-null   object\n",
      " 4   price_amount          9407 non-null   int64 \n",
      " 5   acquired_at           9378 non-null   object\n",
      "dtypes: int64(4), object(2)\n",
      "memory usage: 441.1+ KB\n"
     ]
    }
   ],
   "source": [
    "# Выводим основную информацию о датасете\n",
    "acquisition.info()"
   ]
  },
  {
   "cell_type": "code",
   "execution_count": 19,
   "metadata": {},
   "outputs": [],
   "source": [
    "# Приводим столбец acquired_at к типу даты\n",
    "acquisition['acquired_at'] = pd.to_datetime(acquisition['acquired_at'])"
   ]
  },
  {
   "cell_type": "code",
   "execution_count": 20,
   "metadata": {},
   "outputs": [
    {
     "name": "stdout",
     "output_type": "stream",
     "text": [
      "<class 'pandas.core.frame.DataFrame'>\n",
      "RangeIndex: 9407 entries, 0 to 9406\n",
      "Data columns (total 6 columns):\n",
      " #   Column                Non-Null Count  Dtype         \n",
      "---  ------                --------------  -----         \n",
      " 0   id                    9407 non-null   int64         \n",
      " 1   acquiring_company_id  9407 non-null   int64         \n",
      " 2   acquired_company_id   9407 non-null   int64         \n",
      " 3   term_code             1831 non-null   object        \n",
      " 4   price_amount          9407 non-null   int64         \n",
      " 5   acquired_at           9378 non-null   datetime64[ns]\n",
      "dtypes: datetime64[ns](1), int64(4), object(1)\n",
      "memory usage: 441.1+ KB\n"
     ]
    }
   ],
   "source": [
    "# Выводим основную информацию о датасете\n",
    "acquisition.info()"
   ]
  },
  {
   "cell_type": "markdown",
   "metadata": {},
   "source": [
    "Помяняем на временной тип данных значения в датасете `company_and_rounds`."
   ]
  },
  {
   "cell_type": "code",
   "execution_count": 21,
   "metadata": {
    "scrolled": true
   },
   "outputs": [
    {
     "name": "stdout",
     "output_type": "stream",
     "text": [
      "<class 'pandas.core.frame.DataFrame'>\n",
      "RangeIndex: 217774 entries, 0 to 217773\n",
      "Data columns (total 22 columns):\n",
      " #   Column               Non-Null Count   Dtype  \n",
      "---  ------               --------------   -----  \n",
      " 0   company_id           217472 non-null  float64\n",
      " 1   name                 217472 non-null  object \n",
      " 2   category_code        143886 non-null  object \n",
      " 3   status               217472 non-null  object \n",
      " 4   founded_at           109956 non-null  object \n",
      " 5   closed_at            3449 non-null    object \n",
      " 6   domain               147159 non-null  object \n",
      " 7   network_username     95534 non-null   object \n",
      " 8   country_code         108607 non-null  object \n",
      " 9   investment_rounds    217472 non-null  float64\n",
      " 10  funding_rounds       217472 non-null  float64\n",
      " 11  funding_total        217472 non-null  float64\n",
      " 12  milestones           217472 non-null  float64\n",
      " 13  funding_round_id     52928 non-null   float64\n",
      " 14  company_id           52928 non-null   float64\n",
      " 15  funded_at            52680 non-null   object \n",
      " 16  funding_round_type   52928 non-null   object \n",
      " 17  raised_amount        52928 non-null   float64\n",
      " 18  pre_money_valuation  52928 non-null   float64\n",
      " 19  participants         52928 non-null   float64\n",
      " 20  is_first_round       52928 non-null   float64\n",
      " 21  is_last_round        52928 non-null   float64\n",
      "dtypes: float64(12), object(10)\n",
      "memory usage: 36.6+ MB\n"
     ]
    }
   ],
   "source": [
    "# Выводим основную информацию о датасете\n",
    "crounds.info()"
   ]
  },
  {
   "cell_type": "code",
   "execution_count": 22,
   "metadata": {},
   "outputs": [],
   "source": [
    "# Приводим столбцы к типу даты и времени\n",
    "crounds['founded_at'] = pd.to_datetime(crounds['founded_at'])\n",
    "crounds['funded_at'] = pd.to_datetime(crounds['funded_at'])\n",
    "crounds['closed_at'] = pd.to_datetime(crounds['closed_at'])"
   ]
  },
  {
   "cell_type": "markdown",
   "metadata": {},
   "source": [
    "<div class=\"alert alert-block alert-danger\">\n",
    "<h2> Комментарий ревьюера v1<a class=\"tocSkip\"></h2>\n",
    "\n",
    "<b>На доработку🤔:</b>Пожалуйста взгляни чуть внимательнее на данные, есть еще один столбец с датами и лучше их все всегда приводить к формату pandas"
   ]
  },
  {
   "cell_type": "markdown",
   "metadata": {},
   "source": [
    "<div class=\"alert alert-info\"> <b>Комментарий студента:</b> добавил исправление типа данных столбца closed_at."
   ]
  },
  {
   "cell_type": "markdown",
   "metadata": {},
   "source": [
    "<div class=\"alert alert-success\">\n",
    "<h2> Комментарий ревьюера v2 <a class=\"tocSkip\"> </h2>\n",
    "\n",
    "<b>Все супер!👍:</b> Отлично, все типы данных скорректированы"
   ]
  },
  {
   "cell_type": "code",
   "execution_count": 23,
   "metadata": {},
   "outputs": [
    {
     "name": "stdout",
     "output_type": "stream",
     "text": [
      "<class 'pandas.core.frame.DataFrame'>\n",
      "RangeIndex: 217774 entries, 0 to 217773\n",
      "Data columns (total 22 columns):\n",
      " #   Column               Non-Null Count   Dtype         \n",
      "---  ------               --------------   -----         \n",
      " 0   company_id           217472 non-null  float64       \n",
      " 1   name                 217472 non-null  object        \n",
      " 2   category_code        143886 non-null  object        \n",
      " 3   status               217472 non-null  object        \n",
      " 4   founded_at           109956 non-null  datetime64[ns]\n",
      " 5   closed_at            3449 non-null    datetime64[ns]\n",
      " 6   domain               147159 non-null  object        \n",
      " 7   network_username     95534 non-null   object        \n",
      " 8   country_code         108607 non-null  object        \n",
      " 9   investment_rounds    217472 non-null  float64       \n",
      " 10  funding_rounds       217472 non-null  float64       \n",
      " 11  funding_total        217472 non-null  float64       \n",
      " 12  milestones           217472 non-null  float64       \n",
      " 13  funding_round_id     52928 non-null   float64       \n",
      " 14  company_id           52928 non-null   float64       \n",
      " 15  funded_at            52680 non-null   datetime64[ns]\n",
      " 16  funding_round_type   52928 non-null   object        \n",
      " 17  raised_amount        52928 non-null   float64       \n",
      " 18  pre_money_valuation  52928 non-null   float64       \n",
      " 19  participants         52928 non-null   float64       \n",
      " 20  is_first_round       52928 non-null   float64       \n",
      " 21  is_last_round        52928 non-null   float64       \n",
      "dtypes: datetime64[ns](3), float64(12), object(7)\n",
      "memory usage: 36.6+ MB\n"
     ]
    }
   ],
   "source": [
    "# Выводим основную информацию о датасете\n",
    "crounds.info()"
   ]
  },
  {
   "cell_type": "markdown",
   "metadata": {},
   "source": [
    "Помяняем на временной тип данных значения в датасете `education`."
   ]
  },
  {
   "cell_type": "code",
   "execution_count": 24,
   "metadata": {},
   "outputs": [
    {
     "name": "stdout",
     "output_type": "stream",
     "text": [
      "<class 'pandas.core.frame.DataFrame'>\n",
      "RangeIndex: 109610 entries, 0 to 109609\n",
      "Data columns (total 4 columns):\n",
      " #   Column        Non-Null Count   Dtype \n",
      "---  ------        --------------   ----- \n",
      " 0   id            109610 non-null  int64 \n",
      " 1   person_id     109610 non-null  int64 \n",
      " 2   instituition  109555 non-null  object\n",
      " 3   graduated_at  58054 non-null   object\n",
      "dtypes: int64(2), object(2)\n",
      "memory usage: 3.3+ MB\n"
     ]
    }
   ],
   "source": [
    "# Выводим основную информацию о датафрейме\n",
    "education.info()"
   ]
  },
  {
   "cell_type": "code",
   "execution_count": 25,
   "metadata": {},
   "outputs": [],
   "source": [
    "# Приводим столбец к типу даты и времени\n",
    "education['graduated_at'] = pd.to_datetime(education['graduated_at'])"
   ]
  },
  {
   "cell_type": "code",
   "execution_count": 26,
   "metadata": {
    "scrolled": false
   },
   "outputs": [
    {
     "name": "stdout",
     "output_type": "stream",
     "text": [
      "<class 'pandas.core.frame.DataFrame'>\n",
      "RangeIndex: 109610 entries, 0 to 109609\n",
      "Data columns (total 4 columns):\n",
      " #   Column        Non-Null Count   Dtype         \n",
      "---  ------        --------------   -----         \n",
      " 0   id            109610 non-null  int64         \n",
      " 1   person_id     109610 non-null  int64         \n",
      " 2   instituition  109555 non-null  object        \n",
      " 3   graduated_at  58054 non-null   datetime64[ns]\n",
      "dtypes: datetime64[ns](1), int64(2), object(1)\n",
      "memory usage: 3.3+ MB\n"
     ]
    }
   ],
   "source": [
    "# Выводим основную информацию о датасете\n",
    "education.info()"
   ]
  },
  {
   "cell_type": "markdown",
   "metadata": {},
   "source": [
    "<div class=\"alert alert-warning\">\n",
    "    <h2> Комментарий ревьюера v1 <a class=\"tocSkip\"> </h2>\n",
    "    \n",
    "<b>Небольшие замечания и рекомендации💡:</b>  Кстати можно немного оптимизировать эти однотипные процессы если заметить, что все столбцы с датами заканчиваются на `_at`, цикл тут будет очень кстати"
   ]
  },
  {
   "cell_type": "markdown",
   "metadata": {},
   "source": [
    "Датасеты содержат достаточно большое количество данных, и хотя существует большое количество пропусков, данных для решения задачи вполне хватает. Мы решили не заполнять пропуски, чтобы не исказить результаты нашего исследования, также это решение логично, ведь большинство методов pandas могут безошибочно работать со столбцами с пропусками."
   ]
  },
  {
   "cell_type": "markdown",
   "metadata": {},
   "source": [
    "<div class=\"alert alert-block alert-danger\">\n",
    "<h2> Комментарий ревьюера v1<a class=\"tocSkip\"></h2>\n",
    "\n",
    "<b>На доработку🤔:</b> Данные действительно содержат много пропусков и лучше более явно аргументировать свое решение оставить их как есть. Это сделает твой подход к решению вопроса не полных данных максимально понятным пользователям"
   ]
  },
  {
   "cell_type": "markdown",
   "metadata": {},
   "source": [
    "<div class=\"alert alert-info\"> <b>Комментарий студента:</b> Добавил дополнительную аргументацию решения сохранить пропуски."
   ]
  },
  {
   "cell_type": "markdown",
   "metadata": {},
   "source": [
    "<div class=\"alert alert-warning\">\n",
    "    <h2> Комментарий ревьюера v2 <a class=\"tocSkip\"> </h2>\n",
    "    \n",
    "<b>Небольшие замечания и рекомендации💡:</b> Все верно, а еще тут сложно придумать однозначно верное решение по аппроксимации и поэтому точно не стоит вносить в данные искажения"
   ]
  },
  {
   "cell_type": "markdown",
   "metadata": {
    "id": "u60cHsn6rJg1"
   },
   "source": [
    "## Шаг 2. Предобработка данных, предварительное исследование"
   ]
  },
  {
   "cell_type": "markdown",
   "metadata": {
    "id": "g2bHIIjcrJg1"
   },
   "source": [
    "\n",
    "### 2.1. Раунды финансирования по годам\n",
    "\n",
    "Задание необходимо выполнить без объединения и дополнительной предобработки на основе датасета `company_and_rounds.csv`.\n",
    "\n",
    "- Составьте сводную таблицу по годам, в которой на основании столбца `raised_amount` для каждого года указан:\n",
    "    - типичный размер средств, выделяемый в рамках одного раунда;\n",
    "    - общее количество раундов финансирования за этот год.\n",
    "    \n",
    "- Оставьте в таблице информацию только для тех лет, для которых есть информация о более чем 50 раундах финансирования.\n",
    "- На основе получившейся таблицы постройте график, который будет отражать динамику типичного размера средств, которые стартапы получали в рамках одного раунда финансирования.\n",
    "\n",
    "На основе полученных данных ответьте на вопросы:\n",
    "\n",
    "- В каком году типичный размер собранных в рамках одного раунда средств был максимален?\n",
    "- Какая тенденция по количеству раундов и выделяемых в рамках каждого раунда средств наблюдалась в 2013 году?"
   ]
  },
  {
   "cell_type": "code",
   "execution_count": 27,
   "metadata": {},
   "outputs": [],
   "source": [
    "# Поменяем формат вывода по умолчанию для удобства\n",
    "pd.set_option('display.float_format', '{:.2f}'.format)"
   ]
  },
  {
   "cell_type": "code",
   "execution_count": 28,
   "metadata": {
    "id": "Cf5IjfOQrJg1",
    "vscode": {
     "languageId": "plaintext"
    }
   },
   "outputs": [
    {
     "data": {
      "text/html": [
       "<div>\n",
       "<style scoped>\n",
       "    .dataframe tbody tr th:only-of-type {\n",
       "        vertical-align: middle;\n",
       "    }\n",
       "\n",
       "    .dataframe tbody tr th {\n",
       "        vertical-align: top;\n",
       "    }\n",
       "\n",
       "    .dataframe thead th {\n",
       "        text-align: right;\n",
       "    }\n",
       "</style>\n",
       "<table border=\"1\" class=\"dataframe\">\n",
       "  <thead>\n",
       "    <tr style=\"text-align: right;\">\n",
       "      <th></th>\n",
       "      <th>raised_amount</th>\n",
       "      <th>funding_rounds</th>\n",
       "    </tr>\n",
       "    <tr>\n",
       "      <th>funded_at</th>\n",
       "      <th></th>\n",
       "      <th></th>\n",
       "    </tr>\n",
       "  </thead>\n",
       "  <tbody>\n",
       "    <tr>\n",
       "      <th>1960.00</th>\n",
       "      <td>0.00</td>\n",
       "      <td>16.00</td>\n",
       "    </tr>\n",
       "    <tr>\n",
       "      <th>1973.00</th>\n",
       "      <td>0.00</td>\n",
       "      <td>1.00</td>\n",
       "    </tr>\n",
       "    <tr>\n",
       "      <th>1974.00</th>\n",
       "      <td>0.00</td>\n",
       "      <td>2.00</td>\n",
       "    </tr>\n",
       "    <tr>\n",
       "      <th>1984.00</th>\n",
       "      <td>41000.00</td>\n",
       "      <td>3.00</td>\n",
       "    </tr>\n",
       "    <tr>\n",
       "      <th>1985.00</th>\n",
       "      <td>0.00</td>\n",
       "      <td>1.00</td>\n",
       "    </tr>\n",
       "    <tr>\n",
       "      <th>1987.00</th>\n",
       "      <td>1250000.00</td>\n",
       "      <td>2.00</td>\n",
       "    </tr>\n",
       "    <tr>\n",
       "      <th>1989.00</th>\n",
       "      <td>15000.00</td>\n",
       "      <td>1.00</td>\n",
       "    </tr>\n",
       "    <tr>\n",
       "      <th>1990.00</th>\n",
       "      <td>1000000.00</td>\n",
       "      <td>1.00</td>\n",
       "    </tr>\n",
       "    <tr>\n",
       "      <th>1992.00</th>\n",
       "      <td>2000000.00</td>\n",
       "      <td>2.00</td>\n",
       "    </tr>\n",
       "    <tr>\n",
       "      <th>1993.00</th>\n",
       "      <td>62500.00</td>\n",
       "      <td>2.00</td>\n",
       "    </tr>\n",
       "    <tr>\n",
       "      <th>1994.00</th>\n",
       "      <td>6700000.00</td>\n",
       "      <td>3.00</td>\n",
       "    </tr>\n",
       "    <tr>\n",
       "      <th>1995.00</th>\n",
       "      <td>2000000.00</td>\n",
       "      <td>13.00</td>\n",
       "    </tr>\n",
       "    <tr>\n",
       "      <th>1996.00</th>\n",
       "      <td>12500.00</td>\n",
       "      <td>19.00</td>\n",
       "    </tr>\n",
       "    <tr>\n",
       "      <th>1997.00</th>\n",
       "      <td>3300000.00</td>\n",
       "      <td>18.00</td>\n",
       "    </tr>\n",
       "    <tr>\n",
       "      <th>1998.00</th>\n",
       "      <td>100000.00</td>\n",
       "      <td>72.00</td>\n",
       "    </tr>\n",
       "    <tr>\n",
       "      <th>1999.00</th>\n",
       "      <td>2000000.00</td>\n",
       "      <td>268.00</td>\n",
       "    </tr>\n",
       "    <tr>\n",
       "      <th>2000.00</th>\n",
       "      <td>4200000.00</td>\n",
       "      <td>403.00</td>\n",
       "    </tr>\n",
       "    <tr>\n",
       "      <th>2001.00</th>\n",
       "      <td>3000000.00</td>\n",
       "      <td>302.00</td>\n",
       "    </tr>\n",
       "    <tr>\n",
       "      <th>2002.00</th>\n",
       "      <td>4200000.00</td>\n",
       "      <td>385.00</td>\n",
       "    </tr>\n",
       "    <tr>\n",
       "      <th>2003.00</th>\n",
       "      <td>3000000.00</td>\n",
       "      <td>569.00</td>\n",
       "    </tr>\n",
       "    <tr>\n",
       "      <th>2004.00</th>\n",
       "      <td>5000000.00</td>\n",
       "      <td>1057.00</td>\n",
       "    </tr>\n",
       "    <tr>\n",
       "      <th>2005.00</th>\n",
       "      <td>5500000.00</td>\n",
       "      <td>4157.00</td>\n",
       "    </tr>\n",
       "    <tr>\n",
       "      <th>2006.00</th>\n",
       "      <td>5000000.00</td>\n",
       "      <td>6295.00</td>\n",
       "    </tr>\n",
       "    <tr>\n",
       "      <th>2007.00</th>\n",
       "      <td>3973320.00</td>\n",
       "      <td>8494.00</td>\n",
       "    </tr>\n",
       "    <tr>\n",
       "      <th>2008.00</th>\n",
       "      <td>3110000.00</td>\n",
       "      <td>9931.00</td>\n",
       "    </tr>\n",
       "    <tr>\n",
       "      <th>2009.00</th>\n",
       "      <td>2000000.00</td>\n",
       "      <td>11857.00</td>\n",
       "    </tr>\n",
       "    <tr>\n",
       "      <th>2010.00</th>\n",
       "      <td>1602500.00</td>\n",
       "      <td>16913.00</td>\n",
       "    </tr>\n",
       "    <tr>\n",
       "      <th>2011.00</th>\n",
       "      <td>1200000.00</td>\n",
       "      <td>23503.00</td>\n",
       "    </tr>\n",
       "    <tr>\n",
       "      <th>2012.00</th>\n",
       "      <td>1000000.00</td>\n",
       "      <td>24549.00</td>\n",
       "    </tr>\n",
       "    <tr>\n",
       "      <th>2013.00</th>\n",
       "      <td>1200000.00</td>\n",
       "      <td>23978.00</td>\n",
       "    </tr>\n",
       "  </tbody>\n",
       "</table>\n",
       "</div>"
      ],
      "text/plain": [
       "           raised_amount  funding_rounds\n",
       "funded_at                               \n",
       "1960.00             0.00           16.00\n",
       "1973.00             0.00            1.00\n",
       "1974.00             0.00            2.00\n",
       "1984.00         41000.00            3.00\n",
       "1985.00             0.00            1.00\n",
       "1987.00       1250000.00            2.00\n",
       "1989.00         15000.00            1.00\n",
       "1990.00       1000000.00            1.00\n",
       "1992.00       2000000.00            2.00\n",
       "1993.00         62500.00            2.00\n",
       "1994.00       6700000.00            3.00\n",
       "1995.00       2000000.00           13.00\n",
       "1996.00         12500.00           19.00\n",
       "1997.00       3300000.00           18.00\n",
       "1998.00        100000.00           72.00\n",
       "1999.00       2000000.00          268.00\n",
       "2000.00       4200000.00          403.00\n",
       "2001.00       3000000.00          302.00\n",
       "2002.00       4200000.00          385.00\n",
       "2003.00       3000000.00          569.00\n",
       "2004.00       5000000.00         1057.00\n",
       "2005.00       5500000.00         4157.00\n",
       "2006.00       5000000.00         6295.00\n",
       "2007.00       3973320.00         8494.00\n",
       "2008.00       3110000.00         9931.00\n",
       "2009.00       2000000.00        11857.00\n",
       "2010.00       1602500.00        16913.00\n",
       "2011.00       1200000.00        23503.00\n",
       "2012.00       1000000.00        24549.00\n",
       "2013.00       1200000.00        23978.00"
      ]
     },
     "execution_count": 28,
     "metadata": {},
     "output_type": "execute_result"
    }
   ],
   "source": [
    "# Составим сводную таблицу по годам\n",
    "pivot_amount = crounds.groupby(crounds['funded_at'].dt.year).agg({'raised_amount': 'median', 'funding_rounds': 'sum'})\n",
    "pivot_amount"
   ]
  },
  {
   "cell_type": "code",
   "execution_count": 29,
   "metadata": {},
   "outputs": [
    {
     "data": {
      "text/html": [
       "<div>\n",
       "<style scoped>\n",
       "    .dataframe tbody tr th:only-of-type {\n",
       "        vertical-align: middle;\n",
       "    }\n",
       "\n",
       "    .dataframe tbody tr th {\n",
       "        vertical-align: top;\n",
       "    }\n",
       "\n",
       "    .dataframe thead th {\n",
       "        text-align: right;\n",
       "    }\n",
       "</style>\n",
       "<table border=\"1\" class=\"dataframe\">\n",
       "  <thead>\n",
       "    <tr style=\"text-align: right;\">\n",
       "      <th></th>\n",
       "      <th>funded_at</th>\n",
       "      <th>raised_amount</th>\n",
       "      <th>funding_rounds</th>\n",
       "    </tr>\n",
       "  </thead>\n",
       "  <tbody>\n",
       "    <tr>\n",
       "      <th>0</th>\n",
       "      <td>1998</td>\n",
       "      <td>100000</td>\n",
       "      <td>72</td>\n",
       "    </tr>\n",
       "    <tr>\n",
       "      <th>1</th>\n",
       "      <td>1999</td>\n",
       "      <td>2000000</td>\n",
       "      <td>268</td>\n",
       "    </tr>\n",
       "    <tr>\n",
       "      <th>2</th>\n",
       "      <td>2000</td>\n",
       "      <td>4200000</td>\n",
       "      <td>403</td>\n",
       "    </tr>\n",
       "    <tr>\n",
       "      <th>3</th>\n",
       "      <td>2001</td>\n",
       "      <td>3000000</td>\n",
       "      <td>302</td>\n",
       "    </tr>\n",
       "    <tr>\n",
       "      <th>4</th>\n",
       "      <td>2002</td>\n",
       "      <td>4200000</td>\n",
       "      <td>385</td>\n",
       "    </tr>\n",
       "    <tr>\n",
       "      <th>5</th>\n",
       "      <td>2003</td>\n",
       "      <td>3000000</td>\n",
       "      <td>569</td>\n",
       "    </tr>\n",
       "    <tr>\n",
       "      <th>6</th>\n",
       "      <td>2004</td>\n",
       "      <td>5000000</td>\n",
       "      <td>1057</td>\n",
       "    </tr>\n",
       "    <tr>\n",
       "      <th>7</th>\n",
       "      <td>2005</td>\n",
       "      <td>5500000</td>\n",
       "      <td>4157</td>\n",
       "    </tr>\n",
       "    <tr>\n",
       "      <th>8</th>\n",
       "      <td>2006</td>\n",
       "      <td>5000000</td>\n",
       "      <td>6295</td>\n",
       "    </tr>\n",
       "    <tr>\n",
       "      <th>9</th>\n",
       "      <td>2007</td>\n",
       "      <td>3973320</td>\n",
       "      <td>8494</td>\n",
       "    </tr>\n",
       "    <tr>\n",
       "      <th>10</th>\n",
       "      <td>2008</td>\n",
       "      <td>3110000</td>\n",
       "      <td>9931</td>\n",
       "    </tr>\n",
       "    <tr>\n",
       "      <th>11</th>\n",
       "      <td>2009</td>\n",
       "      <td>2000000</td>\n",
       "      <td>11857</td>\n",
       "    </tr>\n",
       "    <tr>\n",
       "      <th>12</th>\n",
       "      <td>2010</td>\n",
       "      <td>1602500</td>\n",
       "      <td>16913</td>\n",
       "    </tr>\n",
       "    <tr>\n",
       "      <th>13</th>\n",
       "      <td>2011</td>\n",
       "      <td>1200000</td>\n",
       "      <td>23503</td>\n",
       "    </tr>\n",
       "    <tr>\n",
       "      <th>14</th>\n",
       "      <td>2012</td>\n",
       "      <td>1000000</td>\n",
       "      <td>24549</td>\n",
       "    </tr>\n",
       "    <tr>\n",
       "      <th>15</th>\n",
       "      <td>2013</td>\n",
       "      <td>1200000</td>\n",
       "      <td>23978</td>\n",
       "    </tr>\n",
       "  </tbody>\n",
       "</table>\n",
       "</div>"
      ],
      "text/plain": [
       "    funded_at  raised_amount  funding_rounds\n",
       "0        1998         100000              72\n",
       "1        1999        2000000             268\n",
       "2        2000        4200000             403\n",
       "3        2001        3000000             302\n",
       "4        2002        4200000             385\n",
       "5        2003        3000000             569\n",
       "6        2004        5000000            1057\n",
       "7        2005        5500000            4157\n",
       "8        2006        5000000            6295\n",
       "9        2007        3973320            8494\n",
       "10       2008        3110000            9931\n",
       "11       2009        2000000           11857\n",
       "12       2010        1602500           16913\n",
       "13       2011        1200000           23503\n",
       "14       2012        1000000           24549\n",
       "15       2013        1200000           23978"
      ]
     },
     "execution_count": 29,
     "metadata": {},
     "output_type": "execute_result"
    }
   ],
   "source": [
    "# Оставляем информацию для тех лет, когда есть информация больше чем о 50 раудах финансирования\n",
    "pivot_amount_final = pivot_amount[pivot_amount['funding_rounds'] > 50].reset_index()\n",
    "pivot_amount_final['funded_at'] = pivot_amount_final['funded_at'].astype(int)\n",
    "pivot_amount_final['raised_amount'] = pivot_amount_final['raised_amount'].astype(int)\n",
    "pivot_amount_final['funding_rounds'] = pivot_amount_final['funding_rounds'].astype(int)\n",
    "pivot_amount_final"
   ]
  },
  {
   "cell_type": "code",
   "execution_count": 30,
   "metadata": {
    "id": "8Fbz6KmzFdYP",
    "scrolled": true
   },
   "outputs": [
    {
     "data": {
      "image/png": "[encoded data removed]",
      "text/plain": [
       "<Figure size 432x288 with 1 Axes>"
      ]
     },
     "metadata": {
      "needs_background": "light"
     },
     "output_type": "display_data"
    }
   ],
   "source": [
    "# Построим линейный график, который будет отражать динамику типичного размера средств, которые стартапы получали в рамках одного раунда финансирования.\n",
    "ax = pivot_amount_final.plot.line(x='funded_at', y='raised_amount', legend=False)\n",
    "\n",
    "# Устанавливаем метки для каждого года\n",
    "ax.set_xticks(pivot_amount_final['funded_at'])\n",
    "ax.set_xticklabels(pivot_amount_final['funded_at'], rotation=45)\n",
    "\n",
    "# Добавляем подписи к осям\n",
    "ax.set_xlabel('Год')\n",
    "ax.set_ylabel('Медиана финансирования стартапов')\n",
    "plt.suptitle('Динамика типичного размера средств, которые стартапы получали в рамках одного раунда финансирования')\n",
    "plt.title('')  # Оставляем подпись пустой, чтобы не накладывались записи друг на друга\n",
    "plt.show()"
   ]
  },
  {
   "cell_type": "markdown",
   "metadata": {
    "id": "Z92DzKMMFdKW"
   },
   "source": [
    "В 2005 году типичный размер собранных в рамках одного раунда средств был максимален - 5 500 000.\n",
    "В 2013 году типичный размер собранных в рамках одного раунда средств был 1 200 000, а количество раундов составило 23978."
   ]
  },
  {
   "cell_type": "markdown",
   "metadata": {},
   "source": [
    "<div class=\"alert alert-warning\">\n",
    "    <h2> Комментарий ревьюера v1 <a class=\"tocSkip\"> </h2>\n",
    "    \n",
    "<b>Небольшие замечания и рекомендации💡:</b> Первая задача заказчика решена прекрасно, могу только посоветовать немного поработать над графиком. Предлагаю в названии оси Y дописать размерность данных (е6 = млн $)\n",
    "\n",
    "Безусловно, очень важно, чтобы график был удобен и читаем для аналитика, который строит этот график, но всё же немаловажно, чтобы он также был легко читаем и для пользователей этого графика, которые с ним не знакомы."
   ]
  },
  {
   "cell_type": "markdown",
   "metadata": {
    "id": "45if1en1rJg2"
   },
   "source": [
    "\n",
    "### 2.2. Люди и их образование\n",
    "\n",
    "Заказчик хочет понять, зависит ли полнота сведений о сотрудниках (например, об их образовании) от размера компаний.\n",
    "\n",
    "- Оцените, насколько информация об образовании сотрудников полна. Используя датасеты `people.csv` и `education.csv`, разделите все компании на несколько групп по количеству сотрудников и оцените среднюю долю сотрудников без информации об образовании в каждой из групп. Обоснуйте выбранные границы групп.\n",
    "- Оцените, возможно ли для выполнения задания присоединить к этим таблицам ещё и таблицу `degrees.csv`."
   ]
  },
  {
   "cell_type": "code",
   "execution_count": 31,
   "metadata": {
    "id": "psPO7C4MrJg2",
    "scrolled": true,
    "vscode": {
     "languageId": "plaintext"
    }
   },
   "outputs": [
    {
     "data": {
      "text/html": [
       "<div>\n",
       "<style scoped>\n",
       "    .dataframe tbody tr th:only-of-type {\n",
       "        vertical-align: middle;\n",
       "    }\n",
       "\n",
       "    .dataframe tbody tr th {\n",
       "        vertical-align: top;\n",
       "    }\n",
       "\n",
       "    .dataframe thead th {\n",
       "        text-align: right;\n",
       "    }\n",
       "</style>\n",
       "<table border=\"1\" class=\"dataframe\">\n",
       "  <thead>\n",
       "    <tr style=\"text-align: right;\">\n",
       "      <th></th>\n",
       "      <th>id</th>\n",
       "      <th>first_name</th>\n",
       "      <th>last_name</th>\n",
       "      <th>company_id</th>\n",
       "      <th>network_username</th>\n",
       "    </tr>\n",
       "  </thead>\n",
       "  <tbody>\n",
       "    <tr>\n",
       "      <th>0</th>\n",
       "      <td>10</td>\n",
       "      <td>Mark</td>\n",
       "      <td>Zuckerberg</td>\n",
       "      <td>5.00</td>\n",
       "      <td>NaN</td>\n",
       "    </tr>\n",
       "    <tr>\n",
       "      <th>1</th>\n",
       "      <td>100</td>\n",
       "      <td>Peter</td>\n",
       "      <td>Lester</td>\n",
       "      <td>27.00</td>\n",
       "      <td>NaN</td>\n",
       "    </tr>\n",
       "    <tr>\n",
       "      <th>2</th>\n",
       "      <td>1000</td>\n",
       "      <td>Dr. Steven</td>\n",
       "      <td>E. Saunders</td>\n",
       "      <td>292.00</td>\n",
       "      <td>NaN</td>\n",
       "    </tr>\n",
       "    <tr>\n",
       "      <th>3</th>\n",
       "      <td>10000</td>\n",
       "      <td>Neil</td>\n",
       "      <td>Capel</td>\n",
       "      <td>2526.00</td>\n",
       "      <td>NaN</td>\n",
       "    </tr>\n",
       "    <tr>\n",
       "      <th>4</th>\n",
       "      <td>100000</td>\n",
       "      <td>Sue</td>\n",
       "      <td>Pilsch</td>\n",
       "      <td>NaN</td>\n",
       "      <td>NaN</td>\n",
       "    </tr>\n",
       "  </tbody>\n",
       "</table>\n",
       "</div>"
      ],
      "text/plain": [
       "       id  first_name    last_name  company_id network_username\n",
       "0      10        Mark   Zuckerberg        5.00              NaN\n",
       "1     100       Peter       Lester       27.00              NaN\n",
       "2    1000  Dr. Steven  E. Saunders      292.00              NaN\n",
       "3   10000        Neil        Capel     2526.00              NaN\n",
       "4  100000         Sue       Pilsch         NaN              NaN"
      ]
     },
     "execution_count": 31,
     "metadata": {},
     "output_type": "execute_result"
    }
   ],
   "source": [
    "people.head()"
   ]
  },
  {
   "cell_type": "code",
   "execution_count": 32,
   "metadata": {
    "id": "BThTjpLqFcsm"
   },
   "outputs": [
    {
     "data": {
      "text/html": [
       "<div>\n",
       "<style scoped>\n",
       "    .dataframe tbody tr th:only-of-type {\n",
       "        vertical-align: middle;\n",
       "    }\n",
       "\n",
       "    .dataframe tbody tr th {\n",
       "        vertical-align: top;\n",
       "    }\n",
       "\n",
       "    .dataframe thead th {\n",
       "        text-align: right;\n",
       "    }\n",
       "</style>\n",
       "<table border=\"1\" class=\"dataframe\">\n",
       "  <thead>\n",
       "    <tr style=\"text-align: right;\">\n",
       "      <th></th>\n",
       "      <th>id</th>\n",
       "      <th>person_id</th>\n",
       "      <th>instituition</th>\n",
       "      <th>graduated_at</th>\n",
       "    </tr>\n",
       "  </thead>\n",
       "  <tbody>\n",
       "    <tr>\n",
       "      <th>0</th>\n",
       "      <td>1</td>\n",
       "      <td>6117</td>\n",
       "      <td>NaN</td>\n",
       "      <td>NaT</td>\n",
       "    </tr>\n",
       "    <tr>\n",
       "      <th>1</th>\n",
       "      <td>2</td>\n",
       "      <td>6136</td>\n",
       "      <td>Washington University, St. Louis</td>\n",
       "      <td>1990-01-01</td>\n",
       "    </tr>\n",
       "    <tr>\n",
       "      <th>2</th>\n",
       "      <td>3</td>\n",
       "      <td>6136</td>\n",
       "      <td>Boston University</td>\n",
       "      <td>1992-01-01</td>\n",
       "    </tr>\n",
       "    <tr>\n",
       "      <th>3</th>\n",
       "      <td>4</td>\n",
       "      <td>6005</td>\n",
       "      <td>University of Greenwich</td>\n",
       "      <td>2006-01-01</td>\n",
       "    </tr>\n",
       "    <tr>\n",
       "      <th>4</th>\n",
       "      <td>5</td>\n",
       "      <td>5832</td>\n",
       "      <td>Rice University</td>\n",
       "      <td>NaT</td>\n",
       "    </tr>\n",
       "  </tbody>\n",
       "</table>\n",
       "</div>"
      ],
      "text/plain": [
       "   id  person_id                      instituition graduated_at\n",
       "0   1       6117                               NaN          NaT\n",
       "1   2       6136  Washington University, St. Louis   1990-01-01\n",
       "2   3       6136                 Boston University   1992-01-01\n",
       "3   4       6005           University of Greenwich   2006-01-01\n",
       "4   5       5832                   Rice University          NaT"
      ]
     },
     "execution_count": 32,
     "metadata": {},
     "output_type": "execute_result"
    }
   ],
   "source": [
    "education.head()"
   ]
  },
  {
   "cell_type": "code",
   "execution_count": 33,
   "metadata": {},
   "outputs": [
    {
     "data": {
      "text/html": [
       "<div>\n",
       "<style scoped>\n",
       "    .dataframe tbody tr th:only-of-type {\n",
       "        vertical-align: middle;\n",
       "    }\n",
       "\n",
       "    .dataframe tbody tr th {\n",
       "        vertical-align: top;\n",
       "    }\n",
       "\n",
       "    .dataframe thead th {\n",
       "        text-align: right;\n",
       "    }\n",
       "</style>\n",
       "<table border=\"1\" class=\"dataframe\">\n",
       "  <thead>\n",
       "    <tr style=\"text-align: right;\">\n",
       "      <th></th>\n",
       "      <th>id</th>\n",
       "      <th>object_id</th>\n",
       "      <th>degree_type</th>\n",
       "      <th>subject</th>\n",
       "    </tr>\n",
       "  </thead>\n",
       "  <tbody>\n",
       "    <tr>\n",
       "      <th>0</th>\n",
       "      <td>1</td>\n",
       "      <td>p:6117</td>\n",
       "      <td>MBA</td>\n",
       "      <td>NaN</td>\n",
       "    </tr>\n",
       "    <tr>\n",
       "      <th>1</th>\n",
       "      <td>2</td>\n",
       "      <td>p:6136</td>\n",
       "      <td>BA</td>\n",
       "      <td>English, French</td>\n",
       "    </tr>\n",
       "    <tr>\n",
       "      <th>2</th>\n",
       "      <td>3</td>\n",
       "      <td>p:6136</td>\n",
       "      <td>MS</td>\n",
       "      <td>Mass Communication</td>\n",
       "    </tr>\n",
       "    <tr>\n",
       "      <th>3</th>\n",
       "      <td>4</td>\n",
       "      <td>p:6005</td>\n",
       "      <td>MS</td>\n",
       "      <td>Internet Technology</td>\n",
       "    </tr>\n",
       "    <tr>\n",
       "      <th>4</th>\n",
       "      <td>5</td>\n",
       "      <td>p:5832</td>\n",
       "      <td>BCS</td>\n",
       "      <td>Computer Science, Psychology</td>\n",
       "    </tr>\n",
       "  </tbody>\n",
       "</table>\n",
       "</div>"
      ],
      "text/plain": [
       "   id object_id degree_type                       subject\n",
       "0   1    p:6117         MBA                           NaN\n",
       "1   2    p:6136          BA               English, French\n",
       "2   3    p:6136          MS            Mass Communication\n",
       "3   4    p:6005          MS           Internet Technology\n",
       "4   5    p:5832         BCS  Computer Science, Psychology"
      ]
     },
     "execution_count": 33,
     "metadata": {},
     "output_type": "execute_result"
    }
   ],
   "source": [
    "degrees.head()"
   ]
  },
  {
   "cell_type": "code",
   "execution_count": 34,
   "metadata": {
    "id": "4FC98Pd-FcmG"
   },
   "outputs": [
    {
     "data": {
      "text/html": [
       "<div>\n",
       "<style scoped>\n",
       "    .dataframe tbody tr th:only-of-type {\n",
       "        vertical-align: middle;\n",
       "    }\n",
       "\n",
       "    .dataframe tbody tr th {\n",
       "        vertical-align: top;\n",
       "    }\n",
       "\n",
       "    .dataframe thead th {\n",
       "        text-align: right;\n",
       "    }\n",
       "</style>\n",
       "<table border=\"1\" class=\"dataframe\">\n",
       "  <thead>\n",
       "    <tr style=\"text-align: right;\">\n",
       "      <th></th>\n",
       "      <th>id_x</th>\n",
       "      <th>first_name</th>\n",
       "      <th>last_name</th>\n",
       "      <th>company_id</th>\n",
       "      <th>network_username</th>\n",
       "      <th>id_y</th>\n",
       "      <th>person_id</th>\n",
       "      <th>instituition</th>\n",
       "      <th>graduated_at</th>\n",
       "    </tr>\n",
       "  </thead>\n",
       "  <tbody>\n",
       "    <tr>\n",
       "      <th>0</th>\n",
       "      <td>10</td>\n",
       "      <td>Mark</td>\n",
       "      <td>Zuckerberg</td>\n",
       "      <td>5.00</td>\n",
       "      <td>NaN</td>\n",
       "      <td>2415.00</td>\n",
       "      <td>10.00</td>\n",
       "      <td>Harvard University</td>\n",
       "      <td>NaT</td>\n",
       "    </tr>\n",
       "    <tr>\n",
       "      <th>1</th>\n",
       "      <td>100</td>\n",
       "      <td>Peter</td>\n",
       "      <td>Lester</td>\n",
       "      <td>27.00</td>\n",
       "      <td>NaN</td>\n",
       "      <td>NaN</td>\n",
       "      <td>NaN</td>\n",
       "      <td>NaN</td>\n",
       "      <td>NaT</td>\n",
       "    </tr>\n",
       "    <tr>\n",
       "      <th>2</th>\n",
       "      <td>1000</td>\n",
       "      <td>Dr. Steven</td>\n",
       "      <td>E. Saunders</td>\n",
       "      <td>292.00</td>\n",
       "      <td>NaN</td>\n",
       "      <td>NaN</td>\n",
       "      <td>NaN</td>\n",
       "      <td>NaN</td>\n",
       "      <td>NaT</td>\n",
       "    </tr>\n",
       "    <tr>\n",
       "      <th>3</th>\n",
       "      <td>10000</td>\n",
       "      <td>Neil</td>\n",
       "      <td>Capel</td>\n",
       "      <td>2526.00</td>\n",
       "      <td>NaN</td>\n",
       "      <td>NaN</td>\n",
       "      <td>NaN</td>\n",
       "      <td>NaN</td>\n",
       "      <td>NaT</td>\n",
       "    </tr>\n",
       "    <tr>\n",
       "      <th>4</th>\n",
       "      <td>100000</td>\n",
       "      <td>Sue</td>\n",
       "      <td>Pilsch</td>\n",
       "      <td>NaN</td>\n",
       "      <td>NaN</td>\n",
       "      <td>NaN</td>\n",
       "      <td>NaN</td>\n",
       "      <td>NaN</td>\n",
       "      <td>NaT</td>\n",
       "    </tr>\n",
       "  </tbody>\n",
       "</table>\n",
       "</div>"
      ],
      "text/plain": [
       "     id_x  first_name    last_name  company_id network_username    id_y  \\\n",
       "0      10        Mark   Zuckerberg        5.00              NaN 2415.00   \n",
       "1     100       Peter       Lester       27.00              NaN     NaN   \n",
       "2    1000  Dr. Steven  E. Saunders      292.00              NaN     NaN   \n",
       "3   10000        Neil        Capel     2526.00              NaN     NaN   \n",
       "4  100000         Sue       Pilsch         NaN              NaN     NaN   \n",
       "\n",
       "   person_id        instituition graduated_at  \n",
       "0      10.00  Harvard University          NaT  \n",
       "1        NaN                 NaN          NaT  \n",
       "2        NaN                 NaN          NaT  \n",
       "3        NaN                 NaN          NaT  \n",
       "4        NaN                 NaN          NaT  "
      ]
     },
     "execution_count": 34,
     "metadata": {},
     "output_type": "execute_result"
    }
   ],
   "source": [
    "# Соединим таблицы по id и person_id, получаем таблицу pe - people, education\n",
    "pe = people.merge(education, left_on='id', right_on='person_id', how='left')\n",
    "pe.head()"
   ]
  },
  {
   "cell_type": "markdown",
   "metadata": {},
   "source": [
    "<div class=\"alert alert-block alert-danger\">\n",
    "<h2> Комментарий ревьюера v1<a class=\"tocSkip\"></h2>\n",
    "\n",
    "<b>На доработку🤔:</b>  В данном случае параметр объединения how='inner' приведет к потере части данных. Да,у нас нет некоторых соответствий, но это все равно строки с информацией по сотрудникам. Тут уместнее взять `left`. "
   ]
  },
  {
   "cell_type": "markdown",
   "metadata": {},
   "source": [
    "<div class=\"alert alert-info\"> <b>Комментарий студента:</b> поменял тип соединения на left."
   ]
  },
  {
   "cell_type": "markdown",
   "metadata": {},
   "source": [
    "<div class=\"alert alert-success\">\n",
    "<h2> Комментарий ревьюера v2 <a class=\"tocSkip\"> </h2>\n",
    "\n",
    "<b>Все супер!👍:</b>"
   ]
  },
  {
   "cell_type": "code",
   "execution_count": 35,
   "metadata": {
    "scrolled": true
   },
   "outputs": [
    {
     "name": "stdout",
     "output_type": "stream",
     "text": [
      "<class 'pandas.core.frame.DataFrame'>\n",
      "Int64Index: 267694 entries, 0 to 267693\n",
      "Data columns (total 9 columns):\n",
      " #   Column            Non-Null Count   Dtype         \n",
      "---  ------            --------------   -----         \n",
      " 0   id_x              267694 non-null  int64         \n",
      " 1   first_name        267689 non-null  object        \n",
      " 2   last_name         267693 non-null  object        \n",
      " 3   company_id        44789 non-null   float64       \n",
      " 4   network_username  50775 non-null   object        \n",
      " 5   id_y              109056 non-null  float64       \n",
      " 6   person_id         109056 non-null  float64       \n",
      " 7   instituition      109002 non-null  object        \n",
      " 8   graduated_at      57691 non-null   datetime64[ns]\n",
      "dtypes: datetime64[ns](1), float64(3), int64(1), object(4)\n",
      "memory usage: 20.4+ MB\n"
     ]
    }
   ],
   "source": [
    "pe.info()"
   ]
  },
  {
   "cell_type": "code",
   "execution_count": 36,
   "metadata": {},
   "outputs": [
    {
     "data": {
      "text/plain": [
       "array(['p:6117', 'p:6136', 'p:6005', ..., 'p:268589', 'p:268527',\n",
       "       'p:268528'], dtype=object)"
      ]
     },
     "execution_count": 36,
     "metadata": {},
     "output_type": "execute_result"
    }
   ],
   "source": [
    "# Посмотрим, можно ли присоединить таблицу degrees\n",
    "degrees['object_id'].unique()"
   ]
  },
  {
   "cell_type": "markdown",
   "metadata": {},
   "source": [
    "В таблице `degree` `person_id` записан через `p:` в начале, можем убрать такое начало и присоединить таблицу."
   ]
  },
  {
   "cell_type": "markdown",
   "metadata": {},
   "source": [
    "<div class=\"alert alert-success\">\n",
    "<h2> Комментарий ревьюера v1 <a class=\"tocSkip\"> </h2>\n",
    "\n",
    "<b>Все супер!👍:</b> Этот строковый индекс в начале действительно лишний)"
   ]
  },
  {
   "cell_type": "code",
   "execution_count": 37,
   "metadata": {
    "scrolled": true
   },
   "outputs": [
    {
     "data": {
      "text/html": [
       "<div>\n",
       "<style scoped>\n",
       "    .dataframe tbody tr th:only-of-type {\n",
       "        vertical-align: middle;\n",
       "    }\n",
       "\n",
       "    .dataframe tbody tr th {\n",
       "        vertical-align: top;\n",
       "    }\n",
       "\n",
       "    .dataframe thead th {\n",
       "        text-align: right;\n",
       "    }\n",
       "</style>\n",
       "<table border=\"1\" class=\"dataframe\">\n",
       "  <thead>\n",
       "    <tr style=\"text-align: right;\">\n",
       "      <th></th>\n",
       "      <th>id</th>\n",
       "      <th>object_id</th>\n",
       "      <th>degree_type</th>\n",
       "      <th>subject</th>\n",
       "    </tr>\n",
       "  </thead>\n",
       "  <tbody>\n",
       "    <tr>\n",
       "      <th>0</th>\n",
       "      <td>1</td>\n",
       "      <td>6117</td>\n",
       "      <td>MBA</td>\n",
       "      <td>NaN</td>\n",
       "    </tr>\n",
       "    <tr>\n",
       "      <th>1</th>\n",
       "      <td>2</td>\n",
       "      <td>6136</td>\n",
       "      <td>BA</td>\n",
       "      <td>English, French</td>\n",
       "    </tr>\n",
       "    <tr>\n",
       "      <th>2</th>\n",
       "      <td>3</td>\n",
       "      <td>6136</td>\n",
       "      <td>MS</td>\n",
       "      <td>Mass Communication</td>\n",
       "    </tr>\n",
       "    <tr>\n",
       "      <th>3</th>\n",
       "      <td>4</td>\n",
       "      <td>6005</td>\n",
       "      <td>MS</td>\n",
       "      <td>Internet Technology</td>\n",
       "    </tr>\n",
       "    <tr>\n",
       "      <th>4</th>\n",
       "      <td>5</td>\n",
       "      <td>5832</td>\n",
       "      <td>BCS</td>\n",
       "      <td>Computer Science, Psychology</td>\n",
       "    </tr>\n",
       "  </tbody>\n",
       "</table>\n",
       "</div>"
      ],
      "text/plain": [
       "   id  object_id degree_type                       subject\n",
       "0   1       6117         MBA                           NaN\n",
       "1   2       6136          BA               English, French\n",
       "2   3       6136          MS            Mass Communication\n",
       "3   4       6005          MS           Internet Technology\n",
       "4   5       5832         BCS  Computer Science, Psychology"
      ]
     },
     "execution_count": 37,
     "metadata": {},
     "output_type": "execute_result"
    }
   ],
   "source": [
    "# Убираем неудобное начало и приводим к числовому типу\n",
    "degrees['object_id'] = degrees['object_id'].str.replace('p:', '').astype('int64')\n",
    "degrees.head()"
   ]
  },
  {
   "cell_type": "code",
   "execution_count": 38,
   "metadata": {
    "scrolled": true
   },
   "outputs": [
    {
     "data": {
      "text/html": [
       "<div>\n",
       "<style scoped>\n",
       "    .dataframe tbody tr th:only-of-type {\n",
       "        vertical-align: middle;\n",
       "    }\n",
       "\n",
       "    .dataframe tbody tr th {\n",
       "        vertical-align: top;\n",
       "    }\n",
       "\n",
       "    .dataframe thead th {\n",
       "        text-align: right;\n",
       "    }\n",
       "</style>\n",
       "<table border=\"1\" class=\"dataframe\">\n",
       "  <thead>\n",
       "    <tr style=\"text-align: right;\">\n",
       "      <th></th>\n",
       "      <th>id_x</th>\n",
       "      <th>first_name</th>\n",
       "      <th>last_name</th>\n",
       "      <th>company_id</th>\n",
       "      <th>network_username</th>\n",
       "      <th>id_y</th>\n",
       "      <th>person_id</th>\n",
       "      <th>instituition</th>\n",
       "      <th>graduated_at</th>\n",
       "      <th>id</th>\n",
       "      <th>object_id</th>\n",
       "      <th>degree_type</th>\n",
       "      <th>subject</th>\n",
       "    </tr>\n",
       "  </thead>\n",
       "  <tbody>\n",
       "    <tr>\n",
       "      <th>0</th>\n",
       "      <td>10.00</td>\n",
       "      <td>Mark</td>\n",
       "      <td>Zuckerberg</td>\n",
       "      <td>5.00</td>\n",
       "      <td>NaN</td>\n",
       "      <td>2415.00</td>\n",
       "      <td>10.00</td>\n",
       "      <td>Harvard University</td>\n",
       "      <td>NaT</td>\n",
       "      <td>2415.00</td>\n",
       "      <td>10.00</td>\n",
       "      <td>NaN</td>\n",
       "      <td>Computer Science</td>\n",
       "    </tr>\n",
       "    <tr>\n",
       "      <th>1</th>\n",
       "      <td>100.00</td>\n",
       "      <td>Peter</td>\n",
       "      <td>Lester</td>\n",
       "      <td>27.00</td>\n",
       "      <td>NaN</td>\n",
       "      <td>NaN</td>\n",
       "      <td>NaN</td>\n",
       "      <td>NaN</td>\n",
       "      <td>NaT</td>\n",
       "      <td>NaN</td>\n",
       "      <td>NaN</td>\n",
       "      <td>NaN</td>\n",
       "      <td>NaN</td>\n",
       "    </tr>\n",
       "    <tr>\n",
       "      <th>2</th>\n",
       "      <td>1000.00</td>\n",
       "      <td>Dr. Steven</td>\n",
       "      <td>E. Saunders</td>\n",
       "      <td>292.00</td>\n",
       "      <td>NaN</td>\n",
       "      <td>NaN</td>\n",
       "      <td>NaN</td>\n",
       "      <td>NaN</td>\n",
       "      <td>NaT</td>\n",
       "      <td>NaN</td>\n",
       "      <td>NaN</td>\n",
       "      <td>NaN</td>\n",
       "      <td>NaN</td>\n",
       "    </tr>\n",
       "    <tr>\n",
       "      <th>3</th>\n",
       "      <td>10000.00</td>\n",
       "      <td>Neil</td>\n",
       "      <td>Capel</td>\n",
       "      <td>2526.00</td>\n",
       "      <td>NaN</td>\n",
       "      <td>NaN</td>\n",
       "      <td>NaN</td>\n",
       "      <td>NaN</td>\n",
       "      <td>NaT</td>\n",
       "      <td>NaN</td>\n",
       "      <td>NaN</td>\n",
       "      <td>NaN</td>\n",
       "      <td>NaN</td>\n",
       "    </tr>\n",
       "    <tr>\n",
       "      <th>4</th>\n",
       "      <td>100000.00</td>\n",
       "      <td>Sue</td>\n",
       "      <td>Pilsch</td>\n",
       "      <td>NaN</td>\n",
       "      <td>NaN</td>\n",
       "      <td>NaN</td>\n",
       "      <td>NaN</td>\n",
       "      <td>NaN</td>\n",
       "      <td>NaT</td>\n",
       "      <td>NaN</td>\n",
       "      <td>NaN</td>\n",
       "      <td>NaN</td>\n",
       "      <td>NaN</td>\n",
       "    </tr>\n",
       "  </tbody>\n",
       "</table>\n",
       "</div>"
      ],
      "text/plain": [
       "       id_x  first_name    last_name  company_id network_username    id_y  \\\n",
       "0     10.00        Mark   Zuckerberg        5.00              NaN 2415.00   \n",
       "1    100.00       Peter       Lester       27.00              NaN     NaN   \n",
       "2   1000.00  Dr. Steven  E. Saunders      292.00              NaN     NaN   \n",
       "3  10000.00        Neil        Capel     2526.00              NaN     NaN   \n",
       "4 100000.00         Sue       Pilsch         NaN              NaN     NaN   \n",
       "\n",
       "   person_id        instituition graduated_at      id  object_id degree_type  \\\n",
       "0      10.00  Harvard University          NaT 2415.00      10.00         NaN   \n",
       "1        NaN                 NaN          NaT     NaN        NaN         NaN   \n",
       "2        NaN                 NaN          NaT     NaN        NaN         NaN   \n",
       "3        NaN                 NaN          NaT     NaN        NaN         NaN   \n",
       "4        NaN                 NaN          NaT     NaN        NaN         NaN   \n",
       "\n",
       "            subject  \n",
       "0  Computer Science  \n",
       "1               NaN  \n",
       "2               NaN  \n",
       "3               NaN  \n",
       "4               NaN  "
      ]
     },
     "execution_count": 38,
     "metadata": {},
     "output_type": "execute_result"
    }
   ],
   "source": [
    "# Присоединяем degrees, чтобы сделать датасет ped\n",
    "ped = pe.merge(degrees, left_on='person_id', right_on='object_id', how='outer')\n",
    "ped.head()"
   ]
  },
  {
   "cell_type": "code",
   "execution_count": 39,
   "metadata": {},
   "outputs": [],
   "source": [
    "# Определяем сотрудников с информацией об образовании\n",
    "ped['is_ed'] = ped['graduated_at'].notnull() | ped['degree_type'].notnull() | ped['subject'].notnull() | ped['instituition'].notnull()\n",
    "\n",
    "ped['company_size'] = ped.groupby('company_id')['company_id'].count()"
   ]
  },
  {
   "cell_type": "code",
   "execution_count": 40,
   "metadata": {},
   "outputs": [],
   "source": [
    "ped['company_category'] = pd.cut(ped['company_size'], bins=[0, 5, 10, np.inf], labels=['Малая компания', 'Средняя компания', 'Крупная компания'])"
   ]
  },
  {
   "cell_type": "markdown",
   "metadata": {},
   "source": [
    "<div class=\"alert alert-warning\">\n",
    "    <h2> Комментарий ревьюера v1<a class=\"tocSkip\"> </h2>\n",
    "    \n",
    "<b>Небольшие замечания и рекомендации💡:</b>  Твое решение допустимо, молодец! Но твоему будующему руководителю и коллегам может быть не вполне \"прозрачен\" критерий назделения компаний на группы. Стоит остановиться на этом чуть подробнее и предварительно оценить  число сотрудников  в каждой категории. Для максимально объективного сравнения групп они должны быть по возможности равного размера и на это лучше сделать упор"
   ]
  },
  {
   "cell_type": "code",
   "execution_count": 41,
   "metadata": {
    "scrolled": true
   },
   "outputs": [
    {
     "data": {
      "text/html": [
       "<div>\n",
       "<style scoped>\n",
       "    .dataframe tbody tr th:only-of-type {\n",
       "        vertical-align: middle;\n",
       "    }\n",
       "\n",
       "    .dataframe tbody tr th {\n",
       "        vertical-align: top;\n",
       "    }\n",
       "\n",
       "    .dataframe thead th {\n",
       "        text-align: right;\n",
       "    }\n",
       "</style>\n",
       "<table border=\"1\" class=\"dataframe\">\n",
       "  <thead>\n",
       "    <tr style=\"text-align: right;\">\n",
       "      <th></th>\n",
       "      <th>id_x</th>\n",
       "      <th>first_name</th>\n",
       "      <th>last_name</th>\n",
       "      <th>company_id</th>\n",
       "      <th>network_username</th>\n",
       "      <th>id_y</th>\n",
       "      <th>person_id</th>\n",
       "      <th>instituition</th>\n",
       "      <th>graduated_at</th>\n",
       "      <th>id</th>\n",
       "      <th>object_id</th>\n",
       "      <th>degree_type</th>\n",
       "      <th>subject</th>\n",
       "      <th>is_ed</th>\n",
       "      <th>company_size</th>\n",
       "      <th>company_category</th>\n",
       "    </tr>\n",
       "  </thead>\n",
       "  <tbody>\n",
       "    <tr>\n",
       "      <th>1</th>\n",
       "      <td>100.00</td>\n",
       "      <td>Peter</td>\n",
       "      <td>Lester</td>\n",
       "      <td>27.00</td>\n",
       "      <td>NaN</td>\n",
       "      <td>NaN</td>\n",
       "      <td>NaN</td>\n",
       "      <td>NaN</td>\n",
       "      <td>NaT</td>\n",
       "      <td>NaN</td>\n",
       "      <td>NaN</td>\n",
       "      <td>NaN</td>\n",
       "      <td>NaN</td>\n",
       "      <td>False</td>\n",
       "      <td>5.00</td>\n",
       "      <td>Малая компания</td>\n",
       "    </tr>\n",
       "    <tr>\n",
       "      <th>2</th>\n",
       "      <td>1000.00</td>\n",
       "      <td>Dr. Steven</td>\n",
       "      <td>E. Saunders</td>\n",
       "      <td>292.00</td>\n",
       "      <td>NaN</td>\n",
       "      <td>NaN</td>\n",
       "      <td>NaN</td>\n",
       "      <td>NaN</td>\n",
       "      <td>NaT</td>\n",
       "      <td>NaN</td>\n",
       "      <td>NaN</td>\n",
       "      <td>NaN</td>\n",
       "      <td>NaN</td>\n",
       "      <td>False</td>\n",
       "      <td>1.00</td>\n",
       "      <td>Малая компания</td>\n",
       "    </tr>\n",
       "    <tr>\n",
       "      <th>3</th>\n",
       "      <td>10000.00</td>\n",
       "      <td>Neil</td>\n",
       "      <td>Capel</td>\n",
       "      <td>2526.00</td>\n",
       "      <td>NaN</td>\n",
       "      <td>NaN</td>\n",
       "      <td>NaN</td>\n",
       "      <td>NaN</td>\n",
       "      <td>NaT</td>\n",
       "      <td>NaN</td>\n",
       "      <td>NaN</td>\n",
       "      <td>NaN</td>\n",
       "      <td>NaN</td>\n",
       "      <td>False</td>\n",
       "      <td>9.00</td>\n",
       "      <td>Средняя компания</td>\n",
       "    </tr>\n",
       "    <tr>\n",
       "      <th>4</th>\n",
       "      <td>100000.00</td>\n",
       "      <td>Sue</td>\n",
       "      <td>Pilsch</td>\n",
       "      <td>NaN</td>\n",
       "      <td>NaN</td>\n",
       "      <td>NaN</td>\n",
       "      <td>NaN</td>\n",
       "      <td>NaN</td>\n",
       "      <td>NaT</td>\n",
       "      <td>NaN</td>\n",
       "      <td>NaN</td>\n",
       "      <td>NaN</td>\n",
       "      <td>NaN</td>\n",
       "      <td>False</td>\n",
       "      <td>28.00</td>\n",
       "      <td>Крупная компания</td>\n",
       "    </tr>\n",
       "    <tr>\n",
       "      <th>5</th>\n",
       "      <td>100002.00</td>\n",
       "      <td>Keith</td>\n",
       "      <td>Kurzendoerfer</td>\n",
       "      <td>NaN</td>\n",
       "      <td>NaN</td>\n",
       "      <td>NaN</td>\n",
       "      <td>NaN</td>\n",
       "      <td>NaN</td>\n",
       "      <td>NaT</td>\n",
       "      <td>NaN</td>\n",
       "      <td>NaN</td>\n",
       "      <td>NaN</td>\n",
       "      <td>NaN</td>\n",
       "      <td>False</td>\n",
       "      <td>138.00</td>\n",
       "      <td>Крупная компания</td>\n",
       "    </tr>\n",
       "  </tbody>\n",
       "</table>\n",
       "</div>"
      ],
      "text/plain": [
       "       id_x  first_name      last_name  company_id network_username  id_y  \\\n",
       "1    100.00       Peter         Lester       27.00              NaN   NaN   \n",
       "2   1000.00  Dr. Steven    E. Saunders      292.00              NaN   NaN   \n",
       "3  10000.00        Neil          Capel     2526.00              NaN   NaN   \n",
       "4 100000.00         Sue         Pilsch         NaN              NaN   NaN   \n",
       "5 100002.00       Keith  Kurzendoerfer         NaN              NaN   NaN   \n",
       "\n",
       "   person_id instituition graduated_at  id  object_id degree_type subject  \\\n",
       "1        NaN          NaN          NaT NaN        NaN         NaN     NaN   \n",
       "2        NaN          NaN          NaT NaN        NaN         NaN     NaN   \n",
       "3        NaN          NaN          NaT NaN        NaN         NaN     NaN   \n",
       "4        NaN          NaN          NaT NaN        NaN         NaN     NaN   \n",
       "5        NaN          NaN          NaT NaN        NaN         NaN     NaN   \n",
       "\n",
       "   is_ed  company_size  company_category  \n",
       "1  False          5.00    Малая компания  \n",
       "2  False          1.00    Малая компания  \n",
       "3  False          9.00  Средняя компания  \n",
       "4  False         28.00  Крупная компания  \n",
       "5  False        138.00  Крупная компания  "
      ]
     },
     "execution_count": 41,
     "metadata": {},
     "output_type": "execute_result"
    }
   ],
   "source": [
    "ped[ped['is_ed']==False].head()"
   ]
  },
  {
   "cell_type": "code",
   "execution_count": 42,
   "metadata": {
    "scrolled": false
   },
   "outputs": [
    {
     "data": {
      "text/plain": [
       "company_category\n",
       "Малая компания     0.33\n",
       "Средняя компания   0.27\n",
       "Крупная компания   0.17\n",
       "Name: id_x, dtype: float64"
      ]
     },
     "execution_count": 42,
     "metadata": {},
     "output_type": "execute_result"
    }
   ],
   "source": [
    "ped[ped['is_ed']==True].groupby('company_category')['id_x'].count() / ped.groupby('company_category')['id_x'].count()"
   ]
  },
  {
   "cell_type": "markdown",
   "metadata": {},
   "source": [
    "<div class=\"alert alert-block alert-danger\">\n",
    "<h2> Комментарий ревьюера v1<a class=\"tocSkip\"></h2>\n",
    "\n",
    "<b>На доработку🤔:</b> Результаты немного \"смущают\" и после устранения неточности в объединении их придется актуализировать. "
   ]
  },
  {
   "cell_type": "markdown",
   "metadata": {},
   "source": [
    "<div class=\"alert alert-info\"> <b>Комментарий студента:</b> Немного поменял код в формуле, получил доли работников без образования в разных по размеру компаниях."
   ]
  },
  {
   "cell_type": "markdown",
   "metadata": {},
   "source": [
    "<div class=\"alert alert-success\">\n",
    "<h2> Комментарий ревьюера v2 <a class=\"tocSkip\"> </h2>\n",
    "\n",
    "<b>Все супер!👍:</b>Получается в крупных компаниях более внимательно относятся к ведению документооборота по сотрудникам и чаще фиксируют информацию об образовании сотрудников"
   ]
  },
  {
   "cell_type": "markdown",
   "metadata": {
    "id": "Lz7qjM32xglW"
   },
   "source": [
    "### 2.3. Объединять или не объединять — вот в чём вопрос\n",
    "\n",
    "Некоторые названия столбцов встречаются в датасетах чаще других. В результате предварительной проверки датасетов было выяснено, что столбец `company_id` подходит для объединения данных.\n",
    "\n",
    "- Установите, подходит ли для объединения данных столбец `network_username`, который встречается в нескольких датасетах. Нам необходимо понимать, дублируется ли для разных датасетов информация в столбцах с таким названием, и если да — то насколько часто.\n",
    "- Оцените, можно ли использовать столбцы с именем `network_username` для объединения данных."
   ]
  },
  {
   "cell_type": "markdown",
   "metadata": {},
   "source": [
    "Сравним количество уникальных значений и общее количество данных в датасетах с network_username."
   ]
  },
  {
   "cell_type": "code",
   "execution_count": 43,
   "metadata": {
    "id": "zyI3rt0rxg1O",
    "scrolled": false
   },
   "outputs": [
    {
     "data": {
      "text/plain": [
       "79571"
      ]
     },
     "execution_count": 43,
     "metadata": {},
     "output_type": "execute_result"
    }
   ],
   "source": [
    "unuque_network_username_company = crounds['network_username'].nunique()\n",
    "unuque_network_username_company"
   ]
  },
  {
   "cell_type": "code",
   "execution_count": 44,
   "metadata": {
    "id": "RxOS5rwmFcNW",
    "scrolled": true
   },
   "outputs": [
    {
     "data": {
      "text/plain": [
       "company_id    196553\n",
       "company_id     31939\n",
       "dtype: int64"
      ]
     },
     "execution_count": 44,
     "metadata": {},
     "output_type": "execute_result"
    }
   ],
   "source": [
    "all_rows_companies = crounds['company_id'].nunique()\n",
    "all_rows_companies"
   ]
  },
  {
   "cell_type": "code",
   "execution_count": 45,
   "metadata": {
    "id": "_7gjdrGOFcB2"
   },
   "outputs": [
    {
     "data": {
      "text/plain": [
       "0.4048322844220134"
      ]
     },
     "execution_count": 45,
     "metadata": {},
     "output_type": "execute_result"
    }
   ],
   "source": [
    "unuque_network_username_company / all_rows_companies[0]"
   ]
  },
  {
   "cell_type": "code",
   "execution_count": 46,
   "metadata": {},
   "outputs": [
    {
     "data": {
      "text/plain": [
       "38421"
      ]
     },
     "execution_count": 46,
     "metadata": {},
     "output_type": "execute_result"
    }
   ],
   "source": [
    "unuque_network_username_people = people['network_username'].nunique()\n",
    "unuque_network_username_people"
   ]
  },
  {
   "cell_type": "code",
   "execution_count": 47,
   "metadata": {},
   "outputs": [
    {
     "data": {
      "text/plain": [
       "company_id    196553\n",
       "company_id     31939\n",
       "dtype: int64"
      ]
     },
     "execution_count": 47,
     "metadata": {},
     "output_type": "execute_result"
    }
   ],
   "source": [
    "all_rows_people = crounds['company_id'].nunique()\n",
    "all_rows_people"
   ]
  },
  {
   "cell_type": "code",
   "execution_count": 48,
   "metadata": {},
   "outputs": [
    {
     "data": {
      "text/plain": [
       "0.195473994291616"
      ]
     },
     "execution_count": 48,
     "metadata": {},
     "output_type": "execute_result"
    }
   ],
   "source": [
    "unuque_network_username_people / all_rows_people[0]"
   ]
  },
  {
   "cell_type": "markdown",
   "metadata": {},
   "source": [
    "Как можно заметить, предпосылок, чтобы соединять датасет по `network_username` нет, так как в этом столбце достаточно мало уникальных значений, а также отсутствует связь в данных, ведь в `people` этот столбец обозначает ник в соцсетях человека, а в `crounds` - ник компании в сети."
   ]
  },
  {
   "cell_type": "markdown",
   "metadata": {},
   "source": [
    "<div class=\"alert alert-warning\">\n",
    "    <h2> Комментарий ревьюера v1<a class=\"tocSkip\"> </h2>\n",
    "    \n",
    "<b>Небольшие замечания и рекомендации💡:</b> Согласен! Добавлю, что в данных много пропусков и дубликатов, это негативно скажется на результате объединения"
   ]
  },
  {
   "cell_type": "markdown",
   "metadata": {
    "id": "EHcODomVrJg1"
   },
   "source": [
    "\n",
    "### 2.4. Проблемный датасет и причина возникновения пропусков\n",
    "\n",
    "Во время собственного анализа данных у заказчика больше всего вопросов возникло к датасету `company_and_rounds.csv`. В нём много пропусков как раз в информации о раундах, которая заказчику важна.\n",
    "\n",
    "- Любым удобным способом приведите данные в вид, который позволит в дальнейшем проводить анализ в разрезе отдельных компаний. Обратите внимание на структуру датасета, порядок и названия столбцов, проанализируйте значения.\n",
    "\n",
    "По гипотезе заказчика данные по компаниям из этой таблицы раньше хранились иначе, более удобным для исследования образом.\n",
    "\n",
    "- Максимальным образом сохраняя данные, сохранив их связность и исключив возможные возникающие при этом ошибки, подготовьте данные так, чтобы удобно было отобрать компании по параметрам и рассчитать показатели из расчёта на одну компанию без промежуточных агрегаций."
   ]
  },
  {
   "cell_type": "code",
   "execution_count": 49,
   "metadata": {
    "id": "oSk7xqu_FbaN",
    "scrolled": true
   },
   "outputs": [
    {
     "data": {
      "text/html": [
       "<div>\n",
       "<style scoped>\n",
       "    .dataframe tbody tr th:only-of-type {\n",
       "        vertical-align: middle;\n",
       "    }\n",
       "\n",
       "    .dataframe tbody tr th {\n",
       "        vertical-align: top;\n",
       "    }\n",
       "\n",
       "    .dataframe thead th {\n",
       "        text-align: right;\n",
       "    }\n",
       "</style>\n",
       "<table border=\"1\" class=\"dataframe\">\n",
       "  <thead>\n",
       "    <tr style=\"text-align: right;\">\n",
       "      <th></th>\n",
       "      <th>company_id</th>\n",
       "      <th>name</th>\n",
       "      <th>category_code</th>\n",
       "      <th>status</th>\n",
       "      <th>founded_at</th>\n",
       "      <th>closed_at</th>\n",
       "      <th>domain</th>\n",
       "      <th>network_username</th>\n",
       "      <th>country_code</th>\n",
       "      <th>investment_rounds</th>\n",
       "      <th>...</th>\n",
       "      <th>milestones</th>\n",
       "      <th>funding_round_id</th>\n",
       "      <th>company_id</th>\n",
       "      <th>funded_at</th>\n",
       "      <th>funding_round_type</th>\n",
       "      <th>raised_amount</th>\n",
       "      <th>pre_money_valuation</th>\n",
       "      <th>participants</th>\n",
       "      <th>is_first_round</th>\n",
       "      <th>is_last_round</th>\n",
       "    </tr>\n",
       "  </thead>\n",
       "  <tbody>\n",
       "    <tr>\n",
       "      <th>0</th>\n",
       "      <td>1.00</td>\n",
       "      <td>Wetpaint</td>\n",
       "      <td>web</td>\n",
       "      <td>operating</td>\n",
       "      <td>2005-10-17</td>\n",
       "      <td>NaT</td>\n",
       "      <td>wetpaint-inc.com</td>\n",
       "      <td>BachelrWetpaint</td>\n",
       "      <td>USA</td>\n",
       "      <td>0.00</td>\n",
       "      <td>...</td>\n",
       "      <td>5.00</td>\n",
       "      <td>888.00</td>\n",
       "      <td>1.00</td>\n",
       "      <td>2005-10-01</td>\n",
       "      <td>series-a</td>\n",
       "      <td>5250000.00</td>\n",
       "      <td>0.00</td>\n",
       "      <td>2.00</td>\n",
       "      <td>0.00</td>\n",
       "      <td>1.00</td>\n",
       "    </tr>\n",
       "    <tr>\n",
       "      <th>1</th>\n",
       "      <td>1.00</td>\n",
       "      <td>Wetpaint</td>\n",
       "      <td>web</td>\n",
       "      <td>operating</td>\n",
       "      <td>2005-10-17</td>\n",
       "      <td>NaT</td>\n",
       "      <td>wetpaint-inc.com</td>\n",
       "      <td>BachelrWetpaint</td>\n",
       "      <td>USA</td>\n",
       "      <td>0.00</td>\n",
       "      <td>...</td>\n",
       "      <td>5.00</td>\n",
       "      <td>889.00</td>\n",
       "      <td>1.00</td>\n",
       "      <td>2007-01-01</td>\n",
       "      <td>series-b</td>\n",
       "      <td>9500000.00</td>\n",
       "      <td>0.00</td>\n",
       "      <td>3.00</td>\n",
       "      <td>0.00</td>\n",
       "      <td>0.00</td>\n",
       "    </tr>\n",
       "    <tr>\n",
       "      <th>2</th>\n",
       "      <td>1.00</td>\n",
       "      <td>Wetpaint</td>\n",
       "      <td>web</td>\n",
       "      <td>operating</td>\n",
       "      <td>2005-10-17</td>\n",
       "      <td>NaT</td>\n",
       "      <td>wetpaint-inc.com</td>\n",
       "      <td>BachelrWetpaint</td>\n",
       "      <td>USA</td>\n",
       "      <td>0.00</td>\n",
       "      <td>...</td>\n",
       "      <td>5.00</td>\n",
       "      <td>2312.00</td>\n",
       "      <td>1.00</td>\n",
       "      <td>2008-05-19</td>\n",
       "      <td>series-c+</td>\n",
       "      <td>25000000.00</td>\n",
       "      <td>0.00</td>\n",
       "      <td>4.00</td>\n",
       "      <td>1.00</td>\n",
       "      <td>0.00</td>\n",
       "    </tr>\n",
       "    <tr>\n",
       "      <th>3</th>\n",
       "      <td>10.00</td>\n",
       "      <td>Flektor</td>\n",
       "      <td>games_video</td>\n",
       "      <td>acquired</td>\n",
       "      <td>NaT</td>\n",
       "      <td>NaT</td>\n",
       "      <td>flektor.com</td>\n",
       "      <td>NaN</td>\n",
       "      <td>USA</td>\n",
       "      <td>0.00</td>\n",
       "      <td>...</td>\n",
       "      <td>0.00</td>\n",
       "      <td>NaN</td>\n",
       "      <td>NaN</td>\n",
       "      <td>NaT</td>\n",
       "      <td>NaN</td>\n",
       "      <td>NaN</td>\n",
       "      <td>NaN</td>\n",
       "      <td>NaN</td>\n",
       "      <td>NaN</td>\n",
       "      <td>NaN</td>\n",
       "    </tr>\n",
       "    <tr>\n",
       "      <th>4</th>\n",
       "      <td>100.00</td>\n",
       "      <td>There</td>\n",
       "      <td>games_video</td>\n",
       "      <td>acquired</td>\n",
       "      <td>NaT</td>\n",
       "      <td>NaT</td>\n",
       "      <td>there.com</td>\n",
       "      <td>NaN</td>\n",
       "      <td>USA</td>\n",
       "      <td>0.00</td>\n",
       "      <td>...</td>\n",
       "      <td>4.00</td>\n",
       "      <td>NaN</td>\n",
       "      <td>NaN</td>\n",
       "      <td>NaT</td>\n",
       "      <td>NaN</td>\n",
       "      <td>NaN</td>\n",
       "      <td>NaN</td>\n",
       "      <td>NaN</td>\n",
       "      <td>NaN</td>\n",
       "      <td>NaN</td>\n",
       "    </tr>\n",
       "  </tbody>\n",
       "</table>\n",
       "<p>5 rows × 22 columns</p>\n",
       "</div>"
      ],
      "text/plain": [
       "   company_id      name category_code     status founded_at closed_at  \\\n",
       "0        1.00  Wetpaint           web  operating 2005-10-17       NaT   \n",
       "1        1.00  Wetpaint           web  operating 2005-10-17       NaT   \n",
       "2        1.00  Wetpaint           web  operating 2005-10-17       NaT   \n",
       "3       10.00   Flektor   games_video   acquired        NaT       NaT   \n",
       "4      100.00     There   games_video   acquired        NaT       NaT   \n",
       "\n",
       "             domain network_username country_code  investment_rounds  ...  \\\n",
       "0  wetpaint-inc.com  BachelrWetpaint          USA               0.00  ...   \n",
       "1  wetpaint-inc.com  BachelrWetpaint          USA               0.00  ...   \n",
       "2  wetpaint-inc.com  BachelrWetpaint          USA               0.00  ...   \n",
       "3       flektor.com              NaN          USA               0.00  ...   \n",
       "4         there.com              NaN          USA               0.00  ...   \n",
       "\n",
       "   milestones  funding_round_id  company_id  funded_at  funding_round_type  \\\n",
       "0        5.00            888.00        1.00 2005-10-01            series-a   \n",
       "1        5.00            889.00        1.00 2007-01-01            series-b   \n",
       "2        5.00           2312.00        1.00 2008-05-19           series-c+   \n",
       "3        0.00               NaN         NaN        NaT                 NaN   \n",
       "4        4.00               NaN         NaN        NaT                 NaN   \n",
       "\n",
       "  raised_amount pre_money_valuation  participants  is_first_round  \\\n",
       "0    5250000.00                0.00          2.00            0.00   \n",
       "1    9500000.00                0.00          3.00            0.00   \n",
       "2   25000000.00                0.00          4.00            1.00   \n",
       "3           NaN                 NaN           NaN             NaN   \n",
       "4           NaN                 NaN           NaN             NaN   \n",
       "\n",
       "   is_last_round  \n",
       "0           1.00  \n",
       "1           0.00  \n",
       "2           0.00  \n",
       "3            NaN  \n",
       "4            NaN  \n",
       "\n",
       "[5 rows x 22 columns]"
      ]
     },
     "execution_count": 49,
     "metadata": {},
     "output_type": "execute_result"
    }
   ],
   "source": [
    "# Проверим данные в crounds\n",
    "\n",
    "crounds.head()"
   ]
  },
  {
   "cell_type": "markdown",
   "metadata": {},
   "source": [
    "Переименуем одинаковые столбцы для удобства дальнейшей работы"
   ]
  },
  {
   "cell_type": "code",
   "execution_count": 50,
   "metadata": {},
   "outputs": [],
   "source": [
    "# Переименование первого столбца\n",
    "column_names = crounds.columns.tolist()\n",
    "column_names[0] = 'id'  # Переименовать только первый\n",
    "crounds.columns = column_names"
   ]
  },
  {
   "cell_type": "code",
   "execution_count": 51,
   "metadata": {},
   "outputs": [
    {
     "data": {
      "text/html": [
       "<div>\n",
       "<style scoped>\n",
       "    .dataframe tbody tr th:only-of-type {\n",
       "        vertical-align: middle;\n",
       "    }\n",
       "\n",
       "    .dataframe tbody tr th {\n",
       "        vertical-align: top;\n",
       "    }\n",
       "\n",
       "    .dataframe thead th {\n",
       "        text-align: right;\n",
       "    }\n",
       "</style>\n",
       "<table border=\"1\" class=\"dataframe\">\n",
       "  <thead>\n",
       "    <tr style=\"text-align: right;\">\n",
       "      <th></th>\n",
       "      <th>id</th>\n",
       "      <th>name</th>\n",
       "      <th>category_code</th>\n",
       "      <th>status</th>\n",
       "      <th>founded_at</th>\n",
       "      <th>closed_at</th>\n",
       "      <th>domain</th>\n",
       "      <th>network_username</th>\n",
       "      <th>country_code</th>\n",
       "      <th>investment_rounds</th>\n",
       "      <th>...</th>\n",
       "      <th>milestones</th>\n",
       "      <th>funding_round_id</th>\n",
       "      <th>company_id</th>\n",
       "      <th>funded_at</th>\n",
       "      <th>funding_round_type</th>\n",
       "      <th>raised_amount</th>\n",
       "      <th>pre_money_valuation</th>\n",
       "      <th>participants</th>\n",
       "      <th>is_first_round</th>\n",
       "      <th>is_last_round</th>\n",
       "    </tr>\n",
       "  </thead>\n",
       "  <tbody>\n",
       "    <tr>\n",
       "      <th>0</th>\n",
       "      <td>1.00</td>\n",
       "      <td>Wetpaint</td>\n",
       "      <td>web</td>\n",
       "      <td>operating</td>\n",
       "      <td>2005-10-17</td>\n",
       "      <td>NaT</td>\n",
       "      <td>wetpaint-inc.com</td>\n",
       "      <td>BachelrWetpaint</td>\n",
       "      <td>USA</td>\n",
       "      <td>0.00</td>\n",
       "      <td>...</td>\n",
       "      <td>5.00</td>\n",
       "      <td>888.00</td>\n",
       "      <td>1.00</td>\n",
       "      <td>2005-10-01</td>\n",
       "      <td>series-a</td>\n",
       "      <td>5250000.00</td>\n",
       "      <td>0.00</td>\n",
       "      <td>2.00</td>\n",
       "      <td>0.00</td>\n",
       "      <td>1.00</td>\n",
       "    </tr>\n",
       "    <tr>\n",
       "      <th>1</th>\n",
       "      <td>1.00</td>\n",
       "      <td>Wetpaint</td>\n",
       "      <td>web</td>\n",
       "      <td>operating</td>\n",
       "      <td>2005-10-17</td>\n",
       "      <td>NaT</td>\n",
       "      <td>wetpaint-inc.com</td>\n",
       "      <td>BachelrWetpaint</td>\n",
       "      <td>USA</td>\n",
       "      <td>0.00</td>\n",
       "      <td>...</td>\n",
       "      <td>5.00</td>\n",
       "      <td>889.00</td>\n",
       "      <td>1.00</td>\n",
       "      <td>2007-01-01</td>\n",
       "      <td>series-b</td>\n",
       "      <td>9500000.00</td>\n",
       "      <td>0.00</td>\n",
       "      <td>3.00</td>\n",
       "      <td>0.00</td>\n",
       "      <td>0.00</td>\n",
       "    </tr>\n",
       "    <tr>\n",
       "      <th>2</th>\n",
       "      <td>1.00</td>\n",
       "      <td>Wetpaint</td>\n",
       "      <td>web</td>\n",
       "      <td>operating</td>\n",
       "      <td>2005-10-17</td>\n",
       "      <td>NaT</td>\n",
       "      <td>wetpaint-inc.com</td>\n",
       "      <td>BachelrWetpaint</td>\n",
       "      <td>USA</td>\n",
       "      <td>0.00</td>\n",
       "      <td>...</td>\n",
       "      <td>5.00</td>\n",
       "      <td>2312.00</td>\n",
       "      <td>1.00</td>\n",
       "      <td>2008-05-19</td>\n",
       "      <td>series-c+</td>\n",
       "      <td>25000000.00</td>\n",
       "      <td>0.00</td>\n",
       "      <td>4.00</td>\n",
       "      <td>1.00</td>\n",
       "      <td>0.00</td>\n",
       "    </tr>\n",
       "    <tr>\n",
       "      <th>3</th>\n",
       "      <td>10.00</td>\n",
       "      <td>Flektor</td>\n",
       "      <td>games_video</td>\n",
       "      <td>acquired</td>\n",
       "      <td>NaT</td>\n",
       "      <td>NaT</td>\n",
       "      <td>flektor.com</td>\n",
       "      <td>NaN</td>\n",
       "      <td>USA</td>\n",
       "      <td>0.00</td>\n",
       "      <td>...</td>\n",
       "      <td>0.00</td>\n",
       "      <td>NaN</td>\n",
       "      <td>NaN</td>\n",
       "      <td>NaT</td>\n",
       "      <td>NaN</td>\n",
       "      <td>NaN</td>\n",
       "      <td>NaN</td>\n",
       "      <td>NaN</td>\n",
       "      <td>NaN</td>\n",
       "      <td>NaN</td>\n",
       "    </tr>\n",
       "    <tr>\n",
       "      <th>4</th>\n",
       "      <td>100.00</td>\n",
       "      <td>There</td>\n",
       "      <td>games_video</td>\n",
       "      <td>acquired</td>\n",
       "      <td>NaT</td>\n",
       "      <td>NaT</td>\n",
       "      <td>there.com</td>\n",
       "      <td>NaN</td>\n",
       "      <td>USA</td>\n",
       "      <td>0.00</td>\n",
       "      <td>...</td>\n",
       "      <td>4.00</td>\n",
       "      <td>NaN</td>\n",
       "      <td>NaN</td>\n",
       "      <td>NaT</td>\n",
       "      <td>NaN</td>\n",
       "      <td>NaN</td>\n",
       "      <td>NaN</td>\n",
       "      <td>NaN</td>\n",
       "      <td>NaN</td>\n",
       "      <td>NaN</td>\n",
       "    </tr>\n",
       "  </tbody>\n",
       "</table>\n",
       "<p>5 rows × 22 columns</p>\n",
       "</div>"
      ],
      "text/plain": [
       "      id      name category_code     status founded_at closed_at  \\\n",
       "0   1.00  Wetpaint           web  operating 2005-10-17       NaT   \n",
       "1   1.00  Wetpaint           web  operating 2005-10-17       NaT   \n",
       "2   1.00  Wetpaint           web  operating 2005-10-17       NaT   \n",
       "3  10.00   Flektor   games_video   acquired        NaT       NaT   \n",
       "4 100.00     There   games_video   acquired        NaT       NaT   \n",
       "\n",
       "             domain network_username country_code  investment_rounds  ...  \\\n",
       "0  wetpaint-inc.com  BachelrWetpaint          USA               0.00  ...   \n",
       "1  wetpaint-inc.com  BachelrWetpaint          USA               0.00  ...   \n",
       "2  wetpaint-inc.com  BachelrWetpaint          USA               0.00  ...   \n",
       "3       flektor.com              NaN          USA               0.00  ...   \n",
       "4         there.com              NaN          USA               0.00  ...   \n",
       "\n",
       "   milestones  funding_round_id  company_id  funded_at  funding_round_type  \\\n",
       "0        5.00            888.00        1.00 2005-10-01            series-a   \n",
       "1        5.00            889.00        1.00 2007-01-01            series-b   \n",
       "2        5.00           2312.00        1.00 2008-05-19           series-c+   \n",
       "3        0.00               NaN         NaN        NaT                 NaN   \n",
       "4        4.00               NaN         NaN        NaT                 NaN   \n",
       "\n",
       "  raised_amount pre_money_valuation  participants  is_first_round  \\\n",
       "0    5250000.00                0.00          2.00            0.00   \n",
       "1    9500000.00                0.00          3.00            0.00   \n",
       "2   25000000.00                0.00          4.00            1.00   \n",
       "3           NaN                 NaN           NaN             NaN   \n",
       "4           NaN                 NaN           NaN             NaN   \n",
       "\n",
       "   is_last_round  \n",
       "0           1.00  \n",
       "1           0.00  \n",
       "2           0.00  \n",
       "3            NaN  \n",
       "4            NaN  \n",
       "\n",
       "[5 rows x 22 columns]"
      ]
     },
     "execution_count": 51,
     "metadata": {},
     "output_type": "execute_result"
    }
   ],
   "source": [
    "crounds.head()"
   ]
  },
  {
   "cell_type": "code",
   "execution_count": 52,
   "metadata": {
    "scrolled": true
   },
   "outputs": [
    {
     "name": "stdout",
     "output_type": "stream",
     "text": [
      "<class 'pandas.core.frame.DataFrame'>\n",
      "RangeIndex: 217774 entries, 0 to 217773\n",
      "Data columns (total 22 columns):\n",
      " #   Column               Non-Null Count   Dtype         \n",
      "---  ------               --------------   -----         \n",
      " 0   id                   217472 non-null  float64       \n",
      " 1   name                 217472 non-null  object        \n",
      " 2   category_code        143886 non-null  object        \n",
      " 3   status               217472 non-null  object        \n",
      " 4   founded_at           109956 non-null  datetime64[ns]\n",
      " 5   closed_at            3449 non-null    datetime64[ns]\n",
      " 6   domain               147159 non-null  object        \n",
      " 7   network_username     95534 non-null   object        \n",
      " 8   country_code         108607 non-null  object        \n",
      " 9   investment_rounds    217472 non-null  float64       \n",
      " 10  funding_rounds       217472 non-null  float64       \n",
      " 11  funding_total        217472 non-null  float64       \n",
      " 12  milestones           217472 non-null  float64       \n",
      " 13  funding_round_id     52928 non-null   float64       \n",
      " 14  company_id           52928 non-null   float64       \n",
      " 15  funded_at            52680 non-null   datetime64[ns]\n",
      " 16  funding_round_type   52928 non-null   object        \n",
      " 17  raised_amount        52928 non-null   float64       \n",
      " 18  pre_money_valuation  52928 non-null   float64       \n",
      " 19  participants         52928 non-null   float64       \n",
      " 20  is_first_round       52928 non-null   float64       \n",
      " 21  is_last_round        52928 non-null   float64       \n",
      "dtypes: datetime64[ns](3), float64(12), object(7)\n",
      "memory usage: 36.6+ MB\n"
     ]
    }
   ],
   "source": [
    "crounds.info()"
   ]
  },
  {
   "cell_type": "code",
   "execution_count": 53,
   "metadata": {
    "id": "9BY9lTUcFbJ-"
   },
   "outputs": [],
   "source": [
    "# Столбцы для таблицы компаний\n",
    "company_columns = [\n",
    "    'id', 'name', 'category_code', 'status', 'founded_at',\n",
    "    'closed_at', 'domain', 'network_username', 'country_code',\n",
    "    'investment_rounds', 'funding_rounds', 'funding_total'\n",
    "]\n",
    "\n",
    "# Столбцы для таблицы раундов\n",
    "rounds_columns = [\n",
    "    'milestones',\n",
    "    'funding_round_id', 'company_id', 'funded_at', 'funding_round_type',\n",
    "    'raised_amount', 'pre_money_valuation', 'participants', \n",
    "    'is_first_round', 'is_last_round'\n",
    "]\n",
    "\n",
    "# Создаем таблицу для компаний\n",
    "company = crounds.loc[:, company_columns]\n",
    "\n",
    "# Создаем таблицу для раундов\n",
    "rounds = crounds.loc[:, rounds_columns]\n"
   ]
  },
  {
   "cell_type": "markdown",
   "metadata": {},
   "source": [
    "Разделили датасет на два. В одном хранится информация о раундах, в другом - о компаниях."
   ]
  },
  {
   "cell_type": "code",
   "execution_count": 54,
   "metadata": {
    "id": "tJ6Sl6MKrJg1",
    "vscode": {
     "languageId": "plaintext"
    }
   },
   "outputs": [
    {
     "data": {
      "text/html": [
       "<div>\n",
       "<style scoped>\n",
       "    .dataframe tbody tr th:only-of-type {\n",
       "        vertical-align: middle;\n",
       "    }\n",
       "\n",
       "    .dataframe tbody tr th {\n",
       "        vertical-align: top;\n",
       "    }\n",
       "\n",
       "    .dataframe thead th {\n",
       "        text-align: right;\n",
       "    }\n",
       "</style>\n",
       "<table border=\"1\" class=\"dataframe\">\n",
       "  <thead>\n",
       "    <tr style=\"text-align: right;\">\n",
       "      <th></th>\n",
       "      <th>id</th>\n",
       "      <th>name</th>\n",
       "      <th>category_code</th>\n",
       "      <th>status</th>\n",
       "      <th>founded_at</th>\n",
       "      <th>closed_at</th>\n",
       "      <th>domain</th>\n",
       "      <th>network_username</th>\n",
       "      <th>country_code</th>\n",
       "      <th>investment_rounds</th>\n",
       "      <th>funding_rounds</th>\n",
       "      <th>funding_total</th>\n",
       "    </tr>\n",
       "  </thead>\n",
       "  <tbody>\n",
       "    <tr>\n",
       "      <th>0</th>\n",
       "      <td>1.00</td>\n",
       "      <td>Wetpaint</td>\n",
       "      <td>web</td>\n",
       "      <td>operating</td>\n",
       "      <td>2005-10-17</td>\n",
       "      <td>NaT</td>\n",
       "      <td>wetpaint-inc.com</td>\n",
       "      <td>BachelrWetpaint</td>\n",
       "      <td>USA</td>\n",
       "      <td>0.00</td>\n",
       "      <td>3.00</td>\n",
       "      <td>39750000.00</td>\n",
       "    </tr>\n",
       "    <tr>\n",
       "      <th>1</th>\n",
       "      <td>1.00</td>\n",
       "      <td>Wetpaint</td>\n",
       "      <td>web</td>\n",
       "      <td>operating</td>\n",
       "      <td>2005-10-17</td>\n",
       "      <td>NaT</td>\n",
       "      <td>wetpaint-inc.com</td>\n",
       "      <td>BachelrWetpaint</td>\n",
       "      <td>USA</td>\n",
       "      <td>0.00</td>\n",
       "      <td>3.00</td>\n",
       "      <td>39750000.00</td>\n",
       "    </tr>\n",
       "    <tr>\n",
       "      <th>2</th>\n",
       "      <td>1.00</td>\n",
       "      <td>Wetpaint</td>\n",
       "      <td>web</td>\n",
       "      <td>operating</td>\n",
       "      <td>2005-10-17</td>\n",
       "      <td>NaT</td>\n",
       "      <td>wetpaint-inc.com</td>\n",
       "      <td>BachelrWetpaint</td>\n",
       "      <td>USA</td>\n",
       "      <td>0.00</td>\n",
       "      <td>3.00</td>\n",
       "      <td>39750000.00</td>\n",
       "    </tr>\n",
       "    <tr>\n",
       "      <th>3</th>\n",
       "      <td>10.00</td>\n",
       "      <td>Flektor</td>\n",
       "      <td>games_video</td>\n",
       "      <td>acquired</td>\n",
       "      <td>NaT</td>\n",
       "      <td>NaT</td>\n",
       "      <td>flektor.com</td>\n",
       "      <td>NaN</td>\n",
       "      <td>USA</td>\n",
       "      <td>0.00</td>\n",
       "      <td>0.00</td>\n",
       "      <td>0.00</td>\n",
       "    </tr>\n",
       "    <tr>\n",
       "      <th>4</th>\n",
       "      <td>100.00</td>\n",
       "      <td>There</td>\n",
       "      <td>games_video</td>\n",
       "      <td>acquired</td>\n",
       "      <td>NaT</td>\n",
       "      <td>NaT</td>\n",
       "      <td>there.com</td>\n",
       "      <td>NaN</td>\n",
       "      <td>USA</td>\n",
       "      <td>0.00</td>\n",
       "      <td>0.00</td>\n",
       "      <td>0.00</td>\n",
       "    </tr>\n",
       "  </tbody>\n",
       "</table>\n",
       "</div>"
      ],
      "text/plain": [
       "      id      name category_code     status founded_at closed_at  \\\n",
       "0   1.00  Wetpaint           web  operating 2005-10-17       NaT   \n",
       "1   1.00  Wetpaint           web  operating 2005-10-17       NaT   \n",
       "2   1.00  Wetpaint           web  operating 2005-10-17       NaT   \n",
       "3  10.00   Flektor   games_video   acquired        NaT       NaT   \n",
       "4 100.00     There   games_video   acquired        NaT       NaT   \n",
       "\n",
       "             domain network_username country_code  investment_rounds  \\\n",
       "0  wetpaint-inc.com  BachelrWetpaint          USA               0.00   \n",
       "1  wetpaint-inc.com  BachelrWetpaint          USA               0.00   \n",
       "2  wetpaint-inc.com  BachelrWetpaint          USA               0.00   \n",
       "3       flektor.com              NaN          USA               0.00   \n",
       "4         there.com              NaN          USA               0.00   \n",
       "\n",
       "   funding_rounds  funding_total  \n",
       "0            3.00    39750000.00  \n",
       "1            3.00    39750000.00  \n",
       "2            3.00    39750000.00  \n",
       "3            0.00           0.00  \n",
       "4            0.00           0.00  "
      ]
     },
     "execution_count": 54,
     "metadata": {},
     "output_type": "execute_result"
    }
   ],
   "source": [
    "# Проверим датасет о компаниях\n",
    "\n",
    "company.head()"
   ]
  },
  {
   "cell_type": "code",
   "execution_count": 55,
   "metadata": {},
   "outputs": [
    {
     "data": {
      "text/html": [
       "<div>\n",
       "<style scoped>\n",
       "    .dataframe tbody tr th:only-of-type {\n",
       "        vertical-align: middle;\n",
       "    }\n",
       "\n",
       "    .dataframe tbody tr th {\n",
       "        vertical-align: top;\n",
       "    }\n",
       "\n",
       "    .dataframe thead th {\n",
       "        text-align: right;\n",
       "    }\n",
       "</style>\n",
       "<table border=\"1\" class=\"dataframe\">\n",
       "  <thead>\n",
       "    <tr style=\"text-align: right;\">\n",
       "      <th></th>\n",
       "      <th>milestones</th>\n",
       "      <th>funding_round_id</th>\n",
       "      <th>company_id</th>\n",
       "      <th>funded_at</th>\n",
       "      <th>funding_round_type</th>\n",
       "      <th>raised_amount</th>\n",
       "      <th>pre_money_valuation</th>\n",
       "      <th>participants</th>\n",
       "      <th>is_first_round</th>\n",
       "      <th>is_last_round</th>\n",
       "    </tr>\n",
       "  </thead>\n",
       "  <tbody>\n",
       "    <tr>\n",
       "      <th>0</th>\n",
       "      <td>5.00</td>\n",
       "      <td>888.00</td>\n",
       "      <td>1.00</td>\n",
       "      <td>2005-10-01</td>\n",
       "      <td>series-a</td>\n",
       "      <td>5250000.00</td>\n",
       "      <td>0.00</td>\n",
       "      <td>2.00</td>\n",
       "      <td>0.00</td>\n",
       "      <td>1.00</td>\n",
       "    </tr>\n",
       "    <tr>\n",
       "      <th>1</th>\n",
       "      <td>5.00</td>\n",
       "      <td>889.00</td>\n",
       "      <td>1.00</td>\n",
       "      <td>2007-01-01</td>\n",
       "      <td>series-b</td>\n",
       "      <td>9500000.00</td>\n",
       "      <td>0.00</td>\n",
       "      <td>3.00</td>\n",
       "      <td>0.00</td>\n",
       "      <td>0.00</td>\n",
       "    </tr>\n",
       "    <tr>\n",
       "      <th>2</th>\n",
       "      <td>5.00</td>\n",
       "      <td>2312.00</td>\n",
       "      <td>1.00</td>\n",
       "      <td>2008-05-19</td>\n",
       "      <td>series-c+</td>\n",
       "      <td>25000000.00</td>\n",
       "      <td>0.00</td>\n",
       "      <td>4.00</td>\n",
       "      <td>1.00</td>\n",
       "      <td>0.00</td>\n",
       "    </tr>\n",
       "    <tr>\n",
       "      <th>3</th>\n",
       "      <td>0.00</td>\n",
       "      <td>NaN</td>\n",
       "      <td>NaN</td>\n",
       "      <td>NaT</td>\n",
       "      <td>NaN</td>\n",
       "      <td>NaN</td>\n",
       "      <td>NaN</td>\n",
       "      <td>NaN</td>\n",
       "      <td>NaN</td>\n",
       "      <td>NaN</td>\n",
       "    </tr>\n",
       "    <tr>\n",
       "      <th>4</th>\n",
       "      <td>4.00</td>\n",
       "      <td>NaN</td>\n",
       "      <td>NaN</td>\n",
       "      <td>NaT</td>\n",
       "      <td>NaN</td>\n",
       "      <td>NaN</td>\n",
       "      <td>NaN</td>\n",
       "      <td>NaN</td>\n",
       "      <td>NaN</td>\n",
       "      <td>NaN</td>\n",
       "    </tr>\n",
       "  </tbody>\n",
       "</table>\n",
       "</div>"
      ],
      "text/plain": [
       "   milestones  funding_round_id  company_id  funded_at funding_round_type  \\\n",
       "0        5.00            888.00        1.00 2005-10-01           series-a   \n",
       "1        5.00            889.00        1.00 2007-01-01           series-b   \n",
       "2        5.00           2312.00        1.00 2008-05-19          series-c+   \n",
       "3        0.00               NaN         NaN        NaT                NaN   \n",
       "4        4.00               NaN         NaN        NaT                NaN   \n",
       "\n",
       "   raised_amount  pre_money_valuation  participants  is_first_round  \\\n",
       "0     5250000.00                 0.00          2.00            0.00   \n",
       "1     9500000.00                 0.00          3.00            0.00   \n",
       "2    25000000.00                 0.00          4.00            1.00   \n",
       "3            NaN                  NaN           NaN             NaN   \n",
       "4            NaN                  NaN           NaN             NaN   \n",
       "\n",
       "   is_last_round  \n",
       "0           1.00  \n",
       "1           0.00  \n",
       "2           0.00  \n",
       "3            NaN  \n",
       "4            NaN  "
      ]
     },
     "execution_count": 55,
     "metadata": {},
     "output_type": "execute_result"
    }
   ],
   "source": [
    "# Проверим датасет о раундах\n",
    "\n",
    "rounds.head()"
   ]
  },
  {
   "cell_type": "code",
   "execution_count": 56,
   "metadata": {},
   "outputs": [
    {
     "data": {
      "text/plain": [
       "21220"
      ]
     },
     "execution_count": 56,
     "metadata": {},
     "output_type": "execute_result"
    }
   ],
   "source": [
    "# Проверяем данные на явные дубликаты\n",
    "company.duplicated().sum()"
   ]
  },
  {
   "cell_type": "code",
   "execution_count": 57,
   "metadata": {},
   "outputs": [],
   "source": [
    "# Удаляем явные дубликаты\n",
    "company = company.drop_duplicates()"
   ]
  },
  {
   "cell_type": "code",
   "execution_count": 58,
   "metadata": {
    "scrolled": true
   },
   "outputs": [
    {
     "data": {
      "text/plain": [
       "0"
      ]
     },
     "execution_count": 58,
     "metadata": {},
     "output_type": "execute_result"
    }
   ],
   "source": [
    "# Проверяем данные на явные дубликаты\n",
    "company.duplicated().sum()"
   ]
  },
  {
   "cell_type": "code",
   "execution_count": 59,
   "metadata": {
    "scrolled": true
   },
   "outputs": [
    {
     "name": "stdout",
     "output_type": "stream",
     "text": [
      "<class 'pandas.core.frame.DataFrame'>\n",
      "Int64Index: 196554 entries, 0 to 217472\n",
      "Data columns (total 12 columns):\n",
      " #   Column             Non-Null Count   Dtype         \n",
      "---  ------             --------------   -----         \n",
      " 0   id                 196553 non-null  float64       \n",
      " 1   name               196553 non-null  object        \n",
      " 2   category_code      123186 non-null  object        \n",
      " 3   status             196553 non-null  object        \n",
      " 4   founded_at         91227 non-null   datetime64[ns]\n",
      " 5   closed_at          2620 non-null    datetime64[ns]\n",
      " 6   domain             126545 non-null  object        \n",
      " 7   network_username   80591 non-null   object        \n",
      " 8   country_code       87990 non-null   object        \n",
      " 9   investment_rounds  196553 non-null  float64       \n",
      " 10  funding_rounds     196553 non-null  float64       \n",
      " 11  funding_total      196553 non-null  float64       \n",
      "dtypes: datetime64[ns](2), float64(4), object(6)\n",
      "memory usage: 19.5+ MB\n"
     ]
    }
   ],
   "source": [
    "# Проверяем информацию о датасете\n",
    "\n",
    "company.info()"
   ]
  },
  {
   "cell_type": "code",
   "execution_count": 60,
   "metadata": {},
   "outputs": [
    {
     "data": {
      "text/html": [
       "<div>\n",
       "<style scoped>\n",
       "    .dataframe tbody tr th:only-of-type {\n",
       "        vertical-align: middle;\n",
       "    }\n",
       "\n",
       "    .dataframe tbody tr th {\n",
       "        vertical-align: top;\n",
       "    }\n",
       "\n",
       "    .dataframe thead th {\n",
       "        text-align: right;\n",
       "    }\n",
       "</style>\n",
       "<table border=\"1\" class=\"dataframe\">\n",
       "  <thead>\n",
       "    <tr style=\"text-align: right;\">\n",
       "      <th></th>\n",
       "      <th>id</th>\n",
       "      <th>name</th>\n",
       "      <th>category_code</th>\n",
       "      <th>status</th>\n",
       "      <th>founded_at</th>\n",
       "      <th>closed_at</th>\n",
       "      <th>domain</th>\n",
       "      <th>network_username</th>\n",
       "      <th>country_code</th>\n",
       "      <th>investment_rounds</th>\n",
       "      <th>funding_rounds</th>\n",
       "      <th>funding_total</th>\n",
       "    </tr>\n",
       "  </thead>\n",
       "  <tbody>\n",
       "    <tr>\n",
       "      <th>0</th>\n",
       "      <td>1.00</td>\n",
       "      <td>Wetpaint</td>\n",
       "      <td>web</td>\n",
       "      <td>operating</td>\n",
       "      <td>2005-10-17</td>\n",
       "      <td>NaT</td>\n",
       "      <td>wetpaint-inc.com</td>\n",
       "      <td>BachelrWetpaint</td>\n",
       "      <td>USA</td>\n",
       "      <td>0.00</td>\n",
       "      <td>3.00</td>\n",
       "      <td>39750000.00</td>\n",
       "    </tr>\n",
       "    <tr>\n",
       "      <th>3</th>\n",
       "      <td>10.00</td>\n",
       "      <td>Flektor</td>\n",
       "      <td>games_video</td>\n",
       "      <td>acquired</td>\n",
       "      <td>NaT</td>\n",
       "      <td>NaT</td>\n",
       "      <td>flektor.com</td>\n",
       "      <td>NaN</td>\n",
       "      <td>USA</td>\n",
       "      <td>0.00</td>\n",
       "      <td>0.00</td>\n",
       "      <td>0.00</td>\n",
       "    </tr>\n",
       "    <tr>\n",
       "      <th>4</th>\n",
       "      <td>100.00</td>\n",
       "      <td>There</td>\n",
       "      <td>games_video</td>\n",
       "      <td>acquired</td>\n",
       "      <td>NaT</td>\n",
       "      <td>NaT</td>\n",
       "      <td>there.com</td>\n",
       "      <td>NaN</td>\n",
       "      <td>USA</td>\n",
       "      <td>0.00</td>\n",
       "      <td>0.00</td>\n",
       "      <td>0.00</td>\n",
       "    </tr>\n",
       "    <tr>\n",
       "      <th>5</th>\n",
       "      <td>10000.00</td>\n",
       "      <td>MYWEBBO</td>\n",
       "      <td>network_hosting</td>\n",
       "      <td>operating</td>\n",
       "      <td>2008-07-26</td>\n",
       "      <td>NaT</td>\n",
       "      <td>mywebbo.com</td>\n",
       "      <td>NaN</td>\n",
       "      <td>NaN</td>\n",
       "      <td>0.00</td>\n",
       "      <td>0.00</td>\n",
       "      <td>0.00</td>\n",
       "    </tr>\n",
       "    <tr>\n",
       "      <th>6</th>\n",
       "      <td>10001.00</td>\n",
       "      <td>THE Movie Streamer</td>\n",
       "      <td>games_video</td>\n",
       "      <td>operating</td>\n",
       "      <td>2008-07-26</td>\n",
       "      <td>NaT</td>\n",
       "      <td>themoviestreamer.com</td>\n",
       "      <td>NaN</td>\n",
       "      <td>NaN</td>\n",
       "      <td>0.00</td>\n",
       "      <td>0.00</td>\n",
       "      <td>0.00</td>\n",
       "    </tr>\n",
       "  </tbody>\n",
       "</table>\n",
       "</div>"
      ],
      "text/plain": [
       "        id                name    category_code     status founded_at  \\\n",
       "0     1.00            Wetpaint              web  operating 2005-10-17   \n",
       "3    10.00             Flektor      games_video   acquired        NaT   \n",
       "4   100.00               There      games_video   acquired        NaT   \n",
       "5 10000.00             MYWEBBO  network_hosting  operating 2008-07-26   \n",
       "6 10001.00  THE Movie Streamer      games_video  operating 2008-07-26   \n",
       "\n",
       "  closed_at                domain network_username country_code  \\\n",
       "0       NaT      wetpaint-inc.com  BachelrWetpaint          USA   \n",
       "3       NaT           flektor.com              NaN          USA   \n",
       "4       NaT             there.com              NaN          USA   \n",
       "5       NaT           mywebbo.com              NaN          NaN   \n",
       "6       NaT  themoviestreamer.com              NaN          NaN   \n",
       "\n",
       "   investment_rounds  funding_rounds  funding_total  \n",
       "0               0.00            3.00    39750000.00  \n",
       "3               0.00            0.00           0.00  \n",
       "4               0.00            0.00           0.00  \n",
       "5               0.00            0.00           0.00  \n",
       "6               0.00            0.00           0.00  "
      ]
     },
     "execution_count": 60,
     "metadata": {},
     "output_type": "execute_result"
    }
   ],
   "source": [
    "# Просматриваем информацию о компаниях\n",
    "company.head()"
   ]
  },
  {
   "cell_type": "markdown",
   "metadata": {},
   "source": [
    "Переименуем обратно для удобства"
   ]
  },
  {
   "cell_type": "code",
   "execution_count": 61,
   "metadata": {},
   "outputs": [],
   "source": [
    "company = company.rename(columns={'id': 'company_id'})"
   ]
  },
  {
   "cell_type": "code",
   "execution_count": 62,
   "metadata": {},
   "outputs": [
    {
     "data": {
      "text/html": [
       "<div>\n",
       "<style scoped>\n",
       "    .dataframe tbody tr th:only-of-type {\n",
       "        vertical-align: middle;\n",
       "    }\n",
       "\n",
       "    .dataframe tbody tr th {\n",
       "        vertical-align: top;\n",
       "    }\n",
       "\n",
       "    .dataframe thead th {\n",
       "        text-align: right;\n",
       "    }\n",
       "</style>\n",
       "<table border=\"1\" class=\"dataframe\">\n",
       "  <thead>\n",
       "    <tr style=\"text-align: right;\">\n",
       "      <th></th>\n",
       "      <th>company_id</th>\n",
       "      <th>name</th>\n",
       "      <th>category_code</th>\n",
       "      <th>status</th>\n",
       "      <th>founded_at</th>\n",
       "      <th>closed_at</th>\n",
       "      <th>domain</th>\n",
       "      <th>network_username</th>\n",
       "      <th>country_code</th>\n",
       "      <th>investment_rounds</th>\n",
       "      <th>funding_rounds</th>\n",
       "      <th>funding_total</th>\n",
       "    </tr>\n",
       "  </thead>\n",
       "  <tbody>\n",
       "    <tr>\n",
       "      <th>0</th>\n",
       "      <td>1.00</td>\n",
       "      <td>Wetpaint</td>\n",
       "      <td>web</td>\n",
       "      <td>operating</td>\n",
       "      <td>2005-10-17</td>\n",
       "      <td>NaT</td>\n",
       "      <td>wetpaint-inc.com</td>\n",
       "      <td>BachelrWetpaint</td>\n",
       "      <td>USA</td>\n",
       "      <td>0.00</td>\n",
       "      <td>3.00</td>\n",
       "      <td>39750000.00</td>\n",
       "    </tr>\n",
       "    <tr>\n",
       "      <th>3</th>\n",
       "      <td>10.00</td>\n",
       "      <td>Flektor</td>\n",
       "      <td>games_video</td>\n",
       "      <td>acquired</td>\n",
       "      <td>NaT</td>\n",
       "      <td>NaT</td>\n",
       "      <td>flektor.com</td>\n",
       "      <td>NaN</td>\n",
       "      <td>USA</td>\n",
       "      <td>0.00</td>\n",
       "      <td>0.00</td>\n",
       "      <td>0.00</td>\n",
       "    </tr>\n",
       "    <tr>\n",
       "      <th>4</th>\n",
       "      <td>100.00</td>\n",
       "      <td>There</td>\n",
       "      <td>games_video</td>\n",
       "      <td>acquired</td>\n",
       "      <td>NaT</td>\n",
       "      <td>NaT</td>\n",
       "      <td>there.com</td>\n",
       "      <td>NaN</td>\n",
       "      <td>USA</td>\n",
       "      <td>0.00</td>\n",
       "      <td>0.00</td>\n",
       "      <td>0.00</td>\n",
       "    </tr>\n",
       "    <tr>\n",
       "      <th>5</th>\n",
       "      <td>10000.00</td>\n",
       "      <td>MYWEBBO</td>\n",
       "      <td>network_hosting</td>\n",
       "      <td>operating</td>\n",
       "      <td>2008-07-26</td>\n",
       "      <td>NaT</td>\n",
       "      <td>mywebbo.com</td>\n",
       "      <td>NaN</td>\n",
       "      <td>NaN</td>\n",
       "      <td>0.00</td>\n",
       "      <td>0.00</td>\n",
       "      <td>0.00</td>\n",
       "    </tr>\n",
       "    <tr>\n",
       "      <th>6</th>\n",
       "      <td>10001.00</td>\n",
       "      <td>THE Movie Streamer</td>\n",
       "      <td>games_video</td>\n",
       "      <td>operating</td>\n",
       "      <td>2008-07-26</td>\n",
       "      <td>NaT</td>\n",
       "      <td>themoviestreamer.com</td>\n",
       "      <td>NaN</td>\n",
       "      <td>NaN</td>\n",
       "      <td>0.00</td>\n",
       "      <td>0.00</td>\n",
       "      <td>0.00</td>\n",
       "    </tr>\n",
       "  </tbody>\n",
       "</table>\n",
       "</div>"
      ],
      "text/plain": [
       "   company_id                name    category_code     status founded_at  \\\n",
       "0        1.00            Wetpaint              web  operating 2005-10-17   \n",
       "3       10.00             Flektor      games_video   acquired        NaT   \n",
       "4      100.00               There      games_video   acquired        NaT   \n",
       "5    10000.00             MYWEBBO  network_hosting  operating 2008-07-26   \n",
       "6    10001.00  THE Movie Streamer      games_video  operating 2008-07-26   \n",
       "\n",
       "  closed_at                domain network_username country_code  \\\n",
       "0       NaT      wetpaint-inc.com  BachelrWetpaint          USA   \n",
       "3       NaT           flektor.com              NaN          USA   \n",
       "4       NaT             there.com              NaN          USA   \n",
       "5       NaT           mywebbo.com              NaN          NaN   \n",
       "6       NaT  themoviestreamer.com              NaN          NaN   \n",
       "\n",
       "   investment_rounds  funding_rounds  funding_total  \n",
       "0               0.00            3.00    39750000.00  \n",
       "3               0.00            0.00           0.00  \n",
       "4               0.00            0.00           0.00  \n",
       "5               0.00            0.00           0.00  \n",
       "6               0.00            0.00           0.00  "
      ]
     },
     "execution_count": 62,
     "metadata": {},
     "output_type": "execute_result"
    }
   ],
   "source": [
    "company.head()"
   ]
  },
  {
   "cell_type": "code",
   "execution_count": 63,
   "metadata": {},
   "outputs": [
    {
     "data": {
      "text/html": [
       "<div>\n",
       "<style scoped>\n",
       "    .dataframe tbody tr th:only-of-type {\n",
       "        vertical-align: middle;\n",
       "    }\n",
       "\n",
       "    .dataframe tbody tr th {\n",
       "        vertical-align: top;\n",
       "    }\n",
       "\n",
       "    .dataframe thead th {\n",
       "        text-align: right;\n",
       "    }\n",
       "</style>\n",
       "<table border=\"1\" class=\"dataframe\">\n",
       "  <thead>\n",
       "    <tr style=\"text-align: right;\">\n",
       "      <th></th>\n",
       "      <th>milestones</th>\n",
       "      <th>funding_round_id</th>\n",
       "      <th>company_id</th>\n",
       "      <th>funded_at</th>\n",
       "      <th>funding_round_type</th>\n",
       "      <th>raised_amount</th>\n",
       "      <th>pre_money_valuation</th>\n",
       "      <th>participants</th>\n",
       "      <th>is_first_round</th>\n",
       "      <th>is_last_round</th>\n",
       "    </tr>\n",
       "  </thead>\n",
       "  <tbody>\n",
       "    <tr>\n",
       "      <th>0</th>\n",
       "      <td>5.00</td>\n",
       "      <td>888.00</td>\n",
       "      <td>1.00</td>\n",
       "      <td>2005-10-01</td>\n",
       "      <td>series-a</td>\n",
       "      <td>5250000.00</td>\n",
       "      <td>0.00</td>\n",
       "      <td>2.00</td>\n",
       "      <td>0.00</td>\n",
       "      <td>1.00</td>\n",
       "    </tr>\n",
       "    <tr>\n",
       "      <th>1</th>\n",
       "      <td>5.00</td>\n",
       "      <td>889.00</td>\n",
       "      <td>1.00</td>\n",
       "      <td>2007-01-01</td>\n",
       "      <td>series-b</td>\n",
       "      <td>9500000.00</td>\n",
       "      <td>0.00</td>\n",
       "      <td>3.00</td>\n",
       "      <td>0.00</td>\n",
       "      <td>0.00</td>\n",
       "    </tr>\n",
       "    <tr>\n",
       "      <th>2</th>\n",
       "      <td>5.00</td>\n",
       "      <td>2312.00</td>\n",
       "      <td>1.00</td>\n",
       "      <td>2008-05-19</td>\n",
       "      <td>series-c+</td>\n",
       "      <td>25000000.00</td>\n",
       "      <td>0.00</td>\n",
       "      <td>4.00</td>\n",
       "      <td>1.00</td>\n",
       "      <td>0.00</td>\n",
       "    </tr>\n",
       "    <tr>\n",
       "      <th>3</th>\n",
       "      <td>0.00</td>\n",
       "      <td>NaN</td>\n",
       "      <td>NaN</td>\n",
       "      <td>NaT</td>\n",
       "      <td>NaN</td>\n",
       "      <td>NaN</td>\n",
       "      <td>NaN</td>\n",
       "      <td>NaN</td>\n",
       "      <td>NaN</td>\n",
       "      <td>NaN</td>\n",
       "    </tr>\n",
       "    <tr>\n",
       "      <th>4</th>\n",
       "      <td>4.00</td>\n",
       "      <td>NaN</td>\n",
       "      <td>NaN</td>\n",
       "      <td>NaT</td>\n",
       "      <td>NaN</td>\n",
       "      <td>NaN</td>\n",
       "      <td>NaN</td>\n",
       "      <td>NaN</td>\n",
       "      <td>NaN</td>\n",
       "      <td>NaN</td>\n",
       "    </tr>\n",
       "  </tbody>\n",
       "</table>\n",
       "</div>"
      ],
      "text/plain": [
       "   milestones  funding_round_id  company_id  funded_at funding_round_type  \\\n",
       "0        5.00            888.00        1.00 2005-10-01           series-a   \n",
       "1        5.00            889.00        1.00 2007-01-01           series-b   \n",
       "2        5.00           2312.00        1.00 2008-05-19          series-c+   \n",
       "3        0.00               NaN         NaN        NaT                NaN   \n",
       "4        4.00               NaN         NaN        NaT                NaN   \n",
       "\n",
       "   raised_amount  pre_money_valuation  participants  is_first_round  \\\n",
       "0     5250000.00                 0.00          2.00            0.00   \n",
       "1     9500000.00                 0.00          3.00            0.00   \n",
       "2    25000000.00                 0.00          4.00            1.00   \n",
       "3            NaN                  NaN           NaN             NaN   \n",
       "4            NaN                  NaN           NaN             NaN   \n",
       "\n",
       "   is_last_round  \n",
       "0           1.00  \n",
       "1           0.00  \n",
       "2           0.00  \n",
       "3            NaN  \n",
       "4            NaN  "
      ]
     },
     "execution_count": 63,
     "metadata": {},
     "output_type": "execute_result"
    }
   ],
   "source": [
    "rounds.head()"
   ]
  },
  {
   "cell_type": "code",
   "execution_count": 64,
   "metadata": {},
   "outputs": [
    {
     "data": {
      "text/plain": [
       "milestones                302\n",
       "funding_round_id       164846\n",
       "company_id             164846\n",
       "funded_at              165094\n",
       "funding_round_type     164846\n",
       "raised_amount          164846\n",
       "pre_money_valuation    164846\n",
       "participants           164846\n",
       "is_first_round         164846\n",
       "is_last_round          164846\n",
       "dtype: int64"
      ]
     },
     "execution_count": 64,
     "metadata": {},
     "output_type": "execute_result"
    }
   ],
   "source": [
    "rounds.isna().sum()"
   ]
  },
  {
   "cell_type": "code",
   "execution_count": 65,
   "metadata": {},
   "outputs": [
    {
     "name": "stdout",
     "output_type": "stream",
     "text": [
      "<class 'pandas.core.frame.DataFrame'>\n",
      "RangeIndex: 217774 entries, 0 to 217773\n",
      "Data columns (total 10 columns):\n",
      " #   Column               Non-Null Count   Dtype         \n",
      "---  ------               --------------   -----         \n",
      " 0   milestones           217472 non-null  float64       \n",
      " 1   funding_round_id     52928 non-null   float64       \n",
      " 2   company_id           52928 non-null   float64       \n",
      " 3   funded_at            52680 non-null   datetime64[ns]\n",
      " 4   funding_round_type   52928 non-null   object        \n",
      " 5   raised_amount        52928 non-null   float64       \n",
      " 6   pre_money_valuation  52928 non-null   float64       \n",
      " 7   participants         52928 non-null   float64       \n",
      " 8   is_first_round       52928 non-null   float64       \n",
      " 9   is_last_round        52928 non-null   float64       \n",
      "dtypes: datetime64[ns](1), float64(8), object(1)\n",
      "memory usage: 16.6+ MB\n"
     ]
    }
   ],
   "source": [
    "rounds.info()"
   ]
  },
  {
   "cell_type": "code",
   "execution_count": 66,
   "metadata": {},
   "outputs": [],
   "source": [
    "# Удаляем строки, где все указанные столбцы имеют пустые значения\n",
    "columns_to_check = [\n",
    "    'funding_round_id', 'company_id', 'funded_at', \n",
    "    'funding_round_type', 'raised_amount', \n",
    "    'pre_money_valuation', 'participants', \n",
    "    'is_first_round', 'is_last_round'\n",
    "]\n",
    "\n",
    "rounds = rounds.dropna(subset=columns_to_check, how='all')"
   ]
  },
  {
   "cell_type": "code",
   "execution_count": 67,
   "metadata": {
    "scrolled": true
   },
   "outputs": [
    {
     "name": "stdout",
     "output_type": "stream",
     "text": [
      "<class 'pandas.core.frame.DataFrame'>\n",
      "Int64Index: 52928 entries, 0 to 217773\n",
      "Data columns (total 10 columns):\n",
      " #   Column               Non-Null Count  Dtype         \n",
      "---  ------               --------------  -----         \n",
      " 0   milestones           52626 non-null  float64       \n",
      " 1   funding_round_id     52928 non-null  float64       \n",
      " 2   company_id           52928 non-null  float64       \n",
      " 3   funded_at            52680 non-null  datetime64[ns]\n",
      " 4   funding_round_type   52928 non-null  object        \n",
      " 5   raised_amount        52928 non-null  float64       \n",
      " 6   pre_money_valuation  52928 non-null  float64       \n",
      " 7   participants         52928 non-null  float64       \n",
      " 8   is_first_round       52928 non-null  float64       \n",
      " 9   is_last_round        52928 non-null  float64       \n",
      "dtypes: datetime64[ns](1), float64(8), object(1)\n",
      "memory usage: 4.4+ MB\n"
     ]
    }
   ],
   "source": [
    "rounds.info()"
   ]
  },
  {
   "cell_type": "code",
   "execution_count": 68,
   "metadata": {},
   "outputs": [
    {
     "data": {
      "text/plain": [
       "0"
      ]
     },
     "execution_count": 68,
     "metadata": {},
     "output_type": "execute_result"
    }
   ],
   "source": [
    "# Проверим явные дубликаты в rounds\n",
    "rounds.duplicated().sum()"
   ]
  },
  {
   "attachments": {
    "image.png": {
     "image/png": "[encoded data removed]"
    }
   },
   "cell_type": "markdown",
   "metadata": {},
   "source": [
    "<div class=\"alert alert-block alert-danger\">\n",
    "<h2> Комментарий ревьюера v1<a class=\"tocSkip\"></h2>\n",
    "\n",
    "<b>На доработку🤔:</b>  Александр, круто, что ты сразу заметил закономерности  и разделил датафрейм на два! Это поможет не терять данные и качественно решить следуеющие задания. Но давай чуть детальнее взглянем на струткуру пропусков. Когда в \tinvestment_rounds,\tfunding_rounds,\tfunding_total,\tmilestones\tесть данные в правой чати пропуски, но при этом есть данные по компаниям\n",
    "\n",
    "Покажу на исходных данных. В левой части содердатся дубликаты, которые кстати нужно удалить, чтобы не искажать статистики. А в правой пропуски\n",
    "    \n",
    "![image.png](attachment:image.png)"
   ]
  },
  {
   "cell_type": "markdown",
   "metadata": {},
   "source": [
    "<div class=\"alert alert-info\"> <b>Комментарий студента:</b> удалил дубликаты в левой части, удалил строки с пропусками в правой части."
   ]
  },
  {
   "cell_type": "markdown",
   "metadata": {},
   "source": [
    "<div class=\"alert alert-warning\">\n",
    "    <h2> Комментарий ревьюера v1<a class=\"tocSkip\"> </h2>\n",
    "    \n",
    "<b>Небольшие замечания и рекомендации💡:</b> Ниже я покажу немного не стандартный, но достаточно наглядный метод как мы можем проанализировать пропуски подробнее. Подробнее о нем ты можешь прочитать в [статье](https://coderzcolumn.com/tutorials/data-science/missingno-visualize-missing-data-in-python)"
   ]
  },
  {
   "cell_type": "code",
   "execution_count": 69,
   "metadata": {
    "scrolled": true
   },
   "outputs": [
    {
     "data": {
      "image/png": "[encoded data removed]",
      "text/plain": [
       "<Figure size 1800x720 with 1 Axes>"
      ]
     },
     "metadata": {
      "needs_background": "light"
     },
     "output_type": "display_data"
    }
   ],
   "source": [
    "# Код ревьюера\n",
    "# Метод dendrogram из библиотеки missingno\n",
    "!pip install missingno -q\n",
    "import missingno as msno\n",
    "crounds_11 = pd.read_csv('https://code.s3.yandex.net/datasets/company_and_rounds.csv')\n",
    "msno.dendrogram(crounds_11)\n",
    "plt.show()"
   ]
  },
  {
   "cell_type": "markdown",
   "metadata": {},
   "source": [
    "<div class=\"alert alert-warning\">\n",
    "    <h2> Комментарий ревьюера v1<a class=\"tocSkip\"> </h2>\n",
    "    \n",
    "<b>Небольшие замечания и рекомендации💡:</b> Если возникнут вопросы или сложности пиши, я объясню подробнее и мы детально разьеремся в этой части проекта. Уверен, ты легко поравишь неточности выше и **если удастся** получить результаты строк примерно 196000 и 53000\n",
    "        <div class=\"alert alert-info\"> Можешь приступать к разделам 4 и 5."
   ]
  },
  {
   "cell_type": "markdown",
   "metadata": {},
   "source": [
    "<div class=\"alert alert-info\"> <b>Комментарий студента:</b> получил вышеуказанные результаты, приступаю к разделам 4 и 5."
   ]
  },
  {
   "cell_type": "markdown",
   "metadata": {},
   "source": [
    "<div class=\"alert alert-block alert-danger\">\n",
    "<h2> Комментарий ревьюера v2<a class=\"tocSkip\"></h2>\n",
    "\n",
    "<b>На доработку🤔:</b>По общей стрктуре данных, пропусков и смыслу полей данных investment_rounds,  funding_rounds и funding_total следует поместить в датасет с компаниями, а не раундами"
   ]
  },
  {
   "cell_type": "markdown",
   "metadata": {},
   "source": [
    "<div class=\"alert alert-info\"> <b>Комментарий студента:</b> Спасибо за проверку! Добавил столбцы `investment_rounds`, `funding_rounds` и `funding_total` в датасет с компаниями, убрал их из датасета с раундами."
   ]
  },
  {
   "cell_type": "markdown",
   "metadata": {},
   "source": [
    "<div class=\"alert alert-success\">\n",
    "<h2> Комментарий ревьюера v3 <a class=\"tocSkip\"> </h2>\n",
    "\n",
    "<b>Все супер!👍:</b> Теперь \"последствия\" full join полностью отработаны, молодец!"
   ]
  },
  {
   "cell_type": "markdown",
   "metadata": {
    "id": "bmVYhphNrJg2"
   },
   "source": [
    "\n",
    "## Шаг 3. Исследовательский анализ объединённых таблиц\n",
    "\n",
    "> Приступите к шагу 3 после проверки ревьюера.\n",
    "\n",
    "<big>Студентам нужно чётко сказать - проверять дальше или не проверять.</big>"
   ]
  },
  {
   "cell_type": "markdown",
   "metadata": {
    "id": "3Di6tCT3rJg2"
   },
   "source": [
    "\n",
    "### 3.1. Объединение данных\n",
    "\n",
    "Объедините данные для ответа на вопросы заказчика, которые касаются интересующих его компаний. Заказчика прежде всего интересуют те компании, которые меняли или готовы менять владельцев. Получение инвестиций или финансирования, по мнению заказчика, означает интерес к покупке или продаже компании.\n",
    "\n",
    "В качестве основы для объединённой таблицы возьмите данные из обработанного датасета `company_and_rounds.csv` — выберите только те компании, у которых указаны значения `funding_rounds` или `investment_rounds` больше нуля, или те, у которых в колонке `status` указано `acquired`. В результирующей таблице должно получиться порядка 40 тысяч компаний.\n",
    "\n",
    "Проверьте полноту и корректность получившейся таблицы. Далее работайте только с этими данными."
   ]
  },
  {
   "cell_type": "code",
   "execution_count": 70,
   "metadata": {
    "id": "kuV1b5MXFg3_",
    "scrolled": true
   },
   "outputs": [
    {
     "data": {
      "text/html": [
       "<div>\n",
       "<style scoped>\n",
       "    .dataframe tbody tr th:only-of-type {\n",
       "        vertical-align: middle;\n",
       "    }\n",
       "\n",
       "    .dataframe tbody tr th {\n",
       "        vertical-align: top;\n",
       "    }\n",
       "\n",
       "    .dataframe thead th {\n",
       "        text-align: right;\n",
       "    }\n",
       "</style>\n",
       "<table border=\"1\" class=\"dataframe\">\n",
       "  <thead>\n",
       "    <tr style=\"text-align: right;\">\n",
       "      <th></th>\n",
       "      <th>company_id</th>\n",
       "      <th>name</th>\n",
       "      <th>category_code</th>\n",
       "      <th>status</th>\n",
       "      <th>founded_at</th>\n",
       "      <th>closed_at</th>\n",
       "      <th>domain</th>\n",
       "      <th>network_username</th>\n",
       "      <th>country_code</th>\n",
       "      <th>investment_rounds</th>\n",
       "      <th>funding_rounds</th>\n",
       "      <th>funding_total</th>\n",
       "    </tr>\n",
       "  </thead>\n",
       "  <tbody>\n",
       "    <tr>\n",
       "      <th>0</th>\n",
       "      <td>1.00</td>\n",
       "      <td>Wetpaint</td>\n",
       "      <td>web</td>\n",
       "      <td>operating</td>\n",
       "      <td>2005-10-17</td>\n",
       "      <td>NaT</td>\n",
       "      <td>wetpaint-inc.com</td>\n",
       "      <td>BachelrWetpaint</td>\n",
       "      <td>USA</td>\n",
       "      <td>0.00</td>\n",
       "      <td>3.00</td>\n",
       "      <td>39750000.00</td>\n",
       "    </tr>\n",
       "    <tr>\n",
       "      <th>3</th>\n",
       "      <td>10.00</td>\n",
       "      <td>Flektor</td>\n",
       "      <td>games_video</td>\n",
       "      <td>acquired</td>\n",
       "      <td>NaT</td>\n",
       "      <td>NaT</td>\n",
       "      <td>flektor.com</td>\n",
       "      <td>NaN</td>\n",
       "      <td>USA</td>\n",
       "      <td>0.00</td>\n",
       "      <td>0.00</td>\n",
       "      <td>0.00</td>\n",
       "    </tr>\n",
       "    <tr>\n",
       "      <th>4</th>\n",
       "      <td>100.00</td>\n",
       "      <td>There</td>\n",
       "      <td>games_video</td>\n",
       "      <td>acquired</td>\n",
       "      <td>NaT</td>\n",
       "      <td>NaT</td>\n",
       "      <td>there.com</td>\n",
       "      <td>NaN</td>\n",
       "      <td>USA</td>\n",
       "      <td>0.00</td>\n",
       "      <td>0.00</td>\n",
       "      <td>0.00</td>\n",
       "    </tr>\n",
       "    <tr>\n",
       "      <th>5</th>\n",
       "      <td>10000.00</td>\n",
       "      <td>MYWEBBO</td>\n",
       "      <td>network_hosting</td>\n",
       "      <td>operating</td>\n",
       "      <td>2008-07-26</td>\n",
       "      <td>NaT</td>\n",
       "      <td>mywebbo.com</td>\n",
       "      <td>NaN</td>\n",
       "      <td>NaN</td>\n",
       "      <td>0.00</td>\n",
       "      <td>0.00</td>\n",
       "      <td>0.00</td>\n",
       "    </tr>\n",
       "    <tr>\n",
       "      <th>6</th>\n",
       "      <td>10001.00</td>\n",
       "      <td>THE Movie Streamer</td>\n",
       "      <td>games_video</td>\n",
       "      <td>operating</td>\n",
       "      <td>2008-07-26</td>\n",
       "      <td>NaT</td>\n",
       "      <td>themoviestreamer.com</td>\n",
       "      <td>NaN</td>\n",
       "      <td>NaN</td>\n",
       "      <td>0.00</td>\n",
       "      <td>0.00</td>\n",
       "      <td>0.00</td>\n",
       "    </tr>\n",
       "  </tbody>\n",
       "</table>\n",
       "</div>"
      ],
      "text/plain": [
       "   company_id                name    category_code     status founded_at  \\\n",
       "0        1.00            Wetpaint              web  operating 2005-10-17   \n",
       "3       10.00             Flektor      games_video   acquired        NaT   \n",
       "4      100.00               There      games_video   acquired        NaT   \n",
       "5    10000.00             MYWEBBO  network_hosting  operating 2008-07-26   \n",
       "6    10001.00  THE Movie Streamer      games_video  operating 2008-07-26   \n",
       "\n",
       "  closed_at                domain network_username country_code  \\\n",
       "0       NaT      wetpaint-inc.com  BachelrWetpaint          USA   \n",
       "3       NaT           flektor.com              NaN          USA   \n",
       "4       NaT             there.com              NaN          USA   \n",
       "5       NaT           mywebbo.com              NaN          NaN   \n",
       "6       NaT  themoviestreamer.com              NaN          NaN   \n",
       "\n",
       "   investment_rounds  funding_rounds  funding_total  \n",
       "0               0.00            3.00    39750000.00  \n",
       "3               0.00            0.00           0.00  \n",
       "4               0.00            0.00           0.00  \n",
       "5               0.00            0.00           0.00  \n",
       "6               0.00            0.00           0.00  "
      ]
     },
     "execution_count": 70,
     "metadata": {},
     "output_type": "execute_result"
    }
   ],
   "source": [
    "company.head()"
   ]
  },
  {
   "cell_type": "code",
   "execution_count": 71,
   "metadata": {
    "id": "93v3fEX5FgtP"
   },
   "outputs": [
    {
     "data": {
      "text/html": [
       "<div>\n",
       "<style scoped>\n",
       "    .dataframe tbody tr th:only-of-type {\n",
       "        vertical-align: middle;\n",
       "    }\n",
       "\n",
       "    .dataframe tbody tr th {\n",
       "        vertical-align: top;\n",
       "    }\n",
       "\n",
       "    .dataframe thead th {\n",
       "        text-align: right;\n",
       "    }\n",
       "</style>\n",
       "<table border=\"1\" class=\"dataframe\">\n",
       "  <thead>\n",
       "    <tr style=\"text-align: right;\">\n",
       "      <th></th>\n",
       "      <th>milestones</th>\n",
       "      <th>funding_round_id</th>\n",
       "      <th>company_id</th>\n",
       "      <th>funded_at</th>\n",
       "      <th>funding_round_type</th>\n",
       "      <th>raised_amount</th>\n",
       "      <th>pre_money_valuation</th>\n",
       "      <th>participants</th>\n",
       "      <th>is_first_round</th>\n",
       "      <th>is_last_round</th>\n",
       "    </tr>\n",
       "  </thead>\n",
       "  <tbody>\n",
       "    <tr>\n",
       "      <th>0</th>\n",
       "      <td>5.00</td>\n",
       "      <td>888.00</td>\n",
       "      <td>1.00</td>\n",
       "      <td>2005-10-01</td>\n",
       "      <td>series-a</td>\n",
       "      <td>5250000.00</td>\n",
       "      <td>0.00</td>\n",
       "      <td>2.00</td>\n",
       "      <td>0.00</td>\n",
       "      <td>1.00</td>\n",
       "    </tr>\n",
       "    <tr>\n",
       "      <th>1</th>\n",
       "      <td>5.00</td>\n",
       "      <td>889.00</td>\n",
       "      <td>1.00</td>\n",
       "      <td>2007-01-01</td>\n",
       "      <td>series-b</td>\n",
       "      <td>9500000.00</td>\n",
       "      <td>0.00</td>\n",
       "      <td>3.00</td>\n",
       "      <td>0.00</td>\n",
       "      <td>0.00</td>\n",
       "    </tr>\n",
       "    <tr>\n",
       "      <th>2</th>\n",
       "      <td>5.00</td>\n",
       "      <td>2312.00</td>\n",
       "      <td>1.00</td>\n",
       "      <td>2008-05-19</td>\n",
       "      <td>series-c+</td>\n",
       "      <td>25000000.00</td>\n",
       "      <td>0.00</td>\n",
       "      <td>4.00</td>\n",
       "      <td>1.00</td>\n",
       "      <td>0.00</td>\n",
       "    </tr>\n",
       "    <tr>\n",
       "      <th>15</th>\n",
       "      <td>3.00</td>\n",
       "      <td>1644.00</td>\n",
       "      <td>1001.00</td>\n",
       "      <td>2008-02-26</td>\n",
       "      <td>series-a</td>\n",
       "      <td>5000000.00</td>\n",
       "      <td>0.00</td>\n",
       "      <td>3.00</td>\n",
       "      <td>1.00</td>\n",
       "      <td>1.00</td>\n",
       "    </tr>\n",
       "    <tr>\n",
       "      <th>20</th>\n",
       "      <td>4.00</td>\n",
       "      <td>6682.00</td>\n",
       "      <td>10014.00</td>\n",
       "      <td>2008-09-01</td>\n",
       "      <td>angel</td>\n",
       "      <td>0.00</td>\n",
       "      <td>0.00</td>\n",
       "      <td>1.00</td>\n",
       "      <td>1.00</td>\n",
       "      <td>1.00</td>\n",
       "    </tr>\n",
       "  </tbody>\n",
       "</table>\n",
       "</div>"
      ],
      "text/plain": [
       "    milestones  funding_round_id  company_id  funded_at funding_round_type  \\\n",
       "0         5.00            888.00        1.00 2005-10-01           series-a   \n",
       "1         5.00            889.00        1.00 2007-01-01           series-b   \n",
       "2         5.00           2312.00        1.00 2008-05-19          series-c+   \n",
       "15        3.00           1644.00     1001.00 2008-02-26           series-a   \n",
       "20        4.00           6682.00    10014.00 2008-09-01              angel   \n",
       "\n",
       "    raised_amount  pre_money_valuation  participants  is_first_round  \\\n",
       "0      5250000.00                 0.00          2.00            0.00   \n",
       "1      9500000.00                 0.00          3.00            0.00   \n",
       "2     25000000.00                 0.00          4.00            1.00   \n",
       "15     5000000.00                 0.00          3.00            1.00   \n",
       "20           0.00                 0.00          1.00            1.00   \n",
       "\n",
       "    is_last_round  \n",
       "0            1.00  \n",
       "1            0.00  \n",
       "2            0.00  \n",
       "15           1.00  \n",
       "20           1.00  "
      ]
     },
     "execution_count": 71,
     "metadata": {},
     "output_type": "execute_result"
    }
   ],
   "source": [
    "rounds.head()"
   ]
  },
  {
   "cell_type": "code",
   "execution_count": 72,
   "metadata": {},
   "outputs": [],
   "source": [
    "# Получим нужный нам датасет\n",
    "company = company[(company['status'] == 'acquired') | (company['funding_rounds'] > 0) | (company['investment_rounds'] > 0)]\n",
    "df = pd.merge(company, acquisition, how='left', left_on='company_id', right_on='acquired_company_id')"
   ]
  },
  {
   "cell_type": "code",
   "execution_count": 73,
   "metadata": {
    "scrolled": true
   },
   "outputs": [
    {
     "data": {
      "text/plain": [
       "40747"
      ]
     },
     "execution_count": 73,
     "metadata": {},
     "output_type": "execute_result"
    }
   ],
   "source": [
    "df['company_id'].nunique()"
   ]
  },
  {
   "cell_type": "code",
   "execution_count": 74,
   "metadata": {
    "scrolled": true
   },
   "outputs": [
    {
     "name": "stdout",
     "output_type": "stream",
     "text": [
      "<class 'pandas.core.frame.DataFrame'>\n",
      "Int64Index: 40890 entries, 0 to 40889\n",
      "Data columns (total 18 columns):\n",
      " #   Column                Non-Null Count  Dtype         \n",
      "---  ------                --------------  -----         \n",
      " 0   company_id            40890 non-null  float64       \n",
      " 1   name                  40890 non-null  object        \n",
      " 2   category_code         35436 non-null  object        \n",
      " 3   status                40890 non-null  object        \n",
      " 4   founded_at            27911 non-null  datetime64[ns]\n",
      " 5   closed_at             2128 non-null   datetime64[ns]\n",
      " 6   domain                35883 non-null  object        \n",
      " 7   network_username      20938 non-null  object        \n",
      " 8   country_code          34858 non-null  object        \n",
      " 9   investment_rounds     40890 non-null  float64       \n",
      " 10  funding_rounds        40890 non-null  float64       \n",
      " 11  funding_total         40890 non-null  float64       \n",
      " 12  id                    9390 non-null   float64       \n",
      " 13  acquiring_company_id  9390 non-null   float64       \n",
      " 14  acquired_company_id   9390 non-null   float64       \n",
      " 15  term_code             1830 non-null   object        \n",
      " 16  price_amount          9390 non-null   float64       \n",
      " 17  acquired_at           9361 non-null   datetime64[ns]\n",
      "dtypes: datetime64[ns](3), float64(8), object(7)\n",
      "memory usage: 5.9+ MB\n"
     ]
    }
   ],
   "source": [
    "# Проверим информацию о датасете, который у нас получился\n",
    "df.info()"
   ]
  },
  {
   "cell_type": "markdown",
   "metadata": {},
   "source": [
    "<div class=\"alert alert-block alert-danger\">\n",
    "<h2> Комментарий ревьюера v2<a class=\"tocSkip\"></h2>\n",
    "\n",
    "<b>На доработку🤔:</b>  Александр, условия фильтрации три ИЛИ выбраны верно, но выполнять обратное обхединение не стоило. Мы как раз только что вернули данные к исходному удобному для работы виду, что позволяет нам отдельно проводить анализ по уникальным компаниям и отдельно по раундам финансирования этих компаний.\n",
    "    \n",
    "Все задачи ниже потребуется скорректировать, когда фильтрация будет применена только к `company` и работа будет вестись с ней"
   ]
  },
  {
   "cell_type": "markdown",
   "metadata": {},
   "source": [
    "<div class=\"alert alert-info\"> <b>Комментарий студента:</b> исправил объединение датасетов, убрал обратное объединение."
   ]
  },
  {
   "cell_type": "markdown",
   "metadata": {},
   "source": [
    "<div class=\"alert alert-success\">\n",
    "<h2> Комментарий ревьюера v3 <a class=\"tocSkip\"> </h2>\n",
    "\n",
    "<b>Все супер!👍:</b> Отлично"
   ]
  },
  {
   "cell_type": "markdown",
   "metadata": {
    "id": "DFHINkV3rJg2"
   },
   "source": [
    "\n",
    "### 3.2. Анализ выбросов\n",
    "\n",
    "Заказчика интересует обычный для рассматриваемого периода размер средств, который предоставлялся компаниям.\n",
    "\n",
    "- По предобработанному столбцу `funding_total` графическим способом оцените, какой размер общего финансирования для одной компании будет типичным, а какой — выбивающимся.\n",
    "- В процессе расчёта значений обратите внимание, например, на показатели, возвращаемые методом `.describe()`, — объясните их. Применимы ли к таким данным обычные способы нахождения типичных значений?"
   ]
  },
  {
   "cell_type": "code",
   "execution_count": 75,
   "metadata": {},
   "outputs": [],
   "source": [
    "# Посчитаем размер общего финансирования для каждой компании\n",
    "total_funding = df.groupby('company_id')['funding_total'].sum()"
   ]
  },
  {
   "cell_type": "code",
   "execution_count": 76,
   "metadata": {
    "id": "8jm75fKXrJg2",
    "vscode": {
     "languageId": "plaintext"
    }
   },
   "outputs": [
    {
     "data": {
      "image/png": "[encoded data removed]",
      "text/plain": [
       "<Figure size 504x216 with 1 Axes>"
      ]
     },
     "metadata": {
      "needs_background": "light"
     },
     "output_type": "display_data"
    }
   ],
   "source": [
    "# Создаём контейнер графика matplotlib и задаём его размер\n",
    "plt.figure(figsize=(7, 3))\n",
    "\n",
    "# Строим гистограмму с помощью pandas через plot(kind='hist')\n",
    "total_funding.plot(\n",
    "                kind='hist', # Тип графика - гистограмма\n",
    "                bins=5, # Устанавливаем количество корзин - всего 25\n",
    "                alpha=0.75,\n",
    "                edgecolor='black',\n",
    "                rot=0, # Градус вращения подписи по оси Х\n",
    ")\n",
    "\n",
    "# Настраиваем оформление графика\n",
    "plt.title('Распределение общего финансирования')\n",
    "plt.xlabel('Общее финансирование, шкала 10 миллиардов')\n",
    "plt.ylabel('Частота')\n",
    "# Добавляем сетку графика\n",
    "plt.grid()\n",
    "\n",
    "# Выводим график\n",
    "plt.show()"
   ]
  },
  {
   "cell_type": "code",
   "execution_count": 77,
   "metadata": {
    "id": "S1jrfr7rFhcw"
   },
   "outputs": [
    {
     "data": {
      "image/png": "[encoded data removed]",
      "text/plain": [
       "<Figure size 504x144 with 1 Axes>"
      ]
     },
     "metadata": {
      "needs_background": "light"
     },
     "output_type": "display_data"
    }
   ],
   "source": [
    "# Создаём контейнер графика matplotlib и задаём его размер\n",
    "plt.figure(figsize=(7, 2))\n",
    "\n",
    "# Строим диаграмму размаха значений в столбце seats\n",
    "plt.boxplot(total_funding, vert=False)\n",
    "\n",
    "# Добавляем заголовок и метки оси\n",
    "plt.title('Распределение общего финансирования')\n",
    "plt.xlabel('Общее финансирование, шкала 1 миллиард')\n",
    "\n",
    "# Выводим график\n",
    "plt.show()"
   ]
  },
  {
   "cell_type": "code",
   "execution_count": 78,
   "metadata": {
    "scrolled": true
   },
   "outputs": [
    {
     "data": {
      "text/plain": [
       "count        40747.00\n",
       "mean      10171156.39\n",
       "std       56609701.80\n",
       "min              0.00\n",
       "25%              0.00\n",
       "50%         600000.00\n",
       "75%        5660000.00\n",
       "max     5700000000.00\n",
       "Name: funding_total, dtype: float64"
      ]
     },
     "execution_count": 78,
     "metadata": {},
     "output_type": "execute_result"
    }
   ],
   "source": [
    "total_funding.describe()"
   ]
  },
  {
   "cell_type": "markdown",
   "metadata": {},
   "source": [
    "Распределение общего финансирования имеет высокое стандартное отклонение, большую разницу между медианой и средним, сильные выбросы, на графиках заметно, как сильно выбросы искажают общее представление о данных."
   ]
  },
  {
   "cell_type": "markdown",
   "metadata": {},
   "source": [
    "<div class=\"alert alert-warning\">\n",
    "    <h2> Комментарий ревьюера v2<a class=\"tocSkip\"> </h2>\n",
    "    \n",
    "<b>Небольшие замечания и рекомендации💡:</b>Молодец, что обратил внимание на особенности основных статистик и удачно визуализировал результаты. Можем ли мы сразу отфильтровать чать верхних выбросов?"
   ]
  },
  {
   "cell_type": "markdown",
   "metadata": {
    "id": "JqkRAQrIrJg2"
   },
   "source": [
    "\n",
    "### 3.3. Куплены забесплатно?\n",
    "\n",
    "- Исследуйте компании, которые были проданы за ноль или за один доллар, и при этом известно, что у них был ненулевой общий объём финансирования.\n",
    "\n",
    "- Рассчитайте аналитически верхнюю и нижнюю границу выбросов для столбца `funding_total` и укажите, каким процентилям границы соответствуют."
   ]
  },
  {
   "cell_type": "code",
   "execution_count": 79,
   "metadata": {
    "id": "wJHXCBwwrJg2",
    "vscode": {
     "languageId": "plaintext"
    }
   },
   "outputs": [
    {
     "data": {
      "text/html": [
       "<div>\n",
       "<style scoped>\n",
       "    .dataframe tbody tr th:only-of-type {\n",
       "        vertical-align: middle;\n",
       "    }\n",
       "\n",
       "    .dataframe tbody tr th {\n",
       "        vertical-align: top;\n",
       "    }\n",
       "\n",
       "    .dataframe thead th {\n",
       "        text-align: right;\n",
       "    }\n",
       "</style>\n",
       "<table border=\"1\" class=\"dataframe\">\n",
       "  <thead>\n",
       "    <tr style=\"text-align: right;\">\n",
       "      <th></th>\n",
       "      <th>name</th>\n",
       "      <th>price_amount</th>\n",
       "    </tr>\n",
       "    <tr>\n",
       "      <th>company_id</th>\n",
       "      <th></th>\n",
       "      <th></th>\n",
       "    </tr>\n",
       "  </thead>\n",
       "  <tbody>\n",
       "    <tr>\n",
       "      <th>9.00</th>\n",
       "      <td>Geni</td>\n",
       "      <td>0.00</td>\n",
       "    </tr>\n",
       "    <tr>\n",
       "      <th>13.00</th>\n",
       "      <td>StumbleUpon</td>\n",
       "      <td>0.00</td>\n",
       "    </tr>\n",
       "    <tr>\n",
       "      <th>14.00</th>\n",
       "      <td>Gizmoz</td>\n",
       "      <td>0.00</td>\n",
       "    </tr>\n",
       "    <tr>\n",
       "      <th>23.00</th>\n",
       "      <td>Joost</td>\n",
       "      <td>0.00</td>\n",
       "    </tr>\n",
       "    <tr>\n",
       "      <th>38.00</th>\n",
       "      <td>Kyte</td>\n",
       "      <td>0.00</td>\n",
       "    </tr>\n",
       "  </tbody>\n",
       "</table>\n",
       "</div>"
      ],
      "text/plain": [
       "                   name  price_amount\n",
       "company_id                           \n",
       "9.00               Geni          0.00\n",
       "13.00       StumbleUpon          0.00\n",
       "14.00            Gizmoz          0.00\n",
       "23.00             Joost          0.00\n",
       "38.00              Kyte          0.00"
      ]
     },
     "execution_count": 79,
     "metadata": {},
     "output_type": "execute_result"
    }
   ],
   "source": [
    "# Исследуем компании, которые были проданы за ноль или один доллар, при этом имели финансирование\n",
    "zero_sold = df[(df['funding_total'] > 0) & (df['price_amount'].isin([0, 1]))].groupby('company_id').agg({'name': 'first', 'price_amount': 'sum'})\n",
    "zero_sold.head()"
   ]
  },
  {
   "cell_type": "code",
   "execution_count": 80,
   "metadata": {
    "scrolled": true
   },
   "outputs": [
    {
     "name": "stdout",
     "output_type": "stream",
     "text": [
      "<class 'pandas.core.frame.DataFrame'>\n",
      "Float64Index: 1593 entries, 9.0 to 268806.0\n",
      "Data columns (total 2 columns):\n",
      " #   Column        Non-Null Count  Dtype  \n",
      "---  ------        --------------  -----  \n",
      " 0   name          1593 non-null   object \n",
      " 1   price_amount  1593 non-null   float64\n",
      "dtypes: float64(1), object(1)\n",
      "memory usage: 37.3+ KB\n"
     ]
    }
   ],
   "source": [
    "# Проверим основную информацию датасета с исследуемыми компаниями\n",
    "zero_sold.info()"
   ]
  },
  {
   "cell_type": "markdown",
   "metadata": {},
   "source": [
    "В наших данных существует 1593 компании, которые были проданы забесплатно. Возможно оплата в этих сделках происходила безденежными способами или это был обмен."
   ]
  },
  {
   "cell_type": "markdown",
   "metadata": {},
   "source": [
    "<div class=\"alert alert-success\">\n",
    "<h2> Комментарий ревьюера v2 <a class=\"tocSkip\"> </h2>\n",
    "\n",
    "<b>Все супер!👍:</b> Согласен, а еще это мог быть какой-то вариант слияния бизнеса"
   ]
  },
  {
   "cell_type": "code",
   "execution_count": 81,
   "metadata": {
    "scrolled": true
   },
   "outputs": [
    {
     "data": {
      "text/plain": [
       "count        40747.00\n",
       "mean      10171156.39\n",
       "std       56609701.80\n",
       "min              0.00\n",
       "25%              0.00\n",
       "50%         600000.00\n",
       "75%        5660000.00\n",
       "max     5700000000.00\n",
       "Name: funding_total, dtype: float64"
      ]
     },
     "execution_count": 81,
     "metadata": {},
     "output_type": "execute_result"
    }
   ],
   "source": [
    "total_funding.describe()"
   ]
  },
  {
   "cell_type": "code",
   "execution_count": 82,
   "metadata": {},
   "outputs": [
    {
     "data": {
      "text/plain": [
       "5660000.0"
      ]
     },
     "execution_count": 82,
     "metadata": {},
     "output_type": "execute_result"
    }
   ],
   "source": [
    "# Расчитаем IQR\n",
    "iqr = total_funding.quantile(0.75) - total_funding.quantile(0.25)\n",
    "iqr"
   ]
  },
  {
   "cell_type": "code",
   "execution_count": 83,
   "metadata": {},
   "outputs": [
    {
     "data": {
      "text/plain": [
       "(-8490000.0, 14150000.0)"
      ]
     },
     "execution_count": 83,
     "metadata": {},
     "output_type": "execute_result"
    }
   ],
   "source": [
    "# Вычисляем нижнюю границу выбросов\n",
    "down = total_funding.quantile(0.25) - 1.5 * iqr\n",
    "\n",
    "# Вычисляем верхнюю границу выбросов\n",
    "up = total_funding.quantile(0.75) + 1.5 * iqr\n",
    "\n",
    "down, up"
   ]
  },
  {
   "cell_type": "markdown",
   "metadata": {},
   "source": [
    "Нижняя граница выбросов получилась отрицательная, этого быть не может, поэтому нижней границей выбросов можем считать минимальное значение в наших данных."
   ]
  },
  {
   "cell_type": "markdown",
   "metadata": {},
   "source": [
    "<div class=\"alert alert-success\">\n",
    "<h2> Комментарий ревьюера v2 <a class=\"tocSkip\"> </h2>\n",
    "\n",
    "<b>Все супер!👍:</b> Верно, отрицательных значений при анализе финансовых метрик мы получить не можем"
   ]
  },
  {
   "cell_type": "code",
   "execution_count": 84,
   "metadata": {
    "scrolled": true
   },
   "outputs": [
    {
     "data": {
      "text/plain": [
       "0.0"
      ]
     },
     "execution_count": 84,
     "metadata": {},
     "output_type": "execute_result"
    }
   ],
   "source": [
    "# Вычисляем нижнюю границу выбросов\n",
    "down = min(total_funding)\n",
    "down"
   ]
  },
  {
   "cell_type": "markdown",
   "metadata": {},
   "source": [
    "<div class=\"alert alert-warning\">\n",
    "    <h2> Комментарий ревьюера v2 <a class=\"tocSkip\"> </h2>\n",
    "    \n",
    "<b>Небольшие замечания и рекомендации💡:</b> Это не ошибка, но в соответствии с (PEP-8)[https://pyplanet.ru/article/pep-0008.html] рекомендуется все ячейки с импортами помещать в первую ячейку. Это упрощает отладку и контроль зависимостей"
   ]
  },
  {
   "cell_type": "code",
   "execution_count": 85,
   "metadata": {},
   "outputs": [
    {
     "data": {
      "text/plain": [
       "(85.62348148329939, 15.797482023216434)"
      ]
     },
     "execution_count": 85,
     "metadata": {},
     "output_type": "execute_result"
    }
   ],
   "source": [
    "# Вычисляем каким процентилям соответствуют границы выбросов\n",
    "from scipy.stats import percentileofscore\n",
    "\n",
    "# Процентиль верхней границы выбросов\n",
    "upper_percentile = percentileofscore(total_funding, up)\n",
    "\n",
    "# Процентиль нижней границы выбросов\n",
    "lower_percentile = percentileofscore(total_funding, down)\n",
    "\n",
    "upper_percentile, lower_percentile"
   ]
  },
  {
   "cell_type": "markdown",
   "metadata": {},
   "source": [
    "Подсчитали процентили, которым соответствуют границы выбросов."
   ]
  },
  {
   "cell_type": "markdown",
   "metadata": {},
   "source": [
    "<div class=\"alert alert-warning\">\n",
    "    <h2> Комментарий ревьюера v2<a class=\"tocSkip\"> </h2>\n",
    "    \n",
    "<b>Небольшие замечания и рекомендации💡:</b> Подход к решению верный, давай порассуждаем корректно ли отбросить порядка 30% сделок? \n",
    "        \n"
   ]
  },
  {
   "cell_type": "markdown",
   "metadata": {
    "id": "mEiWpROjrJg2"
   },
   "source": [
    "\n",
    "### 3.4. Цены стартапов по категориям\n",
    "\n",
    "Категории стартапов с типично высокими ценами покупки стартапов и значительным разбросом цен могут быть привлекательными для крупных инвесторов, которые готовы к высоким рискам ради потенциально больших доходов. Среди категорий стартапов выделите категории стартапов, характеризующиеся:\n",
    "\n",
    "- типично высокими ценами;\n",
    "- и наибольшим разбросом цен за стартап.\n",
    "\n",
    "Объясните, почему решили составить топ именно из такого числа категорий и почему рассчитывали именно так."
   ]
  },
  {
   "cell_type": "code",
   "execution_count": 86,
   "metadata": {},
   "outputs": [
    {
     "name": "stdout",
     "output_type": "stream",
     "text": [
      "<class 'pandas.core.frame.DataFrame'>\n",
      "Int64Index: 40890 entries, 0 to 40889\n",
      "Data columns (total 18 columns):\n",
      " #   Column                Non-Null Count  Dtype         \n",
      "---  ------                --------------  -----         \n",
      " 0   company_id            40890 non-null  float64       \n",
      " 1   name                  40890 non-null  object        \n",
      " 2   category_code         35436 non-null  object        \n",
      " 3   status                40890 non-null  object        \n",
      " 4   founded_at            27911 non-null  datetime64[ns]\n",
      " 5   closed_at             2128 non-null   datetime64[ns]\n",
      " 6   domain                35883 non-null  object        \n",
      " 7   network_username      20938 non-null  object        \n",
      " 8   country_code          34858 non-null  object        \n",
      " 9   investment_rounds     40890 non-null  float64       \n",
      " 10  funding_rounds        40890 non-null  float64       \n",
      " 11  funding_total         40890 non-null  float64       \n",
      " 12  id                    9390 non-null   float64       \n",
      " 13  acquiring_company_id  9390 non-null   float64       \n",
      " 14  acquired_company_id   9390 non-null   float64       \n",
      " 15  term_code             1830 non-null   object        \n",
      " 16  price_amount          9390 non-null   float64       \n",
      " 17  acquired_at           9361 non-null   datetime64[ns]\n",
      "dtypes: datetime64[ns](3), float64(8), object(7)\n",
      "memory usage: 5.9+ MB\n"
     ]
    }
   ],
   "source": [
    "df.info()"
   ]
  },
  {
   "cell_type": "markdown",
   "metadata": {},
   "source": [
    "<div class=\"alert alert-block alert-danger\">\n",
    "<h2> Комментарий ревьюера v2<a class=\"tocSkip\"></h2>\n",
    "\n",
    "<b>На доработку🤔:</b>Когда уберешь обратное объединение это действие перестанет быть актуальным"
   ]
  },
  {
   "cell_type": "markdown",
   "metadata": {},
   "source": [
    "<div class=\"alert alert-info\"> <b>Комментарий студента:</b> убрал действие по сохранению уникальных компаний для анализа категорий"
   ]
  },
  {
   "cell_type": "markdown",
   "metadata": {},
   "source": [
    "<div class=\"alert alert-success\">\n",
    "<h2> Комментарий ревьюера v3 <a class=\"tocSkip\"> </h2>\n",
    "\n",
    "<b>Все супер!👍:</b> Все верно, \"дропнув\" дубликаты ты уже оставил только уникальные компании"
   ]
  },
  {
   "cell_type": "code",
   "execution_count": 87,
   "metadata": {
    "id": "jQ09dYUWrJg2",
    "vscode": {
     "languageId": "plaintext"
    }
   },
   "outputs": [
    {
     "data": {
      "text/html": [
       "<div>\n",
       "<style scoped>\n",
       "    .dataframe tbody tr th:only-of-type {\n",
       "        vertical-align: middle;\n",
       "    }\n",
       "\n",
       "    .dataframe tbody tr th {\n",
       "        vertical-align: top;\n",
       "    }\n",
       "\n",
       "    .dataframe thead th {\n",
       "        text-align: right;\n",
       "    }\n",
       "</style>\n",
       "<table border=\"1\" class=\"dataframe\">\n",
       "  <thead>\n",
       "    <tr style=\"text-align: right;\">\n",
       "      <th></th>\n",
       "      <th>price_amount_median</th>\n",
       "      <th>price_amount_std</th>\n",
       "    </tr>\n",
       "    <tr>\n",
       "      <th>category_code</th>\n",
       "      <th></th>\n",
       "      <th></th>\n",
       "    </tr>\n",
       "  </thead>\n",
       "  <tbody>\n",
       "    <tr>\n",
       "      <th>advertising</th>\n",
       "      <td>0.00</td>\n",
       "      <td>279922643.51</td>\n",
       "    </tr>\n",
       "    <tr>\n",
       "      <th>analytics</th>\n",
       "      <td>0.00</td>\n",
       "      <td>52671642.49</td>\n",
       "    </tr>\n",
       "    <tr>\n",
       "      <th>automotive</th>\n",
       "      <td>43000000.00</td>\n",
       "      <td>2297757559.01</td>\n",
       "    </tr>\n",
       "    <tr>\n",
       "      <th>biotech</th>\n",
       "      <td>13200000.00</td>\n",
       "      <td>1540373521.41</td>\n",
       "    </tr>\n",
       "    <tr>\n",
       "      <th>cleantech</th>\n",
       "      <td>0.00</td>\n",
       "      <td>552287325.04</td>\n",
       "    </tr>\n",
       "    <tr>\n",
       "      <th>consulting</th>\n",
       "      <td>0.00</td>\n",
       "      <td>505481358.76</td>\n",
       "    </tr>\n",
       "    <tr>\n",
       "      <th>design</th>\n",
       "      <td>0.00</td>\n",
       "      <td>0.00</td>\n",
       "    </tr>\n",
       "    <tr>\n",
       "      <th>ecommerce</th>\n",
       "      <td>0.00</td>\n",
       "      <td>151236352.36</td>\n",
       "    </tr>\n",
       "    <tr>\n",
       "      <th>education</th>\n",
       "      <td>0.00</td>\n",
       "      <td>125364201.89</td>\n",
       "    </tr>\n",
       "    <tr>\n",
       "      <th>enterprise</th>\n",
       "      <td>0.00</td>\n",
       "      <td>128088235060.17</td>\n",
       "    </tr>\n",
       "    <tr>\n",
       "      <th>fashion</th>\n",
       "      <td>0.00</td>\n",
       "      <td>95742908.59</td>\n",
       "    </tr>\n",
       "    <tr>\n",
       "      <th>finance</th>\n",
       "      <td>600000.00</td>\n",
       "      <td>796098475.78</td>\n",
       "    </tr>\n",
       "    <tr>\n",
       "      <th>games_video</th>\n",
       "      <td>0.00</td>\n",
       "      <td>762374628.42</td>\n",
       "    </tr>\n",
       "    <tr>\n",
       "      <th>government</th>\n",
       "      <td>NaN</td>\n",
       "      <td>NaN</td>\n",
       "    </tr>\n",
       "    <tr>\n",
       "      <th>hardware</th>\n",
       "      <td>0.00</td>\n",
       "      <td>423975773.82</td>\n",
       "    </tr>\n",
       "    <tr>\n",
       "      <th>health</th>\n",
       "      <td>0.00</td>\n",
       "      <td>1249084287.10</td>\n",
       "    </tr>\n",
       "    <tr>\n",
       "      <th>hospitality</th>\n",
       "      <td>12500000.00</td>\n",
       "      <td>651449440.58</td>\n",
       "    </tr>\n",
       "    <tr>\n",
       "      <th>legal</th>\n",
       "      <td>0.00</td>\n",
       "      <td>0.00</td>\n",
       "    </tr>\n",
       "    <tr>\n",
       "      <th>local</th>\n",
       "      <td>0.00</td>\n",
       "      <td>9318548.81</td>\n",
       "    </tr>\n",
       "    <tr>\n",
       "      <th>manufacturing</th>\n",
       "      <td>72000000.00</td>\n",
       "      <td>969657968.02</td>\n",
       "    </tr>\n",
       "    <tr>\n",
       "      <th>medical</th>\n",
       "      <td>0.00</td>\n",
       "      <td>105950927.12</td>\n",
       "    </tr>\n",
       "    <tr>\n",
       "      <th>messaging</th>\n",
       "      <td>0.00</td>\n",
       "      <td>42412773.23</td>\n",
       "    </tr>\n",
       "    <tr>\n",
       "      <th>mobile</th>\n",
       "      <td>0.00</td>\n",
       "      <td>713773789.93</td>\n",
       "    </tr>\n",
       "    <tr>\n",
       "      <th>music</th>\n",
       "      <td>0.00</td>\n",
       "      <td>72198580.46</td>\n",
       "    </tr>\n",
       "    <tr>\n",
       "      <th>nanotech</th>\n",
       "      <td>584000000.00</td>\n",
       "      <td>NaN</td>\n",
       "    </tr>\n",
       "    <tr>\n",
       "      <th>network_hosting</th>\n",
       "      <td>0.00</td>\n",
       "      <td>418467688.01</td>\n",
       "    </tr>\n",
       "    <tr>\n",
       "      <th>news</th>\n",
       "      <td>0.00</td>\n",
       "      <td>70965628.09</td>\n",
       "    </tr>\n",
       "    <tr>\n",
       "      <th>nonprofit</th>\n",
       "      <td>0.00</td>\n",
       "      <td>NaN</td>\n",
       "    </tr>\n",
       "    <tr>\n",
       "      <th>other</th>\n",
       "      <td>0.00</td>\n",
       "      <td>1085128941.40</td>\n",
       "    </tr>\n",
       "    <tr>\n",
       "      <th>pets</th>\n",
       "      <td>NaN</td>\n",
       "      <td>NaN</td>\n",
       "    </tr>\n",
       "    <tr>\n",
       "      <th>photo_video</th>\n",
       "      <td>0.00</td>\n",
       "      <td>287732057.47</td>\n",
       "    </tr>\n",
       "    <tr>\n",
       "      <th>public_relations</th>\n",
       "      <td>0.00</td>\n",
       "      <td>4059244205.05</td>\n",
       "    </tr>\n",
       "    <tr>\n",
       "      <th>real_estate</th>\n",
       "      <td>50000000.00</td>\n",
       "      <td>2505122913.06</td>\n",
       "    </tr>\n",
       "    <tr>\n",
       "      <th>search</th>\n",
       "      <td>0.00</td>\n",
       "      <td>194157764.05</td>\n",
       "    </tr>\n",
       "    <tr>\n",
       "      <th>security</th>\n",
       "      <td>0.00</td>\n",
       "      <td>764566231.86</td>\n",
       "    </tr>\n",
       "    <tr>\n",
       "      <th>semiconductor</th>\n",
       "      <td>0.00</td>\n",
       "      <td>790488902.82</td>\n",
       "    </tr>\n",
       "    <tr>\n",
       "      <th>social</th>\n",
       "      <td>0.00</td>\n",
       "      <td>31859746.73</td>\n",
       "    </tr>\n",
       "    <tr>\n",
       "      <th>software</th>\n",
       "      <td>0.00</td>\n",
       "      <td>656830001.40</td>\n",
       "    </tr>\n",
       "    <tr>\n",
       "      <th>sports</th>\n",
       "      <td>0.00</td>\n",
       "      <td>426561836.08</td>\n",
       "    </tr>\n",
       "    <tr>\n",
       "      <th>transportation</th>\n",
       "      <td>0.00</td>\n",
       "      <td>408848557.36</td>\n",
       "    </tr>\n",
       "    <tr>\n",
       "      <th>travel</th>\n",
       "      <td>0.00</td>\n",
       "      <td>50446297.66</td>\n",
       "    </tr>\n",
       "    <tr>\n",
       "      <th>web</th>\n",
       "      <td>0.00</td>\n",
       "      <td>376171809.49</td>\n",
       "    </tr>\n",
       "  </tbody>\n",
       "</table>\n",
       "</div>"
      ],
      "text/plain": [
       "                  price_amount_median  price_amount_std\n",
       "category_code                                          \n",
       "advertising                      0.00      279922643.51\n",
       "analytics                        0.00       52671642.49\n",
       "automotive                43000000.00     2297757559.01\n",
       "biotech                   13200000.00     1540373521.41\n",
       "cleantech                        0.00      552287325.04\n",
       "consulting                       0.00      505481358.76\n",
       "design                           0.00              0.00\n",
       "ecommerce                        0.00      151236352.36\n",
       "education                        0.00      125364201.89\n",
       "enterprise                       0.00   128088235060.17\n",
       "fashion                          0.00       95742908.59\n",
       "finance                     600000.00      796098475.78\n",
       "games_video                      0.00      762374628.42\n",
       "government                        NaN               NaN\n",
       "hardware                         0.00      423975773.82\n",
       "health                           0.00     1249084287.10\n",
       "hospitality               12500000.00      651449440.58\n",
       "legal                            0.00              0.00\n",
       "local                            0.00        9318548.81\n",
       "manufacturing             72000000.00      969657968.02\n",
       "medical                          0.00      105950927.12\n",
       "messaging                        0.00       42412773.23\n",
       "mobile                           0.00      713773789.93\n",
       "music                            0.00       72198580.46\n",
       "nanotech                 584000000.00               NaN\n",
       "network_hosting                  0.00      418467688.01\n",
       "news                             0.00       70965628.09\n",
       "nonprofit                        0.00               NaN\n",
       "other                            0.00     1085128941.40\n",
       "pets                              NaN               NaN\n",
       "photo_video                      0.00      287732057.47\n",
       "public_relations                 0.00     4059244205.05\n",
       "real_estate               50000000.00     2505122913.06\n",
       "search                           0.00      194157764.05\n",
       "security                         0.00      764566231.86\n",
       "semiconductor                    0.00      790488902.82\n",
       "social                           0.00       31859746.73\n",
       "software                         0.00      656830001.40\n",
       "sports                           0.00      426561836.08\n",
       "transportation                   0.00      408848557.36\n",
       "travel                           0.00       50446297.66\n",
       "web                              0.00      376171809.49"
      ]
     },
     "execution_count": 87,
     "metadata": {},
     "output_type": "execute_result"
    }
   ],
   "source": [
    "# Распределим на категории и посчитаем нужную информацию\n",
    "categories = df.groupby('category_code').agg(\n",
    "    price_amount_median=('price_amount', 'median'),\n",
    "    price_amount_std=('price_amount', 'std')\n",
    ")\n",
    "\n",
    "categories"
   ]
  },
  {
   "cell_type": "code",
   "execution_count": 88,
   "metadata": {
    "scrolled": false
   },
   "outputs": [
    {
     "data": {
      "text/html": [
       "<div>\n",
       "<style scoped>\n",
       "    .dataframe tbody tr th:only-of-type {\n",
       "        vertical-align: middle;\n",
       "    }\n",
       "\n",
       "    .dataframe tbody tr th {\n",
       "        vertical-align: top;\n",
       "    }\n",
       "\n",
       "    .dataframe thead th {\n",
       "        text-align: right;\n",
       "    }\n",
       "</style>\n",
       "<table border=\"1\" class=\"dataframe\">\n",
       "  <thead>\n",
       "    <tr style=\"text-align: right;\">\n",
       "      <th></th>\n",
       "      <th>price_amount_median</th>\n",
       "      <th>price_amount_std</th>\n",
       "    </tr>\n",
       "    <tr>\n",
       "      <th>category_code</th>\n",
       "      <th></th>\n",
       "      <th></th>\n",
       "    </tr>\n",
       "  </thead>\n",
       "  <tbody>\n",
       "    <tr>\n",
       "      <th>nanotech</th>\n",
       "      <td>584000000.00</td>\n",
       "      <td>NaN</td>\n",
       "    </tr>\n",
       "    <tr>\n",
       "      <th>manufacturing</th>\n",
       "      <td>72000000.00</td>\n",
       "      <td>969657968.02</td>\n",
       "    </tr>\n",
       "    <tr>\n",
       "      <th>real_estate</th>\n",
       "      <td>50000000.00</td>\n",
       "      <td>2505122913.06</td>\n",
       "    </tr>\n",
       "    <tr>\n",
       "      <th>automotive</th>\n",
       "      <td>43000000.00</td>\n",
       "      <td>2297757559.01</td>\n",
       "    </tr>\n",
       "    <tr>\n",
       "      <th>biotech</th>\n",
       "      <td>13200000.00</td>\n",
       "      <td>1540373521.41</td>\n",
       "    </tr>\n",
       "    <tr>\n",
       "      <th>hospitality</th>\n",
       "      <td>12500000.00</td>\n",
       "      <td>651449440.58</td>\n",
       "    </tr>\n",
       "    <tr>\n",
       "      <th>finance</th>\n",
       "      <td>600000.00</td>\n",
       "      <td>796098475.78</td>\n",
       "    </tr>\n",
       "    <tr>\n",
       "      <th>news</th>\n",
       "      <td>0.00</td>\n",
       "      <td>70965628.09</td>\n",
       "    </tr>\n",
       "    <tr>\n",
       "      <th>nonprofit</th>\n",
       "      <td>0.00</td>\n",
       "      <td>NaN</td>\n",
       "    </tr>\n",
       "    <tr>\n",
       "      <th>other</th>\n",
       "      <td>0.00</td>\n",
       "      <td>1085128941.40</td>\n",
       "    </tr>\n",
       "  </tbody>\n",
       "</table>\n",
       "</div>"
      ],
      "text/plain": [
       "               price_amount_median  price_amount_std\n",
       "category_code                                       \n",
       "nanotech              584000000.00               NaN\n",
       "manufacturing          72000000.00      969657968.02\n",
       "real_estate            50000000.00     2505122913.06\n",
       "automotive             43000000.00     2297757559.01\n",
       "biotech                13200000.00     1540373521.41\n",
       "hospitality            12500000.00      651449440.58\n",
       "finance                  600000.00      796098475.78\n",
       "news                          0.00       70965628.09\n",
       "nonprofit                     0.00               NaN\n",
       "other                         0.00     1085128941.40"
      ]
     },
     "execution_count": 88,
     "metadata": {},
     "output_type": "execute_result"
    }
   ],
   "source": [
    "# Выделяем топ-10 по средней цене покупки\n",
    "categories.sort_values(by='price_amount_median', ascending=False).head(10)"
   ]
  },
  {
   "cell_type": "code",
   "execution_count": 89,
   "metadata": {
    "id": "eF1aULm5FjfY",
    "scrolled": false
   },
   "outputs": [
    {
     "data": {
      "text/html": [
       "<div>\n",
       "<style scoped>\n",
       "    .dataframe tbody tr th:only-of-type {\n",
       "        vertical-align: middle;\n",
       "    }\n",
       "\n",
       "    .dataframe tbody tr th {\n",
       "        vertical-align: top;\n",
       "    }\n",
       "\n",
       "    .dataframe thead th {\n",
       "        text-align: right;\n",
       "    }\n",
       "</style>\n",
       "<table border=\"1\" class=\"dataframe\">\n",
       "  <thead>\n",
       "    <tr style=\"text-align: right;\">\n",
       "      <th></th>\n",
       "      <th>price_amount_median</th>\n",
       "      <th>price_amount_std</th>\n",
       "    </tr>\n",
       "    <tr>\n",
       "      <th>category_code</th>\n",
       "      <th></th>\n",
       "      <th></th>\n",
       "    </tr>\n",
       "  </thead>\n",
       "  <tbody>\n",
       "    <tr>\n",
       "      <th>enterprise</th>\n",
       "      <td>0.00</td>\n",
       "      <td>128088235060.17</td>\n",
       "    </tr>\n",
       "    <tr>\n",
       "      <th>public_relations</th>\n",
       "      <td>0.00</td>\n",
       "      <td>4059244205.05</td>\n",
       "    </tr>\n",
       "    <tr>\n",
       "      <th>real_estate</th>\n",
       "      <td>50000000.00</td>\n",
       "      <td>2505122913.06</td>\n",
       "    </tr>\n",
       "    <tr>\n",
       "      <th>automotive</th>\n",
       "      <td>43000000.00</td>\n",
       "      <td>2297757559.01</td>\n",
       "    </tr>\n",
       "    <tr>\n",
       "      <th>biotech</th>\n",
       "      <td>13200000.00</td>\n",
       "      <td>1540373521.41</td>\n",
       "    </tr>\n",
       "    <tr>\n",
       "      <th>health</th>\n",
       "      <td>0.00</td>\n",
       "      <td>1249084287.10</td>\n",
       "    </tr>\n",
       "    <tr>\n",
       "      <th>other</th>\n",
       "      <td>0.00</td>\n",
       "      <td>1085128941.40</td>\n",
       "    </tr>\n",
       "    <tr>\n",
       "      <th>manufacturing</th>\n",
       "      <td>72000000.00</td>\n",
       "      <td>969657968.02</td>\n",
       "    </tr>\n",
       "    <tr>\n",
       "      <th>finance</th>\n",
       "      <td>600000.00</td>\n",
       "      <td>796098475.78</td>\n",
       "    </tr>\n",
       "    <tr>\n",
       "      <th>semiconductor</th>\n",
       "      <td>0.00</td>\n",
       "      <td>790488902.82</td>\n",
       "    </tr>\n",
       "  </tbody>\n",
       "</table>\n",
       "</div>"
      ],
      "text/plain": [
       "                  price_amount_median  price_amount_std\n",
       "category_code                                          \n",
       "enterprise                       0.00   128088235060.17\n",
       "public_relations                 0.00     4059244205.05\n",
       "real_estate               50000000.00     2505122913.06\n",
       "automotive                43000000.00     2297757559.01\n",
       "biotech                   13200000.00     1540373521.41\n",
       "health                           0.00     1249084287.10\n",
       "other                            0.00     1085128941.40\n",
       "manufacturing             72000000.00      969657968.02\n",
       "finance                     600000.00      796098475.78\n",
       "semiconductor                    0.00      790488902.82"
      ]
     },
     "execution_count": 89,
     "metadata": {},
     "output_type": "execute_result"
    }
   ],
   "source": [
    "# Выделяем топ-10 по стандартному отклонению\n",
    "categories.sort_values(by='price_amount_std', ascending=False).head(10)"
   ]
  },
  {
   "cell_type": "markdown",
   "metadata": {},
   "source": [
    "Составили топ-10 по средней цене покупки и по стандартному отклонению, выбор топ-10 обусловлен популярностью рейтингов с таким числом значений.\n",
    "В обоих среди лучших 5 мест есть категории `real_estate`, `automotive`, `biotech`, именно они являются самыми привлекательными категориями для крупных инвесторов, которые готовы к высоким рискам ради потенциально больших доходов."
   ]
  },
  {
   "cell_type": "markdown",
   "metadata": {},
   "source": [
    "<div class=\"alert alert-success\">\n",
    "<h2> Комментарий ревьюера v2 <a class=\"tocSkip\"> </h2>\n",
    "\n",
    "<b>Все супер!👍:</b> Александр, код для решения написан оптимально, а выводы получились очень точными"
   ]
  },
  {
   "cell_type": "markdown",
   "metadata": {},
   "source": [
    "<div class=\"alert alert-block alert-danger\">\n",
    "<h2> Комментарий ревьюера v2<a class=\"tocSkip\"></h2>\n",
    "\n",
    "<b>На доработку🤔:</b> Но корректно ли при наличии выбросов в данных и их различии на несколько разрядов использовать среднее?"
   ]
  },
  {
   "cell_type": "markdown",
   "metadata": {},
   "source": [
    "<div class=\"alert alert-info\"> <b>Комментарий студента:</b> Исправил среднее на медиану, актуализировал выводы."
   ]
  },
  {
   "cell_type": "markdown",
   "metadata": {
    "id": "ADOfyVY_rJg3"
   },
   "source": [
    "\n",
    "### 3.5. Сколько раундов продержится стартап перед покупкой\n",
    "\n",
    "- Необходимо проанализировать столбец `funding_rounds`. Исследуйте значения столбца. Заказчика интересует типичное значение количества раундов для каждого возможного статуса стартапа.\n",
    "- Постройте график, который отображает, сколько в среднем раундов финансирования проходило для стартапов из каждой группы. Сделайте выводы."
   ]
  },
  {
   "cell_type": "code",
   "execution_count": 90,
   "metadata": {
    "id": "hgXMPC4WrJg3",
    "vscode": {
     "languageId": "plaintext"
    }
   },
   "outputs": [
    {
     "data": {
      "text/plain": [
       "status\n",
       "ipo         1.93\n",
       "operating   1.52\n",
       "closed      1.38\n",
       "acquired    0.53\n",
       "Name: funding_rounds, dtype: float64"
      ]
     },
     "execution_count": 90,
     "metadata": {},
     "output_type": "execute_result"
    }
   ],
   "source": [
    "# Группируем по статусу и находим среднее количество раундов финансирования\n",
    "nrounds = df.groupby('status')['funding_rounds'].mean().sort_values(ascending=False)\n",
    "nrounds.head()"
   ]
  },
  {
   "cell_type": "code",
   "execution_count": 91,
   "metadata": {
    "id": "pV3e7kw5Fj1Y"
   },
   "outputs": [
    {
     "data": {
      "image/png": "[encoded data removed]",
      "text/plain": [
       "<Figure size 504x216 with 1 Axes>"
      ]
     },
     "metadata": {
      "needs_background": "light"
     },
     "output_type": "display_data"
    }
   ],
   "source": [
    "# Создаём контейнер графика matplotlib и задаём его размер\n",
    "plt.figure(figsize=(7, 3))\n",
    "\n",
    "# Строим столбчатую диаграмму с помощью pandas через plot(kind='bar')\n",
    "nrounds.plot(\n",
    "               kind='bar', # Тип графика - столбчатая диаграмма\n",
    "               rot=45, # Градус вращения подписи по оси Х\n",
    "               legend=False, # Выключаем легенду\n",
    ")\n",
    "\n",
    "# Настраиваем оформление графика\n",
    "plt.title('Распределение среднего количества раудов финансирования')\n",
    "plt.xlabel('Статус')\n",
    "plt.ylabel('Среднее число раудов финансирования')\n",
    "# Добавляем сетку графика\n",
    "plt.grid()\n",
    "\n",
    "# Выводим график\n",
    "plt.show()"
   ]
  },
  {
   "cell_type": "markdown",
   "metadata": {},
   "source": [
    "Стартапы со статусом `ipo` в среднем имеют больше всего раудов финансирования, стартапы со стастусом `closed` в среднем имеют меньше всего раундов финансирования. Также стоит заметить, что разница в значениях между статусами достаточна стабильна, последнее место от своего предшественника отличается примерно также, как второе место отличается от третьего."
   ]
  },
  {
   "cell_type": "markdown",
   "metadata": {},
   "source": [
    "<div class=\"alert alert-success\">\n",
    "<h2> Комментарий ревьюера v2 <a class=\"tocSkip\"> </h2>\n",
    "\n",
    "<b>Все супер!👍:</b>В этой задаче ход решения абсолютно верный, молодец!"
   ]
  },
  {
   "cell_type": "markdown",
   "metadata": {
    "id": "VAFEZ2HBrJg3"
   },
   "source": [
    "\n",
    "## Шаг 4. Итоговый вывод и рекомендации\n",
    "\n",
    "Опишите, что было сделано в проекте, какие были сделаны выводы, подкрепляют ли они друг друга или заставляют сомневаться в полученных результатах."
   ]
  },
  {
   "cell_type": "markdown",
   "metadata": {},
   "source": [
    "В ходе исследования пронанализировали более 200 000 строк данных более чем о 40 000 компаниях. Данные нельзя назвать идеальными - во многих столбцах есть существенное количество пропусков. Данные включали основную информацию о компаниях, сотрудниках и раудах финансирования, информацию о сделках между компаниями. Акцент исследования был на том, чтобы выявить показатели успешной сделки по покупке компании.\n",
    "\n",
    "Исследовательский анализ данных позволил сформировать некоторое представление о рынке стартапов:\n",
    "- Иногда компании продаются безденежными способами.\n",
    "- Размер общего финансирования в компаниях имеет сильные выбросы.\n",
    "- `real_estate`, `automotive`, `biotech` являются самыми привлекательными категориями для крупных инвесторов.\n",
    "- Стартапы со статусом `ipo` в среднем имеют больше всего раудов финансирования, стартапы со стастусом `closed` в среднем имеют меньше всего раундов финансирования.\n",
    "\n",
    "По результам исследовательского анализа рекоммендуется обратить внимание на стартапы категорий `real_estate`, `automotive`, `biotech` со статусом `ipo`. Стартапы такого вида имеют потенциал считаться перспективными для покупки, развития и последующей перепродажи."
   ]
  },
  {
   "cell_type": "markdown",
   "metadata": {},
   "source": [
    "<div class=\"alert alert-block alert-danger\">\n",
    "<h2> Комментарий ревьюера v2<a class=\"tocSkip\"></h2>\n",
    "\n",
    "<b>На доработку🤔:</b>  итоговый вывод получился хорошо. Он структурирован и содержит  наиболее значиные результаты по каждому пункту работы, есть и полезные рекомендации для бизнеса. \n",
    "    \n",
    "Но на самом деле ты провел анализ по большему количеству компаний (не забывай про первую часть проекта). Ты добился многих важных для заказчика результатов и не стоит об этом умалчивать.\n",
    "    \n",
    "Итоговые выводы - важная часть работы и в твоих будующих реальных проектах советую уделять ей особое внимание. Бывают ситуации, когда у руководства нет времени вникать в весь проект и оценка твоих действий будет проводиться именно по ним.    \n",
    "        \n",
    "Пожалуйста, не забудь актуализировать их после корректировки неточностей выше    "
   ]
  },
  {
   "cell_type": "markdown",
   "metadata": {},
   "source": [
    "<div class=\"alert alert-info\"> <b>Комментарий студента:</b> Скорректировал итоговый вывод после доработок."
   ]
  },
  {
   "cell_type": "markdown",
   "metadata": {},
   "source": [
    "<div class=\"alert alert-warning\">\n",
    "    <h2> Комментарий ревьюера v3 <a class=\"tocSkip\"> </h2>\n",
    "    \n",
    "<b>Небольшие замечания и рекомендации💡:</b> Александр, возможно стоило бы добавить еще результаты по задаче 2.1 и 2.2, но не буду на этом настаивать "
   ]
  },
  {
   "cell_type": "markdown",
   "metadata": {},
   "source": [
    "<div class=\"alert alert-success\">\n",
    "<h2> Комментарий ревьюера v3 <a class=\"tocSkip\"> </h2>\n",
    "\n",
    "<b>Все супер!👍:</b> Проект был не простой, но ты уверенно справился! Спасибо за качественную отработку моих комментариев и хорошую обратную связь) У тебя отлично развиты аналитические способности и владение инструментарием.\n",
    "    \n",
    "Желаю успешного и интересного продолжения учебы!"
   ]
  },
  {
   "cell_type": "markdown",
   "metadata": {},
   "source": [
    "<div style=\"border:solid Chocolate 2px; padding: 40px\">\n",
    "    \n",
    "**Общий вывод по проекту ревьювера**:\n",
    "     Проект был не простой, но ты уверенно справился! Приложено много усилий, чтобы довести его до конца, проделана огромная работа, и это видно невооруженным глазом, ты большой молодец! \n",
    "       \n",
    "Спасибо за качественную и оперативную отработку моих комментариев и хорошую обратную связь) У тебя отлично развиты аналитические способности и владение инструментарием.  \n",
    "    \n",
    "**Отмечу положительные моменты**:\n",
    "    \n",
    "    1. Все разложено по полочкам, всегда понятен ход твоих мыслей, приятно смотреть.\n",
    "    \n",
    "    2. Понятные и логичные выводы на всех этапах работы.\n",
    "    \n",
    "    3. Удачное оформление проекта в целом.  \n",
    "    \n",
    "    4. Хорошие визуализации\n",
    "    \n",
    "    \n",
    "    \n",
    "**Желаю успешного и интересного продолжения учебы!**\n",
    "    \n",
    "    "
   ]
  },
  {
   "cell_type": "code",
   "execution_count": null,
   "metadata": {},
   "outputs": [],
   "source": []
  }
 ],
 "metadata": {
  "ExecuteTimeLog": [
   {
    "duration": 53,
    "start_time": "2025-03-19T14:18:01.524Z"
   },
   {
    "duration": 1362,
    "start_time": "2025-03-19T14:18:43.500Z"
   },
   {
    "duration": 74,
    "start_time": "2025-03-19T14:18:49.173Z"
   },
   {
    "duration": 61,
    "start_time": "2025-03-19T14:18:56.866Z"
   },
   {
    "duration": 66,
    "start_time": "2025-03-19T14:19:08.882Z"
   },
   {
    "duration": 12,
    "start_time": "2025-03-19T14:19:30.221Z"
   },
   {
    "duration": 13,
    "start_time": "2025-03-19T14:21:34.175Z"
   },
   {
    "duration": 1320,
    "start_time": "2025-03-19T14:23:05.700Z"
   },
   {
    "duration": 27,
    "start_time": "2025-03-19T14:23:38.228Z"
   },
   {
    "duration": 97,
    "start_time": "2025-03-19T14:24:17.038Z"
   },
   {
    "duration": 104,
    "start_time": "2025-03-19T14:25:47.989Z"
   },
   {
    "duration": 532,
    "start_time": "2025-03-19T14:25:52.141Z"
   },
   {
    "duration": 12,
    "start_time": "2025-03-19T14:26:52.863Z"
   },
   {
    "duration": 39,
    "start_time": "2025-03-19T14:27:30.711Z"
   },
   {
    "duration": 315,
    "start_time": "2025-03-19T15:18:46.256Z"
   },
   {
    "duration": 7,
    "start_time": "2025-03-19T15:19:11.430Z"
   },
   {
    "duration": 20,
    "start_time": "2025-03-19T15:20:00.226Z"
   },
   {
    "duration": 559,
    "start_time": "2025-03-19T15:21:31.599Z"
   },
   {
    "duration": 7,
    "start_time": "2025-03-19T15:23:12.935Z"
   },
   {
    "duration": 25,
    "start_time": "2025-03-19T15:24:00.622Z"
   },
   {
    "duration": 8,
    "start_time": "2025-03-19T15:29:44.039Z"
   },
   {
    "duration": 8,
    "start_time": "2025-03-19T15:37:36.976Z"
   },
   {
    "duration": 7,
    "start_time": "2025-03-19T15:42:17.745Z"
   },
   {
    "duration": 8,
    "start_time": "2025-03-19T15:42:24.232Z"
   },
   {
    "duration": 12,
    "start_time": "2025-03-19T15:43:00.937Z"
   },
   {
    "duration": 11,
    "start_time": "2025-03-19T15:43:05.157Z"
   },
   {
    "duration": 104,
    "start_time": "2025-03-19T15:50:16.443Z"
   },
   {
    "duration": 52,
    "start_time": "2025-03-19T15:52:12.237Z"
   },
   {
    "duration": 1575,
    "start_time": "2025-03-19T15:52:17.091Z"
   },
   {
    "duration": 86,
    "start_time": "2025-03-19T15:53:04.284Z"
   },
   {
    "duration": 86,
    "start_time": "2025-03-19T15:53:12.468Z"
   },
   {
    "duration": 22,
    "start_time": "2025-03-19T15:58:37.591Z"
   },
   {
    "duration": 25,
    "start_time": "2025-03-19T15:59:47.104Z"
   },
   {
    "duration": 22,
    "start_time": "2025-03-19T16:00:10.696Z"
   },
   {
    "duration": 40,
    "start_time": "2025-03-19T16:12:16.068Z"
   },
   {
    "duration": 39,
    "start_time": "2025-03-19T16:16:29.588Z"
   },
   {
    "duration": 27,
    "start_time": "2025-03-19T16:17:10.024Z"
   },
   {
    "duration": 24,
    "start_time": "2025-03-19T16:21:57.429Z"
   },
   {
    "duration": 17,
    "start_time": "2025-03-19T16:22:45.614Z"
   },
   {
    "duration": 14,
    "start_time": "2025-03-19T16:22:59.063Z"
   },
   {
    "duration": 4,
    "start_time": "2025-03-19T16:23:12.380Z"
   },
   {
    "duration": 9,
    "start_time": "2025-03-19T16:23:21.196Z"
   },
   {
    "duration": 6,
    "start_time": "2025-03-19T16:23:24.791Z"
   },
   {
    "duration": 25,
    "start_time": "2025-03-19T16:28:24.228Z"
   },
   {
    "duration": 79,
    "start_time": "2025-03-19T16:33:20.985Z"
   },
   {
    "duration": 1146,
    "start_time": "2025-03-19T16:34:25.684Z"
   },
   {
    "duration": 81,
    "start_time": "2025-03-19T16:34:26.832Z"
   },
   {
    "duration": 11,
    "start_time": "2025-03-19T16:34:26.915Z"
   },
   {
    "duration": 22,
    "start_time": "2025-03-19T16:34:26.927Z"
   },
   {
    "duration": 1532,
    "start_time": "2025-03-19T16:34:26.952Z"
   },
   {
    "duration": 24,
    "start_time": "2025-03-19T16:34:28.486Z"
   },
   {
    "duration": 104,
    "start_time": "2025-03-19T16:34:28.511Z"
   },
   {
    "duration": 310,
    "start_time": "2025-03-19T16:34:28.617Z"
   },
   {
    "duration": 9,
    "start_time": "2025-03-19T16:34:28.929Z"
   },
   {
    "duration": 40,
    "start_time": "2025-03-19T16:34:28.940Z"
   },
   {
    "duration": 290,
    "start_time": "2025-03-19T16:34:28.982Z"
   },
   {
    "duration": 8,
    "start_time": "2025-03-19T16:34:29.273Z"
   },
   {
    "duration": 37,
    "start_time": "2025-03-19T16:34:29.283Z"
   },
   {
    "duration": 238,
    "start_time": "2025-03-19T16:34:29.323Z"
   },
   {
    "duration": 9,
    "start_time": "2025-03-19T16:34:29.562Z"
   },
   {
    "duration": 49,
    "start_time": "2025-03-19T16:34:29.572Z"
   },
   {
    "duration": 92,
    "start_time": "2025-03-19T16:34:48.095Z"
   },
   {
    "duration": 95,
    "start_time": "2025-03-19T16:36:31.160Z"
   },
   {
    "duration": 10,
    "start_time": "2025-03-19T16:36:31.257Z"
   },
   {
    "duration": 20,
    "start_time": "2025-03-19T16:36:31.269Z"
   },
   {
    "duration": 35,
    "start_time": "2025-03-19T16:36:31.291Z"
   },
   {
    "duration": 185,
    "start_time": "2025-03-19T16:36:31.328Z"
   },
   {
    "duration": 114,
    "start_time": "2025-03-19T16:36:31.514Z"
   },
   {
    "duration": 90,
    "start_time": "2025-03-19T16:36:31.630Z"
   },
   {
    "duration": 19,
    "start_time": "2025-03-19T16:36:31.722Z"
   },
   {
    "duration": 25,
    "start_time": "2025-03-19T16:36:31.743Z"
   },
   {
    "duration": 17,
    "start_time": "2025-03-19T16:36:31.770Z"
   },
   {
    "duration": 19,
    "start_time": "2025-03-19T16:36:31.788Z"
   },
   {
    "duration": 105,
    "start_time": "2025-03-19T16:40:27.141Z"
   },
   {
    "duration": 403,
    "start_time": "2025-03-19T16:40:34.808Z"
   },
   {
    "duration": 82,
    "start_time": "2025-03-19T16:42:20.546Z"
   },
   {
    "duration": 20,
    "start_time": "2025-03-19T16:42:26.782Z"
   },
   {
    "duration": 30,
    "start_time": "2025-03-19T16:42:33.905Z"
   },
   {
    "duration": 29,
    "start_time": "2025-03-19T16:42:39.155Z"
   },
   {
    "duration": 2,
    "start_time": "2025-03-19T16:45:03.821Z"
   },
   {
    "duration": 31,
    "start_time": "2025-03-19T16:45:06.245Z"
   },
   {
    "duration": 3,
    "start_time": "2025-03-19T16:46:36.024Z"
   },
   {
    "duration": 27,
    "start_time": "2025-03-19T16:46:37.869Z"
   },
   {
    "duration": 30,
    "start_time": "2025-03-19T16:55:26.547Z"
   },
   {
    "duration": 8,
    "start_time": "2025-03-19T16:55:34.796Z"
   },
   {
    "duration": 1542,
    "start_time": "2025-03-19T16:58:33.718Z"
   },
   {
    "duration": 9,
    "start_time": "2025-03-19T16:58:48.186Z"
   },
   {
    "duration": 156,
    "start_time": "2025-03-19T16:58:51.484Z"
   },
   {
    "duration": 180,
    "start_time": "2025-03-19T17:01:05.772Z"
   },
   {
    "duration": 180,
    "start_time": "2025-03-19T17:02:34.670Z"
   },
   {
    "duration": 179,
    "start_time": "2025-03-19T17:02:52.432Z"
   },
   {
    "duration": 186,
    "start_time": "2025-03-19T17:03:39.299Z"
   },
   {
    "duration": 27,
    "start_time": "2025-03-19T17:04:07.455Z"
   },
   {
    "duration": 8,
    "start_time": "2025-03-19T17:04:47.727Z"
   },
   {
    "duration": 183,
    "start_time": "2025-03-19T17:04:53.202Z"
   },
   {
    "duration": 305,
    "start_time": "2025-03-19T17:09:11.052Z"
   },
   {
    "duration": 298,
    "start_time": "2025-03-19T17:09:19.261Z"
   },
   {
    "duration": 367,
    "start_time": "2025-03-19T17:09:22.806Z"
   },
   {
    "duration": 295,
    "start_time": "2025-03-19T17:09:27.082Z"
   },
   {
    "duration": 114,
    "start_time": "2025-03-19T17:11:15.743Z"
   },
   {
    "duration": 174,
    "start_time": "2025-03-19T17:11:24.438Z"
   },
   {
    "duration": 11,
    "start_time": "2025-03-19T17:12:17.518Z"
   },
   {
    "duration": 11,
    "start_time": "2025-03-19T17:12:55.334Z"
   },
   {
    "duration": 187,
    "start_time": "2025-03-19T17:12:58.490Z"
   },
   {
    "duration": 257,
    "start_time": "2025-03-19T17:14:05.578Z"
   },
   {
    "duration": 197,
    "start_time": "2025-03-19T17:14:50.063Z"
   },
   {
    "duration": 10,
    "start_time": "2025-03-19T17:30:54.668Z"
   },
   {
    "duration": 10,
    "start_time": "2025-03-19T17:31:01.513Z"
   },
   {
    "duration": 8,
    "start_time": "2025-03-19T17:31:22.460Z"
   },
   {
    "duration": 96,
    "start_time": "2025-03-19T17:58:14.652Z"
   },
   {
    "duration": 9,
    "start_time": "2025-03-19T17:59:03.557Z"
   },
   {
    "duration": 16,
    "start_time": "2025-03-19T18:00:14.417Z"
   },
   {
    "duration": 53,
    "start_time": "2025-03-19T18:04:03.073Z"
   },
   {
    "duration": 58,
    "start_time": "2025-03-19T18:04:13.730Z"
   },
   {
    "duration": 75,
    "start_time": "2025-03-19T18:04:31.789Z"
   },
   {
    "duration": 17,
    "start_time": "2025-03-19T18:05:41.354Z"
   },
   {
    "duration": 23,
    "start_time": "2025-03-19T18:05:51.742Z"
   },
   {
    "duration": 16,
    "start_time": "2025-03-19T18:05:56.041Z"
   },
   {
    "duration": 103,
    "start_time": "2025-03-19T18:06:47.920Z"
   },
   {
    "duration": 14,
    "start_time": "2025-03-19T18:08:31.503Z"
   },
   {
    "duration": 57,
    "start_time": "2025-03-19T18:09:17.149Z"
   },
   {
    "duration": 69,
    "start_time": "2025-03-19T18:10:33.368Z"
   },
   {
    "duration": 13,
    "start_time": "2025-03-19T18:10:42.189Z"
   },
   {
    "duration": 12,
    "start_time": "2025-03-19T18:10:58.609Z"
   },
   {
    "duration": 1143,
    "start_time": "2025-03-19T18:11:17.464Z"
   },
   {
    "duration": 95,
    "start_time": "2025-03-19T18:11:18.609Z"
   },
   {
    "duration": 13,
    "start_time": "2025-03-19T18:11:18.705Z"
   },
   {
    "duration": 16,
    "start_time": "2025-03-19T18:11:18.720Z"
   },
   {
    "duration": 1340,
    "start_time": "2025-03-19T18:11:18.738Z"
   },
   {
    "duration": 28,
    "start_time": "2025-03-19T18:11:20.080Z"
   },
   {
    "duration": 105,
    "start_time": "2025-03-19T18:11:20.110Z"
   },
   {
    "duration": 886,
    "start_time": "2025-03-19T18:11:20.217Z"
   },
   {
    "duration": 9,
    "start_time": "2025-03-19T18:11:21.107Z"
   },
   {
    "duration": 44,
    "start_time": "2025-03-19T18:11:21.118Z"
   },
   {
    "duration": 354,
    "start_time": "2025-03-19T18:11:21.164Z"
   },
   {
    "duration": 7,
    "start_time": "2025-03-19T18:11:21.520Z"
   },
   {
    "duration": 24,
    "start_time": "2025-03-19T18:11:21.528Z"
   },
   {
    "duration": 165,
    "start_time": "2025-03-19T18:11:21.556Z"
   },
   {
    "duration": 8,
    "start_time": "2025-03-19T18:11:21.723Z"
   },
   {
    "duration": 26,
    "start_time": "2025-03-19T18:11:21.732Z"
   },
   {
    "duration": 115,
    "start_time": "2025-03-19T18:11:21.760Z"
   },
   {
    "duration": 10,
    "start_time": "2025-03-19T18:11:21.877Z"
   },
   {
    "duration": 20,
    "start_time": "2025-03-19T18:11:21.888Z"
   },
   {
    "duration": 12,
    "start_time": "2025-03-19T18:11:21.909Z"
   },
   {
    "duration": 105,
    "start_time": "2025-03-19T18:11:21.922Z"
   },
   {
    "duration": 118,
    "start_time": "2025-03-19T18:11:22.028Z"
   },
   {
    "duration": 86,
    "start_time": "2025-03-19T18:11:22.148Z"
   },
   {
    "duration": 19,
    "start_time": "2025-03-19T18:11:22.236Z"
   },
   {
    "duration": 17,
    "start_time": "2025-03-19T18:11:22.256Z"
   },
   {
    "duration": 40,
    "start_time": "2025-03-19T18:11:22.274Z"
   },
   {
    "duration": 4,
    "start_time": "2025-03-19T18:11:22.316Z"
   },
   {
    "duration": 129,
    "start_time": "2025-03-19T18:11:22.322Z"
   },
   {
    "duration": 13,
    "start_time": "2025-03-19T18:11:22.452Z"
   },
   {
    "duration": 191,
    "start_time": "2025-03-19T18:11:22.466Z"
   },
   {
    "duration": 9,
    "start_time": "2025-03-19T18:11:22.659Z"
   },
   {
    "duration": 15,
    "start_time": "2025-03-19T18:11:22.669Z"
   },
   {
    "duration": 21,
    "start_time": "2025-03-19T18:11:22.686Z"
   },
   {
    "duration": 103,
    "start_time": "2025-03-19T18:11:22.709Z"
   },
   {
    "duration": 13,
    "start_time": "2025-03-19T18:11:22.814Z"
   },
   {
    "duration": 82,
    "start_time": "2025-03-19T18:11:34.483Z"
   },
   {
    "duration": 144,
    "start_time": "2025-03-19T18:11:39.139Z"
   },
   {
    "duration": 159,
    "start_time": "2025-03-19T18:11:44.976Z"
   },
   {
    "duration": 19,
    "start_time": "2025-03-19T18:17:32.688Z"
   },
   {
    "duration": 1382,
    "start_time": "2025-03-19T19:40:10.199Z"
   },
   {
    "duration": 85,
    "start_time": "2025-03-19T19:40:11.583Z"
   },
   {
    "duration": 11,
    "start_time": "2025-03-19T19:40:11.669Z"
   },
   {
    "duration": 10,
    "start_time": "2025-03-19T19:40:11.682Z"
   },
   {
    "duration": 1546,
    "start_time": "2025-03-19T19:40:11.694Z"
   },
   {
    "duration": 23,
    "start_time": "2025-03-19T19:40:13.242Z"
   },
   {
    "duration": 105,
    "start_time": "2025-03-19T19:40:13.266Z"
   },
   {
    "duration": 310,
    "start_time": "2025-03-19T19:40:13.373Z"
   },
   {
    "duration": 8,
    "start_time": "2025-03-19T19:40:13.685Z"
   },
   {
    "duration": 49,
    "start_time": "2025-03-19T19:40:13.696Z"
   },
   {
    "duration": 324,
    "start_time": "2025-03-19T19:40:13.747Z"
   },
   {
    "duration": 7,
    "start_time": "2025-03-19T19:40:14.073Z"
   },
   {
    "duration": 32,
    "start_time": "2025-03-19T19:40:14.081Z"
   },
   {
    "duration": 185,
    "start_time": "2025-03-19T19:40:14.114Z"
   },
   {
    "duration": 7,
    "start_time": "2025-03-19T19:40:14.301Z"
   },
   {
    "duration": 28,
    "start_time": "2025-03-19T19:40:14.310Z"
   },
   {
    "duration": 101,
    "start_time": "2025-03-19T19:40:14.340Z"
   },
   {
    "duration": 9,
    "start_time": "2025-03-19T19:40:14.443Z"
   },
   {
    "duration": 70,
    "start_time": "2025-03-19T19:40:14.453Z"
   },
   {
    "duration": 10,
    "start_time": "2025-03-19T19:40:14.524Z"
   },
   {
    "duration": 96,
    "start_time": "2025-03-19T19:40:14.536Z"
   },
   {
    "duration": 114,
    "start_time": "2025-03-19T19:40:14.634Z"
   },
   {
    "duration": 83,
    "start_time": "2025-03-19T19:40:14.750Z"
   },
   {
    "duration": 18,
    "start_time": "2025-03-19T19:40:14.834Z"
   },
   {
    "duration": 20,
    "start_time": "2025-03-19T19:40:14.853Z"
   },
   {
    "duration": 21,
    "start_time": "2025-03-19T19:40:14.875Z"
   },
   {
    "duration": 2,
    "start_time": "2025-03-19T19:40:14.898Z"
   },
   {
    "duration": 47,
    "start_time": "2025-03-19T19:40:14.903Z"
   },
   {
    "duration": 11,
    "start_time": "2025-03-19T19:40:14.951Z"
   },
   {
    "duration": 207,
    "start_time": "2025-03-19T19:40:14.963Z"
   },
   {
    "duration": 8,
    "start_time": "2025-03-19T19:40:15.172Z"
   },
   {
    "duration": 30,
    "start_time": "2025-03-19T19:40:15.182Z"
   },
   {
    "duration": 15,
    "start_time": "2025-03-19T19:40:15.213Z"
   },
   {
    "duration": 102,
    "start_time": "2025-03-19T19:40:15.229Z"
   },
   {
    "duration": 13,
    "start_time": "2025-03-19T19:40:15.333Z"
   },
   {
    "duration": 99,
    "start_time": "2025-03-19T19:40:15.347Z"
   },
   {
    "duration": 98,
    "start_time": "2025-03-19T19:40:15.448Z"
   },
   {
    "duration": 0,
    "start_time": "2025-03-19T19:40:15.548Z"
   },
   {
    "duration": 142,
    "start_time": "2025-03-19T19:40:41.534Z"
   },
   {
    "duration": 20,
    "start_time": "2025-03-19T19:51:39.170Z"
   },
   {
    "duration": 24,
    "start_time": "2025-03-19T19:52:50.061Z"
   },
   {
    "duration": 51,
    "start_time": "2025-03-19T19:54:04.015Z"
   },
   {
    "duration": 82,
    "start_time": "2025-03-19T20:01:19.696Z"
   },
   {
    "duration": 14,
    "start_time": "2025-03-19T20:02:55.760Z"
   },
   {
    "duration": 17,
    "start_time": "2025-03-19T20:03:19.150Z"
   },
   {
    "duration": 16,
    "start_time": "2025-03-19T20:03:42.178Z"
   },
   {
    "duration": 90,
    "start_time": "2025-03-19T20:04:45.850Z"
   },
   {
    "duration": 83,
    "start_time": "2025-03-19T20:05:47.903Z"
   },
   {
    "duration": 86,
    "start_time": "2025-03-19T20:06:07.440Z"
   },
   {
    "duration": 98,
    "start_time": "2025-03-19T20:06:31.340Z"
   },
   {
    "duration": 82,
    "start_time": "2025-03-19T20:06:37.921Z"
   },
   {
    "duration": 86,
    "start_time": "2025-03-19T20:06:46.895Z"
   },
   {
    "duration": 70,
    "start_time": "2025-03-19T20:07:43.759Z"
   },
   {
    "duration": 9,
    "start_time": "2025-03-19T20:07:57.781Z"
   },
   {
    "duration": 15,
    "start_time": "2025-03-19T20:08:02.167Z"
   },
   {
    "duration": 1371,
    "start_time": "2025-03-20T21:28:13.797Z"
   },
   {
    "duration": 51,
    "start_time": "2025-03-20T21:28:15.170Z"
   },
   {
    "duration": 12,
    "start_time": "2025-03-20T21:28:15.223Z"
   },
   {
    "duration": 23,
    "start_time": "2025-03-20T21:28:15.237Z"
   },
   {
    "duration": 1673,
    "start_time": "2025-03-20T21:28:15.261Z"
   },
   {
    "duration": 23,
    "start_time": "2025-03-20T21:28:16.935Z"
   },
   {
    "duration": 177,
    "start_time": "2025-03-20T21:28:16.960Z"
   },
   {
    "duration": 473,
    "start_time": "2025-03-20T21:28:17.139Z"
   },
   {
    "duration": 9,
    "start_time": "2025-03-20T21:28:17.614Z"
   },
   {
    "duration": 47,
    "start_time": "2025-03-20T21:28:17.626Z"
   },
   {
    "duration": 260,
    "start_time": "2025-03-20T21:28:17.675Z"
   },
   {
    "duration": 7,
    "start_time": "2025-03-20T21:28:17.937Z"
   },
   {
    "duration": 22,
    "start_time": "2025-03-20T21:28:17.946Z"
   },
   {
    "duration": 346,
    "start_time": "2025-03-20T21:28:17.970Z"
   },
   {
    "duration": 8,
    "start_time": "2025-03-20T21:28:18.318Z"
   },
   {
    "duration": 27,
    "start_time": "2025-03-20T21:28:18.327Z"
   },
   {
    "duration": 111,
    "start_time": "2025-03-20T21:28:18.356Z"
   },
   {
    "duration": 10,
    "start_time": "2025-03-20T21:28:18.468Z"
   },
   {
    "duration": 11,
    "start_time": "2025-03-20T21:28:18.479Z"
   },
   {
    "duration": 21,
    "start_time": "2025-03-20T21:28:18.492Z"
   },
   {
    "duration": 109,
    "start_time": "2025-03-20T21:28:18.515Z"
   },
   {
    "duration": 128,
    "start_time": "2025-03-20T21:28:18.626Z"
   },
   {
    "duration": 86,
    "start_time": "2025-03-20T21:28:18.755Z"
   },
   {
    "duration": 18,
    "start_time": "2025-03-20T21:28:18.843Z"
   },
   {
    "duration": 83,
    "start_time": "2025-03-20T21:28:18.862Z"
   },
   {
    "duration": 20,
    "start_time": "2025-03-20T21:28:18.947Z"
   },
   {
    "duration": 61,
    "start_time": "2025-03-20T21:28:18.969Z"
   },
   {
    "duration": 34,
    "start_time": "2025-03-20T21:28:19.033Z"
   },
   {
    "duration": 11,
    "start_time": "2025-03-20T21:28:19.068Z"
   },
   {
    "duration": 215,
    "start_time": "2025-03-20T21:28:19.081Z"
   },
   {
    "duration": 14,
    "start_time": "2025-03-20T21:28:19.298Z"
   },
   {
    "duration": 137,
    "start_time": "2025-03-20T21:28:19.313Z"
   },
   {
    "duration": 32,
    "start_time": "2025-03-20T21:28:19.452Z"
   },
   {
    "duration": 111,
    "start_time": "2025-03-20T21:28:19.486Z"
   },
   {
    "duration": 30,
    "start_time": "2025-03-20T21:28:19.599Z"
   },
   {
    "duration": 114,
    "start_time": "2025-03-20T21:28:19.632Z"
   },
   {
    "duration": 152,
    "start_time": "2025-03-20T21:28:19.748Z"
   },
   {
    "duration": 85,
    "start_time": "2025-03-20T21:28:19.902Z"
   },
   {
    "duration": 90,
    "start_time": "2025-03-20T21:28:19.989Z"
   },
   {
    "duration": 92,
    "start_time": "2025-03-20T21:44:00.639Z"
   },
   {
    "duration": 17,
    "start_time": "2025-03-20T21:44:02.594Z"
   },
   {
    "duration": 9,
    "start_time": "2025-03-20T21:44:12.044Z"
   },
   {
    "duration": 5,
    "start_time": "2025-03-20T21:44:16.278Z"
   },
   {
    "duration": 7,
    "start_time": "2025-03-20T21:44:23.405Z"
   },
   {
    "duration": 101,
    "start_time": "2025-03-20T21:45:16.765Z"
   },
   {
    "duration": 16,
    "start_time": "2025-03-20T21:45:40.502Z"
   },
   {
    "duration": 79,
    "start_time": "2025-03-20T21:49:02.253Z"
   },
   {
    "duration": 7,
    "start_time": "2025-03-20T21:49:05.432Z"
   },
   {
    "duration": 8,
    "start_time": "2025-03-20T21:49:10.845Z"
   },
   {
    "duration": 20,
    "start_time": "2025-03-20T21:49:18.258Z"
   },
   {
    "duration": 126,
    "start_time": "2025-03-20T21:50:51.637Z"
   },
   {
    "duration": 87,
    "start_time": "2025-03-20T21:52:01.615Z"
   },
   {
    "duration": 11,
    "start_time": "2025-03-20T21:52:09.621Z"
   },
   {
    "duration": 11,
    "start_time": "2025-03-20T21:52:15.447Z"
   },
   {
    "duration": 6,
    "start_time": "2025-03-20T21:52:19.489Z"
   },
   {
    "duration": 10,
    "start_time": "2025-03-20T21:52:25.660Z"
   },
   {
    "duration": 10,
    "start_time": "2025-03-20T21:52:53.623Z"
   },
   {
    "duration": 13,
    "start_time": "2025-03-20T21:52:58.115Z"
   },
   {
    "duration": 9,
    "start_time": "2025-03-20T21:54:23.059Z"
   },
   {
    "duration": 9,
    "start_time": "2025-03-20T21:54:30.998Z"
   },
   {
    "duration": 101,
    "start_time": "2025-03-20T21:59:42.093Z"
   },
   {
    "duration": 63,
    "start_time": "2025-03-20T22:00:56.060Z"
   },
   {
    "duration": 7,
    "start_time": "2025-03-20T22:01:03.691Z"
   },
   {
    "duration": 14,
    "start_time": "2025-03-20T22:01:08.255Z"
   },
   {
    "duration": 62,
    "start_time": "2025-03-20T22:01:17.650Z"
   },
   {
    "duration": 68,
    "start_time": "2025-03-20T22:01:23.160Z"
   },
   {
    "duration": 30,
    "start_time": "2025-03-20T22:01:48.099Z"
   },
   {
    "duration": 13,
    "start_time": "2025-03-20T22:02:35.456Z"
   },
   {
    "duration": 24,
    "start_time": "2025-03-20T22:06:50.363Z"
   },
   {
    "duration": 89,
    "start_time": "2025-03-20T22:07:06.832Z"
   },
   {
    "duration": 55,
    "start_time": "2025-03-20T22:08:47.692Z"
   },
   {
    "duration": 26,
    "start_time": "2025-03-20T22:09:56.777Z"
   },
   {
    "duration": 14,
    "start_time": "2025-03-20T22:10:05.866Z"
   },
   {
    "duration": 10,
    "start_time": "2025-03-20T22:10:11.774Z"
   },
   {
    "duration": 8,
    "start_time": "2025-03-20T22:10:17.712Z"
   },
   {
    "duration": 7,
    "start_time": "2025-03-20T22:10:23.464Z"
   },
   {
    "duration": 51,
    "start_time": "2025-03-20T22:11:25.186Z"
   },
   {
    "duration": 87,
    "start_time": "2025-03-20T22:11:50.911Z"
   },
   {
    "duration": 4,
    "start_time": "2025-03-20T22:12:48.781Z"
   },
   {
    "duration": 5,
    "start_time": "2025-03-20T22:12:53.033Z"
   },
   {
    "duration": 4,
    "start_time": "2025-03-20T22:13:03.484Z"
   },
   {
    "duration": 8,
    "start_time": "2025-03-20T22:13:08.560Z"
   },
   {
    "duration": 8,
    "start_time": "2025-03-20T22:13:14.864Z"
   },
   {
    "duration": 7,
    "start_time": "2025-03-20T22:13:14.981Z"
   },
   {
    "duration": 1542,
    "start_time": "2025-03-20T22:13:41.105Z"
   },
   {
    "duration": 1657,
    "start_time": "2025-03-20T22:13:49.009Z"
   },
   {
    "duration": 14,
    "start_time": "2025-03-20T22:14:03.890Z"
   },
   {
    "duration": 7,
    "start_time": "2025-03-20T22:14:15.891Z"
   },
   {
    "duration": 83,
    "start_time": "2025-03-20T22:14:22.220Z"
   },
   {
    "duration": 12,
    "start_time": "2025-03-20T22:14:49.988Z"
   },
   {
    "duration": 10,
    "start_time": "2025-03-20T22:21:39.317Z"
   },
   {
    "duration": 12,
    "start_time": "2025-03-20T22:22:36.945Z"
   },
   {
    "duration": 88,
    "start_time": "2025-03-20T22:22:44.916Z"
   },
   {
    "duration": 77,
    "start_time": "2025-03-20T22:22:59.805Z"
   },
   {
    "duration": 83,
    "start_time": "2025-03-20T22:23:06.160Z"
   },
   {
    "duration": 81,
    "start_time": "2025-03-20T22:23:23.260Z"
   },
   {
    "duration": 14,
    "start_time": "2025-03-20T22:23:42.657Z"
   },
   {
    "duration": 1121,
    "start_time": "2025-03-20T22:26:02.219Z"
   },
   {
    "duration": 59,
    "start_time": "2025-03-20T22:26:03.342Z"
   },
   {
    "duration": 11,
    "start_time": "2025-03-20T22:26:03.405Z"
   },
   {
    "duration": 20,
    "start_time": "2025-03-20T22:26:03.418Z"
   },
   {
    "duration": 1171,
    "start_time": "2025-03-20T22:26:03.440Z"
   },
   {
    "duration": 23,
    "start_time": "2025-03-20T22:26:04.613Z"
   },
   {
    "duration": 109,
    "start_time": "2025-03-20T22:26:04.637Z"
   },
   {
    "duration": 408,
    "start_time": "2025-03-20T22:26:04.747Z"
   },
   {
    "duration": 8,
    "start_time": "2025-03-20T22:26:05.158Z"
   },
   {
    "duration": 49,
    "start_time": "2025-03-20T22:26:05.167Z"
   },
   {
    "duration": 339,
    "start_time": "2025-03-20T22:26:05.218Z"
   },
   {
    "duration": 7,
    "start_time": "2025-03-20T22:26:05.558Z"
   },
   {
    "duration": 37,
    "start_time": "2025-03-20T22:26:05.567Z"
   },
   {
    "duration": 254,
    "start_time": "2025-03-20T22:26:05.606Z"
   },
   {
    "duration": 8,
    "start_time": "2025-03-20T22:26:05.861Z"
   },
   {
    "duration": 35,
    "start_time": "2025-03-20T22:26:05.870Z"
   },
   {
    "duration": 101,
    "start_time": "2025-03-20T22:26:05.906Z"
   },
   {
    "duration": 29,
    "start_time": "2025-03-20T22:26:06.008Z"
   },
   {
    "duration": 11,
    "start_time": "2025-03-20T22:26:06.038Z"
   },
   {
    "duration": 15,
    "start_time": "2025-03-20T22:26:06.050Z"
   },
   {
    "duration": 97,
    "start_time": "2025-03-20T22:26:06.067Z"
   },
   {
    "duration": 118,
    "start_time": "2025-03-20T22:26:06.166Z"
   },
   {
    "duration": 92,
    "start_time": "2025-03-20T22:26:06.285Z"
   },
   {
    "duration": 28,
    "start_time": "2025-03-20T22:26:06.379Z"
   },
   {
    "duration": 38,
    "start_time": "2025-03-20T22:26:06.408Z"
   },
   {
    "duration": 22,
    "start_time": "2025-03-20T22:26:06.447Z"
   },
   {
    "duration": 3,
    "start_time": "2025-03-20T22:26:06.473Z"
   },
   {
    "duration": 51,
    "start_time": "2025-03-20T22:26:06.477Z"
   },
   {
    "duration": 23,
    "start_time": "2025-03-20T22:26:06.530Z"
   },
   {
    "duration": 209,
    "start_time": "2025-03-20T22:26:06.555Z"
   },
   {
    "duration": 8,
    "start_time": "2025-03-20T22:26:06.766Z"
   },
   {
    "duration": 19,
    "start_time": "2025-03-20T22:26:06.776Z"
   },
   {
    "duration": 29,
    "start_time": "2025-03-20T22:26:06.797Z"
   },
   {
    "duration": 80,
    "start_time": "2025-03-20T22:26:06.828Z"
   },
   {
    "duration": 30,
    "start_time": "2025-03-20T22:26:06.910Z"
   },
   {
    "duration": 24,
    "start_time": "2025-03-20T22:26:06.942Z"
   },
   {
    "duration": 96,
    "start_time": "2025-03-20T22:26:06.967Z"
   },
   {
    "duration": 56,
    "start_time": "2025-03-20T22:26:07.065Z"
   },
   {
    "duration": 93,
    "start_time": "2025-03-20T22:37:15.031Z"
   },
   {
    "duration": 9,
    "start_time": "2025-03-20T22:37:51.835Z"
   },
   {
    "duration": 1547,
    "start_time": "2025-03-20T22:39:28.535Z"
   },
   {
    "duration": 36,
    "start_time": "2025-03-20T22:39:40.124Z"
   },
   {
    "duration": 69,
    "start_time": "2025-03-20T22:43:42.199Z"
   },
   {
    "duration": 9,
    "start_time": "2025-03-20T22:47:32.055Z"
   },
   {
    "duration": 72,
    "start_time": "2025-03-20T22:48:34.321Z"
   },
   {
    "duration": 10,
    "start_time": "2025-03-20T22:48:40.374Z"
   },
   {
    "duration": 12,
    "start_time": "2025-03-20T22:48:45.719Z"
   },
   {
    "duration": 9,
    "start_time": "2025-03-20T22:49:05.761Z"
   },
   {
    "duration": 12,
    "start_time": "2025-03-20T22:49:09.676Z"
   },
   {
    "duration": 9,
    "start_time": "2025-03-20T22:49:25.641Z"
   },
   {
    "duration": 8,
    "start_time": "2025-03-20T22:51:13.701Z"
   },
   {
    "duration": 6,
    "start_time": "2025-03-20T22:51:30.310Z"
   },
   {
    "duration": 7,
    "start_time": "2025-03-20T22:54:35.424Z"
   },
   {
    "duration": 7,
    "start_time": "2025-03-20T22:54:54.311Z"
   },
   {
    "duration": 10,
    "start_time": "2025-03-20T22:55:55.911Z"
   },
   {
    "duration": 9,
    "start_time": "2025-03-20T22:56:01.018Z"
   },
   {
    "duration": 9,
    "start_time": "2025-03-20T23:00:23.939Z"
   },
   {
    "duration": 7,
    "start_time": "2025-03-20T23:01:11.947Z"
   },
   {
    "duration": 11,
    "start_time": "2025-03-20T23:01:57.319Z"
   },
   {
    "duration": 9,
    "start_time": "2025-03-20T23:02:15.697Z"
   },
   {
    "duration": 9,
    "start_time": "2025-03-20T23:02:17.891Z"
   },
   {
    "duration": 21,
    "start_time": "2025-03-20T23:03:00.732Z"
   },
   {
    "duration": 88,
    "start_time": "2025-03-20T23:03:28.011Z"
   },
   {
    "duration": 159,
    "start_time": "2025-03-20T23:03:36.111Z"
   },
   {
    "duration": 13,
    "start_time": "2025-03-20T23:03:41.134Z"
   },
   {
    "duration": 131,
    "start_time": "2025-03-20T23:03:57.671Z"
   },
   {
    "duration": 14,
    "start_time": "2025-03-20T23:03:59.257Z"
   },
   {
    "duration": 106,
    "start_time": "2025-03-20T23:04:01.099Z"
   },
   {
    "duration": 10,
    "start_time": "2025-03-20T23:04:09.947Z"
   },
   {
    "duration": 50,
    "start_time": "2025-03-20T23:04:23.923Z"
   },
   {
    "duration": 43,
    "start_time": "2025-03-20T23:04:39.056Z"
   },
   {
    "duration": 83,
    "start_time": "2025-03-20T23:05:27.802Z"
   },
   {
    "duration": 34,
    "start_time": "2025-03-20T23:05:30.261Z"
   },
   {
    "duration": 7,
    "start_time": "2025-03-20T23:05:33.451Z"
   },
   {
    "duration": 10,
    "start_time": "2025-03-20T23:21:38.996Z"
   },
   {
    "duration": 9,
    "start_time": "2025-03-20T23:21:42.860Z"
   },
   {
    "duration": 91,
    "start_time": "2025-03-20T23:21:53.548Z"
   },
   {
    "duration": 92,
    "start_time": "2025-03-20T23:22:13.028Z"
   },
   {
    "duration": 29,
    "start_time": "2025-03-20T23:22:27.221Z"
   },
   {
    "duration": 230,
    "start_time": "2025-03-20T23:24:37.030Z"
   },
   {
    "duration": 22,
    "start_time": "2025-03-20T23:25:03.120Z"
   },
   {
    "duration": 20,
    "start_time": "2025-03-20T23:25:38.808Z"
   },
   {
    "duration": 22,
    "start_time": "2025-03-20T23:25:43.965Z"
   },
   {
    "duration": 26,
    "start_time": "2025-03-20T23:26:31.878Z"
   },
   {
    "duration": 20,
    "start_time": "2025-03-20T23:26:33.701Z"
   },
   {
    "duration": 4,
    "start_time": "2025-03-20T23:26:35.269Z"
   },
   {
    "duration": 29,
    "start_time": "2025-03-20T23:26:44.071Z"
   },
   {
    "duration": 21,
    "start_time": "2025-03-20T23:26:48.427Z"
   },
   {
    "duration": 4,
    "start_time": "2025-03-20T23:26:52.078Z"
   },
   {
    "duration": 22,
    "start_time": "2025-03-20T23:27:59.332Z"
   },
   {
    "duration": 28,
    "start_time": "2025-03-20T23:28:00.973Z"
   },
   {
    "duration": 4,
    "start_time": "2025-03-20T23:28:16.343Z"
   },
   {
    "duration": 18,
    "start_time": "2025-03-20T23:30:17.029Z"
   },
   {
    "duration": 21,
    "start_time": "2025-03-20T23:30:32.598Z"
   },
   {
    "duration": 4,
    "start_time": "2025-03-20T23:30:52.822Z"
   },
   {
    "duration": 18,
    "start_time": "2025-03-20T23:35:22.140Z"
   },
   {
    "duration": 10,
    "start_time": "2025-03-20T23:42:19.500Z"
   },
   {
    "duration": 40,
    "start_time": "2025-03-20T23:42:38.889Z"
   },
   {
    "duration": 11,
    "start_time": "2025-03-20T23:43:50.490Z"
   },
   {
    "duration": 12,
    "start_time": "2025-03-20T23:44:08.940Z"
   },
   {
    "duration": 1094,
    "start_time": "2025-03-20T23:45:35.716Z"
   },
   {
    "duration": 98,
    "start_time": "2025-03-20T23:45:36.812Z"
   },
   {
    "duration": 12,
    "start_time": "2025-03-20T23:45:36.911Z"
   },
   {
    "duration": 12,
    "start_time": "2025-03-20T23:45:36.926Z"
   },
   {
    "duration": 1124,
    "start_time": "2025-03-20T23:45:36.940Z"
   },
   {
    "duration": 22,
    "start_time": "2025-03-20T23:45:38.066Z"
   },
   {
    "duration": 102,
    "start_time": "2025-03-20T23:45:38.089Z"
   },
   {
    "duration": 413,
    "start_time": "2025-03-20T23:45:38.193Z"
   },
   {
    "duration": 9,
    "start_time": "2025-03-20T23:45:38.608Z"
   },
   {
    "duration": 39,
    "start_time": "2025-03-20T23:45:38.620Z"
   },
   {
    "duration": 305,
    "start_time": "2025-03-20T23:45:38.661Z"
   },
   {
    "duration": 7,
    "start_time": "2025-03-20T23:45:38.968Z"
   },
   {
    "duration": 19,
    "start_time": "2025-03-20T23:45:38.976Z"
   },
   {
    "duration": 293,
    "start_time": "2025-03-20T23:45:38.996Z"
   },
   {
    "duration": 7,
    "start_time": "2025-03-20T23:45:39.290Z"
   },
   {
    "duration": 52,
    "start_time": "2025-03-20T23:45:39.298Z"
   },
   {
    "duration": 100,
    "start_time": "2025-03-20T23:45:39.351Z"
   },
   {
    "duration": 9,
    "start_time": "2025-03-20T23:45:39.452Z"
   },
   {
    "duration": 29,
    "start_time": "2025-03-20T23:45:39.462Z"
   },
   {
    "duration": 20,
    "start_time": "2025-03-20T23:45:39.493Z"
   },
   {
    "duration": 111,
    "start_time": "2025-03-20T23:45:39.514Z"
   },
   {
    "duration": 113,
    "start_time": "2025-03-20T23:45:39.627Z"
   },
   {
    "duration": 84,
    "start_time": "2025-03-20T23:45:39.742Z"
   },
   {
    "duration": 16,
    "start_time": "2025-03-20T23:45:39.828Z"
   },
   {
    "duration": 33,
    "start_time": "2025-03-20T23:45:39.846Z"
   },
   {
    "duration": 15,
    "start_time": "2025-03-20T23:45:39.880Z"
   },
   {
    "duration": 2,
    "start_time": "2025-03-20T23:45:39.896Z"
   },
   {
    "duration": 27,
    "start_time": "2025-03-20T23:45:39.908Z"
   },
   {
    "duration": 11,
    "start_time": "2025-03-20T23:45:39.937Z"
   },
   {
    "duration": 228,
    "start_time": "2025-03-20T23:45:39.949Z"
   },
   {
    "duration": 9,
    "start_time": "2025-03-20T23:45:40.178Z"
   },
   {
    "duration": 23,
    "start_time": "2025-03-20T23:45:40.188Z"
   },
   {
    "duration": 9,
    "start_time": "2025-03-20T23:45:40.212Z"
   },
   {
    "duration": 119,
    "start_time": "2025-03-20T23:45:40.223Z"
   },
   {
    "duration": 33,
    "start_time": "2025-03-20T23:45:40.343Z"
   },
   {
    "duration": 15,
    "start_time": "2025-03-20T23:45:40.377Z"
   },
   {
    "duration": 86,
    "start_time": "2025-03-20T23:45:40.406Z"
   },
   {
    "duration": 67,
    "start_time": "2025-03-20T23:45:40.494Z"
   },
   {
    "duration": 74,
    "start_time": "2025-03-20T23:45:40.563Z"
   },
   {
    "duration": 8,
    "start_time": "2025-03-20T23:45:40.639Z"
   },
   {
    "duration": 83,
    "start_time": "2025-03-20T23:45:40.649Z"
   },
   {
    "duration": 104,
    "start_time": "2025-03-20T23:45:40.734Z"
   },
   {
    "duration": 0,
    "start_time": "2025-03-20T23:45:40.839Z"
   },
   {
    "duration": 0,
    "start_time": "2025-03-20T23:45:40.841Z"
   },
   {
    "duration": 1,
    "start_time": "2025-03-20T23:45:40.842Z"
   },
   {
    "duration": 0,
    "start_time": "2025-03-20T23:45:40.844Z"
   },
   {
    "duration": 0,
    "start_time": "2025-03-20T23:45:40.845Z"
   },
   {
    "duration": 0,
    "start_time": "2025-03-20T23:45:40.847Z"
   },
   {
    "duration": 0,
    "start_time": "2025-03-20T23:45:40.848Z"
   },
   {
    "duration": 0,
    "start_time": "2025-03-20T23:45:40.849Z"
   },
   {
    "duration": 0,
    "start_time": "2025-03-20T23:45:40.850Z"
   },
   {
    "duration": 0,
    "start_time": "2025-03-20T23:45:40.851Z"
   },
   {
    "duration": 10,
    "start_time": "2025-03-20T23:57:05.621Z"
   },
   {
    "duration": 1049,
    "start_time": "2025-03-20T23:57:17.958Z"
   },
   {
    "duration": 74,
    "start_time": "2025-03-20T23:57:19.009Z"
   },
   {
    "duration": 11,
    "start_time": "2025-03-20T23:57:19.085Z"
   },
   {
    "duration": 21,
    "start_time": "2025-03-20T23:57:19.097Z"
   },
   {
    "duration": 1150,
    "start_time": "2025-03-20T23:57:19.119Z"
   },
   {
    "duration": 23,
    "start_time": "2025-03-20T23:57:20.271Z"
   },
   {
    "duration": 143,
    "start_time": "2025-03-20T23:57:20.295Z"
   },
   {
    "duration": 338,
    "start_time": "2025-03-20T23:57:20.439Z"
   },
   {
    "duration": 9,
    "start_time": "2025-03-20T23:57:20.779Z"
   },
   {
    "duration": 57,
    "start_time": "2025-03-20T23:57:20.791Z"
   },
   {
    "duration": 259,
    "start_time": "2025-03-20T23:57:20.850Z"
   },
   {
    "duration": 7,
    "start_time": "2025-03-20T23:57:21.111Z"
   },
   {
    "duration": 29,
    "start_time": "2025-03-20T23:57:21.119Z"
   },
   {
    "duration": 401,
    "start_time": "2025-03-20T23:57:21.150Z"
   },
   {
    "duration": 7,
    "start_time": "2025-03-20T23:57:21.552Z"
   },
   {
    "duration": 32,
    "start_time": "2025-03-20T23:57:21.561Z"
   },
   {
    "duration": 93,
    "start_time": "2025-03-20T23:57:21.595Z"
   },
   {
    "duration": 17,
    "start_time": "2025-03-20T23:57:21.690Z"
   },
   {
    "duration": 6,
    "start_time": "2025-03-20T23:57:21.709Z"
   },
   {
    "duration": 13,
    "start_time": "2025-03-20T23:57:21.716Z"
   },
   {
    "duration": 107,
    "start_time": "2025-03-20T23:57:21.731Z"
   },
   {
    "duration": 124,
    "start_time": "2025-03-20T23:57:21.840Z"
   },
   {
    "duration": 87,
    "start_time": "2025-03-20T23:57:21.966Z"
   },
   {
    "duration": 20,
    "start_time": "2025-03-20T23:57:22.055Z"
   },
   {
    "duration": 30,
    "start_time": "2025-03-20T23:57:22.076Z"
   },
   {
    "duration": 34,
    "start_time": "2025-03-20T23:57:22.108Z"
   },
   {
    "duration": 4,
    "start_time": "2025-03-20T23:57:22.144Z"
   },
   {
    "duration": 38,
    "start_time": "2025-03-20T23:57:22.152Z"
   },
   {
    "duration": 11,
    "start_time": "2025-03-20T23:57:22.192Z"
   },
   {
    "duration": 193,
    "start_time": "2025-03-20T23:57:22.205Z"
   },
   {
    "duration": 11,
    "start_time": "2025-03-20T23:57:22.399Z"
   },
   {
    "duration": 46,
    "start_time": "2025-03-20T23:57:22.412Z"
   },
   {
    "duration": 33,
    "start_time": "2025-03-20T23:57:22.460Z"
   },
   {
    "duration": 76,
    "start_time": "2025-03-20T23:57:22.495Z"
   },
   {
    "duration": 40,
    "start_time": "2025-03-20T23:57:22.573Z"
   },
   {
    "duration": 14,
    "start_time": "2025-03-20T23:57:22.614Z"
   },
   {
    "duration": 89,
    "start_time": "2025-03-20T23:57:22.629Z"
   },
   {
    "duration": 59,
    "start_time": "2025-03-20T23:57:22.719Z"
   },
   {
    "duration": 82,
    "start_time": "2025-03-20T23:57:22.780Z"
   },
   {
    "duration": 8,
    "start_time": "2025-03-20T23:57:22.864Z"
   },
   {
    "duration": 105,
    "start_time": "2025-03-20T23:57:22.874Z"
   },
   {
    "duration": 9,
    "start_time": "2025-03-20T23:57:22.981Z"
   },
   {
    "duration": 39,
    "start_time": "2025-03-20T23:57:22.991Z"
   },
   {
    "duration": 21,
    "start_time": "2025-03-20T23:57:23.032Z"
   },
   {
    "duration": 3,
    "start_time": "2025-03-20T23:57:23.055Z"
   },
   {
    "duration": 43,
    "start_time": "2025-03-20T23:57:23.060Z"
   },
   {
    "duration": 27,
    "start_time": "2025-03-20T23:57:23.104Z"
   },
   {
    "duration": 4,
    "start_time": "2025-03-20T23:57:23.133Z"
   },
   {
    "duration": 28,
    "start_time": "2025-03-20T23:57:23.138Z"
   },
   {
    "duration": 40,
    "start_time": "2025-03-20T23:57:23.167Z"
   },
   {
    "duration": 11,
    "start_time": "2025-03-20T23:57:23.208Z"
   },
   {
    "duration": 13,
    "start_time": "2025-03-20T23:57:23.221Z"
   },
   {
    "duration": 1396,
    "start_time": "2025-03-21T06:55:08.706Z"
   },
   {
    "duration": 87,
    "start_time": "2025-03-21T06:55:10.104Z"
   },
   {
    "duration": 13,
    "start_time": "2025-03-21T06:55:10.193Z"
   },
   {
    "duration": 13,
    "start_time": "2025-03-21T06:55:10.208Z"
   },
   {
    "duration": 1946,
    "start_time": "2025-03-21T06:55:10.223Z"
   },
   {
    "duration": 24,
    "start_time": "2025-03-21T06:55:12.174Z"
   },
   {
    "duration": 118,
    "start_time": "2025-03-21T06:55:12.200Z"
   },
   {
    "duration": 547,
    "start_time": "2025-03-21T06:55:12.320Z"
   },
   {
    "duration": 10,
    "start_time": "2025-03-21T06:55:12.874Z"
   },
   {
    "duration": 51,
    "start_time": "2025-03-21T06:55:12.885Z"
   },
   {
    "duration": 319,
    "start_time": "2025-03-21T06:55:12.938Z"
   },
   {
    "duration": 16,
    "start_time": "2025-03-21T06:55:13.259Z"
   },
   {
    "duration": 31,
    "start_time": "2025-03-21T06:55:13.277Z"
   },
   {
    "duration": 363,
    "start_time": "2025-03-21T06:55:13.312Z"
   },
   {
    "duration": 9,
    "start_time": "2025-03-21T06:55:13.676Z"
   },
   {
    "duration": 33,
    "start_time": "2025-03-21T06:55:13.687Z"
   },
   {
    "duration": 121,
    "start_time": "2025-03-21T06:55:13.722Z"
   },
   {
    "duration": 22,
    "start_time": "2025-03-21T06:55:13.845Z"
   },
   {
    "duration": 11,
    "start_time": "2025-03-21T06:55:13.870Z"
   },
   {
    "duration": 12,
    "start_time": "2025-03-21T06:55:13.882Z"
   },
   {
    "duration": 124,
    "start_time": "2025-03-21T06:55:13.895Z"
   },
   {
    "duration": 123,
    "start_time": "2025-03-21T06:55:14.020Z"
   },
   {
    "duration": 98,
    "start_time": "2025-03-21T06:55:14.145Z"
   },
   {
    "duration": 38,
    "start_time": "2025-03-21T06:55:14.245Z"
   },
   {
    "duration": 21,
    "start_time": "2025-03-21T06:55:14.284Z"
   },
   {
    "duration": 17,
    "start_time": "2025-03-21T06:55:14.307Z"
   },
   {
    "duration": 2,
    "start_time": "2025-03-21T06:55:14.326Z"
   },
   {
    "duration": 57,
    "start_time": "2025-03-21T06:55:14.330Z"
   },
   {
    "duration": 35,
    "start_time": "2025-03-21T06:55:14.389Z"
   },
   {
    "duration": 218,
    "start_time": "2025-03-21T06:55:14.425Z"
   },
   {
    "duration": 18,
    "start_time": "2025-03-21T06:55:14.644Z"
   },
   {
    "duration": 37,
    "start_time": "2025-03-21T06:55:14.664Z"
   },
   {
    "duration": 10,
    "start_time": "2025-03-21T06:55:14.703Z"
   },
   {
    "duration": 82,
    "start_time": "2025-03-21T06:55:14.715Z"
   },
   {
    "duration": 35,
    "start_time": "2025-03-21T06:55:14.798Z"
   },
   {
    "duration": 39,
    "start_time": "2025-03-21T06:55:14.835Z"
   },
   {
    "duration": 99,
    "start_time": "2025-03-21T06:55:14.875Z"
   },
   {
    "duration": 60,
    "start_time": "2025-03-21T06:55:14.976Z"
   },
   {
    "duration": 79,
    "start_time": "2025-03-21T06:55:15.038Z"
   },
   {
    "duration": 58,
    "start_time": "2025-03-21T06:55:15.119Z"
   },
   {
    "duration": 102,
    "start_time": "2025-03-21T06:55:15.183Z"
   },
   {
    "duration": 10,
    "start_time": "2025-03-21T06:55:15.287Z"
   },
   {
    "duration": 46,
    "start_time": "2025-03-21T06:55:15.298Z"
   },
   {
    "duration": 33,
    "start_time": "2025-03-21T06:55:15.346Z"
   },
   {
    "duration": 4,
    "start_time": "2025-03-21T06:55:15.380Z"
   },
   {
    "duration": 26,
    "start_time": "2025-03-21T06:55:15.386Z"
   },
   {
    "duration": 55,
    "start_time": "2025-03-21T06:55:15.414Z"
   },
   {
    "duration": 5,
    "start_time": "2025-03-21T06:55:15.471Z"
   },
   {
    "duration": 29,
    "start_time": "2025-03-21T06:55:15.478Z"
   },
   {
    "duration": 105,
    "start_time": "2025-03-21T06:55:15.508Z"
   },
   {
    "duration": 55,
    "start_time": "2025-03-21T06:55:15.615Z"
   },
   {
    "duration": 30,
    "start_time": "2025-03-21T06:55:15.671Z"
   },
   {
    "duration": 6455,
    "start_time": "2025-03-21T07:01:19.255Z"
   },
   {
    "duration": 1294,
    "start_time": "2025-03-21T18:59:38.991Z"
   },
   {
    "duration": 108,
    "start_time": "2025-03-21T18:59:40.287Z"
   },
   {
    "duration": 11,
    "start_time": "2025-03-21T18:59:40.396Z"
   },
   {
    "duration": 16,
    "start_time": "2025-03-21T18:59:40.409Z"
   },
   {
    "duration": 1224,
    "start_time": "2025-03-21T18:59:40.426Z"
   },
   {
    "duration": 28,
    "start_time": "2025-03-21T18:59:41.651Z"
   },
   {
    "duration": 106,
    "start_time": "2025-03-21T18:59:41.681Z"
   },
   {
    "duration": 777,
    "start_time": "2025-03-21T18:59:41.789Z"
   },
   {
    "duration": 8,
    "start_time": "2025-03-21T18:59:42.568Z"
   },
   {
    "duration": 39,
    "start_time": "2025-03-21T18:59:42.579Z"
   },
   {
    "duration": 190,
    "start_time": "2025-03-21T18:59:42.620Z"
   },
   {
    "duration": 8,
    "start_time": "2025-03-21T18:59:42.811Z"
   },
   {
    "duration": 22,
    "start_time": "2025-03-21T18:59:42.821Z"
   },
   {
    "duration": 175,
    "start_time": "2025-03-21T18:59:42.844Z"
   },
   {
    "duration": 8,
    "start_time": "2025-03-21T18:59:43.020Z"
   },
   {
    "duration": 54,
    "start_time": "2025-03-21T18:59:43.030Z"
   },
   {
    "duration": 101,
    "start_time": "2025-03-21T18:59:43.086Z"
   },
   {
    "duration": 9,
    "start_time": "2025-03-21T18:59:43.189Z"
   },
   {
    "duration": 8,
    "start_time": "2025-03-21T18:59:43.200Z"
   },
   {
    "duration": 15,
    "start_time": "2025-03-21T18:59:43.210Z"
   },
   {
    "duration": 110,
    "start_time": "2025-03-21T18:59:43.226Z"
   },
   {
    "duration": 109,
    "start_time": "2025-03-21T18:59:43.338Z"
   },
   {
    "duration": 84,
    "start_time": "2025-03-21T18:59:43.448Z"
   },
   {
    "duration": 26,
    "start_time": "2025-03-21T18:59:43.534Z"
   },
   {
    "duration": 16,
    "start_time": "2025-03-21T18:59:43.561Z"
   },
   {
    "duration": 18,
    "start_time": "2025-03-21T18:59:43.578Z"
   },
   {
    "duration": 10,
    "start_time": "2025-03-21T18:59:43.597Z"
   },
   {
    "duration": 26,
    "start_time": "2025-03-21T18:59:43.610Z"
   },
   {
    "duration": 28,
    "start_time": "2025-03-21T18:59:43.638Z"
   },
   {
    "duration": 187,
    "start_time": "2025-03-21T18:59:43.667Z"
   },
   {
    "duration": 8,
    "start_time": "2025-03-21T18:59:43.857Z"
   },
   {
    "duration": 9,
    "start_time": "2025-03-21T18:59:43.866Z"
   },
   {
    "duration": 7,
    "start_time": "2025-03-21T18:59:43.877Z"
   },
   {
    "duration": 93,
    "start_time": "2025-03-21T18:59:43.886Z"
   },
   {
    "duration": 30,
    "start_time": "2025-03-21T18:59:43.981Z"
   },
   {
    "duration": 27,
    "start_time": "2025-03-21T18:59:44.012Z"
   },
   {
    "duration": 90,
    "start_time": "2025-03-21T18:59:44.040Z"
   },
   {
    "duration": 59,
    "start_time": "2025-03-21T18:59:44.131Z"
   },
   {
    "duration": 83,
    "start_time": "2025-03-21T18:59:44.192Z"
   },
   {
    "duration": 8,
    "start_time": "2025-03-21T18:59:44.277Z"
   },
   {
    "duration": 91,
    "start_time": "2025-03-21T18:59:44.287Z"
   },
   {
    "duration": 7,
    "start_time": "2025-03-21T18:59:44.380Z"
   },
   {
    "duration": 28,
    "start_time": "2025-03-21T18:59:44.389Z"
   },
   {
    "duration": 20,
    "start_time": "2025-03-21T18:59:44.419Z"
   },
   {
    "duration": 4,
    "start_time": "2025-03-21T18:59:44.457Z"
   },
   {
    "duration": 19,
    "start_time": "2025-03-21T18:59:44.462Z"
   },
   {
    "duration": 23,
    "start_time": "2025-03-21T18:59:44.482Z"
   },
   {
    "duration": 4,
    "start_time": "2025-03-21T18:59:44.506Z"
   },
   {
    "duration": 20,
    "start_time": "2025-03-21T18:59:44.511Z"
   },
   {
    "duration": 54,
    "start_time": "2025-03-21T18:59:44.533Z"
   },
   {
    "duration": 10,
    "start_time": "2025-03-21T18:59:44.589Z"
   },
   {
    "duration": 10,
    "start_time": "2025-03-21T18:59:44.601Z"
   },
   {
    "duration": 5028,
    "start_time": "2025-03-21T18:59:44.612Z"
   },
   {
    "duration": 71,
    "start_time": "2025-03-21T19:18:16.047Z"
   },
   {
    "duration": 3,
    "start_time": "2025-03-21T19:24:08.464Z"
   },
   {
    "duration": 51,
    "start_time": "2025-03-21T19:24:08.469Z"
   },
   {
    "duration": 9,
    "start_time": "2025-03-21T19:24:08.522Z"
   },
   {
    "duration": 11,
    "start_time": "2025-03-21T19:24:08.533Z"
   },
   {
    "duration": 1562,
    "start_time": "2025-03-21T19:24:08.546Z"
   },
   {
    "duration": 21,
    "start_time": "2025-03-21T19:24:10.110Z"
   },
   {
    "duration": 116,
    "start_time": "2025-03-21T19:24:10.132Z"
   },
   {
    "duration": 361,
    "start_time": "2025-03-21T19:24:10.250Z"
   },
   {
    "duration": 9,
    "start_time": "2025-03-21T19:24:10.613Z"
   },
   {
    "duration": 54,
    "start_time": "2025-03-21T19:24:10.624Z"
   },
   {
    "duration": 411,
    "start_time": "2025-03-21T19:24:10.682Z"
   },
   {
    "duration": 7,
    "start_time": "2025-03-21T19:24:11.095Z"
   },
   {
    "duration": 19,
    "start_time": "2025-03-21T19:24:11.104Z"
   },
   {
    "duration": 739,
    "start_time": "2025-03-21T19:24:11.125Z"
   },
   {
    "duration": 11,
    "start_time": "2025-03-21T19:24:11.866Z"
   },
   {
    "duration": 24,
    "start_time": "2025-03-21T19:24:11.878Z"
   },
   {
    "duration": 114,
    "start_time": "2025-03-21T19:24:11.904Z"
   },
   {
    "duration": 12,
    "start_time": "2025-03-21T19:24:12.020Z"
   },
   {
    "duration": 7,
    "start_time": "2025-03-21T19:24:12.034Z"
   },
   {
    "duration": 11,
    "start_time": "2025-03-21T19:24:12.058Z"
   },
   {
    "duration": 105,
    "start_time": "2025-03-21T19:24:12.071Z"
   },
   {
    "duration": 142,
    "start_time": "2025-03-21T19:24:12.178Z"
   },
   {
    "duration": 77,
    "start_time": "2025-03-21T19:24:12.322Z"
   },
   {
    "duration": 19,
    "start_time": "2025-03-21T19:24:12.401Z"
   },
   {
    "duration": 37,
    "start_time": "2025-03-21T19:24:12.421Z"
   },
   {
    "duration": 16,
    "start_time": "2025-03-21T19:24:12.460Z"
   },
   {
    "duration": 2,
    "start_time": "2025-03-21T19:24:12.478Z"
   },
   {
    "duration": 49,
    "start_time": "2025-03-21T19:24:12.482Z"
   },
   {
    "duration": 11,
    "start_time": "2025-03-21T19:24:12.534Z"
   },
   {
    "duration": 191,
    "start_time": "2025-03-21T19:24:12.558Z"
   },
   {
    "duration": 14,
    "start_time": "2025-03-21T19:24:12.751Z"
   },
   {
    "duration": 8,
    "start_time": "2025-03-21T19:24:12.767Z"
   },
   {
    "duration": 10,
    "start_time": "2025-03-21T19:24:12.776Z"
   },
   {
    "duration": 95,
    "start_time": "2025-03-21T19:24:12.788Z"
   },
   {
    "duration": 33,
    "start_time": "2025-03-21T19:24:12.885Z"
   },
   {
    "duration": 15,
    "start_time": "2025-03-21T19:24:12.920Z"
   },
   {
    "duration": 90,
    "start_time": "2025-03-21T19:24:12.959Z"
   },
   {
    "duration": 64,
    "start_time": "2025-03-21T19:24:13.058Z"
   },
   {
    "duration": 80,
    "start_time": "2025-03-21T19:24:13.124Z"
   },
   {
    "duration": 9,
    "start_time": "2025-03-21T19:24:13.206Z"
   },
   {
    "duration": 65,
    "start_time": "2025-03-21T19:24:13.216Z"
   },
   {
    "duration": 13,
    "start_time": "2025-03-21T19:24:13.283Z"
   },
   {
    "duration": 32,
    "start_time": "2025-03-21T19:24:13.297Z"
   },
   {
    "duration": 42,
    "start_time": "2025-03-21T19:24:13.331Z"
   },
   {
    "duration": 4,
    "start_time": "2025-03-21T19:24:13.375Z"
   },
   {
    "duration": 42,
    "start_time": "2025-03-21T19:24:13.381Z"
   },
   {
    "duration": 26,
    "start_time": "2025-03-21T19:24:13.425Z"
   },
   {
    "duration": 4,
    "start_time": "2025-03-21T19:24:13.453Z"
   },
   {
    "duration": 21,
    "start_time": "2025-03-21T19:24:13.459Z"
   },
   {
    "duration": 30,
    "start_time": "2025-03-21T19:24:13.482Z"
   },
   {
    "duration": 12,
    "start_time": "2025-03-21T19:24:13.514Z"
   },
   {
    "duration": 32,
    "start_time": "2025-03-21T19:24:13.527Z"
   },
   {
    "duration": 4287,
    "start_time": "2025-03-21T19:24:13.560Z"
   },
   {
    "duration": 92,
    "start_time": "2025-03-21T19:24:50.271Z"
   },
   {
    "duration": 94,
    "start_time": "2025-03-21T19:24:57.891Z"
   },
   {
    "duration": 58,
    "start_time": "2025-03-21T19:24:57.987Z"
   },
   {
    "duration": 17,
    "start_time": "2025-03-21T19:24:58.047Z"
   },
   {
    "duration": 115,
    "start_time": "2025-03-21T19:24:58.067Z"
   },
   {
    "duration": 0,
    "start_time": "2025-03-21T19:24:58.184Z"
   },
   {
    "duration": 0,
    "start_time": "2025-03-21T19:24:58.186Z"
   },
   {
    "duration": 0,
    "start_time": "2025-03-21T19:24:58.187Z"
   },
   {
    "duration": 0,
    "start_time": "2025-03-21T19:24:58.188Z"
   },
   {
    "duration": 0,
    "start_time": "2025-03-21T19:24:58.190Z"
   },
   {
    "duration": 0,
    "start_time": "2025-03-21T19:24:58.191Z"
   },
   {
    "duration": 0,
    "start_time": "2025-03-21T19:24:58.193Z"
   },
   {
    "duration": 0,
    "start_time": "2025-03-21T19:24:58.194Z"
   },
   {
    "duration": 0,
    "start_time": "2025-03-21T19:24:58.196Z"
   },
   {
    "duration": 0,
    "start_time": "2025-03-21T19:24:58.197Z"
   },
   {
    "duration": 0,
    "start_time": "2025-03-21T19:24:58.198Z"
   },
   {
    "duration": 0,
    "start_time": "2025-03-21T19:24:58.200Z"
   },
   {
    "duration": 0,
    "start_time": "2025-03-21T19:24:58.201Z"
   },
   {
    "duration": 0,
    "start_time": "2025-03-21T19:24:58.202Z"
   },
   {
    "duration": 0,
    "start_time": "2025-03-21T19:24:58.204Z"
   },
   {
    "duration": 0,
    "start_time": "2025-03-21T19:24:58.205Z"
   },
   {
    "duration": 1125,
    "start_time": "2025-03-21T19:25:47.536Z"
   },
   {
    "duration": 49,
    "start_time": "2025-03-21T19:25:48.663Z"
   },
   {
    "duration": 13,
    "start_time": "2025-03-21T19:25:48.714Z"
   },
   {
    "duration": 14,
    "start_time": "2025-03-21T19:25:48.729Z"
   },
   {
    "duration": 1077,
    "start_time": "2025-03-21T19:25:48.746Z"
   },
   {
    "duration": 22,
    "start_time": "2025-03-21T19:25:49.825Z"
   },
   {
    "duration": 106,
    "start_time": "2025-03-21T19:25:49.848Z"
   },
   {
    "duration": 361,
    "start_time": "2025-03-21T19:25:49.956Z"
   },
   {
    "duration": 8,
    "start_time": "2025-03-21T19:25:50.319Z"
   },
   {
    "duration": 42,
    "start_time": "2025-03-21T19:25:50.328Z"
   },
   {
    "duration": 175,
    "start_time": "2025-03-21T19:25:50.372Z"
   },
   {
    "duration": 8,
    "start_time": "2025-03-21T19:25:50.549Z"
   },
   {
    "duration": 23,
    "start_time": "2025-03-21T19:25:50.558Z"
   },
   {
    "duration": 192,
    "start_time": "2025-03-21T19:25:50.585Z"
   },
   {
    "duration": 8,
    "start_time": "2025-03-21T19:25:50.779Z"
   },
   {
    "duration": 32,
    "start_time": "2025-03-21T19:25:50.789Z"
   },
   {
    "duration": 145,
    "start_time": "2025-03-21T19:25:50.823Z"
   },
   {
    "duration": 11,
    "start_time": "2025-03-21T19:25:50.970Z"
   },
   {
    "duration": 23,
    "start_time": "2025-03-21T19:25:50.983Z"
   },
   {
    "duration": 18,
    "start_time": "2025-03-21T19:25:51.008Z"
   },
   {
    "duration": 141,
    "start_time": "2025-03-21T19:25:51.029Z"
   },
   {
    "duration": 179,
    "start_time": "2025-03-21T19:25:51.171Z"
   },
   {
    "duration": 74,
    "start_time": "2025-03-21T19:25:51.352Z"
   },
   {
    "duration": 17,
    "start_time": "2025-03-21T19:25:51.428Z"
   },
   {
    "duration": 24,
    "start_time": "2025-03-21T19:25:51.446Z"
   },
   {
    "duration": 31,
    "start_time": "2025-03-21T19:25:51.472Z"
   },
   {
    "duration": 11,
    "start_time": "2025-03-21T19:25:51.505Z"
   },
   {
    "duration": 28,
    "start_time": "2025-03-21T19:25:51.518Z"
   },
   {
    "duration": 12,
    "start_time": "2025-03-21T19:25:51.558Z"
   },
   {
    "duration": 241,
    "start_time": "2025-03-21T19:25:51.571Z"
   },
   {
    "duration": 8,
    "start_time": "2025-03-21T19:25:51.814Z"
   },
   {
    "duration": 7,
    "start_time": "2025-03-21T19:25:51.824Z"
   },
   {
    "duration": 32,
    "start_time": "2025-03-21T19:25:51.833Z"
   },
   {
    "duration": 114,
    "start_time": "2025-03-21T19:25:51.867Z"
   },
   {
    "duration": 57,
    "start_time": "2025-03-21T19:25:51.982Z"
   },
   {
    "duration": 27,
    "start_time": "2025-03-21T19:25:52.040Z"
   },
   {
    "duration": 97,
    "start_time": "2025-03-21T19:25:52.069Z"
   },
   {
    "duration": 158,
    "start_time": "2025-03-21T19:25:52.168Z"
   },
   {
    "duration": 130,
    "start_time": "2025-03-21T19:25:52.327Z"
   },
   {
    "duration": 12,
    "start_time": "2025-03-21T19:25:52.459Z"
   },
   {
    "duration": 116,
    "start_time": "2025-03-21T19:25:52.475Z"
   },
   {
    "duration": 9,
    "start_time": "2025-03-21T19:25:52.593Z"
   },
   {
    "duration": 46,
    "start_time": "2025-03-21T19:25:52.604Z"
   },
   {
    "duration": 27,
    "start_time": "2025-03-21T19:25:52.651Z"
   },
   {
    "duration": 3,
    "start_time": "2025-03-21T19:25:52.680Z"
   },
   {
    "duration": 34,
    "start_time": "2025-03-21T19:25:52.684Z"
   },
   {
    "duration": 20,
    "start_time": "2025-03-21T19:25:52.720Z"
   },
   {
    "duration": 4,
    "start_time": "2025-03-21T19:25:52.742Z"
   },
   {
    "duration": 48,
    "start_time": "2025-03-21T19:25:52.747Z"
   },
   {
    "duration": 33,
    "start_time": "2025-03-21T19:25:52.797Z"
   },
   {
    "duration": 11,
    "start_time": "2025-03-21T19:25:52.831Z"
   },
   {
    "duration": 11,
    "start_time": "2025-03-21T19:25:52.844Z"
   },
   {
    "duration": 3882,
    "start_time": "2025-03-21T19:25:52.856Z"
   },
   {
    "duration": 34,
    "start_time": "2025-03-21T19:31:16.389Z"
   },
   {
    "duration": 26,
    "start_time": "2025-03-21T19:37:32.648Z"
   },
   {
    "duration": 28,
    "start_time": "2025-03-21T19:43:38.838Z"
   },
   {
    "duration": 27,
    "start_time": "2025-03-21T19:46:15.856Z"
   },
   {
    "duration": 37,
    "start_time": "2025-03-21T19:47:15.259Z"
   },
   {
    "duration": 243,
    "start_time": "2025-03-21T19:51:09.846Z"
   },
   {
    "duration": 201,
    "start_time": "2025-03-21T19:52:15.577Z"
   },
   {
    "duration": 257,
    "start_time": "2025-03-21T19:54:06.497Z"
   },
   {
    "duration": 202,
    "start_time": "2025-03-21T19:54:21.822Z"
   },
   {
    "duration": 212,
    "start_time": "2025-03-21T19:54:30.870Z"
   },
   {
    "duration": 195,
    "start_time": "2025-03-21T19:54:33.039Z"
   },
   {
    "duration": 59,
    "start_time": "2025-03-21T19:55:14.346Z"
   },
   {
    "duration": 49,
    "start_time": "2025-03-21T20:16:51.263Z"
   },
   {
    "duration": 50,
    "start_time": "2025-03-21T20:17:20.428Z"
   },
   {
    "duration": 11,
    "start_time": "2025-03-21T20:17:42.024Z"
   },
   {
    "duration": 1058,
    "start_time": "2025-03-21T20:18:56.902Z"
   },
   {
    "duration": 59,
    "start_time": "2025-03-21T20:18:57.962Z"
   },
   {
    "duration": 11,
    "start_time": "2025-03-21T20:18:58.022Z"
   },
   {
    "duration": 12,
    "start_time": "2025-03-21T20:18:58.035Z"
   },
   {
    "duration": 956,
    "start_time": "2025-03-21T20:18:58.048Z"
   },
   {
    "duration": 23,
    "start_time": "2025-03-21T20:18:59.005Z"
   },
   {
    "duration": 110,
    "start_time": "2025-03-21T20:18:59.029Z"
   },
   {
    "duration": 283,
    "start_time": "2025-03-21T20:18:59.141Z"
   },
   {
    "duration": 8,
    "start_time": "2025-03-21T20:18:59.425Z"
   },
   {
    "duration": 48,
    "start_time": "2025-03-21T20:18:59.435Z"
   },
   {
    "duration": 205,
    "start_time": "2025-03-21T20:18:59.485Z"
   },
   {
    "duration": 7,
    "start_time": "2025-03-21T20:18:59.692Z"
   },
   {
    "duration": 17,
    "start_time": "2025-03-21T20:18:59.701Z"
   },
   {
    "duration": 228,
    "start_time": "2025-03-21T20:18:59.720Z"
   },
   {
    "duration": 8,
    "start_time": "2025-03-21T20:18:59.950Z"
   },
   {
    "duration": 23,
    "start_time": "2025-03-21T20:18:59.960Z"
   },
   {
    "duration": 102,
    "start_time": "2025-03-21T20:18:59.984Z"
   },
   {
    "duration": 11,
    "start_time": "2025-03-21T20:19:00.087Z"
   },
   {
    "duration": 22,
    "start_time": "2025-03-21T20:19:00.099Z"
   },
   {
    "duration": 51,
    "start_time": "2025-03-21T20:19:00.122Z"
   },
   {
    "duration": 101,
    "start_time": "2025-03-21T20:19:00.175Z"
   },
   {
    "duration": 151,
    "start_time": "2025-03-21T20:19:00.277Z"
   },
   {
    "duration": 77,
    "start_time": "2025-03-21T20:19:00.429Z"
   },
   {
    "duration": 18,
    "start_time": "2025-03-21T20:19:00.507Z"
   },
   {
    "duration": 23,
    "start_time": "2025-03-21T20:19:00.526Z"
   },
   {
    "duration": 21,
    "start_time": "2025-03-21T20:19:00.550Z"
   },
   {
    "duration": 3,
    "start_time": "2025-03-21T20:19:00.573Z"
   },
   {
    "duration": 28,
    "start_time": "2025-03-21T20:19:00.579Z"
   },
   {
    "duration": 11,
    "start_time": "2025-03-21T20:19:00.609Z"
   },
   {
    "duration": 208,
    "start_time": "2025-03-21T20:19:00.621Z"
   },
   {
    "duration": 8,
    "start_time": "2025-03-21T20:19:00.831Z"
   },
   {
    "duration": 18,
    "start_time": "2025-03-21T20:19:00.840Z"
   },
   {
    "duration": 52,
    "start_time": "2025-03-21T20:19:00.859Z"
   },
   {
    "duration": 88,
    "start_time": "2025-03-21T20:19:00.913Z"
   },
   {
    "duration": 65,
    "start_time": "2025-03-21T20:19:01.002Z"
   },
   {
    "duration": 14,
    "start_time": "2025-03-21T20:19:01.068Z"
   },
   {
    "duration": 97,
    "start_time": "2025-03-21T20:19:01.083Z"
   },
   {
    "duration": 159,
    "start_time": "2025-03-21T20:19:01.181Z"
   },
   {
    "duration": 131,
    "start_time": "2025-03-21T20:19:01.341Z"
   },
   {
    "duration": 11,
    "start_time": "2025-03-21T20:19:01.473Z"
   },
   {
    "duration": 100,
    "start_time": "2025-03-21T20:19:01.486Z"
   },
   {
    "duration": 41,
    "start_time": "2025-03-21T20:19:01.587Z"
   },
   {
    "duration": 43,
    "start_time": "2025-03-21T20:19:01.629Z"
   },
   {
    "duration": 20,
    "start_time": "2025-03-21T20:19:01.673Z"
   },
   {
    "duration": 3,
    "start_time": "2025-03-21T20:19:01.694Z"
   },
   {
    "duration": 43,
    "start_time": "2025-03-21T20:19:01.699Z"
   },
   {
    "duration": 20,
    "start_time": "2025-03-21T20:19:01.744Z"
   },
   {
    "duration": 6,
    "start_time": "2025-03-21T20:19:01.766Z"
   },
   {
    "duration": 20,
    "start_time": "2025-03-21T20:19:01.774Z"
   },
   {
    "duration": 23,
    "start_time": "2025-03-21T20:19:01.795Z"
   },
   {
    "duration": 10,
    "start_time": "2025-03-21T20:19:01.820Z"
   },
   {
    "duration": 34,
    "start_time": "2025-03-21T20:19:01.831Z"
   },
   {
    "duration": 312,
    "start_time": "2025-03-21T20:19:01.866Z"
   },
   {
    "duration": 246,
    "start_time": "2025-03-21T20:19:02.179Z"
   },
   {
    "duration": 219,
    "start_time": "2025-03-21T20:19:02.426Z"
   },
   {
    "duration": 60,
    "start_time": "2025-03-21T20:19:02.646Z"
   },
   {
    "duration": 10,
    "start_time": "2025-03-21T20:19:02.707Z"
   },
   {
    "duration": 3930,
    "start_time": "2025-03-21T20:19:02.719Z"
   },
   {
    "duration": 22,
    "start_time": "2025-03-21T20:28:20.339Z"
   },
   {
    "duration": 11,
    "start_time": "2025-03-21T20:28:28.496Z"
   },
   {
    "duration": 21,
    "start_time": "2025-03-21T20:30:09.114Z"
   },
   {
    "duration": 20,
    "start_time": "2025-03-21T20:30:22.929Z"
   },
   {
    "duration": 71,
    "start_time": "2025-03-21T20:30:28.853Z"
   },
   {
    "duration": 16,
    "start_time": "2025-03-21T20:32:19.290Z"
   },
   {
    "duration": 20,
    "start_time": "2025-03-21T20:32:25.212Z"
   },
   {
    "duration": 3,
    "start_time": "2025-03-21T20:33:30.855Z"
   },
   {
    "duration": 20,
    "start_time": "2025-03-21T20:33:33.537Z"
   },
   {
    "duration": 1091,
    "start_time": "2025-03-21T20:33:52.164Z"
   },
   {
    "duration": 57,
    "start_time": "2025-03-21T20:33:53.258Z"
   },
   {
    "duration": 11,
    "start_time": "2025-03-21T20:33:53.316Z"
   },
   {
    "duration": 11,
    "start_time": "2025-03-21T20:33:53.328Z"
   },
   {
    "duration": 1266,
    "start_time": "2025-03-21T20:33:53.341Z"
   },
   {
    "duration": 23,
    "start_time": "2025-03-21T20:33:54.609Z"
   },
   {
    "duration": 104,
    "start_time": "2025-03-21T20:33:54.633Z"
   },
   {
    "duration": 356,
    "start_time": "2025-03-21T20:33:54.738Z"
   },
   {
    "duration": 8,
    "start_time": "2025-03-21T20:33:55.096Z"
   },
   {
    "duration": 52,
    "start_time": "2025-03-21T20:33:55.106Z"
   },
   {
    "duration": 292,
    "start_time": "2025-03-21T20:33:55.159Z"
   },
   {
    "duration": 7,
    "start_time": "2025-03-21T20:33:55.453Z"
   },
   {
    "duration": 19,
    "start_time": "2025-03-21T20:33:55.461Z"
   },
   {
    "duration": 252,
    "start_time": "2025-03-21T20:33:55.482Z"
   },
   {
    "duration": 8,
    "start_time": "2025-03-21T20:33:55.736Z"
   },
   {
    "duration": 32,
    "start_time": "2025-03-21T20:33:55.745Z"
   },
   {
    "duration": 101,
    "start_time": "2025-03-21T20:33:55.779Z"
   },
   {
    "duration": 9,
    "start_time": "2025-03-21T20:33:55.882Z"
   },
   {
    "duration": 8,
    "start_time": "2025-03-21T20:33:55.892Z"
   },
   {
    "duration": 12,
    "start_time": "2025-03-21T20:33:55.902Z"
   },
   {
    "duration": 107,
    "start_time": "2025-03-21T20:33:55.916Z"
   },
   {
    "duration": 160,
    "start_time": "2025-03-21T20:33:56.025Z"
   },
   {
    "duration": 80,
    "start_time": "2025-03-21T20:33:56.187Z"
   },
   {
    "duration": 17,
    "start_time": "2025-03-21T20:33:56.269Z"
   },
   {
    "duration": 16,
    "start_time": "2025-03-21T20:33:56.287Z"
   },
   {
    "duration": 13,
    "start_time": "2025-03-21T20:33:56.304Z"
   },
   {
    "duration": 2,
    "start_time": "2025-03-21T20:33:56.319Z"
   },
   {
    "duration": 52,
    "start_time": "2025-03-21T20:33:56.324Z"
   },
   {
    "duration": 11,
    "start_time": "2025-03-21T20:33:56.378Z"
   },
   {
    "duration": 193,
    "start_time": "2025-03-21T20:33:56.390Z"
   },
   {
    "duration": 8,
    "start_time": "2025-03-21T20:33:56.585Z"
   },
   {
    "duration": 11,
    "start_time": "2025-03-21T20:33:56.594Z"
   },
   {
    "duration": 25,
    "start_time": "2025-03-21T20:33:56.606Z"
   },
   {
    "duration": 93,
    "start_time": "2025-03-21T20:33:56.632Z"
   },
   {
    "duration": 59,
    "start_time": "2025-03-21T20:33:56.726Z"
   },
   {
    "duration": 14,
    "start_time": "2025-03-21T20:33:56.787Z"
   },
   {
    "duration": 89,
    "start_time": "2025-03-21T20:33:56.802Z"
   },
   {
    "duration": 143,
    "start_time": "2025-03-21T20:33:56.892Z"
   },
   {
    "duration": 127,
    "start_time": "2025-03-21T20:33:57.036Z"
   },
   {
    "duration": 11,
    "start_time": "2025-03-21T20:33:57.164Z"
   },
   {
    "duration": 106,
    "start_time": "2025-03-21T20:33:57.176Z"
   },
   {
    "duration": 40,
    "start_time": "2025-03-21T20:33:57.284Z"
   },
   {
    "duration": 42,
    "start_time": "2025-03-21T20:33:57.325Z"
   },
   {
    "duration": 21,
    "start_time": "2025-03-21T20:33:57.368Z"
   },
   {
    "duration": 3,
    "start_time": "2025-03-21T20:33:57.390Z"
   },
   {
    "duration": 18,
    "start_time": "2025-03-21T20:33:57.394Z"
   },
   {
    "duration": 46,
    "start_time": "2025-03-21T20:33:57.413Z"
   },
   {
    "duration": 5,
    "start_time": "2025-03-21T20:33:57.462Z"
   },
   {
    "duration": 22,
    "start_time": "2025-03-21T20:33:57.469Z"
   },
   {
    "duration": 6,
    "start_time": "2025-03-21T20:33:57.493Z"
   },
   {
    "duration": 22,
    "start_time": "2025-03-21T20:33:57.501Z"
   },
   {
    "duration": 47,
    "start_time": "2025-03-21T20:33:57.524Z"
   },
   {
    "duration": 11,
    "start_time": "2025-03-21T20:33:57.573Z"
   },
   {
    "duration": 12,
    "start_time": "2025-03-21T20:33:57.586Z"
   },
   {
    "duration": 239,
    "start_time": "2025-03-21T20:33:57.599Z"
   },
   {
    "duration": 229,
    "start_time": "2025-03-21T20:33:57.839Z"
   },
   {
    "duration": 191,
    "start_time": "2025-03-21T20:33:58.070Z"
   },
   {
    "duration": 54,
    "start_time": "2025-03-21T20:33:58.263Z"
   },
   {
    "duration": 11,
    "start_time": "2025-03-21T20:33:58.319Z"
   },
   {
    "duration": 33,
    "start_time": "2025-03-21T20:33:58.331Z"
   },
   {
    "duration": 11,
    "start_time": "2025-03-21T20:33:58.365Z"
   },
   {
    "duration": 4172,
    "start_time": "2025-03-21T20:33:58.378Z"
   },
   {
    "duration": 91,
    "start_time": "2025-03-21T20:50:32.835Z"
   },
   {
    "duration": 21,
    "start_time": "2025-03-21T20:51:28.680Z"
   },
   {
    "duration": 10,
    "start_time": "2025-03-21T20:51:30.835Z"
   },
   {
    "duration": 11,
    "start_time": "2025-03-21T20:51:36.846Z"
   },
   {
    "duration": 186,
    "start_time": "2025-03-21T20:51:41.360Z"
   },
   {
    "duration": 185,
    "start_time": "2025-03-21T20:51:43.471Z"
   },
   {
    "duration": 172,
    "start_time": "2025-03-21T20:51:46.319Z"
   },
   {
    "duration": 54,
    "start_time": "2025-03-21T20:51:48.696Z"
   },
   {
    "duration": 11,
    "start_time": "2025-03-21T20:52:04.183Z"
   },
   {
    "duration": 12,
    "start_time": "2025-03-21T20:52:17.641Z"
   },
   {
    "duration": 17,
    "start_time": "2025-03-21T20:52:35.478Z"
   },
   {
    "duration": 23,
    "start_time": "2025-03-21T20:53:09.002Z"
   },
   {
    "duration": 27,
    "start_time": "2025-03-21T20:57:07.138Z"
   },
   {
    "duration": 11,
    "start_time": "2025-03-21T20:57:14.409Z"
   },
   {
    "duration": 14,
    "start_time": "2025-03-21T20:57:19.855Z"
   },
   {
    "duration": 98,
    "start_time": "2025-03-21T20:58:49.175Z"
   },
   {
    "duration": 82,
    "start_time": "2025-03-21T20:59:00.714Z"
   },
   {
    "duration": 11,
    "start_time": "2025-03-21T20:59:08.307Z"
   },
   {
    "duration": 20,
    "start_time": "2025-03-21T21:03:18.859Z"
   },
   {
    "duration": 12,
    "start_time": "2025-03-21T21:03:20.809Z"
   },
   {
    "duration": 1262,
    "start_time": "2025-03-22T09:52:21.283Z"
   },
   {
    "duration": 115,
    "start_time": "2025-03-22T09:52:22.547Z"
   },
   {
    "duration": 13,
    "start_time": "2025-03-22T09:52:22.663Z"
   },
   {
    "duration": 30,
    "start_time": "2025-03-22T09:52:22.678Z"
   },
   {
    "duration": 1131,
    "start_time": "2025-03-22T09:52:22.710Z"
   },
   {
    "duration": 23,
    "start_time": "2025-03-22T09:52:23.843Z"
   },
   {
    "duration": 91,
    "start_time": "2025-03-22T09:52:23.867Z"
   },
   {
    "duration": 403,
    "start_time": "2025-03-22T09:52:23.960Z"
   },
   {
    "duration": 8,
    "start_time": "2025-03-22T09:52:24.364Z"
   },
   {
    "duration": 56,
    "start_time": "2025-03-22T09:52:24.375Z"
   },
   {
    "duration": 233,
    "start_time": "2025-03-22T09:52:24.432Z"
   },
   {
    "duration": 7,
    "start_time": "2025-03-22T09:52:24.666Z"
   },
   {
    "duration": 54,
    "start_time": "2025-03-22T09:52:24.675Z"
   },
   {
    "duration": 234,
    "start_time": "2025-03-22T09:52:24.731Z"
   },
   {
    "duration": 7,
    "start_time": "2025-03-22T09:52:24.967Z"
   },
   {
    "duration": 48,
    "start_time": "2025-03-22T09:52:24.975Z"
   },
   {
    "duration": 99,
    "start_time": "2025-03-22T09:52:25.024Z"
   },
   {
    "duration": 8,
    "start_time": "2025-03-22T09:52:25.124Z"
   },
   {
    "duration": 16,
    "start_time": "2025-03-22T09:52:25.133Z"
   },
   {
    "duration": 34,
    "start_time": "2025-03-22T09:52:25.150Z"
   },
   {
    "duration": 105,
    "start_time": "2025-03-22T09:52:25.186Z"
   },
   {
    "duration": 134,
    "start_time": "2025-03-22T09:52:25.292Z"
   },
   {
    "duration": 64,
    "start_time": "2025-03-22T09:52:25.428Z"
   },
   {
    "duration": 14,
    "start_time": "2025-03-22T09:52:25.494Z"
   },
   {
    "duration": 33,
    "start_time": "2025-03-22T09:52:25.509Z"
   },
   {
    "duration": 28,
    "start_time": "2025-03-22T09:52:25.543Z"
   },
   {
    "duration": 46,
    "start_time": "2025-03-22T09:52:25.573Z"
   },
   {
    "duration": 28,
    "start_time": "2025-03-22T09:52:25.623Z"
   },
   {
    "duration": 22,
    "start_time": "2025-03-22T09:52:25.652Z"
   },
   {
    "duration": 231,
    "start_time": "2025-03-22T09:52:25.675Z"
   },
   {
    "duration": 7,
    "start_time": "2025-03-22T09:52:25.907Z"
   },
   {
    "duration": 68,
    "start_time": "2025-03-22T09:52:25.915Z"
   },
   {
    "duration": 7,
    "start_time": "2025-03-22T09:52:25.984Z"
   },
   {
    "duration": 75,
    "start_time": "2025-03-22T09:52:25.992Z"
   },
   {
    "duration": 46,
    "start_time": "2025-03-22T09:52:26.069Z"
   },
   {
    "duration": 121,
    "start_time": "2025-03-22T09:52:26.116Z"
   },
   {
    "duration": 136,
    "start_time": "2025-03-22T09:52:26.238Z"
   },
   {
    "duration": 117,
    "start_time": "2025-03-22T09:52:26.375Z"
   },
   {
    "duration": 125,
    "start_time": "2025-03-22T09:52:26.493Z"
   },
   {
    "duration": 10,
    "start_time": "2025-03-22T09:52:26.620Z"
   },
   {
    "duration": 111,
    "start_time": "2025-03-22T09:52:26.631Z"
   },
   {
    "duration": 40,
    "start_time": "2025-03-22T09:52:26.744Z"
   },
   {
    "duration": 30,
    "start_time": "2025-03-22T09:52:26.785Z"
   },
   {
    "duration": 124,
    "start_time": "2025-03-22T09:52:26.816Z"
   },
   {
    "duration": 4,
    "start_time": "2025-03-22T09:52:26.941Z"
   },
   {
    "duration": 20,
    "start_time": "2025-03-22T09:52:26.946Z"
   },
   {
    "duration": 26,
    "start_time": "2025-03-22T09:52:26.967Z"
   },
   {
    "duration": 3,
    "start_time": "2025-03-22T09:52:26.994Z"
   },
   {
    "duration": 23,
    "start_time": "2025-03-22T09:52:26.998Z"
   },
   {
    "duration": 2,
    "start_time": "2025-03-22T09:52:27.022Z"
   },
   {
    "duration": 26,
    "start_time": "2025-03-22T09:52:27.026Z"
   },
   {
    "duration": 64,
    "start_time": "2025-03-22T09:52:27.053Z"
   },
   {
    "duration": 19,
    "start_time": "2025-03-22T09:52:27.118Z"
   },
   {
    "duration": 19,
    "start_time": "2025-03-22T09:52:27.139Z"
   },
   {
    "duration": 16,
    "start_time": "2025-03-22T09:52:27.159Z"
   },
   {
    "duration": 223,
    "start_time": "2025-03-22T09:52:27.176Z"
   },
   {
    "duration": 183,
    "start_time": "2025-03-22T09:52:27.400Z"
   },
   {
    "duration": 168,
    "start_time": "2025-03-22T09:52:27.584Z"
   },
   {
    "duration": 45,
    "start_time": "2025-03-22T09:52:27.756Z"
   },
   {
    "duration": 23,
    "start_time": "2025-03-22T09:52:27.803Z"
   },
   {
    "duration": 29,
    "start_time": "2025-03-22T09:52:27.827Z"
   },
   {
    "duration": 9,
    "start_time": "2025-03-22T09:52:27.858Z"
   },
   {
    "duration": 10,
    "start_time": "2025-03-22T09:52:27.869Z"
   },
   {
    "duration": 21,
    "start_time": "2025-03-22T09:52:27.880Z"
   },
   {
    "duration": 19,
    "start_time": "2025-03-22T09:52:27.902Z"
   },
   {
    "duration": 39,
    "start_time": "2025-03-22T09:52:27.923Z"
   },
   {
    "duration": 11,
    "start_time": "2025-03-22T09:52:27.963Z"
   },
   {
    "duration": 5273,
    "start_time": "2025-03-22T09:52:27.975Z"
   },
   {
    "duration": 108,
    "start_time": "2025-03-22T09:55:53.658Z"
   },
   {
    "duration": 30,
    "start_time": "2025-03-22T09:57:17.237Z"
   },
   {
    "duration": 12,
    "start_time": "2025-03-22T10:12:36.640Z"
   },
   {
    "duration": 10,
    "start_time": "2025-03-22T10:14:25.232Z"
   },
   {
    "duration": 84,
    "start_time": "2025-03-22T10:15:52.562Z"
   },
   {
    "duration": 502,
    "start_time": "2025-03-22T10:17:37.709Z"
   },
   {
    "duration": 85,
    "start_time": "2025-03-22T10:18:11.636Z"
   },
   {
    "duration": 24,
    "start_time": "2025-03-22T10:18:49.000Z"
   },
   {
    "duration": 8,
    "start_time": "2025-03-22T10:19:25.211Z"
   },
   {
    "duration": 63,
    "start_time": "2025-03-22T10:19:29.883Z"
   },
   {
    "duration": 21,
    "start_time": "2025-03-22T10:19:36.779Z"
   },
   {
    "duration": 78,
    "start_time": "2025-03-22T10:23:45.925Z"
   },
   {
    "duration": 161,
    "start_time": "2025-03-22T10:23:59.511Z"
   },
   {
    "duration": 92,
    "start_time": "2025-03-22T10:24:01.718Z"
   },
   {
    "duration": 167,
    "start_time": "2025-03-22T10:26:25.024Z"
   },
   {
    "duration": 93,
    "start_time": "2025-03-22T10:26:28.071Z"
   },
   {
    "duration": 163,
    "start_time": "2025-03-22T10:26:33.103Z"
   },
   {
    "duration": 109,
    "start_time": "2025-03-22T10:26:34.820Z"
   },
   {
    "duration": 88,
    "start_time": "2025-03-22T10:27:05.310Z"
   },
   {
    "duration": 86,
    "start_time": "2025-03-22T10:27:07.392Z"
   },
   {
    "duration": 164,
    "start_time": "2025-03-22T10:27:15.721Z"
   },
   {
    "duration": 89,
    "start_time": "2025-03-22T10:27:17.509Z"
   },
   {
    "duration": 12,
    "start_time": "2025-03-22T10:30:14.132Z"
   },
   {
    "duration": 5,
    "start_time": "2025-03-22T10:30:47.663Z"
   },
   {
    "duration": 6,
    "start_time": "2025-03-22T10:37:10.512Z"
   },
   {
    "duration": 26,
    "start_time": "2025-03-22T10:37:36.867Z"
   },
   {
    "duration": 216,
    "start_time": "2025-03-22T10:39:52.212Z"
   },
   {
    "duration": 196,
    "start_time": "2025-03-22T10:40:25.467Z"
   },
   {
    "duration": 125,
    "start_time": "2025-03-22T10:40:46.864Z"
   },
   {
    "duration": 171,
    "start_time": "2025-03-22T10:40:53.986Z"
   },
   {
    "duration": 209,
    "start_time": "2025-03-22T10:40:59.322Z"
   },
   {
    "duration": 10,
    "start_time": "2025-03-22T10:43:11.622Z"
   },
   {
    "duration": 223,
    "start_time": "2025-03-22T10:43:20.262Z"
   },
   {
    "duration": 12,
    "start_time": "2025-03-22T10:43:43.445Z"
   },
   {
    "duration": 112,
    "start_time": "2025-03-22T10:44:21.300Z"
   },
   {
    "duration": 449,
    "start_time": "2025-03-22T10:46:52.751Z"
   },
   {
    "duration": 222,
    "start_time": "2025-03-22T10:51:54.549Z"
   },
   {
    "duration": 91,
    "start_time": "2025-03-22T10:52:35.926Z"
   },
   {
    "duration": 113,
    "start_time": "2025-03-22T10:52:59.492Z"
   },
   {
    "duration": 117,
    "start_time": "2025-03-22T10:53:15.165Z"
   },
   {
    "duration": 8,
    "start_time": "2025-03-22T10:53:57.361Z"
   },
   {
    "duration": 7,
    "start_time": "2025-03-22T10:54:02.347Z"
   },
   {
    "duration": 124,
    "start_time": "2025-03-22T10:55:57.040Z"
   },
   {
    "duration": 92,
    "start_time": "2025-03-22T10:56:17.981Z"
   },
   {
    "duration": 117,
    "start_time": "2025-03-22T10:57:29.101Z"
   },
   {
    "duration": 108,
    "start_time": "2025-03-22T10:57:41.440Z"
   },
   {
    "duration": 88,
    "start_time": "2025-03-22T10:57:55.593Z"
   },
   {
    "duration": 259,
    "start_time": "2025-03-22T11:41:44.601Z"
   },
   {
    "duration": 6,
    "start_time": "2025-03-22T11:41:46.866Z"
   },
   {
    "duration": 28,
    "start_time": "2025-03-22T11:41:49.221Z"
   },
   {
    "duration": 10,
    "start_time": "2025-03-22T11:42:19.843Z"
   },
   {
    "duration": 123,
    "start_time": "2025-03-22T11:42:21.859Z"
   },
   {
    "duration": 165,
    "start_time": "2025-03-22T11:42:24.045Z"
   },
   {
    "duration": 8,
    "start_time": "2025-03-22T11:42:26.289Z"
   },
   {
    "duration": 9,
    "start_time": "2025-03-22T11:43:42.368Z"
   },
   {
    "duration": 19,
    "start_time": "2025-03-22T11:45:21.923Z"
   },
   {
    "duration": 11,
    "start_time": "2025-03-22T11:49:52.670Z"
   },
   {
    "duration": 10,
    "start_time": "2025-03-22T11:49:59.497Z"
   },
   {
    "duration": 80,
    "start_time": "2025-03-22T11:50:13.294Z"
   },
   {
    "duration": 85,
    "start_time": "2025-03-22T11:50:23.011Z"
   },
   {
    "duration": 99,
    "start_time": "2025-03-22T11:50:33.633Z"
   },
   {
    "duration": 12,
    "start_time": "2025-03-22T11:51:10.560Z"
   },
   {
    "duration": 13,
    "start_time": "2025-03-22T11:54:57.819Z"
   },
   {
    "duration": 9,
    "start_time": "2025-03-22T11:55:45.699Z"
   },
   {
    "duration": 8,
    "start_time": "2025-03-22T11:56:43.403Z"
   },
   {
    "duration": 9,
    "start_time": "2025-03-22T11:57:00.904Z"
   },
   {
    "duration": 8,
    "start_time": "2025-03-22T12:02:33.060Z"
   },
   {
    "duration": 8,
    "start_time": "2025-03-22T12:03:02.354Z"
   },
   {
    "duration": 8,
    "start_time": "2025-03-22T12:03:28.168Z"
   },
   {
    "duration": 8,
    "start_time": "2025-03-22T12:03:31.541Z"
   },
   {
    "duration": 7,
    "start_time": "2025-03-22T12:03:55.415Z"
   },
   {
    "duration": 6,
    "start_time": "2025-03-22T12:04:18.979Z"
   },
   {
    "duration": 6,
    "start_time": "2025-03-22T12:08:56.962Z"
   },
   {
    "duration": 5,
    "start_time": "2025-03-22T12:10:51.651Z"
   },
   {
    "duration": 5,
    "start_time": "2025-03-22T12:10:54.960Z"
   },
   {
    "duration": 5,
    "start_time": "2025-03-22T12:17:21.411Z"
   },
   {
    "duration": 4,
    "start_time": "2025-03-22T12:18:01.887Z"
   },
   {
    "duration": 5,
    "start_time": "2025-03-22T12:18:08.622Z"
   },
   {
    "duration": 6,
    "start_time": "2025-03-22T12:18:09.555Z"
   },
   {
    "duration": 5,
    "start_time": "2025-03-22T12:18:13.037Z"
   },
   {
    "duration": 5,
    "start_time": "2025-03-22T12:18:16.220Z"
   },
   {
    "duration": 5,
    "start_time": "2025-03-22T12:18:19.860Z"
   },
   {
    "duration": 22,
    "start_time": "2025-03-22T12:26:17.334Z"
   },
   {
    "duration": 29,
    "start_time": "2025-03-22T12:26:26.413Z"
   },
   {
    "duration": 25,
    "start_time": "2025-03-22T12:27:47.886Z"
   },
   {
    "duration": 13,
    "start_time": "2025-03-22T12:29:20.034Z"
   },
   {
    "duration": 7,
    "start_time": "2025-03-22T12:29:45.339Z"
   },
   {
    "duration": 23,
    "start_time": "2025-03-22T12:29:52.001Z"
   },
   {
    "duration": 12,
    "start_time": "2025-03-22T12:31:10.499Z"
   },
   {
    "duration": 16,
    "start_time": "2025-03-22T12:34:14.424Z"
   },
   {
    "duration": 10,
    "start_time": "2025-03-22T12:41:08.220Z"
   },
   {
    "duration": 15,
    "start_time": "2025-03-22T12:41:37.086Z"
   },
   {
    "duration": 7,
    "start_time": "2025-03-22T12:41:40.784Z"
   },
   {
    "duration": 14,
    "start_time": "2025-03-22T12:41:53.168Z"
   },
   {
    "duration": 15,
    "start_time": "2025-03-22T12:42:01.509Z"
   },
   {
    "duration": 10,
    "start_time": "2025-03-22T12:42:04.294Z"
   },
   {
    "duration": 8,
    "start_time": "2025-03-22T12:42:10.678Z"
   },
   {
    "duration": 7,
    "start_time": "2025-03-22T12:42:37.148Z"
   },
   {
    "duration": 9,
    "start_time": "2025-03-22T12:52:13.622Z"
   },
   {
    "duration": 10,
    "start_time": "2025-03-22T12:52:19.511Z"
   },
   {
    "duration": 11,
    "start_time": "2025-03-22T12:52:40.032Z"
   },
   {
    "duration": 115,
    "start_time": "2025-03-22T13:04:39.505Z"
   },
   {
    "duration": 113,
    "start_time": "2025-03-22T13:04:59.091Z"
   },
   {
    "duration": 112,
    "start_time": "2025-03-22T13:06:03.698Z"
   },
   {
    "duration": 116,
    "start_time": "2025-03-22T13:07:38.392Z"
   },
   {
    "duration": 985,
    "start_time": "2025-03-22T13:31:58.820Z"
   },
   {
    "duration": 102,
    "start_time": "2025-03-22T13:31:59.807Z"
   },
   {
    "duration": 9,
    "start_time": "2025-03-22T13:31:59.913Z"
   },
   {
    "duration": 10,
    "start_time": "2025-03-22T13:31:59.924Z"
   },
   {
    "duration": 1095,
    "start_time": "2025-03-22T13:31:59.935Z"
   },
   {
    "duration": 27,
    "start_time": "2025-03-22T13:32:01.032Z"
   },
   {
    "duration": 101,
    "start_time": "2025-03-22T13:32:01.061Z"
   },
   {
    "duration": 322,
    "start_time": "2025-03-22T13:32:01.164Z"
   },
   {
    "duration": 8,
    "start_time": "2025-03-22T13:32:01.489Z"
   },
   {
    "duration": 43,
    "start_time": "2025-03-22T13:32:01.498Z"
   },
   {
    "duration": 217,
    "start_time": "2025-03-22T13:32:01.543Z"
   },
   {
    "duration": 7,
    "start_time": "2025-03-22T13:32:01.761Z"
   },
   {
    "duration": 107,
    "start_time": "2025-03-22T13:32:01.769Z"
   },
   {
    "duration": 195,
    "start_time": "2025-03-22T13:32:01.877Z"
   },
   {
    "duration": 6,
    "start_time": "2025-03-22T13:32:02.074Z"
   },
   {
    "duration": 29,
    "start_time": "2025-03-22T13:32:02.081Z"
   },
   {
    "duration": 84,
    "start_time": "2025-03-22T13:32:02.111Z"
   },
   {
    "duration": 9,
    "start_time": "2025-03-22T13:32:02.197Z"
   },
   {
    "duration": 6,
    "start_time": "2025-03-22T13:32:02.207Z"
   },
   {
    "duration": 15,
    "start_time": "2025-03-22T13:32:02.214Z"
   },
   {
    "duration": 175,
    "start_time": "2025-03-22T13:32:02.230Z"
   },
   {
    "duration": 145,
    "start_time": "2025-03-22T13:32:02.406Z"
   },
   {
    "duration": 61,
    "start_time": "2025-03-22T13:32:02.553Z"
   },
   {
    "duration": 15,
    "start_time": "2025-03-22T13:32:02.615Z"
   },
   {
    "duration": 27,
    "start_time": "2025-03-22T13:32:02.632Z"
   },
   {
    "duration": 45,
    "start_time": "2025-03-22T13:32:02.660Z"
   },
   {
    "duration": 7,
    "start_time": "2025-03-22T13:32:02.709Z"
   },
   {
    "duration": 32,
    "start_time": "2025-03-22T13:32:02.717Z"
   },
   {
    "duration": 9,
    "start_time": "2025-03-22T13:32:02.751Z"
   },
   {
    "duration": 203,
    "start_time": "2025-03-22T13:32:02.761Z"
   },
   {
    "duration": 8,
    "start_time": "2025-03-22T13:32:02.965Z"
   },
   {
    "duration": 27,
    "start_time": "2025-03-22T13:32:02.974Z"
   },
   {
    "duration": 15,
    "start_time": "2025-03-22T13:32:03.002Z"
   },
   {
    "duration": 80,
    "start_time": "2025-03-22T13:32:03.018Z"
   },
   {
    "duration": 46,
    "start_time": "2025-03-22T13:32:03.099Z"
   },
   {
    "duration": 19,
    "start_time": "2025-03-22T13:32:03.155Z"
   },
   {
    "duration": 90,
    "start_time": "2025-03-22T13:32:03.175Z"
   },
   {
    "duration": 130,
    "start_time": "2025-03-22T13:32:03.267Z"
   },
   {
    "duration": 114,
    "start_time": "2025-03-22T13:32:03.399Z"
   },
   {
    "duration": 10,
    "start_time": "2025-03-22T13:32:03.515Z"
   },
   {
    "duration": 93,
    "start_time": "2025-03-22T13:32:03.526Z"
   },
   {
    "duration": 44,
    "start_time": "2025-03-22T13:32:03.620Z"
   },
   {
    "duration": 26,
    "start_time": "2025-03-22T13:32:03.665Z"
   },
   {
    "duration": 96,
    "start_time": "2025-03-22T13:32:03.693Z"
   },
   {
    "duration": 23,
    "start_time": "2025-03-22T13:32:03.790Z"
   },
   {
    "duration": 20,
    "start_time": "2025-03-22T13:32:03.814Z"
   },
   {
    "duration": 39,
    "start_time": "2025-03-22T13:32:03.835Z"
   },
   {
    "duration": 5,
    "start_time": "2025-03-22T13:32:03.876Z"
   },
   {
    "duration": 23,
    "start_time": "2025-03-22T13:32:03.882Z"
   },
   {
    "duration": 2,
    "start_time": "2025-03-22T13:32:03.907Z"
   },
   {
    "duration": 23,
    "start_time": "2025-03-22T13:32:03.910Z"
   },
   {
    "duration": 69,
    "start_time": "2025-03-22T13:32:03.934Z"
   },
   {
    "duration": 20,
    "start_time": "2025-03-22T13:32:04.004Z"
   },
   {
    "duration": 14,
    "start_time": "2025-03-22T13:32:04.026Z"
   },
   {
    "duration": 25,
    "start_time": "2025-03-22T13:32:04.041Z"
   },
   {
    "duration": 209,
    "start_time": "2025-03-22T13:32:04.067Z"
   },
   {
    "duration": 168,
    "start_time": "2025-03-22T13:32:04.277Z"
   },
   {
    "duration": 157,
    "start_time": "2025-03-22T13:32:04.446Z"
   },
   {
    "duration": 55,
    "start_time": "2025-03-22T13:32:04.604Z"
   },
   {
    "duration": 17,
    "start_time": "2025-03-22T13:32:04.661Z"
   },
   {
    "duration": 49,
    "start_time": "2025-03-22T13:32:04.679Z"
   },
   {
    "duration": 40,
    "start_time": "2025-03-22T13:32:04.729Z"
   },
   {
    "duration": 30,
    "start_time": "2025-03-22T13:32:04.770Z"
   },
   {
    "duration": 27,
    "start_time": "2025-03-22T13:32:04.802Z"
   },
   {
    "duration": 21,
    "start_time": "2025-03-22T13:32:04.830Z"
   },
   {
    "duration": 23,
    "start_time": "2025-03-22T13:32:04.852Z"
   },
   {
    "duration": 118,
    "start_time": "2025-03-22T13:32:04.876Z"
   },
   {
    "duration": 28,
    "start_time": "2025-03-22T13:32:04.996Z"
   },
   {
    "duration": 4444,
    "start_time": "2025-03-22T13:32:05.025Z"
   },
   {
    "duration": 11,
    "start_time": "2025-03-22T13:32:09.471Z"
   },
   {
    "duration": 28,
    "start_time": "2025-03-22T13:32:09.484Z"
   },
   {
    "duration": 312,
    "start_time": "2025-03-22T13:32:09.513Z"
   },
   {
    "duration": 6,
    "start_time": "2025-03-22T13:32:09.827Z"
   },
   {
    "duration": 42,
    "start_time": "2025-03-22T13:32:09.834Z"
   },
   {
    "duration": 9,
    "start_time": "2025-03-22T13:32:09.877Z"
   },
   {
    "duration": 150,
    "start_time": "2025-03-22T13:32:09.888Z"
   },
   {
    "duration": 160,
    "start_time": "2025-03-22T13:32:10.039Z"
   },
   {
    "duration": 7,
    "start_time": "2025-03-22T13:32:10.200Z"
   },
   {
    "duration": 43,
    "start_time": "2025-03-22T13:32:10.208Z"
   },
   {
    "duration": 76,
    "start_time": "2025-03-22T13:32:10.252Z"
   },
   {
    "duration": 8,
    "start_time": "2025-03-22T13:32:10.333Z"
   },
   {
    "duration": 6,
    "start_time": "2025-03-22T13:32:10.342Z"
   },
   {
    "duration": 5,
    "start_time": "2025-03-22T13:32:10.356Z"
   },
   {
    "duration": 67,
    "start_time": "2025-03-22T13:32:10.362Z"
   },
   {
    "duration": 20,
    "start_time": "2025-03-22T13:32:10.430Z"
   },
   {
    "duration": 39,
    "start_time": "2025-03-22T13:32:10.452Z"
   },
   {
    "duration": 11,
    "start_time": "2025-03-22T13:32:10.492Z"
   },
   {
    "duration": 23,
    "start_time": "2025-03-22T13:32:10.504Z"
   },
   {
    "duration": 16,
    "start_time": "2025-03-22T13:32:10.528Z"
   },
   {
    "duration": 16,
    "start_time": "2025-03-22T13:32:10.545Z"
   },
   {
    "duration": 5,
    "start_time": "2025-03-22T13:32:10.563Z"
   },
   {
    "duration": 9,
    "start_time": "2025-03-22T13:32:10.570Z"
   },
   {
    "duration": 118,
    "start_time": "2025-03-22T13:32:10.581Z"
   },
   {
    "duration": 3,
    "start_time": "2025-03-22T14:32:17.056Z"
   },
   {
    "duration": 60,
    "start_time": "2025-03-22T14:32:17.061Z"
   },
   {
    "duration": 7,
    "start_time": "2025-03-22T14:32:17.123Z"
   },
   {
    "duration": 79,
    "start_time": "2025-03-22T14:32:17.132Z"
   },
   {
    "duration": 839,
    "start_time": "2025-03-22T14:32:17.213Z"
   },
   {
    "duration": 14,
    "start_time": "2025-03-22T14:32:18.056Z"
   },
   {
    "duration": 95,
    "start_time": "2025-03-22T14:32:18.072Z"
   },
   {
    "duration": 248,
    "start_time": "2025-03-22T14:32:18.169Z"
   },
   {
    "duration": 7,
    "start_time": "2025-03-22T14:32:18.419Z"
   },
   {
    "duration": 60,
    "start_time": "2025-03-22T14:32:18.428Z"
   },
   {
    "duration": 314,
    "start_time": "2025-03-22T14:32:18.489Z"
   },
   {
    "duration": 7,
    "start_time": "2025-03-22T14:32:18.805Z"
   },
   {
    "duration": 17,
    "start_time": "2025-03-22T14:32:18.814Z"
   },
   {
    "duration": 221,
    "start_time": "2025-03-22T14:32:18.833Z"
   },
   {
    "duration": 7,
    "start_time": "2025-03-22T14:32:19.055Z"
   },
   {
    "duration": 37,
    "start_time": "2025-03-22T14:32:19.063Z"
   },
   {
    "duration": 78,
    "start_time": "2025-03-22T14:32:19.102Z"
   },
   {
    "duration": 26,
    "start_time": "2025-03-22T14:32:19.181Z"
   },
   {
    "duration": 8,
    "start_time": "2025-03-22T14:32:19.208Z"
   },
   {
    "duration": 12,
    "start_time": "2025-03-22T14:32:19.217Z"
   },
   {
    "duration": 78,
    "start_time": "2025-03-22T14:32:19.230Z"
   },
   {
    "duration": 123,
    "start_time": "2025-03-22T14:32:19.310Z"
   },
   {
    "duration": 72,
    "start_time": "2025-03-22T14:32:19.435Z"
   },
   {
    "duration": 15,
    "start_time": "2025-03-22T14:32:19.511Z"
   },
   {
    "duration": 112,
    "start_time": "2025-03-22T14:32:19.527Z"
   },
   {
    "duration": 24,
    "start_time": "2025-03-22T14:32:19.641Z"
   },
   {
    "duration": 3,
    "start_time": "2025-03-22T14:32:19.667Z"
   },
   {
    "duration": 26,
    "start_time": "2025-03-22T14:32:19.672Z"
   },
   {
    "duration": 12,
    "start_time": "2025-03-22T14:32:19.700Z"
   },
   {
    "duration": 196,
    "start_time": "2025-03-22T14:32:19.714Z"
   },
   {
    "duration": 9,
    "start_time": "2025-03-22T14:32:19.911Z"
   },
   {
    "duration": 8,
    "start_time": "2025-03-22T14:32:19.921Z"
   },
   {
    "duration": 30,
    "start_time": "2025-03-22T14:32:19.931Z"
   },
   {
    "duration": 94,
    "start_time": "2025-03-22T14:32:19.963Z"
   },
   {
    "duration": 49,
    "start_time": "2025-03-22T14:32:20.058Z"
   },
   {
    "duration": 14,
    "start_time": "2025-03-22T14:32:20.108Z"
   },
   {
    "duration": 110,
    "start_time": "2025-03-22T14:32:20.123Z"
   },
   {
    "duration": 158,
    "start_time": "2025-03-22T14:32:20.234Z"
   },
   {
    "duration": 128,
    "start_time": "2025-03-22T14:32:20.394Z"
   },
   {
    "duration": 13,
    "start_time": "2025-03-22T14:32:20.523Z"
   },
   {
    "duration": 156,
    "start_time": "2025-03-22T14:32:20.538Z"
   },
   {
    "duration": 42,
    "start_time": "2025-03-22T14:32:20.696Z"
   },
   {
    "duration": 39,
    "start_time": "2025-03-22T14:32:20.740Z"
   },
   {
    "duration": 21,
    "start_time": "2025-03-22T14:32:20.781Z"
   },
   {
    "duration": 4,
    "start_time": "2025-03-22T14:32:20.804Z"
   },
   {
    "duration": 47,
    "start_time": "2025-03-22T14:32:20.809Z"
   },
   {
    "duration": 23,
    "start_time": "2025-03-22T14:32:20.858Z"
   },
   {
    "duration": 5,
    "start_time": "2025-03-22T14:32:20.882Z"
   },
   {
    "duration": 25,
    "start_time": "2025-03-22T14:32:20.888Z"
   },
   {
    "duration": 3,
    "start_time": "2025-03-22T14:32:20.915Z"
   },
   {
    "duration": 53,
    "start_time": "2025-03-22T14:32:20.919Z"
   },
   {
    "duration": 64,
    "start_time": "2025-03-22T14:32:20.974Z"
   },
   {
    "duration": 33,
    "start_time": "2025-03-22T14:32:21.040Z"
   },
   {
    "duration": 10,
    "start_time": "2025-03-22T14:32:21.075Z"
   },
   {
    "duration": 16,
    "start_time": "2025-03-22T14:32:21.087Z"
   },
   {
    "duration": 308,
    "start_time": "2025-03-22T14:32:21.104Z"
   },
   {
    "duration": 174,
    "start_time": "2025-03-22T14:32:21.414Z"
   },
   {
    "duration": 168,
    "start_time": "2025-03-22T14:32:21.590Z"
   },
   {
    "duration": 48,
    "start_time": "2025-03-22T14:32:21.760Z"
   },
   {
    "duration": 15,
    "start_time": "2025-03-22T14:32:21.810Z"
   },
   {
    "duration": 30,
    "start_time": "2025-03-22T14:32:21.826Z"
   },
   {
    "duration": 11,
    "start_time": "2025-03-22T14:32:21.857Z"
   },
   {
    "duration": 20,
    "start_time": "2025-03-22T14:32:21.869Z"
   },
   {
    "duration": 37,
    "start_time": "2025-03-22T14:32:21.891Z"
   },
   {
    "duration": 31,
    "start_time": "2025-03-22T14:32:21.929Z"
   },
   {
    "duration": 26,
    "start_time": "2025-03-22T14:32:21.961Z"
   },
   {
    "duration": 89,
    "start_time": "2025-03-22T14:32:21.988Z"
   },
   {
    "duration": 30,
    "start_time": "2025-03-22T14:32:22.078Z"
   },
   {
    "duration": 4090,
    "start_time": "2025-03-22T14:32:22.117Z"
   },
   {
    "duration": 11,
    "start_time": "2025-03-22T14:32:26.209Z"
   },
   {
    "duration": 10,
    "start_time": "2025-03-22T14:32:26.221Z"
   },
   {
    "duration": 290,
    "start_time": "2025-03-22T14:32:26.232Z"
   },
   {
    "duration": 6,
    "start_time": "2025-03-22T14:32:26.524Z"
   },
   {
    "duration": 137,
    "start_time": "2025-03-22T14:32:26.532Z"
   },
   {
    "duration": 9,
    "start_time": "2025-03-22T14:32:26.670Z"
   },
   {
    "duration": 219,
    "start_time": "2025-03-22T14:32:26.680Z"
   },
   {
    "duration": 100,
    "start_time": "2025-03-22T14:32:26.901Z"
   },
   {
    "duration": 7,
    "start_time": "2025-03-22T14:32:27.003Z"
   },
   {
    "duration": 13,
    "start_time": "2025-03-22T14:32:27.011Z"
   },
   {
    "duration": 8,
    "start_time": "2025-03-22T14:32:27.025Z"
   },
   {
    "duration": 7,
    "start_time": "2025-03-22T14:32:27.056Z"
   },
   {
    "duration": 5,
    "start_time": "2025-03-22T14:32:27.065Z"
   },
   {
    "duration": 5,
    "start_time": "2025-03-22T14:32:27.072Z"
   },
   {
    "duration": 5,
    "start_time": "2025-03-22T14:32:27.079Z"
   },
   {
    "duration": 5,
    "start_time": "2025-03-22T14:32:27.085Z"
   },
   {
    "duration": 69,
    "start_time": "2025-03-22T14:32:27.091Z"
   },
   {
    "duration": 15,
    "start_time": "2025-03-22T14:32:27.161Z"
   },
   {
    "duration": 62,
    "start_time": "2025-03-22T14:32:27.178Z"
   },
   {
    "duration": 22,
    "start_time": "2025-03-22T14:32:27.242Z"
   },
   {
    "duration": 9,
    "start_time": "2025-03-22T14:32:27.265Z"
   },
   {
    "duration": 8,
    "start_time": "2025-03-22T14:32:27.275Z"
   },
   {
    "duration": 8,
    "start_time": "2025-03-22T14:32:27.284Z"
   },
   {
    "duration": 145,
    "start_time": "2025-03-22T14:32:27.293Z"
   },
   {
    "duration": 76,
    "start_time": "2025-03-22T14:32:53.673Z"
   },
   {
    "duration": 18,
    "start_time": "2025-03-22T14:40:51.599Z"
   },
   {
    "duration": 11,
    "start_time": "2025-03-22T14:40:54.511Z"
   },
   {
    "duration": 29,
    "start_time": "2025-03-22T14:41:22.560Z"
   },
   {
    "duration": 87,
    "start_time": "2025-03-22T14:41:22.590Z"
   },
   {
    "duration": 9,
    "start_time": "2025-03-22T14:41:22.678Z"
   },
   {
    "duration": 192,
    "start_time": "2025-03-22T14:41:22.689Z"
   },
   {
    "duration": 199,
    "start_time": "2025-03-22T14:41:22.884Z"
   },
   {
    "duration": 162,
    "start_time": "2025-03-22T14:41:23.085Z"
   },
   {
    "duration": 66,
    "start_time": "2025-03-22T14:41:23.249Z"
   },
   {
    "duration": 11,
    "start_time": "2025-03-22T14:41:23.317Z"
   },
   {
    "duration": 38,
    "start_time": "2025-03-22T14:41:23.329Z"
   },
   {
    "duration": 14,
    "start_time": "2025-03-22T14:41:23.370Z"
   },
   {
    "duration": 19,
    "start_time": "2025-03-22T14:41:23.385Z"
   },
   {
    "duration": 14,
    "start_time": "2025-03-22T14:41:23.405Z"
   },
   {
    "duration": 17,
    "start_time": "2025-03-22T14:41:23.421Z"
   },
   {
    "duration": 42,
    "start_time": "2025-03-22T14:41:23.439Z"
   },
   {
    "duration": 12,
    "start_time": "2025-03-22T14:41:23.482Z"
   },
   {
    "duration": 25,
    "start_time": "2025-03-22T14:41:23.496Z"
   },
   {
    "duration": 4345,
    "start_time": "2025-03-22T14:41:23.522Z"
   },
   {
    "duration": 15,
    "start_time": "2025-03-22T14:41:27.871Z"
   },
   {
    "duration": 9,
    "start_time": "2025-03-22T14:41:27.887Z"
   },
   {
    "duration": 291,
    "start_time": "2025-03-22T14:41:27.897Z"
   },
   {
    "duration": 6,
    "start_time": "2025-03-22T14:41:28.189Z"
   },
   {
    "duration": 50,
    "start_time": "2025-03-22T14:41:28.197Z"
   },
   {
    "duration": 17,
    "start_time": "2025-03-22T14:41:28.263Z"
   },
   {
    "duration": 138,
    "start_time": "2025-03-22T14:41:28.281Z"
   },
   {
    "duration": 104,
    "start_time": "2025-03-22T14:41:28.421Z"
   },
   {
    "duration": 7,
    "start_time": "2025-03-22T14:41:28.527Z"
   },
   {
    "duration": 134,
    "start_time": "2025-03-22T14:41:28.535Z"
   },
   {
    "duration": 12,
    "start_time": "2025-03-22T14:41:28.674Z"
   },
   {
    "duration": 19,
    "start_time": "2025-03-22T14:41:28.687Z"
   },
   {
    "duration": 6,
    "start_time": "2025-03-22T14:41:28.707Z"
   },
   {
    "duration": 23,
    "start_time": "2025-03-22T14:41:28.714Z"
   },
   {
    "duration": 6,
    "start_time": "2025-03-22T14:41:28.738Z"
   },
   {
    "duration": 11,
    "start_time": "2025-03-22T14:41:28.745Z"
   },
   {
    "duration": 36,
    "start_time": "2025-03-22T14:41:28.758Z"
   },
   {
    "duration": 12,
    "start_time": "2025-03-22T14:41:28.796Z"
   },
   {
    "duration": 23,
    "start_time": "2025-03-22T14:41:28.810Z"
   },
   {
    "duration": 40,
    "start_time": "2025-03-22T14:41:28.835Z"
   },
   {
    "duration": 10,
    "start_time": "2025-03-22T14:41:28.878Z"
   },
   {
    "duration": 15,
    "start_time": "2025-03-22T14:41:28.890Z"
   },
   {
    "duration": 12,
    "start_time": "2025-03-22T14:41:28.907Z"
   },
   {
    "duration": 116,
    "start_time": "2025-03-22T14:41:28.920Z"
   },
   {
    "duration": 42,
    "start_time": "2025-03-22T14:46:57.650Z"
   },
   {
    "duration": 6,
    "start_time": "2025-03-22T14:47:04.244Z"
   },
   {
    "duration": 22,
    "start_time": "2025-03-22T14:47:13.954Z"
   },
   {
    "duration": 36,
    "start_time": "2025-03-22T14:54:40.611Z"
   },
   {
    "duration": 37,
    "start_time": "2025-03-22T14:56:01.499Z"
   },
   {
    "duration": 4,
    "start_time": "2025-03-22T14:56:03.337Z"
   },
   {
    "duration": 34,
    "start_time": "2025-03-22T14:56:12.202Z"
   },
   {
    "duration": 6,
    "start_time": "2025-03-22T14:56:13.812Z"
   },
   {
    "duration": 35,
    "start_time": "2025-03-22T14:56:15.362Z"
   },
   {
    "duration": 10,
    "start_time": "2025-03-22T15:00:49.750Z"
   },
   {
    "duration": 126,
    "start_time": "2025-03-22T15:00:51.850Z"
   },
   {
    "duration": 122,
    "start_time": "2025-03-22T15:00:53.951Z"
   },
   {
    "duration": 95,
    "start_time": "2025-03-22T15:01:06.765Z"
   },
   {
    "duration": 9,
    "start_time": "2025-03-22T15:01:09.434Z"
   },
   {
    "duration": 19,
    "start_time": "2025-03-22T15:01:20.990Z"
   },
   {
    "duration": 11,
    "start_time": "2025-03-22T15:01:24.206Z"
   },
   {
    "duration": 8,
    "start_time": "2025-03-22T15:01:39.606Z"
   },
   {
    "duration": 8,
    "start_time": "2025-03-22T15:01:42.049Z"
   },
   {
    "duration": 10,
    "start_time": "2025-03-22T15:01:46.257Z"
   },
   {
    "duration": 10,
    "start_time": "2025-03-22T15:01:54.207Z"
   },
   {
    "duration": 6,
    "start_time": "2025-03-22T15:01:56.449Z"
   },
   {
    "duration": 23,
    "start_time": "2025-03-22T15:02:07.892Z"
   },
   {
    "duration": 16,
    "start_time": "2025-03-22T15:03:10.268Z"
   },
   {
    "duration": 7,
    "start_time": "2025-03-22T15:03:23.716Z"
   },
   {
    "duration": 18,
    "start_time": "2025-03-22T15:03:31.651Z"
   },
   {
    "duration": 16,
    "start_time": "2025-03-22T15:04:54.413Z"
   },
   {
    "duration": 7,
    "start_time": "2025-03-22T15:05:01.492Z"
   },
   {
    "duration": 7,
    "start_time": "2025-03-22T15:05:07.740Z"
   },
   {
    "duration": 8,
    "start_time": "2025-03-22T15:07:48.873Z"
   },
   {
    "duration": 113,
    "start_time": "2025-03-22T15:07:51.920Z"
   },
   {
    "duration": 1093,
    "start_time": "2025-03-22T15:12:48.140Z"
   },
   {
    "duration": 45,
    "start_time": "2025-03-22T15:12:49.235Z"
   },
   {
    "duration": 60,
    "start_time": "2025-03-22T15:12:49.281Z"
   },
   {
    "duration": 9,
    "start_time": "2025-03-22T15:12:49.343Z"
   },
   {
    "duration": 889,
    "start_time": "2025-03-22T15:12:49.353Z"
   },
   {
    "duration": 25,
    "start_time": "2025-03-22T15:12:50.243Z"
   },
   {
    "duration": 79,
    "start_time": "2025-03-22T15:12:50.269Z"
   },
   {
    "duration": 283,
    "start_time": "2025-03-22T15:12:50.356Z"
   },
   {
    "duration": 15,
    "start_time": "2025-03-22T15:12:50.641Z"
   },
   {
    "duration": 122,
    "start_time": "2025-03-22T15:12:50.658Z"
   },
   {
    "duration": 190,
    "start_time": "2025-03-22T15:12:50.782Z"
   },
   {
    "duration": 7,
    "start_time": "2025-03-22T15:12:50.974Z"
   },
   {
    "duration": 21,
    "start_time": "2025-03-22T15:12:50.982Z"
   },
   {
    "duration": 245,
    "start_time": "2025-03-22T15:12:51.004Z"
   },
   {
    "duration": 7,
    "start_time": "2025-03-22T15:12:51.251Z"
   },
   {
    "duration": 76,
    "start_time": "2025-03-22T15:12:51.259Z"
   },
   {
    "duration": 85,
    "start_time": "2025-03-22T15:12:51.336Z"
   },
   {
    "duration": 9,
    "start_time": "2025-03-22T15:12:51.423Z"
   },
   {
    "duration": 6,
    "start_time": "2025-03-22T15:12:51.434Z"
   },
   {
    "duration": 19,
    "start_time": "2025-03-22T15:12:51.441Z"
   },
   {
    "duration": 78,
    "start_time": "2025-03-22T15:12:51.462Z"
   },
   {
    "duration": 150,
    "start_time": "2025-03-22T15:12:51.542Z"
   },
   {
    "duration": 70,
    "start_time": "2025-03-22T15:12:51.693Z"
   },
   {
    "duration": 55,
    "start_time": "2025-03-22T15:12:51.765Z"
   },
   {
    "duration": 21,
    "start_time": "2025-03-22T15:12:51.821Z"
   },
   {
    "duration": 27,
    "start_time": "2025-03-22T15:12:51.843Z"
   },
   {
    "duration": 2,
    "start_time": "2025-03-22T15:12:51.872Z"
   },
   {
    "duration": 28,
    "start_time": "2025-03-22T15:12:51.878Z"
   },
   {
    "duration": 9,
    "start_time": "2025-03-22T15:12:51.908Z"
   },
   {
    "duration": 189,
    "start_time": "2025-03-22T15:12:51.918Z"
   },
   {
    "duration": 8,
    "start_time": "2025-03-22T15:12:52.109Z"
   },
   {
    "duration": 8,
    "start_time": "2025-03-22T15:12:52.118Z"
   },
   {
    "duration": 28,
    "start_time": "2025-03-22T15:12:52.128Z"
   },
   {
    "duration": 73,
    "start_time": "2025-03-22T15:12:52.158Z"
   },
   {
    "duration": 60,
    "start_time": "2025-03-22T15:12:52.233Z"
   },
   {
    "duration": 14,
    "start_time": "2025-03-22T15:12:52.294Z"
   },
   {
    "duration": 101,
    "start_time": "2025-03-22T15:12:52.310Z"
   },
   {
    "duration": 128,
    "start_time": "2025-03-22T15:12:52.412Z"
   },
   {
    "duration": 114,
    "start_time": "2025-03-22T15:12:52.542Z"
   },
   {
    "duration": 12,
    "start_time": "2025-03-22T15:12:52.657Z"
   },
   {
    "duration": 152,
    "start_time": "2025-03-22T15:12:52.670Z"
   },
   {
    "duration": 45,
    "start_time": "2025-03-22T15:12:52.824Z"
   },
   {
    "duration": 27,
    "start_time": "2025-03-22T15:12:52.870Z"
   },
   {
    "duration": 21,
    "start_time": "2025-03-22T15:12:52.898Z"
   },
   {
    "duration": 3,
    "start_time": "2025-03-22T15:12:52.920Z"
   },
   {
    "duration": 36,
    "start_time": "2025-03-22T15:12:52.925Z"
   },
   {
    "duration": 35,
    "start_time": "2025-03-22T15:12:52.962Z"
   },
   {
    "duration": 3,
    "start_time": "2025-03-22T15:12:52.998Z"
   },
   {
    "duration": 28,
    "start_time": "2025-03-22T15:12:53.003Z"
   },
   {
    "duration": 3,
    "start_time": "2025-03-22T15:12:53.032Z"
   },
   {
    "duration": 22,
    "start_time": "2025-03-22T15:12:53.036Z"
   },
   {
    "duration": 62,
    "start_time": "2025-03-22T15:12:53.060Z"
   },
   {
    "duration": 36,
    "start_time": "2025-03-22T15:12:53.123Z"
   },
   {
    "duration": 11,
    "start_time": "2025-03-22T15:12:53.161Z"
   },
   {
    "duration": 11,
    "start_time": "2025-03-22T15:12:53.173Z"
   },
   {
    "duration": 233,
    "start_time": "2025-03-22T15:12:53.185Z"
   },
   {
    "duration": 198,
    "start_time": "2025-03-22T15:12:53.419Z"
   },
   {
    "duration": 178,
    "start_time": "2025-03-22T15:12:53.618Z"
   },
   {
    "duration": 47,
    "start_time": "2025-03-22T15:12:53.797Z"
   },
   {
    "duration": 10,
    "start_time": "2025-03-22T15:12:53.856Z"
   },
   {
    "duration": 26,
    "start_time": "2025-03-22T15:12:53.867Z"
   },
   {
    "duration": 14,
    "start_time": "2025-03-22T15:12:53.895Z"
   },
   {
    "duration": 9,
    "start_time": "2025-03-22T15:12:53.910Z"
   },
   {
    "duration": 34,
    "start_time": "2025-03-22T15:12:53.920Z"
   },
   {
    "duration": 19,
    "start_time": "2025-03-22T15:12:53.956Z"
   },
   {
    "duration": 30,
    "start_time": "2025-03-22T15:12:53.976Z"
   },
   {
    "duration": 11,
    "start_time": "2025-03-22T15:12:54.007Z"
   },
   {
    "duration": 42,
    "start_time": "2025-03-22T15:12:54.019Z"
   },
   {
    "duration": 4167,
    "start_time": "2025-03-22T15:12:54.062Z"
   },
   {
    "duration": 16,
    "start_time": "2025-03-22T15:12:58.232Z"
   },
   {
    "duration": 40,
    "start_time": "2025-03-22T15:12:58.251Z"
   },
   {
    "duration": 51,
    "start_time": "2025-03-22T15:12:58.292Z"
   },
   {
    "duration": 5,
    "start_time": "2025-03-22T15:12:58.345Z"
   },
   {
    "duration": 26,
    "start_time": "2025-03-22T15:12:58.351Z"
   },
   {
    "duration": 8,
    "start_time": "2025-03-22T15:12:58.378Z"
   },
   {
    "duration": 125,
    "start_time": "2025-03-22T15:12:58.387Z"
   },
   {
    "duration": 95,
    "start_time": "2025-03-22T15:12:58.514Z"
   },
   {
    "duration": 8,
    "start_time": "2025-03-22T15:12:58.610Z"
   },
   {
    "duration": 140,
    "start_time": "2025-03-22T15:12:58.619Z"
   },
   {
    "duration": 9,
    "start_time": "2025-03-22T15:12:58.760Z"
   },
   {
    "duration": 27,
    "start_time": "2025-03-22T15:12:58.770Z"
   },
   {
    "duration": 6,
    "start_time": "2025-03-22T15:12:58.802Z"
   },
   {
    "duration": 6,
    "start_time": "2025-03-22T15:12:58.809Z"
   },
   {
    "duration": 7,
    "start_time": "2025-03-22T15:12:58.816Z"
   },
   {
    "duration": 6,
    "start_time": "2025-03-22T15:12:58.824Z"
   },
   {
    "duration": 32,
    "start_time": "2025-03-22T15:12:58.832Z"
   },
   {
    "duration": 16,
    "start_time": "2025-03-22T15:12:58.865Z"
   },
   {
    "duration": 6,
    "start_time": "2025-03-22T15:12:58.882Z"
   },
   {
    "duration": 6,
    "start_time": "2025-03-22T15:12:58.889Z"
   },
   {
    "duration": 9,
    "start_time": "2025-03-22T15:12:58.897Z"
   },
   {
    "duration": 136,
    "start_time": "2025-03-22T15:12:58.908Z"
   }
  ],
  "colab": {
   "provenance": []
  },
  "kernelspec": {
   "display_name": "Python 3 (ipykernel)",
   "language": "python",
   "name": "python3"
  },
  "language_info": {
   "codemirror_mode": {
    "name": "ipython",
    "version": 3
   },
   "file_extension": ".py",
   "mimetype": "text/x-python",
   "name": "python",
   "nbconvert_exporter": "python",
   "pygments_lexer": "ipython3",
   "version": "3.9.5"
  },
  "toc": {
   "base_numbering": 1,
   "nav_menu": {},
   "number_sections": true,
   "sideBar": true,
   "skip_h1_title": true,
   "title_cell": "Table of Contents",
   "title_sidebar": "Contents",
   "toc_cell": false,
   "toc_position": {},
   "toc_section_display": true,
   "toc_window_display": false
  }
 },
 "nbformat": 4,
 "nbformat_minor": 1
}
