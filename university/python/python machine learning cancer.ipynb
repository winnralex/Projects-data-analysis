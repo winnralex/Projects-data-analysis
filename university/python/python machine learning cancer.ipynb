{
 "cells": [
  {
   "cell_type": "code",
   "execution_count": 29,
   "id": "e58b60f3",
   "metadata": {},
   "outputs": [],
   "source": [
    "from sklearn.datasets import load_breast_cancer\n",
    "from sklearn.preprocessing import StandardScaler\n",
    "from sklearn.model_selection import train_test_split\n",
    "import numpy as np\n",
    "from scipy.spatial.distance import euclidean\n",
    "from scipy.stats import multivariate_normal\n",
    "from sklearn.neighbors import KNeighborsClassifier\n",
    "from sklearn.metrics import accuracy_score\n",
    "from sklearn.metrics import precision_score, recall_score\n",
    "import pandas as pd\n",
    "import warnings\n",
    "warnings.filterwarnings('ignore')\n",
    "\n",
    "# Загрузим датасет\n",
    "data = load_breast_cancer()\n",
    "df = pd.DataFrame(data.data, columns=data.feature_names)\n",
    "df['target'] = data.target\n",
    "\n",
    "# Масштабируем данные\n",
    "scaler = StandardScaler()\n",
    "X_scaled = scaler.fit_transform(df.drop('target', axis=1))\n",
    "y = df['target'].values\n",
    "\n",
    "# Поделим выборку на тренировочную и тестовую\n",
    "X_train, X_test, y_train, y_test = train_test_split(X_scaled, y, test_size=0.2, random_state=10)"
   ]
  },
  {
   "cell_type": "code",
   "execution_count": 42,
   "id": "177dbb10",
   "metadata": {},
   "outputs": [],
   "source": [
    "class CustomClassifier:\n",
    "    \n",
    "    # Вычислим средние значения (ядра) и матрицы ковариации для каждого класса в данных обучения\n",
    "    def fit(self, X, y):\n",
    "        self.classes = np.unique(y)\n",
    "        self.means = {}\n",
    "        self.covariances = {}\n",
    "        \n",
    "        for cls in self.classes:\n",
    "            X_cls = X[y == cls]\n",
    "            self.means[cls] = np.mean(X_cls, axis=0)\n",
    "            self.covariances[cls] = np.cov(X_cls, rowvar=False)\n",
    "    \n",
    "    # Вычислим расстояния от каждого объекта до среднего значения каждого класса и выберем класс с минимальным расстоянием\n",
    "    def predict(self, X):\n",
    "        predictions = []\n",
    "        \n",
    "        for x in X:\n",
    "            distances = []\n",
    "            for cls in self.classes:\n",
    "                mean = self.means[cls]\n",
    "                covariance = self.covariances[cls]\n",
    "                \n",
    "                euclid_dist = euclidean(x, mean)\n",
    "                \n",
    "                stat_dist = multivariate_normal(mean=mean, cov=covariance).pdf(x)\n",
    "                \n",
    "                distances.append((cls, euclid_dist, stat_dist))\n",
    "            \n",
    "            chosen_class = min(distances, key=lambda t: t[1])[0]\n",
    "            predictions.append(chosen_class)\n",
    "        \n",
    "        return np.array(predictions)\n",
    "\n",
    "# Обучим модель на обучающих данных и сделаем предсказания на тестовых данных\n",
    "classifier = CustomClassifier()\n",
    "classifier.fit(X_train, y_train)\n",
    "y_pred_custom = classifier.predict(X_test)"
   ]
  },
  {
   "cell_type": "code",
   "execution_count": 48,
   "id": "5b63fa2b",
   "metadata": {},
   "outputs": [
    {
     "name": "stdout",
     "output_type": "stream",
     "text": [
      "Собственно написанный классификатор: Precision - 0.9539473684210527, Recall - 0.9482051282051283, Accuracy - 0.956140350877193\n",
      "k ближайщих соседей: Precision - 0.987012987012987, Recall - 0.9743589743589743, Accuracy - 0.9824561403508771\n"
     ]
    }
   ],
   "source": [
    "# Обучим knn классификатор\n",
    "knn = KNeighborsClassifier(n_neighbors=3)\n",
    "knn.fit(X_train, y_train)\n",
    "\n",
    "# Сделаем предсказания с помощью knn классификатора\n",
    "y_pred_knn = knn.predict(X_test)\n",
    "\n",
    "# Вычислим точность (precision), полноту (recall), процент положительных меток (accuracy) для собственно написанного классификатора\n",
    "precision_custom = precision_score(y_test, y_pred_custom, average='macro')\n",
    "recall_custom = recall_score(y_test, y_pred_custom, average='macro')\n",
    "accuracy_custom = accuracy_score(y_test, y_pred_custom)\n",
    "\n",
    "# Вычислим точность (precision), полноту (recall), процент положительных меток (accuracy) для классификатора k ближайших соседей\n",
    "precision_knn = precision_score(y_test, y_pred_knn, average='macro')\n",
    "recall_knn = recall_score(y_test, y_pred_knn, average='macro')\n",
    "accuracy_knn = accuracy_score(y_test, y_pred_knn)\n",
    "                          \n",
    "print(f\"Собственно написанный классификатор: Precision - {precision_custom}, Recall - {recall_custom}, Accuracy - {accuracy_custom}\")\n",
    "print(f\"k ближайщих соседей: Precision - {precision_knn}, Recall - {recall_knn}, Accuracy - {accuracy_knn}\")"
   ]
  },
  {
   "cell_type": "code",
   "execution_count": 45,
   "id": "87d8efdb",
   "metadata": {},
   "outputs": [
    {
     "name": "stdout",
     "output_type": "stream",
     "text": [
      "Confusion matrix для собственно написанного классификатора:\n",
      "[[36  3]\n",
      " [ 2 73]]\n",
      "Confusion matrix для k ближайших соседей:\n",
      "[[37  2]\n",
      " [ 0 75]]\n"
     ]
    }
   ],
   "source": [
    "from sklearn.metrics import confusion_matrix\n",
    "\n",
    "# Вычислим матрицу ошибок (confusion matrix) для собственно написанного классификатора\n",
    "cm_custom = confusion_matrix(y_test, y_pred_custom)\n",
    "\n",
    "# Вычислим матрицу ошибок (confusion matrix) для классификатора k ближайших соседей\n",
    "cm_knn = confusion_matrix(y_test, y_pred_knn)\n",
    "\n",
    "print(f\"Confusion matrix для собственно написанного классификатора:\\n{cm_custom}\")\n",
    "print(f\"Confusion matrix для k ближайших соседей:\\n{cm_knn}\")"
   ]
  }
 ],
 "metadata": {
  "kernelspec": {
   "display_name": "Python 3 (ipykernel)",
   "language": "python",
   "name": "python3"
  },
  "language_info": {
   "codemirror_mode": {
    "name": "ipython",
    "version": 3
   },
   "file_extension": ".py",
   "mimetype": "text/x-python",
   "name": "python",
   "nbconvert_exporter": "python",
   "pygments_lexer": "ipython3",
   "version": "3.9.13"
  }
 },
 "nbformat": 4,
 "nbformat_minor": 5
}
