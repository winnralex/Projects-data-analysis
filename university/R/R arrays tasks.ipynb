{
  "nbformat": 4,
  "nbformat_minor": 0,
  "metadata": {
    "colab": {
      "provenance": []
    },
    "kernelspec": {
      "name": "ir",
      "display_name": "R"
    },
    "language_info": {
      "name": "R"
    }
  },
  "cells": [
    {
      "cell_type": "markdown",
      "source": [
        "## Лабораторная работа 3. Массивы, списки, факторы, таблицы данных.\n"
      ],
      "metadata": {
        "id": "iwBVCAWSxppD"
      }
    },
    {
      "cell_type": "markdown",
      "source": [
        "**Задание 1.**\n",
        "\n",
        "Создайте вектор state с 5 элементами: \"prof\",\"prof\",\"docent\",\"docent\",\"assist\".\n",
        "\n",
        "Выделите различные категории (факторы) в векторе state.\n",
        "\n",
        "Отобразите отдельно эти категории (уровни).\n",
        "\n",
        "Задайте вектор доходов 60,59,40,42,23.\n",
        "\n",
        "Найдите средние доходы для каждой категории (с помощью функции tapply).\n",
        "\n",
        "Определите еще одну категорию \"st.prep\" в дополнение к уже исследованным.\n",
        "\n",
        "Вывести таблицу статистики для всех категорий.\n",
        "\n"
      ],
      "metadata": {
        "id": "seoYWWcB46ss"
      }
    },
    {
      "cell_type": "code",
      "execution_count": null,
      "metadata": {
        "id": "9bpVB3Q1xjIL",
        "colab": {
          "base_uri": "https://localhost:8080/",
          "height": 123
        },
        "outputId": "bf40d666-a31a-4eeb-dd67-8fbc261061be"
      },
      "outputs": [
        {
          "output_type": "display_data",
          "data": {
            "text/html": [
              "<style>\n",
              ".list-inline {list-style: none; margin:0; padding: 0}\n",
              ".list-inline>li {display: inline-block}\n",
              ".list-inline>li:not(:last-child)::after {content: \"\\00b7\"; padding: 0 .5ex}\n",
              "</style>\n",
              "<ol class=list-inline><li>'assist'</li><li>'docent'</li><li>'prof'</li></ol>\n"
            ],
            "text/markdown": "1. 'assist'\n2. 'docent'\n3. 'prof'\n\n\n",
            "text/latex": "\\begin{enumerate*}\n\\item 'assist'\n\\item 'docent'\n\\item 'prof'\n\\end{enumerate*}\n",
            "text/plain": [
              "[1] \"assist\" \"docent\" \"prof\"  "
            ]
          },
          "metadata": {}
        },
        {
          "output_type": "stream",
          "name": "stdout",
          "text": [
            "\n",
            "\n"
          ]
        },
        {
          "output_type": "display_data",
          "data": {
            "text/html": [
              "<style>\n",
              ".dl-inline {width: auto; margin:0; padding: 0}\n",
              ".dl-inline>dt, .dl-inline>dd {float: none; width: auto; display: inline-block}\n",
              ".dl-inline>dt::after {content: \":\\0020\"; padding-right: .5ex}\n",
              ".dl-inline>dt:not(:first-of-type) {padding-left: .5ex}\n",
              "</style><dl class=dl-inline><dt>assist</dt><dd>23</dd><dt>docent</dt><dd>41</dd><dt>prof</dt><dd>59.5</dd></dl>\n"
            ],
            "text/markdown": "assist\n:   23docent\n:   41prof\n:   59.5\n\n",
            "text/latex": "\\begin{description*}\n\\item[assist] 23\n\\item[docent] 41\n\\item[prof] 59.5\n\\end{description*}\n",
            "text/plain": [
              "assist docent   prof \n",
              "  23.0   41.0   59.5 "
            ]
          },
          "metadata": {}
        },
        {
          "output_type": "stream",
          "name": "stdout",
          "text": [
            "\n"
          ]
        },
        {
          "output_type": "display_data",
          "data": {
            "text/html": [
              "<style>\n",
              ".dl-inline {width: auto; margin:0; padding: 0}\n",
              ".dl-inline>dt, .dl-inline>dd {float: none; width: auto; display: inline-block}\n",
              ".dl-inline>dt::after {content: \":\\0020\"; padding-right: .5ex}\n",
              ".dl-inline>dt:not(:first-of-type) {padding-left: .5ex}\n",
              "</style><dl class=dl-inline><dt>assist</dt><dd>1</dd><dt>docent</dt><dd>2</dd><dt>prof</dt><dd>2</dd><dt>st.prep</dt><dd>1</dd></dl>\n"
            ],
            "text/markdown": "assist\n:   1docent\n:   2prof\n:   2st.prep\n:   1\n\n",
            "text/latex": "\\begin{description*}\n\\item[assist] 1\n\\item[docent] 2\n\\item[prof] 2\n\\item[st.prep] 1\n\\end{description*}\n",
            "text/plain": [
              " assist  docent    prof st.prep \n",
              "      1       2       2       1 "
            ]
          },
          "metadata": {}
        }
      ],
      "source": [
        "state <- (c(\"prof\", \"prof\", \"docent\", \"docent\", \"assist\"))\n",
        "\n",
        "categories <- factor(state)\n",
        "levels(categories)\n",
        "cat(\"\\n\")\n",
        "\n",
        "income <- c(60, 59, 40, 42, 23)\n",
        "cat(\"\\n\")\n",
        "\n",
        "tapply(income, state, mean)\n",
        "cat(\"\\n\")\n",
        "\n",
        "state <- c(state, \"st.prep\")\n",
        "categories <- factor(state)\n",
        "summary(categories)"
      ]
    },
    {
      "cell_type": "markdown",
      "source": [
        "\n",
        "\n",
        "---\n",
        "\n"
      ],
      "metadata": {
        "id": "GF3yLr_xQvFt"
      }
    },
    {
      "cell_type": "markdown",
      "source": [
        "**Задание 2.**\n",
        "\n",
        "Создайте список **x** с тремя компонентами разных типов:\n",
        "\n",
        "$(1,2,...,10)$;  $(\\exp(-3), \\exp(-2), \\exp(-1),..., \\exp(3))$;  (TRUE, FALSE, FALSE, TRUE).\n",
        "\n",
        "Задайте имена компонентам списка (например: a, beta, logic).\n",
        "\n",
        "Выведите на экран содержимое третьей компоненты списка двумя способами - по имени и по индексу. В чем различие между записями: `x[1]` и `x[[1]]`?\n",
        "\n",
        "Найдите среднее арифметическое значений каждой компоненты списка x.\n",
        "\n",
        "Добавьте к списку **x** четвертую компоненту - последовательность первых 10 букв латинского алфавита. Проименуйте четвертую компоненту как letters.\n",
        "\n",
        "Создайте новый список **y** на основании старого **x** двумя способами - используя индексы и с помощью операции конкатенации.\n",
        "\n",
        "Преобразуйте список **y** в вектор **z**.\n",
        "К какому классу данных (структур данных) относится **z**? Объекты какого типа содержит **z**? Объекты какого типа содержал бы **z**, если бы **y** был образован из компонент 1 и 3 списка **x**?\n",
        "\n",
        "Преобразуйте список **y** в таблицу данных.\n"
      ],
      "metadata": {
        "id": "pcgP3Oa1WnFT"
      }
    },
    {
      "cell_type": "code",
      "source": [
        "# Создание списка x\n",
        "x <- list(1:10, exp(-3:3), c(TRUE, FALSE, FALSE, TRUE))\n",
        "# Задание имен компонентам списка\n",
        "names(x) <- c(\"a\", \"beta\", \"logic\")\n",
        "x\n",
        "cat(\"\\n\")\n",
        "\n",
        "# Вывод содержимого третьей компоненты списка по имени и индексу\n",
        "x$logic\n",
        "x[[3]]\n",
        "cat(\"\\n\")\n",
        "\n",
        "# Различие между записями x[1] и x[[1]] заключается в том, что x[1] возвращает список, содержащий только первую компоненту, а x[[1]] возвращает саму первую компоненту.\n",
        "\n",
        "# Нахождение среднего арифметического значений каждой компоненты списка x\n",
        "mean_x <- sapply(x, mean)\n",
        "mean_x\n",
        "cat(\"\\n\")\n",
        "\n",
        "# Добавление четвертой компоненты к списку x\n",
        "x$letters <- letters[1:10]\n",
        "\n",
        "# Создание нового списка y на основе списка x\n",
        "y <- list(x[[1]], x[[2]], x[[3]], x[[4]])  # Используя индексы\n",
        "y <- c(x)  # С помощью операции конкатенации\n",
        "y\n",
        "cat(\"\\n\")\n",
        "\n",
        "# Преобразование списка y в вектор z\n",
        "z <- unlist(y)\n",
        "z\n",
        "cat(\"\\n\")\n",
        "\n",
        "# Класс данных (структура данных), к которому относится z\n",
        "class(z)\n",
        "cat(\"\\n\")\n",
        "\n",
        "# Объекты, содержащиеся в z\n",
        "typeof(z)\n",
        "cat(\"\\n\")\n",
        "\n",
        "# Если бы y был образован только из компонент 1 и 3 списка x, то z содержал бы только числовые значения компоненты 1 и значения логического типа компоненты 3.\n",
        "\n",
        "# Преобразование списка y в таблицу данных\n",
        "suppressWarnings(data.table::as.data.table(y))"
      ],
      "metadata": {
        "id": "myVi8dLRcEyR",
        "colab": {
          "base_uri": "https://localhost:8080/",
          "height": 957
        },
        "outputId": "92ea7915-30d4-4bef-bccb-e39c7e8eb281"
      },
      "execution_count": null,
      "outputs": [
        {
          "output_type": "display_data",
          "data": {
            "text/html": [
              "<dl>\n",
              "\t<dt>$a</dt>\n",
              "\t\t<dd><style>\n",
              ".list-inline {list-style: none; margin:0; padding: 0}\n",
              ".list-inline>li {display: inline-block}\n",
              ".list-inline>li:not(:last-child)::after {content: \"\\00b7\"; padding: 0 .5ex}\n",
              "</style>\n",
              "<ol class=list-inline><li>1</li><li>2</li><li>3</li><li>4</li><li>5</li><li>6</li><li>7</li><li>8</li><li>9</li><li>10</li></ol>\n",
              "</dd>\n",
              "\t<dt>$beta</dt>\n",
              "\t\t<dd><style>\n",
              ".list-inline {list-style: none; margin:0; padding: 0}\n",
              ".list-inline>li {display: inline-block}\n",
              ".list-inline>li:not(:last-child)::after {content: \"\\00b7\"; padding: 0 .5ex}\n",
              "</style>\n",
              "<ol class=list-inline><li>0.0497870683678639</li><li>0.135335283236613</li><li>0.367879441171442</li><li>1</li><li>2.71828182845905</li><li>7.38905609893065</li><li>20.0855369231877</li></ol>\n",
              "</dd>\n",
              "\t<dt>$logic</dt>\n",
              "\t\t<dd><style>\n",
              ".list-inline {list-style: none; margin:0; padding: 0}\n",
              ".list-inline>li {display: inline-block}\n",
              ".list-inline>li:not(:last-child)::after {content: \"\\00b7\"; padding: 0 .5ex}\n",
              "</style>\n",
              "<ol class=list-inline><li>TRUE</li><li>FALSE</li><li>FALSE</li><li>TRUE</li></ol>\n",
              "</dd>\n",
              "</dl>\n"
            ],
            "text/markdown": "$a\n:   1. 1\n2. 2\n3. 3\n4. 4\n5. 5\n6. 6\n7. 7\n8. 8\n9. 9\n10. 10\n\n\n\n$beta\n:   1. 0.0497870683678639\n2. 0.135335283236613\n3. 0.367879441171442\n4. 1\n5. 2.71828182845905\n6. 7.38905609893065\n7. 20.0855369231877\n\n\n\n$logic\n:   1. TRUE\n2. FALSE\n3. FALSE\n4. TRUE\n\n\n\n\n\n",
            "text/latex": "\\begin{description}\n\\item[\\$a] \\begin{enumerate*}\n\\item 1\n\\item 2\n\\item 3\n\\item 4\n\\item 5\n\\item 6\n\\item 7\n\\item 8\n\\item 9\n\\item 10\n\\end{enumerate*}\n\n\\item[\\$beta] \\begin{enumerate*}\n\\item 0.0497870683678639\n\\item 0.135335283236613\n\\item 0.367879441171442\n\\item 1\n\\item 2.71828182845905\n\\item 7.38905609893065\n\\item 20.0855369231877\n\\end{enumerate*}\n\n\\item[\\$logic] \\begin{enumerate*}\n\\item TRUE\n\\item FALSE\n\\item FALSE\n\\item TRUE\n\\end{enumerate*}\n\n\\end{description}\n",
            "text/plain": [
              "$a\n",
              " [1]  1  2  3  4  5  6  7  8  9 10\n",
              "\n",
              "$beta\n",
              "[1]  0.04978707  0.13533528  0.36787944  1.00000000  2.71828183  7.38905610\n",
              "[7] 20.08553692\n",
              "\n",
              "$logic\n",
              "[1]  TRUE FALSE FALSE  TRUE\n"
            ]
          },
          "metadata": {}
        },
        {
          "output_type": "stream",
          "name": "stdout",
          "text": [
            "\n"
          ]
        },
        {
          "output_type": "display_data",
          "data": {
            "text/html": [
              "<style>\n",
              ".list-inline {list-style: none; margin:0; padding: 0}\n",
              ".list-inline>li {display: inline-block}\n",
              ".list-inline>li:not(:last-child)::after {content: \"\\00b7\"; padding: 0 .5ex}\n",
              "</style>\n",
              "<ol class=list-inline><li>TRUE</li><li>FALSE</li><li>FALSE</li><li>TRUE</li></ol>\n"
            ],
            "text/markdown": "1. TRUE\n2. FALSE\n3. FALSE\n4. TRUE\n\n\n",
            "text/latex": "\\begin{enumerate*}\n\\item TRUE\n\\item FALSE\n\\item FALSE\n\\item TRUE\n\\end{enumerate*}\n",
            "text/plain": [
              "[1]  TRUE FALSE FALSE  TRUE"
            ]
          },
          "metadata": {}
        },
        {
          "output_type": "display_data",
          "data": {
            "text/html": [
              "<style>\n",
              ".list-inline {list-style: none; margin:0; padding: 0}\n",
              ".list-inline>li {display: inline-block}\n",
              ".list-inline>li:not(:last-child)::after {content: \"\\00b7\"; padding: 0 .5ex}\n",
              "</style>\n",
              "<ol class=list-inline><li>TRUE</li><li>FALSE</li><li>FALSE</li><li>TRUE</li></ol>\n"
            ],
            "text/markdown": "1. TRUE\n2. FALSE\n3. FALSE\n4. TRUE\n\n\n",
            "text/latex": "\\begin{enumerate*}\n\\item TRUE\n\\item FALSE\n\\item FALSE\n\\item TRUE\n\\end{enumerate*}\n",
            "text/plain": [
              "[1]  TRUE FALSE FALSE  TRUE"
            ]
          },
          "metadata": {}
        },
        {
          "output_type": "stream",
          "name": "stdout",
          "text": [
            "\n"
          ]
        },
        {
          "output_type": "display_data",
          "data": {
            "text/html": [
              "<style>\n",
              ".dl-inline {width: auto; margin:0; padding: 0}\n",
              ".dl-inline>dt, .dl-inline>dd {float: none; width: auto; display: inline-block}\n",
              ".dl-inline>dt::after {content: \":\\0020\"; padding-right: .5ex}\n",
              ".dl-inline>dt:not(:first-of-type) {padding-left: .5ex}\n",
              "</style><dl class=dl-inline><dt>a</dt><dd>5.5</dd><dt>beta</dt><dd>4.53512523476476</dd><dt>logic</dt><dd>0.5</dd></dl>\n"
            ],
            "text/markdown": "a\n:   5.5beta\n:   4.53512523476476logic\n:   0.5\n\n",
            "text/latex": "\\begin{description*}\n\\item[a] 5.5\n\\item[beta] 4.53512523476476\n\\item[logic] 0.5\n\\end{description*}\n",
            "text/plain": [
              "       a     beta    logic \n",
              "5.500000 4.535125 0.500000 "
            ]
          },
          "metadata": {}
        },
        {
          "output_type": "stream",
          "name": "stdout",
          "text": [
            "\n"
          ]
        },
        {
          "output_type": "display_data",
          "data": {
            "text/html": [
              "<dl>\n",
              "\t<dt>$a</dt>\n",
              "\t\t<dd><style>\n",
              ".list-inline {list-style: none; margin:0; padding: 0}\n",
              ".list-inline>li {display: inline-block}\n",
              ".list-inline>li:not(:last-child)::after {content: \"\\00b7\"; padding: 0 .5ex}\n",
              "</style>\n",
              "<ol class=list-inline><li>1</li><li>2</li><li>3</li><li>4</li><li>5</li><li>6</li><li>7</li><li>8</li><li>9</li><li>10</li></ol>\n",
              "</dd>\n",
              "\t<dt>$beta</dt>\n",
              "\t\t<dd><style>\n",
              ".list-inline {list-style: none; margin:0; padding: 0}\n",
              ".list-inline>li {display: inline-block}\n",
              ".list-inline>li:not(:last-child)::after {content: \"\\00b7\"; padding: 0 .5ex}\n",
              "</style>\n",
              "<ol class=list-inline><li>0.0497870683678639</li><li>0.135335283236613</li><li>0.367879441171442</li><li>1</li><li>2.71828182845905</li><li>7.38905609893065</li><li>20.0855369231877</li></ol>\n",
              "</dd>\n",
              "\t<dt>$logic</dt>\n",
              "\t\t<dd><style>\n",
              ".list-inline {list-style: none; margin:0; padding: 0}\n",
              ".list-inline>li {display: inline-block}\n",
              ".list-inline>li:not(:last-child)::after {content: \"\\00b7\"; padding: 0 .5ex}\n",
              "</style>\n",
              "<ol class=list-inline><li>TRUE</li><li>FALSE</li><li>FALSE</li><li>TRUE</li></ol>\n",
              "</dd>\n",
              "\t<dt>$letters</dt>\n",
              "\t\t<dd><style>\n",
              ".list-inline {list-style: none; margin:0; padding: 0}\n",
              ".list-inline>li {display: inline-block}\n",
              ".list-inline>li:not(:last-child)::after {content: \"\\00b7\"; padding: 0 .5ex}\n",
              "</style>\n",
              "<ol class=list-inline><li>'a'</li><li>'b'</li><li>'c'</li><li>'d'</li><li>'e'</li><li>'f'</li><li>'g'</li><li>'h'</li><li>'i'</li><li>'j'</li></ol>\n",
              "</dd>\n",
              "</dl>\n"
            ],
            "text/markdown": "$a\n:   1. 1\n2. 2\n3. 3\n4. 4\n5. 5\n6. 6\n7. 7\n8. 8\n9. 9\n10. 10\n\n\n\n$beta\n:   1. 0.0497870683678639\n2. 0.135335283236613\n3. 0.367879441171442\n4. 1\n5. 2.71828182845905\n6. 7.38905609893065\n7. 20.0855369231877\n\n\n\n$logic\n:   1. TRUE\n2. FALSE\n3. FALSE\n4. TRUE\n\n\n\n$letters\n:   1. 'a'\n2. 'b'\n3. 'c'\n4. 'd'\n5. 'e'\n6. 'f'\n7. 'g'\n8. 'h'\n9. 'i'\n10. 'j'\n\n\n\n\n\n",
            "text/latex": "\\begin{description}\n\\item[\\$a] \\begin{enumerate*}\n\\item 1\n\\item 2\n\\item 3\n\\item 4\n\\item 5\n\\item 6\n\\item 7\n\\item 8\n\\item 9\n\\item 10\n\\end{enumerate*}\n\n\\item[\\$beta] \\begin{enumerate*}\n\\item 0.0497870683678639\n\\item 0.135335283236613\n\\item 0.367879441171442\n\\item 1\n\\item 2.71828182845905\n\\item 7.38905609893065\n\\item 20.0855369231877\n\\end{enumerate*}\n\n\\item[\\$logic] \\begin{enumerate*}\n\\item TRUE\n\\item FALSE\n\\item FALSE\n\\item TRUE\n\\end{enumerate*}\n\n\\item[\\$letters] \\begin{enumerate*}\n\\item 'a'\n\\item 'b'\n\\item 'c'\n\\item 'd'\n\\item 'e'\n\\item 'f'\n\\item 'g'\n\\item 'h'\n\\item 'i'\n\\item 'j'\n\\end{enumerate*}\n\n\\end{description}\n",
            "text/plain": [
              "$a\n",
              " [1]  1  2  3  4  5  6  7  8  9 10\n",
              "\n",
              "$beta\n",
              "[1]  0.04978707  0.13533528  0.36787944  1.00000000  2.71828183  7.38905610\n",
              "[7] 20.08553692\n",
              "\n",
              "$logic\n",
              "[1]  TRUE FALSE FALSE  TRUE\n",
              "\n",
              "$letters\n",
              " [1] \"a\" \"b\" \"c\" \"d\" \"e\" \"f\" \"g\" \"h\" \"i\" \"j\"\n"
            ]
          },
          "metadata": {}
        },
        {
          "output_type": "stream",
          "name": "stdout",
          "text": [
            "\n"
          ]
        },
        {
          "output_type": "display_data",
          "data": {
            "text/html": [
              "<style>\n",
              ".dl-inline {width: auto; margin:0; padding: 0}\n",
              ".dl-inline>dt, .dl-inline>dd {float: none; width: auto; display: inline-block}\n",
              ".dl-inline>dt::after {content: \":\\0020\"; padding-right: .5ex}\n",
              ".dl-inline>dt:not(:first-of-type) {padding-left: .5ex}\n",
              "</style><dl class=dl-inline><dt>a1</dt><dd>'1'</dd><dt>a2</dt><dd>'2'</dd><dt>a3</dt><dd>'3'</dd><dt>a4</dt><dd>'4'</dd><dt>a5</dt><dd>'5'</dd><dt>a6</dt><dd>'6'</dd><dt>a7</dt><dd>'7'</dd><dt>a8</dt><dd>'8'</dd><dt>a9</dt><dd>'9'</dd><dt>a10</dt><dd>'10'</dd><dt>beta1</dt><dd>'0.0497870683678639'</dd><dt>beta2</dt><dd>'0.135335283236613'</dd><dt>beta3</dt><dd>'0.367879441171442'</dd><dt>beta4</dt><dd>'1'</dd><dt>beta5</dt><dd>'2.71828182845905'</dd><dt>beta6</dt><dd>'7.38905609893065'</dd><dt>beta7</dt><dd>'20.0855369231877'</dd><dt>logic1</dt><dd>'TRUE'</dd><dt>logic2</dt><dd>'FALSE'</dd><dt>logic3</dt><dd>'FALSE'</dd><dt>logic4</dt><dd>'TRUE'</dd><dt>letters1</dt><dd>'a'</dd><dt>letters2</dt><dd>'b'</dd><dt>letters3</dt><dd>'c'</dd><dt>letters4</dt><dd>'d'</dd><dt>letters5</dt><dd>'e'</dd><dt>letters6</dt><dd>'f'</dd><dt>letters7</dt><dd>'g'</dd><dt>letters8</dt><dd>'h'</dd><dt>letters9</dt><dd>'i'</dd><dt>letters10</dt><dd>'j'</dd></dl>\n"
            ],
            "text/markdown": "a1\n:   '1'a2\n:   '2'a3\n:   '3'a4\n:   '4'a5\n:   '5'a6\n:   '6'a7\n:   '7'a8\n:   '8'a9\n:   '9'a10\n:   '10'beta1\n:   '0.0497870683678639'beta2\n:   '0.135335283236613'beta3\n:   '0.367879441171442'beta4\n:   '1'beta5\n:   '2.71828182845905'beta6\n:   '7.38905609893065'beta7\n:   '20.0855369231877'logic1\n:   'TRUE'logic2\n:   'FALSE'logic3\n:   'FALSE'logic4\n:   'TRUE'letters1\n:   'a'letters2\n:   'b'letters3\n:   'c'letters4\n:   'd'letters5\n:   'e'letters6\n:   'f'letters7\n:   'g'letters8\n:   'h'letters9\n:   'i'letters10\n:   'j'\n\n",
            "text/latex": "\\begin{description*}\n\\item[a1] '1'\n\\item[a2] '2'\n\\item[a3] '3'\n\\item[a4] '4'\n\\item[a5] '5'\n\\item[a6] '6'\n\\item[a7] '7'\n\\item[a8] '8'\n\\item[a9] '9'\n\\item[a10] '10'\n\\item[beta1] '0.0497870683678639'\n\\item[beta2] '0.135335283236613'\n\\item[beta3] '0.367879441171442'\n\\item[beta4] '1'\n\\item[beta5] '2.71828182845905'\n\\item[beta6] '7.38905609893065'\n\\item[beta7] '20.0855369231877'\n\\item[logic1] 'TRUE'\n\\item[logic2] 'FALSE'\n\\item[logic3] 'FALSE'\n\\item[logic4] 'TRUE'\n\\item[letters1] 'a'\n\\item[letters2] 'b'\n\\item[letters3] 'c'\n\\item[letters4] 'd'\n\\item[letters5] 'e'\n\\item[letters6] 'f'\n\\item[letters7] 'g'\n\\item[letters8] 'h'\n\\item[letters9] 'i'\n\\item[letters10] 'j'\n\\end{description*}\n",
            "text/plain": [
              "                  a1                   a2                   a3 \n",
              "                 \"1\"                  \"2\"                  \"3\" \n",
              "                  a4                   a5                   a6 \n",
              "                 \"4\"                  \"5\"                  \"6\" \n",
              "                  a7                   a8                   a9 \n",
              "                 \"7\"                  \"8\"                  \"9\" \n",
              "                 a10                beta1                beta2 \n",
              "                \"10\" \"0.0497870683678639\"  \"0.135335283236613\" \n",
              "               beta3                beta4                beta5 \n",
              " \"0.367879441171442\"                  \"1\"   \"2.71828182845905\" \n",
              "               beta6                beta7               logic1 \n",
              "  \"7.38905609893065\"   \"20.0855369231877\"               \"TRUE\" \n",
              "              logic2               logic3               logic4 \n",
              "             \"FALSE\"              \"FALSE\"               \"TRUE\" \n",
              "            letters1             letters2             letters3 \n",
              "                 \"a\"                  \"b\"                  \"c\" \n",
              "            letters4             letters5             letters6 \n",
              "                 \"d\"                  \"e\"                  \"f\" \n",
              "            letters7             letters8             letters9 \n",
              "                 \"g\"                  \"h\"                  \"i\" \n",
              "           letters10 \n",
              "                 \"j\" "
            ]
          },
          "metadata": {}
        },
        {
          "output_type": "stream",
          "name": "stdout",
          "text": [
            "\n"
          ]
        },
        {
          "output_type": "display_data",
          "data": {
            "text/html": [
              "'character'"
            ],
            "text/markdown": "'character'",
            "text/latex": "'character'",
            "text/plain": [
              "[1] \"character\""
            ]
          },
          "metadata": {}
        },
        {
          "output_type": "stream",
          "name": "stdout",
          "text": [
            "\n"
          ]
        },
        {
          "output_type": "display_data",
          "data": {
            "text/html": [
              "'character'"
            ],
            "text/markdown": "'character'",
            "text/latex": "'character'",
            "text/plain": [
              "[1] \"character\""
            ]
          },
          "metadata": {}
        },
        {
          "output_type": "stream",
          "name": "stdout",
          "text": [
            "\n"
          ]
        },
        {
          "output_type": "display_data",
          "data": {
            "text/html": [
              "<table class=\"dataframe\">\n",
              "<caption>A data.table: 10 × 4</caption>\n",
              "<thead>\n",
              "\t<tr><th scope=col>a</th><th scope=col>beta</th><th scope=col>logic</th><th scope=col>letters</th></tr>\n",
              "\t<tr><th scope=col>&lt;int&gt;</th><th scope=col>&lt;dbl&gt;</th><th scope=col>&lt;lgl&gt;</th><th scope=col>&lt;chr&gt;</th></tr>\n",
              "</thead>\n",
              "<tbody>\n",
              "\t<tr><td> 1</td><td> 0.04978707</td><td> TRUE</td><td>a</td></tr>\n",
              "\t<tr><td> 2</td><td> 0.13533528</td><td>FALSE</td><td>b</td></tr>\n",
              "\t<tr><td> 3</td><td> 0.36787944</td><td>FALSE</td><td>c</td></tr>\n",
              "\t<tr><td> 4</td><td> 1.00000000</td><td> TRUE</td><td>d</td></tr>\n",
              "\t<tr><td> 5</td><td> 2.71828183</td><td> TRUE</td><td>e</td></tr>\n",
              "\t<tr><td> 6</td><td> 7.38905610</td><td>FALSE</td><td>f</td></tr>\n",
              "\t<tr><td> 7</td><td>20.08553692</td><td>FALSE</td><td>g</td></tr>\n",
              "\t<tr><td> 8</td><td> 0.04978707</td><td> TRUE</td><td>h</td></tr>\n",
              "\t<tr><td> 9</td><td> 0.13533528</td><td> TRUE</td><td>i</td></tr>\n",
              "\t<tr><td>10</td><td> 0.36787944</td><td>FALSE</td><td>j</td></tr>\n",
              "</tbody>\n",
              "</table>\n"
            ],
            "text/markdown": "\nA data.table: 10 × 4\n\n| a &lt;int&gt; | beta &lt;dbl&gt; | logic &lt;lgl&gt; | letters &lt;chr&gt; |\n|---|---|---|---|\n|  1 |  0.04978707 |  TRUE | a |\n|  2 |  0.13533528 | FALSE | b |\n|  3 |  0.36787944 | FALSE | c |\n|  4 |  1.00000000 |  TRUE | d |\n|  5 |  2.71828183 |  TRUE | e |\n|  6 |  7.38905610 | FALSE | f |\n|  7 | 20.08553692 | FALSE | g |\n|  8 |  0.04978707 |  TRUE | h |\n|  9 |  0.13533528 |  TRUE | i |\n| 10 |  0.36787944 | FALSE | j |\n\n",
            "text/latex": "A data.table: 10 × 4\n\\begin{tabular}{llll}\n a & beta & logic & letters\\\\\n <int> & <dbl> & <lgl> & <chr>\\\\\n\\hline\n\t  1 &  0.04978707 &  TRUE & a\\\\\n\t  2 &  0.13533528 & FALSE & b\\\\\n\t  3 &  0.36787944 & FALSE & c\\\\\n\t  4 &  1.00000000 &  TRUE & d\\\\\n\t  5 &  2.71828183 &  TRUE & e\\\\\n\t  6 &  7.38905610 & FALSE & f\\\\\n\t  7 & 20.08553692 & FALSE & g\\\\\n\t  8 &  0.04978707 &  TRUE & h\\\\\n\t  9 &  0.13533528 &  TRUE & i\\\\\n\t 10 &  0.36787944 & FALSE & j\\\\\n\\end{tabular}\n",
            "text/plain": [
              "   a  beta        logic letters\n",
              "1   1  0.04978707  TRUE a      \n",
              "2   2  0.13533528 FALSE b      \n",
              "3   3  0.36787944 FALSE c      \n",
              "4   4  1.00000000  TRUE d      \n",
              "5   5  2.71828183  TRUE e      \n",
              "6   6  7.38905610 FALSE f      \n",
              "7   7 20.08553692 FALSE g      \n",
              "8   8  0.04978707  TRUE h      \n",
              "9   9  0.13533528  TRUE i      \n",
              "10 10  0.36787944 FALSE j      "
            ]
          },
          "metadata": {}
        }
      ]
    },
    {
      "cell_type": "markdown",
      "source": [
        "\n",
        "\n",
        "---\n",
        "\n"
      ],
      "metadata": {
        "id": "tMGufgFGcBBh"
      }
    },
    {
      "cell_type": "markdown",
      "source": [
        "**Задание 3.**"
      ],
      "metadata": {
        "id": "1Kqfb0zlcHIR"
      }
    },
    {
      "cell_type": "markdown",
      "source": [
        "Создайте таблицу данных из двух столбцов – год рождения и год поступления для студентов вашей группы. Задайте имена столбцов («год рождения», «год поступления») и строк (фамилии). Фамилии в таблице должны быть расположены в лексикографическом порядке.\n",
        "\n",
        "Добавьте два новых столбца к таблице данных – «задолженность» и «курс», на котором имеется задолженность. Если задолженности нет, то номер курса = NA.\n",
        "Заполните таблицу данных, руководствуясь достоверными сведениями от ваших одногруппников.\n",
        "\n",
        "Какова размерность полученной таблицы?\n",
        "\n",
        "Осуществите поиск по таблице данных (с помощью функции grep()) и определите номер(-а) самого молодого(-ых) и самого старого(-ых) студентов в группе.\n",
        "\n",
        "Выведите на экран фамилию(-ии) самого(-ых) старого(-ых) студента(-ов) в группе.\n",
        "\n",
        "Выведите на экран фамилию(-ии) самого(-ых) молодого(-ых) студента(-ов) в группе.\n",
        "\n",
        "Запишите таблицу данных в файлы table1 и table2 с помощью различных функций записи (write.table и write.csv) и прочтите полученные файлы с помощью соответствующих функций чтения.\n",
        "\n",
        "Запишите таблицу данных в файл Excel (book.xls), а затем и прочтите его. (Для этого нужно установить один из специализированных пакетов для работы с Excel файлами - `xlsx` или `openxlsx`).\n",
        "\n",
        "Добавьте к книге Excel book.xls еще один лист, в котором будут храниться только фамилии студентов группы (в алфавитном порядке).\n"
      ],
      "metadata": {
        "id": "njEwqtM26gmx"
      }
    },
    {
      "cell_type": "code",
      "source": [
        "students <- data.frame(\n",
        "  \"Фамилия\" = c(\"Ванчинга\", \"Дзахмишев\", \"Дурдалыев\", \"Ендонова\", \"Куляпин\", \"Лихтенштейн\", \"Мугари\", \"Нве Манге\", \"Олейник\", \"Рябцев\", \"Сильвен\", \"Сингх\", \"Туем\", \"Шилоносов\", \"Шияпова\", \"Шошина\", \"Шубнякова\", \"Шуплецов\", \"Грузинова\", \"Эспиноса\", \"Адабор\"),\n",
        "  \"Год рождения\" = c(2003, 2004, 2002, 2004, 2005, 2004, 2000, 2000, 2004, 2003, 2003, 2003, 1997, 2004, 2004, 2003, 2004, 2002, 2004, 2003, 2003),\n",
        "  \"Год поступления\" = c(rep(2022, 21))\n",
        ")\n",
        "\n",
        "colnames(students) <- c(\"Фамилия\", \"Год рождения\", \"Год поступления\")\n",
        "\n",
        "students <- students[order(students$Фамилия),]\n",
        "students\n",
        "\n",
        "students$Задолженность <- c(\"нет\", \"Математический анализ\", \"нет\", \"нет\", \"нет\", \"нет\", \"Математический анализ\", \"нет\", \"нет\", \"нет\", \"нет\", \"нет\", \"Математический анализ\", \"Математическая логика\", \"нет\", \"нет\", \"нет\", \"нет\", \"нет\", \"нет\", \"нет\")\n",
        "\n",
        "students$Курс <- ifelse(students$Задолженность == \"нет\", 2, NA)\n",
        "\n",
        "dim(students)\n",
        "\n",
        "youngest <- which.max(students$\"Год рождения\")\n",
        "oldest <- which.min(students$\"Год рождения\")\n",
        "\n",
        "cat(\"Самый молодой студент:\", students$Фамилия[youngest], \"\\n\")\n",
        "cat(\"Самый старый студент:\", students$Фамилия[oldest], \"\\n\")\n",
        "\n",
        "\n",
        "install.packages(\"openxlsx\", dependencies=TRUE)\n",
        "\n",
        "library(openxlsx)\n",
        "\n",
        "write.table(students, \"table1.txt\", sep = \" \")\n",
        "\n",
        "write.csv(students, \"table2.csv\")\n",
        "\n",
        "read_table1 <- read.table(\"table1.txt\", header = TRUE)\n",
        "read_table2 <- read.csv(\"table2.csv\")\n",
        "library(openxlsx)\n",
        "\n",
        "write.xlsx(students, \"book.xlsx\", sheetName = \"Студенты\")\n",
        "\n",
        "read_excel <- read.xlsx(\"book.xlsx\", sheet = \"Студенты\")\n",
        "\n",
        "student_names <- data.frame(\"Фамилия\" = sort(students$Фамилия))\n",
        "write.xlsx(list(Студенты = students, Фамилии = student_names), \"book.xlsx\")"
      ],
      "metadata": {
        "colab": {
          "base_uri": "https://localhost:8080/",
          "height": 863
        },
        "id": "rRIkb9sqfHCD",
        "outputId": "1655d01e-b721-48e3-9140-0207773646dd"
      },
      "execution_count": null,
      "outputs": [
        {
          "output_type": "display_data",
          "data": {
            "text/html": [
              "<table class=\"dataframe\">\n",
              "<caption>A data.frame: 21 × 3</caption>\n",
              "<thead>\n",
              "\t<tr><th></th><th scope=col>Фамилия</th><th scope=col>Год рождения</th><th scope=col>Год поступления</th></tr>\n",
              "\t<tr><th></th><th scope=col>&lt;chr&gt;</th><th scope=col>&lt;dbl&gt;</th><th scope=col>&lt;dbl&gt;</th></tr>\n",
              "</thead>\n",
              "<tbody>\n",
              "\t<tr><th scope=row>21</th><td>Адабор     </td><td>2003</td><td>2022</td></tr>\n",
              "\t<tr><th scope=row>1</th><td>Ванчинга   </td><td>2003</td><td>2022</td></tr>\n",
              "\t<tr><th scope=row>19</th><td>Грузинова  </td><td>2004</td><td>2022</td></tr>\n",
              "\t<tr><th scope=row>2</th><td>Дзахмишев  </td><td>2004</td><td>2022</td></tr>\n",
              "\t<tr><th scope=row>3</th><td>Дурдалыев  </td><td>2002</td><td>2022</td></tr>\n",
              "\t<tr><th scope=row>4</th><td>Ендонова   </td><td>2004</td><td>2022</td></tr>\n",
              "\t<tr><th scope=row>5</th><td>Куляпин    </td><td>2005</td><td>2022</td></tr>\n",
              "\t<tr><th scope=row>6</th><td>Лихтенштейн</td><td>2004</td><td>2022</td></tr>\n",
              "\t<tr><th scope=row>7</th><td>Мугари     </td><td>2000</td><td>2022</td></tr>\n",
              "\t<tr><th scope=row>8</th><td>Нве Манге  </td><td>2000</td><td>2022</td></tr>\n",
              "\t<tr><th scope=row>9</th><td>Олейник    </td><td>2004</td><td>2022</td></tr>\n",
              "\t<tr><th scope=row>10</th><td>Рябцев     </td><td>2003</td><td>2022</td></tr>\n",
              "\t<tr><th scope=row>11</th><td>Сильвен    </td><td>2003</td><td>2022</td></tr>\n",
              "\t<tr><th scope=row>12</th><td>Сингх      </td><td>2003</td><td>2022</td></tr>\n",
              "\t<tr><th scope=row>13</th><td>Туем       </td><td>1997</td><td>2022</td></tr>\n",
              "\t<tr><th scope=row>14</th><td>Шилоносов  </td><td>2004</td><td>2022</td></tr>\n",
              "\t<tr><th scope=row>15</th><td>Шияпова    </td><td>2004</td><td>2022</td></tr>\n",
              "\t<tr><th scope=row>16</th><td>Шошина     </td><td>2003</td><td>2022</td></tr>\n",
              "\t<tr><th scope=row>17</th><td>Шубнякова  </td><td>2004</td><td>2022</td></tr>\n",
              "\t<tr><th scope=row>18</th><td>Шуплецов   </td><td>2002</td><td>2022</td></tr>\n",
              "\t<tr><th scope=row>20</th><td>Эспиноса   </td><td>2003</td><td>2022</td></tr>\n",
              "</tbody>\n",
              "</table>\n"
            ],
            "text/markdown": "\nA data.frame: 21 × 3\n\n| <!--/--> | Фамилия &lt;chr&gt; | Год рождения &lt;dbl&gt; | Год поступления &lt;dbl&gt; |\n|---|---|---|---|\n| 21 | Адабор      | 2003 | 2022 |\n| 1 | Ванчинга    | 2003 | 2022 |\n| 19 | Грузинова   | 2004 | 2022 |\n| 2 | Дзахмишев   | 2004 | 2022 |\n| 3 | Дурдалыев   | 2002 | 2022 |\n| 4 | Ендонова    | 2004 | 2022 |\n| 5 | Куляпин     | 2005 | 2022 |\n| 6 | Лихтенштейн | 2004 | 2022 |\n| 7 | Мугари      | 2000 | 2022 |\n| 8 | Нве Манге   | 2000 | 2022 |\n| 9 | Олейник     | 2004 | 2022 |\n| 10 | Рябцев      | 2003 | 2022 |\n| 11 | Сильвен     | 2003 | 2022 |\n| 12 | Сингх       | 2003 | 2022 |\n| 13 | Туем        | 1997 | 2022 |\n| 14 | Шилоносов   | 2004 | 2022 |\n| 15 | Шияпова     | 2004 | 2022 |\n| 16 | Шошина      | 2003 | 2022 |\n| 17 | Шубнякова   | 2004 | 2022 |\n| 18 | Шуплецов    | 2002 | 2022 |\n| 20 | Эспиноса    | 2003 | 2022 |\n\n",
            "text/latex": "A data.frame: 21 × 3\n\\begin{tabular}{r|lll}\n  & Фамилия & Год рождения & Год поступления\\\\\n  & <chr> & <dbl> & <dbl>\\\\\n\\hline\n\t21 & Адабор      & 2003 & 2022\\\\\n\t1 & Ванчинга    & 2003 & 2022\\\\\n\t19 & Грузинова   & 2004 & 2022\\\\\n\t2 & Дзахмишев   & 2004 & 2022\\\\\n\t3 & Дурдалыев   & 2002 & 2022\\\\\n\t4 & Ендонова    & 2004 & 2022\\\\\n\t5 & Куляпин     & 2005 & 2022\\\\\n\t6 & Лихтенштейн & 2004 & 2022\\\\\n\t7 & Мугари      & 2000 & 2022\\\\\n\t8 & Нве Манге   & 2000 & 2022\\\\\n\t9 & Олейник     & 2004 & 2022\\\\\n\t10 & Рябцев      & 2003 & 2022\\\\\n\t11 & Сильвен     & 2003 & 2022\\\\\n\t12 & Сингх       & 2003 & 2022\\\\\n\t13 & Туем        & 1997 & 2022\\\\\n\t14 & Шилоносов   & 2004 & 2022\\\\\n\t15 & Шияпова     & 2004 & 2022\\\\\n\t16 & Шошина      & 2003 & 2022\\\\\n\t17 & Шубнякова   & 2004 & 2022\\\\\n\t18 & Шуплецов    & 2002 & 2022\\\\\n\t20 & Эспиноса    & 2003 & 2022\\\\\n\\end{tabular}\n",
            "text/plain": [
              "   Фамилия     Год рождения Год поступления\n",
              "21 Адабор      2003         2022           \n",
              "1  Ванчинга    2003         2022           \n",
              "19 Грузинова   2004         2022           \n",
              "2  Дзахмишев   2004         2022           \n",
              "3  Дурдалыев   2002         2022           \n",
              "4  Ендонова    2004         2022           \n",
              "5  Куляпин     2005         2022           \n",
              "6  Лихтенштейн 2004         2022           \n",
              "7  Мугари      2000         2022           \n",
              "8  Нве Манге   2000         2022           \n",
              "9  Олейник     2004         2022           \n",
              "10 Рябцев      2003         2022           \n",
              "11 Сильвен     2003         2022           \n",
              "12 Сингх       2003         2022           \n",
              "13 Туем        1997         2022           \n",
              "14 Шилоносов   2004         2022           \n",
              "15 Шияпова     2004         2022           \n",
              "16 Шошина      2003         2022           \n",
              "17 Шубнякова   2004         2022           \n",
              "18 Шуплецов    2002         2022           \n",
              "20 Эспиноса    2003         2022           "
            ]
          },
          "metadata": {}
        },
        {
          "output_type": "display_data",
          "data": {
            "text/html": [
              "<style>\n",
              ".list-inline {list-style: none; margin:0; padding: 0}\n",
              ".list-inline>li {display: inline-block}\n",
              ".list-inline>li:not(:last-child)::after {content: \"\\00b7\"; padding: 0 .5ex}\n",
              "</style>\n",
              "<ol class=list-inline><li>21</li><li>5</li></ol>\n"
            ],
            "text/markdown": "1. 21\n2. 5\n\n\n",
            "text/latex": "\\begin{enumerate*}\n\\item 21\n\\item 5\n\\end{enumerate*}\n",
            "text/plain": [
              "[1] 21  5"
            ]
          },
          "metadata": {}
        },
        {
          "output_type": "stream",
          "name": "stdout",
          "text": [
            "Самый молодой студент: Куляпин \n",
            "Самый старый студент: Туем \n"
          ]
        },
        {
          "output_type": "stream",
          "name": "stderr",
          "text": [
            "Installing package into ‘/usr/local/lib/R/site-library’\n",
            "(as ‘lib’ is unspecified)\n",
            "\n"
          ]
        }
      ]
    },
    {
      "cell_type": "markdown",
      "source": [
        "\n",
        "\n",
        "---\n",
        "\n"
      ],
      "metadata": {
        "id": "ZMCYa6_8s7w7"
      }
    },
    {
      "cell_type": "markdown",
      "source": [
        "**Задание 4.**\n",
        "\n",
        "Имеется файл с данными (data8.csv), где записаны результаты измерений погодных условий и даты измерений в столбцах с именами: ${\\tt Ozone, Solar.R, Wind, Temp, Month, Day}$.\n",
        "* Создайте таблицу данных ${\\tt w\\_data}$, прочитав данные из этого файла. Сколько всего наблюдений (по дням) содержится в таблице данных?\n",
        "* Извлеките первые 2 строки из таблицы данных и выведите их на экран.\n",
        "* Извлеките последние 2 строки данных выведите их на экран.\n",
        "* Какое значение у параметра ${\\tt Ozone}$ в 47 строке?\n",
        "* Сколько пропущенных значений (NA) в столбце ${\\tt Ozone}$ в таблице данных?\n",
        "* Найдите среднее значение параметра ${\\tt Ozone}$, исключив из рассмотрения пропущенные значения.\n",
        "* Извлеките из таблицы данных ${\\tt w\\_data}$ подмножество строк, таких что значения ${\\tt Ozone}$ больше 31, а значения ${\\tt Temp}$ больше 90. Каково среднее значение параметра ${\\tt Solar.R}$ в этой новой выборке?\n",
        "* Каково среднее значение ${\\tt Temp}$, когда ${\\tt Month}$ равен 6?\n",
        "* Каково максимальное значение ${\\tt Ozone}$ в мае месяце?\n",
        "\n"
      ],
      "metadata": {
        "id": "5WiiHxUWs-Wz"
      }
    },
    {
      "cell_type": "code",
      "source": [
        "w_data <- read.csv(\"data8.csv\")\n",
        "num_observations <- nrow(w_data)\n",
        "cat(\"Всего наблюдений (по дням):\", num_observations, \"\\n\")\n",
        "head(w_data, 2)\n",
        "\n",
        "tail(w_data, 2)\n",
        "\n",
        "ozone_47 <- w_data$Ozone[47]\n",
        "cat(\"Значение параметра Ozone в 47 строке:\", ozone_47, \"\\n\")\n",
        "\n",
        "na_count <- sum(is.na(w_data$Ozone))\n",
        "cat(\"Пропущенных значений в столбце Ozone:\", na_count, \"\\n\")\n",
        "\n",
        "mean_ozone <- mean(w_data$Ozone, na.rm = T)\n",
        "cat(\"Среднее значение параметра Ozone (без NA):\", mean_ozone, \"\\n\")\n",
        "\n",
        "subset_data <- w_data[w_data$Ozone > 31 & w_data$Temp > 90, ]\n",
        "mean_solar_r <- mean(subset_data$Solar.R, na.rm = T)\n",
        "cat(\"Среднее значение параметра Solar.R в выборке:\", mean_solar_r, \"\\n\")\n",
        "\n",
        "mean_temp_month_6 <- mean(w_data$Temp[w_data$Month == 6], na.rm = T)\n",
        "cat(\"Среднее значение Temp при Month=6:\", mean_temp_month_6, \"\\n\")\n",
        "\n",
        "max_ozone_may <- max(w_data$Ozone[w_data$Month == 5], na.rm = T)\n",
        "cat(\"Максимальное значение Ozone в месяце мае:\", max_ozone_may, \"\\n\")"
      ],
      "metadata": {
        "id": "keW8fN6fvw_W",
        "colab": {
          "base_uri": "https://localhost:8080/",
          "height": 430
        },
        "outputId": "c79e5219-16a8-4154-be38-ad7d3703c7f4"
      },
      "execution_count": null,
      "outputs": [
        {
          "output_type": "stream",
          "name": "stdout",
          "text": [
            "Всего наблюдений (по дням): 153 \n"
          ]
        },
        {
          "output_type": "display_data",
          "data": {
            "text/html": [
              "<table class=\"dataframe\">\n",
              "<caption>A data.frame: 2 × 6</caption>\n",
              "<thead>\n",
              "\t<tr><th></th><th scope=col>Ozone</th><th scope=col>Solar.R</th><th scope=col>Wind</th><th scope=col>Temp</th><th scope=col>Month</th><th scope=col>Day</th></tr>\n",
              "\t<tr><th></th><th scope=col>&lt;int&gt;</th><th scope=col>&lt;int&gt;</th><th scope=col>&lt;dbl&gt;</th><th scope=col>&lt;int&gt;</th><th scope=col>&lt;int&gt;</th><th scope=col>&lt;int&gt;</th></tr>\n",
              "</thead>\n",
              "<tbody>\n",
              "\t<tr><th scope=row>1</th><td>41</td><td>190</td><td>7.4</td><td>67</td><td>5</td><td>1</td></tr>\n",
              "\t<tr><th scope=row>2</th><td>36</td><td>118</td><td>8.0</td><td>72</td><td>5</td><td>2</td></tr>\n",
              "</tbody>\n",
              "</table>\n"
            ],
            "text/markdown": "\nA data.frame: 2 × 6\n\n| <!--/--> | Ozone &lt;int&gt; | Solar.R &lt;int&gt; | Wind &lt;dbl&gt; | Temp &lt;int&gt; | Month &lt;int&gt; | Day &lt;int&gt; |\n|---|---|---|---|---|---|---|\n| 1 | 41 | 190 | 7.4 | 67 | 5 | 1 |\n| 2 | 36 | 118 | 8.0 | 72 | 5 | 2 |\n\n",
            "text/latex": "A data.frame: 2 × 6\n\\begin{tabular}{r|llllll}\n  & Ozone & Solar.R & Wind & Temp & Month & Day\\\\\n  & <int> & <int> & <dbl> & <int> & <int> & <int>\\\\\n\\hline\n\t1 & 41 & 190 & 7.4 & 67 & 5 & 1\\\\\n\t2 & 36 & 118 & 8.0 & 72 & 5 & 2\\\\\n\\end{tabular}\n",
            "text/plain": [
              "  Ozone Solar.R Wind Temp Month Day\n",
              "1 41    190     7.4  67   5     1  \n",
              "2 36    118     8.0  72   5     2  "
            ]
          },
          "metadata": {}
        },
        {
          "output_type": "display_data",
          "data": {
            "text/html": [
              "<table class=\"dataframe\">\n",
              "<caption>A data.frame: 2 × 6</caption>\n",
              "<thead>\n",
              "\t<tr><th></th><th scope=col>Ozone</th><th scope=col>Solar.R</th><th scope=col>Wind</th><th scope=col>Temp</th><th scope=col>Month</th><th scope=col>Day</th></tr>\n",
              "\t<tr><th></th><th scope=col>&lt;int&gt;</th><th scope=col>&lt;int&gt;</th><th scope=col>&lt;dbl&gt;</th><th scope=col>&lt;int&gt;</th><th scope=col>&lt;int&gt;</th><th scope=col>&lt;int&gt;</th></tr>\n",
              "</thead>\n",
              "<tbody>\n",
              "\t<tr><th scope=row>152</th><td>18</td><td>131</td><td> 8.0</td><td>76</td><td>9</td><td>29</td></tr>\n",
              "\t<tr><th scope=row>153</th><td>20</td><td>223</td><td>11.5</td><td>68</td><td>9</td><td>30</td></tr>\n",
              "</tbody>\n",
              "</table>\n"
            ],
            "text/markdown": "\nA data.frame: 2 × 6\n\n| <!--/--> | Ozone &lt;int&gt; | Solar.R &lt;int&gt; | Wind &lt;dbl&gt; | Temp &lt;int&gt; | Month &lt;int&gt; | Day &lt;int&gt; |\n|---|---|---|---|---|---|---|\n| 152 | 18 | 131 |  8.0 | 76 | 9 | 29 |\n| 153 | 20 | 223 | 11.5 | 68 | 9 | 30 |\n\n",
            "text/latex": "A data.frame: 2 × 6\n\\begin{tabular}{r|llllll}\n  & Ozone & Solar.R & Wind & Temp & Month & Day\\\\\n  & <int> & <int> & <dbl> & <int> & <int> & <int>\\\\\n\\hline\n\t152 & 18 & 131 &  8.0 & 76 & 9 & 29\\\\\n\t153 & 20 & 223 & 11.5 & 68 & 9 & 30\\\\\n\\end{tabular}\n",
            "text/plain": [
              "    Ozone Solar.R Wind Temp Month Day\n",
              "152 18    131      8.0 76   9     29 \n",
              "153 20    223     11.5 68   9     30 "
            ]
          },
          "metadata": {}
        },
        {
          "output_type": "stream",
          "name": "stdout",
          "text": [
            "Значение параметра Ozone в 47 строке: 21 \n",
            "Пропущенных значений в столбце Ozone: 37 \n",
            "Среднее значение параметра Ozone (без NA): 42.12931 \n",
            "Среднее значение параметра Solar.R в выборке: 212.8 \n",
            "Среднее значение Temp при Month=6: 79.1 \n",
            "Максимальное значение Ozone в месяце мае: 115 \n"
          ]
        }
      ]
    }
  ]
}