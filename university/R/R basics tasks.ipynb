{
  "nbformat": 4,
  "nbformat_minor": 0,
  "metadata": {
    "colab": {
      "provenance": []
    },
    "kernelspec": {
      "name": "ir",
      "display_name": "R"
    },
    "language_info": {
      "name": "R"
    }
  },
  "cells": [
    {
      "cell_type": "markdown",
      "source": [
        "## Лабораторная работа 1. Шуплецов А.А. НКА бд-03-22.\n"
      ],
      "metadata": {
        "id": "iwBVCAWSxppD"
      }
    },
    {
      "cell_type": "markdown",
      "source": [
        "**Пример 1**. Пример инициализации вектора $x$, вывода его значений на экран и проверка его принадлежности к типу numeric."
      ],
      "metadata": {
        "id": "Co67G_BJ438r"
      }
    },
    {
      "cell_type": "code",
      "source": [
        "x=c(1:3,9,100/10); x\n",
        "is.numeric(x)"
      ],
      "metadata": {
        "id": "bAthEMok40HE",
        "colab": {
          "base_uri": "https://localhost:8080/",
          "height": 52
        },
        "outputId": "1cfdd4e9-0a01-4014-ef88-f3f82024abd6"
      },
      "execution_count": null,
      "outputs": [
        {
          "output_type": "display_data",
          "data": {
            "text/html": [
              "<style>\n",
              ".list-inline {list-style: none; margin:0; padding: 0}\n",
              ".list-inline>li {display: inline-block}\n",
              ".list-inline>li:not(:last-child)::after {content: \"\\00b7\"; padding: 0 .5ex}\n",
              "</style>\n",
              "<ol class=list-inline><li>1</li><li>2</li><li>3</li><li>9</li><li>10</li></ol>\n"
            ],
            "text/markdown": "1. 1\n2. 2\n3. 3\n4. 9\n5. 10\n\n\n",
            "text/latex": "\\begin{enumerate*}\n\\item 1\n\\item 2\n\\item 3\n\\item 9\n\\item 10\n\\end{enumerate*}\n",
            "text/plain": [
              "[1]  1  2  3  9 10"
            ]
          },
          "metadata": {}
        },
        {
          "output_type": "display_data",
          "data": {
            "text/html": [
              "TRUE"
            ],
            "text/markdown": "TRUE",
            "text/latex": "TRUE",
            "text/plain": [
              "[1] TRUE"
            ]
          },
          "metadata": {}
        }
      ]
    },
    {
      "cell_type": "markdown",
      "source": [
        "**Пример 2**. Пример создания символьного вектора $y$ путём добавления к числовому вектору $x$ из примера 1 символьной компоненты. Происходит автоматическое преобразование типа объекта."
      ],
      "metadata": {
        "id": "2hFcws2fI77x"
      }
    },
    {
      "cell_type": "code",
      "source": [
        "y=c(x,\"pi\"); y\n",
        "is.numeric(y)\n",
        "is.character(y)"
      ],
      "metadata": {
        "colab": {
          "base_uri": "https://localhost:8080/",
          "height": 69
        },
        "id": "szvcSYHSI_tT",
        "outputId": "d5c86b63-f733-4370-d2b5-e8a7ea51b932"
      },
      "execution_count": null,
      "outputs": [
        {
          "output_type": "display_data",
          "data": {
            "text/html": [
              "<style>\n",
              ".list-inline {list-style: none; margin:0; padding: 0}\n",
              ".list-inline>li {display: inline-block}\n",
              ".list-inline>li:not(:last-child)::after {content: \"\\00b7\"; padding: 0 .5ex}\n",
              "</style>\n",
              "<ol class=list-inline><li>'1'</li><li>'2'</li><li>'3'</li><li>'9'</li><li>'10'</li><li>'pi'</li></ol>\n"
            ],
            "text/markdown": "1. '1'\n2. '2'\n3. '3'\n4. '9'\n5. '10'\n6. 'pi'\n\n\n",
            "text/latex": "\\begin{enumerate*}\n\\item '1'\n\\item '2'\n\\item '3'\n\\item '9'\n\\item '10'\n\\item 'pi'\n\\end{enumerate*}\n",
            "text/plain": [
              "[1] \"1\"  \"2\"  \"3\"  \"9\"  \"10\" \"pi\""
            ]
          },
          "metadata": {}
        },
        {
          "output_type": "display_data",
          "data": {
            "text/html": [
              "FALSE"
            ],
            "text/markdown": "FALSE",
            "text/latex": "FALSE",
            "text/plain": [
              "[1] FALSE"
            ]
          },
          "metadata": {}
        },
        {
          "output_type": "display_data",
          "data": {
            "text/html": [
              "TRUE"
            ],
            "text/markdown": "TRUE",
            "text/latex": "TRUE",
            "text/plain": [
              "[1] TRUE"
            ]
          },
          "metadata": {}
        }
      ]
    },
    {
      "cell_type": "markdown",
      "source": [
        "\n",
        "\n",
        "---\n",
        "\n",
        "\n",
        "\n",
        "---\n",
        "\n"
      ],
      "metadata": {
        "id": "ji9dvlazJAcx"
      }
    },
    {
      "cell_type": "markdown",
      "source": [
        "**Задание 1.**\n",
        "\n",
        "Создайте векторы:\n",
        "\n",
        "\t(a) (1, 2, 3, ... , 19, 20)\n",
        "\t(b) (20, 19, ... , 2, 1)\n",
        "\t(c) (1, 2, 3, ... , 19, 20, 19, 18, ... , 2, 1)\n",
        "\t(d) (4, 6, 3) и назначьте ему имя tmp.\n",
        "\t(e) (4, 6, 3, 4, 6, 3, . . . , 4, 6, 3) , где 10 раз встречается 4.\n",
        "\t(f) (4, 6, 3, 4, 6, 3, . . . , 4, 6, 3, 4) , где 11 раз встречается, 10 раз - 6 и 10 раз - 3.\n",
        "\t(g) (4, 4, . . . , 4, 6, 6, . . . , 6, 3, 3, . . . , 3) ,  где 10 раз встречается 4, 20 раз - 6 и 30 раз - 3.\n",
        "\t(h) (2^4, 2^6, 2^3, 2^4, . . . , 2^3) , где 4 раза встречается 2^3. Сколько раз в полученном векторе встречается цифра 6?\n"
      ],
      "metadata": {
        "id": "seoYWWcB46ss"
      }
    },
    {
      "cell_type": "code",
      "execution_count": null,
      "metadata": {
        "id": "9bpVB3Q1xjIL",
        "colab": {
          "base_uri": "https://localhost:8080/",
          "height": 173
        },
        "outputId": "c609d05a-d827-4b4b-e060-12584a82bea9"
      },
      "outputs": [
        {
          "output_type": "display_data",
          "data": {
            "text/html": [
              "<style>\n",
              ".list-inline {list-style: none; margin:0; padding: 0}\n",
              ".list-inline>li {display: inline-block}\n",
              ".list-inline>li:not(:last-child)::after {content: \"\\00b7\"; padding: 0 .5ex}\n",
              "</style>\n",
              "<ol class=list-inline><li>1</li><li>2</li><li>3</li><li>4</li><li>5</li><li>6</li><li>7</li><li>8</li><li>9</li><li>10</li><li>11</li><li>12</li><li>13</li><li>14</li><li>15</li><li>16</li><li>17</li><li>18</li><li>19</li><li>20</li></ol>\n"
            ],
            "text/markdown": "1. 1\n2. 2\n3. 3\n4. 4\n5. 5\n6. 6\n7. 7\n8. 8\n9. 9\n10. 10\n11. 11\n12. 12\n13. 13\n14. 14\n15. 15\n16. 16\n17. 17\n18. 18\n19. 19\n20. 20\n\n\n",
            "text/latex": "\\begin{enumerate*}\n\\item 1\n\\item 2\n\\item 3\n\\item 4\n\\item 5\n\\item 6\n\\item 7\n\\item 8\n\\item 9\n\\item 10\n\\item 11\n\\item 12\n\\item 13\n\\item 14\n\\item 15\n\\item 16\n\\item 17\n\\item 18\n\\item 19\n\\item 20\n\\end{enumerate*}\n",
            "text/plain": [
              " [1]  1  2  3  4  5  6  7  8  9 10 11 12 13 14 15 16 17 18 19 20"
            ]
          },
          "metadata": {}
        },
        {
          "output_type": "display_data",
          "data": {
            "text/html": [
              "<style>\n",
              ".list-inline {list-style: none; margin:0; padding: 0}\n",
              ".list-inline>li {display: inline-block}\n",
              ".list-inline>li:not(:last-child)::after {content: \"\\00b7\"; padding: 0 .5ex}\n",
              "</style>\n",
              "<ol class=list-inline><li>20</li><li>19</li><li>18</li><li>17</li><li>16</li><li>15</li><li>14</li><li>13</li><li>12</li><li>11</li><li>10</li><li>9</li><li>8</li><li>7</li><li>6</li><li>5</li><li>4</li><li>3</li><li>2</li><li>1</li></ol>\n"
            ],
            "text/markdown": "1. 20\n2. 19\n3. 18\n4. 17\n5. 16\n6. 15\n7. 14\n8. 13\n9. 12\n10. 11\n11. 10\n12. 9\n13. 8\n14. 7\n15. 6\n16. 5\n17. 4\n18. 3\n19. 2\n20. 1\n\n\n",
            "text/latex": "\\begin{enumerate*}\n\\item 20\n\\item 19\n\\item 18\n\\item 17\n\\item 16\n\\item 15\n\\item 14\n\\item 13\n\\item 12\n\\item 11\n\\item 10\n\\item 9\n\\item 8\n\\item 7\n\\item 6\n\\item 5\n\\item 4\n\\item 3\n\\item 2\n\\item 1\n\\end{enumerate*}\n",
            "text/plain": [
              " [1] 20 19 18 17 16 15 14 13 12 11 10  9  8  7  6  5  4  3  2  1"
            ]
          },
          "metadata": {}
        },
        {
          "output_type": "display_data",
          "data": {
            "text/html": [
              "<style>\n",
              ".list-inline {list-style: none; margin:0; padding: 0}\n",
              ".list-inline>li {display: inline-block}\n",
              ".list-inline>li:not(:last-child)::after {content: \"\\00b7\"; padding: 0 .5ex}\n",
              "</style>\n",
              "<ol class=list-inline><li>1</li><li>2</li><li>3</li><li>4</li><li>5</li><li>6</li><li>7</li><li>8</li><li>9</li><li>10</li><li>11</li><li>12</li><li>13</li><li>14</li><li>15</li><li>16</li><li>17</li><li>18</li><li>19</li><li>20</li><li>19</li><li>18</li><li>17</li><li>16</li><li>15</li><li>14</li><li>13</li><li>12</li><li>11</li><li>10</li><li>9</li><li>8</li><li>7</li><li>6</li><li>5</li><li>4</li><li>3</li><li>2</li><li>1</li></ol>\n"
            ],
            "text/markdown": "1. 1\n2. 2\n3. 3\n4. 4\n5. 5\n6. 6\n7. 7\n8. 8\n9. 9\n10. 10\n11. 11\n12. 12\n13. 13\n14. 14\n15. 15\n16. 16\n17. 17\n18. 18\n19. 19\n20. 20\n21. 19\n22. 18\n23. 17\n24. 16\n25. 15\n26. 14\n27. 13\n28. 12\n29. 11\n30. 10\n31. 9\n32. 8\n33. 7\n34. 6\n35. 5\n36. 4\n37. 3\n38. 2\n39. 1\n\n\n",
            "text/latex": "\\begin{enumerate*}\n\\item 1\n\\item 2\n\\item 3\n\\item 4\n\\item 5\n\\item 6\n\\item 7\n\\item 8\n\\item 9\n\\item 10\n\\item 11\n\\item 12\n\\item 13\n\\item 14\n\\item 15\n\\item 16\n\\item 17\n\\item 18\n\\item 19\n\\item 20\n\\item 19\n\\item 18\n\\item 17\n\\item 16\n\\item 15\n\\item 14\n\\item 13\n\\item 12\n\\item 11\n\\item 10\n\\item 9\n\\item 8\n\\item 7\n\\item 6\n\\item 5\n\\item 4\n\\item 3\n\\item 2\n\\item 1\n\\end{enumerate*}\n",
            "text/plain": [
              " [1]  1  2  3  4  5  6  7  8  9 10 11 12 13 14 15 16 17 18 19 20 19 18 17 16 15\n",
              "[26] 14 13 12 11 10  9  8  7  6  5  4  3  2  1"
            ]
          },
          "metadata": {}
        },
        {
          "output_type": "display_data",
          "data": {
            "text/html": [
              "<style>\n",
              ".list-inline {list-style: none; margin:0; padding: 0}\n",
              ".list-inline>li {display: inline-block}\n",
              ".list-inline>li:not(:last-child)::after {content: \"\\00b7\"; padding: 0 .5ex}\n",
              "</style>\n",
              "<ol class=list-inline><li>4</li><li>6</li><li>3</li></ol>\n"
            ],
            "text/markdown": "1. 4\n2. 6\n3. 3\n\n\n",
            "text/latex": "\\begin{enumerate*}\n\\item 4\n\\item 6\n\\item 3\n\\end{enumerate*}\n",
            "text/plain": [
              "[1] 4 6 3"
            ]
          },
          "metadata": {}
        },
        {
          "output_type": "display_data",
          "data": {
            "text/html": [
              "<style>\n",
              ".list-inline {list-style: none; margin:0; padding: 0}\n",
              ".list-inline>li {display: inline-block}\n",
              ".list-inline>li:not(:last-child)::after {content: \"\\00b7\"; padding: 0 .5ex}\n",
              "</style>\n",
              "<ol class=list-inline><li>4</li><li>6</li><li>3</li><li>4</li><li>6</li><li>3</li><li>4</li><li>6</li><li>3</li><li>4</li><li>6</li><li>3</li><li>4</li><li>6</li><li>3</li><li>4</li><li>6</li><li>3</li><li>4</li><li>6</li><li>3</li><li>4</li><li>6</li><li>3</li><li>4</li><li>6</li><li>3</li><li>4</li><li>6</li><li>3</li></ol>\n"
            ],
            "text/markdown": "1. 4\n2. 6\n3. 3\n4. 4\n5. 6\n6. 3\n7. 4\n8. 6\n9. 3\n10. 4\n11. 6\n12. 3\n13. 4\n14. 6\n15. 3\n16. 4\n17. 6\n18. 3\n19. 4\n20. 6\n21. 3\n22. 4\n23. 6\n24. 3\n25. 4\n26. 6\n27. 3\n28. 4\n29. 6\n30. 3\n\n\n",
            "text/latex": "\\begin{enumerate*}\n\\item 4\n\\item 6\n\\item 3\n\\item 4\n\\item 6\n\\item 3\n\\item 4\n\\item 6\n\\item 3\n\\item 4\n\\item 6\n\\item 3\n\\item 4\n\\item 6\n\\item 3\n\\item 4\n\\item 6\n\\item 3\n\\item 4\n\\item 6\n\\item 3\n\\item 4\n\\item 6\n\\item 3\n\\item 4\n\\item 6\n\\item 3\n\\item 4\n\\item 6\n\\item 3\n\\end{enumerate*}\n",
            "text/plain": [
              " [1] 4 6 3 4 6 3 4 6 3 4 6 3 4 6 3 4 6 3 4 6 3 4 6 3 4 6 3 4 6 3"
            ]
          },
          "metadata": {}
        },
        {
          "output_type": "display_data",
          "data": {
            "text/html": [
              "<style>\n",
              ".list-inline {list-style: none; margin:0; padding: 0}\n",
              ".list-inline>li {display: inline-block}\n",
              ".list-inline>li:not(:last-child)::after {content: \"\\00b7\"; padding: 0 .5ex}\n",
              "</style>\n",
              "<ol class=list-inline><li>4</li><li>6</li><li>3</li><li>4</li><li>6</li><li>3</li><li>4</li><li>6</li><li>3</li><li>4</li><li>6</li><li>3</li><li>4</li><li>6</li><li>3</li><li>4</li><li>6</li><li>3</li><li>4</li><li>6</li><li>3</li><li>4</li><li>6</li><li>3</li><li>4</li><li>6</li><li>3</li><li>4</li><li>6</li><li>3</li><li>4</li></ol>\n"
            ],
            "text/markdown": "1. 4\n2. 6\n3. 3\n4. 4\n5. 6\n6. 3\n7. 4\n8. 6\n9. 3\n10. 4\n11. 6\n12. 3\n13. 4\n14. 6\n15. 3\n16. 4\n17. 6\n18. 3\n19. 4\n20. 6\n21. 3\n22. 4\n23. 6\n24. 3\n25. 4\n26. 6\n27. 3\n28. 4\n29. 6\n30. 3\n31. 4\n\n\n",
            "text/latex": "\\begin{enumerate*}\n\\item 4\n\\item 6\n\\item 3\n\\item 4\n\\item 6\n\\item 3\n\\item 4\n\\item 6\n\\item 3\n\\item 4\n\\item 6\n\\item 3\n\\item 4\n\\item 6\n\\item 3\n\\item 4\n\\item 6\n\\item 3\n\\item 4\n\\item 6\n\\item 3\n\\item 4\n\\item 6\n\\item 3\n\\item 4\n\\item 6\n\\item 3\n\\item 4\n\\item 6\n\\item 3\n\\item 4\n\\end{enumerate*}\n",
            "text/plain": [
              " [1] 4 6 3 4 6 3 4 6 3 4 6 3 4 6 3 4 6 3 4 6 3 4 6 3 4 6 3 4 6 3 4"
            ]
          },
          "metadata": {}
        },
        {
          "output_type": "display_data",
          "data": {
            "text/html": [
              "<style>\n",
              ".list-inline {list-style: none; margin:0; padding: 0}\n",
              ".list-inline>li {display: inline-block}\n",
              ".list-inline>li:not(:last-child)::after {content: \"\\00b7\"; padding: 0 .5ex}\n",
              "</style>\n",
              "<ol class=list-inline><li>4</li><li>4</li><li>4</li><li>4</li><li>4</li><li>4</li><li>4</li><li>4</li><li>4</li><li>4</li><li>6</li><li>6</li><li>6</li><li>6</li><li>6</li><li>6</li><li>6</li><li>6</li><li>6</li><li>6</li><li>6</li><li>6</li><li>6</li><li>6</li><li>6</li><li>6</li><li>6</li><li>6</li><li>6</li><li>6</li><li>3</li><li>3</li><li>3</li><li>3</li><li>3</li><li>3</li><li>3</li><li>3</li><li>3</li><li>3</li><li>3</li><li>3</li><li>3</li><li>3</li><li>3</li><li>3</li><li>3</li><li>3</li><li>3</li><li>3</li><li>3</li><li>3</li><li>3</li><li>3</li><li>3</li><li>3</li><li>3</li><li>3</li><li>3</li><li>3</li></ol>\n"
            ],
            "text/markdown": "1. 4\n2. 4\n3. 4\n4. 4\n5. 4\n6. 4\n7. 4\n8. 4\n9. 4\n10. 4\n11. 6\n12. 6\n13. 6\n14. 6\n15. 6\n16. 6\n17. 6\n18. 6\n19. 6\n20. 6\n21. 6\n22. 6\n23. 6\n24. 6\n25. 6\n26. 6\n27. 6\n28. 6\n29. 6\n30. 6\n31. 3\n32. 3\n33. 3\n34. 3\n35. 3\n36. 3\n37. 3\n38. 3\n39. 3\n40. 3\n41. 3\n42. 3\n43. 3\n44. 3\n45. 3\n46. 3\n47. 3\n48. 3\n49. 3\n50. 3\n51. 3\n52. 3\n53. 3\n54. 3\n55. 3\n56. 3\n57. 3\n58. 3\n59. 3\n60. 3\n\n\n",
            "text/latex": "\\begin{enumerate*}\n\\item 4\n\\item 4\n\\item 4\n\\item 4\n\\item 4\n\\item 4\n\\item 4\n\\item 4\n\\item 4\n\\item 4\n\\item 6\n\\item 6\n\\item 6\n\\item 6\n\\item 6\n\\item 6\n\\item 6\n\\item 6\n\\item 6\n\\item 6\n\\item 6\n\\item 6\n\\item 6\n\\item 6\n\\item 6\n\\item 6\n\\item 6\n\\item 6\n\\item 6\n\\item 6\n\\item 3\n\\item 3\n\\item 3\n\\item 3\n\\item 3\n\\item 3\n\\item 3\n\\item 3\n\\item 3\n\\item 3\n\\item 3\n\\item 3\n\\item 3\n\\item 3\n\\item 3\n\\item 3\n\\item 3\n\\item 3\n\\item 3\n\\item 3\n\\item 3\n\\item 3\n\\item 3\n\\item 3\n\\item 3\n\\item 3\n\\item 3\n\\item 3\n\\item 3\n\\item 3\n\\end{enumerate*}\n",
            "text/plain": [
              " [1] 4 4 4 4 4 4 4 4 4 4 6 6 6 6 6 6 6 6 6 6 6 6 6 6 6 6 6 6 6 6 3 3 3 3 3 3 3 3\n",
              "[39] 3 3 3 3 3 3 3 3 3 3 3 3 3 3 3 3 3 3 3 3 3 3"
            ]
          },
          "metadata": {}
        },
        {
          "output_type": "display_data",
          "data": {
            "text/html": [
              "<style>\n",
              ".list-inline {list-style: none; margin:0; padding: 0}\n",
              ".list-inline>li {display: inline-block}\n",
              ".list-inline>li:not(:last-child)::after {content: \"\\00b7\"; padding: 0 .5ex}\n",
              "</style>\n",
              "<ol class=list-inline><li>16</li><li>64</li><li>8</li><li>16</li><li>64</li><li>8</li><li>16</li><li>64</li><li>8</li><li>16</li><li>64</li><li>8</li></ol>\n"
            ],
            "text/markdown": "1. 16\n2. 64\n3. 8\n4. 16\n5. 64\n6. 8\n7. 16\n8. 64\n9. 8\n10. 16\n11. 64\n12. 8\n\n\n",
            "text/latex": "\\begin{enumerate*}\n\\item 16\n\\item 64\n\\item 8\n\\item 16\n\\item 64\n\\item 8\n\\item 16\n\\item 64\n\\item 8\n\\item 16\n\\item 64\n\\item 8\n\\end{enumerate*}\n",
            "text/plain": [
              " [1] 16 64  8 16 64  8 16 64  8 16 64  8"
            ]
          },
          "metadata": {}
        },
        {
          "output_type": "stream",
          "name": "stdout",
          "text": [
            "[1] \"Цифра 6 в векторе h встречается 8 раз\"\n"
          ]
        }
      ],
      "source": [
        "a <- c(1:20)\n",
        "a\n",
        "b <- c(20:1)\n",
        "b\n",
        "c <- c(1:19, 20:1)\n",
        "c\n",
        "tmp <- c(4, 6, 3)\n",
        "tmp\n",
        "e <- rep(tmp, 10)\n",
        "e\n",
        "f <- c(e, 4)\n",
        "f\n",
        "g <- c(rep(4, 10), rep(6, 20), rep(3, 30))\n",
        "g\n",
        "h <-rep(2^tmp, 4)\n",
        "h\n",
        "print(\"Цифра 6 в векторе h встречается 8 раз\")"
      ]
    },
    {
      "cell_type": "markdown",
      "source": [
        "\n",
        "\n",
        "---\n",
        "\n"
      ],
      "metadata": {
        "id": "GF3yLr_xQvFt"
      }
    },
    {
      "cell_type": "markdown",
      "source": [
        "**Задание 2.**\n",
        "\n",
        "Создайте вектор значений $y = e^x cos(x)$ в точках  x = 3, 3.1, 3.2,... ,6. Найдите среднее значение y.\n"
      ],
      "metadata": {
        "id": "RJ345qY6Qsbx"
      }
    },
    {
      "cell_type": "code",
      "source": [
        "x <- seq(3, 6, by = 0.1)\n",
        "x\n",
        "y <- exp(x) * cos(x)\n",
        "y\n",
        "print(paste(\"Среднее значение y =\", mean(y)))\n"
      ],
      "metadata": {
        "id": "Icdy_uQ0RP8b",
        "colab": {
          "base_uri": "https://localhost:8080/",
          "height": 121
        },
        "outputId": "c7b0cbce-3f8c-4b4b-9743-06ee958cfe9d"
      },
      "execution_count": null,
      "outputs": [
        {
          "output_type": "display_data",
          "data": {
            "text/html": [
              "<style>\n",
              ".list-inline {list-style: none; margin:0; padding: 0}\n",
              ".list-inline>li {display: inline-block}\n",
              ".list-inline>li:not(:last-child)::after {content: \"\\00b7\"; padding: 0 .5ex}\n",
              "</style>\n",
              "<ol class=list-inline><li>3</li><li>3.1</li><li>3.2</li><li>3.3</li><li>3.4</li><li>3.5</li><li>3.6</li><li>3.7</li><li>3.8</li><li>3.9</li><li>4</li><li>4.1</li><li>4.2</li><li>4.3</li><li>4.4</li><li>4.5</li><li>4.6</li><li>4.7</li><li>4.8</li><li>4.9</li><li>5</li><li>5.1</li><li>5.2</li><li>5.3</li><li>5.4</li><li>5.5</li><li>5.6</li><li>5.7</li><li>5.8</li><li>5.9</li><li>6</li></ol>\n"
            ],
            "text/markdown": "1. 3\n2. 3.1\n3. 3.2\n4. 3.3\n5. 3.4\n6. 3.5\n7. 3.6\n8. 3.7\n9. 3.8\n10. 3.9\n11. 4\n12. 4.1\n13. 4.2\n14. 4.3\n15. 4.4\n16. 4.5\n17. 4.6\n18. 4.7\n19. 4.8\n20. 4.9\n21. 5\n22. 5.1\n23. 5.2\n24. 5.3\n25. 5.4\n26. 5.5\n27. 5.6\n28. 5.7\n29. 5.8\n30. 5.9\n31. 6\n\n\n",
            "text/latex": "\\begin{enumerate*}\n\\item 3\n\\item 3.1\n\\item 3.2\n\\item 3.3\n\\item 3.4\n\\item 3.5\n\\item 3.6\n\\item 3.7\n\\item 3.8\n\\item 3.9\n\\item 4\n\\item 4.1\n\\item 4.2\n\\item 4.3\n\\item 4.4\n\\item 4.5\n\\item 4.6\n\\item 4.7\n\\item 4.8\n\\item 4.9\n\\item 5\n\\item 5.1\n\\item 5.2\n\\item 5.3\n\\item 5.4\n\\item 5.5\n\\item 5.6\n\\item 5.7\n\\item 5.8\n\\item 5.9\n\\item 6\n\\end{enumerate*}\n",
            "text/plain": [
              " [1] 3.0 3.1 3.2 3.3 3.4 3.5 3.6 3.7 3.8 3.9 4.0 4.1 4.2 4.3 4.4 4.5 4.6 4.7 4.8\n",
              "[20] 4.9 5.0 5.1 5.2 5.3 5.4 5.5 5.6 5.7 5.8 5.9 6.0"
            ]
          },
          "metadata": {}
        },
        {
          "output_type": "display_data",
          "data": {
            "text/html": [
              "<style>\n",
              ".list-inline {list-style: none; margin:0; padding: 0}\n",
              ".list-inline>li {display: inline-block}\n",
              ".list-inline>li:not(:last-child)::after {content: \"\\00b7\"; padding: 0 .5ex}\n",
              "</style>\n",
              "<ol class=list-inline><li>-19.884530844147</li><li>-22.1787533893421</li><li>-24.4906967328013</li><li>-26.7731824429934</li><li>-28.9692377680936</li><li>-31.0111864393745</li><li>-32.8197747603385</li><li>-34.3033601103737</li><li>-35.3571936185304</li><li>-35.8628337123077</li><li>-35.6877324801191</li><li>-34.6850422516681</li><li>-32.6936954283217</li><li>-29.538816297263</li><li>-25.03252922904</li><li>-18.975233154959</li><li>-11.1574173896475</li><li>-1.36209851820575</li><li>10.632038010192</li><li>25.046704998273</li><li>42.0992010625384</li><li>61.9966302766945</li><li>84.9290673625027</li><li>111.061586042026</li><li>140.525075052788</li><li>173.405776408577</li><li>209.733494247835</li><li>249.468440558857</li><li>292.486706737123</li><li>338.564377858512</li><li>387.360340290931</li></ol>\n"
            ],
            "text/markdown": "1. -19.884530844147\n2. -22.1787533893421\n3. -24.4906967328013\n4. -26.7731824429934\n5. -28.9692377680936\n6. -31.0111864393745\n7. -32.8197747603385\n8. -34.3033601103737\n9. -35.3571936185304\n10. -35.8628337123077\n11. -35.6877324801191\n12. -34.6850422516681\n13. -32.6936954283217\n14. -29.538816297263\n15. -25.03252922904\n16. -18.975233154959\n17. -11.1574173896475\n18. -1.36209851820575\n19. 10.632038010192\n20. 25.046704998273\n21. 42.0992010625384\n22. 61.9966302766945\n23. 84.9290673625027\n24. 111.061586042026\n25. 140.525075052788\n26. 173.405776408577\n27. 209.733494247835\n28. 249.468440558857\n29. 292.486706737123\n30. 338.564377858512\n31. 387.360340290931\n\n\n",
            "text/latex": "\\begin{enumerate*}\n\\item -19.884530844147\n\\item -22.1787533893421\n\\item -24.4906967328013\n\\item -26.7731824429934\n\\item -28.9692377680936\n\\item -31.0111864393745\n\\item -32.8197747603385\n\\item -34.3033601103737\n\\item -35.3571936185304\n\\item -35.8628337123077\n\\item -35.6877324801191\n\\item -34.6850422516681\n\\item -32.6936954283217\n\\item -29.538816297263\n\\item -25.03252922904\n\\item -18.975233154959\n\\item -11.1574173896475\n\\item -1.36209851820575\n\\item 10.632038010192\n\\item 25.046704998273\n\\item 42.0992010625384\n\\item 61.9966302766945\n\\item 84.9290673625027\n\\item 111.061586042026\n\\item 140.525075052788\n\\item 173.405776408577\n\\item 209.733494247835\n\\item 249.468440558857\n\\item 292.486706737123\n\\item 338.564377858512\n\\item 387.360340290931\n\\end{enumerate*}\n",
            "text/plain": [
              " [1] -19.884531 -22.178753 -24.490697 -26.773182 -28.969238 -31.011186\n",
              " [7] -32.819775 -34.303360 -35.357194 -35.862834 -35.687732 -34.685042\n",
              "[13] -32.693695 -29.538816 -25.032529 -18.975233 -11.157417  -1.362099\n",
              "[19]  10.632038  25.046705  42.099201  61.996630  84.929067 111.061586\n",
              "[25] 140.525075 173.405776 209.733494 249.468441 292.486707 338.564378\n",
              "[31] 387.360340"
            ]
          },
          "metadata": {}
        },
        {
          "output_type": "stream",
          "name": "stdout",
          "text": [
            "[1] \"Среднее значение y = 53.1137459464297\"\n"
          ]
        }
      ]
    },
    {
      "cell_type": "markdown",
      "source": [
        "\n",
        "\n",
        "---\n",
        "\n"
      ],
      "metadata": {
        "id": "FXg7uIf_RQia"
      }
    },
    {
      "cell_type": "markdown",
      "source": [
        "**Задание 3.**\n",
        "Создайте следующие векторы:\n",
        "\n",
        "\n",
        "a)   $(0.1^3 0.2^1, 0.1^6 0.2^4, ..., 0.1^{36} 0.2^{34})$\n",
        "\n",
        "b)   $(2, \\frac{2^2}{2}, \\frac{2^3}{3}, ..., \\frac{2^{25}}{25})$\n",
        "\n"
      ],
      "metadata": {
        "id": "Io9o_hOiRSoy"
      }
    },
    {
      "cell_type": "code",
      "source": [
        "print(\"a)\")\n",
        "power <- seq(3, 36, by = 3)\n",
        "power\n",
        "a <- (0.1^power*0.2^(power-2))\n",
        "a\n",
        "print(\"b)\")\n",
        "b <- 2^(1:25)/(1:25)\n",
        "b"
      ],
      "metadata": {
        "id": "6_mC18lnSCVX",
        "colab": {
          "base_uri": "https://localhost:8080/",
          "height": 138
        },
        "outputId": "7ed3f37c-6c36-447d-c689-30b123dc95de"
      },
      "execution_count": null,
      "outputs": [
        {
          "output_type": "stream",
          "name": "stdout",
          "text": [
            "[1] \"a)\"\n"
          ]
        },
        {
          "output_type": "display_data",
          "data": {
            "text/html": [
              "<style>\n",
              ".list-inline {list-style: none; margin:0; padding: 0}\n",
              ".list-inline>li {display: inline-block}\n",
              ".list-inline>li:not(:last-child)::after {content: \"\\00b7\"; padding: 0 .5ex}\n",
              "</style>\n",
              "<ol class=list-inline><li>3</li><li>6</li><li>9</li><li>12</li><li>15</li><li>18</li><li>21</li><li>24</li><li>27</li><li>30</li><li>33</li><li>36</li></ol>\n"
            ],
            "text/markdown": "1. 3\n2. 6\n3. 9\n4. 12\n5. 15\n6. 18\n7. 21\n8. 24\n9. 27\n10. 30\n11. 33\n12. 36\n\n\n",
            "text/latex": "\\begin{enumerate*}\n\\item 3\n\\item 6\n\\item 9\n\\item 12\n\\item 15\n\\item 18\n\\item 21\n\\item 24\n\\item 27\n\\item 30\n\\item 33\n\\item 36\n\\end{enumerate*}\n",
            "text/plain": [
              " [1]  3  6  9 12 15 18 21 24 27 30 33 36"
            ]
          },
          "metadata": {}
        },
        {
          "output_type": "display_data",
          "data": {
            "text/html": [
              "<style>\n",
              ".list-inline {list-style: none; margin:0; padding: 0}\n",
              ".list-inline>li {display: inline-block}\n",
              ".list-inline>li:not(:last-child)::after {content: \"\\00b7\"; padding: 0 .5ex}\n",
              "</style>\n",
              "<ol class=list-inline><li>2e-04</li><li>1.6e-09</li><li>1.28e-14</li><li>1.024e-19</li><li>8.19200000000001e-25</li><li>6.55360000000001e-30</li><li>5.24288000000001e-35</li><li>4.19430400000001e-40</li><li>3.35544320000001e-45</li><li>2.68435456000001e-50</li><li>2.14748364800001e-55</li><li>1.71798691840001e-60</li></ol>\n"
            ],
            "text/markdown": "1. 2e-04\n2. 1.6e-09\n3. 1.28e-14\n4. 1.024e-19\n5. 8.19200000000001e-25\n6. 6.55360000000001e-30\n7. 5.24288000000001e-35\n8. 4.19430400000001e-40\n9. 3.35544320000001e-45\n10. 2.68435456000001e-50\n11. 2.14748364800001e-55\n12. 1.71798691840001e-60\n\n\n",
            "text/latex": "\\begin{enumerate*}\n\\item 2e-04\n\\item 1.6e-09\n\\item 1.28e-14\n\\item 1.024e-19\n\\item 8.19200000000001e-25\n\\item 6.55360000000001e-30\n\\item 5.24288000000001e-35\n\\item 4.19430400000001e-40\n\\item 3.35544320000001e-45\n\\item 2.68435456000001e-50\n\\item 2.14748364800001e-55\n\\item 1.71798691840001e-60\n\\end{enumerate*}\n",
            "text/plain": [
              " [1] 2.000000e-04 1.600000e-09 1.280000e-14 1.024000e-19 8.192000e-25\n",
              " [6] 6.553600e-30 5.242880e-35 4.194304e-40 3.355443e-45 2.684355e-50\n",
              "[11] 2.147484e-55 1.717987e-60"
            ]
          },
          "metadata": {}
        },
        {
          "output_type": "stream",
          "name": "stdout",
          "text": [
            "[1] \"b)\"\n"
          ]
        },
        {
          "output_type": "display_data",
          "data": {
            "text/html": [
              "<style>\n",
              ".list-inline {list-style: none; margin:0; padding: 0}\n",
              ".list-inline>li {display: inline-block}\n",
              ".list-inline>li:not(:last-child)::after {content: \"\\00b7\"; padding: 0 .5ex}\n",
              "</style>\n",
              "<ol class=list-inline><li>2</li><li>2</li><li>2.66666666666667</li><li>4</li><li>6.4</li><li>10.6666666666667</li><li>18.2857142857143</li><li>32</li><li>56.8888888888889</li><li>102.4</li><li>186.181818181818</li><li>341.333333333333</li><li>630.153846153846</li><li>1170.28571428571</li><li>2184.53333333333</li><li>4096</li><li>7710.11764705882</li><li>14563.5555555556</li><li>27594.1052631579</li><li>52428.8</li><li>99864.3809523809</li><li>190650.181818182</li><li>364722.086956522</li><li>699050.666666667</li><li>1342177.28</li></ol>\n"
            ],
            "text/markdown": "1. 2\n2. 2\n3. 2.66666666666667\n4. 4\n5. 6.4\n6. 10.6666666666667\n7. 18.2857142857143\n8. 32\n9. 56.8888888888889\n10. 102.4\n11. 186.181818181818\n12. 341.333333333333\n13. 630.153846153846\n14. 1170.28571428571\n15. 2184.53333333333\n16. 4096\n17. 7710.11764705882\n18. 14563.5555555556\n19. 27594.1052631579\n20. 52428.8\n21. 99864.3809523809\n22. 190650.181818182\n23. 364722.086956522\n24. 699050.666666667\n25. 1342177.28\n\n\n",
            "text/latex": "\\begin{enumerate*}\n\\item 2\n\\item 2\n\\item 2.66666666666667\n\\item 4\n\\item 6.4\n\\item 10.6666666666667\n\\item 18.2857142857143\n\\item 32\n\\item 56.8888888888889\n\\item 102.4\n\\item 186.181818181818\n\\item 341.333333333333\n\\item 630.153846153846\n\\item 1170.28571428571\n\\item 2184.53333333333\n\\item 4096\n\\item 7710.11764705882\n\\item 14563.5555555556\n\\item 27594.1052631579\n\\item 52428.8\n\\item 99864.3809523809\n\\item 190650.181818182\n\\item 364722.086956522\n\\item 699050.666666667\n\\item 1342177.28\n\\end{enumerate*}\n",
            "text/plain": [
              " [1] 2.000000e+00 2.000000e+00 2.666667e+00 4.000000e+00 6.400000e+00\n",
              " [6] 1.066667e+01 1.828571e+01 3.200000e+01 5.688889e+01 1.024000e+02\n",
              "[11] 1.861818e+02 3.413333e+02 6.301538e+02 1.170286e+03 2.184533e+03\n",
              "[16] 4.096000e+03 7.710118e+03 1.456356e+04 2.759411e+04 5.242880e+04\n",
              "[21] 9.986438e+04 1.906502e+05 3.647221e+05 6.990507e+05 1.342177e+06"
            ]
          },
          "metadata": {}
        }
      ]
    },
    {
      "cell_type": "markdown",
      "source": [
        "\n",
        "\n",
        "---\n",
        "\n"
      ],
      "metadata": {
        "id": "w102HZnSSCvd"
      }
    },
    {
      "cell_type": "markdown",
      "source": [
        "**Задание 4.**\n",
        "Вычислите следующее:\n",
        "\n",
        "a)   $\\sum\\limits_{i=10}^{100} (i^3+4i^2)$\n",
        "\n",
        "b)   $\\sum\\limits_{i=1}^{25} (\\frac{2^i}{i}+\\frac{3^i}{i^2})$\n",
        "\n"
      ],
      "metadata": {
        "id": "wZThrCG7SEJc"
      }
    },
    {
      "cell_type": "code",
      "source": [
        "print(\"a)\")\n",
        "i = (10:100)\n",
        "a = sum(i^3 + 4*i^2)\n",
        "a\n",
        "print(\"b)\")\n",
        "i = (1:25)\n",
        "b = sum(2^i/i + 3^i/i^2)\n",
        "b"
      ],
      "metadata": {
        "id": "qu1ymVnv479l",
        "colab": {
          "base_uri": "https://localhost:8080/",
          "height": 86
        },
        "outputId": "d34797dc-5d28-4e07-8075-b2e1c7581dc5"
      },
      "execution_count": null,
      "outputs": [
        {
          "output_type": "stream",
          "name": "stdout",
          "text": [
            "[1] \"a)\"\n"
          ]
        },
        {
          "output_type": "display_data",
          "data": {
            "text/html": [
              "26852735"
            ],
            "text/markdown": "26852735",
            "text/latex": "26852735",
            "text/plain": [
              "[1] 26852735"
            ]
          },
          "metadata": {}
        },
        {
          "output_type": "stream",
          "name": "stdout",
          "text": [
            "[1] \"b)\"\n"
          ]
        },
        {
          "output_type": "display_data",
          "data": {
            "text/html": [
              "2129170436.81438"
            ],
            "text/markdown": "2129170436.81438",
            "text/latex": "2129170436.81438",
            "text/plain": [
              "[1] 2129170437"
            ]
          },
          "metadata": {}
        }
      ]
    },
    {
      "cell_type": "markdown",
      "source": [
        "\n",
        "\n",
        "---\n",
        "\n"
      ],
      "metadata": {
        "id": "XwmHhCJ-48aZ"
      }
    },
    {
      "cell_type": "markdown",
      "source": [
        "**Задание 5.** Создайте следующие векторы класса character длины 30:\n",
        "\n",
        "a) (\"label 1\", \"label 2\", ....., \"label 30\").\n",
        "\n",
        "b) (\"fn1\", \"fn2\", ..., \"fn30\")."
      ],
      "metadata": {
        "id": "U34FZjcB49ag"
      }
    },
    {
      "cell_type": "code",
      "source": [
        "print(\"a)\")\n",
        "a <- paste(\"label\", 1:30)\n",
        "a\n",
        "print(\"b)\")\n",
        "b <- paste(\"fn\", 1:30, sep=\"\")\n",
        "b"
      ],
      "metadata": {
        "id": "n0TjSquc5Hp4",
        "colab": {
          "base_uri": "https://localhost:8080/",
          "height": 104
        },
        "outputId": "184c6b6e-525c-4af6-e5a7-86ea6f387f80"
      },
      "execution_count": null,
      "outputs": [
        {
          "output_type": "stream",
          "name": "stdout",
          "text": [
            "[1] \"a)\"\n"
          ]
        },
        {
          "output_type": "display_data",
          "data": {
            "text/html": [
              "<style>\n",
              ".list-inline {list-style: none; margin:0; padding: 0}\n",
              ".list-inline>li {display: inline-block}\n",
              ".list-inline>li:not(:last-child)::after {content: \"\\00b7\"; padding: 0 .5ex}\n",
              "</style>\n",
              "<ol class=list-inline><li>'label 1'</li><li>'label 2'</li><li>'label 3'</li><li>'label 4'</li><li>'label 5'</li><li>'label 6'</li><li>'label 7'</li><li>'label 8'</li><li>'label 9'</li><li>'label 10'</li><li>'label 11'</li><li>'label 12'</li><li>'label 13'</li><li>'label 14'</li><li>'label 15'</li><li>'label 16'</li><li>'label 17'</li><li>'label 18'</li><li>'label 19'</li><li>'label 20'</li><li>'label 21'</li><li>'label 22'</li><li>'label 23'</li><li>'label 24'</li><li>'label 25'</li><li>'label 26'</li><li>'label 27'</li><li>'label 28'</li><li>'label 29'</li><li>'label 30'</li></ol>\n"
            ],
            "text/markdown": "1. 'label 1'\n2. 'label 2'\n3. 'label 3'\n4. 'label 4'\n5. 'label 5'\n6. 'label 6'\n7. 'label 7'\n8. 'label 8'\n9. 'label 9'\n10. 'label 10'\n11. 'label 11'\n12. 'label 12'\n13. 'label 13'\n14. 'label 14'\n15. 'label 15'\n16. 'label 16'\n17. 'label 17'\n18. 'label 18'\n19. 'label 19'\n20. 'label 20'\n21. 'label 21'\n22. 'label 22'\n23. 'label 23'\n24. 'label 24'\n25. 'label 25'\n26. 'label 26'\n27. 'label 27'\n28. 'label 28'\n29. 'label 29'\n30. 'label 30'\n\n\n",
            "text/latex": "\\begin{enumerate*}\n\\item 'label 1'\n\\item 'label 2'\n\\item 'label 3'\n\\item 'label 4'\n\\item 'label 5'\n\\item 'label 6'\n\\item 'label 7'\n\\item 'label 8'\n\\item 'label 9'\n\\item 'label 10'\n\\item 'label 11'\n\\item 'label 12'\n\\item 'label 13'\n\\item 'label 14'\n\\item 'label 15'\n\\item 'label 16'\n\\item 'label 17'\n\\item 'label 18'\n\\item 'label 19'\n\\item 'label 20'\n\\item 'label 21'\n\\item 'label 22'\n\\item 'label 23'\n\\item 'label 24'\n\\item 'label 25'\n\\item 'label 26'\n\\item 'label 27'\n\\item 'label 28'\n\\item 'label 29'\n\\item 'label 30'\n\\end{enumerate*}\n",
            "text/plain": [
              " [1] \"label 1\"  \"label 2\"  \"label 3\"  \"label 4\"  \"label 5\"  \"label 6\" \n",
              " [7] \"label 7\"  \"label 8\"  \"label 9\"  \"label 10\" \"label 11\" \"label 12\"\n",
              "[13] \"label 13\" \"label 14\" \"label 15\" \"label 16\" \"label 17\" \"label 18\"\n",
              "[19] \"label 19\" \"label 20\" \"label 21\" \"label 22\" \"label 23\" \"label 24\"\n",
              "[25] \"label 25\" \"label 26\" \"label 27\" \"label 28\" \"label 29\" \"label 30\""
            ]
          },
          "metadata": {}
        },
        {
          "output_type": "stream",
          "name": "stdout",
          "text": [
            "[1] \"b)\"\n"
          ]
        },
        {
          "output_type": "display_data",
          "data": {
            "text/html": [
              "<style>\n",
              ".list-inline {list-style: none; margin:0; padding: 0}\n",
              ".list-inline>li {display: inline-block}\n",
              ".list-inline>li:not(:last-child)::after {content: \"\\00b7\"; padding: 0 .5ex}\n",
              "</style>\n",
              "<ol class=list-inline><li>'fn1'</li><li>'fn2'</li><li>'fn3'</li><li>'fn4'</li><li>'fn5'</li><li>'fn6'</li><li>'fn7'</li><li>'fn8'</li><li>'fn9'</li><li>'fn10'</li><li>'fn11'</li><li>'fn12'</li><li>'fn13'</li><li>'fn14'</li><li>'fn15'</li><li>'fn16'</li><li>'fn17'</li><li>'fn18'</li><li>'fn19'</li><li>'fn20'</li><li>'fn21'</li><li>'fn22'</li><li>'fn23'</li><li>'fn24'</li><li>'fn25'</li><li>'fn26'</li><li>'fn27'</li><li>'fn28'</li><li>'fn29'</li><li>'fn30'</li></ol>\n"
            ],
            "text/markdown": "1. 'fn1'\n2. 'fn2'\n3. 'fn3'\n4. 'fn4'\n5. 'fn5'\n6. 'fn6'\n7. 'fn7'\n8. 'fn8'\n9. 'fn9'\n10. 'fn10'\n11. 'fn11'\n12. 'fn12'\n13. 'fn13'\n14. 'fn14'\n15. 'fn15'\n16. 'fn16'\n17. 'fn17'\n18. 'fn18'\n19. 'fn19'\n20. 'fn20'\n21. 'fn21'\n22. 'fn22'\n23. 'fn23'\n24. 'fn24'\n25. 'fn25'\n26. 'fn26'\n27. 'fn27'\n28. 'fn28'\n29. 'fn29'\n30. 'fn30'\n\n\n",
            "text/latex": "\\begin{enumerate*}\n\\item 'fn1'\n\\item 'fn2'\n\\item 'fn3'\n\\item 'fn4'\n\\item 'fn5'\n\\item 'fn6'\n\\item 'fn7'\n\\item 'fn8'\n\\item 'fn9'\n\\item 'fn10'\n\\item 'fn11'\n\\item 'fn12'\n\\item 'fn13'\n\\item 'fn14'\n\\item 'fn15'\n\\item 'fn16'\n\\item 'fn17'\n\\item 'fn18'\n\\item 'fn19'\n\\item 'fn20'\n\\item 'fn21'\n\\item 'fn22'\n\\item 'fn23'\n\\item 'fn24'\n\\item 'fn25'\n\\item 'fn26'\n\\item 'fn27'\n\\item 'fn28'\n\\item 'fn29'\n\\item 'fn30'\n\\end{enumerate*}\n",
            "text/plain": [
              " [1] \"fn1\"  \"fn2\"  \"fn3\"  \"fn4\"  \"fn5\"  \"fn6\"  \"fn7\"  \"fn8\"  \"fn9\"  \"fn10\"\n",
              "[11] \"fn11\" \"fn12\" \"fn13\" \"fn14\" \"fn15\" \"fn16\" \"fn17\" \"fn18\" \"fn19\" \"fn20\"\n",
              "[21] \"fn21\" \"fn22\" \"fn23\" \"fn24\" \"fn25\" \"fn26\" \"fn27\" \"fn28\" \"fn29\" \"fn30\""
            ]
          },
          "metadata": {}
        }
      ]
    },
    {
      "cell_type": "markdown",
      "source": [
        "\n",
        "\n",
        "---\n",
        "\n"
      ],
      "metadata": {
        "id": "n_khXwlZ5Lre"
      }
    },
    {
      "cell_type": "markdown",
      "source": [
        "**Задание 6.** С помощью функции sample() создайте два вектора $x=(x_1, x_2, ..., x_n)$ и $y=(y_1, y_2, ..., y_n)$ класса integer длины n=250 как случайные выборки (с повторениями) из совокупности 0,1,...,999.\n",
        "Обозначьте вектор x как xVec, а вектор y - как yVec.\n",
        "\n",
        "a) Создайте вектор $(y_2-x_1,..., y_n-x_{n-1})$.\n",
        "\n",
        "b) Создайте вектор $(\\frac{sin(y_1)}{cos(x_2)}, \\frac{sin(y_2)}{cos(x_3)},...,\\frac{sin(y_{n-1})}{cos(x_n)})$.\n",
        "\n",
        "c) Создайте вектор $(x_1 + 2x_2 - x_3, x_2 + 2x_3 - x_4, ..., x_{n-2} + 2x_{n-1} - x_n)$.\n",
        "\n",
        "d) Вычислите $\\sum\\limits_{i=1}^{n-1}\\frac{e^{-x_{i+1}}}{x_i+10}$.**bold text**\n"
      ],
      "metadata": {
        "id": "TSnkEBrk5M3W"
      }
    },
    {
      "cell_type": "code",
      "source": [
        "n <- 250\n",
        "xVec <- sample(0:999, n, replace = TRUE)\n",
        "yVec <- sample(0:999, n, replace = TRUE)\n",
        "print(\"a)\")\n",
        "a <- yVec[2:n] - xVec[1:(n-1)]\n",
        "a\n",
        "print(\"b)\")\n",
        "b <- sin(yVec[1:(n-1)]) / cos(xVec[2:n])\n",
        "b\n",
        "print(\"c)\")\n",
        "c <- xVec[1:(n-2)] + 2*xVec[2:(n-1)] - xVec[3:n]\n",
        "c\n",
        "print(\"d)\")\n",
        "i <- (1:(n-1))\n",
        "d <- sum(exp(-xVec[i+1])/(xVec[i]+10))\n",
        "d"
      ],
      "metadata": {
        "id": "OveoJMhN96FJ",
        "colab": {
          "base_uri": "https://localhost:8080/",
          "height": 850
        },
        "outputId": "18c78c6d-093e-415c-f1d4-a12550fcbb30"
      },
      "execution_count": null,
      "outputs": [
        {
          "output_type": "stream",
          "name": "stdout",
          "text": [
            "[1] \"a)\"\n"
          ]
        },
        {
          "output_type": "display_data",
          "data": {
            "text/html": [
              "<style>\n",
              ".list-inline {list-style: none; margin:0; padding: 0}\n",
              ".list-inline>li {display: inline-block}\n",
              ".list-inline>li:not(:last-child)::after {content: \"\\00b7\"; padding: 0 .5ex}\n",
              "</style>\n",
              "<ol class=list-inline><li>-623</li><li>-518</li><li>112</li><li>-398</li><li>426</li><li>-230</li><li>-945</li><li>-430</li><li>-10</li><li>-33</li><li>606</li><li>-126</li><li>417</li><li>352</li><li>-6</li><li>906</li><li>134</li><li>-485</li><li>-497</li><li>177</li><li>-719</li><li>287</li><li>-76</li><li>195</li><li>-550</li><li>-558</li><li>-330</li><li>-398</li><li>192</li><li>337</li><li>-317</li><li>-229</li><li>-320</li><li>530</li><li>-496</li><li>493</li><li>-575</li><li>-155</li><li>-500</li><li>297</li><li>-127</li><li>105</li><li>-808</li><li>-427</li><li>-12</li><li>454</li><li>481</li><li>191</li><li>-337</li><li>-409</li><li>341</li><li>-213</li><li>562</li><li>117</li><li>-18</li><li>-482</li><li>-50</li><li>264</li><li>-105</li><li>-390</li><li>674</li><li>-824</li><li>104</li><li>-722</li><li>87</li><li>-277</li><li>50</li><li>163</li><li>-608</li><li>-96</li><li>-277</li><li>671</li><li>-478</li><li>4</li><li>-194</li><li>193</li><li>107</li><li>84</li><li>48</li><li>620</li><li>27</li><li>763</li><li>-640</li><li>-153</li><li>37</li><li>-155</li><li>-289</li><li>-470</li><li>-730</li><li>274</li><li>355</li><li>-721</li><li>-126</li><li>-30</li><li>-658</li><li>-79</li><li>470</li><li>-535</li><li>79</li><li>-180</li><li>772</li><li>684</li><li>-376</li><li>-118</li><li>144</li><li>420</li><li>-576</li><li>357</li><li>-475</li><li>219</li><li>-124</li><li>-234</li><li>-407</li><li>-281</li><li>113</li><li>253</li><li>-156</li><li>135</li><li>385</li><li>-49</li><li>251</li><li>496</li><li>129</li><li>-390</li><li>19</li><li>-330</li><li>-232</li><li>-405</li><li>-45</li><li>7</li><li>130</li><li>598</li><li>350</li><li>-103</li><li>369</li><li>71</li><li>72</li><li>99</li><li>-245</li><li>-332</li><li>116</li><li>387</li><li>-397</li><li>286</li><li>369</li><li>-34</li><li>499</li><li>447</li><li>340</li><li>355</li><li>775</li><li>-334</li><li>615</li><li>514</li><li>-537</li><li>-161</li><li>84</li><li>51</li><li>-38</li><li>801</li><li>70</li><li>-625</li><li>529</li><li>592</li><li>-665</li><li>155</li><li>-533</li><li>-203</li><li>13</li><li>-390</li><li>869</li><li>-106</li><li>621</li><li>-71</li><li>276</li><li>-710</li><li>374</li><li>687</li><li>337</li><li>185</li><li>-630</li><li>-25</li><li>790</li><li>-582</li><li>-303</li><li>-669</li><li>728</li><li>-567</li><li>-477</li><li>-610</li><li>436</li><li>14</li><li>-510</li><li>-439</li><li>-159</li><li>120</li><li>10</li><li>-447</li><li>-600</li><li>-208</li><li>36</li><li>-95</li><li>-114</li><li>46</li><li>-220</li><li>446</li><li>224</li><li>133</li><li>-8</li><li>313</li><li>359</li><li>56</li><li>714</li><li>38</li><li>-237</li><li>357</li><li>-568</li><li>-18</li><li>-90</li><li>-447</li><li>277</li><li>2</li><li>403</li><li>-99</li><li>662</li><li>42</li><li>-637</li><li>-386</li><li>346</li><li>147</li><li>-554</li><li>-481</li><li>-722</li><li>132</li><li>300</li><li>142</li><li>664</li><li>-704</li><li>-94</li><li>-189</li><li>-210</li><li>-83</li><li>136</li><li>279</li><li>201</li><li>136</li><li>-30</li><li>66</li><li>-115</li></ol>\n"
            ],
            "text/markdown": "1. -623\n2. -518\n3. 112\n4. -398\n5. 426\n6. -230\n7. -945\n8. -430\n9. -10\n10. -33\n11. 606\n12. -126\n13. 417\n14. 352\n15. -6\n16. 906\n17. 134\n18. -485\n19. -497\n20. 177\n21. -719\n22. 287\n23. -76\n24. 195\n25. -550\n26. -558\n27. -330\n28. -398\n29. 192\n30. 337\n31. -317\n32. -229\n33. -320\n34. 530\n35. -496\n36. 493\n37. -575\n38. -155\n39. -500\n40. 297\n41. -127\n42. 105\n43. -808\n44. -427\n45. -12\n46. 454\n47. 481\n48. 191\n49. -337\n50. -409\n51. 341\n52. -213\n53. 562\n54. 117\n55. -18\n56. -482\n57. -50\n58. 264\n59. -105\n60. -390\n61. 674\n62. -824\n63. 104\n64. -722\n65. 87\n66. -277\n67. 50\n68. 163\n69. -608\n70. -96\n71. -277\n72. 671\n73. -478\n74. 4\n75. -194\n76. 193\n77. 107\n78. 84\n79. 48\n80. 620\n81. 27\n82. 763\n83. -640\n84. -153\n85. 37\n86. -155\n87. -289\n88. -470\n89. -730\n90. 274\n91. 355\n92. -721\n93. -126\n94. -30\n95. -658\n96. -79\n97. 470\n98. -535\n99. 79\n100. -180\n101. 772\n102. 684\n103. -376\n104. -118\n105. 144\n106. 420\n107. -576\n108. 357\n109. -475\n110. 219\n111. -124\n112. -234\n113. -407\n114. -281\n115. 113\n116. 253\n117. -156\n118. 135\n119. 385\n120. -49\n121. 251\n122. 496\n123. 129\n124. -390\n125. 19\n126. -330\n127. -232\n128. -405\n129. -45\n130. 7\n131. 130\n132. 598\n133. 350\n134. -103\n135. 369\n136. 71\n137. 72\n138. 99\n139. -245\n140. -332\n141. 116\n142. 387\n143. -397\n144. 286\n145. 369\n146. -34\n147. 499\n148. 447\n149. 340\n150. 355\n151. 775\n152. -334\n153. 615\n154. 514\n155. -537\n156. -161\n157. 84\n158. 51\n159. -38\n160. 801\n161. 70\n162. -625\n163. 529\n164. 592\n165. -665\n166. 155\n167. -533\n168. -203\n169. 13\n170. -390\n171. 869\n172. -106\n173. 621\n174. -71\n175. 276\n176. -710\n177. 374\n178. 687\n179. 337\n180. 185\n181. -630\n182. -25\n183. 790\n184. -582\n185. -303\n186. -669\n187. 728\n188. -567\n189. -477\n190. -610\n191. 436\n192. 14\n193. -510\n194. -439\n195. -159\n196. 120\n197. 10\n198. -447\n199. -600\n200. -208\n201. 36\n202. -95\n203. -114\n204. 46\n205. -220\n206. 446\n207. 224\n208. 133\n209. -8\n210. 313\n211. 359\n212. 56\n213. 714\n214. 38\n215. -237\n216. 357\n217. -568\n218. -18\n219. -90\n220. -447\n221. 277\n222. 2\n223. 403\n224. -99\n225. 662\n226. 42\n227. -637\n228. -386\n229. 346\n230. 147\n231. -554\n232. -481\n233. -722\n234. 132\n235. 300\n236. 142\n237. 664\n238. -704\n239. -94\n240. -189\n241. -210\n242. -83\n243. 136\n244. 279\n245. 201\n246. 136\n247. -30\n248. 66\n249. -115\n\n\n",
            "text/latex": "\\begin{enumerate*}\n\\item -623\n\\item -518\n\\item 112\n\\item -398\n\\item 426\n\\item -230\n\\item -945\n\\item -430\n\\item -10\n\\item -33\n\\item 606\n\\item -126\n\\item 417\n\\item 352\n\\item -6\n\\item 906\n\\item 134\n\\item -485\n\\item -497\n\\item 177\n\\item -719\n\\item 287\n\\item -76\n\\item 195\n\\item -550\n\\item -558\n\\item -330\n\\item -398\n\\item 192\n\\item 337\n\\item -317\n\\item -229\n\\item -320\n\\item 530\n\\item -496\n\\item 493\n\\item -575\n\\item -155\n\\item -500\n\\item 297\n\\item -127\n\\item 105\n\\item -808\n\\item -427\n\\item -12\n\\item 454\n\\item 481\n\\item 191\n\\item -337\n\\item -409\n\\item 341\n\\item -213\n\\item 562\n\\item 117\n\\item -18\n\\item -482\n\\item -50\n\\item 264\n\\item -105\n\\item -390\n\\item 674\n\\item -824\n\\item 104\n\\item -722\n\\item 87\n\\item -277\n\\item 50\n\\item 163\n\\item -608\n\\item -96\n\\item -277\n\\item 671\n\\item -478\n\\item 4\n\\item -194\n\\item 193\n\\item 107\n\\item 84\n\\item 48\n\\item 620\n\\item 27\n\\item 763\n\\item -640\n\\item -153\n\\item 37\n\\item -155\n\\item -289\n\\item -470\n\\item -730\n\\item 274\n\\item 355\n\\item -721\n\\item -126\n\\item -30\n\\item -658\n\\item -79\n\\item 470\n\\item -535\n\\item 79\n\\item -180\n\\item 772\n\\item 684\n\\item -376\n\\item -118\n\\item 144\n\\item 420\n\\item -576\n\\item 357\n\\item -475\n\\item 219\n\\item -124\n\\item -234\n\\item -407\n\\item -281\n\\item 113\n\\item 253\n\\item -156\n\\item 135\n\\item 385\n\\item -49\n\\item 251\n\\item 496\n\\item 129\n\\item -390\n\\item 19\n\\item -330\n\\item -232\n\\item -405\n\\item -45\n\\item 7\n\\item 130\n\\item 598\n\\item 350\n\\item -103\n\\item 369\n\\item 71\n\\item 72\n\\item 99\n\\item -245\n\\item -332\n\\item 116\n\\item 387\n\\item -397\n\\item 286\n\\item 369\n\\item -34\n\\item 499\n\\item 447\n\\item 340\n\\item 355\n\\item 775\n\\item -334\n\\item 615\n\\item 514\n\\item -537\n\\item -161\n\\item 84\n\\item 51\n\\item -38\n\\item 801\n\\item 70\n\\item -625\n\\item 529\n\\item 592\n\\item -665\n\\item 155\n\\item -533\n\\item -203\n\\item 13\n\\item -390\n\\item 869\n\\item -106\n\\item 621\n\\item -71\n\\item 276\n\\item -710\n\\item 374\n\\item 687\n\\item 337\n\\item 185\n\\item -630\n\\item -25\n\\item 790\n\\item -582\n\\item -303\n\\item -669\n\\item 728\n\\item -567\n\\item -477\n\\item -610\n\\item 436\n\\item 14\n\\item -510\n\\item -439\n\\item -159\n\\item 120\n\\item 10\n\\item -447\n\\item -600\n\\item -208\n\\item 36\n\\item -95\n\\item -114\n\\item 46\n\\item -220\n\\item 446\n\\item 224\n\\item 133\n\\item -8\n\\item 313\n\\item 359\n\\item 56\n\\item 714\n\\item 38\n\\item -237\n\\item 357\n\\item -568\n\\item -18\n\\item -90\n\\item -447\n\\item 277\n\\item 2\n\\item 403\n\\item -99\n\\item 662\n\\item 42\n\\item -637\n\\item -386\n\\item 346\n\\item 147\n\\item -554\n\\item -481\n\\item -722\n\\item 132\n\\item 300\n\\item 142\n\\item 664\n\\item -704\n\\item -94\n\\item -189\n\\item -210\n\\item -83\n\\item 136\n\\item 279\n\\item 201\n\\item 136\n\\item -30\n\\item 66\n\\item -115\n\\end{enumerate*}\n",
            "text/plain": [
              "  [1] -623 -518  112 -398  426 -230 -945 -430  -10  -33  606 -126  417  352   -6\n",
              " [16]  906  134 -485 -497  177 -719  287  -76  195 -550 -558 -330 -398  192  337\n",
              " [31] -317 -229 -320  530 -496  493 -575 -155 -500  297 -127  105 -808 -427  -12\n",
              " [46]  454  481  191 -337 -409  341 -213  562  117  -18 -482  -50  264 -105 -390\n",
              " [61]  674 -824  104 -722   87 -277   50  163 -608  -96 -277  671 -478    4 -194\n",
              " [76]  193  107   84   48  620   27  763 -640 -153   37 -155 -289 -470 -730  274\n",
              " [91]  355 -721 -126  -30 -658  -79  470 -535   79 -180  772  684 -376 -118  144\n",
              "[106]  420 -576  357 -475  219 -124 -234 -407 -281  113  253 -156  135  385  -49\n",
              "[121]  251  496  129 -390   19 -330 -232 -405  -45    7  130  598  350 -103  369\n",
              "[136]   71   72   99 -245 -332  116  387 -397  286  369  -34  499  447  340  355\n",
              "[151]  775 -334  615  514 -537 -161   84   51  -38  801   70 -625  529  592 -665\n",
              "[166]  155 -533 -203   13 -390  869 -106  621  -71  276 -710  374  687  337  185\n",
              "[181] -630  -25  790 -582 -303 -669  728 -567 -477 -610  436   14 -510 -439 -159\n",
              "[196]  120   10 -447 -600 -208   36  -95 -114   46 -220  446  224  133   -8  313\n",
              "[211]  359   56  714   38 -237  357 -568  -18  -90 -447  277    2  403  -99  662\n",
              "[226]   42 -637 -386  346  147 -554 -481 -722  132  300  142  664 -704  -94 -189\n",
              "[241] -210  -83  136  279  201  136  -30   66 -115"
            ]
          },
          "metadata": {}
        },
        {
          "output_type": "stream",
          "name": "stdout",
          "text": [
            "[1] \"b)\"\n"
          ]
        },
        {
          "output_type": "display_data",
          "data": {
            "text/html": [
              "<style>\n",
              ".list-inline {list-style: none; margin:0; padding: 0}\n",
              ".list-inline>li {display: inline-block}\n",
              ".list-inline>li:not(:last-child)::after {content: \"\\00b7\"; padding: 0 .5ex}\n",
              "</style>\n",
              "<ol class=list-inline><li>-1.90609223997888</li><li>0.945518615229584</li><li>0.995804694982211</li><li>-1.34520450211769</li><li>-1.6226337471511</li><li>0.430557446470508</li><li>0.68371448229646</li><li>-0.825682711214433</li><li>2.17749983147351</li><li>0.180967751747626</li><li>2.34856208960176</li><li>-1.29653040311115</li><li>-4.79239255348799</li><li>-3.41829009686187</li><li>1.00585756970907</li><li>0.867011176078441</li><li>-1.14287772094773</li><li>1.72817362017733</li><li>-0.986505958288374</li><li>-3.01469019619402</li><li>0.859353641074913</li><li>-1.66367659852138</li><li>0.604336667991575</li><li>-3.32475981923656</li><li>1.01628324648532</li><li>-192.722721394623</li><li>-3.36746017781361</li><li>1.13847864230541</li><li>3.23111024533522</li><li>0.149941056518804</li><li>-0.503699854502834</li><li>0.730668282145278</li><li>-0.858319685624886</li><li>-3.20480876814921</li><li>1.32420924119229</li><li>1.35770688388505</li><li>1.17119663280862</li><li>1.42306665507184</li><li>1.00137261626983</li><li>0.54266666613355</li><li>0.984216496755194</li><li>0.987481369224127</li><li>1.45288365253889</li><li>1.7307752524596</li><li>-0.886078111881753</li><li>1.08371595002863</li><li>-1.39051784113633</li><li>0.825433758055554</li><li>0.133132353323624</li><li>1.14076132874244</li><li>-0.477581287219295</li><li>1.96945633707734</li><li>6.70007189629773</li><li>6.38795967754434</li><li>0.809703751703798</li><li>1.14068687682932</li><li>1.35676824787416</li><li>-3.44867936190431</li><li>6.29844927311069</li><li>0.0177893664244176</li><li>1.29861107494288</li><li>-1.00183348131043</li><li>1.15552834436999</li><li>0.416670172417394</li><li>0.0424343349694044</li><li>-0.524780508493817</li><li>0.0596511922067525</li><li>0.646425855552034</li><li>0.924524819416103</li><li>0.800110266310081</li><li>-0.900811051411053</li><li>0.331598952455808</li><li>3.04050855922777</li><li>1.35787493467013</li><li>4.98291167063662</li><li>-0.0532761660130515</li><li>0.620527828976925</li><li>3.71564476447407</li><li>1.48957791263871</li><li>-2.81286180683644</li><li>-0.259233660134044</li><li>-0.0266342586344946</li><li>-0.21841523172698</li><li>-0.992736424942585</li><li>-72.7705121445299</li><li>-1.65261244485462</li><li>-0.5020804970865</li><li>1.82280468248052</li><li>-0.905348070873533</li><li>-1.33338069879149</li><li>-0.697867865207926</li><li>0.81916316953273</li><li>-0.998149332564829</li><li>-0.0726043040069805</li><li>0.981632796431693</li><li>1.62899512074513</li><li>-0.764491009703768</li><li>-0.670615428810684</li><li>0.988106975548019</li><li>1.71571475359305</li><li>-1.80983383693785</li><li>15.3274311383753</li><li>-0.389711922929276</li><li>-3.06088001522318</li><li>-2.14692211204604</li><li>-0.923777998117398</li><li>-0.129369892741424</li><li>0.823535402460277</li><li>140.140009173888</li><li>-1.14174724733149</li><li>1.62216135711917</li><li>0.858916121794447</li><li>-1.19940356805071</li><li>-1.24031092100015</li><li>-0.135458829890413</li><li>-2.83132253557706</li><li>-1.51555515835332</li><li>-0.271287850541336</li><li>-13.8875201536489</li><li>-1.12035026227035</li><li>-0.366336461760244</li><li>-0.208842195589898</li><li>0.49091106701438</li><li>-0.839172118472766</li><li>0.368598693561156</li><li>-0.053659345660807</li><li>-1.032715310483</li><li>0.40011283485302</li><li>0.860485816006511</li><li>-1.87014354420674</li><li>-0.4901733128516</li><li>2.76006126645276</li><li>1.24199223396938</li><li>-0.0206189029961349</li><li>-0.26180572888976</li><li>0.549174862079476</li><li>0.4111733705163</li><li>-1.13325505362759</li><li>-5.15492024814408</li><li>-0.616085118405705</li><li>-0.719450923994758</li><li>0.540125749694017</li><li>-2.47327489096765</li><li>-0.538519251196103</li><li>4.0611946970416</li><li>-0.663382373501144</li><li>-1.18322266006223</li><li>0.0823736704346256</li><li>-1.26846168587294</li><li>-0.461228194761467</li><li>-0.687483630429936</li><li>1.29535547306886</li><li>2.17761219688318</li><li>0.0451781553529497</li><li>-0.124468213884251</li><li>-0.897437140993741</li><li>-0.645145669166914</li><li>-1.50968949569388</li><li>0.387897986156642</li><li>-0.820915740790575</li><li>-2.22269015215019</li><li>0.0268804273965337</li><li>1.69563211711072</li><li>2.62692724294919</li><li>0.421873306765659</li><li>-1.018282428353</li><li>-0.986835946025919</li><li>-0.363426829263056</li><li>1.01563356182033</li><li>-0.680665543319613</li><li>0.266505229033068</li><li>-2.38483864039525</li><li>-0.606439594711731</li><li>3.59790751105645</li><li>-1.2351785384564</li><li>2.45562215796066</li><li>-1.1837932015093</li><li>2.80422714160472</li><li>-0.0463248027147597</li><li>2.3540931512272</li><li>1.05404456744982</li><li>0.554264767620802</li><li>-0.52143280690753</li><li>-1.73999200963408</li><li>-0.445983778927096</li><li>-0.598762641747039</li><li>0.670206804998516</li><li>-2.40927408033353</li><li>2.15215240048459</li><li>-0.940749180622627</li><li>4.14366264930397</li><li>0.99071086618011</li><li>0.124330572671485</li><li>1.2820625629326</li><li>-1.00890644388858</li><li>-5.24150170950033</li><li>-0.384017244548221</li><li>0.994552038614253</li><li>-0.616492242936705</li><li>-0.538671648136372</li><li>4.08870371153484</li><li>1.45459168311705</li><li>1.93725324787773</li><li>3.25515490164031</li><li>-0.0434454870719049</li><li>2.72970800516463</li><li>-1.10327812497953</li><li>0.268829089630999</li><li>1.31269343540621</li><li>-2.67366977321285</li><li>-1.03627379129491</li><li>2.7192992236066</li><li>0.270436534948273</li><li>-2.95893824711371</li><li>1.05300181682699</li><li>-0.763664842321585</li><li>0.960465390013475</li><li>-1.13087278780956</li><li>1.3665082312884</li><li>-4.00685660291267</li><li>0.205041669878969</li><li>-1.2009459488212</li><li>-1.16157462026775</li><li>-1.45501978662389</li><li>51.6994360262406</li><li>4.63597028212986</li><li>-0.573883052559355</li><li>-1.68240136941264</li><li>-0.535721014950705</li><li>0.750189919817931</li><li>1.15824547494799</li><li>1.92801092206276</li><li>15.6792939171114</li><li>-10.3017528433512</li><li>-20.5490322054329</li><li>0.0804957803103467</li><li>-35.1307579063763</li><li>-2.27782406512047</li><li>1.00366536086934</li><li>-1.5455972598615</li><li>-0.281854285616364</li><li>2.90106232312747</li><li>-0.642391811979364</li><li>-0.888736094010237</li><li>3.30612791216835</li><li>-0.958210821593046</li><li>0.862005782098933</li><li>-0.92830984805034</li><li>1.04602421320441</li></ol>\n"
            ],
            "text/markdown": "1. -1.90609223997888\n2. 0.945518615229584\n3. 0.995804694982211\n4. -1.34520450211769\n5. -1.6226337471511\n6. 0.430557446470508\n7. 0.68371448229646\n8. -0.825682711214433\n9. 2.17749983147351\n10. 0.180967751747626\n11. 2.34856208960176\n12. -1.29653040311115\n13. -4.79239255348799\n14. -3.41829009686187\n15. 1.00585756970907\n16. 0.867011176078441\n17. -1.14287772094773\n18. 1.72817362017733\n19. -0.986505958288374\n20. -3.01469019619402\n21. 0.859353641074913\n22. -1.66367659852138\n23. 0.604336667991575\n24. -3.32475981923656\n25. 1.01628324648532\n26. -192.722721394623\n27. -3.36746017781361\n28. 1.13847864230541\n29. 3.23111024533522\n30. 0.149941056518804\n31. -0.503699854502834\n32. 0.730668282145278\n33. -0.858319685624886\n34. -3.20480876814921\n35. 1.32420924119229\n36. 1.35770688388505\n37. 1.17119663280862\n38. 1.42306665507184\n39. 1.00137261626983\n40. 0.54266666613355\n41. 0.984216496755194\n42. 0.987481369224127\n43. 1.45288365253889\n44. 1.7307752524596\n45. -0.886078111881753\n46. 1.08371595002863\n47. -1.39051784113633\n48. 0.825433758055554\n49. 0.133132353323624\n50. 1.14076132874244\n51. -0.477581287219295\n52. 1.96945633707734\n53. 6.70007189629773\n54. 6.38795967754434\n55. 0.809703751703798\n56. 1.14068687682932\n57. 1.35676824787416\n58. -3.44867936190431\n59. 6.29844927311069\n60. 0.0177893664244176\n61. 1.29861107494288\n62. -1.00183348131043\n63. 1.15552834436999\n64. 0.416670172417394\n65. 0.0424343349694044\n66. -0.524780508493817\n67. 0.0596511922067525\n68. 0.646425855552034\n69. 0.924524819416103\n70. 0.800110266310081\n71. -0.900811051411053\n72. 0.331598952455808\n73. 3.04050855922777\n74. 1.35787493467013\n75. 4.98291167063662\n76. -0.0532761660130515\n77. 0.620527828976925\n78. 3.71564476447407\n79. 1.48957791263871\n80. -2.81286180683644\n81. -0.259233660134044\n82. -0.0266342586344946\n83. -0.21841523172698\n84. -0.992736424942585\n85. -72.7705121445299\n86. -1.65261244485462\n87. -0.5020804970865\n88. 1.82280468248052\n89. -0.905348070873533\n90. -1.33338069879149\n91. -0.697867865207926\n92. 0.81916316953273\n93. -0.998149332564829\n94. -0.0726043040069805\n95. 0.981632796431693\n96. 1.62899512074513\n97. -0.764491009703768\n98. -0.670615428810684\n99. 0.988106975548019\n100. 1.71571475359305\n101. -1.80983383693785\n102. 15.3274311383753\n103. -0.389711922929276\n104. -3.06088001522318\n105. -2.14692211204604\n106. -0.923777998117398\n107. -0.129369892741424\n108. 0.823535402460277\n109. 140.140009173888\n110. -1.14174724733149\n111. 1.62216135711917\n112. 0.858916121794447\n113. -1.19940356805071\n114. -1.24031092100015\n115. -0.135458829890413\n116. -2.83132253557706\n117. -1.51555515835332\n118. -0.271287850541336\n119. -13.8875201536489\n120. -1.12035026227035\n121. -0.366336461760244\n122. -0.208842195589898\n123. 0.49091106701438\n124. -0.839172118472766\n125. 0.368598693561156\n126. -0.053659345660807\n127. -1.032715310483\n128. 0.40011283485302\n129. 0.860485816006511\n130. -1.87014354420674\n131. -0.4901733128516\n132. 2.76006126645276\n133. 1.24199223396938\n134. -0.0206189029961349\n135. -0.26180572888976\n136. 0.549174862079476\n137. 0.4111733705163\n138. -1.13325505362759\n139. -5.15492024814408\n140. -0.616085118405705\n141. -0.719450923994758\n142. 0.540125749694017\n143. -2.47327489096765\n144. -0.538519251196103\n145. 4.0611946970416\n146. -0.663382373501144\n147. -1.18322266006223\n148. 0.0823736704346256\n149. -1.26846168587294\n150. -0.461228194761467\n151. -0.687483630429936\n152. 1.29535547306886\n153. 2.17761219688318\n154. 0.0451781553529497\n155. -0.124468213884251\n156. -0.897437140993741\n157. -0.645145669166914\n158. -1.50968949569388\n159. 0.387897986156642\n160. -0.820915740790575\n161. -2.22269015215019\n162. 0.0268804273965337\n163. 1.69563211711072\n164. 2.62692724294919\n165. 0.421873306765659\n166. -1.018282428353\n167. -0.986835946025919\n168. -0.363426829263056\n169. 1.01563356182033\n170. -0.680665543319613\n171. 0.266505229033068\n172. -2.38483864039525\n173. -0.606439594711731\n174. 3.59790751105645\n175. -1.2351785384564\n176. 2.45562215796066\n177. -1.1837932015093\n178. 2.80422714160472\n179. -0.0463248027147597\n180. 2.3540931512272\n181. 1.05404456744982\n182. 0.554264767620802\n183. -0.52143280690753\n184. -1.73999200963408\n185. -0.445983778927096\n186. -0.598762641747039\n187. 0.670206804998516\n188. -2.40927408033353\n189. 2.15215240048459\n190. -0.940749180622627\n191. 4.14366264930397\n192. 0.99071086618011\n193. 0.124330572671485\n194. 1.2820625629326\n195. -1.00890644388858\n196. -5.24150170950033\n197. -0.384017244548221\n198. 0.994552038614253\n199. -0.616492242936705\n200. -0.538671648136372\n201. 4.08870371153484\n202. 1.45459168311705\n203. 1.93725324787773\n204. 3.25515490164031\n205. -0.0434454870719049\n206. 2.72970800516463\n207. -1.10327812497953\n208. 0.268829089630999\n209. 1.31269343540621\n210. -2.67366977321285\n211. -1.03627379129491\n212. 2.7192992236066\n213. 0.270436534948273\n214. -2.95893824711371\n215. 1.05300181682699\n216. -0.763664842321585\n217. 0.960465390013475\n218. -1.13087278780956\n219. 1.3665082312884\n220. -4.00685660291267\n221. 0.205041669878969\n222. -1.2009459488212\n223. -1.16157462026775\n224. -1.45501978662389\n225. 51.6994360262406\n226. 4.63597028212986\n227. -0.573883052559355\n228. -1.68240136941264\n229. -0.535721014950705\n230. 0.750189919817931\n231. 1.15824547494799\n232. 1.92801092206276\n233. 15.6792939171114\n234. -10.3017528433512\n235. -20.5490322054329\n236. 0.0804957803103467\n237. -35.1307579063763\n238. -2.27782406512047\n239. 1.00366536086934\n240. -1.5455972598615\n241. -0.281854285616364\n242. 2.90106232312747\n243. -0.642391811979364\n244. -0.888736094010237\n245. 3.30612791216835\n246. -0.958210821593046\n247. 0.862005782098933\n248. -0.92830984805034\n249. 1.04602421320441\n\n\n",
            "text/latex": "\\begin{enumerate*}\n\\item -1.90609223997888\n\\item 0.945518615229584\n\\item 0.995804694982211\n\\item -1.34520450211769\n\\item -1.6226337471511\n\\item 0.430557446470508\n\\item 0.68371448229646\n\\item -0.825682711214433\n\\item 2.17749983147351\n\\item 0.180967751747626\n\\item 2.34856208960176\n\\item -1.29653040311115\n\\item -4.79239255348799\n\\item -3.41829009686187\n\\item 1.00585756970907\n\\item 0.867011176078441\n\\item -1.14287772094773\n\\item 1.72817362017733\n\\item -0.986505958288374\n\\item -3.01469019619402\n\\item 0.859353641074913\n\\item -1.66367659852138\n\\item 0.604336667991575\n\\item -3.32475981923656\n\\item 1.01628324648532\n\\item -192.722721394623\n\\item -3.36746017781361\n\\item 1.13847864230541\n\\item 3.23111024533522\n\\item 0.149941056518804\n\\item -0.503699854502834\n\\item 0.730668282145278\n\\item -0.858319685624886\n\\item -3.20480876814921\n\\item 1.32420924119229\n\\item 1.35770688388505\n\\item 1.17119663280862\n\\item 1.42306665507184\n\\item 1.00137261626983\n\\item 0.54266666613355\n\\item 0.984216496755194\n\\item 0.987481369224127\n\\item 1.45288365253889\n\\item 1.7307752524596\n\\item -0.886078111881753\n\\item 1.08371595002863\n\\item -1.39051784113633\n\\item 0.825433758055554\n\\item 0.133132353323624\n\\item 1.14076132874244\n\\item -0.477581287219295\n\\item 1.96945633707734\n\\item 6.70007189629773\n\\item 6.38795967754434\n\\item 0.809703751703798\n\\item 1.14068687682932\n\\item 1.35676824787416\n\\item -3.44867936190431\n\\item 6.29844927311069\n\\item 0.0177893664244176\n\\item 1.29861107494288\n\\item -1.00183348131043\n\\item 1.15552834436999\n\\item 0.416670172417394\n\\item 0.0424343349694044\n\\item -0.524780508493817\n\\item 0.0596511922067525\n\\item 0.646425855552034\n\\item 0.924524819416103\n\\item 0.800110266310081\n\\item -0.900811051411053\n\\item 0.331598952455808\n\\item 3.04050855922777\n\\item 1.35787493467013\n\\item 4.98291167063662\n\\item -0.0532761660130515\n\\item 0.620527828976925\n\\item 3.71564476447407\n\\item 1.48957791263871\n\\item -2.81286180683644\n\\item -0.259233660134044\n\\item -0.0266342586344946\n\\item -0.21841523172698\n\\item -0.992736424942585\n\\item -72.7705121445299\n\\item -1.65261244485462\n\\item -0.5020804970865\n\\item 1.82280468248052\n\\item -0.905348070873533\n\\item -1.33338069879149\n\\item -0.697867865207926\n\\item 0.81916316953273\n\\item -0.998149332564829\n\\item -0.0726043040069805\n\\item 0.981632796431693\n\\item 1.62899512074513\n\\item -0.764491009703768\n\\item -0.670615428810684\n\\item 0.988106975548019\n\\item 1.71571475359305\n\\item -1.80983383693785\n\\item 15.3274311383753\n\\item -0.389711922929276\n\\item -3.06088001522318\n\\item -2.14692211204604\n\\item -0.923777998117398\n\\item -0.129369892741424\n\\item 0.823535402460277\n\\item 140.140009173888\n\\item -1.14174724733149\n\\item 1.62216135711917\n\\item 0.858916121794447\n\\item -1.19940356805071\n\\item -1.24031092100015\n\\item -0.135458829890413\n\\item -2.83132253557706\n\\item -1.51555515835332\n\\item -0.271287850541336\n\\item -13.8875201536489\n\\item -1.12035026227035\n\\item -0.366336461760244\n\\item -0.208842195589898\n\\item 0.49091106701438\n\\item -0.839172118472766\n\\item 0.368598693561156\n\\item -0.053659345660807\n\\item -1.032715310483\n\\item 0.40011283485302\n\\item 0.860485816006511\n\\item -1.87014354420674\n\\item -0.4901733128516\n\\item 2.76006126645276\n\\item 1.24199223396938\n\\item -0.0206189029961349\n\\item -0.26180572888976\n\\item 0.549174862079476\n\\item 0.4111733705163\n\\item -1.13325505362759\n\\item -5.15492024814408\n\\item -0.616085118405705\n\\item -0.719450923994758\n\\item 0.540125749694017\n\\item -2.47327489096765\n\\item -0.538519251196103\n\\item 4.0611946970416\n\\item -0.663382373501144\n\\item -1.18322266006223\n\\item 0.0823736704346256\n\\item -1.26846168587294\n\\item -0.461228194761467\n\\item -0.687483630429936\n\\item 1.29535547306886\n\\item 2.17761219688318\n\\item 0.0451781553529497\n\\item -0.124468213884251\n\\item -0.897437140993741\n\\item -0.645145669166914\n\\item -1.50968949569388\n\\item 0.387897986156642\n\\item -0.820915740790575\n\\item -2.22269015215019\n\\item 0.0268804273965337\n\\item 1.69563211711072\n\\item 2.62692724294919\n\\item 0.421873306765659\n\\item -1.018282428353\n\\item -0.986835946025919\n\\item -0.363426829263056\n\\item 1.01563356182033\n\\item -0.680665543319613\n\\item 0.266505229033068\n\\item -2.38483864039525\n\\item -0.606439594711731\n\\item 3.59790751105645\n\\item -1.2351785384564\n\\item 2.45562215796066\n\\item -1.1837932015093\n\\item 2.80422714160472\n\\item -0.0463248027147597\n\\item 2.3540931512272\n\\item 1.05404456744982\n\\item 0.554264767620802\n\\item -0.52143280690753\n\\item -1.73999200963408\n\\item -0.445983778927096\n\\item -0.598762641747039\n\\item 0.670206804998516\n\\item -2.40927408033353\n\\item 2.15215240048459\n\\item -0.940749180622627\n\\item 4.14366264930397\n\\item 0.99071086618011\n\\item 0.124330572671485\n\\item 1.2820625629326\n\\item -1.00890644388858\n\\item -5.24150170950033\n\\item -0.384017244548221\n\\item 0.994552038614253\n\\item -0.616492242936705\n\\item -0.538671648136372\n\\item 4.08870371153484\n\\item 1.45459168311705\n\\item 1.93725324787773\n\\item 3.25515490164031\n\\item -0.0434454870719049\n\\item 2.72970800516463\n\\item -1.10327812497953\n\\item 0.268829089630999\n\\item 1.31269343540621\n\\item -2.67366977321285\n\\item -1.03627379129491\n\\item 2.7192992236066\n\\item 0.270436534948273\n\\item -2.95893824711371\n\\item 1.05300181682699\n\\item -0.763664842321585\n\\item 0.960465390013475\n\\item -1.13087278780956\n\\item 1.3665082312884\n\\item -4.00685660291267\n\\item 0.205041669878969\n\\item -1.2009459488212\n\\item -1.16157462026775\n\\item -1.45501978662389\n\\item 51.6994360262406\n\\item 4.63597028212986\n\\item -0.573883052559355\n\\item -1.68240136941264\n\\item -0.535721014950705\n\\item 0.750189919817931\n\\item 1.15824547494799\n\\item 1.92801092206276\n\\item 15.6792939171114\n\\item -10.3017528433512\n\\item -20.5490322054329\n\\item 0.0804957803103467\n\\item -35.1307579063763\n\\item -2.27782406512047\n\\item 1.00366536086934\n\\item -1.5455972598615\n\\item -0.281854285616364\n\\item 2.90106232312747\n\\item -0.642391811979364\n\\item -0.888736094010237\n\\item 3.30612791216835\n\\item -0.958210821593046\n\\item 0.862005782098933\n\\item -0.92830984805034\n\\item 1.04602421320441\n\\end{enumerate*}\n",
            "text/plain": [
              "  [1]   -1.90609224    0.94551862    0.99580469   -1.34520450   -1.62263375\n",
              "  [6]    0.43055745    0.68371448   -0.82568271    2.17749983    0.18096775\n",
              " [11]    2.34856209   -1.29653040   -4.79239255   -3.41829010    1.00585757\n",
              " [16]    0.86701118   -1.14287772    1.72817362   -0.98650596   -3.01469020\n",
              " [21]    0.85935364   -1.66367660    0.60433667   -3.32475982    1.01628325\n",
              " [26] -192.72272139   -3.36746018    1.13847864    3.23111025    0.14994106\n",
              " [31]   -0.50369985    0.73066828   -0.85831969   -3.20480877    1.32420924\n",
              " [36]    1.35770688    1.17119663    1.42306666    1.00137262    0.54266667\n",
              " [41]    0.98421650    0.98748137    1.45288365    1.73077525   -0.88607811\n",
              " [46]    1.08371595   -1.39051784    0.82543376    0.13313235    1.14076133\n",
              " [51]   -0.47758129    1.96945634    6.70007190    6.38795968    0.80970375\n",
              " [56]    1.14068688    1.35676825   -3.44867936    6.29844927    0.01778937\n",
              " [61]    1.29861107   -1.00183348    1.15552834    0.41667017    0.04243433\n",
              " [66]   -0.52478051    0.05965119    0.64642586    0.92452482    0.80011027\n",
              " [71]   -0.90081105    0.33159895    3.04050856    1.35787493    4.98291167\n",
              " [76]   -0.05327617    0.62052783    3.71564476    1.48957791   -2.81286181\n",
              " [81]   -0.25923366   -0.02663426   -0.21841523   -0.99273642  -72.77051214\n",
              " [86]   -1.65261244   -0.50208050    1.82280468   -0.90534807   -1.33338070\n",
              " [91]   -0.69786787    0.81916317   -0.99814933   -0.07260430    0.98163280\n",
              " [96]    1.62899512   -0.76449101   -0.67061543    0.98810698    1.71571475\n",
              "[101]   -1.80983384   15.32743114   -0.38971192   -3.06088002   -2.14692211\n",
              "[106]   -0.92377800   -0.12936989    0.82353540  140.14000917   -1.14174725\n",
              "[111]    1.62216136    0.85891612   -1.19940357   -1.24031092   -0.13545883\n",
              "[116]   -2.83132254   -1.51555516   -0.27128785  -13.88752015   -1.12035026\n",
              "[121]   -0.36633646   -0.20884220    0.49091107   -0.83917212    0.36859869\n",
              "[126]   -0.05365935   -1.03271531    0.40011283    0.86048582   -1.87014354\n",
              "[131]   -0.49017331    2.76006127    1.24199223   -0.02061890   -0.26180573\n",
              "[136]    0.54917486    0.41117337   -1.13325505   -5.15492025   -0.61608512\n",
              "[141]   -0.71945092    0.54012575   -2.47327489   -0.53851925    4.06119470\n",
              "[146]   -0.66338237   -1.18322266    0.08237367   -1.26846169   -0.46122819\n",
              "[151]   -0.68748363    1.29535547    2.17761220    0.04517816   -0.12446821\n",
              "[156]   -0.89743714   -0.64514567   -1.50968950    0.38789799   -0.82091574\n",
              "[161]   -2.22269015    0.02688043    1.69563212    2.62692724    0.42187331\n",
              "[166]   -1.01828243   -0.98683595   -0.36342683    1.01563356   -0.68066554\n",
              "[171]    0.26650523   -2.38483864   -0.60643959    3.59790751   -1.23517854\n",
              "[176]    2.45562216   -1.18379320    2.80422714   -0.04632480    2.35409315\n",
              "[181]    1.05404457    0.55426477   -0.52143281   -1.73999201   -0.44598378\n",
              "[186]   -0.59876264    0.67020680   -2.40927408    2.15215240   -0.94074918\n",
              "[191]    4.14366265    0.99071087    0.12433057    1.28206256   -1.00890644\n",
              "[196]   -5.24150171   -0.38401724    0.99455204   -0.61649224   -0.53867165\n",
              "[201]    4.08870371    1.45459168    1.93725325    3.25515490   -0.04344549\n",
              "[206]    2.72970801   -1.10327812    0.26882909    1.31269344   -2.67366977\n",
              "[211]   -1.03627379    2.71929922    0.27043653   -2.95893825    1.05300182\n",
              "[216]   -0.76366484    0.96046539   -1.13087279    1.36650823   -4.00685660\n",
              "[221]    0.20504167   -1.20094595   -1.16157462   -1.45501979   51.69943603\n",
              "[226]    4.63597028   -0.57388305   -1.68240137   -0.53572101    0.75018992\n",
              "[231]    1.15824547    1.92801092   15.67929392  -10.30175284  -20.54903221\n",
              "[236]    0.08049578  -35.13075791   -2.27782407    1.00366536   -1.54559726\n",
              "[241]   -0.28185429    2.90106232   -0.64239181   -0.88873609    3.30612791\n",
              "[246]   -0.95821082    0.86200578   -0.92830985    1.04602421"
            ]
          },
          "metadata": {}
        },
        {
          "output_type": "stream",
          "name": "stdout",
          "text": [
            "[1] \"c)\"\n"
          ]
        },
        {
          "output_type": "display_data",
          "data": {
            "text/html": [
              "<style>\n",
              ".list-inline {list-style: none; margin:0; padding: 0}\n",
              ".list-inline>li {display: inline-block}\n",
              ".list-inline>li:not(:last-child)::after {content: \"\\00b7\"; padding: 0 .5ex}\n",
              "</style>\n",
              "<ol class=list-inline><li>2235</li><li>1468</li><li>1281</li><li>629</li><li>31</li><li>1838</li><li>1076</li><li>2124</li><li>939</li><li>193</li><li>219</li><li>806</li><li>195</li><li>1664</li><li>215</li><li>576</li><li>1552</li><li>1832</li><li>682</li><li>1938</li><li>1597</li><li>283</li><li>470</li><li>1020</li><li>1500</li><li>1451</li><li>2119</li><li>476</li><li>688</li><li>1591</li><li>181</li><li>1670</li><li>803</li><li>1832</li><li>661</li><li>1368</li><li>1693</li><li>2345</li><li>1355</li><li>256</li><li>153</li><li>1643</li><li>2206</li><li>277</li><li>447</li><li>990</li><li>-83</li><li>972</li><li>1388</li><li>1265</li><li>1159</li><li>574</li><li>1684</li><li>837</li><li>1238</li><li>761</li><li>733</li><li>608</li><li>1651</li><li>-180</li><li>1855</li><li>468</li><li>1428</li><li>760</li><li>1271</li><li>1201</li><li>962</li><li>1751</li><li>2042</li><li>1238</li><li>-2</li><li>1408</li><li>521</li><li>1591</li><li>1302</li><li>214</li><li>-543</li><li>2051</li><li>256</li><li>1321</li><li>359</li><li>878</li><li>1299</li><li>1064</li><li>1569</li><li>992</li><li>1096</li><li>2156</li><li>1990</li><li>-42</li><li>1254</li><li>1964</li><li>302</li><li>1099</li><li>2041</li><li>1181</li><li>1244</li><li>829</li><li>2156</li><li>848</li><li>251</li><li>705</li><li>1034</li><li>1337</li><li>1112</li><li>1494</li><li>1102</li><li>1238</li><li>696</li><li>969</li><li>732</li><li>1212</li><li>1387</li><li>2085</li><li>1125</li><li>109</li><li>983</li><li>57</li><li>1545</li><li>1476</li><li>744</li><li>928</li><li>1170</li><li>299</li><li>966</li><li>548</li><li>781</li><li>2158</li><li>1512</li><li>287</li><li>-207</li><li>-39</li><li>1739</li><li>1073</li><li>1219</li><li>1297</li><li>-66</li><li>871</li><li>1830</li><li>219</li><li>104</li><li>1779</li><li>1171</li><li>112</li><li>707</li><li>1032</li><li>291</li><li>494</li><li>1246</li><li>-268</li><li>2084</li><li>757</li><li>-114</li><li>794</li><li>1478</li><li>989</li><li>887</li><li>2012</li><li>118</li><li>490</li><li>2635</li><li>841</li><li>-663</li><li>1767</li><li>621</li><li>1456</li><li>996</li><li>-3</li><li>1770</li><li>-11</li><li>1888</li><li>1169</li><li>246</li><li>-430</li><li>1880</li><li>976</li><li>-302</li><li>953</li><li>561</li><li>1083</li><li>2806</li><li>425</li><li>213</li><li>1565</li><li>2788</li><li>529</li><li>1052</li><li>868</li><li>1806</li><li>650</li><li>1669</li><li>1574</li><li>958</li><li>2506</li><li>602</li><li>351</li><li>1771</li><li>1991</li><li>2013</li><li>346</li><li>1108</li><li>256</li><li>1300</li><li>959</li><li>784</li><li>893</li><li>1150</li><li>2170</li><li>783</li><li>1151</li><li>315</li><li>-131</li><li>1150</li><li>817</li><li>722</li><li>2015</li><li>886</li><li>672</li><li>1258</li><li>1411</li><li>23</li><li>596</li><li>1390</li><li>370</li><li>860</li><li>1237</li><li>2194</li><li>1044</li><li>1137</li><li>1138</li><li>1503</li><li>2074</li><li>631</li><li>1285</li><li>640</li><li>-268</li><li>1302</li><li>915</li><li>1451</li><li>1198</li><li>-61</li><li>1160</li><li>711</li><li>1207</li><li>553</li><li>1576</li><li>1343</li><li>663</li></ol>\n"
            ],
            "text/markdown": "1. 2235\n2. 1468\n3. 1281\n4. 629\n5. 31\n6. 1838\n7. 1076\n8. 2124\n9. 939\n10. 193\n11. 219\n12. 806\n13. 195\n14. 1664\n15. 215\n16. 576\n17. 1552\n18. 1832\n19. 682\n20. 1938\n21. 1597\n22. 283\n23. 470\n24. 1020\n25. 1500\n26. 1451\n27. 2119\n28. 476\n29. 688\n30. 1591\n31. 181\n32. 1670\n33. 803\n34. 1832\n35. 661\n36. 1368\n37. 1693\n38. 2345\n39. 1355\n40. 256\n41. 153\n42. 1643\n43. 2206\n44. 277\n45. 447\n46. 990\n47. -83\n48. 972\n49. 1388\n50. 1265\n51. 1159\n52. 574\n53. 1684\n54. 837\n55. 1238\n56. 761\n57. 733\n58. 608\n59. 1651\n60. -180\n61. 1855\n62. 468\n63. 1428\n64. 760\n65. 1271\n66. 1201\n67. 962\n68. 1751\n69. 2042\n70. 1238\n71. -2\n72. 1408\n73. 521\n74. 1591\n75. 1302\n76. 214\n77. -543\n78. 2051\n79. 256\n80. 1321\n81. 359\n82. 878\n83. 1299\n84. 1064\n85. 1569\n86. 992\n87. 1096\n88. 2156\n89. 1990\n90. -42\n91. 1254\n92. 1964\n93. 302\n94. 1099\n95. 2041\n96. 1181\n97. 1244\n98. 829\n99. 2156\n100. 848\n101. 251\n102. 705\n103. 1034\n104. 1337\n105. 1112\n106. 1494\n107. 1102\n108. 1238\n109. 696\n110. 969\n111. 732\n112. 1212\n113. 1387\n114. 2085\n115. 1125\n116. 109\n117. 983\n118. 57\n119. 1545\n120. 1476\n121. 744\n122. 928\n123. 1170\n124. 299\n125. 966\n126. 548\n127. 781\n128. 2158\n129. 1512\n130. 287\n131. -207\n132. -39\n133. 1739\n134. 1073\n135. 1219\n136. 1297\n137. -66\n138. 871\n139. 1830\n140. 219\n141. 104\n142. 1779\n143. 1171\n144. 112\n145. 707\n146. 1032\n147. 291\n148. 494\n149. 1246\n150. -268\n151. 2084\n152. 757\n153. -114\n154. 794\n155. 1478\n156. 989\n157. 887\n158. 2012\n159. 118\n160. 490\n161. 2635\n162. 841\n163. -663\n164. 1767\n165. 621\n166. 1456\n167. 996\n168. -3\n169. 1770\n170. -11\n171. 1888\n172. 1169\n173. 246\n174. -430\n175. 1880\n176. 976\n177. -302\n178. 953\n179. 561\n180. 1083\n181. 2806\n182. 425\n183. 213\n184. 1565\n185. 2788\n186. 529\n187. 1052\n188. 868\n189. 1806\n190. 650\n191. 1669\n192. 1574\n193. 958\n194. 2506\n195. 602\n196. 351\n197. 1771\n198. 1991\n199. 2013\n200. 346\n201. 1108\n202. 256\n203. 1300\n204. 959\n205. 784\n206. 893\n207. 1150\n208. 2170\n209. 783\n210. 1151\n211. 315\n212. -131\n213. 1150\n214. 817\n215. 722\n216. 2015\n217. 886\n218. 672\n219. 1258\n220. 1411\n221. 23\n222. 596\n223. 1390\n224. 370\n225. 860\n226. 1237\n227. 2194\n228. 1044\n229. 1137\n230. 1138\n231. 1503\n232. 2074\n233. 631\n234. 1285\n235. 640\n236. -268\n237. 1302\n238. 915\n239. 1451\n240. 1198\n241. -61\n242. 1160\n243. 711\n244. 1207\n245. 553\n246. 1576\n247. 1343\n248. 663\n\n\n",
            "text/latex": "\\begin{enumerate*}\n\\item 2235\n\\item 1468\n\\item 1281\n\\item 629\n\\item 31\n\\item 1838\n\\item 1076\n\\item 2124\n\\item 939\n\\item 193\n\\item 219\n\\item 806\n\\item 195\n\\item 1664\n\\item 215\n\\item 576\n\\item 1552\n\\item 1832\n\\item 682\n\\item 1938\n\\item 1597\n\\item 283\n\\item 470\n\\item 1020\n\\item 1500\n\\item 1451\n\\item 2119\n\\item 476\n\\item 688\n\\item 1591\n\\item 181\n\\item 1670\n\\item 803\n\\item 1832\n\\item 661\n\\item 1368\n\\item 1693\n\\item 2345\n\\item 1355\n\\item 256\n\\item 153\n\\item 1643\n\\item 2206\n\\item 277\n\\item 447\n\\item 990\n\\item -83\n\\item 972\n\\item 1388\n\\item 1265\n\\item 1159\n\\item 574\n\\item 1684\n\\item 837\n\\item 1238\n\\item 761\n\\item 733\n\\item 608\n\\item 1651\n\\item -180\n\\item 1855\n\\item 468\n\\item 1428\n\\item 760\n\\item 1271\n\\item 1201\n\\item 962\n\\item 1751\n\\item 2042\n\\item 1238\n\\item -2\n\\item 1408\n\\item 521\n\\item 1591\n\\item 1302\n\\item 214\n\\item -543\n\\item 2051\n\\item 256\n\\item 1321\n\\item 359\n\\item 878\n\\item 1299\n\\item 1064\n\\item 1569\n\\item 992\n\\item 1096\n\\item 2156\n\\item 1990\n\\item -42\n\\item 1254\n\\item 1964\n\\item 302\n\\item 1099\n\\item 2041\n\\item 1181\n\\item 1244\n\\item 829\n\\item 2156\n\\item 848\n\\item 251\n\\item 705\n\\item 1034\n\\item 1337\n\\item 1112\n\\item 1494\n\\item 1102\n\\item 1238\n\\item 696\n\\item 969\n\\item 732\n\\item 1212\n\\item 1387\n\\item 2085\n\\item 1125\n\\item 109\n\\item 983\n\\item 57\n\\item 1545\n\\item 1476\n\\item 744\n\\item 928\n\\item 1170\n\\item 299\n\\item 966\n\\item 548\n\\item 781\n\\item 2158\n\\item 1512\n\\item 287\n\\item -207\n\\item -39\n\\item 1739\n\\item 1073\n\\item 1219\n\\item 1297\n\\item -66\n\\item 871\n\\item 1830\n\\item 219\n\\item 104\n\\item 1779\n\\item 1171\n\\item 112\n\\item 707\n\\item 1032\n\\item 291\n\\item 494\n\\item 1246\n\\item -268\n\\item 2084\n\\item 757\n\\item -114\n\\item 794\n\\item 1478\n\\item 989\n\\item 887\n\\item 2012\n\\item 118\n\\item 490\n\\item 2635\n\\item 841\n\\item -663\n\\item 1767\n\\item 621\n\\item 1456\n\\item 996\n\\item -3\n\\item 1770\n\\item -11\n\\item 1888\n\\item 1169\n\\item 246\n\\item -430\n\\item 1880\n\\item 976\n\\item -302\n\\item 953\n\\item 561\n\\item 1083\n\\item 2806\n\\item 425\n\\item 213\n\\item 1565\n\\item 2788\n\\item 529\n\\item 1052\n\\item 868\n\\item 1806\n\\item 650\n\\item 1669\n\\item 1574\n\\item 958\n\\item 2506\n\\item 602\n\\item 351\n\\item 1771\n\\item 1991\n\\item 2013\n\\item 346\n\\item 1108\n\\item 256\n\\item 1300\n\\item 959\n\\item 784\n\\item 893\n\\item 1150\n\\item 2170\n\\item 783\n\\item 1151\n\\item 315\n\\item -131\n\\item 1150\n\\item 817\n\\item 722\n\\item 2015\n\\item 886\n\\item 672\n\\item 1258\n\\item 1411\n\\item 23\n\\item 596\n\\item 1390\n\\item 370\n\\item 860\n\\item 1237\n\\item 2194\n\\item 1044\n\\item 1137\n\\item 1138\n\\item 1503\n\\item 2074\n\\item 631\n\\item 1285\n\\item 640\n\\item -268\n\\item 1302\n\\item 915\n\\item 1451\n\\item 1198\n\\item -61\n\\item 1160\n\\item 711\n\\item 1207\n\\item 553\n\\item 1576\n\\item 1343\n\\item 663\n\\end{enumerate*}\n",
            "text/plain": [
              "  [1] 2235 1468 1281  629   31 1838 1076 2124  939  193  219  806  195 1664  215\n",
              " [16]  576 1552 1832  682 1938 1597  283  470 1020 1500 1451 2119  476  688 1591\n",
              " [31]  181 1670  803 1832  661 1368 1693 2345 1355  256  153 1643 2206  277  447\n",
              " [46]  990  -83  972 1388 1265 1159  574 1684  837 1238  761  733  608 1651 -180\n",
              " [61] 1855  468 1428  760 1271 1201  962 1751 2042 1238   -2 1408  521 1591 1302\n",
              " [76]  214 -543 2051  256 1321  359  878 1299 1064 1569  992 1096 2156 1990  -42\n",
              " [91] 1254 1964  302 1099 2041 1181 1244  829 2156  848  251  705 1034 1337 1112\n",
              "[106] 1494 1102 1238  696  969  732 1212 1387 2085 1125  109  983   57 1545 1476\n",
              "[121]  744  928 1170  299  966  548  781 2158 1512  287 -207  -39 1739 1073 1219\n",
              "[136] 1297  -66  871 1830  219  104 1779 1171  112  707 1032  291  494 1246 -268\n",
              "[151] 2084  757 -114  794 1478  989  887 2012  118  490 2635  841 -663 1767  621\n",
              "[166] 1456  996   -3 1770  -11 1888 1169  246 -430 1880  976 -302  953  561 1083\n",
              "[181] 2806  425  213 1565 2788  529 1052  868 1806  650 1669 1574  958 2506  602\n",
              "[196]  351 1771 1991 2013  346 1108  256 1300  959  784  893 1150 2170  783 1151\n",
              "[211]  315 -131 1150  817  722 2015  886  672 1258 1411   23  596 1390  370  860\n",
              "[226] 1237 2194 1044 1137 1138 1503 2074  631 1285  640 -268 1302  915 1451 1198\n",
              "[241]  -61 1160  711 1207  553 1576 1343  663"
            ]
          },
          "metadata": {}
        },
        {
          "output_type": "stream",
          "name": "stdout",
          "text": [
            "[1] \"d)\"\n"
          ]
        },
        {
          "output_type": "display_data",
          "data": {
            "text/html": [
              "5.19343149952765e-05"
            ],
            "text/markdown": "5.19343149952765e-05",
            "text/latex": "5.19343149952765e-05",
            "text/plain": [
              "[1] 5.193431e-05"
            ]
          },
          "metadata": {}
        }
      ]
    },
    {
      "cell_type": "markdown",
      "source": [
        "\n",
        "\n",
        "---\n",
        "\n"
      ],
      "metadata": {
        "id": "T9mIa_DC96rZ"
      }
    },
    {
      "cell_type": "markdown",
      "source": [
        "**Задание 7.**\n",
        "В этом задании используются векторы xVec и yVec, созданные в предыдущем задании.\n",
        "\n",
        "a) Выберите значения yVec, которые > 600 (и выведите на экран).\n",
        "\n",
        "b) Какие индексы имеют элементы yVec, значения которых > 600?\n",
        "\n",
        "c) Какие значения xVec соответствуют значениям yVec, значения которых > 600 (под соответствием понимается расположение на аналогичных индексных позициях)?\n",
        "\n",
        "d) Создайте вектор $(|x_1-\\bar{x}|^{1/2}, |x_2-\\bar{x}|^{1/2}, ..., |x_n-\\bar{x}|^{1/2})$, где $\\bar{x}$ обозначает среднее значение вектора $x=(x_1, x_2, ..., x_n)$.\n",
        "\n",
        "e) Сколько элементов yVec отстоят от максимального значения не более, чем на 200?\n",
        "\n",
        "f) Сколько в xVec четных и нечетных элементов? Сколько элементов xVec кратны 7?\n",
        "\n",
        "g) Отсортируйте элементы xVec в порядке возрастания элементов yVec.\n",
        "\n",
        "h) Выберете и выведите на экран элементы yVec с индексами 1,4,7,10,13,...\n",
        "\n",
        "i) Какие элементы вектора xVec входят в десятку наибольших (top-10)?\n",
        "\n",
        "j) Какие элементы xVec повторяются? Создайте вектор, содержащий только уникальные (неповторяющиеся) элементы xVec."
      ],
      "metadata": {
        "id": "LdwS_Dhh97r3"
      }
    },
    {
      "cell_type": "code",
      "source": [
        "print(\"a)\")\n",
        "a <- yVec[yVec > 600]\n",
        "a\n",
        "print(\"b)\")\n",
        "b <- which(yVec > 600)\n",
        "b\n",
        "print(\"c)\")\n",
        "c <- xVec[which(yVec > 600)]\n",
        "c\n",
        "print(\"d)\")\n",
        "d <- (abs(xVec[1:n] - mean(xVec))) ^ 0.5\n",
        "d\n",
        "print(\"e)\")\n",
        "e <- length(yVec[max(yVec) - yVec <= 200])\n",
        "e\n",
        "print(\"f)\")\n",
        "f_1 <- sum(xVec %% 2 == 0) # четные\n",
        "f_2 <- sum(xVec %% 2 == 1) # нечетные\n",
        "f_3 <- sum(xVec %% 7 == 0) # кратны 7\n",
        "print(paste(\"Количество четных чисел =\", f_1))\n",
        "print(paste(\"Количество нечетных чисел =\", f_2))\n",
        "print(paste(\"Количество чисел кратных 7 =\", f_3))\n",
        "print(\"g)\")\n",
        "index <- order(yVec)\n",
        "g <- xVec[index]\n",
        "g\n",
        "print(\"h)\")\n",
        "h <- yVec[seq(1, length(yVec), by = 3)]\n",
        "h\n",
        "print(\"i)\")\n",
        "i <- head(sort(xVec, decreasing = TRUE), 10)\n",
        "i\n",
        "print(\"j)\")\n",
        "duplicates <- duplicated(xVec) # элементы, которые повторяются\n",
        "j <- xVec[!duplicates]\n",
        "j\n",
        "\n"
      ],
      "metadata": {
        "id": "HU-j8HuQHI6L",
        "colab": {
          "base_uri": "https://localhost:8080/",
          "height": 1000
        },
        "outputId": "a1817173-7113-4fcb-c552-57f0f3292eae"
      },
      "execution_count": null,
      "outputs": [
        {
          "output_type": "stream",
          "name": "stdout",
          "text": [
            "[1] \"a)\"\n"
          ]
        },
        {
          "output_type": "display_data",
          "data": {
            "text/html": [
              "<style>\n",
              ".list-inline {list-style: none; margin:0; padding: 0}\n",
              ".list-inline>li {display: inline-block}\n",
              ".list-inline>li:not(:last-child)::after {content: \"\\00b7\"; padding: 0 .5ex}\n",
              "</style>\n",
              "<ol class=list-inline><li>624</li><li>675</li><li>864</li><li>765</li><li>831</li><li>611</li><li>731</li><li>975</li><li>794</li><li>626</li><li>698</li><li>673</li><li>920</li><li>922</li><li>841</li><li>683</li><li>614</li><li>853</li><li>846</li><li>917</li><li>991</li><li>907</li><li>692</li><li>743</li><li>609</li><li>822</li><li>642</li><li>869</li><li>995</li><li>638</li><li>754</li><li>914</li><li>634</li><li>849</li><li>763</li><li>961</li><li>612</li><li>700</li><li>909</li><li>990</li><li>802</li><li>996</li><li>835</li><li>918</li><li>646</li><li>608</li><li>851</li><li>729</li><li>876</li><li>623</li><li>856</li><li>674</li><li>732</li><li>776</li><li>770</li><li>679</li><li>824</li><li>867</li><li>611</li><li>745</li><li>835</li><li>894</li><li>652</li><li>622</li><li>757</li><li>635</li><li>698</li><li>845</li><li>776</li><li>723</li><li>956</li><li>874</li><li>780</li><li>798</li><li>954</li><li>964</li><li>802</li><li>672</li><li>861</li><li>819</li><li>974</li><li>825</li><li>624</li><li>776</li><li>937</li><li>782</li><li>847</li><li>828</li><li>844</li><li>954</li><li>684</li><li>950</li><li>715</li><li>944</li><li>911</li><li>719</li><li>747</li><li>831</li><li>886</li><li>852</li><li>810</li><li>609</li><li>824</li><li>778</li></ol>\n"
            ],
            "text/markdown": "1. 624\n2. 675\n3. 864\n4. 765\n5. 831\n6. 611\n7. 731\n8. 975\n9. 794\n10. 626\n11. 698\n12. 673\n13. 920\n14. 922\n15. 841\n16. 683\n17. 614\n18. 853\n19. 846\n20. 917\n21. 991\n22. 907\n23. 692\n24. 743\n25. 609\n26. 822\n27. 642\n28. 869\n29. 995\n30. 638\n31. 754\n32. 914\n33. 634\n34. 849\n35. 763\n36. 961\n37. 612\n38. 700\n39. 909\n40. 990\n41. 802\n42. 996\n43. 835\n44. 918\n45. 646\n46. 608\n47. 851\n48. 729\n49. 876\n50. 623\n51. 856\n52. 674\n53. 732\n54. 776\n55. 770\n56. 679\n57. 824\n58. 867\n59. 611\n60. 745\n61. 835\n62. 894\n63. 652\n64. 622\n65. 757\n66. 635\n67. 698\n68. 845\n69. 776\n70. 723\n71. 956\n72. 874\n73. 780\n74. 798\n75. 954\n76. 964\n77. 802\n78. 672\n79. 861\n80. 819\n81. 974\n82. 825\n83. 624\n84. 776\n85. 937\n86. 782\n87. 847\n88. 828\n89. 844\n90. 954\n91. 684\n92. 950\n93. 715\n94. 944\n95. 911\n96. 719\n97. 747\n98. 831\n99. 886\n100. 852\n101. 810\n102. 609\n103. 824\n104. 778\n\n\n",
            "text/latex": "\\begin{enumerate*}\n\\item 624\n\\item 675\n\\item 864\n\\item 765\n\\item 831\n\\item 611\n\\item 731\n\\item 975\n\\item 794\n\\item 626\n\\item 698\n\\item 673\n\\item 920\n\\item 922\n\\item 841\n\\item 683\n\\item 614\n\\item 853\n\\item 846\n\\item 917\n\\item 991\n\\item 907\n\\item 692\n\\item 743\n\\item 609\n\\item 822\n\\item 642\n\\item 869\n\\item 995\n\\item 638\n\\item 754\n\\item 914\n\\item 634\n\\item 849\n\\item 763\n\\item 961\n\\item 612\n\\item 700\n\\item 909\n\\item 990\n\\item 802\n\\item 996\n\\item 835\n\\item 918\n\\item 646\n\\item 608\n\\item 851\n\\item 729\n\\item 876\n\\item 623\n\\item 856\n\\item 674\n\\item 732\n\\item 776\n\\item 770\n\\item 679\n\\item 824\n\\item 867\n\\item 611\n\\item 745\n\\item 835\n\\item 894\n\\item 652\n\\item 622\n\\item 757\n\\item 635\n\\item 698\n\\item 845\n\\item 776\n\\item 723\n\\item 956\n\\item 874\n\\item 780\n\\item 798\n\\item 954\n\\item 964\n\\item 802\n\\item 672\n\\item 861\n\\item 819\n\\item 974\n\\item 825\n\\item 624\n\\item 776\n\\item 937\n\\item 782\n\\item 847\n\\item 828\n\\item 844\n\\item 954\n\\item 684\n\\item 950\n\\item 715\n\\item 944\n\\item 911\n\\item 719\n\\item 747\n\\item 831\n\\item 886\n\\item 852\n\\item 810\n\\item 609\n\\item 824\n\\item 778\n\\end{enumerate*}\n",
            "text/plain": [
              "  [1] 624 675 864 765 831 611 731 975 794 626 698 673 920 922 841 683 614 853\n",
              " [19] 846 917 991 907 692 743 609 822 642 869 995 638 754 914 634 849 763 961\n",
              " [37] 612 700 909 990 802 996 835 918 646 608 851 729 876 623 856 674 732 776\n",
              " [55] 770 679 824 867 611 745 835 894 652 622 757 635 698 845 776 723 956 874\n",
              " [73] 780 798 954 964 802 672 861 819 974 825 624 776 937 782 847 828 844 954\n",
              " [91] 684 950 715 944 911 719 747 831 886 852 810 609 824 778"
            ]
          },
          "metadata": {}
        },
        {
          "output_type": "stream",
          "name": "stdout",
          "text": [
            "[1] \"b)\"\n"
          ]
        },
        {
          "output_type": "display_data",
          "data": {
            "text/html": [
              "<style>\n",
              ".list-inline {list-style: none; margin:0; padding: 0}\n",
              ".list-inline>li {display: inline-block}\n",
              ".list-inline>li:not(:last-child)::after {content: \"\\00b7\"; padding: 0 .5ex}\n",
              "</style>\n",
              "<ol class=list-inline><li>4</li><li>6</li><li>10</li><li>12</li><li>14</li><li>15</li><li>16</li><li>17</li><li>18</li><li>21</li><li>23</li><li>25</li><li>31</li><li>35</li><li>37</li><li>39</li><li>41</li><li>47</li><li>48</li><li>52</li><li>54</li><li>55</li><li>59</li><li>62</li><li>68</li><li>69</li><li>71</li><li>73</li><li>80</li><li>81</li><li>82</li><li>83</li><li>86</li><li>91</li><li>97</li><li>98</li><li>100</li><li>101</li><li>102</li><li>103</li><li>106</li><li>107</li><li>109</li><li>116</li><li>119</li><li>120</li><li>121</li><li>122</li><li>123</li><li>124</li><li>130</li><li>133</li><li>134</li><li>135</li><li>136</li><li>137</li><li>143</li><li>148</li><li>149</li><li>150</li><li>151</li><li>152</li><li>153</li><li>154</li><li>155</li><li>159</li><li>160</li><li>161</li><li>162</li><li>165</li><li>172</li><li>173</li><li>174</li><li>179</li><li>180</li><li>183</li><li>184</li><li>186</li><li>188</li><li>192</li><li>193</li><li>196</li><li>198</li><li>205</li><li>207</li><li>208</li><li>209</li><li>210</li><li>212</li><li>214</li><li>215</li><li>217</li><li>222</li><li>224</li><li>226</li><li>227</li><li>230</li><li>231</li><li>236</li><li>238</li><li>244</li><li>245</li><li>246</li><li>248</li></ol>\n"
            ],
            "text/markdown": "1. 4\n2. 6\n3. 10\n4. 12\n5. 14\n6. 15\n7. 16\n8. 17\n9. 18\n10. 21\n11. 23\n12. 25\n13. 31\n14. 35\n15. 37\n16. 39\n17. 41\n18. 47\n19. 48\n20. 52\n21. 54\n22. 55\n23. 59\n24. 62\n25. 68\n26. 69\n27. 71\n28. 73\n29. 80\n30. 81\n31. 82\n32. 83\n33. 86\n34. 91\n35. 97\n36. 98\n37. 100\n38. 101\n39. 102\n40. 103\n41. 106\n42. 107\n43. 109\n44. 116\n45. 119\n46. 120\n47. 121\n48. 122\n49. 123\n50. 124\n51. 130\n52. 133\n53. 134\n54. 135\n55. 136\n56. 137\n57. 143\n58. 148\n59. 149\n60. 150\n61. 151\n62. 152\n63. 153\n64. 154\n65. 155\n66. 159\n67. 160\n68. 161\n69. 162\n70. 165\n71. 172\n72. 173\n73. 174\n74. 179\n75. 180\n76. 183\n77. 184\n78. 186\n79. 188\n80. 192\n81. 193\n82. 196\n83. 198\n84. 205\n85. 207\n86. 208\n87. 209\n88. 210\n89. 212\n90. 214\n91. 215\n92. 217\n93. 222\n94. 224\n95. 226\n96. 227\n97. 230\n98. 231\n99. 236\n100. 238\n101. 244\n102. 245\n103. 246\n104. 248\n\n\n",
            "text/latex": "\\begin{enumerate*}\n\\item 4\n\\item 6\n\\item 10\n\\item 12\n\\item 14\n\\item 15\n\\item 16\n\\item 17\n\\item 18\n\\item 21\n\\item 23\n\\item 25\n\\item 31\n\\item 35\n\\item 37\n\\item 39\n\\item 41\n\\item 47\n\\item 48\n\\item 52\n\\item 54\n\\item 55\n\\item 59\n\\item 62\n\\item 68\n\\item 69\n\\item 71\n\\item 73\n\\item 80\n\\item 81\n\\item 82\n\\item 83\n\\item 86\n\\item 91\n\\item 97\n\\item 98\n\\item 100\n\\item 101\n\\item 102\n\\item 103\n\\item 106\n\\item 107\n\\item 109\n\\item 116\n\\item 119\n\\item 120\n\\item 121\n\\item 122\n\\item 123\n\\item 124\n\\item 130\n\\item 133\n\\item 134\n\\item 135\n\\item 136\n\\item 137\n\\item 143\n\\item 148\n\\item 149\n\\item 150\n\\item 151\n\\item 152\n\\item 153\n\\item 154\n\\item 155\n\\item 159\n\\item 160\n\\item 161\n\\item 162\n\\item 165\n\\item 172\n\\item 173\n\\item 174\n\\item 179\n\\item 180\n\\item 183\n\\item 184\n\\item 186\n\\item 188\n\\item 192\n\\item 193\n\\item 196\n\\item 198\n\\item 205\n\\item 207\n\\item 208\n\\item 209\n\\item 210\n\\item 212\n\\item 214\n\\item 215\n\\item 217\n\\item 222\n\\item 224\n\\item 226\n\\item 227\n\\item 230\n\\item 231\n\\item 236\n\\item 238\n\\item 244\n\\item 245\n\\item 246\n\\item 248\n\\end{enumerate*}\n",
            "text/plain": [
              "  [1]   4   6  10  12  14  15  16  17  18  21  23  25  31  35  37  39  41  47\n",
              " [19]  48  52  54  55  59  62  68  69  71  73  80  81  82  83  86  91  97  98\n",
              " [37] 100 101 102 103 106 107 109 116 119 120 121 122 123 124 130 133 134 135\n",
              " [55] 136 137 143 148 149 150 151 152 153 154 155 159 160 161 162 165 172 173\n",
              " [73] 174 179 180 183 184 186 188 192 193 196 198 205 207 208 209 210 212 214\n",
              " [91] 215 217 222 224 226 227 230 231 236 238 244 245 246 248"
            ]
          },
          "metadata": {}
        },
        {
          "output_type": "stream",
          "name": "stdout",
          "text": [
            "[1] \"c)\"\n"
          ]
        },
        {
          "output_type": "display_data",
          "data": {
            "text/html": [
              "<style>\n",
              ".list-inline {list-style: none; margin:0; padding: 0}\n",
              ".list-inline>li {display: inline-block}\n",
              ".list-inline>li:not(:last-child)::after {content: \"\\00b7\"; padding: 0 .5ex}\n",
              "</style>\n",
              "<ol class=list-inline><li>509</li><li>378</li><li>112</li><li>237</li><li>259</li><li>737</li><li>69</li><li>660</li><li>813</li><li>950</li><li>175</li><li>661</li><li>622</li><li>894</li><li>929</li><li>912</li><li>191</li><li>365</li><li>139</li><li>506</li><li>790</li><li>325</li><li>416</li><li>970</li><li>659</li><li>915</li><li>349</li><li>747</li><li>18</li><li>727</li><li>151</li><li>670</li><li>743</li><li>136</li><li>491</li><li>643</li><li>880</li><li>137</li><li>306</li><li>498</li><li>576</li><li>698</li><li>552</li><li>252</li><li>223</li><li>900</li><li>478</li><li>380</li><li>494</li><li>440</li><li>317</li><li>382</li><li>879</li><li>401</li><li>608</li><li>398</li><li>802</li><li>164</li><li>405</li><li>480</li><li>119</li><li>986</li><li>7</li><li>243</li><li>607</li><li>736</li><li>44</li><li>706</li><li>966</li><li>928</li><li>980</li><li>159</li><li>129</li><li>617</li><li>392</li><li>12</li><li>588</li><li>973</li><li>710</li><li>960</li><li>634</li><li>116</li><li>993</li><li>360</li><li>558</li><li>714</li><li>836</li><li>216</li><li>35</li><li>646</li><li>382</li><li>846</li><li>63</li><li>549</li><li>677</li><li>743</li><li>684</li><li>632</li><li>121</li><li>765</li><li>330</li><li>623</li><li>369</li><li>409</li></ol>\n"
            ],
            "text/markdown": "1. 509\n2. 378\n3. 112\n4. 237\n5. 259\n6. 737\n7. 69\n8. 660\n9. 813\n10. 950\n11. 175\n12. 661\n13. 622\n14. 894\n15. 929\n16. 912\n17. 191\n18. 365\n19. 139\n20. 506\n21. 790\n22. 325\n23. 416\n24. 970\n25. 659\n26. 915\n27. 349\n28. 747\n29. 18\n30. 727\n31. 151\n32. 670\n33. 743\n34. 136\n35. 491\n36. 643\n37. 880\n38. 137\n39. 306\n40. 498\n41. 576\n42. 698\n43. 552\n44. 252\n45. 223\n46. 900\n47. 478\n48. 380\n49. 494\n50. 440\n51. 317\n52. 382\n53. 879\n54. 401\n55. 608\n56. 398\n57. 802\n58. 164\n59. 405\n60. 480\n61. 119\n62. 986\n63. 7\n64. 243\n65. 607\n66. 736\n67. 44\n68. 706\n69. 966\n70. 928\n71. 980\n72. 159\n73. 129\n74. 617\n75. 392\n76. 12\n77. 588\n78. 973\n79. 710\n80. 960\n81. 634\n82. 116\n83. 993\n84. 360\n85. 558\n86. 714\n87. 836\n88. 216\n89. 35\n90. 646\n91. 382\n92. 846\n93. 63\n94. 549\n95. 677\n96. 743\n97. 684\n98. 632\n99. 121\n100. 765\n101. 330\n102. 623\n103. 369\n104. 409\n\n\n",
            "text/latex": "\\begin{enumerate*}\n\\item 509\n\\item 378\n\\item 112\n\\item 237\n\\item 259\n\\item 737\n\\item 69\n\\item 660\n\\item 813\n\\item 950\n\\item 175\n\\item 661\n\\item 622\n\\item 894\n\\item 929\n\\item 912\n\\item 191\n\\item 365\n\\item 139\n\\item 506\n\\item 790\n\\item 325\n\\item 416\n\\item 970\n\\item 659\n\\item 915\n\\item 349\n\\item 747\n\\item 18\n\\item 727\n\\item 151\n\\item 670\n\\item 743\n\\item 136\n\\item 491\n\\item 643\n\\item 880\n\\item 137\n\\item 306\n\\item 498\n\\item 576\n\\item 698\n\\item 552\n\\item 252\n\\item 223\n\\item 900\n\\item 478\n\\item 380\n\\item 494\n\\item 440\n\\item 317\n\\item 382\n\\item 879\n\\item 401\n\\item 608\n\\item 398\n\\item 802\n\\item 164\n\\item 405\n\\item 480\n\\item 119\n\\item 986\n\\item 7\n\\item 243\n\\item 607\n\\item 736\n\\item 44\n\\item 706\n\\item 966\n\\item 928\n\\item 980\n\\item 159\n\\item 129\n\\item 617\n\\item 392\n\\item 12\n\\item 588\n\\item 973\n\\item 710\n\\item 960\n\\item 634\n\\item 116\n\\item 993\n\\item 360\n\\item 558\n\\item 714\n\\item 836\n\\item 216\n\\item 35\n\\item 646\n\\item 382\n\\item 846\n\\item 63\n\\item 549\n\\item 677\n\\item 743\n\\item 684\n\\item 632\n\\item 121\n\\item 765\n\\item 330\n\\item 623\n\\item 369\n\\item 409\n\\end{enumerate*}\n",
            "text/plain": [
              "  [1] 509 378 112 237 259 737  69 660 813 950 175 661 622 894 929 912 191 365\n",
              " [19] 139 506 790 325 416 970 659 915 349 747  18 727 151 670 743 136 491 643\n",
              " [37] 880 137 306 498 576 698 552 252 223 900 478 380 494 440 317 382 879 401\n",
              " [55] 608 398 802 164 405 480 119 986   7 243 607 736  44 706 966 928 980 159\n",
              " [73] 129 617 392  12 588 973 710 960 634 116 993 360 558 714 836 216  35 646\n",
              " [91] 382 846  63 549 677 743 684 632 121 765 330 623 369 409"
            ]
          },
          "metadata": {}
        },
        {
          "output_type": "stream",
          "name": "stdout",
          "text": [
            "[1] \"d)\"\n"
          ]
        },
        {
          "output_type": "display_data",
          "data": {
            "text/html": [
              "<style>\n",
              ".list-inline {list-style: none; margin:0; padding: 0}\n",
              ".list-inline>li {display: inline-block}\n",
              ".list-inline>li:not(:last-child)::after {content: \"\\00b7\"; padding: 0 .5ex}\n",
              "</style>\n",
              "<ol class=list-inline><li>18.1794389352367</li><li>21.0354938140278</li><li>1.22147451876821</li><li>1.22800651464069</li><li>16.1712089838701</li><li>11.5112119257705</li><li>21.5288643453388</li><li>4.74425968935091</li><li>19.0654661626722</li><li>19.9626651527295</li><li>18.7485466103376</li><li>16.5380772763946</li><li>9.82384853303429</li><li>15.8590037518124</li><li>15.0496511587478</li><li>21.0120917568908</li><li>12.2266921119328</li><li>17.3922971455757</li><li>14.9496488253069</li><li>7.84270361546323</li><li>20.9640644914101</li><li>9.97536966733564</li><li>18.3168774631486</li><li>5.70157872873821</li><li>12.2675180863938</li><li>16.4162114996122</li><li>14.5083424277207</li><li>16.1397645583819</li><li>19.1443986586155</li><li>8.51422339382753</li><li>10.5589772231973</li><li>16.568282952678</li><li>20.0622032688337</li><li>10.8861379745068</li><li>19.5829517693324</li><li>12.7478625659363</li><li>20.4570770150576</li><li>18.0967400379184</li><li>20.0372652824681</li><li>13.9107152943334</li><li>17.8747867120142</li><li>8.21632521264829</li><li>20.3345026986155</li><li>11.7256982734505</li><li>22.2824594692776</li><li>10.5597348451559</li><li>12.0626696879256</li><li>19.274542796134</li><li>14.679645772293</li><li>10.4159493086324</li><li>8.09271277137648</li><li>2.12320512433443</li><li>9.02817811078182</li><li>16.7180142361466</li><li>13.6201321579491</li><li>9.61727612164692</li><li>14.7481524266601</li><li>9.08339143712303</li><li>9.72152251450358</li><li>11.895040983536</li><li>21.0120917568908</li><li>21.4357645070102</li><li>18.8814194381672</li><li>17.3058371655346</li><li>12.8260672070592</li><li>15.2148611561197</li><li>6.963619748378</li><li>12.1857293585571</li><li>20.1119864757313</li><li>15.0828379292493</li><li>12.7085797790312</li><li>17.6778958023855</li><li>15.3782963945946</li><li>15.0501827231433</li><li>16.8372206732584</li><li>15.149521444587</li><li>21.3660478329522</li><li>18.3168774631486</li><li>20.89239095939</li><li>22.1925212628038</li><li>14.7136671159844</li><li>18.96069618975</li><li>12.6290142133106</li><li>10.1238332661102</li><li>9.30010752626011</li><li>15.2476883493859</li><li>1.8686893802877</li><li>16.3857254950765</li><li>21.575263613685</li><li>8.03069112841479</li><li>19.3522091762155</li><li>19.4548708553925</li><li>12.2266921119328</li><li>16.2944162215159</li><li>18.370955337162</li><li>18.2069217606931</li><li>4.41678616190551</li><li>11.5105169301817</li><li>4.74257314123884</li><li>19.2221746948674</li><li>19.3263550624529</li><li>14.3006293567801</li><li>3.5366650958212</li><li>9.30010752626011</li><li>12.1446284422373</li><li>8.09271277137648</li><li>13.6927718158158</li><li>5.70157872873821</li><li>6.44142841301524</li><li>12.9037978905437</li><li>5.78722731539033</li><li>6.89260473261016</li><li>15.0828379292493</li><li>14.7136671159844</li><li>17.1607692135289</li><li>16.0781839770541</li><li>18.0695323680498</li><li>0.701427116670021</li><li>16.9560608633019</li><li>19.7355516771131</li><li>5.70157872873821</li><li>11.4240098039174</li><li>4.06300381491329</li><li>8.39690419142674</li><li>17.5073698767119</li><li>6.20419213113198</li><li>13.2101476146181</li><li>12.7472349943037</li><li>19.760870426173</li><li>13.9107152943334</li><li>22.0795833294018</li><li>20.8448554804297</li><li>11.3361369081359</li><li>19.1961454464171</li><li>10.4646070160327</li><li>9.87380372500892</li><li>10.6069788347107</li><li>20.0875085563143</li><li>12.9418700348906</li><li>9.02729195273976</li><li>21.8748257135914</li><li>8.57368065652086</li><li>17.0731367943914</li><li>15.7641365129841</li><li>18.8549197823804</li><li>7.1068980575213</li><li>11.9376714647372</li><li>18.6147253538697</li><li>10.2717087186115</li><li>5.52340474707403</li><li>19.7865610958549</li><li>21.8057790505178</li><li>22.4389839342159</li><li>16.3556717991038</li><li>9.8230341544759</li><li>12.3487651204483</li><li>7.45036911837259</li><li>8.57274751756985</li><li>15.0163910444554</li><li>21.598796262755</li><li>13.9818453717669</li><li>21.3422585496475</li><li>22.5279382101425</li><li>19.480965068497</li><li>20.4326209772511</li><li>17.0442952333031</li><li>15.3782963945946</li><li>15.8905003067871</li><li>15.6047428687563</li><li>16.8668906440992</li><li>20.5793099981511</li><li>21.6677640747725</li><li>18.7485466103376</li><li>19.532229775425</li><li>18.4257428615511</li><li>19.760870426173</li><li>20.4330125042785</li><li>19.9876962154221</li><li>10.3194961117295</li><li>10.8861379745068</li><li>18.1519144995783</li><li>21.8744599933347</li><li>22.3272927154189</li><li>8.80295404963584</li><li>21.5520764660856</li><li>21.5056271705803</li><li>19.4295651006398</li><li>14.1241636920562</li><li>3.08350449975348</li><li>18.2617633321648</li><li>11.2919440310338</li><li>21.2012263796225</li><li>11.1126954426008</li><li>11.9788146325085</li><li>21.7598713231489</li><li>19.8622254543644</li><li>10.1731017885402</li><li>21.9657005351525</li><li>17.8463441634414</li><li>12.2266921119328</li><li>19.3522091762155</li><li>8.68861323802596</li><li>17.6212371869855</li><li>14.8152624006462</li><li>12.2681701977108</li><li>4.41678616190551</li><li>6.89144397060587</li><li>14.2650622150764</li><li>18.0413968417082</li><li>17.1612353867663</li><li>5.05054452509826</li><li>21.8061459226522</li><li>16.4471274087605</li><li>11.640103092327</li><li>11.3361369081359</li><li>9.0825106661099</li><li>18.3164407022762</li><li>15.508320347478</li><li>3.24160454096424</li><li>9.35371583917322</li><li>8.51516294618018</li><li>21.1543848882448</li><li>5.5219561751249</li><li>6.20419213113198</li><li>16.1712089838701</li><li>12.9031779031369</li><li>15.2476883493859</li><li>20.3836208755952</li><li>10.4646070160327</li><li>13.1716361929716</li><li>11.0223409491814</li><li>17.3058371655346</li><li>15.4431861997452</li><li>16.6285297004877</li><li>8.68861323802596</li><li>19.7359570327866</li><li>17.9585077331052</li><li>15.952805395917</li><li>9.72152251450358</li><li>13.0954954087274</li><li>13.4724904898834</li><li>19.196562192226</li><li>12.7863990239629</li><li>13.4353265684166</li><li>10.6062245874769</li><li>11.895713513699</li><li>17.247956400687</li><li>10.0751178653155</li><li>15.0833683240846</li><li>14.0892867101213</li></ol>\n"
            ],
            "text/markdown": "1. 18.1794389352367\n2. 21.0354938140278\n3. 1.22147451876821\n4. 1.22800651464069\n5. 16.1712089838701\n6. 11.5112119257705\n7. 21.5288643453388\n8. 4.74425968935091\n9. 19.0654661626722\n10. 19.9626651527295\n11. 18.7485466103376\n12. 16.5380772763946\n13. 9.82384853303429\n14. 15.8590037518124\n15. 15.0496511587478\n16. 21.0120917568908\n17. 12.2266921119328\n18. 17.3922971455757\n19. 14.9496488253069\n20. 7.84270361546323\n21. 20.9640644914101\n22. 9.97536966733564\n23. 18.3168774631486\n24. 5.70157872873821\n25. 12.2675180863938\n26. 16.4162114996122\n27. 14.5083424277207\n28. 16.1397645583819\n29. 19.1443986586155\n30. 8.51422339382753\n31. 10.5589772231973\n32. 16.568282952678\n33. 20.0622032688337\n34. 10.8861379745068\n35. 19.5829517693324\n36. 12.7478625659363\n37. 20.4570770150576\n38. 18.0967400379184\n39. 20.0372652824681\n40. 13.9107152943334\n41. 17.8747867120142\n42. 8.21632521264829\n43. 20.3345026986155\n44. 11.7256982734505\n45. 22.2824594692776\n46. 10.5597348451559\n47. 12.0626696879256\n48. 19.274542796134\n49. 14.679645772293\n50. 10.4159493086324\n51. 8.09271277137648\n52. 2.12320512433443\n53. 9.02817811078182\n54. 16.7180142361466\n55. 13.6201321579491\n56. 9.61727612164692\n57. 14.7481524266601\n58. 9.08339143712303\n59. 9.72152251450358\n60. 11.895040983536\n61. 21.0120917568908\n62. 21.4357645070102\n63. 18.8814194381672\n64. 17.3058371655346\n65. 12.8260672070592\n66. 15.2148611561197\n67. 6.963619748378\n68. 12.1857293585571\n69. 20.1119864757313\n70. 15.0828379292493\n71. 12.7085797790312\n72. 17.6778958023855\n73. 15.3782963945946\n74. 15.0501827231433\n75. 16.8372206732584\n76. 15.149521444587\n77. 21.3660478329522\n78. 18.3168774631486\n79. 20.89239095939\n80. 22.1925212628038\n81. 14.7136671159844\n82. 18.96069618975\n83. 12.6290142133106\n84. 10.1238332661102\n85. 9.30010752626011\n86. 15.2476883493859\n87. 1.8686893802877\n88. 16.3857254950765\n89. 21.575263613685\n90. 8.03069112841479\n91. 19.3522091762155\n92. 19.4548708553925\n93. 12.2266921119328\n94. 16.2944162215159\n95. 18.370955337162\n96. 18.2069217606931\n97. 4.41678616190551\n98. 11.5105169301817\n99. 4.74257314123884\n100. 19.2221746948674\n101. 19.3263550624529\n102. 14.3006293567801\n103. 3.5366650958212\n104. 9.30010752626011\n105. 12.1446284422373\n106. 8.09271277137648\n107. 13.6927718158158\n108. 5.70157872873821\n109. 6.44142841301524\n110. 12.9037978905437\n111. 5.78722731539033\n112. 6.89260473261016\n113. 15.0828379292493\n114. 14.7136671159844\n115. 17.1607692135289\n116. 16.0781839770541\n117. 18.0695323680498\n118. 0.701427116670021\n119. 16.9560608633019\n120. 19.7355516771131\n121. 5.70157872873821\n122. 11.4240098039174\n123. 4.06300381491329\n124. 8.39690419142674\n125. 17.5073698767119\n126. 6.20419213113198\n127. 13.2101476146181\n128. 12.7472349943037\n129. 19.760870426173\n130. 13.9107152943334\n131. 22.0795833294018\n132. 20.8448554804297\n133. 11.3361369081359\n134. 19.1961454464171\n135. 10.4646070160327\n136. 9.87380372500892\n137. 10.6069788347107\n138. 20.0875085563143\n139. 12.9418700348906\n140. 9.02729195273976\n141. 21.8748257135914\n142. 8.57368065652086\n143. 17.0731367943914\n144. 15.7641365129841\n145. 18.8549197823804\n146. 7.1068980575213\n147. 11.9376714647372\n148. 18.6147253538697\n149. 10.2717087186115\n150. 5.52340474707403\n151. 19.7865610958549\n152. 21.8057790505178\n153. 22.4389839342159\n154. 16.3556717991038\n155. 9.8230341544759\n156. 12.3487651204483\n157. 7.45036911837259\n158. 8.57274751756985\n159. 15.0163910444554\n160. 21.598796262755\n161. 13.9818453717669\n162. 21.3422585496475\n163. 22.5279382101425\n164. 19.480965068497\n165. 20.4326209772511\n166. 17.0442952333031\n167. 15.3782963945946\n168. 15.8905003067871\n169. 15.6047428687563\n170. 16.8668906440992\n171. 20.5793099981511\n172. 21.6677640747725\n173. 18.7485466103376\n174. 19.532229775425\n175. 18.4257428615511\n176. 19.760870426173\n177. 20.4330125042785\n178. 19.9876962154221\n179. 10.3194961117295\n180. 10.8861379745068\n181. 18.1519144995783\n182. 21.8744599933347\n183. 22.3272927154189\n184. 8.80295404963584\n185. 21.5520764660856\n186. 21.5056271705803\n187. 19.4295651006398\n188. 14.1241636920562\n189. 3.08350449975348\n190. 18.2617633321648\n191. 11.2919440310338\n192. 21.2012263796225\n193. 11.1126954426008\n194. 11.9788146325085\n195. 21.7598713231489\n196. 19.8622254543644\n197. 10.1731017885402\n198. 21.9657005351525\n199. 17.8463441634414\n200. 12.2266921119328\n201. 19.3522091762155\n202. 8.68861323802596\n203. 17.6212371869855\n204. 14.8152624006462\n205. 12.2681701977108\n206. 4.41678616190551\n207. 6.89144397060587\n208. 14.2650622150764\n209. 18.0413968417082\n210. 17.1612353867663\n211. 5.05054452509826\n212. 21.8061459226522\n213. 16.4471274087605\n214. 11.640103092327\n215. 11.3361369081359\n216. 9.0825106661099\n217. 18.3164407022762\n218. 15.508320347478\n219. 3.24160454096424\n220. 9.35371583917322\n221. 8.51516294618018\n222. 21.1543848882448\n223. 5.5219561751249\n224. 6.20419213113198\n225. 16.1712089838701\n226. 12.9031779031369\n227. 15.2476883493859\n228. 20.3836208755952\n229. 10.4646070160327\n230. 13.1716361929716\n231. 11.0223409491814\n232. 17.3058371655346\n233. 15.4431861997452\n234. 16.6285297004877\n235. 8.68861323802596\n236. 19.7359570327866\n237. 17.9585077331052\n238. 15.952805395917\n239. 9.72152251450358\n240. 13.0954954087274\n241. 13.4724904898834\n242. 19.196562192226\n243. 12.7863990239629\n244. 13.4353265684166\n245. 10.6062245874769\n246. 11.895713513699\n247. 17.247956400687\n248. 10.0751178653155\n249. 15.0833683240846\n250. 14.0892867101213\n\n\n",
            "text/latex": "\\begin{enumerate*}\n\\item 18.1794389352367\n\\item 21.0354938140278\n\\item 1.22147451876821\n\\item 1.22800651464069\n\\item 16.1712089838701\n\\item 11.5112119257705\n\\item 21.5288643453388\n\\item 4.74425968935091\n\\item 19.0654661626722\n\\item 19.9626651527295\n\\item 18.7485466103376\n\\item 16.5380772763946\n\\item 9.82384853303429\n\\item 15.8590037518124\n\\item 15.0496511587478\n\\item 21.0120917568908\n\\item 12.2266921119328\n\\item 17.3922971455757\n\\item 14.9496488253069\n\\item 7.84270361546323\n\\item 20.9640644914101\n\\item 9.97536966733564\n\\item 18.3168774631486\n\\item 5.70157872873821\n\\item 12.2675180863938\n\\item 16.4162114996122\n\\item 14.5083424277207\n\\item 16.1397645583819\n\\item 19.1443986586155\n\\item 8.51422339382753\n\\item 10.5589772231973\n\\item 16.568282952678\n\\item 20.0622032688337\n\\item 10.8861379745068\n\\item 19.5829517693324\n\\item 12.7478625659363\n\\item 20.4570770150576\n\\item 18.0967400379184\n\\item 20.0372652824681\n\\item 13.9107152943334\n\\item 17.8747867120142\n\\item 8.21632521264829\n\\item 20.3345026986155\n\\item 11.7256982734505\n\\item 22.2824594692776\n\\item 10.5597348451559\n\\item 12.0626696879256\n\\item 19.274542796134\n\\item 14.679645772293\n\\item 10.4159493086324\n\\item 8.09271277137648\n\\item 2.12320512433443\n\\item 9.02817811078182\n\\item 16.7180142361466\n\\item 13.6201321579491\n\\item 9.61727612164692\n\\item 14.7481524266601\n\\item 9.08339143712303\n\\item 9.72152251450358\n\\item 11.895040983536\n\\item 21.0120917568908\n\\item 21.4357645070102\n\\item 18.8814194381672\n\\item 17.3058371655346\n\\item 12.8260672070592\n\\item 15.2148611561197\n\\item 6.963619748378\n\\item 12.1857293585571\n\\item 20.1119864757313\n\\item 15.0828379292493\n\\item 12.7085797790312\n\\item 17.6778958023855\n\\item 15.3782963945946\n\\item 15.0501827231433\n\\item 16.8372206732584\n\\item 15.149521444587\n\\item 21.3660478329522\n\\item 18.3168774631486\n\\item 20.89239095939\n\\item 22.1925212628038\n\\item 14.7136671159844\n\\item 18.96069618975\n\\item 12.6290142133106\n\\item 10.1238332661102\n\\item 9.30010752626011\n\\item 15.2476883493859\n\\item 1.8686893802877\n\\item 16.3857254950765\n\\item 21.575263613685\n\\item 8.03069112841479\n\\item 19.3522091762155\n\\item 19.4548708553925\n\\item 12.2266921119328\n\\item 16.2944162215159\n\\item 18.370955337162\n\\item 18.2069217606931\n\\item 4.41678616190551\n\\item 11.5105169301817\n\\item 4.74257314123884\n\\item 19.2221746948674\n\\item 19.3263550624529\n\\item 14.3006293567801\n\\item 3.5366650958212\n\\item 9.30010752626011\n\\item 12.1446284422373\n\\item 8.09271277137648\n\\item 13.6927718158158\n\\item 5.70157872873821\n\\item 6.44142841301524\n\\item 12.9037978905437\n\\item 5.78722731539033\n\\item 6.89260473261016\n\\item 15.0828379292493\n\\item 14.7136671159844\n\\item 17.1607692135289\n\\item 16.0781839770541\n\\item 18.0695323680498\n\\item 0.701427116670021\n\\item 16.9560608633019\n\\item 19.7355516771131\n\\item 5.70157872873821\n\\item 11.4240098039174\n\\item 4.06300381491329\n\\item 8.39690419142674\n\\item 17.5073698767119\n\\item 6.20419213113198\n\\item 13.2101476146181\n\\item 12.7472349943037\n\\item 19.760870426173\n\\item 13.9107152943334\n\\item 22.0795833294018\n\\item 20.8448554804297\n\\item 11.3361369081359\n\\item 19.1961454464171\n\\item 10.4646070160327\n\\item 9.87380372500892\n\\item 10.6069788347107\n\\item 20.0875085563143\n\\item 12.9418700348906\n\\item 9.02729195273976\n\\item 21.8748257135914\n\\item 8.57368065652086\n\\item 17.0731367943914\n\\item 15.7641365129841\n\\item 18.8549197823804\n\\item 7.1068980575213\n\\item 11.9376714647372\n\\item 18.6147253538697\n\\item 10.2717087186115\n\\item 5.52340474707403\n\\item 19.7865610958549\n\\item 21.8057790505178\n\\item 22.4389839342159\n\\item 16.3556717991038\n\\item 9.8230341544759\n\\item 12.3487651204483\n\\item 7.45036911837259\n\\item 8.57274751756985\n\\item 15.0163910444554\n\\item 21.598796262755\n\\item 13.9818453717669\n\\item 21.3422585496475\n\\item 22.5279382101425\n\\item 19.480965068497\n\\item 20.4326209772511\n\\item 17.0442952333031\n\\item 15.3782963945946\n\\item 15.8905003067871\n\\item 15.6047428687563\n\\item 16.8668906440992\n\\item 20.5793099981511\n\\item 21.6677640747725\n\\item 18.7485466103376\n\\item 19.532229775425\n\\item 18.4257428615511\n\\item 19.760870426173\n\\item 20.4330125042785\n\\item 19.9876962154221\n\\item 10.3194961117295\n\\item 10.8861379745068\n\\item 18.1519144995783\n\\item 21.8744599933347\n\\item 22.3272927154189\n\\item 8.80295404963584\n\\item 21.5520764660856\n\\item 21.5056271705803\n\\item 19.4295651006398\n\\item 14.1241636920562\n\\item 3.08350449975348\n\\item 18.2617633321648\n\\item 11.2919440310338\n\\item 21.2012263796225\n\\item 11.1126954426008\n\\item 11.9788146325085\n\\item 21.7598713231489\n\\item 19.8622254543644\n\\item 10.1731017885402\n\\item 21.9657005351525\n\\item 17.8463441634414\n\\item 12.2266921119328\n\\item 19.3522091762155\n\\item 8.68861323802596\n\\item 17.6212371869855\n\\item 14.8152624006462\n\\item 12.2681701977108\n\\item 4.41678616190551\n\\item 6.89144397060587\n\\item 14.2650622150764\n\\item 18.0413968417082\n\\item 17.1612353867663\n\\item 5.05054452509826\n\\item 21.8061459226522\n\\item 16.4471274087605\n\\item 11.640103092327\n\\item 11.3361369081359\n\\item 9.0825106661099\n\\item 18.3164407022762\n\\item 15.508320347478\n\\item 3.24160454096424\n\\item 9.35371583917322\n\\item 8.51516294618018\n\\item 21.1543848882448\n\\item 5.5219561751249\n\\item 6.20419213113198\n\\item 16.1712089838701\n\\item 12.9031779031369\n\\item 15.2476883493859\n\\item 20.3836208755952\n\\item 10.4646070160327\n\\item 13.1716361929716\n\\item 11.0223409491814\n\\item 17.3058371655346\n\\item 15.4431861997452\n\\item 16.6285297004877\n\\item 8.68861323802596\n\\item 19.7359570327866\n\\item 17.9585077331052\n\\item 15.952805395917\n\\item 9.72152251450358\n\\item 13.0954954087274\n\\item 13.4724904898834\n\\item 19.196562192226\n\\item 12.7863990239629\n\\item 13.4353265684166\n\\item 10.6062245874769\n\\item 11.895713513699\n\\item 17.247956400687\n\\item 10.0751178653155\n\\item 15.0833683240846\n\\item 14.0892867101213\n\\end{enumerate*}\n",
            "text/plain": [
              "  [1] 18.1794389 21.0354938  1.2214745  1.2280065 16.1712090 11.5112119\n",
              "  [7] 21.5288643  4.7442597 19.0654662 19.9626652 18.7485466 16.5380773\n",
              " [13]  9.8238485 15.8590038 15.0496512 21.0120918 12.2266921 17.3922971\n",
              " [19] 14.9496488  7.8427036 20.9640645  9.9753697 18.3168775  5.7015787\n",
              " [25] 12.2675181 16.4162115 14.5083424 16.1397646 19.1443987  8.5142234\n",
              " [31] 10.5589772 16.5682830 20.0622033 10.8861380 19.5829518 12.7478626\n",
              " [37] 20.4570770 18.0967400 20.0372653 13.9107153 17.8747867  8.2163252\n",
              " [43] 20.3345027 11.7256983 22.2824595 10.5597348 12.0626697 19.2745428\n",
              " [49] 14.6796458 10.4159493  8.0927128  2.1232051  9.0281781 16.7180142\n",
              " [55] 13.6201322  9.6172761 14.7481524  9.0833914  9.7215225 11.8950410\n",
              " [61] 21.0120918 21.4357645 18.8814194 17.3058372 12.8260672 15.2148612\n",
              " [67]  6.9636197 12.1857294 20.1119865 15.0828379 12.7085798 17.6778958\n",
              " [73] 15.3782964 15.0501827 16.8372207 15.1495214 21.3660478 18.3168775\n",
              " [79] 20.8923910 22.1925213 14.7136671 18.9606962 12.6290142 10.1238333\n",
              " [85]  9.3001075 15.2476883  1.8686894 16.3857255 21.5752636  8.0306911\n",
              " [91] 19.3522092 19.4548709 12.2266921 16.2944162 18.3709553 18.2069218\n",
              " [97]  4.4167862 11.5105169  4.7425731 19.2221747 19.3263551 14.3006294\n",
              "[103]  3.5366651  9.3001075 12.1446284  8.0927128 13.6927718  5.7015787\n",
              "[109]  6.4414284 12.9037979  5.7872273  6.8926047 15.0828379 14.7136671\n",
              "[115] 17.1607692 16.0781840 18.0695324  0.7014271 16.9560609 19.7355517\n",
              "[121]  5.7015787 11.4240098  4.0630038  8.3969042 17.5073699  6.2041921\n",
              "[127] 13.2101476 12.7472350 19.7608704 13.9107153 22.0795833 20.8448555\n",
              "[133] 11.3361369 19.1961454 10.4646070  9.8738037 10.6069788 20.0875086\n",
              "[139] 12.9418700  9.0272920 21.8748257  8.5736807 17.0731368 15.7641365\n",
              "[145] 18.8549198  7.1068981 11.9376715 18.6147254 10.2717087  5.5234047\n",
              "[151] 19.7865611 21.8057791 22.4389839 16.3556718  9.8230342 12.3487651\n",
              "[157]  7.4503691  8.5727475 15.0163910 21.5987963 13.9818454 21.3422585\n",
              "[163] 22.5279382 19.4809651 20.4326210 17.0442952 15.3782964 15.8905003\n",
              "[169] 15.6047429 16.8668906 20.5793100 21.6677641 18.7485466 19.5322298\n",
              "[175] 18.4257429 19.7608704 20.4330125 19.9876962 10.3194961 10.8861380\n",
              "[181] 18.1519145 21.8744600 22.3272927  8.8029540 21.5520765 21.5056272\n",
              "[187] 19.4295651 14.1241637  3.0835045 18.2617633 11.2919440 21.2012264\n",
              "[193] 11.1126954 11.9788146 21.7598713 19.8622255 10.1731018 21.9657005\n",
              "[199] 17.8463442 12.2266921 19.3522092  8.6886132 17.6212372 14.8152624\n",
              "[205] 12.2681702  4.4167862  6.8914440 14.2650622 18.0413968 17.1612354\n",
              "[211]  5.0505445 21.8061459 16.4471274 11.6401031 11.3361369  9.0825107\n",
              "[217] 18.3164407 15.5083203  3.2416045  9.3537158  8.5151629 21.1543849\n",
              "[223]  5.5219562  6.2041921 16.1712090 12.9031779 15.2476883 20.3836209\n",
              "[229] 10.4646070 13.1716362 11.0223409 17.3058372 15.4431862 16.6285297\n",
              "[235]  8.6886132 19.7359570 17.9585077 15.9528054  9.7215225 13.0954954\n",
              "[241] 13.4724905 19.1965622 12.7863990 13.4353266 10.6062246 11.8957135\n",
              "[247] 17.2479564 10.0751179 15.0833683 14.0892867"
            ]
          },
          "metadata": {}
        },
        {
          "output_type": "stream",
          "name": "stdout",
          "text": [
            "[1] \"e)\"\n"
          ]
        },
        {
          "output_type": "display_data",
          "data": {
            "text/html": [
              "54"
            ],
            "text/markdown": "54",
            "text/latex": "54",
            "text/plain": [
              "[1] 54"
            ]
          },
          "metadata": {}
        },
        {
          "output_type": "stream",
          "name": "stdout",
          "text": [
            "[1] \"f)\"\n",
            "[1] \"Количество четных чисел = 135\"\n",
            "[1] \"Количество нечетных чисел = 115\"\n",
            "[1] \"Количество чисел кратных 7 = 35\"\n",
            "[1] \"g)\"\n"
          ]
        },
        {
          "output_type": "display_data",
          "data": {
            "text/html": [
              "<style>\n",
              ".list-inline {list-style: none; margin:0; padding: 0}\n",
              ".list-inline>li {display: inline-block}\n",
              ".list-inline>li:not(:last-child)::after {content: \"\\00b7\"; padding: 0 .5ex}\n",
              "</style>\n",
              "<ol class=list-inline><li>399</li><li>975</li><li>913</li><li>844</li><li>234</li><li>511</li><li>488</li><li>613</li><li>204</li><li>267</li><li>874</li><li>171</li><li>674</li><li>416</li><li>443</li><li>541</li><li>663</li><li>198</li><li>344</li><li>810</li><li>159</li><li>730</li><li>346</li><li>240</li><li>478</li><li>673</li><li>926</li><li>533</li><li>249</li><li>414</li><li>780</li><li>648</li><li>142</li><li>293</li><li>597</li><li>478</li><li>654</li><li>841</li><li>491</li><li>501</li><li>593</li><li>154</li><li>974</li><li>437</li><li>438</li><li>76</li><li>175</li><li>660</li><li>312</li><li>586</li><li>842</li><li>93</li><li>678</li><li>576</li><li>989</li><li>258</li><li>848</li><li>984</li><li>953</li><li>336</li><li>14</li><li>721</li><li>549</li><li>779</li><li>738</li><li>660</li><li>411</li><li>383</li><li>614</li><li>449</li><li>428</li><li>575</li><li>500</li><li>810</li><li>947</li><li>32</li><li>69</li><li>220</li><li>188</li><li>901</li><li>284</li><li>270</li><li>795</li><li>794</li><li>429</li><li>133</li><li>236</li><li>603</li><li>738</li><li>976</li><li>652</li><li>682</li><li>23</li><li>734</li><li>749</li><li>726</li><li>727</li><li>583</li><li>3</li><li>838</li><li>586</li><li>144</li><li>747</li><li>619</li><li>771</li><li>348</li><li>262</li><li>87</li><li>598</li><li>317</li><li>463</li><li>368</li><li>742</li><li>592</li><li>512</li><li>805</li><li>901</li><li>249</li><li>136</li><li>597</li><li>559</li><li>111</li><li>107</li><li>54</li><li>283</li><li>658</li><li>889</li><li>200</li><li>329</li><li>455</li><li>184</li><li>808</li><li>460</li><li>485</li><li>131</li><li>245</li><li>584</li><li>401</li><li>829</li><li>924</li><li>155</li><li>544</li><li>840</li><li>514</li><li>392</li><li>281</li><li>900</li><li>659</li><li>623</li><li>737</li><li>405</li><li>880</li><li>191</li><li>243</li><li>440</li><li>509</li><li>993</li><li>950</li><li>743</li><li>736</li><li>727</li><li>349</li><li>223</li><li>7</li><li>973</li><li>661</li><li>382</li><li>378</li><li>398</li><li>912</li><li>382</li><li>416</li><li>175</li><li>44</li><li>137</li><li>63</li><li>743</li><li>928</li><li>380</li><li>69</li><li>879</li><li>970</li><li>480</li><li>684</li><li>151</li><li>607</li><li>491</li><li>237</li><li>608</li><li>401</li><li>966</li><li>360</li><li>409</li><li>129</li><li>714</li><li>813</li><li>617</li><li>576</li><li>588</li><li>330</li><li>960</li><li>915</li><li>802</li><li>369</li><li>116</li><li>216</li><li>259</li><li>632</li><li>552</li><li>119</li><li>929</li><li>35</li><li>706</li><li>139</li><li>836</li><li>136</li><li>478</li><li>765</li><li>365</li><li>317</li><li>710</li><li>112</li><li>164</li><li>747</li><li>159</li><li>494</li><li>121</li><li>986</li><li>325</li><li>306</li><li>677</li><li>670</li><li>506</li><li>252</li><li>622</li><li>894</li><li>558</li><li>549</li><li>846</li><li>392</li><li>646</li><li>980</li><li>643</li><li>12</li><li>634</li><li>660</li><li>498</li><li>790</li><li>18</li><li>698</li></ol>\n"
            ],
            "text/markdown": "1. 399\n2. 975\n3. 913\n4. 844\n5. 234\n6. 511\n7. 488\n8. 613\n9. 204\n10. 267\n11. 874\n12. 171\n13. 674\n14. 416\n15. 443\n16. 541\n17. 663\n18. 198\n19. 344\n20. 810\n21. 159\n22. 730\n23. 346\n24. 240\n25. 478\n26. 673\n27. 926\n28. 533\n29. 249\n30. 414\n31. 780\n32. 648\n33. 142\n34. 293\n35. 597\n36. 478\n37. 654\n38. 841\n39. 491\n40. 501\n41. 593\n42. 154\n43. 974\n44. 437\n45. 438\n46. 76\n47. 175\n48. 660\n49. 312\n50. 586\n51. 842\n52. 93\n53. 678\n54. 576\n55. 989\n56. 258\n57. 848\n58. 984\n59. 953\n60. 336\n61. 14\n62. 721\n63. 549\n64. 779\n65. 738\n66. 660\n67. 411\n68. 383\n69. 614\n70. 449\n71. 428\n72. 575\n73. 500\n74. 810\n75. 947\n76. 32\n77. 69\n78. 220\n79. 188\n80. 901\n81. 284\n82. 270\n83. 795\n84. 794\n85. 429\n86. 133\n87. 236\n88. 603\n89. 738\n90. 976\n91. 652\n92. 682\n93. 23\n94. 734\n95. 749\n96. 726\n97. 727\n98. 583\n99. 3\n100. 838\n101. 586\n102. 144\n103. 747\n104. 619\n105. 771\n106. 348\n107. 262\n108. 87\n109. 598\n110. 317\n111. 463\n112. 368\n113. 742\n114. 592\n115. 512\n116. 805\n117. 901\n118. 249\n119. 136\n120. 597\n121. 559\n122. 111\n123. 107\n124. 54\n125. 283\n126. 658\n127. 889\n128. 200\n129. 329\n130. 455\n131. 184\n132. 808\n133. 460\n134. 485\n135. 131\n136. 245\n137. 584\n138. 401\n139. 829\n140. 924\n141. 155\n142. 544\n143. 840\n144. 514\n145. 392\n146. 281\n147. 900\n148. 659\n149. 623\n150. 737\n151. 405\n152. 880\n153. 191\n154. 243\n155. 440\n156. 509\n157. 993\n158. 950\n159. 743\n160. 736\n161. 727\n162. 349\n163. 223\n164. 7\n165. 973\n166. 661\n167. 382\n168. 378\n169. 398\n170. 912\n171. 382\n172. 416\n173. 175\n174. 44\n175. 137\n176. 63\n177. 743\n178. 928\n179. 380\n180. 69\n181. 879\n182. 970\n183. 480\n184. 684\n185. 151\n186. 607\n187. 491\n188. 237\n189. 608\n190. 401\n191. 966\n192. 360\n193. 409\n194. 129\n195. 714\n196. 813\n197. 617\n198. 576\n199. 588\n200. 330\n201. 960\n202. 915\n203. 802\n204. 369\n205. 116\n206. 216\n207. 259\n208. 632\n209. 552\n210. 119\n211. 929\n212. 35\n213. 706\n214. 139\n215. 836\n216. 136\n217. 478\n218. 765\n219. 365\n220. 317\n221. 710\n222. 112\n223. 164\n224. 747\n225. 159\n226. 494\n227. 121\n228. 986\n229. 325\n230. 306\n231. 677\n232. 670\n233. 506\n234. 252\n235. 622\n236. 894\n237. 558\n238. 549\n239. 846\n240. 392\n241. 646\n242. 980\n243. 643\n244. 12\n245. 634\n246. 660\n247. 498\n248. 790\n249. 18\n250. 698\n\n\n",
            "text/latex": "\\begin{enumerate*}\n\\item 399\n\\item 975\n\\item 913\n\\item 844\n\\item 234\n\\item 511\n\\item 488\n\\item 613\n\\item 204\n\\item 267\n\\item 874\n\\item 171\n\\item 674\n\\item 416\n\\item 443\n\\item 541\n\\item 663\n\\item 198\n\\item 344\n\\item 810\n\\item 159\n\\item 730\n\\item 346\n\\item 240\n\\item 478\n\\item 673\n\\item 926\n\\item 533\n\\item 249\n\\item 414\n\\item 780\n\\item 648\n\\item 142\n\\item 293\n\\item 597\n\\item 478\n\\item 654\n\\item 841\n\\item 491\n\\item 501\n\\item 593\n\\item 154\n\\item 974\n\\item 437\n\\item 438\n\\item 76\n\\item 175\n\\item 660\n\\item 312\n\\item 586\n\\item 842\n\\item 93\n\\item 678\n\\item 576\n\\item 989\n\\item 258\n\\item 848\n\\item 984\n\\item 953\n\\item 336\n\\item 14\n\\item 721\n\\item 549\n\\item 779\n\\item 738\n\\item 660\n\\item 411\n\\item 383\n\\item 614\n\\item 449\n\\item 428\n\\item 575\n\\item 500\n\\item 810\n\\item 947\n\\item 32\n\\item 69\n\\item 220\n\\item 188\n\\item 901\n\\item 284\n\\item 270\n\\item 795\n\\item 794\n\\item 429\n\\item 133\n\\item 236\n\\item 603\n\\item 738\n\\item 976\n\\item 652\n\\item 682\n\\item 23\n\\item 734\n\\item 749\n\\item 726\n\\item 727\n\\item 583\n\\item 3\n\\item 838\n\\item 586\n\\item 144\n\\item 747\n\\item 619\n\\item 771\n\\item 348\n\\item 262\n\\item 87\n\\item 598\n\\item 317\n\\item 463\n\\item 368\n\\item 742\n\\item 592\n\\item 512\n\\item 805\n\\item 901\n\\item 249\n\\item 136\n\\item 597\n\\item 559\n\\item 111\n\\item 107\n\\item 54\n\\item 283\n\\item 658\n\\item 889\n\\item 200\n\\item 329\n\\item 455\n\\item 184\n\\item 808\n\\item 460\n\\item 485\n\\item 131\n\\item 245\n\\item 584\n\\item 401\n\\item 829\n\\item 924\n\\item 155\n\\item 544\n\\item 840\n\\item 514\n\\item 392\n\\item 281\n\\item 900\n\\item 659\n\\item 623\n\\item 737\n\\item 405\n\\item 880\n\\item 191\n\\item 243\n\\item 440\n\\item 509\n\\item 993\n\\item 950\n\\item 743\n\\item 736\n\\item 727\n\\item 349\n\\item 223\n\\item 7\n\\item 973\n\\item 661\n\\item 382\n\\item 378\n\\item 398\n\\item 912\n\\item 382\n\\item 416\n\\item 175\n\\item 44\n\\item 137\n\\item 63\n\\item 743\n\\item 928\n\\item 380\n\\item 69\n\\item 879\n\\item 970\n\\item 480\n\\item 684\n\\item 151\n\\item 607\n\\item 491\n\\item 237\n\\item 608\n\\item 401\n\\item 966\n\\item 360\n\\item 409\n\\item 129\n\\item 714\n\\item 813\n\\item 617\n\\item 576\n\\item 588\n\\item 330\n\\item 960\n\\item 915\n\\item 802\n\\item 369\n\\item 116\n\\item 216\n\\item 259\n\\item 632\n\\item 552\n\\item 119\n\\item 929\n\\item 35\n\\item 706\n\\item 139\n\\item 836\n\\item 136\n\\item 478\n\\item 765\n\\item 365\n\\item 317\n\\item 710\n\\item 112\n\\item 164\n\\item 747\n\\item 159\n\\item 494\n\\item 121\n\\item 986\n\\item 325\n\\item 306\n\\item 677\n\\item 670\n\\item 506\n\\item 252\n\\item 622\n\\item 894\n\\item 558\n\\item 549\n\\item 846\n\\item 392\n\\item 646\n\\item 980\n\\item 643\n\\item 12\n\\item 634\n\\item 660\n\\item 498\n\\item 790\n\\item 18\n\\item 698\n\\end{enumerate*}\n",
            "text/plain": [
              "  [1] 399 975 913 844 234 511 488 613 204 267 874 171 674 416 443 541 663 198\n",
              " [19] 344 810 159 730 346 240 478 673 926 533 249 414 780 648 142 293 597 478\n",
              " [37] 654 841 491 501 593 154 974 437 438  76 175 660 312 586 842  93 678 576\n",
              " [55] 989 258 848 984 953 336  14 721 549 779 738 660 411 383 614 449 428 575\n",
              " [73] 500 810 947  32  69 220 188 901 284 270 795 794 429 133 236 603 738 976\n",
              " [91] 652 682  23 734 749 726 727 583   3 838 586 144 747 619 771 348 262  87\n",
              "[109] 598 317 463 368 742 592 512 805 901 249 136 597 559 111 107  54 283 658\n",
              "[127] 889 200 329 455 184 808 460 485 131 245 584 401 829 924 155 544 840 514\n",
              "[145] 392 281 900 659 623 737 405 880 191 243 440 509 993 950 743 736 727 349\n",
              "[163] 223   7 973 661 382 378 398 912 382 416 175  44 137  63 743 928 380  69\n",
              "[181] 879 970 480 684 151 607 491 237 608 401 966 360 409 129 714 813 617 576\n",
              "[199] 588 330 960 915 802 369 116 216 259 632 552 119 929  35 706 139 836 136\n",
              "[217] 478 765 365 317 710 112 164 747 159 494 121 986 325 306 677 670 506 252\n",
              "[235] 622 894 558 549 846 392 646 980 643  12 634 660 498 790  18 698"
            ]
          },
          "metadata": {}
        },
        {
          "output_type": "stream",
          "name": "stdout",
          "text": [
            "[1] \"h)\"\n"
          ]
        },
        {
          "output_type": "display_data",
          "data": {
            "text/html": [
              "<style>\n",
              ".list-inline {list-style: none; margin:0; padding: 0}\n",
              ".list-inline>li {display: inline-block}\n",
              ".list-inline>li:not(:last-child)::after {content: \"\\00b7\"; padding: 0 .5ex}\n",
              "</style>\n",
              "<ol class=list-inline><li>133</li><li>624</li><li>148</li><li>864</li><li>111</li><li>731</li><li>328</li><li>231</li><li>673</li><li>391</li><li>920</li><li>593</li><li>841</li><li>412</li><li>548</li><li>2</li><li>330</li><li>917</li><li>907</li><li>243</li><li>262</li><li>258</li><li>465</li><li>307</li><li>869</li><li>600</li><li>259</li><li>754</li><li>460</li><li>225</li><li>849</li><li>534</li><li>763</li><li>612</li><li>990</li><li>802</li><li>835</li><li>420</li><li>446</li><li>28</li><li>851</li><li>623</li><li>219</li><li>856</li><li>674</li><li>770</li><li>206</li><li>148</li><li>548</li><li>867</li><li>835</li><li>622</li><li>502</li><li>698</li><li>341</li><li>263</li><li>55</li><li>956</li><li>58</li><li>467</li><li>577</li><li>802</li><li>304</li><li>24</li><li>974</li><li>825</li><li>546</li><li>172</li><li>776</li><li>782</li><li>529</li><li>954</li><li>950</li><li>410</li><li>65</li><li>911</li><li>540</li><li>78</li><li>366</li><li>852</li><li>493</li><li>810</li><li>505</li><li>168</li></ol>\n"
            ],
            "text/markdown": "1. 133\n2. 624\n3. 148\n4. 864\n5. 111\n6. 731\n7. 328\n8. 231\n9. 673\n10. 391\n11. 920\n12. 593\n13. 841\n14. 412\n15. 548\n16. 2\n17. 330\n18. 917\n19. 907\n20. 243\n21. 262\n22. 258\n23. 465\n24. 307\n25. 869\n26. 600\n27. 259\n28. 754\n29. 460\n30. 225\n31. 849\n32. 534\n33. 763\n34. 612\n35. 990\n36. 802\n37. 835\n38. 420\n39. 446\n40. 28\n41. 851\n42. 623\n43. 219\n44. 856\n45. 674\n46. 770\n47. 206\n48. 148\n49. 548\n50. 867\n51. 835\n52. 622\n53. 502\n54. 698\n55. 341\n56. 263\n57. 55\n58. 956\n59. 58\n60. 467\n61. 577\n62. 802\n63. 304\n64. 24\n65. 974\n66. 825\n67. 546\n68. 172\n69. 776\n70. 782\n71. 529\n72. 954\n73. 950\n74. 410\n75. 65\n76. 911\n77. 540\n78. 78\n79. 366\n80. 852\n81. 493\n82. 810\n83. 505\n84. 168\n\n\n",
            "text/latex": "\\begin{enumerate*}\n\\item 133\n\\item 624\n\\item 148\n\\item 864\n\\item 111\n\\item 731\n\\item 328\n\\item 231\n\\item 673\n\\item 391\n\\item 920\n\\item 593\n\\item 841\n\\item 412\n\\item 548\n\\item 2\n\\item 330\n\\item 917\n\\item 907\n\\item 243\n\\item 262\n\\item 258\n\\item 465\n\\item 307\n\\item 869\n\\item 600\n\\item 259\n\\item 754\n\\item 460\n\\item 225\n\\item 849\n\\item 534\n\\item 763\n\\item 612\n\\item 990\n\\item 802\n\\item 835\n\\item 420\n\\item 446\n\\item 28\n\\item 851\n\\item 623\n\\item 219\n\\item 856\n\\item 674\n\\item 770\n\\item 206\n\\item 148\n\\item 548\n\\item 867\n\\item 835\n\\item 622\n\\item 502\n\\item 698\n\\item 341\n\\item 263\n\\item 55\n\\item 956\n\\item 58\n\\item 467\n\\item 577\n\\item 802\n\\item 304\n\\item 24\n\\item 974\n\\item 825\n\\item 546\n\\item 172\n\\item 776\n\\item 782\n\\item 529\n\\item 954\n\\item 950\n\\item 410\n\\item 65\n\\item 911\n\\item 540\n\\item 78\n\\item 366\n\\item 852\n\\item 493\n\\item 810\n\\item 505\n\\item 168\n\\end{enumerate*}\n",
            "text/plain": [
              " [1] 133 624 148 864 111 731 328 231 673 391 920 593 841 412 548   2 330 917 907\n",
              "[20] 243 262 258 465 307 869 600 259 754 460 225 849 534 763 612 990 802 835 420\n",
              "[39] 446  28 851 623 219 856 674 770 206 148 548 867 835 622 502 698 341 263  55\n",
              "[58] 956  58 467 577 802 304  24 974 825 546 172 776 782 529 954 950 410  65 911\n",
              "[77] 540  78 366 852 493 810 505 168"
            ]
          },
          "metadata": {}
        },
        {
          "output_type": "stream",
          "name": "stdout",
          "text": [
            "[1] \"i)\"\n"
          ]
        },
        {
          "output_type": "display_data",
          "data": {
            "text/html": [
              "<style>\n",
              ".list-inline {list-style: none; margin:0; padding: 0}\n",
              ".list-inline>li {display: inline-block}\n",
              ".list-inline>li:not(:last-child)::after {content: \"\\00b7\"; padding: 0 .5ex}\n",
              "</style>\n",
              "<ol class=list-inline><li>993</li><li>989</li><li>986</li><li>984</li><li>980</li><li>976</li><li>975</li><li>974</li><li>973</li><li>970</li></ol>\n"
            ],
            "text/markdown": "1. 993\n2. 989\n3. 986\n4. 984\n5. 980\n6. 976\n7. 975\n8. 974\n9. 973\n10. 970\n\n\n",
            "text/latex": "\\begin{enumerate*}\n\\item 993\n\\item 989\n\\item 986\n\\item 984\n\\item 980\n\\item 976\n\\item 975\n\\item 974\n\\item 973\n\\item 970\n\\end{enumerate*}\n",
            "text/plain": [
              " [1] 993 989 986 984 980 976 975 974 973 970"
            ]
          },
          "metadata": {}
        },
        {
          "output_type": "stream",
          "name": "stdout",
          "text": [
            "[1] \"j)\"\n"
          ]
        },
        {
          "output_type": "display_data",
          "data": {
            "text/html": [
              "<style>\n",
              ".list-inline {list-style: none; margin:0; padding: 0}\n",
              ".list-inline>li {display: inline-block}\n",
              ".list-inline>li:not(:last-child)::after {content: \"\\00b7\"; padding: 0 .5ex}\n",
              "</style>\n",
              "<ol class=list-inline><li>841</li><li>953</li><li>512</li><li>509</li><li>249</li><li>378</li><li>974</li><li>488</li><li>874</li><li>112</li><li>159</li><li>237</li><li>414</li><li>259</li><li>737</li><li>69</li><li>660</li><li>813</li><li>734</li><li>449</li><li>950</li><li>411</li><li>175</li><li>478</li><li>661</li><li>780</li><li>721</li><li>771</li><li>144</li><li>583</li><li>622</li><li>236</li><li>913</li><li>392</li><li>894</li><li>348</li><li>929</li><li>838</li><li>912</li><li>317</li><li>191</li><li>443</li><li>924</li><li>648</li><li>14</li><li>399</li><li>365</li><li>139</li><li>726</li><li>619</li><li>576</li><li>506</li><li>429</li><li>790</li><li>325</li><li>603</li><li>293</li><li>428</li><li>416</li><li>652</li><li>970</li><li>154</li><li>810</li><li>346</li><li>742</li><li>559</li><li>659</li><li>915</li><li>738</li><li>349</li><li>198</li><li>747</li><li>284</li><li>794</li><li>281</li><li>54</li><li>947</li><li>18</li><li>727</li><li>151</li><li>670</li><li>613</li><li>597</li><li>743</li><li>514</li><li>779</li><li>976</li><li>575</li><li>136</li><li>889</li><li>245</li><li>848</li><li>842</li><li>491</li><li>643</li><li>533</li><li>880</li><li>137</li><li>306</li><li>498</li><li>658</li><li>698</li><li>552</li><li>344</li><li>544</li><li>463</li><li>805</li><li>252</li><li>184</li><li>511</li><li>223</li><li>900</li><li>380</li><li>494</li><li>440</li><li>204</li><li>549</li><li>336</li><li>673</li><li>901</li><li>23</li><li>76</li><li>382</li><li>879</li><li>401</li><li>608</li><li>398</li><li>107</li><li>678</li><li>592</li><li>32</li><li>437</li><li>802</li><li>262</li><li>155</li><li>460</li><li>368</li><li>164</li><li>405</li><li>480</li><li>119</li><li>986</li><li>7</li><li>243</li><li>607</li><li>663</li><li>455</li><li>584</li><li>736</li><li>44</li><li>706</li><li>966</li><li>3</li><li>131</li><li>928</li><li>220</li><li>258</li><li>267</li><li>795</li><li>87</li><li>980</li><li>129</li><li>171</li><li>93</li><li>111</li><li>617</li><li>840</li><li>989</li><li>12</li><li>588</li><li>975</li><li>973</li><li>133</li><li>710</li><li>501</li><li>844</li><li>383</li><li>960</li><li>634</li><li>654</li><li>984</li><li>116</li><li>614</li><li>993</li><li>829</li><li>586</li><li>200</li><li>730</li><li>360</li><li>558</li><li>714</li><li>836</li><li>216</li><li>485</li><li>35</li><li>240</li><li>646</li><li>593</li><li>846</li><li>270</li><li>500</li><li>598</li><li>438</li><li>63</li><li>541</li><li>677</li><li>926</li><li>684</li><li>632</li><li>749</li><li>234</li><li>121</li><li>188</li><li>765</li><li>682</li><li>329</li><li>142</li><li>674</li><li>330</li><li>623</li><li>369</li><li>808</li><li>409</li><li>283</li><li>312</li></ol>\n"
            ],
            "text/markdown": "1. 841\n2. 953\n3. 512\n4. 509\n5. 249\n6. 378\n7. 974\n8. 488\n9. 874\n10. 112\n11. 159\n12. 237\n13. 414\n14. 259\n15. 737\n16. 69\n17. 660\n18. 813\n19. 734\n20. 449\n21. 950\n22. 411\n23. 175\n24. 478\n25. 661\n26. 780\n27. 721\n28. 771\n29. 144\n30. 583\n31. 622\n32. 236\n33. 913\n34. 392\n35. 894\n36. 348\n37. 929\n38. 838\n39. 912\n40. 317\n41. 191\n42. 443\n43. 924\n44. 648\n45. 14\n46. 399\n47. 365\n48. 139\n49. 726\n50. 619\n51. 576\n52. 506\n53. 429\n54. 790\n55. 325\n56. 603\n57. 293\n58. 428\n59. 416\n60. 652\n61. 970\n62. 154\n63. 810\n64. 346\n65. 742\n66. 559\n67. 659\n68. 915\n69. 738\n70. 349\n71. 198\n72. 747\n73. 284\n74. 794\n75. 281\n76. 54\n77. 947\n78. 18\n79. 727\n80. 151\n81. 670\n82. 613\n83. 597\n84. 743\n85. 514\n86. 779\n87. 976\n88. 575\n89. 136\n90. 889\n91. 245\n92. 848\n93. 842\n94. 491\n95. 643\n96. 533\n97. 880\n98. 137\n99. 306\n100. 498\n101. 658\n102. 698\n103. 552\n104. 344\n105. 544\n106. 463\n107. 805\n108. 252\n109. 184\n110. 511\n111. 223\n112. 900\n113. 380\n114. 494\n115. 440\n116. 204\n117. 549\n118. 336\n119. 673\n120. 901\n121. 23\n122. 76\n123. 382\n124. 879\n125. 401\n126. 608\n127. 398\n128. 107\n129. 678\n130. 592\n131. 32\n132. 437\n133. 802\n134. 262\n135. 155\n136. 460\n137. 368\n138. 164\n139. 405\n140. 480\n141. 119\n142. 986\n143. 7\n144. 243\n145. 607\n146. 663\n147. 455\n148. 584\n149. 736\n150. 44\n151. 706\n152. 966\n153. 3\n154. 131\n155. 928\n156. 220\n157. 258\n158. 267\n159. 795\n160. 87\n161. 980\n162. 129\n163. 171\n164. 93\n165. 111\n166. 617\n167. 840\n168. 989\n169. 12\n170. 588\n171. 975\n172. 973\n173. 133\n174. 710\n175. 501\n176. 844\n177. 383\n178. 960\n179. 634\n180. 654\n181. 984\n182. 116\n183. 614\n184. 993\n185. 829\n186. 586\n187. 200\n188. 730\n189. 360\n190. 558\n191. 714\n192. 836\n193. 216\n194. 485\n195. 35\n196. 240\n197. 646\n198. 593\n199. 846\n200. 270\n201. 500\n202. 598\n203. 438\n204. 63\n205. 541\n206. 677\n207. 926\n208. 684\n209. 632\n210. 749\n211. 234\n212. 121\n213. 188\n214. 765\n215. 682\n216. 329\n217. 142\n218. 674\n219. 330\n220. 623\n221. 369\n222. 808\n223. 409\n224. 283\n225. 312\n\n\n",
            "text/latex": "\\begin{enumerate*}\n\\item 841\n\\item 953\n\\item 512\n\\item 509\n\\item 249\n\\item 378\n\\item 974\n\\item 488\n\\item 874\n\\item 112\n\\item 159\n\\item 237\n\\item 414\n\\item 259\n\\item 737\n\\item 69\n\\item 660\n\\item 813\n\\item 734\n\\item 449\n\\item 950\n\\item 411\n\\item 175\n\\item 478\n\\item 661\n\\item 780\n\\item 721\n\\item 771\n\\item 144\n\\item 583\n\\item 622\n\\item 236\n\\item 913\n\\item 392\n\\item 894\n\\item 348\n\\item 929\n\\item 838\n\\item 912\n\\item 317\n\\item 191\n\\item 443\n\\item 924\n\\item 648\n\\item 14\n\\item 399\n\\item 365\n\\item 139\n\\item 726\n\\item 619\n\\item 576\n\\item 506\n\\item 429\n\\item 790\n\\item 325\n\\item 603\n\\item 293\n\\item 428\n\\item 416\n\\item 652\n\\item 970\n\\item 154\n\\item 810\n\\item 346\n\\item 742\n\\item 559\n\\item 659\n\\item 915\n\\item 738\n\\item 349\n\\item 198\n\\item 747\n\\item 284\n\\item 794\n\\item 281\n\\item 54\n\\item 947\n\\item 18\n\\item 727\n\\item 151\n\\item 670\n\\item 613\n\\item 597\n\\item 743\n\\item 514\n\\item 779\n\\item 976\n\\item 575\n\\item 136\n\\item 889\n\\item 245\n\\item 848\n\\item 842\n\\item 491\n\\item 643\n\\item 533\n\\item 880\n\\item 137\n\\item 306\n\\item 498\n\\item 658\n\\item 698\n\\item 552\n\\item 344\n\\item 544\n\\item 463\n\\item 805\n\\item 252\n\\item 184\n\\item 511\n\\item 223\n\\item 900\n\\item 380\n\\item 494\n\\item 440\n\\item 204\n\\item 549\n\\item 336\n\\item 673\n\\item 901\n\\item 23\n\\item 76\n\\item 382\n\\item 879\n\\item 401\n\\item 608\n\\item 398\n\\item 107\n\\item 678\n\\item 592\n\\item 32\n\\item 437\n\\item 802\n\\item 262\n\\item 155\n\\item 460\n\\item 368\n\\item 164\n\\item 405\n\\item 480\n\\item 119\n\\item 986\n\\item 7\n\\item 243\n\\item 607\n\\item 663\n\\item 455\n\\item 584\n\\item 736\n\\item 44\n\\item 706\n\\item 966\n\\item 3\n\\item 131\n\\item 928\n\\item 220\n\\item 258\n\\item 267\n\\item 795\n\\item 87\n\\item 980\n\\item 129\n\\item 171\n\\item 93\n\\item 111\n\\item 617\n\\item 840\n\\item 989\n\\item 12\n\\item 588\n\\item 975\n\\item 973\n\\item 133\n\\item 710\n\\item 501\n\\item 844\n\\item 383\n\\item 960\n\\item 634\n\\item 654\n\\item 984\n\\item 116\n\\item 614\n\\item 993\n\\item 829\n\\item 586\n\\item 200\n\\item 730\n\\item 360\n\\item 558\n\\item 714\n\\item 836\n\\item 216\n\\item 485\n\\item 35\n\\item 240\n\\item 646\n\\item 593\n\\item 846\n\\item 270\n\\item 500\n\\item 598\n\\item 438\n\\item 63\n\\item 541\n\\item 677\n\\item 926\n\\item 684\n\\item 632\n\\item 749\n\\item 234\n\\item 121\n\\item 188\n\\item 765\n\\item 682\n\\item 329\n\\item 142\n\\item 674\n\\item 330\n\\item 623\n\\item 369\n\\item 808\n\\item 409\n\\item 283\n\\item 312\n\\end{enumerate*}\n",
            "text/plain": [
              "  [1] 841 953 512 509 249 378 974 488 874 112 159 237 414 259 737  69 660 813\n",
              " [19] 734 449 950 411 175 478 661 780 721 771 144 583 622 236 913 392 894 348\n",
              " [37] 929 838 912 317 191 443 924 648  14 399 365 139 726 619 576 506 429 790\n",
              " [55] 325 603 293 428 416 652 970 154 810 346 742 559 659 915 738 349 198 747\n",
              " [73] 284 794 281  54 947  18 727 151 670 613 597 743 514 779 976 575 136 889\n",
              " [91] 245 848 842 491 643 533 880 137 306 498 658 698 552 344 544 463 805 252\n",
              "[109] 184 511 223 900 380 494 440 204 549 336 673 901  23  76 382 879 401 608\n",
              "[127] 398 107 678 592  32 437 802 262 155 460 368 164 405 480 119 986   7 243\n",
              "[145] 607 663 455 584 736  44 706 966   3 131 928 220 258 267 795  87 980 129\n",
              "[163] 171  93 111 617 840 989  12 588 975 973 133 710 501 844 383 960 634 654\n",
              "[181] 984 116 614 993 829 586 200 730 360 558 714 836 216 485  35 240 646 593\n",
              "[199] 846 270 500 598 438  63 541 677 926 684 632 749 234 121 188 765 682 329\n",
              "[217] 142 674 330 623 369 808 409 283 312"
            ]
          },
          "metadata": {}
        }
      ]
    },
    {
      "cell_type": "markdown",
      "source": [
        "\n",
        "\n",
        "---\n",
        "\n"
      ],
      "metadata": {
        "id": "q4MgPOuHHJRm"
      }
    },
    {
      "cell_type": "markdown",
      "source": [
        "**Задание 8.** Вычислите:\n",
        "$1+\\frac{2}{3}+(\\frac{2}{3}\\frac{4}{5})+(\\frac{2}{3}\\frac{4}{5}\\frac{6}{7})+ ... + (\\frac{2}{3}\\frac{4}{5}\\frac{6}{7}...\\frac{38}{39})$.\n"
      ],
      "metadata": {
        "id": "B0FTll5pHLwi"
      }
    },
    {
      "cell_type": "code",
      "source": [
        "sum(c(1, cumprod(seq(2, 38, by = 2) / seq(3, 39, by = 2)))) # Используем функцию cumprod для вычисления суммы произведений дробей"
      ],
      "metadata": {
        "id": "JQeETuEkLG99",
        "colab": {
          "base_uri": "https://localhost:8080/",
          "height": 34
        },
        "outputId": "4dfeaeab-4b69-4c22-a732-61626e517365"
      },
      "execution_count": null,
      "outputs": [
        {
          "output_type": "display_data",
          "data": {
            "text/html": [
              "6.97634613789762"
            ],
            "text/markdown": "6.97634613789762",
            "text/latex": "6.97634613789762",
            "text/plain": [
              "[1] 6.976346"
            ]
          },
          "metadata": {}
        }
      ]
    }
  ]
}