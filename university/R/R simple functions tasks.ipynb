{
  "nbformat": 4,
  "nbformat_minor": 0,
  "metadata": {
    "colab": {
      "provenance": []
    },
    "kernelspec": {
      "name": "ir",
      "display_name": "R"
    },
    "language_info": {
      "name": "R"
    }
  },
  "cells": [
    {
      "cell_type": "markdown",
      "source": [
        "## Лабораторная работа 5. Простые функции в R. Шуплецов А. НКАбд-03-22\n"
      ],
      "metadata": {
        "id": "iwBVCAWSxppD"
      }
    },
    {
      "cell_type": "markdown",
      "source": [
        "**Задание 1.**\n",
        "\n",
        "Напишите функции `Fun1a` и `Fun1b` такие, что для вектора `xVec` вида $(x_1, x_2,...,x_n)$   функция Fun1a возвращает вектор $(x_1, x_2^2, x_3^3,...,x_n^n)$, а функция `Fun1b` возвращает вектор $(x_1, \\frac{x_2^2}{2},...,\\frac{x_n^n}{n})$."
      ],
      "metadata": {
        "id": "seoYWWcB46ss"
      }
    },
    {
      "cell_type": "code",
      "source": [
        "#Fun1a\n",
        "Fun1a <- function(xVec) {\n",
        "  return(xVec^(1:length(xVec)))\n",
        "}\n",
        "Fun1a(1:3)"
      ],
      "metadata": {
        "id": "_kI0H-JbNq8w",
        "colab": {
          "base_uri": "https://localhost:8080/",
          "height": 34
        },
        "outputId": "1c8cdda2-59a4-454a-c6b5-0a7ae3cc217b"
      },
      "execution_count": null,
      "outputs": [
        {
          "output_type": "display_data",
          "data": {
            "text/html": [
              "<style>\n",
              ".list-inline {list-style: none; margin:0; padding: 0}\n",
              ".list-inline>li {display: inline-block}\n",
              ".list-inline>li:not(:last-child)::after {content: \"\\00b7\"; padding: 0 .5ex}\n",
              "</style>\n",
              "<ol class=list-inline><li>1</li><li>4</li><li>27</li></ol>\n"
            ],
            "text/markdown": "1. 1\n2. 4\n3. 27\n\n\n",
            "text/latex": "\\begin{enumerate*}\n\\item 1\n\\item 4\n\\item 27\n\\end{enumerate*}\n",
            "text/plain": [
              "[1]  1  4 27"
            ]
          },
          "metadata": {}
        }
      ]
    },
    {
      "cell_type": "code",
      "execution_count": null,
      "metadata": {
        "id": "9bpVB3Q1xjIL",
        "colab": {
          "base_uri": "https://localhost:8080/",
          "height": 34
        },
        "outputId": "d06966f4-a1fd-474e-8403-0404c7d7c100"
      },
      "outputs": [
        {
          "output_type": "display_data",
          "data": {
            "text/html": [
              "<style>\n",
              ".list-inline {list-style: none; margin:0; padding: 0}\n",
              ".list-inline>li {display: inline-block}\n",
              ".list-inline>li:not(:last-child)::after {content: \"\\00b7\"; padding: 0 .5ex}\n",
              "</style>\n",
              "<ol class=list-inline><li>1</li><li>2</li><li>9</li></ol>\n"
            ],
            "text/markdown": "1. 1\n2. 2\n3. 9\n\n\n",
            "text/latex": "\\begin{enumerate*}\n\\item 1\n\\item 2\n\\item 9\n\\end{enumerate*}\n",
            "text/plain": [
              "[1] 1 2 9"
            ]
          },
          "metadata": {}
        }
      ],
      "source": [
        "#Fun1b\n",
        "Fun1b <- function(xVec) {\n",
        "  result <- (xVec^((seq_along(xVec))))/seq_along(xVec)\n",
        "  return(result)\n",
        "}\n",
        "Fun1b(1:3)"
      ]
    },
    {
      "cell_type": "markdown",
      "source": [
        "\n",
        "\n",
        "---\n",
        "\n"
      ],
      "metadata": {
        "id": "GF3yLr_xQvFt"
      }
    },
    {
      "cell_type": "markdown",
      "source": [
        "**Задание 2.**\n",
        "\n",
        "Напишите функцию `Fun2` двух аргументов `x` и `n`, где `n` - строго положительное целое число. Эта функция должна возвращать значение: $1+\\frac{x}{1}+\\frac{x^2}{2}+\\frac{x^3}{3}+...+\\frac{x^n}{n}$.\n"
      ],
      "metadata": {
        "id": "pcgP3Oa1WnFT"
      }
    },
    {
      "cell_type": "code",
      "source": [
        "#Fun2\n",
        "Fun2 <- function(x, n) {\n",
        "  seq <- 1:n\n",
        "  sum(x^seq/seq)\n",
        "}\n",
        "Fun2(1:3, 3)"
      ],
      "metadata": {
        "id": "myVi8dLRcEyR",
        "colab": {
          "base_uri": "https://localhost:8080/",
          "height": 34
        },
        "outputId": "25063ce7-63cb-4ad4-9e1c-3db0e95ab56f"
      },
      "execution_count": null,
      "outputs": [
        {
          "output_type": "display_data",
          "data": {
            "text/html": [
              "12"
            ],
            "text/markdown": "12",
            "text/latex": "12",
            "text/plain": [
              "[1] 12"
            ]
          },
          "metadata": {}
        }
      ]
    },
    {
      "cell_type": "markdown",
      "source": [
        "**Задание 3.**"
      ],
      "metadata": {
        "id": "1Kqfb0zlcHIR"
      }
    },
    {
      "cell_type": "markdown",
      "source": [
        "Напишите функцию `Fun3(xVec)` такую, что для вектора `xVec` вида $(x_1, x_2,...,x_n)$ функция возвращает вектор скользящих средних: $\\frac{x_1+x_2+x_3}{3}, \\frac{x_2+x_3+x_4}{3},...,\\frac{x_{n-2}+x_{n-1}+x_n}{3}$."
      ],
      "metadata": {
        "id": "njEwqtM26gmx"
      }
    },
    {
      "cell_type": "code",
      "source": [
        "#Fun3\n",
        "Fun3 <- function(xVec) {\n",
        "  n <- length(xVec)\n",
        "  return(sapply(1:(n-2), function(i) mean(xVec[i:(i+2)])))\n",
        "}\n",
        "Fun3(1:10)"
      ],
      "metadata": {
        "id": "bcwtFIqm7eFJ",
        "colab": {
          "base_uri": "https://localhost:8080/",
          "height": 34
        },
        "outputId": "5060e4b1-0e1b-4a42-e7cc-6ace5b4a140e"
      },
      "execution_count": null,
      "outputs": [
        {
          "output_type": "display_data",
          "data": {
            "text/html": [
              "<style>\n",
              ".list-inline {list-style: none; margin:0; padding: 0}\n",
              ".list-inline>li {display: inline-block}\n",
              ".list-inline>li:not(:last-child)::after {content: \"\\00b7\"; padding: 0 .5ex}\n",
              "</style>\n",
              "<ol class=list-inline><li>2</li><li>3</li><li>4</li><li>5</li><li>6</li><li>7</li><li>8</li><li>9</li></ol>\n"
            ],
            "text/markdown": "1. 2\n2. 3\n3. 4\n4. 5\n5. 6\n6. 7\n7. 8\n8. 9\n\n\n",
            "text/latex": "\\begin{enumerate*}\n\\item 2\n\\item 3\n\\item 4\n\\item 5\n\\item 6\n\\item 7\n\\item 8\n\\item 9\n\\end{enumerate*}\n",
            "text/plain": [
              "[1] 2 3 4 5 6 7 8 9"
            ]
          },
          "metadata": {}
        }
      ]
    },
    {
      "cell_type": "markdown",
      "source": [
        "\n",
        "\n",
        "---\n",
        "\n"
      ],
      "metadata": {
        "id": "ZMCYa6_8s7w7"
      }
    },
    {
      "cell_type": "markdown",
      "source": [
        "**Задание 4.**\n",
        "\n",
        "Рассмотрим непрерывную функцию f(x) числового аргумента x:\n",
        "\n",
        "$$f(x)=\\begin{cases}x^2+2x+3,\\, если\\, x<0\\\\ x+3,\\, если\\, 0\\leq x<2\\\\ x^2+4x-7,\\, если\\, x\\geq 2\\end{cases}.$$\n",
        "\n",
        "Напишите функцию `Fun4` аргумента `xVec`, которая возвращает вектор значений функции f(x), вычисленных в точках `xVec`. Постройте график функции f(x) для $-3<x<3$.\n"
      ],
      "metadata": {
        "id": "5WiiHxUWs-Wz"
      }
    },
    {
      "cell_type": "code",
      "source": [
        "#Fun4\n",
        "Fun4 <- function(xVec){\n",
        "  result <- numeric(length(xVec))\n",
        "  for (i in 1:length(xVec)){\n",
        "    if (xVec[i] < 0){\n",
        "      result[i] <- xVec[i]^2 + 2*xVec[i] + 3\n",
        "    } else if (xVec[i] >= 0 & xVec[i] < 2){\n",
        "      result[i] <- xVec[i] + 3\n",
        "    } else {\n",
        "      result[i] <- xVec[i]^2 + 4*xVec[i] - 7\n",
        "    }\n",
        "  }\n",
        "  return(result)\n",
        "}\n",
        "\n",
        "x <- seq(-3, 3, 0.01)\n",
        "y <- Fun4(x)\n",
        "plot(x, y, type = \"l\", xlab = \"x\", ylab = \"f(x)\", main = \"График функции f(x)\")\n"
      ],
      "metadata": {
        "id": "keW8fN6fvw_W",
        "colab": {
          "base_uri": "https://localhost:8080/",
          "height": 437
        },
        "outputId": "c2c26f0f-27e3-4cdf-b51d-64a9443b446b"
      },
      "execution_count": null,
      "outputs": [
        {
          "output_type": "display_data",
          "data": {
            "text/plain": [
              "Plot with title “График функции f(x)”"
            ],
            "image/png": "[encoded data removed]"
          },
          "metadata": {
            "image/png": {
              "width": 420,
              "height": 420
            }
          }
        }
      ]
    },
    {
      "cell_type": "markdown",
      "source": [
        "___"
      ],
      "metadata": {
        "id": "s-Z6r8k79OhT"
      }
    },
    {
      "cell_type": "markdown",
      "source": [
        "**Задание 5.**\n",
        "\n",
        "Напишите функцию `Fun5`, аргументом которой является матрица. Функция должна возвращать матрицу, равную исходной, но каждый нечетный элемент которой удваивается.\n",
        "\n"
      ],
      "metadata": {
        "id": "3fpd4uWkfAUQ"
      }
    },
    {
      "cell_type": "code",
      "source": [
        "#Fun5\n",
        "Fun5 <- function(matr) {\n",
        "  matr[matr %% 2 != 0] <- matr[matr %% 2 != 0] * 2\n",
        "  return(matr)\n",
        "}\n",
        "Fun5(matrix(c(1:6), nrow = 3, byrow = T))"
      ],
      "metadata": {
        "id": "AoF_GLmUfAos",
        "colab": {
          "base_uri": "https://localhost:8080/",
          "height": 180
        },
        "outputId": "ebd8d14e-bc85-417e-a473-2cc2b8f417fd"
      },
      "execution_count": null,
      "outputs": [
        {
          "output_type": "display_data",
          "data": {
            "text/html": [
              "<table class=\"dataframe\">\n",
              "<caption>A matrix: 3 × 2 of type dbl</caption>\n",
              "<tbody>\n",
              "\t<tr><td> 2</td><td>2</td></tr>\n",
              "\t<tr><td> 6</td><td>4</td></tr>\n",
              "\t<tr><td>10</td><td>6</td></tr>\n",
              "</tbody>\n",
              "</table>\n"
            ],
            "text/markdown": "\nA matrix: 3 × 2 of type dbl\n\n|  2 | 2 |\n|  6 | 4 |\n| 10 | 6 |\n\n",
            "text/latex": "A matrix: 3 × 2 of type dbl\n\\begin{tabular}{ll}\n\t  2 & 2\\\\\n\t  6 & 4\\\\\n\t 10 & 6\\\\\n\\end{tabular}\n",
            "text/plain": [
              "     [,1] [,2]\n",
              "[1,]  2   2   \n",
              "[2,]  6   4   \n",
              "[3,] 10   6   "
            ]
          },
          "metadata": {}
        }
      ]
    },
    {
      "cell_type": "markdown",
      "source": [
        "___"
      ],
      "metadata": {
        "id": "2FIBiI3J9P4u"
      }
    },
    {
      "cell_type": "markdown",
      "source": [
        "**Задание 6.**\n",
        "\n",
        "Напишите функцию `Fun6` двух положительных целых аргументов `n` и `k`. Эта функция должна возвращать матрицу размерности $n\\times n$ вида:\n",
        "$$\n",
        "\\begin{bmatrix}\n",
        "k & 1 & 0 & 0 & ... & 0 & 0\\\\\n",
        "1 & k & 1 & 0 & ... & 0 & 0\\\\\n",
        "0 & 1 & k & 1 & ... & 0 & 0\\\\\n",
        "0 & 0 & 1 & k & ... & 0 & 0\\\\\n",
        "... & ... & ... & ... & ... & ... & ...\\\\\n",
        "0 & 0 & 0 & 0 & ... & k & 1\\\\\n",
        "0 & 0 & 0 & 0 & ... & 1 & k\n",
        "\\end{bmatrix}.\n",
        "$$\n"
      ],
      "metadata": {
        "id": "6vnIcRAmfc2I"
      }
    },
    {
      "cell_type": "code",
      "source": [
        "#Fun6\n",
        "Fun6 <- function(n,k){\n",
        "mat <- matrix(0, n, n)\n",
        "  for (i in 1:n) {\n",
        "    for (j in 1:n) {\n",
        "      if (i == j) {\n",
        "      mat[i, j] <- k\n",
        "    } else if (abs(i - j) == 1) {\n",
        "      mat[i, j] <- 1\n",
        "    }\n",
        "  }\n",
        "}\n",
        "return(mat)\n",
        "}\n",
        "Fun6(5, 3)"
      ],
      "metadata": {
        "id": "-esuOHsZffNd",
        "colab": {
          "base_uri": "https://localhost:8080/",
          "height": 208
        },
        "outputId": "4313933c-988a-4f89-9fc9-a90acb70dc73"
      },
      "execution_count": null,
      "outputs": [
        {
          "output_type": "display_data",
          "data": {
            "text/html": [
              "<table class=\"dataframe\">\n",
              "<caption>A matrix: 5 × 5 of type dbl</caption>\n",
              "<tbody>\n",
              "\t<tr><td>3</td><td>1</td><td>0</td><td>0</td><td>0</td></tr>\n",
              "\t<tr><td>1</td><td>3</td><td>1</td><td>0</td><td>0</td></tr>\n",
              "\t<tr><td>0</td><td>1</td><td>3</td><td>1</td><td>0</td></tr>\n",
              "\t<tr><td>0</td><td>0</td><td>1</td><td>3</td><td>1</td></tr>\n",
              "\t<tr><td>0</td><td>0</td><td>0</td><td>1</td><td>3</td></tr>\n",
              "</tbody>\n",
              "</table>\n"
            ],
            "text/markdown": "\nA matrix: 5 × 5 of type dbl\n\n| 3 | 1 | 0 | 0 | 0 |\n| 1 | 3 | 1 | 0 | 0 |\n| 0 | 1 | 3 | 1 | 0 |\n| 0 | 0 | 1 | 3 | 1 |\n| 0 | 0 | 0 | 1 | 3 |\n\n",
            "text/latex": "A matrix: 5 × 5 of type dbl\n\\begin{tabular}{lllll}\n\t 3 & 1 & 0 & 0 & 0\\\\\n\t 1 & 3 & 1 & 0 & 0\\\\\n\t 0 & 1 & 3 & 1 & 0\\\\\n\t 0 & 0 & 1 & 3 & 1\\\\\n\t 0 & 0 & 0 & 1 & 3\\\\\n\\end{tabular}\n",
            "text/plain": [
              "     [,1] [,2] [,3] [,4] [,5]\n",
              "[1,] 3    1    0    0    0   \n",
              "[2,] 1    3    1    0    0   \n",
              "[3,] 0    1    3    1    0   \n",
              "[4,] 0    0    1    3    1   \n",
              "[5,] 0    0    0    1    3   "
            ]
          },
          "metadata": {}
        }
      ]
    },
    {
      "cell_type": "markdown",
      "source": [
        "___"
      ],
      "metadata": {
        "id": "njkTbf899RKL"
      }
    },
    {
      "cell_type": "markdown",
      "source": [
        "**Задание 7.**\n",
        "Пусть угол $\\alpha$ задается как положительное действительное число (в градусах). Напишите функцию `Fun7(alfa)`, которая для заданного угла $\\alpha$  определяет, к какому квадранту он принадлежит. То есть: если $0\\leq\\alpha< 90$, то это первый квадрант, если $90\\leq\\alpha< 180$ - второй квадрант, если $180\\leq\\alpha< 270$ - третий квадрант, если $270\\leq\\alpha< 360$ - четвертый квадрант, и т.д."
      ],
      "metadata": {
        "id": "SBGokz8q9TmD"
      }
    },
    {
      "cell_type": "code",
      "source": [
        "#Fun7\n",
        "Fun7 <- function(alfa) {\n",
        "    res <- 4\n",
        "    alfa <- (alfa %% 360)\n",
        "    if (alfa < 90)\n",
        "        res <- 1\n",
        "    else if (alfa < 180)\n",
        "        res <- 2\n",
        "    else if (alfa < 270)\n",
        "        res <- 3\n",
        "    return (res)\n",
        "}\n",
        "Fun7(250)"
      ],
      "metadata": {
        "id": "f7eWHmm-KodU",
        "colab": {
          "base_uri": "https://localhost:8080/",
          "height": 34
        },
        "outputId": "bf6e2a88-2d54-4b9b-8550-d70b5283d354"
      },
      "execution_count": null,
      "outputs": [
        {
          "output_type": "display_data",
          "data": {
            "text/html": [
              "3"
            ],
            "text/markdown": "3",
            "text/latex": "3",
            "text/plain": [
              "[1] 3"
            ]
          },
          "metadata": {}
        }
      ]
    },
    {
      "cell_type": "markdown",
      "source": [
        "___"
      ],
      "metadata": {
        "id": "U0wgR95LKpSU"
      }
    },
    {
      "cell_type": "markdown",
      "source": [
        "**Задание 8.**\n",
        "(a) Пусть $x_0=1$, $x_1=2$ и $x_j = x_{j-1}+\\frac{2}{x_{j-1}}$ для $j=1,2,...$. Напишите функцию `Loop` одного аргумента `n`, которая возвращает первые $n-1$ значений последовательности $\\{x_j\\}_{j\\geq 0}$, т.е. значения $x_0,x_1,x_2,...,x_{n-2}$.  \n",
        "(b) Напишите функцию `Loop2`, аргументом которой является вектор `yVec`, возвращающую значение $\\sum\\limits_{j=1}^n e^j$, где $n$ - длина вектора `yVec`.\n"
      ],
      "metadata": {
        "id": "CZwVq679K6Xo"
      }
    },
    {
      "cell_type": "code",
      "source": [
        "#Loop\n",
        "Loop <- function(n){\n",
        "  x <- numeric(n-1)\n",
        "  x[1] <- 1\n",
        "  x[2] <- 2\n",
        "  for (j in 3:n) {\n",
        "    x[j] <- x[j-1] + 2 / x[j-1]\n",
        "  }\n",
        "  return(x)\n",
        "}\n",
        "Loop(7)"
      ],
      "metadata": {
        "id": "EfMbJFNdM8UF",
        "colab": {
          "base_uri": "https://localhost:8080/",
          "height": 34
        },
        "outputId": "f677b1de-bdf5-458d-b484-f8e402677c68"
      },
      "execution_count": null,
      "outputs": [
        {
          "output_type": "display_data",
          "data": {
            "text/html": [
              "<style>\n",
              ".list-inline {list-style: none; margin:0; padding: 0}\n",
              ".list-inline>li {display: inline-block}\n",
              ".list-inline>li:not(:last-child)::after {content: \"\\00b7\"; padding: 0 .5ex}\n",
              "</style>\n",
              "<ol class=list-inline><li>1</li><li>2</li><li>3</li><li>3.66666666666667</li><li>4.21212121212121</li><li>4.6869413560061</li><li>5.1136588777513</li></ol>\n"
            ],
            "text/markdown": "1. 1\n2. 2\n3. 3\n4. 3.66666666666667\n5. 4.21212121212121\n6. 4.6869413560061\n7. 5.1136588777513\n\n\n",
            "text/latex": "\\begin{enumerate*}\n\\item 1\n\\item 2\n\\item 3\n\\item 3.66666666666667\n\\item 4.21212121212121\n\\item 4.6869413560061\n\\item 5.1136588777513\n\\end{enumerate*}\n",
            "text/plain": [
              "[1] 1.000000 2.000000 3.000000 3.666667 4.212121 4.686941 5.113659"
            ]
          },
          "metadata": {}
        }
      ]
    },
    {
      "cell_type": "code",
      "source": [
        "#Loop2\n",
        "Loop2 <- function(yVec) {\n",
        "  n <- length(yVec)\n",
        "  sum <- 0\n",
        "  for (j in 1:n) {\n",
        "    sum <- sum + exp(j)\n",
        "  }\n",
        "  return(sum)\n",
        "}\n",
        "Loop2(1:5)"
      ],
      "metadata": {
        "id": "dFwE6iHhN7t5",
        "colab": {
          "base_uri": "https://localhost:8080/",
          "height": 34
        },
        "outputId": "9b03c8ad-c071-4856-b1e8-ab6977c6bb6f"
      },
      "execution_count": null,
      "outputs": [
        {
          "output_type": "display_data",
          "data": {
            "text/html": [
              "233.204183986298"
            ],
            "text/markdown": "233.204183986298",
            "text/latex": "233.204183986298",
            "text/plain": [
              "[1] 233.2042"
            ]
          },
          "metadata": {}
        }
      ]
    }
  ]
}