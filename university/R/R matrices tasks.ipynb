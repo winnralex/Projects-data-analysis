{
  "nbformat": 4,
  "nbformat_minor": 0,
  "metadata": {
    "colab": {
      "provenance": []
    },
    "kernelspec": {
      "name": "ir",
      "display_name": "R"
    },
    "language_info": {
      "name": "R"
    }
  },
  "cells": [
    {
      "cell_type": "markdown",
      "source": [
        "## Лабораторная работа 2. Матрицы.\n"
      ],
      "metadata": {
        "id": "iwBVCAWSxppD"
      }
    },
    {
      "cell_type": "markdown",
      "source": [
        "**Задание 1.**\n",
        "\n",
        "Задайте матрицу\n",
        "$$\n",
        "A = \\begin{bmatrix}\n",
        "1 & 1 & 3\\\\\n",
        "5 & 2 & 6\\\\\n",
        "-2& -1& -3\n",
        "\\end{bmatrix}.\n",
        "$$\n",
        "\n",
        "(a) Найдите $A^3$.\n",
        "\n",
        "(b) Замените третий столбец матрицы $A$ на сумму второго и третьего столбцов."
      ],
      "metadata": {
        "id": "seoYWWcB46ss"
      }
    },
    {
      "cell_type": "code",
      "execution_count": null,
      "metadata": {
        "id": "9bpVB3Q1xjIL",
        "colab": {
          "base_uri": "https://localhost:8080/",
          "height": 455
        },
        "outputId": "0a36413e-8f83-4d91-ae2b-d784418fa5a0"
      },
      "outputs": [
        {
          "output_type": "display_data",
          "data": {
            "text/html": [
              "<table class=\"dataframe\">\n",
              "<caption>A matrix: 3 × 3 of type dbl</caption>\n",
              "<tbody>\n",
              "\t<tr><td> 1</td><td> 1</td><td> 3</td></tr>\n",
              "\t<tr><td> 5</td><td> 2</td><td> 6</td></tr>\n",
              "\t<tr><td>-2</td><td>-1</td><td>-3</td></tr>\n",
              "</tbody>\n",
              "</table>\n"
            ],
            "text/markdown": "\nA matrix: 3 × 3 of type dbl\n\n|  1 |  1 |  3 |\n|  5 |  2 |  6 |\n| -2 | -1 | -3 |\n\n",
            "text/latex": "A matrix: 3 × 3 of type dbl\n\\begin{tabular}{lll}\n\t  1 &  1 &  3\\\\\n\t  5 &  2 &  6\\\\\n\t -2 & -1 & -3\\\\\n\\end{tabular}\n",
            "text/plain": [
              "     [,1] [,2] [,3]\n",
              "[1,]  1    1    3  \n",
              "[2,]  5    2    6  \n",
              "[3,] -2   -1   -3  "
            ]
          },
          "metadata": {}
        },
        {
          "output_type": "stream",
          "name": "stdout",
          "text": [
            "[1] \"a)\"\n"
          ]
        },
        {
          "output_type": "display_data",
          "data": {
            "text/html": [
              "<table class=\"dataframe\">\n",
              "<caption>A matrix: 3 × 3 of type dbl</caption>\n",
              "<tbody>\n",
              "\t<tr><td>0</td><td>0</td><td>0</td></tr>\n",
              "\t<tr><td>0</td><td>0</td><td>0</td></tr>\n",
              "\t<tr><td>0</td><td>0</td><td>0</td></tr>\n",
              "</tbody>\n",
              "</table>\n"
            ],
            "text/markdown": "\nA matrix: 3 × 3 of type dbl\n\n| 0 | 0 | 0 |\n| 0 | 0 | 0 |\n| 0 | 0 | 0 |\n\n",
            "text/latex": "A matrix: 3 × 3 of type dbl\n\\begin{tabular}{lll}\n\t 0 & 0 & 0\\\\\n\t 0 & 0 & 0\\\\\n\t 0 & 0 & 0\\\\\n\\end{tabular}\n",
            "text/plain": [
              "     [,1] [,2] [,3]\n",
              "[1,] 0    0    0   \n",
              "[2,] 0    0    0   \n",
              "[3,] 0    0    0   "
            ]
          },
          "metadata": {}
        },
        {
          "output_type": "stream",
          "name": "stdout",
          "text": [
            "[1] \"b)\"\n"
          ]
        },
        {
          "output_type": "display_data",
          "data": {
            "text/html": [
              "<table class=\"dataframe\">\n",
              "<caption>A matrix: 3 × 3 of type dbl</caption>\n",
              "<tbody>\n",
              "\t<tr><td> 1</td><td> 1</td><td> 4</td></tr>\n",
              "\t<tr><td> 5</td><td> 2</td><td> 8</td></tr>\n",
              "\t<tr><td>-2</td><td>-1</td><td>-4</td></tr>\n",
              "</tbody>\n",
              "</table>\n"
            ],
            "text/markdown": "\nA matrix: 3 × 3 of type dbl\n\n|  1 |  1 |  4 |\n|  5 |  2 |  8 |\n| -2 | -1 | -4 |\n\n",
            "text/latex": "A matrix: 3 × 3 of type dbl\n\\begin{tabular}{lll}\n\t  1 &  1 &  4\\\\\n\t  5 &  2 &  8\\\\\n\t -2 & -1 & -4\\\\\n\\end{tabular}\n",
            "text/plain": [
              "     [,1] [,2] [,3]\n",
              "[1,]  1    1    4  \n",
              "[2,]  5    2    8  \n",
              "[3,] -2   -1   -4  "
            ]
          },
          "metadata": {}
        }
      ],
      "source": [
        "A <- matrix(c(1, 1, 3, 5, 2, 6, -2, -1, -3), nrow = 3, byrow = T)\n",
        "A\n",
        "print(\"a)\")\n",
        "A %*% A %*% A\n",
        "print(\"b)\")\n",
        "A[, 3] <- A[, 2] + A[, 3]\n",
        "A"
      ]
    },
    {
      "cell_type": "markdown",
      "source": [
        "\n",
        "\n",
        "---\n",
        "\n"
      ],
      "metadata": {
        "id": "GF3yLr_xQvFt"
      }
    },
    {
      "cell_type": "markdown",
      "source": [
        "**Задание 2.**\n",
        "\n",
        "Создайте матрицу $B$ с 15 строками следующего вида:\n",
        "$$\n",
        "B = \\begin{bmatrix}\n",
        "10 & -10 & 10\\\\\n",
        "10 & -10 & 10\\\\\\\n",
        "... & ... & ...\\\\\n",
        "10 & -10 & 10\n",
        "\\end{bmatrix}.\n",
        "$$\n",
        "\n",
        "Вычислите матрицу $B^T B$ (размерности 3х3)."
      ],
      "metadata": {
        "id": "RJ345qY6Qsbx"
      }
    },
    {
      "cell_type": "code",
      "source": [
        "B <- matrix(c(10, -10, 10), nrow = 15, ncol = 3, byrow = T)\n",
        "t(B) %*% B"
      ],
      "metadata": {
        "id": "Icdy_uQ0RP8b",
        "colab": {
          "base_uri": "https://localhost:8080/",
          "height": 146
        },
        "outputId": "07e724ec-e8fb-4dde-8fa9-7eadd5df87ad"
      },
      "execution_count": null,
      "outputs": [
        {
          "output_type": "display_data",
          "data": {
            "text/html": [
              "<table class=\"dataframe\">\n",
              "<caption>A matrix: 3 × 3 of type dbl</caption>\n",
              "<tbody>\n",
              "\t<tr><td> 1500</td><td>-1500</td><td> 1500</td></tr>\n",
              "\t<tr><td>-1500</td><td> 1500</td><td>-1500</td></tr>\n",
              "\t<tr><td> 1500</td><td>-1500</td><td> 1500</td></tr>\n",
              "</tbody>\n",
              "</table>\n"
            ],
            "text/markdown": "\nA matrix: 3 × 3 of type dbl\n\n|  1500 | -1500 |  1500 |\n| -1500 |  1500 | -1500 |\n|  1500 | -1500 |  1500 |\n\n",
            "text/latex": "A matrix: 3 × 3 of type dbl\n\\begin{tabular}{lll}\n\t  1500 & -1500 &  1500\\\\\n\t -1500 &  1500 & -1500\\\\\n\t  1500 & -1500 &  1500\\\\\n\\end{tabular}\n",
            "text/plain": [
              "     [,1]  [,2]  [,3] \n",
              "[1,]  1500 -1500  1500\n",
              "[2,] -1500  1500 -1500\n",
              "[3,]  1500 -1500  1500"
            ]
          },
          "metadata": {}
        }
      ]
    },
    {
      "cell_type": "markdown",
      "source": [
        "\n",
        "\n",
        "---\n",
        "\n"
      ],
      "metadata": {
        "id": "FXg7uIf_RQia"
      }
    },
    {
      "cell_type": "markdown",
      "source": [
        "** *Курсив*Задание 3.**\n",
        "Создайте матрицу $E$ размерности 6х6, все элементы которой равны нулю. Изучите, что возвращают функции row() и col() применительно к матрице $E$. С помощью этих функций создайте следующие матрицы размерности 6х6:\n",
        "\n",
        "(a)\n",
        "$\\begin{bmatrix}\n",
        "0 & 1 & 0 & 0 & 0 & 0\\\\\n",
        "1 & 0 & 1 & 0 & 0 & 0\\\\\n",
        "0 & 1 & 0 & 1 & 0 & 0\\\\\n",
        "0 & 0 & 1 & 0 & 1 & 0\\\\\n",
        "0 & 0 & 0 & 1 & 0 & 1\\\\\n",
        "0 & 0 & 0 & 0 & 1 & 0\n",
        "\\end{bmatrix}$,\n",
        "(b)\n",
        "$\\begin{bmatrix}\n",
        "1 & 0 & 1 & 0 & 0 & 0\\\\\n",
        "0 & 1 & 0 & 1 & 0 & 0\\\\\n",
        "1 & 0 & 1 & 0 & 1 & 0\\\\\n",
        "0 & 1 & 0 & 1 & 0 & 1\\\\\n",
        "0 & 0 & 1 & 0 & 1 & 0\\\\\n",
        "0 & 0 & 0 & 1 & 0 & 1\n",
        "\\end{bmatrix}$,\n",
        "(c)\n",
        "$\\begin{bmatrix}\n",
        "0 & 0 & 0 & 1 & 0 & 1\\\\\n",
        "0 & 0 & 1 & 0 & 1 & 0\\\\\n",
        "0 & 1 & 0 & 1 & 0 & 1\\\\\n",
        "1 & 0 & 1 & 0 & 1 & 0\\\\\n",
        "0 & 1 & 0 & 1 & 0 & 0\\\\\n",
        "1 & 0 & 1 & 0 & 0 & 0\n",
        "\\end{bmatrix}$.\n"
      ],
      "metadata": {
        "id": "Io9o_hOiRSoy"
      }
    },
    {
      "cell_type": "code",
      "source": [
        "E <- matrix(0, nrow = 6, ncol = 6)\n",
        "E\n",
        "print(\"a)\")\n",
        "a <- (row(E) == col(E) - 1) | (row(E) == col(E) + 1)\n",
        "res <- a\n",
        "res[] <- as.integer(a)\n",
        "res\n",
        "print(\"b)\")\n",
        "b <- (row(E) == col(E)) | row(E) == col(E) - 2 | row(E) == col(E) + 2\n",
        "res <- b\n",
        "res[] <- as.integer(b)\n",
        "res\n",
        "print(\"c)\")\n",
        "E[row(E) + col(E) == 7] <- 1\n",
        "E[row(E) + col(E) == 5] <- 1\n",
        "E[row(E) + col(E) == 9] <- 1\n",
        "E"
      ],
      "metadata": {
        "id": "6_mC18lnSCVX",
        "colab": {
          "base_uri": "https://localhost:8080/",
          "height": 960
        },
        "outputId": "be540d20-90c1-4aff-f31e-f002d5eb7cb5"
      },
      "execution_count": null,
      "outputs": [
        {
          "output_type": "display_data",
          "data": {
            "text/html": [
              "<table class=\"dataframe\">\n",
              "<caption>A matrix: 6 × 6 of type dbl</caption>\n",
              "<tbody>\n",
              "\t<tr><td>0</td><td>0</td><td>0</td><td>0</td><td>0</td><td>0</td></tr>\n",
              "\t<tr><td>0</td><td>0</td><td>0</td><td>0</td><td>0</td><td>0</td></tr>\n",
              "\t<tr><td>0</td><td>0</td><td>0</td><td>0</td><td>0</td><td>0</td></tr>\n",
              "\t<tr><td>0</td><td>0</td><td>0</td><td>0</td><td>0</td><td>0</td></tr>\n",
              "\t<tr><td>0</td><td>0</td><td>0</td><td>0</td><td>0</td><td>0</td></tr>\n",
              "\t<tr><td>0</td><td>0</td><td>0</td><td>0</td><td>0</td><td>0</td></tr>\n",
              "</tbody>\n",
              "</table>\n"
            ],
            "text/markdown": "\nA matrix: 6 × 6 of type dbl\n\n| 0 | 0 | 0 | 0 | 0 | 0 |\n| 0 | 0 | 0 | 0 | 0 | 0 |\n| 0 | 0 | 0 | 0 | 0 | 0 |\n| 0 | 0 | 0 | 0 | 0 | 0 |\n| 0 | 0 | 0 | 0 | 0 | 0 |\n| 0 | 0 | 0 | 0 | 0 | 0 |\n\n",
            "text/latex": "A matrix: 6 × 6 of type dbl\n\\begin{tabular}{llllll}\n\t 0 & 0 & 0 & 0 & 0 & 0\\\\\n\t 0 & 0 & 0 & 0 & 0 & 0\\\\\n\t 0 & 0 & 0 & 0 & 0 & 0\\\\\n\t 0 & 0 & 0 & 0 & 0 & 0\\\\\n\t 0 & 0 & 0 & 0 & 0 & 0\\\\\n\t 0 & 0 & 0 & 0 & 0 & 0\\\\\n\\end{tabular}\n",
            "text/plain": [
              "     [,1] [,2] [,3] [,4] [,5] [,6]\n",
              "[1,] 0    0    0    0    0    0   \n",
              "[2,] 0    0    0    0    0    0   \n",
              "[3,] 0    0    0    0    0    0   \n",
              "[4,] 0    0    0    0    0    0   \n",
              "[5,] 0    0    0    0    0    0   \n",
              "[6,] 0    0    0    0    0    0   "
            ]
          },
          "metadata": {}
        },
        {
          "output_type": "stream",
          "name": "stdout",
          "text": [
            "[1] \"a)\"\n"
          ]
        },
        {
          "output_type": "display_data",
          "data": {
            "text/html": [
              "<table class=\"dataframe\">\n",
              "<caption>A matrix: 6 × 6 of type int</caption>\n",
              "<tbody>\n",
              "\t<tr><td>0</td><td>1</td><td>0</td><td>0</td><td>0</td><td>0</td></tr>\n",
              "\t<tr><td>1</td><td>0</td><td>1</td><td>0</td><td>0</td><td>0</td></tr>\n",
              "\t<tr><td>0</td><td>1</td><td>0</td><td>1</td><td>0</td><td>0</td></tr>\n",
              "\t<tr><td>0</td><td>0</td><td>1</td><td>0</td><td>1</td><td>0</td></tr>\n",
              "\t<tr><td>0</td><td>0</td><td>0</td><td>1</td><td>0</td><td>1</td></tr>\n",
              "\t<tr><td>0</td><td>0</td><td>0</td><td>0</td><td>1</td><td>0</td></tr>\n",
              "</tbody>\n",
              "</table>\n"
            ],
            "text/markdown": "\nA matrix: 6 × 6 of type int\n\n| 0 | 1 | 0 | 0 | 0 | 0 |\n| 1 | 0 | 1 | 0 | 0 | 0 |\n| 0 | 1 | 0 | 1 | 0 | 0 |\n| 0 | 0 | 1 | 0 | 1 | 0 |\n| 0 | 0 | 0 | 1 | 0 | 1 |\n| 0 | 0 | 0 | 0 | 1 | 0 |\n\n",
            "text/latex": "A matrix: 6 × 6 of type int\n\\begin{tabular}{llllll}\n\t 0 & 1 & 0 & 0 & 0 & 0\\\\\n\t 1 & 0 & 1 & 0 & 0 & 0\\\\\n\t 0 & 1 & 0 & 1 & 0 & 0\\\\\n\t 0 & 0 & 1 & 0 & 1 & 0\\\\\n\t 0 & 0 & 0 & 1 & 0 & 1\\\\\n\t 0 & 0 & 0 & 0 & 1 & 0\\\\\n\\end{tabular}\n",
            "text/plain": [
              "     [,1] [,2] [,3] [,4] [,5] [,6]\n",
              "[1,] 0    1    0    0    0    0   \n",
              "[2,] 1    0    1    0    0    0   \n",
              "[3,] 0    1    0    1    0    0   \n",
              "[4,] 0    0    1    0    1    0   \n",
              "[5,] 0    0    0    1    0    1   \n",
              "[6,] 0    0    0    0    1    0   "
            ]
          },
          "metadata": {}
        },
        {
          "output_type": "stream",
          "name": "stdout",
          "text": [
            "[1] \"b)\"\n"
          ]
        },
        {
          "output_type": "display_data",
          "data": {
            "text/html": [
              "<table class=\"dataframe\">\n",
              "<caption>A matrix: 6 × 6 of type int</caption>\n",
              "<tbody>\n",
              "\t<tr><td>1</td><td>0</td><td>1</td><td>0</td><td>0</td><td>0</td></tr>\n",
              "\t<tr><td>0</td><td>1</td><td>0</td><td>1</td><td>0</td><td>0</td></tr>\n",
              "\t<tr><td>1</td><td>0</td><td>1</td><td>0</td><td>1</td><td>0</td></tr>\n",
              "\t<tr><td>0</td><td>1</td><td>0</td><td>1</td><td>0</td><td>1</td></tr>\n",
              "\t<tr><td>0</td><td>0</td><td>1</td><td>0</td><td>1</td><td>0</td></tr>\n",
              "\t<tr><td>0</td><td>0</td><td>0</td><td>1</td><td>0</td><td>1</td></tr>\n",
              "</tbody>\n",
              "</table>\n"
            ],
            "text/markdown": "\nA matrix: 6 × 6 of type int\n\n| 1 | 0 | 1 | 0 | 0 | 0 |\n| 0 | 1 | 0 | 1 | 0 | 0 |\n| 1 | 0 | 1 | 0 | 1 | 0 |\n| 0 | 1 | 0 | 1 | 0 | 1 |\n| 0 | 0 | 1 | 0 | 1 | 0 |\n| 0 | 0 | 0 | 1 | 0 | 1 |\n\n",
            "text/latex": "A matrix: 6 × 6 of type int\n\\begin{tabular}{llllll}\n\t 1 & 0 & 1 & 0 & 0 & 0\\\\\n\t 0 & 1 & 0 & 1 & 0 & 0\\\\\n\t 1 & 0 & 1 & 0 & 1 & 0\\\\\n\t 0 & 1 & 0 & 1 & 0 & 1\\\\\n\t 0 & 0 & 1 & 0 & 1 & 0\\\\\n\t 0 & 0 & 0 & 1 & 0 & 1\\\\\n\\end{tabular}\n",
            "text/plain": [
              "     [,1] [,2] [,3] [,4] [,5] [,6]\n",
              "[1,] 1    0    1    0    0    0   \n",
              "[2,] 0    1    0    1    0    0   \n",
              "[3,] 1    0    1    0    1    0   \n",
              "[4,] 0    1    0    1    0    1   \n",
              "[5,] 0    0    1    0    1    0   \n",
              "[6,] 0    0    0    1    0    1   "
            ]
          },
          "metadata": {}
        },
        {
          "output_type": "stream",
          "name": "stdout",
          "text": [
            "[1] \"c)\"\n"
          ]
        },
        {
          "output_type": "display_data",
          "data": {
            "text/html": [
              "<table class=\"dataframe\">\n",
              "<caption>A matrix: 6 × 6 of type dbl</caption>\n",
              "<tbody>\n",
              "\t<tr><td>0</td><td>0</td><td>0</td><td>1</td><td>0</td><td>1</td></tr>\n",
              "\t<tr><td>0</td><td>0</td><td>1</td><td>0</td><td>1</td><td>0</td></tr>\n",
              "\t<tr><td>0</td><td>1</td><td>0</td><td>1</td><td>0</td><td>1</td></tr>\n",
              "\t<tr><td>1</td><td>0</td><td>1</td><td>0</td><td>1</td><td>0</td></tr>\n",
              "\t<tr><td>0</td><td>1</td><td>0</td><td>1</td><td>0</td><td>0</td></tr>\n",
              "\t<tr><td>1</td><td>0</td><td>1</td><td>0</td><td>0</td><td>0</td></tr>\n",
              "</tbody>\n",
              "</table>\n"
            ],
            "text/markdown": "\nA matrix: 6 × 6 of type dbl\n\n| 0 | 0 | 0 | 1 | 0 | 1 |\n| 0 | 0 | 1 | 0 | 1 | 0 |\n| 0 | 1 | 0 | 1 | 0 | 1 |\n| 1 | 0 | 1 | 0 | 1 | 0 |\n| 0 | 1 | 0 | 1 | 0 | 0 |\n| 1 | 0 | 1 | 0 | 0 | 0 |\n\n",
            "text/latex": "A matrix: 6 × 6 of type dbl\n\\begin{tabular}{llllll}\n\t 0 & 0 & 0 & 1 & 0 & 1\\\\\n\t 0 & 0 & 1 & 0 & 1 & 0\\\\\n\t 0 & 1 & 0 & 1 & 0 & 1\\\\\n\t 1 & 0 & 1 & 0 & 1 & 0\\\\\n\t 0 & 1 & 0 & 1 & 0 & 0\\\\\n\t 1 & 0 & 1 & 0 & 0 & 0\\\\\n\\end{tabular}\n",
            "text/plain": [
              "     [,1] [,2] [,3] [,4] [,5] [,6]\n",
              "[1,] 0    0    0    1    0    1   \n",
              "[2,] 0    0    1    0    1    0   \n",
              "[3,] 0    1    0    1    0    1   \n",
              "[4,] 1    0    1    0    1    0   \n",
              "[5,] 0    1    0    1    0    0   \n",
              "[6,] 1    0    1    0    0    0   "
            ]
          },
          "metadata": {}
        }
      ]
    },
    {
      "cell_type": "markdown",
      "source": [
        "\n",
        "\n",
        "---\n",
        "\n"
      ],
      "metadata": {
        "id": "w102HZnSSCvd"
      }
    },
    {
      "cell_type": "markdown",
      "source": [
        "**Задание 4.**\n",
        "Изучите справку по команде outer(). Создайте матрицы следующей структуры:\n",
        "\n",
        "(a) $\\begin{bmatrix}\n",
        "0 & 1 & 2 & 3 & 4\\\\\n",
        "1 & 2 & 3 & 4 & 5\\\\\n",
        "2 & 3 & 4 & 5 & 6\\\\\n",
        "3 & 4 & 5 & 6 & 7\\\\\n",
        "4 & 5 & 6 & 7 & 8\n",
        "\\end{bmatrix}$,\n",
        "(b) $\\begin{bmatrix}\n",
        "0 & 0 & 0 & 0 & 0\\\\\n",
        "1 & 1 & 1 & 1 & 1\\\\\n",
        "2 & 4 & 8 & 16 & 32\\\\\n",
        "3 & 9 & 27 & 81 & 243\\\\\n",
        "4 & 16 & 64 & 256 & 1024\n",
        "\\end{bmatrix}$.\n"
      ],
      "metadata": {
        "id": "wZThrCG7SEJc"
      }
    },
    {
      "cell_type": "code",
      "source": [
        "print(\"a)\")\n",
        "a <- outer(seq(0, 4), seq(0, 4), FUN = '+')\n",
        "a\n",
        "print(\"b)\")\n",
        "b <- outer(seq(0, 4), seq(0, 4) + 1, FUN = \"^\")\n",
        "b"
      ],
      "metadata": {
        "id": "qu1ymVnv479l",
        "colab": {
          "base_uri": "https://localhost:8080/",
          "height": 417
        },
        "outputId": "773d3db8-e4a5-417a-bb36-4a9174f3e93c"
      },
      "execution_count": null,
      "outputs": [
        {
          "output_type": "stream",
          "name": "stdout",
          "text": [
            "[1] \"a)\"\n"
          ]
        },
        {
          "output_type": "display_data",
          "data": {
            "text/html": [
              "<table class=\"dataframe\">\n",
              "<caption>A matrix: 5 × 5 of type int</caption>\n",
              "<tbody>\n",
              "\t<tr><td>0</td><td>1</td><td>2</td><td>3</td><td>4</td></tr>\n",
              "\t<tr><td>1</td><td>2</td><td>3</td><td>4</td><td>5</td></tr>\n",
              "\t<tr><td>2</td><td>3</td><td>4</td><td>5</td><td>6</td></tr>\n",
              "\t<tr><td>3</td><td>4</td><td>5</td><td>6</td><td>7</td></tr>\n",
              "\t<tr><td>4</td><td>5</td><td>6</td><td>7</td><td>8</td></tr>\n",
              "</tbody>\n",
              "</table>\n"
            ],
            "text/markdown": "\nA matrix: 5 × 5 of type int\n\n| 0 | 1 | 2 | 3 | 4 |\n| 1 | 2 | 3 | 4 | 5 |\n| 2 | 3 | 4 | 5 | 6 |\n| 3 | 4 | 5 | 6 | 7 |\n| 4 | 5 | 6 | 7 | 8 |\n\n",
            "text/latex": "A matrix: 5 × 5 of type int\n\\begin{tabular}{lllll}\n\t 0 & 1 & 2 & 3 & 4\\\\\n\t 1 & 2 & 3 & 4 & 5\\\\\n\t 2 & 3 & 4 & 5 & 6\\\\\n\t 3 & 4 & 5 & 6 & 7\\\\\n\t 4 & 5 & 6 & 7 & 8\\\\\n\\end{tabular}\n",
            "text/plain": [
              "     [,1] [,2] [,3] [,4] [,5]\n",
              "[1,] 0    1    2    3    4   \n",
              "[2,] 1    2    3    4    5   \n",
              "[3,] 2    3    4    5    6   \n",
              "[4,] 3    4    5    6    7   \n",
              "[5,] 4    5    6    7    8   "
            ]
          },
          "metadata": {}
        },
        {
          "output_type": "stream",
          "name": "stdout",
          "text": [
            "[1] \"b)\"\n"
          ]
        },
        {
          "output_type": "display_data",
          "data": {
            "text/html": [
              "<table class=\"dataframe\">\n",
              "<caption>A matrix: 5 × 5 of type dbl</caption>\n",
              "<tbody>\n",
              "\t<tr><td>0</td><td> 0</td><td> 0</td><td>  0</td><td>   0</td></tr>\n",
              "\t<tr><td>1</td><td> 1</td><td> 1</td><td>  1</td><td>   1</td></tr>\n",
              "\t<tr><td>2</td><td> 4</td><td> 8</td><td> 16</td><td>  32</td></tr>\n",
              "\t<tr><td>3</td><td> 9</td><td>27</td><td> 81</td><td> 243</td></tr>\n",
              "\t<tr><td>4</td><td>16</td><td>64</td><td>256</td><td>1024</td></tr>\n",
              "</tbody>\n",
              "</table>\n"
            ],
            "text/markdown": "\nA matrix: 5 × 5 of type dbl\n\n| 0 |  0 |  0 |   0 |    0 |\n| 1 |  1 |  1 |   1 |    1 |\n| 2 |  4 |  8 |  16 |   32 |\n| 3 |  9 | 27 |  81 |  243 |\n| 4 | 16 | 64 | 256 | 1024 |\n\n",
            "text/latex": "A matrix: 5 × 5 of type dbl\n\\begin{tabular}{lllll}\n\t 0 &  0 &  0 &   0 &    0\\\\\n\t 1 &  1 &  1 &   1 &    1\\\\\n\t 2 &  4 &  8 &  16 &   32\\\\\n\t 3 &  9 & 27 &  81 &  243\\\\\n\t 4 & 16 & 64 & 256 & 1024\\\\\n\\end{tabular}\n",
            "text/plain": [
              "     [,1] [,2] [,3] [,4] [,5]\n",
              "[1,] 0     0    0     0     0\n",
              "[2,] 1     1    1     1     1\n",
              "[3,] 2     4    8    16    32\n",
              "[4,] 3     9   27    81   243\n",
              "[5,] 4    16   64   256  1024"
            ]
          },
          "metadata": {}
        }
      ]
    },
    {
      "cell_type": "markdown",
      "source": [
        "\n",
        "\n",
        "---\n",
        "\n"
      ],
      "metadata": {
        "id": "XwmHhCJ-48aZ"
      }
    },
    {
      "cell_type": "markdown",
      "source": [
        "**Задание 5.** Создайте матрицы следующих структур. В каждом случае ваше решение должно быть легко обобщаемым на случай создания матриц большей размерности, но той же структуры (т.е. матрицы должны создаваться не просто \"впечатыванием\" каждого элемента).\n",
        "\n",
        "(a) $\\begin{bmatrix}\n",
        "0 & 1 & 2 & 3 & 4\\\\\n",
        "1 & 2 & 3 & 4 & 0\\\\\n",
        "2 & 3 & 4 & 0 & 1\\\\\n",
        "3 & 4 & 0 & 1 & 2\\\\\n",
        "4 & 0 & 1 & 2 & 3\n",
        "\\end{bmatrix}$,\n",
        "(b) $\\begin{bmatrix}\n",
        "0 & 1 & 2 & 3 & 4 & 5 & 6 & 7 & 8 & 9\\\\\n",
        "1 & 2 & 3 & 4 & 5 & 6 & 7 & 8 & 9 & 0\\\\\n",
        "... & ... & ... & ... & ... & ... & ... & ... & ... & ...\\\\\n",
        "8 & 9 & 0 & 1 & 2 & 3 & 4 & 5 & 6 & 7\\\\\n",
        "9 & 0 & 1 & 2 & 3 & 4 & 5 & 6 & 7 & 8\n",
        "\\end{bmatrix}$,\n",
        "\n",
        "(c) $\\begin{bmatrix}\n",
        "0 & 8 & 7 & 6 & 5 & 4 & 3 & 2 & 1\\\\\n",
        "1 & 0 & 8 & 7 & 6 & 5 & 4 & 3 & 2\\\\\n",
        "2 & 1 & 0 & 8 & 7 & 6 & 5 & 4 & 3\\\\\n",
        "3 & 2 & 1 & 0 & 8 & 7 & 6 & 5 & 4\\\\\n",
        "4 & 3 & 2 & 1 & 0 & 8 & 7 & 6 & 5\\\\\n",
        "5 & 4 & 3 & 2 & 1 & 0 & 8 & 7 & 6\\\\\n",
        "6 & 5 & 4 & 3 & 2 & 1 & 0 & 8 & 7\\\\\n",
        "7 & 6 & 5 & 4 & 3 & 2 & 1 & 0 & 8\\\\\n",
        "8 & 7 & 6 & 5 & 4 & 3 & 2 & 1 & 0\n",
        "\\end{bmatrix}$."
      ],
      "metadata": {
        "id": "U34FZjcB49ag"
      }
    },
    {
      "cell_type": "code",
      "source": [
        "print(\"a)\")\n",
        "n <- 5\n",
        "matrix(outer(0:(n-1), 0:(n-1), \"+\") %% n, nrow = n)\n",
        "print(\"b)\")\n",
        "n <- 10\n",
        "b <- matrix(0, n, n)\n",
        "b <- outer(0:(n-1), 0:(n-1), function(x,y) (x + y) %% n)\n",
        "b\n",
        "print(\"c)\")\n",
        "n <- 9\n",
        "c <- matrix(0, n, n)\n",
        "c <- outer(0:(n-1), 0:(n-1), function(x,y) abs(x - y) %% n)\n",
        "c"
      ],
      "metadata": {
        "id": "n0TjSquc5Hp4",
        "colab": {
          "base_uri": "https://localhost:8080/",
          "height": 891
        },
        "outputId": "f2542b2c-2125-4074-afaf-e854450dce20"
      },
      "execution_count": null,
      "outputs": [
        {
          "output_type": "stream",
          "name": "stdout",
          "text": [
            "[1] \"a)\"\n"
          ]
        },
        {
          "output_type": "display_data",
          "data": {
            "text/html": [
              "<table class=\"dataframe\">\n",
              "<caption>A matrix: 5 × 5 of type dbl</caption>\n",
              "<tbody>\n",
              "\t<tr><td>0</td><td>1</td><td>2</td><td>3</td><td>4</td></tr>\n",
              "\t<tr><td>1</td><td>2</td><td>3</td><td>4</td><td>0</td></tr>\n",
              "\t<tr><td>2</td><td>3</td><td>4</td><td>0</td><td>1</td></tr>\n",
              "\t<tr><td>3</td><td>4</td><td>0</td><td>1</td><td>2</td></tr>\n",
              "\t<tr><td>4</td><td>0</td><td>1</td><td>2</td><td>3</td></tr>\n",
              "</tbody>\n",
              "</table>\n"
            ],
            "text/markdown": "\nA matrix: 5 × 5 of type dbl\n\n| 0 | 1 | 2 | 3 | 4 |\n| 1 | 2 | 3 | 4 | 0 |\n| 2 | 3 | 4 | 0 | 1 |\n| 3 | 4 | 0 | 1 | 2 |\n| 4 | 0 | 1 | 2 | 3 |\n\n",
            "text/latex": "A matrix: 5 × 5 of type dbl\n\\begin{tabular}{lllll}\n\t 0 & 1 & 2 & 3 & 4\\\\\n\t 1 & 2 & 3 & 4 & 0\\\\\n\t 2 & 3 & 4 & 0 & 1\\\\\n\t 3 & 4 & 0 & 1 & 2\\\\\n\t 4 & 0 & 1 & 2 & 3\\\\\n\\end{tabular}\n",
            "text/plain": [
              "     [,1] [,2] [,3] [,4] [,5]\n",
              "[1,] 0    1    2    3    4   \n",
              "[2,] 1    2    3    4    0   \n",
              "[3,] 2    3    4    0    1   \n",
              "[4,] 3    4    0    1    2   \n",
              "[5,] 4    0    1    2    3   "
            ]
          },
          "metadata": {}
        },
        {
          "output_type": "stream",
          "name": "stdout",
          "text": [
            "[1] \"b)\"\n"
          ]
        },
        {
          "output_type": "display_data",
          "data": {
            "text/html": [
              "<table class=\"dataframe\">\n",
              "<caption>A matrix: 10 × 10 of type dbl</caption>\n",
              "<tbody>\n",
              "\t<tr><td>0</td><td>1</td><td>2</td><td>3</td><td>4</td><td>5</td><td>6</td><td>7</td><td>8</td><td>9</td></tr>\n",
              "\t<tr><td>1</td><td>2</td><td>3</td><td>4</td><td>5</td><td>6</td><td>7</td><td>8</td><td>9</td><td>0</td></tr>\n",
              "\t<tr><td>2</td><td>3</td><td>4</td><td>5</td><td>6</td><td>7</td><td>8</td><td>9</td><td>0</td><td>1</td></tr>\n",
              "\t<tr><td>3</td><td>4</td><td>5</td><td>6</td><td>7</td><td>8</td><td>9</td><td>0</td><td>1</td><td>2</td></tr>\n",
              "\t<tr><td>4</td><td>5</td><td>6</td><td>7</td><td>8</td><td>9</td><td>0</td><td>1</td><td>2</td><td>3</td></tr>\n",
              "\t<tr><td>5</td><td>6</td><td>7</td><td>8</td><td>9</td><td>0</td><td>1</td><td>2</td><td>3</td><td>4</td></tr>\n",
              "\t<tr><td>6</td><td>7</td><td>8</td><td>9</td><td>0</td><td>1</td><td>2</td><td>3</td><td>4</td><td>5</td></tr>\n",
              "\t<tr><td>7</td><td>8</td><td>9</td><td>0</td><td>1</td><td>2</td><td>3</td><td>4</td><td>5</td><td>6</td></tr>\n",
              "\t<tr><td>8</td><td>9</td><td>0</td><td>1</td><td>2</td><td>3</td><td>4</td><td>5</td><td>6</td><td>7</td></tr>\n",
              "\t<tr><td>9</td><td>0</td><td>1</td><td>2</td><td>3</td><td>4</td><td>5</td><td>6</td><td>7</td><td>8</td></tr>\n",
              "</tbody>\n",
              "</table>\n"
            ],
            "text/markdown": "\nA matrix: 10 × 10 of type dbl\n\n| 0 | 1 | 2 | 3 | 4 | 5 | 6 | 7 | 8 | 9 |\n| 1 | 2 | 3 | 4 | 5 | 6 | 7 | 8 | 9 | 0 |\n| 2 | 3 | 4 | 5 | 6 | 7 | 8 | 9 | 0 | 1 |\n| 3 | 4 | 5 | 6 | 7 | 8 | 9 | 0 | 1 | 2 |\n| 4 | 5 | 6 | 7 | 8 | 9 | 0 | 1 | 2 | 3 |\n| 5 | 6 | 7 | 8 | 9 | 0 | 1 | 2 | 3 | 4 |\n| 6 | 7 | 8 | 9 | 0 | 1 | 2 | 3 | 4 | 5 |\n| 7 | 8 | 9 | 0 | 1 | 2 | 3 | 4 | 5 | 6 |\n| 8 | 9 | 0 | 1 | 2 | 3 | 4 | 5 | 6 | 7 |\n| 9 | 0 | 1 | 2 | 3 | 4 | 5 | 6 | 7 | 8 |\n\n",
            "text/latex": "A matrix: 10 × 10 of type dbl\n\\begin{tabular}{llllllllll}\n\t 0 & 1 & 2 & 3 & 4 & 5 & 6 & 7 & 8 & 9\\\\\n\t 1 & 2 & 3 & 4 & 5 & 6 & 7 & 8 & 9 & 0\\\\\n\t 2 & 3 & 4 & 5 & 6 & 7 & 8 & 9 & 0 & 1\\\\\n\t 3 & 4 & 5 & 6 & 7 & 8 & 9 & 0 & 1 & 2\\\\\n\t 4 & 5 & 6 & 7 & 8 & 9 & 0 & 1 & 2 & 3\\\\\n\t 5 & 6 & 7 & 8 & 9 & 0 & 1 & 2 & 3 & 4\\\\\n\t 6 & 7 & 8 & 9 & 0 & 1 & 2 & 3 & 4 & 5\\\\\n\t 7 & 8 & 9 & 0 & 1 & 2 & 3 & 4 & 5 & 6\\\\\n\t 8 & 9 & 0 & 1 & 2 & 3 & 4 & 5 & 6 & 7\\\\\n\t 9 & 0 & 1 & 2 & 3 & 4 & 5 & 6 & 7 & 8\\\\\n\\end{tabular}\n",
            "text/plain": [
              "      [,1] [,2] [,3] [,4] [,5] [,6] [,7] [,8] [,9] [,10]\n",
              " [1,] 0    1    2    3    4    5    6    7    8    9    \n",
              " [2,] 1    2    3    4    5    6    7    8    9    0    \n",
              " [3,] 2    3    4    5    6    7    8    9    0    1    \n",
              " [4,] 3    4    5    6    7    8    9    0    1    2    \n",
              " [5,] 4    5    6    7    8    9    0    1    2    3    \n",
              " [6,] 5    6    7    8    9    0    1    2    3    4    \n",
              " [7,] 6    7    8    9    0    1    2    3    4    5    \n",
              " [8,] 7    8    9    0    1    2    3    4    5    6    \n",
              " [9,] 8    9    0    1    2    3    4    5    6    7    \n",
              "[10,] 9    0    1    2    3    4    5    6    7    8    "
            ]
          },
          "metadata": {}
        },
        {
          "output_type": "stream",
          "name": "stdout",
          "text": [
            "[1] \"c)\"\n"
          ]
        },
        {
          "output_type": "display_data",
          "data": {
            "text/html": [
              "<table class=\"dataframe\">\n",
              "<caption>A matrix: 9 × 9 of type dbl</caption>\n",
              "<tbody>\n",
              "\t<tr><td>0</td><td>1</td><td>2</td><td>3</td><td>4</td><td>5</td><td>6</td><td>7</td><td>8</td></tr>\n",
              "\t<tr><td>1</td><td>0</td><td>1</td><td>2</td><td>3</td><td>4</td><td>5</td><td>6</td><td>7</td></tr>\n",
              "\t<tr><td>2</td><td>1</td><td>0</td><td>1</td><td>2</td><td>3</td><td>4</td><td>5</td><td>6</td></tr>\n",
              "\t<tr><td>3</td><td>2</td><td>1</td><td>0</td><td>1</td><td>2</td><td>3</td><td>4</td><td>5</td></tr>\n",
              "\t<tr><td>4</td><td>3</td><td>2</td><td>1</td><td>0</td><td>1</td><td>2</td><td>3</td><td>4</td></tr>\n",
              "\t<tr><td>5</td><td>4</td><td>3</td><td>2</td><td>1</td><td>0</td><td>1</td><td>2</td><td>3</td></tr>\n",
              "\t<tr><td>6</td><td>5</td><td>4</td><td>3</td><td>2</td><td>1</td><td>0</td><td>1</td><td>2</td></tr>\n",
              "\t<tr><td>7</td><td>6</td><td>5</td><td>4</td><td>3</td><td>2</td><td>1</td><td>0</td><td>1</td></tr>\n",
              "\t<tr><td>8</td><td>7</td><td>6</td><td>5</td><td>4</td><td>3</td><td>2</td><td>1</td><td>0</td></tr>\n",
              "</tbody>\n",
              "</table>\n"
            ],
            "text/markdown": "\nA matrix: 9 × 9 of type dbl\n\n| 0 | 1 | 2 | 3 | 4 | 5 | 6 | 7 | 8 |\n| 1 | 0 | 1 | 2 | 3 | 4 | 5 | 6 | 7 |\n| 2 | 1 | 0 | 1 | 2 | 3 | 4 | 5 | 6 |\n| 3 | 2 | 1 | 0 | 1 | 2 | 3 | 4 | 5 |\n| 4 | 3 | 2 | 1 | 0 | 1 | 2 | 3 | 4 |\n| 5 | 4 | 3 | 2 | 1 | 0 | 1 | 2 | 3 |\n| 6 | 5 | 4 | 3 | 2 | 1 | 0 | 1 | 2 |\n| 7 | 6 | 5 | 4 | 3 | 2 | 1 | 0 | 1 |\n| 8 | 7 | 6 | 5 | 4 | 3 | 2 | 1 | 0 |\n\n",
            "text/latex": "A matrix: 9 × 9 of type dbl\n\\begin{tabular}{lllllllll}\n\t 0 & 1 & 2 & 3 & 4 & 5 & 6 & 7 & 8\\\\\n\t 1 & 0 & 1 & 2 & 3 & 4 & 5 & 6 & 7\\\\\n\t 2 & 1 & 0 & 1 & 2 & 3 & 4 & 5 & 6\\\\\n\t 3 & 2 & 1 & 0 & 1 & 2 & 3 & 4 & 5\\\\\n\t 4 & 3 & 2 & 1 & 0 & 1 & 2 & 3 & 4\\\\\n\t 5 & 4 & 3 & 2 & 1 & 0 & 1 & 2 & 3\\\\\n\t 6 & 5 & 4 & 3 & 2 & 1 & 0 & 1 & 2\\\\\n\t 7 & 6 & 5 & 4 & 3 & 2 & 1 & 0 & 1\\\\\n\t 8 & 7 & 6 & 5 & 4 & 3 & 2 & 1 & 0\\\\\n\\end{tabular}\n",
            "text/plain": [
              "      [,1] [,2] [,3] [,4] [,5] [,6] [,7] [,8] [,9]\n",
              " [1,] 0    1    2    3    4    5    6    7    8   \n",
              " [2,] 1    0    1    2    3    4    5    6    7   \n",
              " [3,] 2    1    0    1    2    3    4    5    6   \n",
              " [4,] 3    2    1    0    1    2    3    4    5   \n",
              " [5,] 4    3    2    1    0    1    2    3    4   \n",
              " [6,] 5    4    3    2    1    0    1    2    3   \n",
              " [7,] 6    5    4    3    2    1    0    1    2   \n",
              " [8,] 7    6    5    4    3    2    1    0    1   \n",
              " [9,] 8    7    6    5    4    3    2    1    0   "
            ]
          },
          "metadata": {}
        }
      ]
    },
    {
      "cell_type": "markdown",
      "source": [
        "\n",
        "\n",
        "---\n",
        "\n"
      ],
      "metadata": {
        "id": "n_khXwlZ5Lre"
      }
    },
    {
      "cell_type": "markdown",
      "source": [
        "**Задание 6.** Решите следующую систему линейных уравнений с 5 неизвестными:\n",
        "\n",
        "$$\n",
        "\\left\\{\n",
        "    \\begin{array}{l}\n",
        "        x_1 + 2x_2 + 3x_3 +4x_4 + 5x_5 = 7 &\\\\\n",
        "        2x_1 + x_2 + 2x_3 + 3x_4 + 4x_5 = -1\\\\\n",
        "        3x_1 + 2x_2 +x_3 + 2x_4 + 3x_5 = -3\\\\\n",
        "        4x_1 + 3x_2 + 2x_3 + x_4 + 2x_5 = 5\\\\\n",
        "        5x_1 + 4x_2 + 3x_3 + 2x_4 + x_5 = 17\n",
        "    \\end{array}\n",
        "\\right.,\n",
        "$$\n",
        "рассмотрев соответствующее матричное уравнение $Ax = y$ (см. функцию solve()). Обратите внимание на особый вид матрицы $A$. Метод, используемый для решения данной системы уравнений, должен быть легко обобщаем на случай большего числа уравнений, где матрица $A$ будет иметь такую же структуру.\n"
      ],
      "metadata": {
        "id": "TSnkEBrk5M3W"
      }
    },
    {
      "cell_type": "code",
      "source": [
        "n <- 5\n",
        "A <- matrix(0, ncol = 5, nrow = 5);\n",
        "A <- matrix(abs(row(A) - col(A)) + 1, ncol = 5, nrow = 5)\n",
        "A\n",
        "y <- c(7, -1, -3, 5, 17)\n",
        "solve(A, y)"
      ],
      "metadata": {
        "id": "OveoJMhN96FJ",
        "colab": {
          "base_uri": "https://localhost:8080/",
          "height": 226
        },
        "outputId": "804ddfbe-3141-4b10-813e-fd229c4c7eda"
      },
      "execution_count": null,
      "outputs": [
        {
          "output_type": "display_data",
          "data": {
            "text/html": [
              "<table class=\"dataframe\">\n",
              "<caption>A matrix: 5 × 5 of type dbl</caption>\n",
              "<tbody>\n",
              "\t<tr><td>1</td><td>2</td><td>3</td><td>4</td><td>5</td></tr>\n",
              "\t<tr><td>2</td><td>1</td><td>2</td><td>3</td><td>4</td></tr>\n",
              "\t<tr><td>3</td><td>2</td><td>1</td><td>2</td><td>3</td></tr>\n",
              "\t<tr><td>4</td><td>3</td><td>2</td><td>1</td><td>2</td></tr>\n",
              "\t<tr><td>5</td><td>4</td><td>3</td><td>2</td><td>1</td></tr>\n",
              "</tbody>\n",
              "</table>\n"
            ],
            "text/markdown": "\nA matrix: 5 × 5 of type dbl\n\n| 1 | 2 | 3 | 4 | 5 |\n| 2 | 1 | 2 | 3 | 4 |\n| 3 | 2 | 1 | 2 | 3 |\n| 4 | 3 | 2 | 1 | 2 |\n| 5 | 4 | 3 | 2 | 1 |\n\n",
            "text/latex": "A matrix: 5 × 5 of type dbl\n\\begin{tabular}{lllll}\n\t 1 & 2 & 3 & 4 & 5\\\\\n\t 2 & 1 & 2 & 3 & 4\\\\\n\t 3 & 2 & 1 & 2 & 3\\\\\n\t 4 & 3 & 2 & 1 & 2\\\\\n\t 5 & 4 & 3 & 2 & 1\\\\\n\\end{tabular}\n",
            "text/plain": [
              "     [,1] [,2] [,3] [,4] [,5]\n",
              "[1,] 1    2    3    4    5   \n",
              "[2,] 2    1    2    3    4   \n",
              "[3,] 3    2    1    2    3   \n",
              "[4,] 4    3    2    1    2   \n",
              "[5,] 5    4    3    2    1   "
            ]
          },
          "metadata": {}
        },
        {
          "output_type": "display_data",
          "data": {
            "text/html": [
              "<style>\n",
              ".list-inline {list-style: none; margin:0; padding: 0}\n",
              ".list-inline>li {display: inline-block}\n",
              ".list-inline>li:not(:last-child)::after {content: \"\\00b7\"; padding: 0 .5ex}\n",
              "</style>\n",
              "<ol class=list-inline><li>-2</li><li>3.00000000000001</li><li>5</li><li>2</li><li>-4</li></ol>\n"
            ],
            "text/markdown": "1. -2\n2. 3.00000000000001\n3. 5\n4. 2\n5. -4\n\n\n",
            "text/latex": "\\begin{enumerate*}\n\\item -2\n\\item 3.00000000000001\n\\item 5\n\\item 2\n\\item -4\n\\end{enumerate*}\n",
            "text/plain": [
              "[1] -2  3  5  2 -4"
            ]
          },
          "metadata": {}
        }
      ]
    },
    {
      "cell_type": "markdown",
      "source": [
        "\n",
        "\n",
        "---\n",
        "\n"
      ],
      "metadata": {
        "id": "T9mIa_DC96rZ"
      }
    },
    {
      "cell_type": "markdown",
      "source": [
        "**Задание 7.**\n",
        "Создайте матрицу $M$ размерности 6х10, элементами которой являются целые числа, выбранные случайным образом с повторениями (см. функцию sample()) из совокупности $1,2,...,10$. Перед генерацией случайной выборки обеспечьте её воспроизводимость (с помощью команды set.seed(), которая фиксирует число, служащее начальной точкой для запуска алгоритма генерации (псевдо-)случайных чисел, для того, чтобы каждый раз при использовании генератора псевдо-случайных чисел получать идентичные последовательности чисел). Например, задайте set.seed(75).\n",
        "\n",
        "(a) Найдите число элементов в каждой строке матрицы $M$, которые больше 4.\n",
        "\n",
        "(b) В каких строках матрицы $M$ число 7 встречается ровно 2 раза?\n",
        "\n",
        "(c) Найдите все пары столбцов матрицы $M$, сумма элементов которых больше 75. Ответом должна быть матрица с двумя столбцами, строки которой интерпретируются как пары номеров столбцов исходной матрицы $M$. Например, строка (1, 2) полученной матрицы означает, что сумма элементов по столбцам 1 и 2 матрицы $M$ больше 75. Полученная матрица вполне может содержать повторения пар (например, (1, 2) и (2, 1) и (2, 2).)  Исправьте решение, чтобы результат не содержал повторов.\n"
      ],
      "metadata": {
        "id": "LdwS_Dhh97r3"
      }
    },
    {
      "cell_type": "code",
      "source": [],
      "metadata": {
        "id": "HU-j8HuQHI6L"
      },
      "execution_count": null,
      "outputs": []
    },
    {
      "cell_type": "markdown",
      "source": [
        "\n",
        "\n",
        "---\n",
        "\n"
      ],
      "metadata": {
        "id": "q4MgPOuHHJRm"
      }
    },
    {
      "cell_type": "markdown",
      "source": [
        "**Задание 8.** Вычислите:\n",
        "\n",
        "(a) $\\sum\\limits_{i=1}^{20}\\sum\\limits_{j=1}^5 \\frac{i^4}{(3+j)}$,\n",
        "(b) $\\sum\\limits_{i=1}^{20}\\sum\\limits_{j=1}^5 \\frac{i^4}{(3+ij)}$."
      ],
      "metadata": {
        "id": "B0FTll5pHLwi"
      }
    },
    {
      "cell_type": "code",
      "source": [
        "print(\"a)\")\n",
        "a <- sum(sapply(1:20, function(i) {\n",
        "  sum(i^4 / (3 + 1:5))\n",
        "}))\n",
        "a\n",
        "print(\"b)\")\n",
        "b <- sum(sapply(1:20, function(i) {\n",
        "  sum(i^4 / (3 + i * 1:5))\n",
        "}))\n",
        "b"
      ],
      "metadata": {
        "id": "JQeETuEkLG99",
        "colab": {
          "base_uri": "https://localhost:8080/",
          "height": 86
        },
        "outputId": "52d527c2-5728-4b64-fd7f-9682e709069d"
      },
      "execution_count": null,
      "outputs": [
        {
          "output_type": "stream",
          "name": "stdout",
          "text": [
            "[1] \"a)\"\n"
          ]
        },
        {
          "output_type": "display_data",
          "data": {
            "text/html": [
              "639215.283333333"
            ],
            "text/markdown": "639215.283333333",
            "text/latex": "639215.283333333",
            "text/plain": [
              "[1] 639215.3"
            ]
          },
          "metadata": {}
        },
        {
          "output_type": "stream",
          "name": "stdout",
          "text": [
            "[1] \"b)\"\n"
          ]
        },
        {
          "output_type": "display_data",
          "data": {
            "text/html": [
              "89912.0214609714"
            ],
            "text/markdown": "89912.0214609714",
            "text/latex": "89912.0214609714",
            "text/plain": [
              "[1] 89912.02"
            ]
          },
          "metadata": {}
        }
      ]
    }
  ]
}